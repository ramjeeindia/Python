{
 "cells": [
  {
   "cell_type": "markdown",
   "metadata": {},
   "source": [
    "# For Loop :-"
   ]
  },
  {
   "cell_type": "code",
   "execution_count": 7,
   "metadata": {},
   "outputs": [
    {
     "name": "stdout",
     "output_type": "stream",
     "text": [
      "1 2 3 4 5 6 7 8 9 10 "
     ]
    }
   ],
   "source": [
    "# 1.Write a Python program to print numbers from 1 to 10 using a for loop.\n",
    "\n",
    "# using range function to define number from 1 to 10 as range(1,11)\n",
    "for i in range(1,11):\n",
    "    # multiple items on the same line without moving to the next line using end=\" \"\n",
    "    print(i,end=\" \")"
   ]
  },
  {
   "cell_type": "markdown",
   "metadata": {},
   "source": [
    "### 2.Explain the difference between a for loop and a while loop in Python.\n",
    "\n",
    "In Python, both for loops and while loops are used for iteration.\n",
    "\n",
    "For Loop : A for loop is used to iterate over a sequence of items. The syntax for a for loop is as follows:\n",
    "for item in sequence:\n",
    "    # code to be executed for each item in the sequenc\n",
    "example -<!-- \n",
    "my_list = [10 , 20, 30, 40, 50]\n",
    "\n",
    "for item in my_list:\n",
    "    print(it -->em)\n",
    "\n",
    "while loopA while loop is used to execute a block of code repeatedly until a certain condition is met. The syntax for a while loop is as follows:\n",
    "\n",
    "while condition:\n",
    "    # code to be executed\n",
    "example -\n",
    "print the numbers from 1 to<!--  10:\n",
    " = 1\n",
    "\n",
    "while i <= 10:\n",
    "    print -->( += 1\n",
    "'''\n",
    " : e"
   ]
  },
  {
   "cell_type": "code",
   "execution_count": 15,
   "metadata": {},
   "outputs": [
    {
     "name": "stdout",
     "output_type": "stream",
     "text": [
      "5050\n"
     ]
    }
   ],
   "source": [
    "# 3.Write a Python program to calculate the sum of all numbers from 1 to 100 using a for loop.\n",
    "\n",
    "# define base sum\n",
    "sum=0\n",
    "# define range from 1 to 100 as range (1,101)\n",
    "for i in range(1,101):\n",
    "    #loop as 1+1=2 then 2+2=4 then 4+3 next next .... \n",
    "    sum = sum+i\n",
    "# print final result \n",
    "print(sum)"
   ]
  },
  {
   "cell_type": "code",
   "execution_count": 43,
   "metadata": {},
   "outputs": [
    {
     "name": "stdout",
     "output_type": "stream",
     "text": [
      "2 4 6 4 5 2 4 "
     ]
    }
   ],
   "source": [
    "# 4.How do you iterate through a list using a for loop in Python?\n",
    "\n",
    "# Define a list of numbers\n",
    "list = [2, 4, 6, 4, 5, 2, 4]\n",
    "\n",
    "# Iterate through the list using a for loop\n",
    "for i in list:\n",
    "    # Print the current element 'i' with a space as the separator\n",
    "    print(i, end=\" \")\n",
    "\n",
    "# This loop will print each element in the list, separated by spaces.\n"
   ]
  },
  {
   "cell_type": "code",
   "execution_count": 44,
   "metadata": {},
   "outputs": [
    {
     "name": "stdout",
     "output_type": "stream",
     "text": [
      "7680\n"
     ]
    }
   ],
   "source": [
    "# 5.Write a Python program to find the product of all elements in a list using a for loop.\n",
    "\n",
    "# Define a list of numbers\n",
    "list = [2, 4, 6, 4, 5, 2, 4]\n",
    "\n",
    "# Initialize a variable to store the product\n",
    "product = 1\n",
    "\n",
    "# Iterate through the list using a for loop\n",
    "for i in list:\n",
    "    # Multiply the current element 'i' with the cumulative product and update 'product'\n",
    "    product = i * product\n",
    "\n",
    "# Print the final product\n",
    "print(product)\n"
   ]
  },
  {
   "cell_type": "code",
   "execution_count": 9,
   "metadata": {},
   "outputs": [
    {
     "name": "stdout",
     "output_type": "stream",
     "text": [
      "2 4 6 8 10 12 14 16 18 20 "
     ]
    }
   ],
   "source": [
    "# 6.Create a Python program that prints all even numbers from 1 to 20 using a for loop.\n",
    "\n",
    "# define the range upto 20\n",
    "for num in range(1,21):\n",
    "    # define the menthod to get even nos\n",
    "    if num % 2 == 0:\n",
    "        print(num, end=\" \")\n"
   ]
  },
  {
   "cell_type": "code",
   "execution_count": 13,
   "metadata": {},
   "outputs": [
    {
     "name": "stdout",
     "output_type": "stream",
     "text": [
      "The factorial of 5 is : 120\n"
     ]
    }
   ],
   "source": [
    "# 7.Write a Python program that calculates the factorial of a number using a for loop.\n",
    "\n",
    "# Initialize the value of n (for which you want to calculate the factorial)\n",
    "n = 5\n",
    "\n",
    "# Initialize a variable to store the factorial, starting with 1\n",
    "fact = 1\n",
    "\n",
    "# Use a for loop to iterate from 1 to n (inclusive)\n",
    "for i in range(1, n + 1):\n",
    "    # Multiply the current value of fact by the loop variable i\n",
    "    fact = fact * i\n",
    "\n",
    "# Print the result, which is the factorial of n\n",
    "print(f\"The factorial of {n} is : {fact}\")\n"
   ]
  },
  {
   "cell_type": "code",
   "execution_count": 15,
   "metadata": {},
   "outputs": [
    {
     "name": "stdout",
     "output_type": "stream",
     "text": [
      "r\n",
      "a\n",
      "m\n",
      "j\n",
      "e\n",
      "e\n"
     ]
    }
   ],
   "source": [
    "# 8.How can you iterate through the characters of a string using a for loop in Python?\n",
    "\n",
    "# define a string \n",
    "\n",
    "str = \"ramjee\"\n",
    "# iterate the each character \n",
    "for i in str:\n",
    "    print(i)"
   ]
  },
  {
   "cell_type": "code",
   "execution_count": 20,
   "metadata": {},
   "outputs": [
    {
     "name": "stdout",
     "output_type": "stream",
     "text": [
      "100\n"
     ]
    }
   ],
   "source": [
    "# 9.Write a Python program to find the largest number in a list using a for loop.\n",
    "\n",
    "list_num= [34,87,45,76,80,100,40]\n",
    "# Initialize a variable to store the largest number\n",
    "largest = list_num[0]\n",
    "\n",
    "for i in list_num:\n",
    "    # Compare the current number with the current largest\n",
    "    if i > largest:\n",
    "        largest=i\n",
    "print(largest)\n"
   ]
  },
  {
   "cell_type": "code",
   "execution_count": 21,
   "metadata": {},
   "outputs": [
    {
     "name": "stdout",
     "output_type": "stream",
     "text": [
      "Fibonacci sequence up to 10 terms: [0, 1, 1, 2, 3, 5, 8, 13, 21, 34]\n"
     ]
    }
   ],
   "source": [
    "# 10.Create a Python program that prints the Fibonacci sequence up to a specified limit using a for loop.\n",
    "\n",
    "\n",
    "limit = 10  \n",
    "fibonacci = [0, 1]\n",
    "for i in range(2, limit):\n",
    "    next_num = fibonacci[i-1] + fibonacci[i-2]\n",
    "    fibonacci.append(next_num)\n",
    "print(\"Fibonacci sequence up to\", limit, \"terms:\", fibonacci)"
   ]
  },
  {
   "cell_type": "code",
   "execution_count": 25,
   "metadata": {},
   "outputs": [
    {
     "name": "stdout",
     "output_type": "stream",
     "text": [
      "Number of vowels in the string: 2\n"
     ]
    }
   ],
   "source": [
    "# 11.Write a Python program to count the number of vowels in a given string using a for loop.\n",
    "\n",
    "input_str = input(\"Enter a string: \")\n",
    "input_str = input_str.lower()\n",
    "vowels = [\"a\", \"e\", \"i\", \"o\", \"u\"]\n",
    "count = 0\n",
    "\n",
    "for char in input_str:\n",
    "    if char in vowels:\n",
    "        count = count + 1\n",
    "\n",
    "print(\"Number of vowels in the string:\", count)\n"
   ]
  },
  {
   "cell_type": "code",
   "execution_count": 29,
   "metadata": {},
   "outputs": [
    {
     "name": "stdout",
     "output_type": "stream",
     "text": [
      "Multiplication of 8 * 1 is : 8\n",
      "Multiplication of 8 * 2 is : 16\n",
      "Multiplication of 8 * 3 is : 24\n",
      "Multiplication of 8 * 4 is : 32\n",
      "Multiplication of 8 * 5 is : 40\n",
      "Multiplication of 8 * 6 is : 48\n",
      "Multiplication of 8 * 7 is : 56\n",
      "Multiplication of 8 * 8 is : 64\n",
      "Multiplication of 8 * 9 is : 72\n",
      "Multiplication of 8 * 10 is : 80\n"
     ]
    }
   ],
   "source": [
    "# 12.Create a Python program that generates a multiplication table for a given number using a for loop.\n",
    "\n",
    "num = 8\n",
    "\n",
    "for i in range(1,11):\n",
    "    multiply = num * i\n",
    "    print (f'Multiplication of {num} * {i} is :',multiply)"
   ]
  },
  {
   "cell_type": "code",
   "execution_count": 35,
   "metadata": {},
   "outputs": [
    {
     "name": "stdout",
     "output_type": "stream",
     "text": [
      "[50, 40, 30, 20, 10]\n"
     ]
    }
   ],
   "source": [
    "# 13.Write a Python program to reverse a list using a for loop.\n",
    "\n",
    "list = [10,20,30,40,50]\n",
    "\n",
    "reversed_list = []\n",
    "\n",
    "for i in reversed(list):\n",
    "    reversed_list.append(i)\n",
    "print(reversed_list)"
   ]
  },
  {
   "cell_type": "code",
   "execution_count": 42,
   "metadata": {},
   "outputs": [
    {
     "name": "stdout",
     "output_type": "stream",
     "text": [
      "Common Element in [10, 14, 98, 30, 40, 80] and [70, 54, 98, 130, 400, 14] is : [14, 98]\n"
     ]
    }
   ],
   "source": [
    "# 14.Write a Python program to find the common elements between two lists using a for loop.\n",
    "\n",
    "list1 = [10,14,98,30,40,80]\n",
    "list2 = [70,54,98,130,400,14]\n",
    "\n",
    "common_ele = []\n",
    "\n",
    "for i in list1:\n",
    "    if i in list2:\n",
    "        common_ele.append(i)\n",
    "print(f\"Common Element in {list1} and {list2} is :\",common_ele)"
   ]
  },
  {
   "cell_type": "code",
   "execution_count": 48,
   "metadata": {},
   "outputs": [
    {
     "name": "stdout",
     "output_type": "stream",
     "text": [
      "Keys: name Values: ramjee\n",
      "Keys: age Values: 37\n",
      "Keys: class Values: ['Web Dev', 'Data Science']\n"
     ]
    }
   ],
   "source": [
    "# 15.Explain how to use a for loop to iterate through the keys and values of a dictionary in Python.\n",
    "\n",
    "my_dict = {\"name\": \"ramjee\", \"age\": \"37\", \"class\": [\"Web Dev\", \"Data Science\"]}\n",
    "for keys, values in my_dict.items():\n",
    "\n",
    "    print(\"Keys:\", keys,\"Values:\", values)\n",
    "\n"
   ]
  },
  {
   "cell_type": "code",
   "execution_count": 51,
   "metadata": {},
   "outputs": [
    {
     "name": "stdout",
     "output_type": "stream",
     "text": [
      "6\n"
     ]
    }
   ],
   "source": [
    "# 16.Write a Python program to find the GCD (Greatest Common Divisor) of two numbers using a for loop.\n",
    "\n",
    "num1= 36\n",
    "num2= 12\n",
    "\n",
    "gcd = 1\n",
    "\n",
    "for i in range(1, min(num1, num2)):\n",
    "    if num1 % i ==0 and num2 % i ==0:\n",
    "        gcd =i\n",
    "print(gcd)"
   ]
  },
  {
   "cell_type": "code",
   "execution_count": 3,
   "metadata": {},
   "outputs": [
    {
     "name": "stdout",
     "output_type": "stream",
     "text": [
      "The String is palindrome\n"
     ]
    }
   ],
   "source": [
    "# 17.Create a Python program that checks if a string is a palindrome using a for loop.\n",
    "\n",
    "x = \"malayalam\"\n",
    " \n",
    "w = \"\"\n",
    "for i in x:\n",
    "    w = i + w\n",
    " \n",
    "if (x == w):\n",
    "    print(\"The String is palindrome\")\n",
    "else:\n",
    "    print(\"The String is not palindrome\")\n",
    "\n"
   ]
  },
  {
   "cell_type": "code",
   "execution_count": 7,
   "metadata": {},
   "outputs": [
    {
     "name": "stdout",
     "output_type": "stream",
     "text": [
      "[1, 2, 4, 5, 3]\n"
     ]
    }
   ],
   "source": [
    "# 18.Write a Python program to remove duplicates from a list using a for loop.\n",
    "\n",
    "l18 =[1,2,2,4,5,4,3,2,1]\n",
    "\n",
    "unique_list = []\n",
    "\n",
    "for duplicate in l18:\n",
    "    if duplicate not in unique_list:\n",
    "        unique_list.append(duplicate)\n",
    "print(unique_list)\n"
   ]
  },
  {
   "cell_type": "code",
   "execution_count": 1,
   "metadata": {},
   "outputs": [
    {
     "name": "stdout",
     "output_type": "stream",
     "text": [
      "Number of words: 5\n"
     ]
    }
   ],
   "source": [
    "# 19.Create a Python program that counts the number of words in a sentence using a for loop.\n",
    "\n",
    "sentence = \"This is a sample sentence.\"  \n",
    "words = sentence.split()\n",
    "word_count = len(words)\n",
    "print(\"Number of words:\", word_count)\n",
    "\n"
   ]
  },
  {
   "cell_type": "code",
   "execution_count": 2,
   "metadata": {},
   "outputs": [
    {
     "name": "stdout",
     "output_type": "stream",
     "text": [
      "Sum of odd numbers from 1 to 50: 625\n"
     ]
    }
   ],
   "source": [
    "# 20.Write a Python program to find the sum of all odd numbers from 1 to 50 using a for loop.\n",
    "\n",
    "sum_odd = 0\n",
    "\n",
    "for num in range(1, 51):\n",
    "    if num % 2 != 0:\n",
    "        sum_odd += num\n",
    "\n",
    "print(\"Sum of odd numbers from 1 to 50:\", sum_odd)\n"
   ]
  },
  {
   "cell_type": "code",
   "execution_count": 3,
   "metadata": {},
   "outputs": [
    {
     "name": "stdout",
     "output_type": "stream",
     "text": [
      "2024 is a leap year.\n"
     ]
    }
   ],
   "source": [
    "# 21.Write a Python program that checks if a given year is a leap year using a for loop.\n",
    "\n",
    "year = 2024  \n",
    "\n",
    "if (year % 4 == 0 and year % 100 != 0) or (year % 400 == 0):\n",
    "    print(f\"{year} is a leap year.\")\n",
    "else:\n",
    "    print(f\"{year} is not a leap year.\")\n"
   ]
  },
  {
   "cell_type": "code",
   "execution_count": 4,
   "metadata": {},
   "outputs": [
    {
     "name": "stdout",
     "output_type": "stream",
     "text": [
      "Square root: 5.000000000016778\n"
     ]
    }
   ],
   "source": [
    "# 22.Create a Python program that calculates the square root of a number using a for loop.\n",
    "\n",
    "num = 25.0  \n",
    "guess = num / 2.0  \n",
    "tolerance = 0.0001  \n",
    "\n",
    "while abs(guess * guess - num) > tolerance:\n",
    "    guess = (guess + num / guess) / 2.0\n",
    "\n",
    "print(\"Square root:\", guess)\n"
   ]
  },
  {
   "cell_type": "code",
   "execution_count": 5,
   "metadata": {},
   "outputs": [
    {
     "name": "stdout",
     "output_type": "stream",
     "text": [
      "LCM: 36\n"
     ]
    }
   ],
   "source": [
    "# 23.Write a Python program to find the LCM (Least Common Multiple) of two numbers using a for loop.\n",
    "\n",
    "import math\n",
    "\n",
    "num1 = 12  \n",
    "num2 = 18  \n",
    "\n",
    "lcm = (num1 * num2) // math.gcd(num1, num2)\n",
    "print(\"LCM:\", lcm)\n",
    "\n"
   ]
  },
  {
   "cell_type": "markdown",
   "metadata": {},
   "source": [
    "# If else :\n"
   ]
  },
  {
   "cell_type": "code",
   "execution_count": 6,
   "metadata": {},
   "outputs": [
    {
     "name": "stdout",
     "output_type": "stream",
     "text": [
      "Enter a number:  56\n"
     ]
    },
    {
     "name": "stdout",
     "output_type": "stream",
     "text": [
      "Positive number\n"
     ]
    }
   ],
   "source": [
    "# 1.Write a Python program to check if a number is positive, negative, or zero using an if-else statement.\n",
    "\n",
    "num = float(input(\"Enter a number: \"))\n",
    "\n",
    "if num > 0:\n",
    "    print(\"Positive number\")\n",
    "elif num < 0:\n",
    "    print(\"Negative number\")\n",
    "else:\n",
    "    print(\"Zero\")\n"
   ]
  },
  {
   "cell_type": "code",
   "execution_count": 7,
   "metadata": {},
   "outputs": [
    {
     "name": "stdout",
     "output_type": "stream",
     "text": [
      "Enter a number:  67\n"
     ]
    },
    {
     "name": "stdout",
     "output_type": "stream",
     "text": [
      "Odd number\n"
     ]
    }
   ],
   "source": [
    "# 2.Create a Python program that checks if a given number is even or odd using an if-else statement.\n",
    "num = int(input(\"Enter a number: \"))\n",
    "\n",
    "if num % 2 == 0:\n",
    "    print(\"Even number\")\n",
    "else:\n",
    "    print(\"Odd number\")"
   ]
  },
  {
   "cell_type": "code",
   "execution_count": 8,
   "metadata": {},
   "outputs": [
    {
     "name": "stdout",
     "output_type": "stream",
     "text": [
      "Enter a number:  56\n"
     ]
    },
    {
     "name": "stdout",
     "output_type": "stream",
     "text": [
      "Positive number\n",
      "Even positive number\n"
     ]
    }
   ],
   "source": [
    "# 3.How can you use nested if-else statements in Python, and provide an example?\n",
    "\n",
    "num = int(input(\"Enter a number: \"))\n",
    "\n",
    "if num > 0:\n",
    "    print(\"Positive number\")\n",
    "    if num % 2 == 0:\n",
    "        print(\"Even positive number\")\n",
    "    else:\n",
    "        print(\"Odd positive number\")\n",
    "elif num < 0:\n",
    "    print(\"Negative number\")\n",
    "else:\n",
    "    print(\"Zero\")"
   ]
  },
  {
   "cell_type": "code",
   "execution_count": 9,
   "metadata": {},
   "outputs": [
    {
     "name": "stdout",
     "output_type": "stream",
     "text": [
      "Enter the first number:  6\n",
      "Enter the second number:  9\n",
      "Enter the third number:  4\n"
     ]
    },
    {
     "name": "stdout",
     "output_type": "stream",
     "text": [
      "Largest number: 9.0\n"
     ]
    }
   ],
   "source": [
    "# 4.Write a Python program to determine the largest of three numbers using if-else.\n",
    "\n",
    "num1 = float(input(\"Enter the first number: \"))\n",
    "num2 = float(input(\"Enter the second number: \"))\n",
    "num3 = float(input(\"Enter the third number: \"))\n",
    "\n",
    "if num1 >= num2 and num1 >= num3:\n",
    "    print(\"Largest number:\", num1)\n",
    "elif num2 >= num1 and num2 >= num3:\n",
    "    print(\"Largest number:\", num2)\n",
    "else:\n",
    "    print(\"Largest number:\", num3)"
   ]
  },
  {
   "cell_type": "code",
   "execution_count": 10,
   "metadata": {},
   "outputs": [
    {
     "name": "stdout",
     "output_type": "stream",
     "text": [
      "Enter a number:  34\n"
     ]
    },
    {
     "name": "stdout",
     "output_type": "stream",
     "text": [
      "Absolute value: 34.0\n"
     ]
    }
   ],
   "source": [
    "# 5.Write a Python program that calculates the absolute value of a number using if-else.\n",
    "\n",
    "num = float(input(\"Enter a number: \"))\n",
    "\n",
    "if num >= 0:\n",
    "    print(\"Absolute value:\", num)\n",
    "else:\n",
    "    print(\"Absolute value:\", -num)"
   ]
  },
  {
   "cell_type": "code",
   "execution_count": 11,
   "metadata": {},
   "outputs": [
    {
     "name": "stdout",
     "output_type": "stream",
     "text": [
      "Enter a character:  toy\n"
     ]
    },
    {
     "name": "stdout",
     "output_type": "stream",
     "text": [
      "Consonant\n"
     ]
    }
   ],
   "source": [
    "# 6.Create a Python program that checks if a given character is a vowel or consonant using if-else.\n",
    "\n",
    "char = input(\"Enter a character: \")\n",
    "\n",
    "if char.lower() in 'aeiou':\n",
    "    print(\"Vowel\")\n",
    "else:\n",
    "    print(\"Consonant\")\n"
   ]
  },
  {
   "cell_type": "code",
   "execution_count": 12,
   "metadata": {},
   "outputs": [
    {
     "name": "stdout",
     "output_type": "stream",
     "text": [
      "Enter your age:  37\n"
     ]
    },
    {
     "name": "stdout",
     "output_type": "stream",
     "text": [
      "You are eligible to vote.\n"
     ]
    }
   ],
   "source": [
    "# 7.Write a Python program to determine if a user is eligible to vote based on their age using if-else.\n",
    "age = int(input(\"Enter your age: \"))\n",
    "\n",
    "if age >= 18:\n",
    "    print(\"You are eligible to vote.\")\n",
    "else:\n",
    "    print(\"You are not eligible to vote.\")\n"
   ]
  },
  {
   "cell_type": "code",
   "execution_count": 13,
   "metadata": {},
   "outputs": [
    {
     "name": "stdout",
     "output_type": "stream",
     "text": [
      "Enter the purchase amount:  2000\n"
     ]
    },
    {
     "name": "stdout",
     "output_type": "stream",
     "text": [
      "Discount amount: $200.00\n",
      "Total amount after discount: $1800.00\n"
     ]
    }
   ],
   "source": [
    "# 8.Create a Python program that calculates the discount amount based on the purchase amount using if-else.\n",
    "\n",
    "purchase_amount = float(input(\"Enter the purchase amount: \"))\n",
    "\n",
    "if purchase_amount >= 100:\n",
    "    discount = 10\n",
    "else:\n",
    "    discount = 0\n",
    "\n",
    "discount_amount = (discount / 100) * purchase_amount\n",
    "total_amount = purchase_amount - discount_amount\n",
    "\n",
    "print(f\"Discount amount: ${discount_amount:.2f}\")\n",
    "print(f\"Total amount after discount: ${total_amount:.2f}\")"
   ]
  },
  {
   "cell_type": "code",
   "execution_count": 14,
   "metadata": {},
   "outputs": [
    {
     "name": "stdout",
     "output_type": "stream",
     "text": [
      "Enter a number:  654\n"
     ]
    },
    {
     "name": "stdout",
     "output_type": "stream",
     "text": [
      "Number is outside the specified range.\n"
     ]
    }
   ],
   "source": [
    "# 9.Write a Python program to check if a number is within a specified range using if-else.\n",
    "\n",
    "num = float(input(\"Enter a number: \"))\n",
    "min_range = 10\n",
    "max_range = 50\n",
    "\n",
    "if min_range <= num <= max_range:\n",
    "    print(\"Number is within the specified range.\")\n",
    "else:\n",
    "    print(\"Number is outside the specified range.\")\n"
   ]
  },
  {
   "cell_type": "code",
   "execution_count": 15,
   "metadata": {},
   "outputs": [
    {
     "name": "stdout",
     "output_type": "stream",
     "text": [
      "Enter your score:  89\n"
     ]
    },
    {
     "name": "stdout",
     "output_type": "stream",
     "text": [
      "Your grade is: B\n"
     ]
    }
   ],
   "source": [
    "# 10.Create a Python program that determines the grade of a student based on their score using if-else.\n",
    "\n",
    "score = float(input(\"Enter your score: \"))\n",
    "\n",
    "if score >= 90:\n",
    "    grade = \"A\"\n",
    "elif score >= 80:\n",
    "    grade = \"B\"\n",
    "elif score >= 70:\n",
    "    grade = \"C\"\n",
    "elif score >= 60:\n",
    "    grade = \"D\"\n",
    "else:\n",
    "    grade = \"F\"\n",
    "\n",
    "print(f\"Your grade is: {grade}\")"
   ]
  },
  {
   "cell_type": "code",
   "execution_count": 16,
   "metadata": {},
   "outputs": [
    {
     "name": "stdout",
     "output_type": "stream",
     "text": [
      "Enter a string:  ramjee\n"
     ]
    },
    {
     "name": "stdout",
     "output_type": "stream",
     "text": [
      "The string is not empty.\n"
     ]
    }
   ],
   "source": [
    "# 11.Write a Python program to check if a string is empty or not using if-else.\n",
    "\n",
    "my_string = input(\"Enter a string: \")\n",
    "\n",
    "if not my_string:\n",
    "    print(\"The string is empty.\")\n",
    "else:\n",
    "    print(\"The string is not empty.\")"
   ]
  },
  {
   "cell_type": "code",
   "execution_count": 17,
   "metadata": {},
   "outputs": [
    {
     "name": "stdout",
     "output_type": "stream",
     "text": [
      "Enter the length of the first side:  34\n",
      "Enter the length of the second side:  23\n",
      "Enter the length of the third side:  18\n"
     ]
    },
    {
     "name": "stdout",
     "output_type": "stream",
     "text": [
      "Scalene triangle\n"
     ]
    }
   ],
   "source": [
    "# 12.Create a Python program that identifies the type of a triangle (e.g., equilateral, isosceles, or scalene)\n",
    "# based on input values using if-else.\n",
    "\n",
    "side1 = float(input(\"Enter the length of the first side: \"))\n",
    "side2 = float(input(\"Enter the length of the second side: \"))\n",
    "side3 = float(input(\"Enter the length of the third side: \"))\n",
    "\n",
    "if side1 == side2 == side3:\n",
    "    print(\"Equilateral triangle\")\n",
    "elif side1 == side2 or side1 == side3 or side2 == side3:\n",
    "    print(\"Isosceles triangle\")\n",
    "else:\n",
    "    print(\"Scalene triangle\")\n"
   ]
  },
  {
   "cell_type": "code",
   "execution_count": 18,
   "metadata": {},
   "outputs": [
    {
     "name": "stdout",
     "output_type": "stream",
     "text": [
      "Enter a number (1-7) for the day of the week:  4\n"
     ]
    },
    {
     "name": "stdout",
     "output_type": "stream",
     "text": [
      "Wednesday\n"
     ]
    }
   ],
   "source": [
    "# 13.Write a Python program to determine the day of the week based on a user-provided number using if-else.\n",
    "\n",
    "day_number = int(input(\"Enter a number (1-7) for the day of the week: \"))\n",
    "\n",
    "if day_number == 1:\n",
    "    print(\"Sunday\")\n",
    "elif day_number == 2:\n",
    "    print(\"Monday\")\n",
    "elif day_number == 3:\n",
    "    print(\"Tuesday\")\n",
    "elif day_number == 4:\n",
    "    print(\"Wednesday\")\n",
    "elif day_number == 5:\n",
    "    print(\"Thursday\")\n",
    "elif day_number == 6:\n",
    "    print(\"Friday\")\n",
    "elif day_number == 7:\n",
    "    print(\"Saturday\")\n",
    "else:\n",
    "    print(\"Invalid input. Please enter a number between 1 and 7.\")\n"
   ]
  },
  {
   "cell_type": "code",
   "execution_count": 19,
   "metadata": {},
   "outputs": [
    {
     "name": "stdout",
     "output_type": "stream",
     "text": [
      "Enter a year:  2021\n"
     ]
    },
    {
     "name": "stdout",
     "output_type": "stream",
     "text": [
      "2021 is not a leap year.\n"
     ]
    }
   ],
   "source": [
    "# 14.Create a Python program that checks if a given year is a leap year using both if-else and a function.\n",
    "\n",
    "def is_leap_year(year):\n",
    "    if (year % 4 == 0 and year % 100 != 0) or (year % 400 == 0):\n",
    "        return True\n",
    "    else:\n",
    "        return False\n",
    "\n",
    "year = int(input(\"Enter a year: \"))\n",
    "\n",
    "if is_leap_year(year):\n",
    "    print(f\"{year} is a leap year.\")\n",
    "else:\n",
    "    print(f\"{year} is not a leap year.\")\n"
   ]
  },
  {
   "cell_type": "code",
   "execution_count": 20,
   "metadata": {},
   "outputs": [
    {
     "name": "stdout",
     "output_type": "stream",
     "text": [
      "x is even.\n"
     ]
    }
   ],
   "source": [
    "# 15.How do you use the \"assert\" statement in Python to add debugging checks within if-else blocks?\n",
    "\n",
    "x = 10\n",
    "\n",
    "\n",
    "assert x > 0, \"x should be greater than 0\"\n",
    "\n",
    "if x % 2 == 0:\n",
    "    print(\"x is even.\")\n",
    "else:\n",
    "    print(\"x is odd.\")"
   ]
  },
  {
   "cell_type": "code",
   "execution_count": 21,
   "metadata": {},
   "outputs": [
    {
     "name": "stdout",
     "output_type": "stream",
     "text": [
      "Enter your age:  23\n"
     ]
    },
    {
     "name": "stdout",
     "output_type": "stream",
     "text": [
      "You are not eligible for a senior citizen discount.\n"
     ]
    }
   ],
   "source": [
    "# 16.Create a Python program that determines the eligibility of a person for a senior citizen discount based on age using if-else.\n",
    "\n",
    "age = int(input(\"Enter your age: \"))\n",
    "\n",
    "if age >= 60:\n",
    "    print(\"You are eligible for a senior citizen discount.\")\n",
    "else:\n",
    "    print(\"You are not eligible for a senior citizen discount.\")"
   ]
  },
  {
   "cell_type": "code",
   "execution_count": 22,
   "metadata": {},
   "outputs": [
    {
     "name": "stdout",
     "output_type": "stream",
     "text": [
      "Enter a character:  ramjee\n"
     ]
    },
    {
     "name": "stdout",
     "output_type": "stream",
     "text": [
      "Lowercase character\n"
     ]
    }
   ],
   "source": [
    "# 17.Write a Python program to categorize a given character as uppercase, lowercase, or neither using if-else.\n",
    "\n",
    "char = input(\"Enter a character: \")\n",
    "\n",
    "if char.islower():\n",
    "    print(\"Lowercase character\")\n",
    "elif char.isupper():\n",
    "    print(\"Uppercase character\")\n",
    "else:\n",
    "    print(\"Neither uppercase nor lowercase character\")\n"
   ]
  },
  {
   "cell_type": "code",
   "execution_count": 23,
   "metadata": {},
   "outputs": [
    {
     "name": "stdout",
     "output_type": "stream",
     "text": [
      "Enter the coefficient of x^2:  6\n",
      "Enter the coefficient of x:  2\n",
      "Enter the constant term:  3\n"
     ]
    },
    {
     "name": "stdout",
     "output_type": "stream",
     "text": [
      "No real roots\n"
     ]
    }
   ],
   "source": [
    "# 18.Write a Python program to determine the roots of a quadratic equation using if-else.\n",
    "\n",
    "a = float(input(\"Enter the coefficient of x^2: \"))\n",
    "b = float(input(\"Enter the coefficient of x: \"))\n",
    "c = float(input(\"Enter the constant term: \"))\n",
    "\n",
    "discriminant = b**2 - 4*a*c\n",
    "\n",
    "if discriminant > 0:\n",
    "    root1 = (-b + (discriminant)**0.5) / (2*a)\n",
    "    root2 = (-b - (discriminant)**0.5) / (2*a)\n",
    "    print(f\"Two real and distinct roots: {root1} and {root2}\")\n",
    "elif discriminant == 0:\n",
    "    root = -b / (2*a)\n",
    "    print(f\"One real root: {root}\")\n",
    "else:\n",
    "    print(\"No real roots\")\n"
   ]
  },
  {
   "cell_type": "code",
   "execution_count": 24,
   "metadata": {},
   "outputs": [
    {
     "name": "stdout",
     "output_type": "stream",
     "text": [
      "Enter a year:  2025\n"
     ]
    },
    {
     "name": "stdout",
     "output_type": "stream",
     "text": [
      "2025 is not a century year.\n"
     ]
    }
   ],
   "source": [
    "# 19.Create a Python program that checks if a given year is a century year or not using if-else.\n",
    "\n",
    "year = int(input(\"Enter a year: \"))\n",
    "\n",
    "if year % 100 == 0:\n",
    "    print(f\"{year} is a century year.\")\n",
    "else:\n",
    "    print(f\"{year} is not a century year.\")"
   ]
  },
  {
   "cell_type": "code",
   "execution_count": 25,
   "metadata": {},
   "outputs": [
    {
     "name": "stdout",
     "output_type": "stream",
     "text": [
      "Enter a number:  34\n"
     ]
    },
    {
     "name": "stdout",
     "output_type": "stream",
     "text": [
      "34 is not a perfect square.\n"
     ]
    }
   ],
   "source": [
    "# 20.Write a Python program to determine if a given number is a perfect square using if-else.\n",
    "\n",
    "import math\n",
    "\n",
    "num = int(input(\"Enter a number: \"))\n",
    "\n",
    "sqrt = int(math.sqrt(num))\n",
    "\n",
    "if sqrt * sqrt == num:\n",
    "    print(f\"{num} is a perfect square.\")\n",
    "else:\n",
    "    print(f\"{num} is not a perfect square.\")\n"
   ]
  },
  {
   "cell_type": "markdown",
   "metadata": {},
   "source": [
    "# 21.Explain the purpose of the \"continue\" and \"break\" statements within if-else loops.\n",
    "\n",
    "The continue statement is used to skip the current iteration of the loop and move on to the next one. This is useful when you want to skip over a particular iteration of the loop based on some condition. For example, you might want to skip an iteration of a loop if the current value of a variable is equal to a certain value.\n",
    "The break statement is used to exit the loop entirely. This is useful when you want to stop the loop from executing any more iterations. For example, you might want to break out of a loop if the current value of a variable is greater than a certain value.\n",
    "Both the continue and break statements can be used within if-else loops. For example, the following code uses a continue statement to skip over an iteration of a loop if the current value of a variable is equal to 5:"
   ]
  },
  {
   "cell_type": "code",
   "execution_count": 41,
   "metadata": {},
   "outputs": [
    {
     "name": "stdout",
     "output_type": "stream",
     "text": [
      "0\n",
      "1\n",
      "2\n",
      "3\n",
      "4\n",
      "6\n",
      "7\n",
      "8\n",
      "9\n"
     ]
    }
   ],
   "source": [
    "for i in range(10):\n",
    "    if i == 5:\n",
    "        continue\n",
    "    print(i)"
   ]
  },
  {
   "cell_type": "code",
   "execution_count": 42,
   "metadata": {},
   "outputs": [
    {
     "name": "stdout",
     "output_type": "stream",
     "text": [
      "0\n",
      "1\n",
      "2\n",
      "3\n",
      "4\n",
      "5\n",
      "6\n",
      "7\n",
      "8\n",
      "9\n"
     ]
    }
   ],
   "source": [
    "for i in range(10):\n",
    "    if i > 10:\n",
    "        break\n",
    "    print(i)"
   ]
  },
  {
   "cell_type": "code",
   "execution_count": 31,
   "metadata": {},
   "outputs": [
    {
     "name": "stdout",
     "output_type": "stream",
     "text": [
      "Enter your weight (in kg):  70\n",
      "Enter your height (in meters):  1.4\n"
     ]
    },
    {
     "name": "stdout",
     "output_type": "stream",
     "text": [
      "Your BMI is 35.71 and you are categorized as Obese.\n"
     ]
    }
   ],
   "source": [
    "# 22.Create a Python program that calculates the BMI (Body Mass Index) of a person based on their weight and height using if-else.\n",
    "\n",
    "weight = float(input(\"Enter your weight (in kg): \"))\n",
    "height = float(input(\"Enter your height (in meters): \"))\n",
    "\n",
    "bmi = weight / (height ** 2)\n",
    "\n",
    "if bmi < 18.5:\n",
    "    category = \"Underweight\"\n",
    "elif 18.5 <= bmi < 24.9:\n",
    "    category = \"Normal Weight\"\n",
    "elif 25 <= bmi < 29.9:\n",
    "    category = \"Overweight\"\n",
    "else:\n",
    "    category = \"Obese\"\n",
    "\n",
    "print(f\"Your BMI is {bmi:.2f} and you are categorized as {category}.\")\n"
   ]
  },
  {
   "cell_type": "code",
   "execution_count": 30,
   "metadata": {},
   "outputs": [
    {
     "name": "stdout",
     "output_type": "stream",
     "text": [
      "Enter a number:  4\n"
     ]
    },
    {
     "name": "stdout",
     "output_type": "stream",
     "text": [
      "Even numbers: [2, 4, 6, 8, 10]\n"
     ]
    }
   ],
   "source": [
    "# 23.How can you use the \"filter()\" function with if-else statements to filter elements from a list?\n",
    "\n",
    "num = int(input(\"Enter a number: \"))\n",
    "\n",
    "my_list = [1, 2, 3, 4, 5, 6, 7, 8, 9, 10]\n",
    "\n",
    "filtered_list = list(filter(lambda x: x % 2 == 0, my_list))\n",
    "\n",
    "print(\"Even numbers:\", filtered_list)"
   ]
  },
  {
   "cell_type": "code",
   "execution_count": 29,
   "metadata": {},
   "outputs": [
    {
     "name": "stdout",
     "output_type": "stream",
     "text": [
      "Enter a number:  67\n"
     ]
    },
    {
     "name": "stdout",
     "output_type": "stream",
     "text": [
      "67 is a prime number.\n"
     ]
    }
   ],
   "source": [
    "# 24.Write a Python program to determine if a given number is prime or not using if-else.\n",
    "\n",
    "num = int(input(\"Enter a number: \"))\n",
    "\n",
    "if num > 1:\n",
    "    for i in range(2, int(num**0.5) + 1):\n",
    "        if num % i == 0:\n",
    "            print(f\"{num} is not a prime number.\")\n",
    "            break\n",
    "    else:\n",
    "        print(f\"{num} is a prime number.\")\n",
    "else:\n",
    "    print(f\"{num} is not a prime number.\")"
   ]
  },
  {
   "cell_type": "markdown",
   "metadata": {},
   "source": [
    "# Map :-\n",
    "\n"
   ]
  },
  {
   "cell_type": "code",
   "execution_count": 39,
   "metadata": {},
   "outputs": [
    {
     "name": "stdout",
     "output_type": "stream",
     "text": [
      "[1, 4, 9, 16, 25]\n"
     ]
    }
   ],
   "source": [
    "\n",
    "# 1.Explain the purpose of the `map()` function in Python and provide an example of how it can be used to apply a function to each element of an iterable.\n",
    "\n",
    "\n",
    "\n",
    "# The map() function in Python is a built-in function that applies a function to each item in an iterable. \n",
    "# The syntax for map() is: map(function, iterable)\n",
    "\n",
    "# The function argument can be any Python function, and the iterable argument can be any iterable object, such as a list, tuple, set, or string.\n",
    "\n",
    "numbers = [1, 2, 3, 4, 5]\n",
    "\n",
    "squares = map(lambda x: x * x, numbers)\n",
    "\n",
    "print(list(squares))\n",
    "\n"
   ]
  },
  {
   "cell_type": "code",
   "execution_count": 37,
   "metadata": {},
   "outputs": [
    {
     "name": "stdout",
     "output_type": "stream",
     "text": [
      "[1, 4, 9, 16, 25]\n"
     ]
    }
   ],
   "source": [
    "# 2.Write a Python program that uses the `map()` function to square each element of a list of numbers.\n",
    "\n",
    "numbers = [1, 2, 3, 4, 5]\n",
    "\n",
    "squared_numbers = map(lambda x: x**2, numbers)\n",
    "\n",
    "squared_numbers_list = list(squared_numbers)\n",
    "\n",
    "print(squared_numbers_list)\n"
   ]
  },
  {
   "cell_type": "markdown",
   "metadata": {},
   "source": [
    "### 3.How does the `map()` function differ from a list comprehension in Python, and when would you choose one over the other?\n",
    "In Python, the map() function returns an Iterable object, while a list comprehension returns a list. The map() function is more memory efficient than a list comprehension. However, list comprehensions are more concise and easier to read. \n",
    "\n",
    "some differences between the map() function and a list comprehension: \n",
    "\n",
    "Output: Both functions produce the same output.\n",
    "\n",
    "Speed: List comprehensions are faster when the formula expression is huge and complex. The map() function is faster when the formula is already defined as a function.\n",
    "\n",
    "Memory efficiency: The map() function is more memory efficient than a list comprehension.\n",
    "\n",
    "Readability: List comprehensions are more concise and easier to read.\n",
    "\n",
    "Lambda function: The map() function is slower when it needs a lambda function."
   ]
  },
  {
   "cell_type": "code",
   "execution_count": 35,
   "metadata": {},
   "outputs": [
    {
     "name": "stdout",
     "output_type": "stream",
     "text": [
      "['ALICE', 'BOB', 'CHARLIE']\n"
     ]
    }
   ],
   "source": [
    "# 4.Create a Python program that uses the `map()` function to convert a list of names to uppercase.\n",
    "\n",
    "names = [\"Alice\", \"Bob\", \"Charlie\"]\n",
    "\n",
    "uppercase_names = map(str.upper, names)\n",
    "\n",
    "uppercase_names_list = list(uppercase_names)\n",
    "\n",
    "print(uppercase_names_list)\n"
   ]
  },
  {
   "cell_type": "code",
   "execution_count": 39,
   "metadata": {},
   "outputs": [
    {
     "name": "stdout",
     "output_type": "stream",
     "text": [
      "[11, 22, 33]\n"
     ]
    }
   ],
   "source": [
    "# 5.Write a Python program that uses the `map()` function to calculate the length of each word in a list of strings.\n",
    "\n",
    "def add(x, y):\n",
    "    return x + y\n",
    "\n",
    "list1 = [1, 2, 3]\n",
    "list2 = [10, 20, 30]\n",
    "\n",
    "result = map(add, list1, list2)\n",
    "\n",
    "result_list = list(result)\n",
    "\n",
    "print(result_list)\n"
   ]
  },
  {
   "cell_type": "code",
   "execution_count": 37,
   "metadata": {},
   "outputs": [
    {
     "name": "stdout",
     "output_type": "stream",
     "text": [
      "[5, 7, 9]\n"
     ]
    }
   ],
   "source": [
    "# 6.How can you use the `map()` function to apply a custom function to elements of multiple lists simultaneously in Python?\n",
    "\n",
    "''' the map() function has applied the my_function() function to each element in the numbers1 and numbers2 lists simultaneously. The output is a new list that contains the results of the my_function() function applied to each pair of elements in the input lists.'''\n",
    "def my_function(x, y):\n",
    "  return x + y\n",
    "\n",
    "numbers1 = [1, 2, 3]\n",
    "numbers2 = [4, 5, 6]\n",
    "\n",
    "mapped_numbers = list(map(my_function, numbers1, numbers2))\n",
    "\n",
    "print(mapped_numbers)"
   ]
  },
  {
   "cell_type": "code",
   "execution_count": 40,
   "metadata": {},
   "outputs": [
    {
     "name": "stdout",
     "output_type": "stream",
     "text": [
      "[32.0, 77.0, 212.0]\n"
     ]
    }
   ],
   "source": [
    "# 7.Create a Python program that uses `map()` to convert a list of temperatures from Celsius to Fahrenheit.\n",
    "\n",
    "def celsius_to_fahrenheit(celsius):\n",
    "    return (celsius * 9/5) + 32\n",
    "\n",
    "temperatures_celsius = [0, 25, 100]\n",
    "\n",
    "temperatures_fahrenheit = map(celsius_to_fahrenheit, temperatures_celsius)\n",
    "\n",
    "temperatures_fahrenheit_list = list(temperatures_fahrenheit)\n",
    "\n",
    "print(temperatures_fahrenheit_list)\n"
   ]
  },
  {
   "cell_type": "code",
   "execution_count": 41,
   "metadata": {},
   "outputs": [
    {
     "name": "stdout",
     "output_type": "stream",
     "text": [
      "[3, 3, 2]\n"
     ]
    }
   ],
   "source": [
    "# 8.Write a Python program that uses the `map()` function to round each element of a list of floating-point \n",
    "# numbers to the nearest integer.\n",
    "\n",
    "float_numbers = [3.14, 2.718, 1.618]\n",
    "\n",
    "rounded_numbers = map(round, float_numbers)\n",
    "\n",
    "rounded_numbers_list = list(rounded_numbers)\n",
    "\n",
    "print(rounded_numbers_list)\n"
   ]
  },
  {
   "cell_type": "markdown",
   "metadata": {},
   "source": [
    "# Reduce :-\n",
    "\n",
    "\n"
   ]
  },
  {
   "cell_type": "code",
   "execution_count": 53,
   "metadata": {},
   "outputs": [
    {
     "name": "stdout",
     "output_type": "stream",
     "text": [
      "15\n"
     ]
    }
   ],
   "source": [
    "# 1.What is the `reduce()` function in Python, and what module should you import to use it? Provide an example of its basic usage.\n",
    "\n",
    "import functools\n",
    "\n",
    "def add(x, y):\n",
    "    return x + y\n",
    "\n",
    "numbers = [1, 2, 3, 4, 5]\n",
    "result = functools.reduce(add, numbers)\n",
    "\n",
    "print(result) \n"
   ]
  },
  {
   "cell_type": "code",
   "execution_count": 52,
   "metadata": {},
   "outputs": [
    {
     "name": "stdout",
     "output_type": "stream",
     "text": [
      "120\n"
     ]
    }
   ],
   "source": [
    "# 2.Write a Python program that uses the `reduce()` function to find the product of all elements in a list.\n",
    "\n",
    "import functools\n",
    "\n",
    "numbers = [1, 2, 3, 4, 5]\n",
    "\n",
    "def multiply(x, y):\n",
    "    return x * y\n",
    "\n",
    "product = functools.reduce(multiply, numbers)\n",
    "\n",
    "print(product)  \n",
    "\n"
   ]
  },
  {
   "cell_type": "code",
   "execution_count": 51,
   "metadata": {},
   "outputs": [
    {
     "name": "stdout",
     "output_type": "stream",
     "text": [
      "67\n"
     ]
    }
   ],
   "source": [
    "# 3.Create a Python program that uses `reduce()` to find the maximum element in a list of numbers.\n",
    "\n",
    "import functools\n",
    "\n",
    "numbers = [12, 45, 8, 23, 67, 34]\n",
    "\n",
    "max_number = functools.reduce(lambda x, y: x if x > y else y, numbers)\n",
    "\n",
    "print(max_number) \n",
    " "
   ]
  },
  {
   "cell_type": "code",
   "execution_count": 48,
   "metadata": {},
   "outputs": [
    {
     "name": "stdout",
     "output_type": "stream",
     "text": [
      "Hello, World!\n"
     ]
    }
   ],
   "source": [
    "# 4.How can you use the `reduce()` function to concatenate a list of strings into a single string?\n",
    "\n",
    "import functools\n",
    "\n",
    "strings = [\"Hello\", \", \", \"World\", \"!\"]\n",
    "\n",
    "concatenated_string = functools.reduce(lambda x, y: x + y, strings)\n",
    "\n",
    "print(concatenated_string)  "
   ]
  },
  {
   "cell_type": "code",
   "execution_count": 49,
   "metadata": {},
   "outputs": [
    {
     "name": "stdout",
     "output_type": "stream",
     "text": [
      "120\n"
     ]
    }
   ],
   "source": [
    "# 5.Write a Python program that calculates the factorial of a number using the `reduce()` function.\n",
    "\n",
    "import functools\n",
    "\n",
    "num = 5  \n",
    "def factorial(x, y):\n",
    "    return x * y\n",
    "\n",
    "\n",
    "result = functools.reduce(factorial, range(1, num + 1))\n",
    "\n",
    "print(result) "
   ]
  },
  {
   "cell_type": "code",
   "execution_count": 47,
   "metadata": {},
   "outputs": [
    {
     "name": "stdout",
     "output_type": "stream",
     "text": [
      "12\n"
     ]
    }
   ],
   "source": [
    "# 6.Create a Python program that uses `reduce()` to find the GCD (Greatest Common Divisor) of a list of numbers.\n",
    "import functools\n",
    "import math\n",
    "\n",
    "numbers = [36, 48, 60]\n",
    "\n",
    "def gcd(x, y):\n",
    "    return math.gcd(x, y)\n",
    "\n",
    "result = functools.reduce(gcd, numbers)\n",
    "\n",
    "print(result) \n",
    "\n"
   ]
  },
  {
   "cell_type": "code",
   "execution_count": 50,
   "metadata": {},
   "outputs": [
    {
     "name": "stdout",
     "output_type": "stream",
     "text": [
      "15\n"
     ]
    }
   ],
   "source": [
    "# 7.Write a Python program that uses the `reduce()` function to find the sum of the digits of a given number.\n",
    "\n",
    "import functools\n",
    "\n",
    "num = 12345\n",
    "\n",
    "def sum_digits(x, y):\n",
    "    return int(x) + int(y)\n",
    "\n",
    "result = functools.reduce(sum_digits, str(num))\n",
    "\n",
    "print(result)  "
   ]
  },
  {
   "cell_type": "markdown",
   "metadata": {},
   "source": [
    "# Filter :-\n"
   ]
  },
  {
   "cell_type": "code",
   "execution_count": 33,
   "metadata": {},
   "outputs": [
    {
     "name": "stdout",
     "output_type": "stream",
     "text": [
      "[2, 4, 6, 8, 10]\n"
     ]
    }
   ],
   "source": [
    "# 1.Explain the purpose of the `filter()` function in Python and provide an example of how it can be used to filter elements from an iterable.\n",
    "\n",
    "\n",
    "'''The filter() function in Python is used to filter an iterable, such as a list or a tuple, and return a new iterable that contains only the elements that satisfy a given condition. The condition is specified as a function, and the filter() function will call that function on each element of the iterable. If the function returns True, the element is added to the new iterable. If the function returns False, the element is discarded.'''\n",
    "\n",
    "numbers = [1, 2, 3, 4, 5, 6, 7, 8, 9, 10]\n",
    "\n",
    "even_numbers = filter(lambda x: x % 2 == 0, numbers)\n",
    "\n",
    "print(list(even_numbers))\n",
    "\n"
   ]
  },
  {
   "cell_type": "code",
   "execution_count": 54,
   "metadata": {},
   "outputs": [
    {
     "name": "stdout",
     "output_type": "stream",
     "text": [
      "[2, 4, 6, 8, 10]\n"
     ]
    }
   ],
   "source": [
    "# 2.Write a Python program that uses the `filter()` function to select even numbers from a list of integers.\n",
    "\n",
    "def is_even(x):\n",
    "    return x % 2 == 0\n",
    "\n",
    "numbers = [1, 2, 3, 4, 5, 6, 7, 8, 9, 10]\n",
    "\n",
    "even_numbers = filter(is_even, numbers)\n",
    "\n",
    "even_numbers_list = list(even_numbers)\n",
    "\n",
    "print(even_numbers_list)"
   ]
  },
  {
   "cell_type": "code",
   "execution_count": 56,
   "metadata": {},
   "outputs": [
    {
     "name": "stdout",
     "output_type": "stream",
     "text": [
      "['Charlie']\n"
     ]
    }
   ],
   "source": [
    "# 3.Create a Python program that uses the `filter()` function to select names that start with a specific letter from a \n",
    "# list of strings.\n",
    "\n",
    "names = [\"Alice\", \"Bob\", \"Charlie\", \"David\", \"Ella\"]\n",
    "start_letter = \"C\"\n",
    "\n",
    "def starts_with_letter(name):\n",
    "    return name.startswith(start_letter)\n",
    "\n",
    "filtered_names = filter(starts_with_letter, names)\n",
    "\n",
    "filtered_names_list = list(filtered_names)\n",
    "\n",
    "print(filtered_names_list)\n"
   ]
  },
  {
   "cell_type": "code",
   "execution_count": 57,
   "metadata": {},
   "outputs": [
    {
     "name": "stdout",
     "output_type": "stream",
     "text": [
      "[2, 3, 5, 7]\n"
     ]
    }
   ],
   "source": [
    "# 4.Write a Python program that uses the `filter()` function to select prime numbers from a list of integers.\n",
    "\n",
    "import math\n",
    "\n",
    "numbers = [2, 3, 4, 5, 6, 7, 8, 9, 10]\n",
    "\n",
    "def is_prime(x):\n",
    "    if x < 2:\n",
    "        return False\n",
    "    for i in range(2, int(math.sqrt(x)) + 1):\n",
    "        if x % i == 0:\n",
    "            return False\n",
    "    return True\n",
    "\n",
    "prime_numbers = filter(is_prime, numbers)\n",
    "\n",
    "prime_numbers_list = list(prime_numbers)\n",
    "\n",
    "print(prime_numbers_list)"
   ]
  },
  {
   "cell_type": "code",
   "execution_count": 58,
   "metadata": {},
   "outputs": [
    {
     "name": "stdout",
     "output_type": "stream",
     "text": [
      "[1, 'Hello', 42, 'World']\n"
     ]
    }
   ],
   "source": [
    "# 5.How can you use the `filter()` function to remove None values from a list in Python?\n",
    "\n",
    "values = [1, None, \"Hello\", None, 42, None, \"World\", None]\n",
    "\n",
    "def is_not_none(x):\n",
    "    return x is not None\n",
    "\n",
    "filtered_values = filter(is_not_none, values)\n",
    "\n",
    "filtered_values_list = list(filtered_values)\n",
    "\n",
    "print(filtered_values_list)"
   ]
  },
  {
   "cell_type": "code",
   "execution_count": 35,
   "metadata": {},
   "outputs": [
    {
     "name": "stdout",
     "output_type": "stream",
     "text": [
      "['quick', 'brown', 'jumps', 'over', 'lazy']\n"
     ]
    }
   ],
   "source": [
    "# 6.Create a Python program that uses `filter()` to select words longer than a certain length from a list of strings.\n",
    "\n",
    "def long_words(n, str):\n",
    "    word_len = []\n",
    "    txt = str.split(\" \")\n",
    "    for x in txt:\n",
    "        if len(x) > n:\n",
    "            word_len.append(x)\n",
    "    return word_len\t\n",
    "print(long_words(3, \"The quick brown fox jumps over the lazy dog\"))"
   ]
  },
  {
   "cell_type": "code",
   "execution_count": 36,
   "metadata": {},
   "outputs": [
    {
     "name": "stdout",
     "output_type": "stream",
     "text": [
      "Values greater than 30 are: [40, 50, 60]\n"
     ]
    }
   ],
   "source": [
    "# 7.Write a Python program that uses the `filter()` function to select elements greater than a specified threshold \n",
    "# from a list of values.\n",
    "\n",
    "def is_greater_than_threshold(x, threshold):\n",
    "    return x > threshold\n",
    "\n",
    "# List of values\n",
    "values = [10, 20, 30, 40, 50, 60]\n",
    "\n",
    "# Specify the threshold\n",
    "threshold = 30\n",
    "\n",
    "# Use filter() to select elements greater than the threshold\n",
    "filtered_values = filter(lambda x: is_greater_than_threshold(x, threshold), values)\n",
    "\n",
    "# Convert the filter object to a list\n",
    "filtered_values_list = list(filtered_values)\n",
    "\n",
    "# Print the filtered values\n",
    "print(\"Values greater than\", threshold, \"are:\", filtered_values_list)\n",
    "\n",
    "\n"
   ]
  },
  {
   "cell_type": "markdown",
   "metadata": {},
   "source": [
    "# Recursion:-"
   ]
  },
  {
   "cell_type": "code",
   "execution_count": 59,
   "metadata": {},
   "outputs": [
    {
     "name": "stdout",
     "output_type": "stream",
     "text": [
      "120\n"
     ]
    }
   ],
   "source": [
    "# 1.Explain the concept of recursion in Python. How does it differ from iteration?\n",
    "\n",
    "# Recursion is a programming concept where a function calls itself. This can be used to solve problems that are recursive in nature, such as finding the factorial of a number or printing a linked list.\n",
    "# In Python, recursion is implemented using the def keyword. The function definition for a recursive function must include a base case, which is the simplest possible case that the function can handle. The base case must be able to be solved without calling the function itself.\n",
    "# The recursive case is the case that is more complex than the base case. The recursive case must be able to call the function itself, with a smaller input, until the base case is reached.\n",
    "# Recursion can be a powerful tool for solving problems, but it can also be difficult to understand and implement. It is important to make sure that the base case is well-defined and that the recursive case can be solved without infinite recursion.\n",
    "# Iteration is a programming concept where a loop is used to repeatedly execute the same code. Iteration is often used to solve problems that are not recursive in nature, such as sorting a list or summing the numbers in a list.\n",
    "# In Python, iteration is implemented using the for and while keywords. The for keyword is used to iterate over a sequence of data, such as a list or a string. The while keyword is used to iterate until a certain condition is met.\n",
    "# Iteration can be a powerful tool for solving problems, but it can also be inefficient if the loop body is not carefully designed. It is important to make sure that the loop body is as short as possible and that the condition is checked as efficiently as possible.\n",
    "\n"
   ]
  },
  {
   "cell_type": "code",
   "execution_count": 31,
   "metadata": {},
   "outputs": [
    {
     "name": "stdout",
     "output_type": "stream",
     "text": [
      "120\n"
     ]
    }
   ],
   "source": [
    "# 2.Write a Python program to calculate the factorial of a number using recursion.\n",
    "\n",
    "def factorial(n):\n",
    "    if n == 0:\n",
    "        return 1\n",
    "    else:\n",
    "        return n * factorial(n - 1)\n",
    "\n",
    "result = factorial(5)\n",
    "print(result)  \n"
   ]
  },
  {
   "cell_type": "code",
   "execution_count": 30,
   "metadata": {},
   "outputs": [
    {
     "name": "stdout",
     "output_type": "stream",
     "text": [
      "13\n"
     ]
    }
   ],
   "source": [
    "# 3.Create a recursive Python function to find the nth Fibonacci number.\n",
    "\n",
    "def fibonacci(n):\n",
    "    if n <= 0:\n",
    "        return 0\n",
    "    elif n == 1:\n",
    "        return 1\n",
    "    else:\n",
    "        return fibonacci(n - 1) + fibonacci(n - 2)\n",
    "\n",
    "result = fibonacci(7)\n",
    "print(result) \n"
   ]
  },
  {
   "cell_type": "code",
   "execution_count": 29,
   "metadata": {},
   "outputs": [
    {
     "name": "stdout",
     "output_type": "stream",
     "text": [
      "15\n"
     ]
    }
   ],
   "source": [
    "# 4.Write a recursive Python function to calculate the sum of all elements in a list.\n",
    "def sum_list_recursive(lst):\n",
    "    if not lst:\n",
    "        return 0\n",
    "    else:\n",
    "        return lst[0] + sum_list_recursive(lst[1:])\n",
    "\n",
    "my_list = [1, 2, 3, 4, 5]\n",
    "result = sum_list_recursive(my_list)\n",
    "print(result)  \n"
   ]
  },
  {
   "cell_type": "code",
   "execution_count": null,
   "metadata": {},
   "outputs": [],
   "source": [
    "# 5.How can you prevent a recursive function from running indefinitely, causing a stack overflow error?\n",
    "\n",
    "'''To prevent a recursive function from running indefinitely, causing a stack overflow error, you can use the following techniques:\n",
    "Add a base case to the function. This is a condition that will stop the recursion from continuing. For example, a factorial function might have a base case of 0, which means that the function will return 1 if the input is 0.\n",
    "Use a stack to keep track of the recursive calls. This will prevent the function from calling itself an infinite number of times.\n",
    "Use tail call optimization. This is a compiler optimization that allows recursive calls to be converted to non-recursive calls. This can prevent stack overflows from occurring.'''"
   ]
  },
  {
   "cell_type": "code",
   "execution_count": 62,
   "metadata": {},
   "outputs": [
    {
     "name": "stdout",
     "output_type": "stream",
     "text": [
      "6\n"
     ]
    }
   ],
   "source": [
    "# 6.Create a recursive Python function to find the greatest common divisor (GCD) of two numbers using the Euclidean algorithm.\n",
    "\n",
    "def gcd(a, b):\n",
    "    if b == 0:\n",
    "        return a\n",
    "    else:\n",
    "        return gcd(b, a % b)\n",
    "\n",
    "result = gcd(48, 18)\n",
    "print(result) "
   ]
  },
  {
   "cell_type": "code",
   "execution_count": 63,
   "metadata": {},
   "outputs": [
    {
     "name": "stdout",
     "output_type": "stream",
     "text": [
      "olleh\n"
     ]
    }
   ],
   "source": [
    "# 7.Write a recursive Python function to reverse a string.\n",
    "\n",
    "def reverse_string(s):\n",
    "    if not s:\n",
    "        return s\n",
    "    else:\n",
    "        return reverse_string(s[1:]) + s[0]\n",
    "\n",
    "result = reverse_string(\"hello\")\n",
    "print(result)  \n"
   ]
  },
  {
   "cell_type": "code",
   "execution_count": 64,
   "metadata": {},
   "outputs": [
    {
     "name": "stdout",
     "output_type": "stream",
     "text": [
      "8\n"
     ]
    }
   ],
   "source": [
    "# 8.Create a recursive Python function to calculate the power of a number (x^n).\n",
    "\n",
    "def power(x, n):\n",
    "    if n == 0:\n",
    "        return 1\n",
    "    else:\n",
    "        return x * power(x, n - 1)\n",
    "\n",
    "result = power(2, 3)\n",
    "print(result) \n"
   ]
  },
  {
   "cell_type": "code",
   "execution_count": 28,
   "metadata": {},
   "outputs": [
    {
     "data": {
      "text/plain": [
       "['abc', 'acb', 'bac', 'bca', 'cab', 'cba']"
      ]
     },
     "execution_count": 28,
     "metadata": {},
     "output_type": "execute_result"
    }
   ],
   "source": [
    "# 9.Write a recursive Python function to find all permutations of a given string.\n",
    "\n",
    "def perms(s):        \n",
    "    if(len(s)==1): return [s]\n",
    "    result=[]\n",
    "    for i,v in enumerate(s):\n",
    "        result += [v+p for p in perms(s[:i]+s[i+1:])]\n",
    "    return result\n",
    "\n",
    "\n",
    "perms('abc')"
   ]
  },
  {
   "cell_type": "code",
   "execution_count": 26,
   "metadata": {},
   "outputs": [
    {
     "data": {
      "text/plain": [
       "True"
      ]
     },
     "execution_count": 26,
     "metadata": {},
     "output_type": "execute_result"
    }
   ],
   "source": [
    "# 10.Write a recursive Python function to check if a string is a palindrome.\n",
    "\n",
    "def is_palindrome(s):\n",
    "  if len(s) <= 1:\n",
    "    return True\n",
    "  else:\n",
    "    return s[0] == s[-1] and is_palindrome(s[1:-1])\n",
    "\n",
    "is_palindrome(\"malayalam\")\n"
   ]
  },
  {
   "cell_type": "code",
   "execution_count": 25,
   "metadata": {},
   "outputs": [
    {
     "name": "stdout",
     "output_type": "stream",
     "text": [
      "[[], [1], [2], [1, 2], [3], [1, 3], [2, 3], [1, 2, 3]]\n"
     ]
    }
   ],
   "source": [
    "# 11.Create a recursive Python function to generate all possible combinations of a list of elements.\n",
    "\n",
    "def combinations(l):\n",
    "    if l:\n",
    "      result = combinations(l[:-1])\n",
    "      return result + [c + [l[-1]] for c in result]\n",
    "    else:\n",
    "      return [[]]\n",
    "\n",
    "print(combinations([1,2,3]))\n"
   ]
  },
  {
   "cell_type": "markdown",
   "metadata": {},
   "source": [
    "# Basics of Functions:"
   ]
  },
  {
   "cell_type": "code",
   "execution_count": null,
   "metadata": {},
   "outputs": [],
   "source": [
    "# 1.What is a function in Python, and why is it used?\n",
    "\n",
    "'''A function is a block of code which only runs when it is called. You can pass data, known as parameters, into a function. A function can return data as a result.'''\n"
   ]
  },
  {
   "cell_type": "code",
   "execution_count": 22,
   "metadata": {},
   "outputs": [
    {
     "name": "stdout",
     "output_type": "stream",
     "text": [
      "Hello, world!\n"
     ]
    }
   ],
   "source": [
    "# 2.How do you define a function in Python? Provide an example.\n",
    "\n",
    "'''The def keyword tells Python that you are defining a function. The function_name is the name of the function. The parameters are the arguments that the function takes. The : character separates the function name and the body of the function.\n",
    "The body of the function is the code that is executed when the function is called. The function can return a value using the return keyword.'''\n",
    "\n",
    "def hello_world():\n",
    "  print(\"Hello, world!\")\n",
    "\n",
    "hello_world()"
   ]
  },
  {
   "cell_type": "code",
   "execution_count": null,
   "metadata": {},
   "outputs": [],
   "source": [
    "# 3.Explain the difference between a function definition and a function call.\n",
    "\n",
    "'''A function is a block of code that performs a specific operation and returns a result. A function call is the code used to pass control to a function. \n",
    "A function definition does not run the code. It just defines the name. A function call runs the code inside the function. \n",
    "To call a function, you write the name of the function followed by (); . For example, if you define the function timesTwo to multiply a number by two, you can call the function by entering “timesTwo(2)”. \n",
    "Defining a function occurs at development time, while calling a function occurs at runtime'''\n"
   ]
  },
  {
   "cell_type": "code",
   "execution_count": 65,
   "metadata": {},
   "outputs": [
    {
     "name": "stdout",
     "output_type": "stream",
     "text": [
      "The sum of 5 and 3 is: 8\n"
     ]
    }
   ],
   "source": [
    "# 4.Write a Python program that defines a function to calculate the sum of two numbers and then calls the function.\n",
    "\n",
    "def add_numbers(x, y):\n",
    "    result = x + y\n",
    "    return result\n",
    "\n",
    "num1 = 5\n",
    "num2 = 3\n",
    "\n",
    "sum_result = add_numbers(num1, num2)\n",
    "\n",
    "print(f\"The sum of {num1} and {num2} is: {sum_result}\")\n"
   ]
  },
  {
   "cell_type": "code",
   "execution_count": null,
   "metadata": {},
   "outputs": [],
   "source": [
    "# 5.What is a function signature, and what information does it typically include?\n",
    "\n",
    "'''In Python, formal parameters are the variable names listed inside the parentheses in the function definition. Actual arguments are the values that are passed to the function when it is called.\n",
    "\n",
    "def say_hello(name):\n",
    " print(\"Hello, \" + name + \"!\")\n",
    " \n",
    " \n",
    " When the function is called, an actual argument is passed to the name formal parameter. The type of the actual argument must be compatible with the type of the formal parameter. In this case, the actual argument must be a string.\n",
    "For example, the following call to the say_hello() function passes the string \"John\" as the actual argument to the name formal parameter:\n",
    "\n",
    "say_hello(\"John\")\n",
    "\n",
    "'''\n",
    "\n",
    "\n"
   ]
  },
  {
   "cell_type": "code",
   "execution_count": 66,
   "metadata": {},
   "outputs": [
    {
     "name": "stdout",
     "output_type": "stream",
     "text": [
      "The product of 5 and 3 is: 15\n"
     ]
    }
   ],
   "source": [
    "# 6.Create a Python function that takes two arguments and returns their product.\n",
    "\n",
    "def multiply_numbers(x, y):\n",
    "    result = x * y\n",
    "    return result\n",
    "\n",
    "num1 = 5\n",
    "num2 = 3\n",
    "product = multiply_numbers(num1, num2)\n",
    "print(f\"The product of {num1} and {num2} is: {product}\")\n"
   ]
  },
  {
   "cell_type": "markdown",
   "metadata": {},
   "source": [
    "# Function Parameters and Arguments:\n"
   ]
  },
  {
   "cell_type": "code",
   "execution_count": null,
   "metadata": {},
   "outputs": [],
   "source": [
    "\n",
    "# 1.Explain the concepts of formal parameters and actual arguments in Python functions.\n"
   ]
  },
  {
   "cell_type": "code",
   "execution_count": 67,
   "metadata": {},
   "outputs": [
    {
     "name": "stdout",
     "output_type": "stream",
     "text": [
      "Hello, Guest!\n",
      "Hi, Alice!\n"
     ]
    }
   ],
   "source": [
    "# 2.Write a Python program that defines a function with default argument values.\n",
    "\n",
    "def greet(name=\"Guest\", greeting=\"Hello\"):\n",
    "    message = f\"{greeting}, {name}!\"\n",
    "    return message\n",
    "\n",
    "default_greeting = greet()\n",
    "print(default_greeting) \n",
    "custom_greeting = greet(\"Alice\", \"Hi\")\n",
    "print(custom_greeting) \n"
   ]
  },
  {
   "cell_type": "code",
   "execution_count": 68,
   "metadata": {},
   "outputs": [
    {
     "name": "stdout",
     "output_type": "stream",
     "text": [
      "6\n",
      "150\n",
      "0\n"
     ]
    }
   ],
   "source": [
    "# 3.How do you use keyword arguments in Python function calls? Provide an example.\n",
    "\n",
    "def sum_values(*args):\n",
    "    total = 0\n",
    "    for num in args:\n",
    "        total += num\n",
    "    return total\n",
    "result1 = sum_values(1, 2, 3)\n",
    "print(result1) \n",
    "\n",
    "result2 = sum_values(10, 20, 30, 40, 50)\n",
    "print(result2)  \n",
    "\n",
    "result3 = sum_values() \n",
    "print(result3) \n"
   ]
  },
  {
   "cell_type": "code",
   "execution_count": 21,
   "metadata": {},
   "outputs": [
    {
     "name": "stdout",
     "output_type": "stream",
     "text": [
      "60\n"
     ]
    }
   ],
   "source": [
    "# 4.Create a Python function that accepts a variable number of arguments and calculates their sum.\n",
    "\n",
    "def calculate_sum(*args):\n",
    "    total = 0\n",
    "    for num in args:\n",
    "        total += num\n",
    "    return total\n",
    "\n",
    "result1 = calculate_sum(10, 20, 30)\n",
    "print(result1)\n",
    "\n",
    "\n"
   ]
  },
  {
   "cell_type": "code",
   "execution_count": null,
   "metadata": {},
   "outputs": [],
   "source": [
    "# 5.What is the purpose of the `*args` and `**kwargs` syntax in function parameter lists?\n",
    "\n",
    "'''The *args and **kwargs syntax in function parameter lists are used to allow a function to accept a variable number of arguments. *args is used to accept a variable number of positional arguments, and **kwargs is used to accept a variable number of keyword arguments.'''\n",
    "\n"
   ]
  },
  {
   "cell_type": "code",
   "execution_count": 19,
   "metadata": {},
   "outputs": [
    {
     "name": "stdout",
     "output_type": "stream",
     "text": [
      "(1, 2, 3, 4, 5)\n"
     ]
    }
   ],
   "source": [
    "def my_argfunction(*args):\n",
    "  print(args)\n",
    "my_argfunction(1, 2, 3, 4, 5)\n"
   ]
  },
  {
   "cell_type": "code",
   "execution_count": 20,
   "metadata": {},
   "outputs": [
    {
     "name": "stdout",
     "output_type": "stream",
     "text": [
      "{'a': 1, 'b': 2, 'c': 3}\n"
     ]
    }
   ],
   "source": [
    "def my_keyargfunction(**kwargs):\n",
    "  print(kwargs)\n",
    "  \n",
    "my_keyargfunction(a=1, b=2, c=3)"
   ]
  },
  {
   "cell_type": "markdown",
   "metadata": {},
   "source": [
    "# Return Values and Scoping:"
   ]
  },
  {
   "cell_type": "code",
   "execution_count": 11,
   "metadata": {},
   "outputs": [],
   "source": [
    "# 1.Describe the role of the `return` statement in Python functions and provide examples.\n",
    "\n",
    "'''The return statement in Python functions is used to end the execution of the function and return a value to the caller. The value that is returned can be any Python object, such as a number, a string, a list, or a dictionary.'''\n",
    "\n",
    "def add_one(x):\n",
    "  \"\"\"Returns the sum of 1 and the given number.\"\"\"\n",
    "  return x + 1\n",
    "\n",
    "def get_user_input():\n",
    "  \"\"\"Returns the user's input as a string.\"\"\"\n",
    "  return input(\"Enter your name: \")\n",
    "\n",
    "def is_even(x):\n",
    "  \"\"\"Returns `True` if `x` is even, `False` otherwise.\"\"\"\n",
    "  return x % 2 == 0\n",
    "\n"
   ]
  },
  {
   "cell_type": "code",
   "execution_count": 69,
   "metadata": {},
   "outputs": [
    {
     "name": "stdout",
     "output_type": "stream",
     "text": [
      "Inside the function:\n",
      "global_var: 10\n",
      "Outside the function after modification:\n",
      "global_var: 20\n"
     ]
    }
   ],
   "source": [
    "# 2.Explain the concept of variable scope in Python, including local and global variables.\n",
    "\n",
    "global_var = 10\n",
    "\n",
    "def use_global_var():\n",
    "    print(\"Inside the function:\")\n",
    "    print(\"global_var:\", global_var)  \n",
    "\n",
    "use_global_var()\n",
    "\n",
    "def modify_global_var():\n",
    "    global global_var \n",
    "    global_var = 20\n",
    "\n",
    "modify_global_var()\n",
    "print(\"Outside the function after modification:\")\n",
    "print(\"global_var:\", global_var)  \n",
    "\n"
   ]
  },
  {
   "cell_type": "code",
   "execution_count": 71,
   "metadata": {},
   "outputs": [
    {
     "name": "stdout",
     "output_type": "stream",
     "text": [
      "The factorial of 5 is: 120\n"
     ]
    }
   ],
   "source": [
    "# 4.Create a Python function that calculates the factorial of a number and returns it.\n",
    "\n",
    "def factorial(n):\n",
    "    if n == 0:\n",
    "        return 1\n",
    "    else:\n",
    "        return n * factorial(n - 1)\n",
    "\n",
    "num = 5\n",
    "result = factorial(num)\n",
    "print(f\"The factorial of {num} is: {result}\")"
   ]
  },
  {
   "cell_type": "code",
   "execution_count": null,
   "metadata": {},
   "outputs": [],
   "source": [
    "# 5.How can you access variables defined outside a function from within the function?\n",
    "\n",
    "'''To access variables defined outside a function from within the function, you can use the global keyword. The global keyword tells Python that you want to access a variable that is defined outside of the function. For example, if you have a variable named name that is defined outside of a function, you can access it from inside the function by using the following code:'''\n",
    "\n",
    "def my_function():\n",
    "  global name\n",
    "  print(name)\n",
    "\n",
    "my_function()\n"
   ]
  },
  {
   "cell_type": "markdown",
   "metadata": {},
   "source": [
    "# Lambda Functions and Higher-Order Functions:"
   ]
  },
  {
   "cell_type": "code",
   "execution_count": 4,
   "metadata": {},
   "outputs": [
    {
     "data": {
      "text/plain": [
       "25"
      ]
     },
     "execution_count": 4,
     "metadata": {},
     "output_type": "execute_result"
    }
   ],
   "source": [
    "# 1.What are lambda functions in Python, and when are they typically used?\n",
    "\n",
    "'''A lambda function in Python is a small, anonymous function that can be used wherever a function is required. It is defined with the lambda keyword followed by a list of arguments and an expression. The expression is evaluated and the result is returned. Lambda functions are often used in conjunction with other Python functions, such as map(), filter(), and reduce().'''\n",
    "\n",
    "square = lambda x: x * x\n",
    "\n",
    "square(5)\n"
   ]
  },
  {
   "cell_type": "code",
   "execution_count": 6,
   "metadata": {},
   "outputs": [
    {
     "name": "stdout",
     "output_type": "stream",
     "text": [
      "(13, 16)\n",
      "(62, 43)\n",
      "(75, 79)\n",
      "(14, 87)\n"
     ]
    }
   ],
   "source": [
    "# 2.Write a Python program that uses lambda functions to sort a list of tuples based on the second element.\n",
    "\n",
    "\n",
    "tuples_list = [(13, 16), (14, 87), (62, 43), (75, 79)]\n",
    "\n",
    "# Sort the list based on the second element of each tuple using a lambda function\n",
    "sorted_list = sorted(tuples_list, key=lambda x: x[1])\n",
    "\n",
    "for i in sorted_list:\n",
    "    print(i)\n"
   ]
  },
  {
   "cell_type": "code",
   "execution_count": 8,
   "metadata": {},
   "outputs": [
    {
     "name": "stdout",
     "output_type": "stream",
     "text": [
      "Sum =  30\n"
     ]
    }
   ],
   "source": [
    "# 3.Explain the concept of higher-order functions in Python, and provide an example.\n",
    "\n",
    "'''A higher-order function is a function that takes one or more functions as arguments and/or produces a function as a result. They are a powerful tool in Python that can be used to make code more concise and reusable.\n",
    "One example of a higher-order function in Python is the map() function. map() takes two arguments: a function and a sequence. The function is applied to each element of the sequence, and the results are returned as a new sequence.'''\n",
    "\n",
    "def demoFunc(x,y):\n",
    "   print(\"Sum = \",x+y)\n",
    "\n",
    "# outer function\n",
    "def outerFunc(sample):\n",
    "   def innerFunc(x,y): # inner function\n",
    "      return sample(x,y)\n",
    "   return innerFunc\n",
    "\n",
    "# calling\n",
    "demoFunc2 = outerFunc(demoFunc)\n",
    "demoFunc2(10, 20)\n",
    "\n"
   ]
  },
  {
   "cell_type": "code",
   "execution_count": null,
   "metadata": {},
   "outputs": [],
   "source": [
    "# 4.Create a Python function that takes a list of numbers and a function as arguments, applying the function \n",
    "# to each element in the list.\n"
   ]
  },
  {
   "cell_type": "markdown",
   "metadata": {},
   "source": [
    "# Built-in Functions:\n"
   ]
  },
  {
   "cell_type": "code",
   "execution_count": 1,
   "metadata": {},
   "outputs": [],
   "source": [
    "# 1.Describe the role of built-in functions like `len()`, `max()`, and `min()` in Python.\n",
    "\n",
    "'''\n",
    "The len() function returns the length of an object. For example, len('hello') would return 5, because the string 'hello' has 5 characters. len() can be used on a variety of objects, including lists, strings, dictionaries, and sets.\n",
    "print(len('Hello World'))\n",
    "\n",
    "\n",
    "The max() function returns the maximum value in a sequence. For example, max() would return 5, because 5 is the largest value in the list. max() can be used on a variety of objects, including lists, strings, and dictionaries.\n",
    "print(max('c', 'a', 'b'))\n",
    "\n",
    "\n",
    "The min() function returns the minimum value in a sequence. For example, min() would return 1, because 1 is the smallest value in the list. min() can be used on a variety of objects, including lists, strings, and dictionaries.\n",
    "print(min(3, 2, 5))\n",
    "\n",
    "'''\n"
   ]
  },
  {
   "cell_type": "code",
   "execution_count": 3,
   "metadata": {},
   "outputs": [
    {
     "name": "stdout",
     "output_type": "stream",
     "text": [
      "[2, 4, 6, 8, 10]\n"
     ]
    }
   ],
   "source": [
    "# 2.Write a Python program that uses the `map()` function to apply a function to each element of a list.\n",
    "\n",
    "# Define a list of numbers.\n",
    "numbers = [1, 2, 3, 4, 5]\n",
    "\n",
    "# Define a function that doubles its argument.\n",
    "double = lambda x: x * 2\n",
    "\n",
    "# Apply the double function to each element of the list using the map() function.\n",
    "doubled_numbers = list(map(double, numbers))\n",
    "\n",
    "# Print the doubled numbers.\n",
    "print(doubled_numbers)\n"
   ]
  },
  {
   "cell_type": "code",
   "execution_count": null,
   "metadata": {},
   "outputs": [],
   "source": [
    "# 3.How does the `filter()` function work in Python, and when would you use it?\n",
    "\n",
    "'''\n",
    "The filter() function can be used in a variety of ways, such as to:\n",
    "Extract values from an iterable that satisfy a certain condition. For example, you could use filter() to extract all the even numbers from a list.\n",
    "Remove values from an iterable that satisfy a certain condition. For example, you could use filter() to remove all the empty strings from a list.\n",
    "Transform values in an iterable. For example, you could use filter() to convert all the strings in a list to uppercase.\n",
    "The filter() function is a powerful tool that can be used to manipulate iterables in a variety of ways.\n",
    "Few Examples\n",
    "'''\n",
    "\n",
    "# Extract all the even numbers from a list:\n",
    "\n",
    "numbers = [1, 2, 3, 4, 5]\n",
    "even_numbers = filter(lambda x: x % 2 == 0, numbers)\n",
    "\n",
    "# Remove all the empty strings from a list:\n",
    "\n",
    "strings = [\"hello\", \"\", \"world\"]\n",
    "nonempty_strings = filter(None, strings)\n",
    "\n",
    "# Convert all the strings in a list to uppercase:\n",
    "\n",
    "strings = [\"hello\", \"world\"]\n",
    "uppercased_strings = filter(str.upper, strings)\n"
   ]
  },
  {
   "cell_type": "code",
   "execution_count": 2,
   "metadata": {},
   "outputs": [
    {
     "name": "stdout",
     "output_type": "stream",
     "text": [
      "24\n"
     ]
    }
   ],
   "source": [
    "# 4.Create a Python program that uses the `reduce()` function to find the product of all elements in a list.\n",
    "\n",
    "from functools import reduce \n",
    "\n",
    "myNumbs = [1, 2, 3, 4]\n",
    "res = reduce(lambda a, b: a * b, myNumbs)\n",
    "print(res)\n"
   ]
  },
  {
   "cell_type": "markdown",
   "metadata": {},
   "source": [
    "# Function Documentation and Best Practices:\n",
    "\n"
   ]
  },
  {
   "cell_type": "code",
   "execution_count": null,
   "metadata": {},
   "outputs": [],
   "source": [
    "# 1.Explain the purpose of docstrings in Python functions and how to write them.\n",
    "\n",
    "'''Python docstrings are the string literals that appear right after the definition of a function, method, class, or module. Let's take an example.'''\n",
    "\n",
    "def square(n):\n",
    "    '''Takes in a number n, returns the square of n'''\n",
    "    return n**2"
   ]
  },
  {
   "cell_type": "code",
   "execution_count": null,
   "metadata": {},
   "outputs": [],
   "source": [
    "# 2.Describe some best practices for naming functions and variables in Python, including naming conventions and guidelines.\n",
    "\n",
    "'''\n",
    "Naming functions and variables in Python according to best practices is essential for writing clean, readable, and maintainable code :\n",
    "\n",
    "### Naming Styles\n",
    "Function :\tUse a lowercase word or words. Separate words by underscores to improve readability. \n",
    "            like function, my_function\n",
    "\n",
    "Variable : Use a lowercase single letter, word, or words. Separate words with underscores to improve readability.\t\n",
    "           like x, var, my_variable\n",
    "\n",
    "Class :\tStart each word with a capital letter. Do not separate words with underscores. This style is called camel case or pascal  case.\tlike Model, MyClass\n",
    "\n",
    "Method :Use a lowercase word or words. Separate words with underscores to improve readability.\tlike class_method, method\n",
    "\n",
    "Constant : Use an uppercase single letter, word, or words. Separate words with underscores to improve readability.\tlike CONSTANT, MY_CONSTANT, MY_LONG_CONSTANT\n",
    "\n",
    "Module : Use a short, lowercase word or words. Separate words with underscores to improve readability. like module.py, my_module.py\n",
    "\n",
    "Package\t: Use a short, lowercase word or words. Do not separate words with underscores.\tlike  package, mypackage\n",
    "\n",
    "\n",
    "\n",
    "Use Descriptive Names: Choose names that reflect the purpose or meaning of the function or variable. Names like total or calculate_total are more informative than generic names like x or result.\n",
    "\n",
    "Use Lowercase with Underscores: For variable names, use lowercase letters with underscores to separate words. For example: word_list, max_value.\n",
    "\n",
    "Use CamelCase for Function Names: Function names should start with a lowercase letter and use CamelCase to separate words. For example: calculateTotal, processData.\n",
    "\n",
    "Avoid Using Single-Character Names: Exceptionally short variable names like x, i, or a should be used sparingly and only in situations where their meaning is clear from the context (e.g., loop counters).\n",
    "\n",
    "Be Consistent: Maintain consistency in your naming conventions throughout your codebase. If you start with CamelCase for function names, stick with it. If you use underscores for variables, be consistent.\n",
    "\n",
    "Use Verb-Noun Format for Functions: Function names should typically describe an action or operation followed by a noun. For example, calculateTotal, getUserInfo.\n",
    "\n",
    "Avoid Reserved Keywords: Don't use Python's reserved keywords like if, while, or class as variable or function names.\n",
    "\n",
    "Avoid Abbreviations: Avoid excessive or unclear abbreviations in your names. While some abbreviations like temp for \"temperature\" may be widely understood, others can make your code less readable.\n",
    "\n",
    "Use Meaningful Names for Booleans: When naming Boolean variables, use names that are descriptive of the condition they represent. For example, instead of flag, use is_valid.\n",
    "\n",
    "Use Plural for Collections: When naming lists, sets, or other collections, use a plural form to indicate that it's a collection of items. For example, users, colors.\n",
    "\n",
    "Follow PEP 8: PEP 8 is the official Python style guide, and it provides detailed conventions for naming functions and variables. Following PEP 8 is a good practice for Python developers.\n",
    "\n",
    "Avoid Global Variables: If possible, avoid using global variables. Use function parameters and return values to pass data between functions.\n",
    "\n",
    "Use Meaningful Constants: If you need constants, use uppercase letters with underscores to indicate that they are constants. For example, MAX_VALUE.\n",
    "\n",
    "Document Your Code: Provide comments and docstrings to explain the purpose of functions and the usage of variables, especially if they have non-obvious names.\n",
    "\n",
    "Keep Names Short but Descriptive: While descriptive names are crucial, avoid overly long names. Find a balance between clarity and brevity.\n",
    "\n",
    "\n",
    "'''\n"
   ]
  }
 ],
 "metadata": {
  "kernelspec": {
   "display_name": "Python 3 (ipykernel)",
   "language": "python",
   "name": "python3"
  },
  "language_info": {
   "codemirror_mode": {
    "name": "ipython",
    "version": 3
   },
   "file_extension": ".py",
   "mimetype": "text/x-python",
   "name": "python",
   "nbconvert_exporter": "python",
   "pygments_lexer": "ipython3",
   "version": "3.11.4"
  },
  "widgets": {
   "application/vnd.jupyter.widget-state+json": {
    "state": {},
    "version_major": 2,
    "version_minor": 0
   }
  }
 },
 "nbformat": 4,
 "nbformat_minor": 4
}
