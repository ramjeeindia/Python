{
 "cells": [
  {
   "cell_type": "code",
   "execution_count": 9,
   "metadata": {},
   "outputs": [],
   "source": [
    "####### Assignment 19 Aug 2023\n",
    "#+++++++++=TOPIC: Python Basics Variable"
   ]
  },
  {
   "cell_type": "code",
   "execution_count": 2,
   "metadata": {},
   "outputs": [],
   "source": [
    "#Q1. Declare two variables, `x` and `y`, and assign them integer values.Swap the values of these variables without using any temporary\n",
    "# variable.\n",
    "x = 10\n",
    "y = 25"
   ]
  },
  {
   "cell_type": "code",
   "execution_count": 3,
   "metadata": {},
   "outputs": [
    {
     "name": "stdout",
     "output_type": "stream",
     "text": [
      "Before Swapping : x= 10 and b= 25\n"
     ]
    }
   ],
   "source": [
    "print (\"Before Swapping : x=\",x,\"and b=\",y)"
   ]
  },
  {
   "cell_type": "code",
   "execution_count": 39,
   "metadata": {},
   "outputs": [],
   "source": [
    "x ,y = y , x # define rule for swapping"
   ]
  },
  {
   "cell_type": "code",
   "execution_count": 40,
   "metadata": {},
   "outputs": [
    {
     "name": "stdout",
     "output_type": "stream",
     "text": [
      "After Swapping : x= 10 and b= 25\n"
     ]
    }
   ],
   "source": [
    "print (\"After Swapping : x=\",x,\"and b=\",y)"
   ]
  },
  {
   "cell_type": "code",
   "execution_count": 6,
   "metadata": {},
   "outputs": [],
   "source": [
    "# Q2. Create a program that calculates the area of a rectangle. Take the  length and width as inputs from the user and store them in variables.\n",
    "# Calculate and display the area."
   ]
  },
  {
   "cell_type": "code",
   "execution_count": 7,
   "metadata": {},
   "outputs": [
    {
     "name": "stdin",
     "output_type": "stream",
     "text": [
      "Enter Length of Rectangle :  4.6\n",
      "Enter width of Rectangle :  4.8\n"
     ]
    },
    {
     "name": "stdout",
     "output_type": "stream",
     "text": [
      "Area of Rectangle : 22.08\n"
     ]
    }
   ],
   "source": [
    "length = float(input(\"Enter Length of Rectangle : \"));\n",
    "width = float(input(\"Enter width of Rectangle : \"));\n",
    "area = length * width   # define formula of rectangle\n",
    "print (\"Area of Rectangle is :\",area);"
   ]
  },
  {
   "cell_type": "code",
   "execution_count": 10,
   "metadata": {},
   "outputs": [],
   "source": [
    "# Q3. Write a Python program that converts temperature from Celsius to Fahrenheit. Take the temperature in Celsius as input, store it in a\n",
    "# variable, convert it to Fahrenheit, and display the result."
   ]
  },
  {
   "cell_type": "code",
   "execution_count": 13,
   "metadata": {},
   "outputs": [
    {
     "name": "stdin",
     "output_type": "stream",
     "text": [
      "Enter Temparature in celcious : 10.9\n"
     ]
    },
    {
     "name": "stdout",
     "output_type": "stream",
     "text": [
      "51.620000000000005\n"
     ]
    }
   ],
   "source": [
    "celsius = float(input(\"Enter Temparature in celcious :\")) \n",
    "celsius_to_Farenheit_conv = (celsius * 9/5) + 32 # define conversion celsius to F celsius*9/5 +32\n",
    "print(celsius_to_Farenheit_conv)\n"
   ]
  },
  {
   "cell_type": "code",
   "execution_count": 14,
   "metadata": {},
   "outputs": [],
   "source": [
    "##########  TOPIC: String Based Questions"
   ]
  },
  {
   "cell_type": "code",
   "execution_count": 16,
   "metadata": {},
   "outputs": [],
   "source": [
    "# 1. Write a Python program that takes a string as input and prints the length of the string."
   ]
  },
  {
   "cell_type": "code",
   "execution_count": 18,
   "metadata": {},
   "outputs": [
    {
     "name": "stdin",
     "output_type": "stream",
     "text": [
      "Enter String :  ramjee\n"
     ]
    },
    {
     "name": "stdout",
     "output_type": "stream",
     "text": [
      "Output of Length is : 6\n"
     ]
    }
   ],
   "source": [
    "name = input(\"Enter String : \")\n",
    "print(\"Output of Length is :\",len(name)) "
   ]
  },
  {
   "cell_type": "code",
   "execution_count": null,
   "metadata": {},
   "outputs": [],
   "source": [
    "# 2. Create a program that takes a sentence from the user and counts the number of vowels (a, e, i, o, u) in the string."
   ]
  },
  {
   "cell_type": "code",
   "execution_count": 20,
   "metadata": {},
   "outputs": [
    {
     "name": "stdin",
     "output_type": "stream",
     "text": [
      "Enter the string:  Aerial\n"
     ]
    },
    {
     "name": "stdout",
     "output_type": "stream",
     "text": [
      "4\n"
     ]
    }
   ],
   "source": [
    "input_sentence = input(\"Enter the string: \")\n",
    "vowels = 'aeiouAEIOU' # define vowel list in samlll and capital letter \n",
    "count  = 0\n",
    "for i in input_sentence:\n",
    "    if i in vowels:\n",
    "        count = count + 1\n",
    "print (count)"
   ]
  },
  {
   "cell_type": "code",
   "execution_count": 21,
   "metadata": {},
   "outputs": [],
   "source": [
    "# 3. Given a string, reverse the order of characters using string slicing and print the reversed string."
   ]
  },
  {
   "cell_type": "code",
   "execution_count": 24,
   "metadata": {},
   "outputs": [
    {
     "name": "stdin",
     "output_type": "stream",
     "text": [
      "Enter the String :  welcome\n"
     ]
    },
    {
     "name": "stdout",
     "output_type": "stream",
     "text": [
      "Reversed String is emoclew\n"
     ]
    }
   ],
   "source": [
    "input_string = input(\"Enter the String : \")\n",
    "reversed_string = input_string[::-1]   # reverse using slicing\n",
    "print(\"Reversed String is\",reversed_string)"
   ]
  },
  {
   "cell_type": "code",
   "execution_count": 25,
   "metadata": {},
   "outputs": [],
   "source": [
    "# 4. Write a program that takes a string as input and checks if it is a palindrome (reads the same forwards and backwards)."
   ]
  },
  {
   "cell_type": "code",
   "execution_count": 35,
   "metadata": {},
   "outputs": [
    {
     "name": "stdin",
     "output_type": "stream",
     "text": [
      "Enter the String : alla\n"
     ]
    },
    {
     "name": "stdout",
     "output_type": "stream",
     "text": [
      "The string is a palindrome.\n"
     ]
    }
   ],
   "source": [
    "user_input = input(\"Enter the String :\")\n",
    "lower_case = user_input.lower()\n",
    "palindrome = lower_case[::-1]\n",
    "if palindrome == lower_case:\n",
    "    print (\"The string is a palindrome.\")\n",
    "else:\n",
    "    print (\"The string is not a palindrome.\")\n",
    "    "
   ]
  },
  {
   "cell_type": "code",
   "execution_count": 37,
   "metadata": {},
   "outputs": [],
   "source": [
    "# 5. Create a program that takes a string as input and removes all the\n",
    "# spaces from it. Print the modified string without spaces."
   ]
  },
  {
   "cell_type": "code",
   "execution_count": 38,
   "metadata": {},
   "outputs": [
    {
     "name": "stdin",
     "output_type": "stream",
     "text": [
      "Enter multiple String : Hello How Are You !\n"
     ]
    },
    {
     "name": "stdout",
     "output_type": "stream",
     "text": [
      "The modified string without Space is HelloHowAreYou!\n"
     ]
    }
   ],
   "source": [
    "multiple_string = input(\"Enter multiple String :\")\n",
    "modified_string = multiple_string.replace(\" \",\"\") # define spave replace with blank\n",
    "print(\"The modified string without Space is\",modified_string)"
   ]
  },
  {
   "cell_type": "code",
   "execution_count": null,
   "metadata": {},
   "outputs": [],
   "source": []
  }
 ],
 "metadata": {
  "kernelspec": {
   "display_name": "Python 3 (ipykernel)",
   "language": "python",
   "name": "python3"
  },
  "language_info": {
   "codemirror_mode": {
    "name": "ipython",
    "version": 3
   },
   "file_extension": ".py",
   "mimetype": "text/x-python",
   "name": "python",
   "nbconvert_exporter": "python",
   "pygments_lexer": "ipython3",
   "version": "3.11.4"
  }
 },
 "nbformat": 4,
 "nbformat_minor": 4
}
