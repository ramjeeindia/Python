{
 "cells": [
  {
   "cell_type": "markdown",
   "metadata": {},
   "source": [
    "# Basic If-Else Statements:"
   ]
  },
  {
   "cell_type": "code",
   "execution_count": 6,
   "metadata": {},
   "outputs": [
    {
     "name": "stdin",
     "output_type": "stream",
     "text": [
      "Enter a Number:  17\n"
     ]
    },
    {
     "name": "stdout",
     "output_type": "stream",
     "text": [
      "17\n"
     ]
    }
   ],
   "source": [
    "# 1. Write a Python program to check if a given number is positive or negative.\n",
    "\n",
    "# take input from user\n",
    "input_num = int(input(\"Enter a Number: \"))\n",
    "# define condition if x>0 , x<0 and x=0 \n",
    "def check(x):\n",
    "    if x > 0:\n",
    "        print(\"The Value is Positive\")\n",
    "    elif x < 0:\n",
    "        print(\"The Value is Negative\")\n",
    "    else:\n",
    "        print(\"The Value is Zero\")\n",
    "print(input_num)"
   ]
  },
  {
   "cell_type": "code",
   "execution_count": 10,
   "metadata": {},
   "outputs": [
    {
     "name": "stdin",
     "output_type": "stream",
     "text": [
      "Enter a Age:  19\n"
     ]
    },
    {
     "name": "stdout",
     "output_type": "stream",
     "text": [
      "You are eligible for Vote\n"
     ]
    }
   ],
   "source": [
    "# 2. Create a program that determines if a person is eligible to vote based on their age.\n",
    "\n",
    "# define input age as 18\n",
    "input_age = int(input(\"Enter a Age: \"))\n",
    "if input_age >= 18:\n",
    "    print(\"You are eligible for Vote\")\n",
    "else:\n",
    "    print(\"You are eligible for Vote\")\n"
   ]
  },
  {
   "cell_type": "code",
   "execution_count": 12,
   "metadata": {},
   "outputs": [
    {
     "name": "stdin",
     "output_type": "stream",
     "text": [
      "Enter First Number 45\n",
      "Enter Second Number 66\n"
     ]
    },
    {
     "name": "stdout",
     "output_type": "stream",
     "text": [
      "66 is greater than 45\n"
     ]
    }
   ],
   "source": [
    "# 3. Develop a program to find the maximum of two numbers using if-else statements.\n",
    "\n",
    "# take two input from users\n",
    "num1 = int(input(\"Enter First Number\"))\n",
    "num2 = int(input(\"Enter Second Number\"))\n",
    "# define logic for greater number\n",
    "if num1 > num2:\n",
    "    print(f\"{num1} is greater than {num2}\")\n",
    "else:\n",
    "    print(f\"{num2} is greater than {num1}\")\n"
   ]
  },
  {
   "cell_type": "code",
   "execution_count": 3,
   "metadata": {},
   "outputs": [
    {
     "name": "stdin",
     "output_type": "stream",
     "text": [
      "Enter a year:  2056\n"
     ]
    },
    {
     "name": "stdout",
     "output_type": "stream",
     "text": [
      "Leap year\n"
     ]
    }
   ],
   "source": [
    "# 4. Write a Python script to classify a given year as a leap year or not.\n",
    "year = int(input(\"Enter a year: \"))\n",
    "\n",
    "if (year % 4 == 0 and year % 100 != 0) or (year % 400 == 0):\n",
    "    print(\"Leap year\")\n",
    "else:\n",
    "    print(\"Not a leap year\")"
   ]
  },
  {
   "cell_type": "code",
   "execution_count": 3,
   "metadata": {},
   "outputs": [
    {
     "name": "stdin",
     "output_type": "stream",
     "text": [
      "Enter a character:  r\n"
     ]
    },
    {
     "name": "stdout",
     "output_type": "stream",
     "text": [
      "It's a consonant.\n"
     ]
    }
   ],
   "source": [
    "# 5. Create a program that checks whether a character is a vowel or a consonant.\n",
    "\n",
    "# take input characture from user and convert in lowecase\n",
    "char = input(\"Enter a character: \").lower()\n",
    "# logic for vowel and consonant\n",
    "if char.isalpha() and len(char) == 1:\n",
    "    if char in 'aeiou':\n",
    "        print(\"It's a vowel.\")\n",
    "    else:\n",
    "        print(\"It's a consonant.\")\n",
    "else:\n",
    "    print(\"Invalid input. Please enter a single character.\")"
   ]
  },
  {
   "cell_type": "code",
   "execution_count": 4,
   "metadata": {},
   "outputs": [
    {
     "name": "stdin",
     "output_type": "stream",
     "text": [
      "Enter a number:  45\n"
     ]
    },
    {
     "name": "stdout",
     "output_type": "stream",
     "text": [
      "The number is odd.\n"
     ]
    }
   ],
   "source": [
    "# 6. Implement a program to determine whether a given number is even or odd.\n",
    "\n",
    "#take input number from user\n",
    "num = int(input(\"Enter a number: \"))\n",
    "# logic for even and odd number\n",
    "if num % 2 == 0:\n",
    "    print(\"The number is even.\")\n",
    "else:\n",
    "    print(\"The number is odd.\")"
   ]
  },
  {
   "cell_type": "code",
   "execution_count": 5,
   "metadata": {},
   "outputs": [
    {
     "name": "stdin",
     "output_type": "stream",
     "text": [
      "Enter a number:  56\n"
     ]
    },
    {
     "name": "stdout",
     "output_type": "stream",
     "text": [
      "The absolute value is: 56.0\n"
     ]
    }
   ],
   "source": [
    "# 7. Write a Python function to calculate the absolute value of a number without using the `abs()` function.\n",
    "\n",
    "#take input number from user \n",
    "num = float(input(\"Enter a number: \"))\n",
    "# logic to convert in abs value\n",
    "if num < 0:\n",
    "    abs_value = -num\n",
    "else:\n",
    "    abs_value = num\n",
    "\n",
    "print(\"The absolute value is:\", abs_value)\n"
   ]
  },
  {
   "cell_type": "code",
   "execution_count": 6,
   "metadata": {},
   "outputs": [
    {
     "name": "stdin",
     "output_type": "stream",
     "text": [
      "Enter the first number:  70\n",
      "Enter the second number:  45\n",
      "Enter the third number:  49\n"
     ]
    },
    {
     "name": "stdout",
     "output_type": "stream",
     "text": [
      "The largest number is: 70.0\n"
     ]
    }
   ],
   "source": [
    "# 8. Develop a program that determines the largest of three given numbers using if-else statements.\n",
    "\n",
    "# take 3 input numbers from user\n",
    "num1 = float(input(\"Enter the first number: \"))\n",
    "num2 = float(input(\"Enter the second number: \"))\n",
    "num3 = float(input(\"Enter the third number: \"))\n",
    "\n",
    "# logic for find largest number\n",
    "if num1 >= num2 and num1 >= num3:\n",
    "    print(\"The largest number is:\", num1)\n",
    "elif num2 >= num1 and num2 >= num3:\n",
    "    print(\"The largest number is:\", num2)\n",
    "else:\n",
    "    print(\"The largest number is:\", num3)"
   ]
  },
  {
   "cell_type": "code",
   "execution_count": 7,
   "metadata": {},
   "outputs": [
    {
     "name": "stdin",
     "output_type": "stream",
     "text": [
      "Enter a string:  ramjee\n"
     ]
    },
    {
     "name": "stdout",
     "output_type": "stream",
     "text": [
      "It's not a palindrome.\n"
     ]
    }
   ],
   "source": [
    "# 9. Create a program that checks if a given string is a palindrome.\n",
    "\n",
    "# take a input string ffrom user\n",
    "string = input(\"Enter a string: \")\n",
    "# if any space then remove then convert to lower and reverse using ::-1\n",
    "string = string.replace(\" \", \"\").lower()\n",
    "\n",
    "if string == string[::-1]:\n",
    "    print(\"It's a palindrome.\")\n",
    "else:\n",
    "    print(\"It's not a palindrome.\")"
   ]
  },
  {
   "cell_type": "code",
   "execution_count": 8,
   "metadata": {},
   "outputs": [
    {
     "name": "stdin",
     "output_type": "stream",
     "text": [
      "Enter the student's score:  60\n"
     ]
    },
    {
     "name": "stdout",
     "output_type": "stream",
     "text": [
      "The student's grade is: D\n"
     ]
    }
   ],
   "source": [
    "# 10. Write a Python program to calculate the grade based on a student's score.\n",
    "\n",
    "# take a score input from user\n",
    "score = float(input(\"Enter the student's score: \"))\n",
    "# write logic for grade \n",
    "if score >= 90:\n",
    "    grade = 'A'\n",
    "elif score >= 80:\n",
    "    grade = 'B'\n",
    "elif score >= 70:\n",
    "    grade = 'C'\n",
    "elif score >= 60:\n",
    "    grade = 'D'\n",
    "else:\n",
    "    grade = 'F'\n",
    "# print the final grade\n",
    "print(\"The student's grade is:\", grade)"
   ]
  },
  {
   "cell_type": "markdown",
   "metadata": {},
   "source": [
    "# Nested If-Else Statements:"
   ]
  },
  {
   "cell_type": "code",
   "execution_count": 9,
   "metadata": {},
   "outputs": [
    {
     "name": "stdin",
     "output_type": "stream",
     "text": [
      "Enter the first number:  45\n",
      "Enter the second number:  23\n",
      "Enter the third number:  90\n"
     ]
    },
    {
     "name": "stdout",
     "output_type": "stream",
     "text": [
      "The largest number is: 90.0\n"
     ]
    }
   ],
   "source": [
    "# 11. Write a program to find the largest among three numbers using nested if-else statements.\n",
    "\n",
    "# take 3 input numbers from user\n",
    "num1 = float(input(\"Enter the first number: \"))\n",
    "num2 = float(input(\"Enter the second number: \"))\n",
    "num3 = float(input(\"Enter the third number: \"))\n",
    "\n",
    "# define logic for largest among 3 numbers\n",
    "if num1 >= num2:\n",
    "    if num1 >= num3:\n",
    "        largest = num1\n",
    "    else:\n",
    "        largest = num3\n",
    "else:\n",
    "    if num2 >= num3:\n",
    "        largest = num2\n",
    "    else:\n",
    "        largest = num3\n",
    "# print the final result\n",
    "print(\"The largest number is:\", largest)"
   ]
  },
  {
   "cell_type": "code",
   "execution_count": 10,
   "metadata": {},
   "outputs": [
    {
     "name": "stdin",
     "output_type": "stream",
     "text": [
      "Enter the length of the first side:  89.3\n",
      "Enter the length of the second side:  67\n",
      "Enter the length of the third side:  34\n"
     ]
    },
    {
     "name": "stdout",
     "output_type": "stream",
     "text": [
      "It's a scalene triangle.\n"
     ]
    }
   ],
   "source": [
    "# 12. Implement a program to determine if a triangle is equilateral, isosceles, or scalene.\n",
    "\n",
    "# Input 3 length from the user\n",
    "side1 = float(input(\"Enter the length of the first side: \"))\n",
    "side2 = float(input(\"Enter the length of the second side: \"))\n",
    "side3 = float(input(\"Enter the length of the third side: \"))\n",
    "\n",
    "if side1 == side2 == side3:\n",
    "    print(\"It's an equilateral triangle.\")\n",
    "elif side1 == side2 or side1 == side3 or side2 == side3:\n",
    "    print(\"It's an isosceles triangle.\")\n",
    "else:\n",
    "    print(\"It's a scalene triangle.\")"
   ]
  },
  {
   "cell_type": "code",
   "execution_count": 11,
   "metadata": {},
   "outputs": [
    {
     "name": "stdin",
     "output_type": "stream",
     "text": [
      "Enter a year:  2045\n"
     ]
    },
    {
     "name": "stdout",
     "output_type": "stream",
     "text": [
      "Not a leap year\n"
     ]
    }
   ],
   "source": [
    "# 13. Develop a program that checks if a year is a leap year and also if it is a century year.\n",
    "\n",
    "# Input a year from the user\n",
    "year = int(input(\"Enter a year: \"))\n",
    "\n",
    "if (year % 4 == 0 and year % 100 != 0) or (year % 400 == 0):\n",
    "    print(\"Leap year\")\n",
    "    if year % 100 == 0:\n",
    "        print(\"Century year\")\n",
    "else:\n",
    "    print(\"Not a leap year\")"
   ]
  },
  {
   "cell_type": "code",
   "execution_count": 12,
   "metadata": {},
   "outputs": [
    {
     "name": "stdin",
     "output_type": "stream",
     "text": [
      "Enter a number:  45\n"
     ]
    },
    {
     "name": "stdout",
     "output_type": "stream",
     "text": [
      "The number is positive.\n"
     ]
    }
   ],
   "source": [
    "# 14. Write a Python script to determine if a number is positive, negative, or zero.\n",
    "\n",
    "# Input 3 number negatibe , positive or zero from the user\n",
    "num = float(input(\"Enter a number: \"))\n",
    "\n",
    "if num > 0:\n",
    "    print(\"The number is positive.\")\n",
    "elif num < 0:\n",
    "    print(\"The number is negative.\")\n",
    "else:\n",
    "    print(\"The number is zero.\")"
   ]
  },
  {
   "cell_type": "code",
   "execution_count": 13,
   "metadata": {},
   "outputs": [
    {
     "name": "stdin",
     "output_type": "stream",
     "text": [
      "Enter your age:  86\n"
     ]
    },
    {
     "name": "stdout",
     "output_type": "stream",
     "text": [
      "You are not a teenager.\n"
     ]
    }
   ],
   "source": [
    "# 15. Create a program to check if a person is a teenager (between 13 and 19 years old).\n",
    "\n",
    "# Input a age from the user\n",
    "age = int(input(\"Enter your age: \"))\n",
    "\n",
    "if 13 <= age <= 19:\n",
    "    print(\"You are a teenager.\")\n",
    "else:\n",
    "    print(\"You are not a teenager.\")"
   ]
  },
  {
   "cell_type": "code",
   "execution_count": 14,
   "metadata": {},
   "outputs": [
    {
     "name": "stdin",
     "output_type": "stream",
     "text": [
      "Enter the angle measure (in degrees):  67\n"
     ]
    },
    {
     "name": "stdout",
     "output_type": "stream",
     "text": [
      "It's an acute angle.\n"
     ]
    }
   ],
   "source": [
    "# 16. Develop a program that determines the type of angle based on its measure (acute, obtuse, or right).\n",
    "\n",
    "# Input a number from the user\n",
    "angle = float(input(\"Enter the angle measure (in degrees): \"))\n",
    "\n",
    "if angle < 90:\n",
    "    print(\"It's an acute angle.\")\n",
    "elif angle == 90:\n",
    "    print(\"It's a right angle.\")\n",
    "else:\n",
    "    print(\"It's an obtuse angle.\")"
   ]
  },
  {
   "cell_type": "code",
   "execution_count": 34,
   "metadata": {},
   "outputs": [
    {
     "name": "stdout",
     "output_type": "stream",
     "text": [
      "Enter the equation like only number 11x2+3x-2\n"
     ]
    },
    {
     "name": "stdin",
     "output_type": "stream",
     "text": [
      "Enter the number 34\n",
      "Enter the number 4\n",
      "Enter the number 9\n"
     ]
    },
    {
     "name": "stdout",
     "output_type": "stream",
     "text": [
      "-1208\n",
      "(-68.00000000000003-590.857004697414j) (-67.99999999999996+590.857004697414j)\n"
     ]
    }
   ],
   "source": [
    "# 17. Write a Python program to calculate the roots of a quadratic equation.\n",
    "\n",
    "# Input a number from the user\n",
    "print(\"Enter the equation like only number 11x2+3x-2\")\n",
    "a=int(input(\"Enter the number\"))\n",
    "b=int(input(\"Enter the number\"))\n",
    "c=int(input(\"Enter the number\"))\n",
    "# logic\n",
    "x=b**2-4*a*c\n",
    "print(x)\n",
    "y=(-b-(x**0.5))/2*a\n",
    "z=(-b+(x**0.5))/2*a\n",
    "print(y,z)\n"
   ]
  },
  {
   "cell_type": "code",
   "execution_count": 19,
   "metadata": {},
   "outputs": [
    {
     "name": "stdin",
     "output_type": "stream",
     "text": [
      "Enter a number (1 for Monday, 2 for Tuesday, etc.):  3\n"
     ]
    },
    {
     "name": "stdout",
     "output_type": "stream",
     "text": [
      "The day of the week is: Wednesday\n"
     ]
    }
   ],
   "source": [
    "# 18. Implement a program to determine the day of the week based on a user-provided number (1 for Monday, 2\n",
    "# for Tuesday, etc.).\n",
    "\n",
    "# Input a number from 1 to 7 for days from the user\n",
    "day_number = int(input(\"Enter a number (1 for Monday, 2 for Tuesday, etc.): \"))\n",
    "\n",
    "# loigc for each day like 1 for monday, 2 for tuesday...\n",
    "if day_number == 1:\n",
    "    day = \"Monday\"\n",
    "elif day_number == 2:\n",
    "    day = \"Tuesday\"\n",
    "elif day_number == 3:\n",
    "    day = \"Wednesday\"\n",
    "elif day_number == 4:\n",
    "    day = \"Thursday\"\n",
    "elif day_number == 5:\n",
    "    day = \"Friday\"\n",
    "elif day_number == 6:\n",
    "    day = \"Saturday\"\n",
    "elif day_number == 7:\n",
    "    day = \"Sunday\"\n",
    "else:\n",
    "    day = \"Invalid input\"\n",
    "\n",
    "print(\"The day of the week is:\", day)\n"
   ]
  },
  {
   "cell_type": "code",
   "execution_count": 18,
   "metadata": {},
   "outputs": [
    {
     "name": "stdin",
     "output_type": "stream",
     "text": [
      "Enter a year:  2043\n"
     ]
    },
    {
     "name": "stdout",
     "output_type": "stream",
     "text": [
      "Not a leap year\n"
     ]
    }
   ],
   "source": [
    "# 19. Create a program that determines if a year is a leap year and also if it is evenly divisible by 400.\n",
    "\n",
    "# Input a number from the user\n",
    "year = int(input(\"Enter a year: \"))\n",
    "\n",
    "# logic if any year mod 0 then leap else not leap year\n",
    "if (year % 4 == 0 and year % 100 != 0) or (year % 400 == 0):\n",
    "    print(\"Leap year\")\n",
    "    if year % 400 == 0:\n",
    "        print(\"Divisible by 400\")\n",
    "else:\n",
    "    print(\"Not a leap year\")"
   ]
  },
  {
   "cell_type": "code",
   "execution_count": 17,
   "metadata": {},
   "outputs": [
    {
     "name": "stdin",
     "output_type": "stream",
     "text": [
      "Enter a number:  67\n"
     ]
    },
    {
     "name": "stdout",
     "output_type": "stream",
     "text": [
      "Prime number.\n"
     ]
    }
   ],
   "source": [
    "# 20. Develop a program that checks if a given number is prime or not using nested if-else statements.\n",
    "\n",
    "# Input a number from the user\n",
    "num = int(input(\"Enter a number: \"))\n",
    "\n",
    "if num > 1:\n",
    "    for i in range(2, int(num**0.5) + 1):\n",
    "        if (num % i) == 0:\n",
    "            print(\"Not a prime number.\")\n",
    "            break\n",
    "    else:\n",
    "        print(\"Prime number.\")\n",
    "else:\n",
    "    print(\"Not a prime number.\")"
   ]
  },
  {
   "cell_type": "markdown",
   "metadata": {},
   "source": [
    "# Elif Statements:"
   ]
  },
  {
   "cell_type": "code",
   "execution_count": 20,
   "metadata": {},
   "outputs": [
    {
     "name": "stdin",
     "output_type": "stream",
     "text": [
      "Enter the student's score:  34\n"
     ]
    },
    {
     "name": "stdout",
     "output_type": "stream",
     "text": [
      "The student's grade is: F\n"
     ]
    }
   ],
   "source": [
    "# 21. Write a Python program to assign grades based on different ranges of scores using elif statements.\n",
    "\n",
    "# Input a number from the user\n",
    "score = float(input(\"Enter the student's score: \"))\n",
    "\n",
    "# grade logic for number range\n",
    "if score >= 90:\n",
    "    grade = 'A'\n",
    "elif score >= 80:\n",
    "    grade = 'B'\n",
    "elif score >= 70:\n",
    "    grade = 'C'\n",
    "elif score >= 60:\n",
    "    grade = 'D'\n",
    "else:\n",
    "    grade = 'F'\n",
    "\n",
    "print(\"The student's grade is:\", grade)"
   ]
  },
  {
   "cell_type": "code",
   "execution_count": 21,
   "metadata": {},
   "outputs": [
    {
     "name": "stdin",
     "output_type": "stream",
     "text": [
      "Enter the first angle (in degrees):  60\n",
      "Enter the second angle (in degrees):  30\n",
      "Enter the third angle (in degrees):  90\n"
     ]
    },
    {
     "name": "stdout",
     "output_type": "stream",
     "text": [
      "The triangle is: Scalene\n"
     ]
    }
   ],
   "source": [
    "# 22. Implement a program to determine the type of a triangle based on its angles.\n",
    "\n",
    "# Input 3 numbers whose total is 180 from user\n",
    "angle1 = float(input(\"Enter the first angle (in degrees): \"))\n",
    "angle2 = float(input(\"Enter the second angle (in degrees): \"))\n",
    "angle3 = float(input(\"Enter the third angle (in degrees): \"))\n",
    "\n",
    "# logic for angle types\n",
    "if angle1 == 60 and angle2 == 60 and angle3 == 60:\n",
    "    triangle_type = \"Equilateral\"\n",
    "elif angle1 == angle2 or angle1 == angle3 or angle2 == angle3:\n",
    "    triangle_type = \"Isosceles\"\n",
    "else:\n",
    "    triangle_type = \"Scalene\"\n",
    "\n",
    "print(\"The triangle is:\", triangle_type)"
   ]
  },
  {
   "cell_type": "code",
   "execution_count": 1,
   "metadata": {},
   "outputs": [
    {
     "name": "stdin",
     "output_type": "stream",
     "text": [
      "Enter weight in kilograms:  56\n",
      "Enter height in meters:  3\n"
     ]
    },
    {
     "name": "stdout",
     "output_type": "stream",
     "text": [
      "BMI category: Underweight\n"
     ]
    }
   ],
   "source": [
    "##23. Develop a program to categorize a given person's BMI into underweight, normal, overweight, or obese using\n",
    "# elif statements.\n",
    "\n",
    "# Input height and weight from user\n",
    "weight = float(input(\"Enter weight in kilograms: \"))\n",
    "height = float(input(\"Enter height in meters: \"))\n",
    "\n",
    "# bmi calculation formula\n",
    "bmi = weight / (height ** 2)\n",
    "# logic for BMI\n",
    "if bmi < 18.5:\n",
    "    category = \"Underweight\"\n",
    "elif 18.5 <= bmi < 24.9:\n",
    "    category = \"Normal\"\n",
    "elif 24.9 <= bmi < 29.9:\n",
    "    category = \"Overweight\"\n",
    "else:\n",
    "    category = \"Obese\"\n",
    "\n",
    "print(\"BMI category:\", category)"
   ]
  },
  {
   "cell_type": "code",
   "execution_count": 2,
   "metadata": {},
   "outputs": [
    {
     "name": "stdin",
     "output_type": "stream",
     "text": [
      "Enter a number:  45\n"
     ]
    },
    {
     "name": "stdout",
     "output_type": "stream",
     "text": [
      "The number is positive.\n"
     ]
    }
   ],
   "source": [
    "# 24. Create a program that determines whether a given number is positive, negative, or zero using elif\n",
    "# statements.\n",
    "\n",
    "# Input a number from the user\n",
    "num = float(input(\"Enter a number: \"))\n",
    "# LOGIC \n",
    "if num > 0:\n",
    "    print(\"The number is positive.\")\n",
    "elif num < 0:\n",
    "    print(\"The number is negative.\")\n",
    "else:\n",
    "    print(\"The number is zero.\")"
   ]
  },
  {
   "cell_type": "code",
   "execution_count": 3,
   "metadata": {},
   "outputs": [
    {
     "name": "stdin",
     "output_type": "stream",
     "text": [
      "Enter a character:  python\n"
     ]
    },
    {
     "name": "stdout",
     "output_type": "stream",
     "text": [
      "The character is Lowercase.\n"
     ]
    }
   ],
   "source": [
    "# 25. Write a Python script to determine the type of a character (uppercase, lowercase, or special) using elif\n",
    "# statements.\n",
    "\n",
    "# Input a char from the user\n",
    "char = input(\"Enter a character: \")\n",
    "\n",
    "if char.isupper():\n",
    "    char_type = \"Uppercase\"\n",
    "elif char.islower():\n",
    "    char_type = \"Lowercase\"\n",
    "else:\n",
    "    char_type = \"Special character\"\n",
    "\n",
    "print(f\"The character is {char_type}.\")"
   ]
  },
  {
   "cell_type": "code",
   "execution_count": 4,
   "metadata": {},
   "outputs": [
    {
     "name": "stdin",
     "output_type": "stream",
     "text": [
      "Enter the purchase amount:  700\n"
     ]
    },
    {
     "name": "stdout",
     "output_type": "stream",
     "text": [
      "The discounted price is: $665.00\n"
     ]
    }
   ],
   "source": [
    "# 26. Implement a program to calculate the discounted price based on different purchase amounts using elif\n",
    "# statements.\n",
    "\n",
    "# Input a price from the user\n",
    "purchase_amount = float(input(\"Enter the purchase amount: \"))\n",
    "\n",
    "# discount logic like 10 % for 0.1\n",
    "if purchase_amount >= 1000:\n",
    "    discount = 0.1  # 10% discount\n",
    "elif purchase_amount >= 500:\n",
    "    discount = 0.05  # 5% discount\n",
    "else:\n",
    "    discount = 0\n",
    "\n",
    "discounted_price = purchase_amount - (purchase_amount * discount)\n",
    "\n",
    "print(f\"The discounted price is: ${discounted_price:.2f}\")"
   ]
  },
  {
   "cell_type": "code",
   "execution_count": 5,
   "metadata": {},
   "outputs": [
    {
     "name": "stdin",
     "output_type": "stream",
     "text": [
      "Enter the units consumed:  70\n"
     ]
    },
    {
     "name": "stdout",
     "output_type": "stream",
     "text": [
      "The electricity bill is: $40.00\n"
     ]
    }
   ],
   "source": [
    "# 27. Develop a program to calculate the electricity bill based on different consumption slabs using elif statements.\n",
    "\n",
    "# Input a number from the user\n",
    "units_consumed = float(input(\"Enter the units consumed: \"))\n",
    "\n",
    "if units_consumed <= 50:\n",
    "    bill = units_consumed * 0.5\n",
    "elif units_consumed <= 150:\n",
    "    bill = (50 * 0.5) + ((units_consumed - 50) * 0.75)\n",
    "elif units_consumed <= 250:\n",
    "    bill = (50 * 0.5) + (100 * 0.75) + ((units_consumed - 150) * 1.2)\n",
    "else:\n",
    "    bill = (50 * 0.5) + (100 * 0.75) + (100 * 1.2) + ((units_consumed - 250) * 1.5)\n",
    "\n",
    "print(f\"The electricity bill is: ${bill:.2f}\")"
   ]
  },
  {
   "cell_type": "code",
   "execution_count": 6,
   "metadata": {},
   "outputs": [
    {
     "name": "stdin",
     "output_type": "stream",
     "text": [
      "Enter the first angle (in degrees):  70\n",
      "Enter the second angle (in degrees):  50\n",
      "Enter the third angle (in degrees):  60\n",
      "Enter the fourth angle (in degrees):  80\n"
     ]
    },
    {
     "name": "stdout",
     "output_type": "stream",
     "text": [
      "The quadrilateral is a: Quadrilateral\n"
     ]
    }
   ],
   "source": [
    "# 28. Create a program to determine the type of quadrilateral based on its angles and sides using elif statements.\n",
    "\n",
    "# Input four numbers from the user\n",
    "angle1 = float(input(\"Enter the first angle (in degrees): \"))\n",
    "angle2 = float(input(\"Enter the second angle (in degrees): \"))\n",
    "angle3 = float(input(\"Enter the third angle (in degrees): \"))\n",
    "angle4 = float(input(\"Enter the fourth angle (in degrees): \"))\n",
    "\n",
    "# logic for quadrilateral\n",
    "if angle1 == angle2 == angle3 == angle4 == 90:\n",
    "    quadrilateral_type = \"Square\"\n",
    "elif (angle1 == angle3 and angle2 == angle4) or (angle1 == angle2 and angle3 == angle4):\n",
    "    quadrilateral_type = \"Rectangle\"\n",
    "elif angle1 == angle2 == angle3 == angle4:\n",
    "    quadrilateral_type = \"Rhombus\"\n",
    "else:\n",
    "    quadrilateral_type = \"Quadrilateral\"\n",
    "\n",
    "print(\"The quadrilateral is a:\", quadrilateral_type)"
   ]
  },
  {
   "cell_type": "code",
   "execution_count": 8,
   "metadata": {},
   "outputs": [
    {
     "name": "stdin",
     "output_type": "stream",
     "text": [
      "Enter a month:  september\n"
     ]
    },
    {
     "name": "stdout",
     "output_type": "stream",
     "text": [
      "The season for september is Autumn.\n"
     ]
    }
   ],
   "source": [
    "# 29. Write a Python script to determine the season based on a user-provided month using elif statements.\n",
    "\n",
    "# Input month from the user\n",
    "month = input(\"Enter a month: \").lower()\n",
    "\n",
    "if month in (\"december\", \"january\", \"february\"):\n",
    "    season = \"Winter\"\n",
    "elif month in (\"march\", \"april\", \"may\"):\n",
    "    season = \"Spring\"\n",
    "elif month in (\"june\", \"july\", \"august\"):\n",
    "    season = \"Summer\"\n",
    "elif month in (\"september\", \"october\", \"november\"):\n",
    "    season = \"Autumn\"\n",
    "else:\n",
    "    season = \"Invalid month\"\n",
    "\n",
    "print(f\"The season for {month} is {season}.\")"
   ]
  },
  {
   "cell_type": "code",
   "execution_count": 10,
   "metadata": {},
   "outputs": [
    {
     "name": "stdin",
     "output_type": "stream",
     "text": [
      "Enter a year:  2023\n",
      "Enter a month:  september\n"
     ]
    },
    {
     "name": "stdout",
     "output_type": "stream",
     "text": [
      "Common year, September has 30 days.\n"
     ]
    }
   ],
   "source": [
    "# 30. Implement a program to determine the type of a year (leap or common) and month (30 or 31 days) using elif statements.\n",
    "\n",
    "year = int(input(\"Enter a year: \"))\n",
    "month = input(\"Enter a month: \").lower()\n",
    "\n",
    "if (year % 4 == 0 and year % 100 != 0) or (year % 400 == 0):\n",
    "    year_type = \"Leap year\"\n",
    "else:\n",
    "    year_type = \"Common year\"\n",
    "\n",
    "if month in (\"january\", \"march\", \"may\", \"july\", \"august\", \"october\", \"december\"):\n",
    "    days_in_month = 31\n",
    "elif month in (\"april\", \"june\", \"september\", \"november\"):\n",
    "    days_in_month = 30\n",
    "elif month == \"february\":\n",
    "    days_in_month = 29 if year_type == \"Leap year\" else 28\n",
    "else:\n",
    "    days_in_month = \"Invalid month\"\n",
    "\n",
    "print(f\"{year_type}, {month.capitalize()} has {days_in_month} days.\")"
   ]
  },
  {
   "cell_type": "markdown",
   "metadata": {},
   "source": [
    "## Basic Level:"
   ]
  },
  {
   "cell_type": "code",
   "execution_count": 4,
   "metadata": {},
   "outputs": [
    {
     "name": "stdin",
     "output_type": "stream",
     "text": [
      "Enter a Number 45\n"
     ]
    },
    {
     "name": "stdout",
     "output_type": "stream",
     "text": [
      "The input number 45.0 is Positive\n"
     ]
    }
   ],
   "source": [
    "# 1. Write a Python program that checks if a given number is positive, negative, or zero.\n",
    "# Input a number from the user\n",
    "input_number = float(input(\"Enter a Number\"))\n",
    "# Check if the number is positive, negative, or zero\n",
    "if input_number > 0:\n",
    "    print (f\"The input number {input_number} is Positive\")\n",
    "elif input_number < 0: \n",
    "    print (f\"The input number {input_number} is Negative\")\n",
    "else:\n",
    "    print (f\"The input number {input_number} is Zero\")"
   ]
  },
  {
   "cell_type": "code",
   "execution_count": 5,
   "metadata": {},
   "outputs": [
    {
     "name": "stdin",
     "output_type": "stream",
     "text": [
      "Enter a age 56\n"
     ]
    },
    {
     "name": "stdout",
     "output_type": "stream",
     "text": [
      "The input years 56 is eligible for voting\n"
     ]
    }
   ],
   "source": [
    "# 2. Create a program to determine if a person is eligible to vote based on their age.\n",
    "\n",
    "# Input a age \n",
    "age = int(input(\"Enter a age\"))\n",
    "# Check eligible for vote based on 18 year \n",
    "if age >= 18:\n",
    "    print (f\"The input years {age} is eligible for voting\")\n",
    "else:\n",
    "    print (f\"The input number {age} is eligible for voting\")"
   ]
  },
  {
   "cell_type": "code",
   "execution_count": 7,
   "metadata": {},
   "outputs": [
    {
     "name": "stdin",
     "output_type": "stream",
     "text": [
      "Enter First Number :  56.8\n",
      "Enter Second Number :  34.6\n"
     ]
    },
    {
     "name": "stdout",
     "output_type": "stream",
     "text": [
      "56.8 is maximum than 34.6\n"
     ]
    }
   ],
   "source": [
    "# 3. Write a program to find the maximum of two given numbers using conditional statements.\n",
    "\n",
    "# Input two numbers from user\n",
    "num1 = float(input(\"Enter First Number : \"))\n",
    "num2 = float(input(\"Enter Second Number : \"))\n",
    "# condition for maximum number\n",
    "if num1 > num2:\n",
    "    print(f\"{num1} is maximum than {num2}\")\n",
    "else:\n",
    "    print(f\"{num2} is maximum than {num2}\")\n"
   ]
  },
  {
   "cell_type": "code",
   "execution_count": 17,
   "metadata": {},
   "outputs": [
    {
     "name": "stdin",
     "output_type": "stream",
     "text": [
      "Enter an Exam Score:  78\n"
     ]
    },
    {
     "name": "stdout",
     "output_type": "stream",
     "text": [
      "The grade for score 78.0 is B+\n"
     ]
    }
   ],
   "source": [
    "# 4. Develop a program that calculates the grade of a student based on their exam score.\n",
    "\n",
    "# take a input score from user\n",
    "score = float(input(\"Enter an Exam Score: \"))\n",
    "# define grade logic \n",
    "def grade(score):\n",
    "    if score > 80:\n",
    "        return \"A+\"\n",
    "    elif score >= 60:\n",
    "        return \"B+\"\n",
    "    elif score >= 40:\n",
    "        return \"C+\"\n",
    "    else:\n",
    "        return \"F\"\n",
    "# print final result\n",
    "print(f\"The grade for score {score} is {grade(score)}\")"
   ]
  },
  {
   "cell_type": "code",
   "execution_count": 22,
   "metadata": {},
   "outputs": [
    {
     "name": "stdin",
     "output_type": "stream",
     "text": [
      "Enter a Year:  2023\n"
     ]
    },
    {
     "name": "stdout",
     "output_type": "stream",
     "text": [
      "The year 2023 is Not a Leap Year\n"
     ]
    }
   ],
   "source": [
    "# 5. Create a program that checks if a year is a leap year or not.\n",
    "\n",
    "# Take an input year from the user\n",
    "year = int(input(\"Enter a Year: \"))\n",
    "# Define leap year logic\n",
    "def leap_year(year):\n",
    "    if year % 4 == 0:\n",
    "        return \"Leap Year\"\n",
    "    else:\n",
    "        return \"Not a Leap Year\"\n",
    "# Call the function \n",
    "print(f\"The year {year} is {leap_year(year)}\")\n",
    "\n"
   ]
  },
  {
   "cell_type": "code",
   "execution_count": 25,
   "metadata": {},
   "outputs": [
    {
     "name": "stdin",
     "output_type": "stream",
     "text": [
      "Enter the length of First Side 20\n",
      "Enter the length of Second Side 20\n",
      "Enter the length of Third Side 10\n"
     ]
    },
    {
     "name": "stdout",
     "output_type": "stream",
     "text": [
      "The triangle with sides 20, 20, 10 is a Isosceles Triangle\n"
     ]
    }
   ],
   "source": [
    "# 6. Write a program to classify a triangle based on its sides' lengths.\n",
    "\n",
    "# Input the length of sides\n",
    "s1 = int(input(\"Enter the length of First Side\"))\n",
    "s2 = int(input(\"Enter the length of Second Side\"))\n",
    "s3 = int(input(\"Enter the length of Third Side\"))\n",
    "\n",
    " # Perimeter of the equilateral triangle = 3a\n",
    "if s1 == s2 == s3:\n",
    "    triangle_type = \"Equilateral Triangle\"\n",
    "# Perimeter of Isosceles Triangle = 2a + b    \n",
    "elif s1 == s2 or s1 == s3 or s2 == s3:\n",
    "    triangle_type = \"Isosceles Triangle\"\n",
    "else:\n",
    "    triangle_type = \"Scalene Triangle\"\n",
    "# Print the triangle classification\n",
    "print(f\"The triangle with sides {s1}, {s2}, {s3} is a {triangle_type}\")"
   ]
  },
  {
   "cell_type": "code",
   "execution_count": 28,
   "metadata": {},
   "outputs": [
    {
     "name": "stdin",
     "output_type": "stream",
     "text": [
      "Enter Number1:  45\n",
      "Enter Number2:  34\n",
      "Enter Number3:  60\n"
     ]
    },
    {
     "name": "stdout",
     "output_type": "stream",
     "text": [
      "num3 is the largest number\n"
     ]
    }
   ],
   "source": [
    "# 7. Build a program that determines the largest of three given numbers.\n",
    "\n",
    "# input the 3 nos from user\n",
    "num1 = int(input(\"Enter Number1: \"))\n",
    "num2 = int(input(\"Enter Number2: \"))\n",
    "num3 = int(input(\"Enter Number3: \"))\n",
    "\n",
    "# define largest logic\n",
    "def lar_num(num1, num2, num3):\n",
    "    if num1 > num2 and num1 > num3:\n",
    "        return \"num1 is the largest number\"\n",
    "    elif num2 > num3 and num2 > num1:\n",
    "        return \"num2 is the largest number\"\n",
    "    else:\n",
    "        return \"num3 is the largest number\"\n",
    "\n",
    "# declare variable for result and print\n",
    "result = lar_num(num1, num2, num3)\n",
    "print(result)\n"
   ]
  },
  {
   "cell_type": "code",
   "execution_count": 31,
   "metadata": {},
   "outputs": [
    {
     "name": "stdin",
     "output_type": "stream",
     "text": [
      "Enter a Character:  y\n"
     ]
    },
    {
     "name": "stdout",
     "output_type": "stream",
     "text": [
      "The input y is a Consonant\n"
     ]
    }
   ],
   "source": [
    "# 8. Develop a program that checks whether a character is a vowel or a consonant.\n",
    "\n",
    "# user input \n",
    "input_char = input(\"Enter a Character: \")\n",
    "# convert in lowercase\n",
    "char = input_char.lower()\n",
    "# list of vowel\n",
    "vowels = [\"a\", \"e\", \"i\", \"o\", \"u\"]\n",
    "# define logic\n",
    "if char in vowels:\n",
    "    print(f\"The input {input_char} is a Vowel\")\n",
    "else:\n",
    "    print(f\"The input {input_char} is a Consonant\")\n",
    "\n",
    "    "
   ]
  },
  {
   "cell_type": "code",
   "execution_count": 4,
   "metadata": {},
   "outputs": [
    {
     "name": "stdin",
     "output_type": "stream",
     "text": [
      "Enter the price of an item1:  100\n",
      "Enter the price of an item2:  200\n",
      "Enter the price of an item3:  300\n",
      "Enter the item1 quantity purchased:  10\n",
      "Enter the item2 quantity purchased:  20\n",
      "Enter the item3 quantity purchased:  30\n"
     ]
    },
    {
     "name": "stdout",
     "output_type": "stream",
     "text": [
      "The total cost is: $12600.00\n"
     ]
    }
   ],
   "source": [
    "# 9. Create a program to calculate the total cost of a shopping cart based on discounts.\n",
    "\n",
    "item1 = float(input(\"Enter the price of an item1: \"))\n",
    "item2 = float(input(\"Enter the price of an item2: \"))\n",
    "item3 = float(input(\"Enter the price of an item3: \"))\n",
    "\n",
    "quantity1 = int(input(\"Enter the item1 quantity purchased: \"))\n",
    "quantity2 = int(input(\"Enter the item2 quantity purchased: \"))\n",
    "quantity3 = int(input(\"Enter the item3 quantity purchased: \"))\n",
    "\n",
    "\n",
    "total_cost = item1 * quantity1 + item2 * quantity2 + item3 * quantity3 \n",
    "\n",
    "if quantity1 > 10 or quantity2 > 10 or quantity3 > 10:\n",
    "    discount = 0.1  # 10% discount\n",
    "    total_cost -= total_cost * discount\n",
    "\n",
    "print(f\"The total cost is: ${total_cost:.2f}\")"
   ]
  },
  {
   "cell_type": "code",
   "execution_count": 7,
   "metadata": {},
   "outputs": [
    {
     "name": "stdin",
     "output_type": "stream",
     "text": [
      "Enter a Number 45\n"
     ]
    },
    {
     "name": "stdout",
     "output_type": "stream",
     "text": [
      "The 45 is odd Number\n"
     ]
    }
   ],
   "source": [
    "# 10. Write a program that checks if a given number is even or odd.\n",
    "\n",
    "# take a user input from user\n",
    "input_num = int(input(\"Enter a Number\"))\n",
    "# logic for odd and even number\n",
    "if input_num%2==0:\n",
    "    print(f\"The {input_num} is even Number\")\n",
    "else:\n",
    "    print(f\"The {input_num} is odd Number\")"
   ]
  },
  {
   "cell_type": "markdown",
   "metadata": {},
   "source": [
    "## Intermediate Level:"
   ]
  },
  {
   "cell_type": "code",
   "execution_count": 1,
   "metadata": {},
   "outputs": [
    {
     "name": "stdin",
     "output_type": "stream",
     "text": [
      "Enter the number 12\n",
      "Enter the number 15\n",
      "Enter the number 22\n"
     ]
    },
    {
     "name": "stdout",
     "output_type": "stream",
     "text": [
      "(-90.00000000000001-172.96242366479487j) (-89.99999999999999+172.96242366479487j)\n"
     ]
    }
   ],
   "source": [
    "# 11. Write a program that calculates the roots of a quadratic equation .\n",
    "\n",
    "# Take input from user\n",
    "a=int(input(\"Enter the number1 :\"))\n",
    "b=int(input(\"Enter the number2 :\"))\n",
    "c=int(input(\"Enter the number3 :\"))\n",
    "\n",
    "# logic for quadratic equation\n",
    "x=b**2-4*a*c\n",
    "y=(-b-x**0.5)/2*a\n",
    "z=(-b+x**0.5)/2*a\n",
    "print(y,z)\n",
    "\n"
   ]
  },
  {
   "cell_type": "code",
   "execution_count": 3,
   "metadata": {},
   "outputs": [
    {
     "name": "stdin",
     "output_type": "stream",
     "text": [
      "Enter the number for Days:  5\n"
     ]
    },
    {
     "name": "stdout",
     "output_type": "stream",
     "text": [
      "Friday\n"
     ]
    }
   ],
   "source": [
    "# 12. Create a program that determines the day of the week based on the day number (1-7).\n",
    "\n",
    "# take a user inpur for day \n",
    "n=int(input(\"Enter the number for Days: \"))\n",
    "# define logic as per no wise\n",
    "if n==1:\n",
    "    print(\"Monday\")\n",
    "elif n==2:\n",
    "    print(\"Tuesday\")\n",
    "elif n==3:\n",
    "    print(\"Wednesday\")\n",
    "elif n==4:\n",
    "    print(\"Thursday\")\n",
    "elif n==5:\n",
    "    print(\"Friday\")\n",
    "elif n==6:\n",
    "    print(\"Saturday\")\n",
    "elif n==7:\n",
    "    print(\"Sunday\")\n"
   ]
  },
  {
   "cell_type": "code",
   "execution_count": 4,
   "metadata": {},
   "outputs": [
    {
     "name": "stdout",
     "output_type": "stream",
     "text": [
      "120\n"
     ]
    }
   ],
   "source": [
    "# 13. Develop a program that calculates the factorial of a given number using recursion.\n",
    "\n",
    "# define logic for factorial \n",
    "def factorial(n):\n",
    "    if n == 0 or n == 1:\n",
    "        return 1\n",
    "    else:\n",
    "        return n * factorial(n - 1)\n",
    "\n",
    "print(factorial(5)) "
   ]
  },
  {
   "cell_type": "code",
   "execution_count": 6,
   "metadata": {},
   "outputs": [
    {
     "name": "stdin",
     "output_type": "stream",
     "text": [
      "Enter the number1  40\n",
      "Enter the number2  50\n",
      "Enter the number3  60\n"
     ]
    },
    {
     "name": "stdout",
     "output_type": "stream",
     "text": [
      "60\n"
     ]
    }
   ],
   "source": [
    "# 14. Write a program to find the largest among three numbers without using the `max()` function.\n",
    "\n",
    "# take three input numbers from user\n",
    "\n",
    "n1=int(input(\"Enter the number1 \"))\n",
    "n2=int(input(\"Enter the number2 \"))\n",
    "n3=int(input(\"Enter the number3 \"))\n",
    "\n",
    "def lar(x,y,z):\n",
    "    if x>y and x>z:\n",
    "        print(x)\n",
    "    if y>x and y>z:\n",
    "        print(y)\n",
    "    else:\n",
    "        print(z)\n",
    "# largest from given three input\n",
    "lar(n1,n2,n3)\n"
   ]
  },
  {
   "cell_type": "code",
   "execution_count": 12,
   "metadata": {},
   "outputs": [
    {
     "name": "stdin",
     "output_type": "stream",
     "text": [
      "enter the number 2\n"
     ]
    },
    {
     "name": "stdout",
     "output_type": "stream",
     "text": [
      "Withdrawal\n"
     ]
    }
   ],
   "source": [
    "# 15. Create a program that simulates a basic ATM transaction menu.\n",
    "\n",
    "# define for check balance 2 for withdrwal 3 exit\n",
    "n=int(input(\"enter the number\"))\n",
    "if n==1:\n",
    "    print(\"Balance check\")\n",
    "elif n==2:\n",
    "    print(\"Withdrawal\")\n",
    "elif n==3:\n",
    "    print(\"exit\")\n",
    "else:\n",
    "    print(\"Wrong input\")\n"
   ]
  },
  {
   "cell_type": "code",
   "execution_count": 14,
   "metadata": {},
   "outputs": [
    {
     "name": "stdin",
     "output_type": "stream",
     "text": [
      "Enter the String   malayalam\n"
     ]
    },
    {
     "name": "stdout",
     "output_type": "stream",
     "text": [
      "Yes\n"
     ]
    }
   ],
   "source": [
    "# 16. Build a program that checks if a given string is a palindrome or not.\n",
    "\n",
    "# take input from user\n",
    "s=input(\"Enter the String  \")\n",
    "a=(lambda x: print(\"Yes\") if x==x[::-1] else print(\"NO\"))\n",
    "a(s)"
   ]
  },
  {
   "cell_type": "code",
   "execution_count": 15,
   "metadata": {},
   "outputs": [
    {
     "name": "stdout",
     "output_type": "stream",
     "text": [
      "2.8\n"
     ]
    }
   ],
   "source": [
    "# 17. Write a program that calculates the average of a list of numbers, excluding the smallest and largest values.\n",
    "\n",
    "l=[1,2,3,4,4]\n",
    "print(sum(l)/len(l))\n"
   ]
  },
  {
   "cell_type": "code",
   "execution_count": 16,
   "metadata": {},
   "outputs": [
    {
     "name": "stdout",
     "output_type": "stream",
     "text": [
      "111.2\n"
     ]
    }
   ],
   "source": [
    "# 18. Develop a program that converts a given temperature from Celsius to Fahrenheit.\n",
    "c=44\n",
    "print((c*9/5)+32)\n"
   ]
  },
  {
   "cell_type": "code",
   "execution_count": 18,
   "metadata": {},
   "outputs": [
    {
     "name": "stdin",
     "output_type": "stream",
     "text": [
      "Enter the number 10\n",
      "Enter the number 20\n",
      "Enter the operaation +,-,/,* as given  +\n"
     ]
    },
    {
     "name": "stdout",
     "output_type": "stream",
     "text": [
      "30\n"
     ]
    }
   ],
   "source": [
    "# 19. Create a program that simulates a basic calculator for addition, subtraction, multiplication, and division.\n",
    "\n",
    "a=int(input(\"Enter the number\"))\n",
    "b=int(input(\"Enter the number\"))\n",
    "o=input(\"Enter the operaation +,-,/,* as given \")\n",
    "if o==\"+\":\n",
    "    print(a+b)\n",
    "elif o==\"-\":\n",
    "    print(a-b)\n",
    "elif o==\"/\":\n",
    "    print(a/b)\n",
    "elif o==\"*\":\n",
    "    print(a*b)\n"
   ]
  },
  {
   "cell_type": "code",
   "execution_count": 23,
   "metadata": {},
   "outputs": [
    {
     "name": "stdout",
     "output_type": "stream",
     "text": [
      "12500.0\n"
     ]
    }
   ],
   "source": [
    "# 20. Write a program that determines the roots of a cubic equation using the Cardano formula.\n",
    "\n",
    "a=500000\n",
    "print(a/100*2.5)\n"
   ]
  },
  {
   "cell_type": "markdown",
   "metadata": {},
   "source": [
    "## Advanced Level:"
   ]
  },
  {
   "cell_type": "code",
   "execution_count": 27,
   "metadata": {},
   "outputs": [
    {
     "name": "stdin",
     "output_type": "stream",
     "text": [
      "income 600000\n"
     ]
    },
    {
     "name": "stdout",
     "output_type": "stream",
     "text": [
      "your Tax is  22500.0 Rupees !\n"
     ]
    }
   ],
   "source": [
    "# 21. Create a program that calculates the income tax based on the user's income and tax brackets.\n",
    "\n",
    "income=int(input(\"income\"))\n",
    "\n",
    "if income <= 250000:  #2 Lakh 50 thousand\n",
    "    tax = 0\n",
    "elif income <= 500000: #5 Lakh\n",
    "    tax = (income - 250000) * 0.05\n",
    "elif income <= 750000: #7 lakh 50 thousand\n",
    "    tax = (income - 500000) * 0.10 + 12500 \n",
    "elif income <= 1000000: #10 Lakh\n",
    "    tax = (income - 750000) * 0.15 + 37500 \n",
    "elif income <= 1250000: #12 lakh 50 thousand\n",
    "    tax = (income - 1000000) * 0.20 + 75000 \n",
    "elif income <= 1500000: #15 lakh\n",
    "    tax = (income - 1250000) * 0.25 + 125000 \n",
    "else:\n",
    "    tax = (income - 1500000) * 0.30 + 187500\n",
    "\n",
    "print(\"your Tax is \", tax, \"Rupees !\")"
   ]
  },
  {
   "cell_type": "code",
   "execution_count": 29,
   "metadata": {},
   "outputs": [
    {
     "name": "stdin",
     "output_type": "stream",
     "text": [
      "enter rock\n"
     ]
    },
    {
     "name": "stdout",
     "output_type": "stream",
     "text": [
      "Tie\n"
     ]
    }
   ],
   "source": [
    "# 22. Write a program that simulates a rock-paper-scissors game against the computer.\n",
    "\n",
    "import random\n",
    "a=[\"rock\",\"Scissor\",\"Paper\"]\n",
    "com=a[random.randint(0,2)]\n",
    "u=input(\"enter\")\n",
    "if u==com:\n",
    "    print(\"Tie\")"
   ]
  },
  {
   "cell_type": "code",
   "execution_count": 30,
   "metadata": {},
   "outputs": [
    {
     "name": "stdin",
     "output_type": "stream",
     "text": [
      "Enter password length:  8\n",
      "Enter password complexity (low, medium, high):  low\n"
     ]
    },
    {
     "name": "stdout",
     "output_type": "stream",
     "text": [
      "Generated password: QFG5LaoE\n"
     ]
    }
   ],
   "source": [
    "# 23. Develop a program that generates a random password based on user preferences (length, complexity).\n",
    "\n",
    "import random\n",
    "import string\n",
    "\n",
    "length = int(input(\"Enter password length: \"))\n",
    "complexity = input(\"Enter password complexity (low, medium, high): \").lower()\n",
    "\n",
    "if complexity == \"low\":\n",
    "    characters = string.ascii_letters + string.digits\n",
    "elif complexity == \"medium\":\n",
    "    characters = string.ascii_letters + string.digits + string.punctuation\n",
    "elif complexity == \"high\":\n",
    "    characters = string.ascii_letters + string.digits + string.punctuation + string.whitespace\n",
    "else:\n",
    "    print(\"Invalid complexity level. Please choose low, medium, or high.\")\n",
    "    exit()\n",
    "\n",
    "password = ''.join(random.choice(characters) for _ in range(length))\n",
    "print(\"Generated password:\", password)\n"
   ]
  },
  {
   "cell_type": "code",
   "execution_count": 31,
   "metadata": {},
   "outputs": [
    {
     "name": "stdout",
     "output_type": "stream",
     "text": [
      "Welcome to the Adventure Game!\n",
      "\n",
      "You find yourself in a dark forest.\n"
     ]
    },
    {
     "name": "stdin",
     "output_type": "stream",
     "text": [
      "Do you go left or right?  left\n"
     ]
    },
    {
     "name": "stdout",
     "output_type": "stream",
     "text": [
      "You encounter a friendly unicorn.\n"
     ]
    },
    {
     "name": "stdin",
     "output_type": "stream",
     "text": [
      "Do you pet the unicorn or run away?  yes\n"
     ]
    },
    {
     "name": "stdout",
     "output_type": "stream",
     "text": [
      "You run away and get lost. Game over.\n"
     ]
    },
    {
     "name": "stdin",
     "output_type": "stream",
     "text": [
      "Play again? (yes/no):  no\n"
     ]
    },
    {
     "name": "stdout",
     "output_type": "stream",
     "text": [
      "Thanks for playing!\n"
     ]
    }
   ],
   "source": [
    "# 24. Create a program that implements a simple text-based adventure game with branching scenarios.\n",
    "\n",
    "print(\"Welcome to the Adventure Game!\")\n",
    "\n",
    "while True:\n",
    "    print(\"\\nYou find yourself in a dark forest.\")\n",
    "    choice = input(\"Do you go left or right? \").lower()\n",
    "\n",
    "    if choice == \"left\":\n",
    "        print(\"You encounter a friendly unicorn.\")\n",
    "        choice = input(\"Do you pet the unicorn or run away? \").lower()\n",
    "        if choice == \"pet\":\n",
    "            print(\"The unicorn grants you a wish. You win!\")\n",
    "        else:\n",
    "            print(\"You run away and get lost. Game over.\")\n",
    "    elif choice == \"right\":\n",
    "        print(\"You stumble upon a treasure chest.\")\n",
    "        choice = input(\"Do you open it or leave it? \").lower()\n",
    "        if choice == \"open\":\n",
    "            print(\"The chest is filled with gold. You win!\")\n",
    "        else:\n",
    "            print(\"You leave the treasure and continue. Game over.\")\n",
    "    else:\n",
    "        print(\"Invalid choice. Please choose left or right.\")\n",
    "        continue\n",
    "\n",
    "    play_again = input(\"Play again? (yes/no): \").lower()\n",
    "    if play_again != \"yes\":\n",
    "        break\n",
    "\n",
    "print(\"Thanks for playing!\")\n"
   ]
  },
  {
   "cell_type": "code",
   "execution_count": 32,
   "metadata": {},
   "outputs": [
    {
     "name": "stdin",
     "output_type": "stream",
     "text": [
      "Enter coefficient a:  78\n",
      "Enter coefficient b:  98\n"
     ]
    },
    {
     "name": "stdout",
     "output_type": "stream",
     "text": [
      "The solution is x = -1.2564102564102564\n"
     ]
    }
   ],
   "source": [
    "# 25. Build a program that solves a linear equation for x, considering different cases.\n",
    "\n",
    "a = float(input(\"Enter coefficient a: \"))\n",
    "b = float(input(\"Enter coefficient b: \"))\n",
    "\n",
    "if a == 0:\n",
    "    if b == 0:\n",
    "        solution = \"Infinite solutions (identity equation).\"\n",
    "    else:\n",
    "        solution = \"No solution.\"\n",
    "else:\n",
    "    x = -b / a\n",
    "    solution = f\"The solution is x = {x}\"\n",
    "\n",
    "print(solution)\n"
   ]
  },
  {
   "cell_type": "code",
   "execution_count": null,
   "metadata": {},
   "outputs": [
    {
     "name": "stdout",
     "output_type": "stream",
     "text": [
      "\n",
      "What is the capital of Tamilnadu?\n",
      "1. Chennai\n",
      "2. Madurai\n",
      "3. Salem\n",
      "4. Trichy\n"
     ]
    }
   ],
   "source": [
    "# 26. Write a program that simulates a basic quiz game with multiple-choice questions and scoring.\n",
    "\n",
    "questions = [\n",
    "    {\n",
    "        \"question\": \"What is the capital of Tamilnadu?\",\n",
    "        \"options\": [\"Chennai\", \"Madurai\", \"Salem\", \"Trichy\"],\n",
    "        \"correct_answer\": \"Chennai\",\n",
    "    },\n",
    "    {\n",
    "        \"question\": \"Which planet is known as the Red Planet?\",\n",
    "        \"options\": [\"Earth\", \"Mars\", \"Venus\", \"Jupiter\"],\n",
    "        \"correct_answer\": \"Mars\",\n",
    "    },\n",
    "    {\n",
    "        \"question\": \"Who wrote 'Half Girlfriend'?\",\n",
    "        \"options\": [\"Charles Dickens\", \"Mark Twain\", \"Chetan Bhagat\", \"Jane Austen\"],\n",
    "        \"correct_answer\": \"Chetan Bhagat\",\n",
    "    },\n",
    "]\n",
    "\n",
    "score = 0\n",
    "\n",
    "for question in questions:\n",
    "    print(\"\\n\" + question[\"question\"])\n",
    "    for i, option in enumerate(question[\"options\"], start=1):\n",
    "        print(f\"{i}. {option}\")\n",
    "\n",
    "    user_answer = input(\"Enter the number of your answer: \")\n",
    "    if user_answer.isnumeric() and 1 <= int(user_answer) <= len(question[\"options\"]):\n",
    "        user_answer = question[\"options\"][int(user_answer) - 1]\n",
    "        if user_answer == question[\"correct_answer\"]:\n",
    "            print(\"Correct!\")\n",
    "            score += 1\n",
    "        else:\n",
    "            print(f\"Wrong. The correct answer is {question['correct_answer']}.\")\n",
    "    else:\n",
    "        print(\"Invalid input. Skipping this question.\")\n",
    "\n",
    "print(f\"\\nYou scored {score}/{len(questions)} in the quiz.\")\n"
   ]
  },
  {
   "cell_type": "code",
   "execution_count": 1,
   "metadata": {},
   "outputs": [
    {
     "name": "stdin",
     "output_type": "stream",
     "text": [
      "Enter the year 2023\n"
     ]
    },
    {
     "name": "stdout",
     "output_type": "stream",
     "text": [
      "Not a prime year\n"
     ]
    }
   ],
   "source": [
    "# 27. Develop a program that determines whether a given year is a prime number or not.\n",
    "\n",
    "# take a user Input number\n",
    "a=int(input(\"Enter the year\"))\n",
    "# prime number logic\n",
    "if a%2==0:\n",
    "    print(\"Prime Year\")\n",
    "else:\n",
    "    print(\"Not a prime year\")"
   ]
  },
  {
   "cell_type": "code",
   "execution_count": 3,
   "metadata": {},
   "outputs": [
    {
     "name": "stdin",
     "output_type": "stream",
     "text": [
      "Enter the first number:  78\n",
      "Enter the second number:  567\n",
      "Enter the third number:  77\n"
     ]
    },
    {
     "name": "stdout",
     "output_type": "stream",
     "text": [
      "Numbers in ascending order: [77.0, 78.0, 567.0]\n"
     ]
    }
   ],
   "source": [
    "# 28. Create a program that sorts three numbers in ascending order using conditional statements.\n",
    "\n",
    "# Input three numbers from the user\n",
    "num1 = float(input(\"Enter the first number: \"))\n",
    "num2 = float(input(\"Enter the second number: \"))\n",
    "num3 = float(input(\"Enter the third number: \"))\n",
    "\n",
    "# Use conditional statements to sort the numbers\n",
    "if num1 <= num2 <= num3:\n",
    "    sorted_nums = [num1, num2, num3]\n",
    "elif num1 <= num3 <= num2:\n",
    "    sorted_nums = [num1, num3, num2]\n",
    "elif num2 <= num1 <= num3:\n",
    "    sorted_nums = [num2, num1, num3]\n",
    "elif num2 <= num3 <= num1:\n",
    "    sorted_nums = [num2, num3, num1]\n",
    "elif num3 <= num1 <= num2:\n",
    "    sorted_nums = [num3, num1, num2]\n",
    "else:\n",
    "    sorted_nums = [num3, num2, num1]\n",
    "\n",
    "# Print the sorted numbers\n",
    "print(\"Numbers in ascending order:\", sorted_nums)\n"
   ]
  },
  {
   "cell_type": "code",
   "execution_count": 2,
   "metadata": {},
   "outputs": [
    {
     "name": "stdin",
     "output_type": "stream",
     "text": [
      "enter the value: 45\n",
      "enter the value: 67\n",
      "enter the value: 89\n"
     ]
    },
    {
     "name": "stdout",
     "output_type": "stream",
     "text": [
      "The solutions are (-0.7444444444444445-1.1931388213085603j) and (-0.7444444444444445+1.1931388213085603j)\n"
     ]
    }
   ],
   "source": [
    "# 29. Build a program that determines the roots of a quartic equation using numerical methods.\n",
    "# Solve the quadratic equation ax**2 + bx + c = 0\n",
    "\n",
    "# import complex math module\n",
    "import cmath\n",
    "\n",
    "a = int(input('enter the value:'))\n",
    "b = int(input('enter the value:'))\n",
    "c = int(input('enter the value:'))\n",
    "\n",
    "# calculate the discriminant\n",
    "d = (b**2) - (4*a*c)\n",
    "\n",
    "# find two solutions\n",
    "sol1 = (-b-cmath.sqrt(d))/(2*a)\n",
    "sol2 = (-b+cmath.sqrt(d))/(2*a)\n",
    "\n",
    "if d>0:\n",
    "    print('type of roots:Two distinct Roots')\n",
    "elif d==0:\n",
    "    print('type of roots:Two Real Roots')\n",
    "elif d>0:\n",
    "    print('type of roots:Two complex Roots')\n",
    "    \n",
    "print('The solutions are {0} and {1}'.format(sol1,sol2))\n"
   ]
  },
  {
   "cell_type": "code",
   "execution_count": 4,
   "metadata": {},
   "outputs": [
    {
     "name": "stdin",
     "output_type": "stream",
     "text": [
      "Enter the height in cm:  80\n",
      "Enter the weight in kg:  70\n"
     ]
    },
    {
     "name": "stdout",
     "output_type": "stream",
     "text": [
      "Your Body Mass Index is 109.37499999999999\n",
      "Seesh! You are obese.\n"
     ]
    }
   ],
   "source": [
    "# 30. Write a program that calculates the BMI (Body Mass Index) and provides health recommendations based\n",
    "\n",
    "# on the user's input.\n",
    "\n",
    "the_height = float(input(\"Enter the height in cm: \"))  \n",
    "the_weight = float(input(\"Enter the weight in kg: \"))  \n",
    "# defining a function for BMI  \n",
    "the_BMI = the_weight / (the_height/100)**2  \n",
    "# printing the BMI  \n",
    "print(\"Your Body Mass Index is\", the_BMI)  \n",
    "# using the if-elif-else conditions  \n",
    "if the_BMI <= 18.5:  \n",
    "    print(\"Oops! You are underweight.\")  \n",
    "elif the_BMI <= 24.9:  \n",
    "    print(\"Awesome! You are healthy.\")  \n",
    "elif the_BMI <= 29.9:  \n",
    "    the_print(\"Eee! You are over weight.\")  \n",
    "else:  \n",
    "    print(\"Seesh! You are obese.\")  "
   ]
  },
  {
   "cell_type": "markdown",
   "metadata": {},
   "source": [
    "# Challenge Level:"
   ]
  },
  {
   "cell_type": "code",
   "execution_count": null,
   "metadata": {},
   "outputs": [],
   "source": [
    "# 31. Create a program that validates a password based on complexity rules (length, characters, etc.)"
   ]
  },
  {
   "cell_type": "code",
   "execution_count": 7,
   "metadata": {},
   "outputs": [
    {
     "name": "stdin",
     "output_type": "stream",
     "text": [
      "Enter the number 10\n",
      "Enter the number 30\n",
      "Enter the operaation +,-,/,* +\n"
     ]
    },
    {
     "name": "stdout",
     "output_type": "stream",
     "text": [
      "40\n"
     ]
    }
   ],
   "source": [
    "# 32. Develop a program that performs matrix addition and subtraction based on user input.\n",
    "a=int(input(\"Enter the number\"))\n",
    "b=int(input(\"Enter the number\"))\n",
    "o=input(\"Enter the operaation +,-,/,*\")\n",
    "if o==\"+\":\n",
    "    print(a+b)\n",
    "elif o==\"-\":\n",
    "    print(a-b)\n",
    "elif o==\"/\":\n",
    "    print(a/b)\n",
    "elif o==\"*\":\n",
    "    print(a*b)"
   ]
  },
  {
   "cell_type": "code",
   "execution_count": 8,
   "metadata": {},
   "outputs": [
    {
     "name": "stdout",
     "output_type": "stream",
     "text": [
      "The gcd of 60 and 48 is : 12\n"
     ]
    }
   ],
   "source": [
    "# 33. Write a program that calculates the greatest common divisor (GCD) of two numbers using the Euclidean\n",
    "# algorithm.\n",
    "def hcf(a, b):\n",
    "    if(b == 0):\n",
    "        return a\n",
    "    else:\n",
    "        return hcf(b, a % b)\n",
    " \n",
    "a = 60\n",
    "b = 48\n",
    " \n",
    "# prints 12\n",
    "print(\"The gcd of 60 and 48 is : \", end=\"\")\n",
    "print(hcf(60, 48))"
   ]
  },
  {
   "cell_type": "code",
   "execution_count": 1,
   "metadata": {},
   "outputs": [
    {
     "name": "stdout",
     "output_type": "stream",
     "text": [
      "Matrix Multiplication Result:\n",
      "[19, 22]\n",
      "[43, 50]\n"
     ]
    }
   ],
   "source": [
    "# 34. Build a program that performs matrix multiplication using nested loops and conditional statements.\n",
    "\n",
    "def matrix_multiplication(matrix1, matrix2):\n",
    "    if len(matrix1[0]) != len(matrix2):\n",
    "        return None \n",
    "    \n",
    "    result = []\n",
    "    for i in range(len(matrix1)):\n",
    "        row = []\n",
    "        for j in range(len(matrix2[0])):\n",
    "            sum = 0\n",
    "            for k in range(len(matrix2)):\n",
    "                sum += matrix1[i][k] * matrix2[k][j]\n",
    "            row.append(sum)\n",
    "        result.append(row)\n",
    "    \n",
    "    return result\n",
    "\n",
    "matrix1 = [[1, 2], [3, 4]]\n",
    "matrix2 = [[5, 6], [7, 8]]\n",
    "\n",
    "multiplication_result = matrix_multiplication(matrix1, matrix2)\n",
    "\n",
    "if multiplication_result:\n",
    "    print(\"Matrix Multiplication Result:\")\n",
    "    for row in multiplication_result:\n",
    "        print(row)\n"
   ]
  },
  {
   "cell_type": "code",
   "execution_count": null,
   "metadata": {},
   "outputs": [
    {
     "name": "stdout",
     "output_type": "stream",
     "text": [
      "Welcome to Tic-Tac-Toe!\n",
      "  |   |  \n",
      "---------\n",
      "  |   |  \n",
      "---------\n",
      "  |   |  \n",
      "---------\n",
      "Player's Turn:\n"
     ]
    },
    {
     "name": "stdin",
     "output_type": "stream",
     "text": [
      "Enter the row (0, 1, or 2):  1\n",
      "Enter the column (0, 1, or 2):  1\n"
     ]
    },
    {
     "name": "stdout",
     "output_type": "stream",
     "text": [
      "  |   |  \n",
      "---------\n",
      "  | X |  \n",
      "---------\n",
      "  |   |  \n",
      "---------\n",
      "Computer's Turn:\n",
      "  |   |  \n",
      "---------\n",
      "O | X |  \n",
      "---------\n",
      "  |   |  \n",
      "---------\n",
      "Player's Turn:\n"
     ]
    }
   ],
   "source": [
    "# 35. Create a program that simulates a basic text-based tic-tac-toe game against the computer.\n",
    "\n",
    "import random\n",
    "\n",
    "def print_board(board):\n",
    "    for row in board:\n",
    "        print(\" | \".join(row))\n",
    "        print(\"-\" * 9)\n",
    "\n",
    "def is_winner(board, player):\n",
    "    for i in range(3):\n",
    "        if all(board[i][j] == player for j in range(3)) or all(board[j][i] == player for j in range(3)):\n",
    "            return True\n",
    "    if all(board[i][i] == player for i in range(3)) or all(board[i][2 - i] == player for i in range(3)):\n",
    "        return True\n",
    "    return False\n",
    "\n",
    "def is_full(board):\n",
    "    return all(cell != \" \" for row in board for cell in row)\n",
    "\n",
    "def get_player_move(board):\n",
    "    while True:\n",
    "        try:\n",
    "            row = int(input(\"Enter the row (0, 1, or 2): \"))\n",
    "            col = int(input(\"Enter the column (0, 1, or 2): \"))\n",
    "            if 0 <= row <= 2 and 0 <= col <= 2 and board[row][col] == \" \":\n",
    "                return row, col\n",
    "            else:\n",
    "                print(\"Invalid move. Try again.\")\n",
    "        except ValueError:\n",
    "            print(\"Invalid input. Enter integers for row and column.\")\n",
    "\n",
    "def get_computer_move(board):\n",
    "    while True:\n",
    "        row = random.randint(0, 2)\n",
    "        col = random.randint(0, 2)\n",
    "        if board[row][col] == \" \":\n",
    "            return row, col\n",
    "\n",
    "def play_tic_tac_toe():\n",
    "    board = [[\" \" for _ in range(3)] for _ in range(3)]\n",
    "    player_turn = True\n",
    "\n",
    "    print(\"Welcome to Tic-Tac-Toe!\")\n",
    "\n",
    "    while True:\n",
    "        print_board(board)\n",
    "\n",
    "        if player_turn:\n",
    "            print(\"Player's Turn:\")\n",
    "            row, col = get_player_move(board)\n",
    "        else:\n",
    "            print(\"Computer's Turn:\")\n",
    "            row, col = get_computer_move(board)\n",
    "\n",
    "        if player_turn:\n",
    "            board[row][col] = \"X\"\n",
    "        else:\n",
    "            board[row][col] = \"O\"\n",
    "\n",
    "        if is_winner(board, \"X\"):\n",
    "            print_board(board)\n",
    "            print(\"Player wins!\")\n",
    "            break\n",
    "        elif is_winner(board, \"O\"):\n",
    "            print_board(board)\n",
    "            print(\"Computer wins!\")\n",
    "            break\n",
    "        elif is_full(board):\n",
    "            print_board(board)\n",
    "            print(\"It's a tie!\")\n",
    "            break\n",
    "\n",
    "        player_turn = not player_turn\n",
    "\n",
    "play_tic_tac_toe()\n"
   ]
  },
  {
   "cell_type": "code",
   "execution_count": 12,
   "metadata": {},
   "outputs": [
    {
     "name": "stdout",
     "output_type": "stream",
     "text": [
      "21\n"
     ]
    }
   ],
   "source": [
    "# 36. Write a program that generates Fibonacci numbers up to a specified term using iterative methods.\n",
    "\n",
    "FibArray = [0, 1]\n",
    "def fibonacci(n):\n",
    "    if n<0:\n",
    "        print(\"Incorrect input\")\n",
    "    elif n<= len(FibArray):\n",
    "        return FibArray[n-1]\n",
    "    else:\n",
    "        temp_fib = fibonacci(n-1)+fibonacci(n-2)\n",
    "        FibArray.append(temp_fib)\n",
    "        return temp_fib\n",
    " \n",
    "# Driver Program\n",
    " \n",
    "print(fibonacci(9))"
   ]
  },
  {
   "cell_type": "code",
   "execution_count": 8,
   "metadata": {},
   "outputs": [
    {
     "name": "stdin",
     "output_type": "stream",
     "text": [
      " 1\n"
     ]
    },
    {
     "ename": "SyntaxError",
     "evalue": "'return' outside function (3413883738.py, line 8)",
     "output_type": "error",
     "traceback": [
      "\u001b[1;36m  Cell \u001b[1;32mIn[8], line 8\u001b[1;36m\u001b[0m\n\u001b[1;33m    return 0\u001b[0m\n\u001b[1;37m    ^\u001b[0m\n\u001b[1;31mSyntaxError\u001b[0m\u001b[1;31m:\u001b[0m 'return' outside function\n"
     ]
    }
   ],
   "source": [
    "# 37. Develop a program that calculates the nth term of the Fibonacci sequence using memoization.\n",
    "\n",
    "n = int(input())\n",
    "if n<= 0:    \n",
    "    print(\"Incorrect input\")\n",
    "    # First Fibonacci number is 0\n",
    "elif n == 1:\n",
    "    return 0\n",
    "    # Second Fibonacci number is 1\n",
    "elif n == 2:\n",
    "    return 1\n",
    "else:\n",
    "    return Fibonacci(n-1)+Fibonacci(n-2)\n",
    " \n",
    "# Driver Program\n",
    " \n",
    "print(Fibonacci(10))"
   ]
  },
  {
   "cell_type": "code",
   "execution_count": 1,
   "metadata": {},
   "outputs": [
    {
     "name": "stdin",
     "output_type": "stream",
     "text": [
      "Please enter the Year:  2023\n",
      "Please enter the month:  9\n"
     ]
    },
    {
     "name": "stdout",
     "output_type": "stream",
     "text": [
      "The Calendar of:     September 2023\n",
      "Mo Tu We Th Fr Sa Su\n",
      "             1  2  3\n",
      " 4  5  6  7  8  9 10\n",
      "11 12 13 14 15 16 17\n",
      "18 19 20 21 22 23 24\n",
      "25 26 27 28 29 30\n",
      "\n"
     ]
    }
   ],
   "source": [
    "# 38. Create a program that generates a calendar for a given month and year using conditional statements.\n",
    "import calendar  \n",
    "  \n",
    "year = int(input (\"Please enter the Year: \")) # Here, it will take the year  \n",
    "month = int(input (\"Please enter the month: \"))    # Here, it will take the month  \n",
    "  \n",
    "# Now, we will display the calendar  \n",
    "print (\"The Calendar of: \", calendar.month(year, month))  "
   ]
  },
  {
   "cell_type": "code",
   "execution_count": null,
   "metadata": {},
   "outputs": [
    {
     "name": "stdout",
     "output_type": "stream",
     "text": [
      "Welcome to Tic-Tac-Toe!\n",
      "  |   |  \n",
      "---------\n",
      "  |   |  \n",
      "---------\n",
      "  |   |  \n",
      "---------\n",
      "Player's Turn:\n"
     ]
    }
   ],
   "source": [
    "# 39. Build a program that simulates a basic text-based blackjack game against the computer.\n",
    "import random\n",
    "\n",
    "def print_board(board):\n",
    "    for row in board:\n",
    "        print(\" | \".join(row))\n",
    "        print(\"-\" * 9)\n",
    "\n",
    "def is_winner(board, player):\n",
    "    for i in range(3):\n",
    "        if all(board[i][j] == player for j in range(3)) or all(board[j][i] == player for j in range(3)):\n",
    "            return True\n",
    "    if all(board[i][i] == player for i in range(3)) or all(board[i][2 - i] == player for i in range(3)):\n",
    "        return True\n",
    "    return False\n",
    "\n",
    "def is_full(board):\n",
    "    return all(cell != \" \" for row in board for cell in row)\n",
    "\n",
    "def get_player_move(board):\n",
    "    while True:\n",
    "        try:\n",
    "            row = int(input(\"Enter the row (0, 1, or 2): \"))\n",
    "            col = int(input(\"Enter the column (0, 1, or 2): \"))\n",
    "            if 0 <= row <= 2 and 0 <= col <= 2 and board[row][col] == \" \":\n",
    "                return row, col\n",
    "            else:\n",
    "                print(\"Invalid move. Try again.\")\n",
    "        except ValueError:\n",
    "            print(\"Invalid input. Enter integers for row and column.\")\n",
    "\n",
    "def get_computer_move(board):\n",
    "    while True:\n",
    "        row = random.randint(0, 2)\n",
    "        col = random.randint(0, 2)\n",
    "        if board[row][col] == \" \":\n",
    "            return row, col\n",
    "\n",
    "def play_tic_tac_toe():\n",
    "    board = [[\" \" for _ in range(3)] for _ in range(3)]\n",
    "    player_turn = True\n",
    "\n",
    "    print(\"Welcome to Tic-Tac-Toe!\")\n",
    "\n",
    "    while True:\n",
    "        print_board(board)\n",
    "        if player_turn:\n",
    "            print(\"Player's Turn:\")\n",
    "            row, col = get_player_move(board)\n",
    "        else:\n",
    "            print(\"Computer's Turn:\")\n",
    "            row, col = get_computer_move(board)\n",
    "\n",
    "        if player_turn:\n",
    "            board[row][col] = \"X\"\n",
    "        else:\n",
    "            board[row][col] = \"O\"\n",
    "\n",
    "        if is_winner(board, \"X\"):\n",
    "            print_board(board)\n",
    "            print(\"Player wins!\")\n",
    "            break\n",
    "        elif is_winner(board, \"O\"):\n",
    "            print_board(board)\n",
    "            print(\"Computer wins!\")\n",
    "            break\n",
    "        elif is_full(board):\n",
    "            print_board(board)\n",
    "            print(\"It's a tie!\")\n",
    "            break\n",
    "            player_turn = not player_turn\n",
    "\n",
    "play_tic_tac_toe()\n"
   ]
  },
  {
   "cell_type": "code",
   "execution_count": 15,
   "metadata": {},
   "outputs": [
    {
     "name": "stdin",
     "output_type": "stream",
     "text": [
      "Enter the number of Fibonacci numbers to generate:  9\n"
     ]
    },
    {
     "name": "stdout",
     "output_type": "stream",
     "text": [
      "Fibonacci sequence up to 9 terms: [0, 1, 1, 2, 3, 5, 8, 13, 21]\n"
     ]
    }
   ],
   "source": [
    "# 40. Write a program that generates the prime factors of a given number using trial division.\n",
    "def generate_fibonacci(n):\n",
    "    fibonacci_sequence = [0, 1]\n",
    "\n",
    "    while len(fibonacci_sequence) < n:\n",
    "        next_fibonacci = fibonacci_sequence[-1] + fibonacci_sequence[-2]\n",
    "        fibonacci_sequence.append(next_fibonacci)\n",
    "\n",
    "    return fibonacci_sequence[:n]\n",
    "\n",
    "n = int(input(\"Enter the number of Fibonacci numbers to generate: \"))\n",
    "fibonacci_numbers = generate_fibonacci(n)\n",
    "print(f\"Fibonacci sequence up to {n} terms: {fibonacci_numbers}\")\n"
   ]
  },
  {
   "cell_type": "code",
   "execution_count": null,
   "metadata": {},
   "outputs": [],
   "source": []
  }
 ],
 "metadata": {
  "kernelspec": {
   "display_name": "Python 3 (ipykernel)",
   "language": "python",
   "name": "python3"
  },
  "language_info": {
   "codemirror_mode": {
    "name": "ipython",
    "version": 3
   },
   "file_extension": ".py",
   "mimetype": "text/x-python",
   "name": "python",
   "nbconvert_exporter": "python",
   "pygments_lexer": "ipython3",
   "version": "3.11.4"
  }
 },
 "nbformat": 4,
 "nbformat_minor": 4
}
