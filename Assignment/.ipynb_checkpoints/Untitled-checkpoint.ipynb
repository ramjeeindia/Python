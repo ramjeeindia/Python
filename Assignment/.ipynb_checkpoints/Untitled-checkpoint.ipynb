{
 "cells": [
  {
   "cell_type": "markdown",
   "id": "c0990d42-ccef-4d05-9ec6-00ff5a322027",
   "metadata": {},
   "source": [
    "# Oops Assignment"
   ]
  },
  {
   "cell_type": "markdown",
   "id": "b919bccd-71e8-4fef-a607-b53106772dd2",
   "metadata": {},
   "source": [
    "## Problem 1: Bank Account Create a class representing a bank account with attributes like account number, account holder name, and balance. Implement methods to deposit and withdraw money from the account."
   ]
  },
  {
   "cell_type": "code",
   "execution_count": 2,
   "id": "0a77f5c5-b413-460f-b7ea-6324f7382e30",
   "metadata": {},
   "outputs": [],
   "source": [
    "class bank_account:\n",
    "    def __init__(self,account_no,name,balance):\n",
    "        self.account_no = account_no\n",
    "        self.name = name\n",
    "        self.balance = balance\n",
    "        \n",
    "    def deposit(self,amt):\n",
    "        if amt>0:\n",
    "            self.balance+=amt\n",
    "            print(f\"Deposited amount:₹{amt} and total balance:₹{self.balance}\")\n",
    "        else:\n",
    "            print(\"Invalid Amount, Please enter valid Amount.\")\n",
    "    \n",
    "    def withdraw(self,amt):\n",
    "        if amt<=self.balance:\n",
    "            self.balance-=amt\n",
    "            print(f\"₹{amt} withdrawn, remaining balance ₹{self.balance}\")\n",
    "        else:\n",
    "            print(\"Insufficient Balance\")\n",
    "        \n",
    "    def show_balance(self):\n",
    "        print(f\"Current balance is ₹{self.balance}\")"
   ]
  },
  {
   "cell_type": "code",
   "execution_count": 3,
   "id": "eb4c5b1d-3478-4e0f-b18d-9af32d82ead3",
   "metadata": {},
   "outputs": [],
   "source": [
    "account_1 = bank_account(account_no = 9660487879, name = \"Ramjee\", balance = 50000)"
   ]
  },
  {
   "cell_type": "code",
   "execution_count": 4,
   "id": "0b54e67f-2b91-47b8-9bb4-8848fd42dd80",
   "metadata": {},
   "outputs": [
    {
     "name": "stdout",
     "output_type": "stream",
     "text": [
      "Current balance is ₹50000\n"
     ]
    }
   ],
   "source": [
    "account_1.show_balance()"
   ]
  },
  {
   "cell_type": "code",
   "execution_count": 5,
   "id": "6f4f7d26-9d49-456f-a4ea-a82a6a3305d7",
   "metadata": {},
   "outputs": [
    {
     "name": "stdout",
     "output_type": "stream",
     "text": [
      "₹10000 withdrawn, remaining balance ₹40000\n"
     ]
    }
   ],
   "source": [
    "account_1.withdraw(10000)"
   ]
  },
  {
   "cell_type": "code",
   "execution_count": 6,
   "id": "fa10e4e2-ae86-4c50-b7e5-bd8335e97d13",
   "metadata": {},
   "outputs": [
    {
     "name": "stdout",
     "output_type": "stream",
     "text": [
      "Deposited amount:₹500 and total balance:₹40500\n"
     ]
    }
   ],
   "source": [
    "account_1.deposit(500)"
   ]
  },
  {
   "cell_type": "code",
   "execution_count": 7,
   "id": "b2d4dbfb-2cef-4c3a-9ca3-7f9cefc0890d",
   "metadata": {},
   "outputs": [
    {
     "name": "stdout",
     "output_type": "stream",
     "text": [
      "Current balance is ₹40500\n"
     ]
    }
   ],
   "source": [
    "account_1.show_balance()"
   ]
  },
  {
   "cell_type": "markdown",
   "id": "355307d6-87b1-4e94-b3ad-c7ac1b0b2afe",
   "metadata": {},
   "source": [
    "## Problem 2: Employee Management Create a class representing an employee with attributes like employee ID, name, and salary. Implement methods to calculate the yearly bonus and display employee details.\r\n"
   ]
  },
  {
   "cell_type": "code",
   "execution_count": 8,
   "id": "cc3ac550-1f54-4326-b289-7c827b3c9013",
   "metadata": {},
   "outputs": [],
   "source": [
    "class employee:\n",
    "    def __init__(self,employee_id,name,salary):\n",
    "        self.employee_id = employee_id\n",
    "        self.name = name\n",
    "        self.salary = salary\n",
    "    \n",
    "    def display_details(self):\n",
    "        print(\"Employee ID:\",self.employee_id)\n",
    "        print(\"Name of Employee:\",self.name)\n",
    "        print(\"Salary:\",self.salary)\n",
    "        \n",
    "    def yearly_bonus(self,bonus_percentage):\n",
    "        bonus_amount = (bonus_percentage / 100) * self.salary\n",
    "        print(\"Bonus amount is:\",bonus_amount)\n",
    "        "
   ]
  },
  {
   "cell_type": "code",
   "execution_count": 9,
   "id": "96a3d115-67bd-4892-acdf-b381ae3432cd",
   "metadata": {},
   "outputs": [],
   "source": [
    "employee1 = employee(employee_id = 123, name = \"Ramjee\", salary = 50000)"
   ]
  },
  {
   "cell_type": "code",
   "execution_count": 10,
   "id": "2e030f48-74a5-4ff1-a22c-6bff08776853",
   "metadata": {},
   "outputs": [
    {
     "name": "stdout",
     "output_type": "stream",
     "text": [
      "Bonus amount is: 7500.0\n"
     ]
    }
   ],
   "source": [
    "employee1.yearly_bonus(15)"
   ]
  },
  {
   "cell_type": "code",
   "execution_count": 11,
   "id": "577de2a9-e24f-455e-9f83-d68d7e81f7af",
   "metadata": {},
   "outputs": [
    {
     "name": "stdout",
     "output_type": "stream",
     "text": [
      "Employee ID: 123\n",
      "Name of Employee: Ramjee\n",
      "Salary: 50000\n"
     ]
    }
   ],
   "source": [
    "employee1.display_details()"
   ]
  },
  {
   "cell_type": "markdown",
   "id": "ef52fb32-172b-4813-8165-a1009abfde67",
   "metadata": {},
   "source": [
    "## Problem 3: Vehicle Rental Create a class representing a vehicle rental system. Implement methods to rent a vehicle, return a vehicle, and display available vehicles."
   ]
  },
  {
   "cell_type": "code",
   "execution_count": 12,
   "id": "73a60204-0071-41ec-b27c-9393db8ebd73",
   "metadata": {},
   "outputs": [],
   "source": [
    "class vehicle_rental_system:\n",
    "    \n",
    "    def __init__(self):\n",
    "        self.available_vehicles = {}\n",
    "        \n",
    "    def add_vehicle(self, vehicle_id, model):\n",
    "        if vehicle_id not in self.available_vehicles:\n",
    "            self.available_vehicles[vehicle_id] = {\"model\":model, \"is_available\": True}\n",
    "            print(f\"Vehicle {vehicle_id} added successfully!\")\n",
    "        else:\n",
    "            print(f\"Vehicle {vehicle_id} already exists!\")\n",
    "            \n",
    "    def rent_vehicle(self,vehicle_id):\n",
    "        if vehicle_id in self.available_vehicles and self.available_vehicles[vehicle_id][\"is_available\"]:\n",
    "            self.available_vehicles[vehicle_id][\"is_available\"] = False\n",
    "            print(f\"Vehicle {vehicle_id} rented successfully !\")\n",
    "        else:\n",
    "            print(f\"Sorry!, Vehicle {vehicle_id} not available for rent\")\n",
    "        \n",
    "    def return_vehicle(self,vehicle_id):\n",
    "        if vehicle_id in self.available_vehicles and not self.available_vehicles[vehicle_id][\"is_available\"]:\n",
    "            self.available_vehicles[vehicle_id][\"is_available\"] = True\n",
    "            print(f\"Vehicle {vehicle_id} returned successfully !\")\n",
    "        else:\n",
    "            print(\"Invalid return!\")\n",
    "    \n",
    "    def display_available_vehicles(self):\n",
    "        available_vehicles = [vehicle_id for vehicle_id, info in self.available_vehicles.items() if info[\"is_available\"]]\n",
    "        if available_vehicles:\n",
    "            print(\"Available Vehicles:\")\n",
    "            for vehicle_id in available_vehicles:\n",
    "                print(f\"ID: {vehicle_id}, Model: {self.available_vehicles[vehicle_id]['model']}\")\n",
    "        else:\n",
    "            print(\"No vehicles are currently available.\")"
   ]
  },
  {
   "cell_type": "code",
   "execution_count": 13,
   "id": "570041a0-3ec8-4bbc-a4a9-8e2c0db045b0",
   "metadata": {},
   "outputs": [
    {
     "name": "stdout",
     "output_type": "stream",
     "text": [
      "No vehicles are currently available.\n"
     ]
    }
   ],
   "source": [
    "rental_system = vehicle_rental_system()\n",
    "rental_system.display_available_vehicles()"
   ]
  },
  {
   "cell_type": "code",
   "execution_count": 14,
   "id": "1d30db4d-ae5a-4d77-8fcb-1ced6782b3fc",
   "metadata": {},
   "outputs": [
    {
     "name": "stdout",
     "output_type": "stream",
     "text": [
      "Vehicle V001 added successfully!\n",
      "Vehicle V002 added successfully!\n",
      "Vehicle V003 added successfully!\n",
      "Vehicle V004 added successfully!\n"
     ]
    }
   ],
   "source": [
    "rental_system.add_vehicle(\"V001\", \"Van\")\n",
    "rental_system.add_vehicle(\"V002\", \"SUV\")\n",
    "rental_system.add_vehicle(\"V003\", \"Truck\")\n",
    "rental_system.add_vehicle(\"V004\", \"Sedan\")"
   ]
  },
  {
   "cell_type": "code",
   "execution_count": 15,
   "id": "5f24fdde-6b4a-47f1-8440-2243b8cde0be",
   "metadata": {},
   "outputs": [
    {
     "name": "stdout",
     "output_type": "stream",
     "text": [
      "Available Vehicles:\n",
      "ID: V001, Model: Van\n",
      "ID: V002, Model: SUV\n",
      "ID: V003, Model: Truck\n",
      "ID: V004, Model: Sedan\n"
     ]
    }
   ],
   "source": [
    "rental_system.display_available_vehicles()"
   ]
  },
  {
   "cell_type": "code",
   "execution_count": 16,
   "id": "eeb84729-354c-4052-ba8d-d8dab2846fc4",
   "metadata": {},
   "outputs": [
    {
     "name": "stdout",
     "output_type": "stream",
     "text": [
      "Vehicle V002 rented successfully !\n"
     ]
    }
   ],
   "source": [
    "rental_system.rent_vehicle(\"V002\")"
   ]
  },
  {
   "cell_type": "code",
   "execution_count": 17,
   "id": "e60eb956-e431-4714-ac8c-727e0b6ad841",
   "metadata": {},
   "outputs": [
    {
     "name": "stdout",
     "output_type": "stream",
     "text": [
      "Vehicle V004 rented successfully !\n"
     ]
    }
   ],
   "source": [
    "rental_system.rent_vehicle(\"V004\")"
   ]
  },
  {
   "cell_type": "code",
   "execution_count": 18,
   "id": "49c3a5ad-3b38-4cd4-ae09-7280b12edb8a",
   "metadata": {},
   "outputs": [
    {
     "name": "stdout",
     "output_type": "stream",
     "text": [
      "Available Vehicles:\n",
      "ID: V001, Model: Van\n",
      "ID: V003, Model: Truck\n"
     ]
    }
   ],
   "source": [
    "rental_system.display_available_vehicles()"
   ]
  },
  {
   "cell_type": "code",
   "execution_count": 19,
   "id": "a01f3e3b-1157-421d-8bf0-25ca468f6165",
   "metadata": {},
   "outputs": [
    {
     "name": "stdout",
     "output_type": "stream",
     "text": [
      "Vehicle V002 returned successfully !\n"
     ]
    }
   ],
   "source": [
    "rental_system.return_vehicle(\"V002\")"
   ]
  },
  {
   "cell_type": "code",
   "execution_count": 20,
   "id": "c85ad76c-ea0d-48da-9958-5b35d1663906",
   "metadata": {},
   "outputs": [
    {
     "name": "stdout",
     "output_type": "stream",
     "text": [
      "Available Vehicles:\n",
      "ID: V001, Model: Van\n",
      "ID: V002, Model: SUV\n",
      "ID: V003, Model: Truck\n"
     ]
    }
   ],
   "source": [
    "rental_system.display_available_vehicles()"
   ]
  },
  {
   "cell_type": "code",
   "execution_count": 21,
   "id": "f116a523-92b5-49df-b1a2-a69f4947493c",
   "metadata": {},
   "outputs": [
    {
     "name": "stdout",
     "output_type": "stream",
     "text": [
      "Invalid return!\n"
     ]
    }
   ],
   "source": [
    "rental_system.return_vehicle(\"V002\")"
   ]
  },
  {
   "cell_type": "markdown",
   "id": "88978757-699d-4089-ab25-bd58a83ef460",
   "metadata": {},
   "source": [
    "## Problem 4: Library Catalog Create classes representing a library and a book. Implement methods to add books to the library, borrow books, and display available books."
   ]
  },
  {
   "cell_type": "code",
   "execution_count": 22,
   "id": "be0e160f-68c5-43d2-95df-3c4d882dbc64",
   "metadata": {},
   "outputs": [],
   "source": [
    "class Book:\n",
    "    def __init__(self, title, author):\n",
    "        self.title = title\n",
    "        self.author = author\n",
    "        self.is_available = True\n",
    "\n",
    "    def __str__(self):\n",
    "        return f'\"{self.title}\" by {self.author}'\n",
    "\n",
    "class Library:\n",
    "    def __init__(self):\n",
    "        self.books = []\n",
    "\n",
    "    def add_book(self, book):\n",
    "        self.books.append(book)\n",
    "        print(f'Book added: {book}')\n",
    "\n",
    "    def borrow_book(self, title):\n",
    "        for book in self.books:\n",
    "            if book.title == title and book.is_available:\n",
    "                book.is_available = False\n",
    "                print(f'Book borrowed: {book}')\n",
    "        print(f'Book not available: {title}')\n",
    "\n",
    "    def display_available_books(self):\n",
    "        available_books = [book for book in self.books if book.is_available]\n",
    "        if available_books:\n",
    "            print('Available Books:')\n",
    "            for book in available_books:\n",
    "                print(f'  {book}')\n",
    "        else:\n",
    "            print('No books available.')\n"
   ]
  },
  {
   "cell_type": "code",
   "execution_count": 23,
   "id": "de8f5b0b-8040-4ee7-a5c2-f20d604a406a",
   "metadata": {},
   "outputs": [],
   "source": [
    "book1 = Book(\"DSA\", \"Jatin\")\n",
    "book2 = Book(\"fundamentals of computer\", \"Hasan\")\n",
    "book3 = Book(\"1984\", \"homeo\")"
   ]
  },
  {
   "cell_type": "code",
   "execution_count": 24,
   "id": "208ee17a-45a8-4dc6-9eac-8b709e00ecc3",
   "metadata": {},
   "outputs": [],
   "source": [
    "library = Library()"
   ]
  },
  {
   "cell_type": "code",
   "execution_count": 25,
   "id": "7462728f-c76d-45bb-b02c-dc2a6749b120",
   "metadata": {},
   "outputs": [
    {
     "name": "stdout",
     "output_type": "stream",
     "text": [
      "Book added: \"DSA\" by Jatin\n",
      "Book added: \"fundamentals of computer\" by Hasan\n",
      "Book added: \"1984\" by homeo\n"
     ]
    }
   ],
   "source": [
    "library.add_book(book1)\n",
    "library.add_book(book2)\n",
    "library.add_book(book3)"
   ]
  },
  {
   "cell_type": "code",
   "execution_count": 26,
   "id": "d2169b0b-5c29-4ffe-8875-bfb4ca974429",
   "metadata": {},
   "outputs": [
    {
     "name": "stdout",
     "output_type": "stream",
     "text": [
      "Available Books:\n",
      "  \"DSA\" by Jatin\n",
      "  \"fundamentals of computer\" by Hasan\n",
      "  \"1984\" by homeo\n"
     ]
    }
   ],
   "source": [
    "library.display_available_books()"
   ]
  },
  {
   "cell_type": "code",
   "execution_count": 27,
   "id": "75d57708-606d-48b9-93cb-79e22dcc0e65",
   "metadata": {},
   "outputs": [
    {
     "name": "stdout",
     "output_type": "stream",
     "text": [
      "Book borrowed: \"DSA\" by Jatin\n",
      "Book not available: DSA\n"
     ]
    }
   ],
   "source": [
    "library.borrow_book(\"DSA\")"
   ]
  },
  {
   "cell_type": "code",
   "execution_count": 28,
   "id": "1ace9d16-db38-49ef-98c8-abcaa40541b1",
   "metadata": {},
   "outputs": [
    {
     "name": "stdout",
     "output_type": "stream",
     "text": [
      "Available Books:\n",
      "  \"fundamentals of computer\" by Hasan\n",
      "  \"1984\" by homeo\n"
     ]
    }
   ],
   "source": [
    "library.display_available_books()"
   ]
  },
  {
   "cell_type": "markdown",
   "id": "1e468a02-7822-4984-a61c-b5315db8d536",
   "metadata": {},
   "source": [
    "## Problem 5: Product Inventory Create classes representing a product and an inventory system. Implement methods to add products to the inventory, update product quantity, and display available products."
   ]
  },
  {
   "cell_type": "code",
   "execution_count": 29,
   "id": "a66c6e49-c867-4612-aec0-bdfda3d84185",
   "metadata": {},
   "outputs": [],
   "source": [
    "class Product:\n",
    "    def __init__(self, product_id, name, price, quantity):\n",
    "        self.product_id = product_id\n",
    "        self.name = name\n",
    "        self.price = price\n",
    "        self.quantity = quantity\n",
    "\n",
    "    def __str__(self):\n",
    "        return f'Product ID: {self.product_id}, Name: {self.name}, Price: ₹{self.price}, Quantity: {self.quantity}'\n",
    "\n",
    "class Inventory:\n",
    "    def __init__(self):\n",
    "        self.products = []\n",
    "\n",
    "    def add_product(self, product):\n",
    "        self.products.append(product)\n",
    "        print(f'Product added to inventory: {product}')\n",
    "\n",
    "    def update_quantity(self, product_id, new_quantity):\n",
    "        for product in self.products:\n",
    "            if product.product_id == product_id:\n",
    "                product.quantity = new_quantity\n",
    "                print(f'Quantity updated for {product}: New Quantity: {new_quantity}')\n",
    "        print(f'Product with ID {product_id} not found in inventory.')\n",
    "\n",
    "    def display_available_products(self):\n",
    "        if self.products:\n",
    "            print('Available Products:')\n",
    "            for product in self.products:\n",
    "                print(f'  {product}')\n",
    "        else:\n",
    "            print('No products available in the inventory.')\n",
    "\n"
   ]
  },
  {
   "cell_type": "code",
   "execution_count": 30,
   "id": "6c4693af-9b59-4e25-9aba-8a9c9d9fc123",
   "metadata": {},
   "outputs": [],
   "source": [
    "product1 = Product(1, \"Laptop\", 1200, 10)\n",
    "product2 = Product(2, \"Smartphone\", 800, 15)\n",
    "product3 = Product(3, \"Headphones\", 100, 30)"
   ]
  },
  {
   "cell_type": "code",
   "execution_count": 31,
   "id": "46fb48c6-bf2d-45eb-8e9e-b5156524520c",
   "metadata": {},
   "outputs": [],
   "source": [
    "inventory = Inventory()"
   ]
  },
  {
   "cell_type": "code",
   "execution_count": 32,
   "id": "4e10ed0b-6130-4241-9f66-1196c66c94eb",
   "metadata": {},
   "outputs": [
    {
     "name": "stdout",
     "output_type": "stream",
     "text": [
      "Product added to inventory: Product ID: 1, Name: Laptop, Price: ₹1200, Quantity: 10\n",
      "Product added to inventory: Product ID: 2, Name: Smartphone, Price: ₹800, Quantity: 15\n",
      "Product added to inventory: Product ID: 3, Name: Headphones, Price: ₹100, Quantity: 30\n"
     ]
    }
   ],
   "source": [
    "inventory.add_product(product1)\n",
    "inventory.add_product(product2)\n",
    "inventory.add_product(product3)"
   ]
  },
  {
   "cell_type": "code",
   "execution_count": 33,
   "id": "b43d336f-7053-4ca9-a823-47f334601661",
   "metadata": {},
   "outputs": [
    {
     "name": "stdout",
     "output_type": "stream",
     "text": [
      "Available Products:\n",
      "  Product ID: 1, Name: Laptop, Price: ₹1200, Quantity: 10\n",
      "  Product ID: 2, Name: Smartphone, Price: ₹800, Quantity: 15\n",
      "  Product ID: 3, Name: Headphones, Price: ₹100, Quantity: 30\n"
     ]
    }
   ],
   "source": [
    "inventory.display_available_products()"
   ]
  },
  {
   "cell_type": "code",
   "execution_count": 34,
   "id": "9382ac4b-c412-4fa2-8fd2-c9ac77d8ab0a",
   "metadata": {},
   "outputs": [
    {
     "name": "stdout",
     "output_type": "stream",
     "text": [
      "Quantity updated for Product ID: 2, Name: Smartphone, Price: ₹800, Quantity: 20: New Quantity: 20\n",
      "Product with ID 2 not found in inventory.\n"
     ]
    }
   ],
   "source": [
    "inventory.update_quantity(2, 20)"
   ]
  },
  {
   "cell_type": "code",
   "execution_count": 35,
   "id": "8f50b446-c453-4444-b8f1-68529c1d3396",
   "metadata": {},
   "outputs": [
    {
     "name": "stdout",
     "output_type": "stream",
     "text": [
      "Available Products:\n",
      "  Product ID: 1, Name: Laptop, Price: ₹1200, Quantity: 10\n",
      "  Product ID: 2, Name: Smartphone, Price: ₹800, Quantity: 20\n",
      "  Product ID: 3, Name: Headphones, Price: ₹100, Quantity: 30\n"
     ]
    }
   ],
   "source": [
    "inventory.display_available_products()"
   ]
  },
  {
   "cell_type": "markdown",
   "id": "b33a173d-d8c3-4f13-8ac5-ae2914f3411f",
   "metadata": {},
   "source": [
    "## Problem 6: Shape Calculation Create a class representing a shape with attributes like length, width, and height. Implement methods to calculate the area and perimeter of the shape."
   ]
  },
  {
   "cell_type": "code",
   "execution_count": 36,
   "id": "c435e0b9-feb4-4c1d-8448-7eb2c531e6fa",
   "metadata": {},
   "outputs": [],
   "source": [
    "class shape:\n",
    "    def __init__(self,length,width,height):\n",
    "        self.length = length\n",
    "        self.width = width\n",
    "        self.height = height\n",
    "        \n",
    "    def area(self):\n",
    "        return 2*(self.length*self.width+self.width*self.height+self.length*self.height)\n",
    "    \n",
    "    def perimeter(self):\n",
    "        return 4*(self.length+self.width+self.height)\n",
    "    def volume(self):\n",
    "        return self.length*self.width*self.height"
   ]
  },
  {
   "cell_type": "code",
   "execution_count": 37,
   "id": "6d726f93-2dee-46e0-b9d4-68089126d14f",
   "metadata": {},
   "outputs": [
    {
     "name": "stdout",
     "output_type": "stream",
     "text": [
      "Area of the cuboid is 160 sq. unit\n",
      "Perimeter of the cuboid is 68 unit\n",
      "Volume of the cuboid is 100 cubic unit\n"
     ]
    }
   ],
   "source": [
    "cuboid = shape(10,5,2)\n",
    "print(f\"Area of the cuboid is {cuboid.area()} sq. unit\")\n",
    "print(f\"Perimeter of the cuboid is {cuboid.perimeter()} unit\")\n",
    "print(f\"Volume of the cuboid is {cuboid.volume()} cubic unit\")"
   ]
  },
  {
   "cell_type": "code",
   "execution_count": 38,
   "id": "cfc72898-84a0-4752-a24c-c1c3a47b72fc",
   "metadata": {},
   "outputs": [
    {
     "name": "stdout",
     "output_type": "stream",
     "text": [
      "Area of the cube is 294 sq. unit\n",
      "Perimeter of the cube is 84 unit\n",
      "Volume of the cube is 343 cubic unit\n"
     ]
    }
   ],
   "source": [
    "cube = shape(7,7,7)\n",
    "print(f\"Area of the cube is {cube.area()} sq. unit\")\n",
    "print(f\"Perimeter of the cube is {cube.perimeter()} unit\")\n",
    "print(f\"Volume of the cube is {cube.volume()} cubic unit\")"
   ]
  },
  {
   "cell_type": "markdown",
   "id": "a83773ff-e095-4667-9519-ad7f67444766",
   "metadata": {},
   "source": [
    "## Problem 7: Student Management Create a class representing a student with attributes like student ID, name, and grades. Implement methods to calculate the average grade and display student details."
   ]
  },
  {
   "cell_type": "code",
   "execution_count": 39,
   "id": "ee8f6e9e-5a20-41b1-8f20-d6894cf8fe02",
   "metadata": {},
   "outputs": [],
   "source": [
    "class student:\n",
    "    \n",
    "    def __init__(self,student_id,name,grades):\n",
    "        self.student_id = student_id\n",
    "        self.name = name\n",
    "        self.grades = grades\n",
    "        \n",
    "    def calc_avg_grade(self):\n",
    "        if not self.grades:\n",
    "            return 0\n",
    "        else:\n",
    "            return sum(self.grades)/len(self.grades)\n",
    "    \n",
    "    def display_student_details(self):\n",
    "        print(f\"Student ID: {self.student_id}\")\n",
    "        print(f\"Student's name: {self.name}\")\n",
    "        print(f\"Grades: {', '.join(map(str, self.grades))}\")\n",
    "        print(f\"Average grade: {self.calc_avg_grade()}\")"
   ]
  },
  {
   "cell_type": "code",
   "execution_count": 40,
   "id": "823d1d4b-4b0d-49dc-89bc-4312cc074bd3",
   "metadata": {},
   "outputs": [],
   "source": [
    "student1 = student(student_id = 1,name=\"hari\",grades=[90,52,54,78,91,85])\n",
    "student2 = student(student_id=2,name=\"ravi\",grades=[50,50,50,50,85])\n",
    "student3 = student(student_id=3,name=\"Raja\",grades=[40,85,85,74,85,95,65])"
   ]
  },
  {
   "cell_type": "code",
   "execution_count": 41,
   "id": "d9112b24-2962-4b58-ab18-32e20b7dcb8d",
   "metadata": {},
   "outputs": [
    {
     "name": "stdout",
     "output_type": "stream",
     "text": [
      "Student ID: 1\n",
      "Student's name: hari\n",
      "Grades: 90, 52, 54, 78, 91, 85\n",
      "Average grade: 75.0\n"
     ]
    }
   ],
   "source": [
    "student1.display_student_details()"
   ]
  },
  {
   "cell_type": "code",
   "execution_count": 42,
   "id": "3c474135-9e8e-48a7-8dbd-b096ef090c65",
   "metadata": {},
   "outputs": [
    {
     "name": "stdout",
     "output_type": "stream",
     "text": [
      "Student ID: 2\n",
      "Student's name: ravi\n",
      "Grades: 50, 50, 50, 50, 85\n",
      "Average grade: 57.0\n"
     ]
    }
   ],
   "source": [
    "student2.display_student_details()"
   ]
  },
  {
   "cell_type": "code",
   "execution_count": 43,
   "id": "e5280f52-6dbe-4119-9441-669805728488",
   "metadata": {},
   "outputs": [
    {
     "name": "stdout",
     "output_type": "stream",
     "text": [
      "Student ID: 3\n",
      "Student's name: Raja\n",
      "Grades: 40, 85, 85, 74, 85, 95, 65\n",
      "Average grade: 75.57142857142857\n"
     ]
    }
   ],
   "source": [
    "student3.display_student_details()"
   ]
  },
  {
   "cell_type": "markdown",
   "id": "a03051e2-2d83-43c1-ba4e-121ebed7fad9",
   "metadata": {},
   "source": [
    "## Problem 8: Email Management Create a class representing an email with attributes like sender, recipient, and subject. Implement methods to send an email and display email details."
   ]
  },
  {
   "cell_type": "code",
   "execution_count": 44,
   "id": "5a0fb4c3-9a7b-4f25-906e-3ac00a441c3c",
   "metadata": {},
   "outputs": [],
   "source": [
    "class email:\n",
    "    def __init__(self, sender, recipient, subject, body):\n",
    "        self.sender = sender\n",
    "        self.recipient = recipient\n",
    "        self.subject = subject\n",
    "        self.body = body\n",
    "        self.sent = False\n",
    "\n",
    "    def send_email(self):\n",
    "        self.sent = True\n",
    "        print(\"Email sent!\")\n",
    "\n",
    "    def display_email_details(self):\n",
    "        print(f\"Sender: {self.sender}\")\n",
    "        print(f\"Recipient: {self.recipient}\")\n",
    "        print(f\"Subject: {self.subject}\")\n",
    "        print(f\"Body: {self.body}\")\n",
    "        print(f\"Status: {'Sent' if self.sent else 'Draft'}\")\n"
   ]
  },
  {
   "cell_type": "code",
   "execution_count": 45,
   "id": "6bc6bc79-db26-4fec-a377-4fa0e962c5a2",
   "metadata": {},
   "outputs": [],
   "source": [
    "email1 = email(sender=\"abc@gmail.com\", recipient=\"xyz@gmail.com\", subject=\"Random\", body=\"This is a test email\")"
   ]
  },
  {
   "cell_type": "code",
   "execution_count": 46,
   "id": "5ed331ba-9e79-4c2e-aa6f-f58fce32c085",
   "metadata": {},
   "outputs": [
    {
     "name": "stdout",
     "output_type": "stream",
     "text": [
      "Email sent!\n"
     ]
    }
   ],
   "source": [
    "email1.send_email()"
   ]
  },
  {
   "cell_type": "code",
   "execution_count": 47,
   "id": "c3928e3d-6f1b-4ef8-8eea-284919074f44",
   "metadata": {},
   "outputs": [
    {
     "name": "stdout",
     "output_type": "stream",
     "text": [
      "Sender: abc@gmail.com\n",
      "Recipient: xyz@gmail.com\n",
      "Subject: Random\n",
      "Body: This is a test email\n",
      "Status: Sent\n"
     ]
    }
   ],
   "source": [
    "email1.display_email_details()"
   ]
  },
  {
   "cell_type": "markdown",
   "id": "071190a2-823a-4c55-96ac-a13c471543d4",
   "metadata": {},
   "source": [
    "## Problem 9: Social Media Profile Create a class representing a social media profile with attributes like username and posts. Implement methods to add posts, display posts, and search for posts by keyword."
   ]
  },
  {
   "cell_type": "code",
   "execution_count": 48,
   "id": "3577d303-ca3b-4483-abf6-0b41ed80157e",
   "metadata": {},
   "outputs": [],
   "source": [
    "class SocialMediaProfile:\n",
    "    def __init__(self, username):\n",
    "        self.username = username\n",
    "        self.posts = []\n",
    "\n",
    "    def add_post(self, content):\n",
    "        post = {\"content\": content, \"author\": self.username}\n",
    "        self.posts.append(post)\n",
    "        print(\"Post added successfully!\")\n",
    "\n",
    "    def display_posts(self):\n",
    "        if not self.posts:\n",
    "            print(\"No posts to display.\")\n",
    "        else:\n",
    "            print(f\"Posts by {self.username}:\")\n",
    "            for i, post in enumerate(self.posts, start=1):\n",
    "                print(f\"{i}. {post['content']}\")\n",
    "\n",
    "    def search_posts_by_keyword(self, keyword):\n",
    "        matching_posts = [post for post in self.posts if keyword.lower() in post['content'].lower()]\n",
    "        if not matching_posts:\n",
    "            print(f\"No posts found containing the keyword '{keyword}'.\")\n",
    "        else:\n",
    "            print(f\"Matching posts for keyword '{keyword}':\")\n",
    "            for i, post in enumerate(matching_posts, start=1):\n",
    "                print(f\"{i}. {post['content']}\")\n",
    "\n"
   ]
  },
  {
   "cell_type": "code",
   "execution_count": 49,
   "id": "5a320235-fae4-4ba2-8454-b5a1c676f62c",
   "metadata": {},
   "outputs": [],
   "source": [
    "profile1 = SocialMediaProfile(username=\"Raman\")"
   ]
  },
  {
   "cell_type": "code",
   "execution_count": 50,
   "id": "d4319420-5546-40cc-8dcf-ecdc06c4d5e5",
   "metadata": {},
   "outputs": [
    {
     "name": "stdout",
     "output_type": "stream",
     "text": [
      "Post added successfully!\n",
      "Post added successfully!\n",
      "Post added successfully!\n"
     ]
    }
   ],
   "source": [
    "profile1.add_post(\"Hello, this is my first post!\")\n",
    "profile1.add_post(\"Having a great day! 😊\")\n",
    "profile1.add_post(\"Just finished reading a good book.\")"
   ]
  },
  {
   "cell_type": "code",
   "execution_count": 51,
   "id": "310255c2-9cf9-4a6d-a6c0-03ac8368e365",
   "metadata": {},
   "outputs": [
    {
     "name": "stdout",
     "output_type": "stream",
     "text": [
      "Posts by Raman:\n",
      "1. Hello, this is my first post!\n",
      "2. Having a great day! 😊\n",
      "3. Just finished reading a good book.\n"
     ]
    }
   ],
   "source": [
    "profile1.display_posts()"
   ]
  },
  {
   "cell_type": "code",
   "execution_count": 52,
   "id": "c7cbea14-e643-4bb2-b09a-1bdce4884712",
   "metadata": {},
   "outputs": [
    {
     "name": "stdout",
     "output_type": "stream",
     "text": [
      "Matching posts for keyword 'a':\n",
      "1. Having a great day! 😊\n",
      "2. Just finished reading a good book.\n"
     ]
    }
   ],
   "source": [
    "profile1.search_posts_by_keyword(\"a\")"
   ]
  },
  {
   "cell_type": "markdown",
   "id": "5bdf562f-2596-4c6d-9058-536f631d24bc",
   "metadata": {},
   "source": [
    "## Problem 10: ToDo List Create a class representing a ToDo list with attributes like tasks and due dates. Implement methods to add tasks, mark tasks as completed, and display pending tasks."
   ]
  },
  {
   "cell_type": "code",
   "execution_count": 53,
   "id": "f4221cb8-8571-4890-b307-f3da5c92fc2f",
   "metadata": {},
   "outputs": [],
   "source": [
    "class to_do_list:\n",
    "    \n",
    "    def __init__(self):\n",
    "        self.tasks = []\n",
    "\n",
    "    def add_task(self, task):\n",
    "        self.tasks.append({\"task\": task, \"completed\": False})\n",
    "        print(f\"Task '{task}' added to the To-Do list.\")\n",
    "\n",
    "    def mark_task_as_completed(self, task_index):\n",
    "        if 0 <= task_index < len(self.tasks):\n",
    "            self.tasks[task_index][\"completed\"] = True\n",
    "            print(f\"Task '{self.tasks[task_index]['task']}' marked as completed.\")\n",
    "        else:\n",
    "            print(\"Invalid task index.\")\n",
    "\n",
    "    def display_pending_tasks(self):\n",
    "        pending_tasks = [task[\"task\"] for task in self.tasks if not task[\"completed\"]]\n",
    "        if not pending_tasks:\n",
    "            print(\"No pending tasks.\")\n",
    "        else:\n",
    "            print(\"Pending Tasks:\")\n",
    "            for i, task in enumerate(pending_tasks, start=1):\n",
    "                print(f\"{i}. {task}\")\n"
   ]
  },
  {
   "cell_type": "code",
   "execution_count": 54,
   "id": "0d535192-2169-4dd9-84ac-8527787f80e1",
   "metadata": {},
   "outputs": [],
   "source": [
    "todo_list = to_do_list()"
   ]
  },
  {
   "cell_type": "code",
   "execution_count": 55,
   "id": "001b391f-2d1f-459e-aafe-96514ddc5c2f",
   "metadata": {},
   "outputs": [
    {
     "name": "stdout",
     "output_type": "stream",
     "text": [
      "Task 'complete assignment' added to the To-Do list.\n",
      "Task 'Upload it on the github' added to the To-Do list.\n",
      "Task 'paste the github link on pwskills website' added to the To-Do list.\n"
     ]
    }
   ],
   "source": [
    "todo_list.add_task(\"complete assignment\")\n",
    "todo_list.add_task(\"Upload it on the github\")\n",
    "todo_list.add_task(\"paste the github link on pwskills website\")"
   ]
  },
  {
   "cell_type": "code",
   "execution_count": 56,
   "id": "2047da08-c781-4240-ab8e-9865564a5ac1",
   "metadata": {},
   "outputs": [
    {
     "name": "stdout",
     "output_type": "stream",
     "text": [
      "Pending Tasks:\n",
      "1. complete assignment\n",
      "2. Upload it on the github\n",
      "3. paste the github link on pwskills website\n"
     ]
    }
   ],
   "source": [
    "todo_list.display_pending_tasks()"
   ]
  },
  {
   "cell_type": "code",
   "execution_count": 57,
   "id": "beb8e95c-e4ef-4d2c-a2e8-c761a753df7b",
   "metadata": {},
   "outputs": [
    {
     "name": "stdout",
     "output_type": "stream",
     "text": [
      "Task 'complete assignment' marked as completed.\n"
     ]
    }
   ],
   "source": [
    "todo_list.mark_task_as_completed(0)"
   ]
  },
  {
   "cell_type": "code",
   "execution_count": 58,
   "id": "6cba0640-f5a3-4911-9f0f-bdacac11458b",
   "metadata": {},
   "outputs": [
    {
     "name": "stdout",
     "output_type": "stream",
     "text": [
      "Pending Tasks:\n",
      "1. Upload it on the github\n",
      "2. paste the github link on pwskills website\n"
     ]
    }
   ],
   "source": [
    "todo_list.display_pending_tasks()"
   ]
  },
  {
   "cell_type": "code",
   "execution_count": 59,
   "id": "d6ba103b-c15c-493c-9e2d-5103017cba8d",
   "metadata": {},
   "outputs": [
    {
     "name": "stdout",
     "output_type": "stream",
     "text": [
      "Task 'Upload it on the github' marked as completed.\n"
     ]
    }
   ],
   "source": [
    "todo_list.mark_task_as_completed(1)"
   ]
  },
  {
   "cell_type": "code",
   "execution_count": 60,
   "id": "4dd049e5-406e-45df-bf76-f7ada2294faf",
   "metadata": {},
   "outputs": [
    {
     "name": "stdout",
     "output_type": "stream",
     "text": [
      "Pending Tasks:\n",
      "1. paste the github link on pwskills website\n"
     ]
    }
   ],
   "source": [
    "todo_list.display_pending_tasks()"
   ]
  },
  {
   "cell_type": "code",
   "execution_count": 61,
   "id": "0fad04e3-5c5f-456f-b991-c2c62a5df255",
   "metadata": {},
   "outputs": [
    {
     "name": "stdout",
     "output_type": "stream",
     "text": [
      "Task 'paste the github link on pwskills website' marked as completed.\n"
     ]
    }
   ],
   "source": [
    "todo_list.mark_task_as_completed(2)"
   ]
  },
  {
   "cell_type": "code",
   "execution_count": 62,
   "id": "93076861-75fb-4660-906f-b4da070cc3cc",
   "metadata": {},
   "outputs": [
    {
     "name": "stdout",
     "output_type": "stream",
     "text": [
      "No pending tasks.\n"
     ]
    }
   ],
   "source": [
    "todo_list.display_pending_tasks()"
   ]
  },
  {
   "cell_type": "code",
   "execution_count": null,
   "id": "960569f5-4154-42ab-acbe-b1aca69da39a",
   "metadata": {},
   "outputs": [],
   "source": []
  }
 ],
 "metadata": {
  "kernelspec": {
   "display_name": "Python 3 (ipykernel)",
   "language": "python",
   "name": "python3"
  },
  "language_info": {
   "codemirror_mode": {
    "name": "ipython",
    "version": 3
   },
   "file_extension": ".py",
   "mimetype": "text/x-python",
   "name": "python",
   "nbconvert_exporter": "python",
   "pygments_lexer": "ipython3",
   "version": "3.11.4"
  },
  "widgets": {
   "application/vnd.jupyter.widget-state+json": {
    "state": {},
    "version_major": 2,
    "version_minor": 0
   }
  }
 },
 "nbformat": 4,
 "nbformat_minor": 5
}
