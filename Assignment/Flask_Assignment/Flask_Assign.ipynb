{
 "cells": [
  {
   "cell_type": "markdown",
   "metadata": {},
   "source": [
    "Basics of Flask:"
   ]
  },
  {
   "cell_type": "code",
   "execution_count": 1,
   "metadata": {},
   "outputs": [],
   "source": [
    "# 1. Create a Flask app that displays \"Hello, World!\" on the homepage.\n",
    "# 2. Build a Flask app with static HTML pages and navigate between them.\n",
    "# 3. Develop a Flask app that uses URL parameters to display dynamic content.\n",
    "# 4. Create a Flask app with a form that accepts user input and displays it.\n",
    "# 5. Implement user sessions in a Flask app to store and display user-specific data.\n",
    "# 6. Build a Flask app that allows users to upload files and display them on the website."
   ]
  },
  {
   "cell_type": "markdown",
   "metadata": {},
   "source": [
    "Intermediate Flask Topics:"
   ]
  },
  {
   "cell_type": "code",
   "execution_count": null,
   "metadata": {},
   "outputs": [],
   "source": [
    "# 7. Integrate a SQLite database with Flask to perform CRUD operations on a list of items.\n",
    "# 8. Implement user authentication and registration in a Flask app using Flask-Login.\n",
    "# 9. Create a RESTful API using Flask to perform CRUD operations on resources like books or movies.\n",
    "# 10. Design a Flask app with proper error handling for 404 and 500 errors."
   ]
  },
  {
   "cell_type": "markdown",
   "metadata": {},
   "source": [
    "Real-time Development:"
   ]
  },
  {
   "cell_type": "code",
   "execution_count": null,
   "metadata": {},
   "outputs": [],
   "source": [
    "# 11. Create a real-time chat application using Flask-SocketIO.\n",
    "# 12. Build a Flask app that updates data in real-time using WebSocket connections.\n",
    "# 13. Implement notifications in a Flask app using websockets to notify users of updates."
   ]
  }
 ],
 "metadata": {
  "kernelspec": {
   "display_name": "Python 3",
   "language": "python",
   "name": "python3"
  },
  "language_info": {
   "codemirror_mode": {
    "name": "ipython",
    "version": 3
   },
   "file_extension": ".py",
   "mimetype": "text/x-python",
   "name": "python",
   "nbconvert_exporter": "python",
   "pygments_lexer": "ipython3",
   "version": "3.11.4"
  }
 },
 "nbformat": 4,
 "nbformat_minor": 2
}
