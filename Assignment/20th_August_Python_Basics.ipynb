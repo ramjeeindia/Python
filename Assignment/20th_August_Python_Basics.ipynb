{
 "cells": [
  {
   "cell_type": "markdown",
   "metadata": {},
   "source": [
    "String Based PracticeQuestions"
   ]
  },
  {
   "cell_type": "markdown",
   "metadata": {},
   "source": [
    "1. Write a program to reverse a string."
   ]
  },
  {
   "cell_type": "code",
   "execution_count": 4,
   "metadata": {},
   "outputs": [
    {
     "name": "stdout",
     "output_type": "stream",
     "text": [
      "eejmar\n"
     ]
    }
   ],
   "source": [
    "# Get Input String from user\n",
    "string = str(input(\"Enter any String : \"))\n",
    " #  define variable using slicinng method to get reverse using -1\n",
    "reverse_string = string [::-1] \n",
    " # Print reverse string the input string is ramjee\n",
    "print(reverse_string)"
   ]
  },
  {
   "cell_type": "markdown",
   "metadata": {},
   "source": [
    "2. Check if a string is a palindrome."
   ]
  },
  {
   "cell_type": "code",
   "execution_count": 5,
   "metadata": {},
   "outputs": [
    {
     "name": "stdout",
     "output_type": "stream",
     "text": [
      "The given string in not palidrome\n"
     ]
    }
   ],
   "source": [
    "# Get Input String from user\n",
    "string = str(input(\"Enter any String : \"))\n",
    " # define variable using slicinng method to get reverse using -1\n",
    "reverse_string = string [::-1] \n",
    "# get output using if else method the input string is ramjee\n",
    "if string == reverse_string :\n",
    "    print(\"The given string is palindrome\")\n",
    "else:\n",
    "    print (\"The given string in not palidrome\")"
   ]
  },
  {
   "cell_type": "code",
   "execution_count": 6,
   "metadata": {},
   "outputs": [
    {
     "name": "stdout",
     "output_type": "stream",
     "text": [
      "The given string is palindrome\n"
     ]
    }
   ],
   "source": [
    "# Get Input String from user\n",
    "string = str(input(\"Enter any String : \"))\n",
    " #  define variable using slicinng method to get reverse using -1\n",
    "reverse_string = string [::-1] \n",
    "# get output using if else method the input string is noon\n",
    "if string == reverse_string :\n",
    "    print(\"The given string is palindrome\")\n",
    "else:\n",
    "    print (\"The given string in not palidrome\")"
   ]
  },
  {
   "cell_type": "markdown",
   "metadata": {},
   "source": [
    "3. Convert a string to uppercase."
   ]
  },
  {
   "cell_type": "code",
   "execution_count": 7,
   "metadata": {},
   "outputs": [
    {
     "name": "stdout",
     "output_type": "stream",
     "text": [
      "The given string in uppercase is :  RAMJEE\n"
     ]
    }
   ],
   "source": [
    "# Get Input String from user\n",
    "string = str(input(\"Enter any String : \"))\n",
    " #  define variable and get uppercase using upper() method \n",
    "uppercase_string = string.upper()\n",
    "# print the uppercase string after \n",
    "print(\"The given string in uppercase is : \", uppercase_string)\n",
    "\n"
   ]
  },
  {
   "cell_type": "code",
   "execution_count": null,
   "metadata": {},
   "outputs": [],
   "source": []
  }
 ],
 "metadata": {
  "kernelspec": {
   "display_name": "Python 3",
   "language": "python",
   "name": "python3"
  },
  "language_info": {
   "codemirror_mode": {
    "name": "ipython",
    "version": 3
   },
   "file_extension": ".py",
   "mimetype": "text/x-python",
   "name": "python",
   "nbconvert_exporter": "python",
   "pygments_lexer": "ipython3",
   "version": "3.11.4"
  },
  "orig_nbformat": 4
 },
 "nbformat": 4,
 "nbformat_minor": 2
}
