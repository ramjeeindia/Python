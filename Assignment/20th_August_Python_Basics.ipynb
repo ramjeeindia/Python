{
 "cells": [
  {
   "cell_type": "markdown",
   "metadata": {},
   "source": [
    "String Based PracticeQuestions"
   ]
  },
  {
   "cell_type": "markdown",
   "metadata": {},
   "source": [
    "1. Write a program to reverse a string."
   ]
  },
  {
   "cell_type": "code",
   "execution_count": 1,
   "metadata": {},
   "outputs": [
    {
     "name": "stdin",
     "output_type": "stream",
     "text": [
      "Enter any String :  ramjee\n"
     ]
    },
    {
     "name": "stdout",
     "output_type": "stream",
     "text": [
      "eejmar\n"
     ]
    }
   ],
   "source": [
    "# Get Input String from user\n",
    "string = str(input(\"Enter any String : \"))\n",
    " #  define variable using slicinng method to get reverse using -1\n",
    "reverse_string = string [::-1] \n",
    " # Print reverse string \n",
    "print(reverse_string)"
   ]
  },
  {
   "cell_type": "markdown",
   "metadata": {},
   "source": [
    "2. Check if a string is a palindrome."
   ]
  },
  {
   "cell_type": "code",
   "execution_count": 2,
   "metadata": {},
   "outputs": [
    {
     "name": "stdin",
     "output_type": "stream",
     "text": [
      "Enter any String :  ramjee\n"
     ]
    },
    {
     "name": "stdout",
     "output_type": "stream",
     "text": [
      "The given string in not palidrome\n"
     ]
    }
   ],
   "source": [
    "# Get Input String from user\n",
    "string = str(input(\"Enter any String : \"))\n",
    " # define variable using slicinng method to get reverse using -1\n",
    "reverse_string = string [::-1] \n",
    "# get output using if else method \n",
    "if string == reverse_string :\n",
    "    print(\"The given string is palindrome\")\n",
    "else:\n",
    "    print (\"The given string in not palidrome\")"
   ]
  },
  {
   "cell_type": "code",
   "execution_count": 3,
   "metadata": {},
   "outputs": [
    {
     "name": "stdin",
     "output_type": "stream",
     "text": [
      "Enter any String :  noon\n"
     ]
    },
    {
     "name": "stdout",
     "output_type": "stream",
     "text": [
      "The given string is palindrome\n"
     ]
    }
   ],
   "source": [
    "# Get Input String from user\n",
    "string = str(input(\"Enter any String : \"))\n",
    " #  define variable using slicinng method to get reverse using -1\n",
    "reverse_string = string [::-1] \n",
    "# get output using if else method \n",
    "if string == reverse_string :\n",
    "    print(\"The given string is palindrome\")\n",
    "else:\n",
    "    print (\"The given string in not palidrome\")"
   ]
  },
  {
   "cell_type": "markdown",
   "metadata": {},
   "source": [
    "3. Convert a string to uppercase."
   ]
  },
  {
   "cell_type": "code",
   "execution_count": 4,
   "metadata": {},
   "outputs": [
    {
     "name": "stdin",
     "output_type": "stream",
     "text": [
      "Enter any String :  ramjee\n"
     ]
    },
    {
     "name": "stdout",
     "output_type": "stream",
     "text": [
      "The given string in uppercase is :  RAMJEE\n"
     ]
    }
   ],
   "source": [
    "# Get Input String from user\n",
    "string = str(input(\"Enter any String : \"))\n",
    " #  define variable and get uppercase using upper() method \n",
    "uppercase_string = string.upper()\n",
    "# print the uppercase string  \n",
    "print(\"The given string in uppercase is : \", uppercase_string)\n",
    "\n"
   ]
  },
  {
   "cell_type": "markdown",
   "metadata": {},
   "source": [
    "4. Convert a string to lowercase."
   ]
  },
  {
   "cell_type": "code",
   "execution_count": 6,
   "metadata": {},
   "outputs": [
    {
     "name": "stdin",
     "output_type": "stream",
     "text": [
      "Enter any String :  Ramjee Singh\n"
     ]
    },
    {
     "name": "stdout",
     "output_type": "stream",
     "text": [
      "The given string in lowercase is :  ramjee singh\n"
     ]
    }
   ],
   "source": [
    "# Get Input String from user\n",
    "string = str(input(\"Enter any String : \"))\n",
    " #  define variable and get lowercase using lower() method \n",
    "uppercase_string = string.lower()\n",
    "# print the lowercase string  \n",
    "print(\"The given string in lowercase is : \", uppercase_string)"
   ]
  },
  {
   "cell_type": "markdown",
   "metadata": {},
   "source": [
    "5. Count the number of vowels in a string."
   ]
  },
  {
   "cell_type": "code",
   "execution_count": 16,
   "metadata": {},
   "outputs": [
    {
     "name": "stdin",
     "output_type": "stream",
     "text": [
      "Enter any string:  Hello PWSkills\n"
     ]
    },
    {
     "name": "stdout",
     "output_type": "stream",
     "text": [
      "The total number of vowels in the string is: 3\n"
     ]
    }
   ],
   "source": [
    "# Get input string from the user\n",
    "string = input(\"Enter any string: \")\n",
    "# Initialize a variable to keep track of the vowel count\n",
    "vowel_count = 0\n",
    "# Convert input string to lowercase\n",
    "string = string.lower()\n",
    "# Iterate through the characters in the string\n",
    "for char in string:\n",
    "    if char in \"aeiou\":\n",
    "        vowel_count += 1\n",
    "# Display the total number of vowels in the string\n",
    "print(\"The total number of vowels in the string is:\", vowel_count)\n",
    "\n"
   ]
  },
  {
   "cell_type": "markdown",
   "metadata": {},
   "source": [
    "6. Count the number of consonants in a string."
   ]
  },
  {
   "cell_type": "code",
   "execution_count": 19,
   "metadata": {},
   "outputs": [
    {
     "name": "stdin",
     "output_type": "stream",
     "text": [
      "Enter any string:  Hello PWSkills\n"
     ]
    },
    {
     "name": "stdout",
     "output_type": "stream",
     "text": [
      "The total number of consonant in the string is: 10\n"
     ]
    }
   ],
   "source": [
    "# Get input string from the user\n",
    "string = input(\"Enter any string: \")\n",
    "# Initialize a variable to keep track of the vowel count\n",
    "consonant_count = 0\n",
    "# Convert input string to lowercase\n",
    "string = string.lower()\n",
    "# Iterate through the characters in the string\n",
    "for char in string:\n",
    "    if char in \"bcdfghjklmnpqrstvwxyz\":\n",
    "        consonant_count += 1\n",
    "# Display the total number of vowels in the string\n",
    "print(\"The total number of consonant in the string is:\", consonant_count)"
   ]
  },
  {
   "cell_type": "markdown",
   "metadata": {},
   "source": [
    "7. Remove all whitespaces from a string."
   ]
  },
  {
   "cell_type": "code",
   "execution_count": 20,
   "metadata": {},
   "outputs": [
    {
     "name": "stdin",
     "output_type": "stream",
     "text": [
      "Enter any string:  Hello PWSkills    how are you  ?\n"
     ]
    },
    {
     "name": "stdout",
     "output_type": "stream",
     "text": [
      "The string after removing whitespace is: HelloPWSkillshowareyou?\n"
     ]
    }
   ],
   "source": [
    "# Get input string from the user\n",
    "string = input(\"Enter any string: \")\n",
    "# replace the whitespavce using replace\n",
    "rev_whitespace = string.replace(\" \",\"\")\n",
    "\n",
    "# Display the total number of vowels in the string\n",
    "print(\"The string after removing whitespace is:\", rev_whitespace)"
   ]
  },
  {
   "cell_type": "markdown",
   "metadata": {},
   "source": [
    "8. Find the length of a string without using the `len()` function."
   ]
  },
  {
   "cell_type": "code",
   "execution_count": 22,
   "metadata": {},
   "outputs": [
    {
     "name": "stdin",
     "output_type": "stream",
     "text": [
      "Enter any string:  ram\n"
     ]
    },
    {
     "name": "stdout",
     "output_type": "stream",
     "text": [
      "The total number of length is: 3\n"
     ]
    }
   ],
   "source": [
    "# Get input string from the user\n",
    "string = input(\"Enter any string: \")\n",
    "# Initialize a variable to keep track of the lenth count\n",
    "length_count = 0\n",
    "# Iterate through the characters in the string\n",
    "for char in string:\n",
    "    length_count += 1\n",
    "# Display the total number of vowels in the string\n",
    "print(\"The total number of length is:\", length_count)"
   ]
  },
  {
   "cell_type": "markdown",
   "metadata": {},
   "source": [
    "9. Check if a string contains a specific word."
   ]
  },
  {
   "cell_type": "code",
   "execution_count": 6,
   "metadata": {},
   "outputs": [
    {
     "name": "stdin",
     "output_type": "stream",
     "text": [
      "Enter any string:  hello mr\n",
      "Enter the Search Word mr\n"
     ]
    },
    {
     "name": "stdout",
     "output_type": "stream",
     "text": [
      "Word is present in given input\n"
     ]
    }
   ],
   "source": [
    "# Get input string from the user\n",
    "string = input(\"Enter any string: \")\n",
    "# find word in given string using find function\n",
    "search_str = input(\"Enter the Search Word\")\n",
    "# Define the seaech fount print condition\n",
    "if search_str in string:\n",
    "        print(\"Word is present in given input\")\n",
    "else:\n",
    "        print(\"Word is present not in given input\")"
   ]
  },
  {
   "cell_type": "markdown",
   "metadata": {},
   "source": [
    "10. Replace a word in a string with another word."
   ]
  },
  {
   "cell_type": "code",
   "execution_count": 8,
   "metadata": {},
   "outputs": [
    {
     "name": "stdin",
     "output_type": "stream",
     "text": [
      "Enter any string:  PWSkills\n",
      "Enter the string for replace kill\n",
      "Enter the string for replace agingst old str tech\n"
     ]
    },
    {
     "name": "stdout",
     "output_type": "stream",
     "text": [
      "The modified str after replacement is PWStechs\n"
     ]
    }
   ],
   "source": [
    "# Get input string from the user\n",
    "input_string = input(\"Enter any string: \")\n",
    "# define old and new str in input string\n",
    "old_string = input(\"Enter the string for replace\")\n",
    "new_string = input(\"Enter the string for replace agingst old str\")\n",
    "# find word in given string using find function\n",
    "modified_str = input_string.replace(old_string,new_string)\n",
    "# Define the modified string for print\n",
    "print(\"The modified str after replacement is\" ,modified_str)\n",
    "\n"
   ]
  },
  {
   "cell_type": "markdown",
   "metadata": {},
   "source": [
    "11. Count the occurrences of a word in a string.\n",
    "    "
   ]
  },
  {
   "cell_type": "code",
   "execution_count": null,
   "metadata": {},
   "outputs": [],
   "source": []
  }
 ],
 "metadata": {
  "kernelspec": {
   "display_name": "Python 3 (ipykernel)",
   "language": "python",
   "name": "python3"
  },
  "language_info": {
   "codemirror_mode": {
    "name": "ipython",
    "version": 3
   },
   "file_extension": ".py",
   "mimetype": "text/x-python",
   "name": "python",
   "nbconvert_exporter": "python",
   "pygments_lexer": "ipython3",
   "version": "3.11.4"
  }
 },
 "nbformat": 4,
 "nbformat_minor": 4
}
