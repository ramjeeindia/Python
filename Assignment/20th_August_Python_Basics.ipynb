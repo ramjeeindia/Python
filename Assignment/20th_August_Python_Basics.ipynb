{
 "cells": [
  {
   "cell_type": "markdown",
   "metadata": {
    "id": "rJsquKkvwHx4"
   },
   "source": [
    "#String Based PracticeQuestions============================================"
   ]
  },
  {
   "cell_type": "markdown",
   "metadata": {
    "id": "j3QnDLMcwHx6"
   },
   "source": [
    "#1. Write a program to reverse a string."
   ]
  },
  {
   "cell_type": "code",
   "execution_count": null,
   "metadata": {
    "id": "iNE_8sCWwHx7",
    "outputId": "0486686e-5b4b-43f9-ad31-76f7789d80a0"
   },
   "outputs": [
    {
     "name": "stdout",
     "output_type": "stream",
     "text": [
      "Enter any String :  ramjee\n"
     ]
    },
    {
     "name": "stdout",
     "output_type": "stream",
     "text": [
      "eejmar\n"
     ]
    }
   ],
   "source": [
    "# Get Input String from user\n",
    "string = str(input(\"Enter any String : \"))\n",
    " #  define variable using slicinng method to get reverse using -1\n",
    "reverse_string = string [::-1]\n",
    " # Print reverse string\n",
    "print(reverse_string)"
   ]
  },
  {
   "cell_type": "markdown",
   "metadata": {
    "id": "UTUzDBzhwHx8"
   },
   "source": [
    "#2. Check if a string is a palindrome."
   ]
  },
  {
   "cell_type": "code",
   "execution_count": null,
   "metadata": {
    "id": "sm_YrcPxwHx8",
    "outputId": "33db5a28-f8dd-4d38-afa9-579a6b910b59"
   },
   "outputs": [
    {
     "name": "stdout",
     "output_type": "stream",
     "text": [
      "Enter any String :  ramjee\n"
     ]
    },
    {
     "name": "stdout",
     "output_type": "stream",
     "text": [
      "The given string in not palidrome\n"
     ]
    }
   ],
   "source": [
    "# Get Input String from user\n",
    "string = str(input(\"Enter any String : \"))\n",
    " # define variable using slicinng method to get reverse using -1\n",
    "reverse_string = string [::-1]\n",
    "# get output using if else method\n",
    "if string == reverse_string :\n",
    "    print(\"The given string is palindrome\")\n",
    "else:\n",
    "    print (\"The given string in not palidrome\")"
   ]
  },
  {
   "cell_type": "code",
   "execution_count": null,
   "metadata": {
    "id": "rHahTqemwHx8",
    "outputId": "2c3adcc6-dacc-435e-ff20-10935223177e"
   },
   "outputs": [
    {
     "name": "stdout",
     "output_type": "stream",
     "text": [
      "Enter any String :  noon\n"
     ]
    },
    {
     "name": "stdout",
     "output_type": "stream",
     "text": [
      "The given string is palindrome\n"
     ]
    }
   ],
   "source": [
    "# Get Input String from user\n",
    "string = str(input(\"Enter any String : \"))\n",
    " #  define variable using slicinng method to get reverse using -1\n",
    "reverse_string = string [::-1]\n",
    "# get output using if else method\n",
    "if string == reverse_string :\n",
    "    print(\"The given string is palindrome\")\n",
    "else:\n",
    "    print (\"The given string in not palidrome\")"
   ]
  },
  {
   "cell_type": "markdown",
   "metadata": {
    "id": "4dN7656-wHx9"
   },
   "source": [
    "#3. Convert a string to uppercase."
   ]
  },
  {
   "cell_type": "code",
   "execution_count": null,
   "metadata": {
    "id": "A-JvcAXkwHx9",
    "outputId": "032b086c-f4ef-43bb-b70d-3f55e061f186"
   },
   "outputs": [
    {
     "name": "stdout",
     "output_type": "stream",
     "text": [
      "Enter any String :  ramjee\n"
     ]
    },
    {
     "name": "stdout",
     "output_type": "stream",
     "text": [
      "The given string in uppercase is :  RAMJEE\n"
     ]
    }
   ],
   "source": [
    "# Get Input String from user\n",
    "string = str(input(\"Enter any String : \"))\n",
    " #  define variable and get uppercase using upper() method\n",
    "uppercase_string = string.upper()\n",
    "# print the uppercase string\n",
    "print(\"The given string in uppercase is : \", uppercase_string)"
   ]
  },
  {
   "cell_type": "markdown",
   "metadata": {
    "id": "5fDcK36twHx9"
   },
   "source": [
    "# 4. Convert a string to lowercase."
   ]
  },
  {
   "cell_type": "code",
   "execution_count": null,
   "metadata": {
    "id": "E_EqSStdwHx9",
    "outputId": "5ac6e6ec-c956-43a7-aa65-dcdc89ca2369"
   },
   "outputs": [
    {
     "name": "stdout",
     "output_type": "stream",
     "text": [
      "Enter any String :  Ramjee Singh\n"
     ]
    },
    {
     "name": "stdout",
     "output_type": "stream",
     "text": [
      "The given string in lowercase is :  ramjee singh\n"
     ]
    }
   ],
   "source": [
    "# Get Input String from user\n",
    "string = str(input(\"Enter any String : \"))\n",
    " #  define variable and get lowercase using lower() method\n",
    "uppercase_string = string.lower()\n",
    "# print the lowercase string\n",
    "print(\"The given string in lowercase is : \", uppercase_string)"
   ]
  },
  {
   "cell_type": "markdown",
   "metadata": {
    "id": "U6sUYDLZwHx9"
   },
   "source": [
    "# 5. Count the number of vowels in a string."
   ]
  },
  {
   "cell_type": "code",
   "execution_count": null,
   "metadata": {
    "id": "iPIT6u8bwHx9",
    "outputId": "69761bef-1944-4758-b4e6-564d3dd83b15"
   },
   "outputs": [
    {
     "name": "stdout",
     "output_type": "stream",
     "text": [
      "Enter any string:  Hello PWSkills\n"
     ]
    },
    {
     "name": "stdout",
     "output_type": "stream",
     "text": [
      "The total number of vowels in the string is: 3\n"
     ]
    }
   ],
   "source": [
    "# Get input string from the user\n",
    "string = input(\"Enter any string: \")\n",
    "# Initialize a variable to keep track of the vowel count\n",
    "vowel_count = 0\n",
    "# Convert input string to lowercase\n",
    "string = string.lower()\n",
    "# Iterate through the characters in the string\n",
    "for char in string:\n",
    "    if char in \"aeiou\":\n",
    "        vowel_count += 1\n",
    "# Display the total number of vowels in the string\n",
    "print(\"The total number of vowels in the string is:\", vowel_count)"
   ]
  },
  {
   "cell_type": "markdown",
   "metadata": {
    "id": "gSFFzbR9wHx-"
   },
   "source": [
    "# 6. Count the number of consonants in a string."
   ]
  },
  {
   "cell_type": "code",
   "execution_count": null,
   "metadata": {
    "id": "n2aaSKkfwHx-",
    "outputId": "99e6fb67-ed7e-4fd7-a96f-c237948c7aef"
   },
   "outputs": [
    {
     "name": "stdout",
     "output_type": "stream",
     "text": [
      "Enter any string:  Hello PWSkills\n"
     ]
    },
    {
     "name": "stdout",
     "output_type": "stream",
     "text": [
      "The total number of consonant in the string is: 10\n"
     ]
    }
   ],
   "source": [
    "# Get input string from the user\n",
    "string = input(\"Enter any string: \")\n",
    "# Initialize a variable to keep track of the vowel count\n",
    "consonant_count = 0\n",
    "# Convert input string to lowercase\n",
    "string = string.lower()\n",
    "# Iterate through the characters in the string\n",
    "for char in string:\n",
    "    if char in \"bcdfghjklmnpqrstvwxyz\":\n",
    "        consonant_count += 1\n",
    "# Display the total number of vowels in the string\n",
    "print(\"The total number of consonant in the string is:\", consonant_count)"
   ]
  },
  {
   "cell_type": "markdown",
   "metadata": {
    "id": "WjRgJTdfwHx-"
   },
   "source": [
    "# 7. Remove all whitespaces from a string."
   ]
  },
  {
   "cell_type": "code",
   "execution_count": null,
   "metadata": {
    "id": "KeMh7FtKwHx-",
    "outputId": "72aedaac-a50e-45b8-e925-0c6460b04928"
   },
   "outputs": [
    {
     "name": "stdout",
     "output_type": "stream",
     "text": [
      "Enter any string:  Hello PWSkills    how are you  ?\n"
     ]
    },
    {
     "name": "stdout",
     "output_type": "stream",
     "text": [
      "The string after removing whitespace is: HelloPWSkillshowareyou?\n"
     ]
    }
   ],
   "source": [
    "# Get input string from the user\n",
    "string = input(\"Enter any string: \")\n",
    "# replace the whitespavce using replace\n",
    "rev_whitespace = string.replace(\" \",\"\")\n",
    "\n",
    "# Display the total number of vowels in the string\n",
    "print(\"The string after removing whitespace is:\", rev_whitespace)"
   ]
  },
  {
   "cell_type": "markdown",
   "metadata": {
    "id": "C2s0rcwvwHx-"
   },
   "source": [
    "# 8. Find the length of a string without using the `len()` function."
   ]
  },
  {
   "cell_type": "code",
   "execution_count": null,
   "metadata": {
    "id": "GPIRnunZwHx-",
    "outputId": "43ad1a32-0622-4ea2-9c52-28b2140f1f31"
   },
   "outputs": [
    {
     "name": "stdout",
     "output_type": "stream",
     "text": [
      "Enter any string:  ram\n"
     ]
    },
    {
     "name": "stdout",
     "output_type": "stream",
     "text": [
      "The total number of length is: 3\n"
     ]
    }
   ],
   "source": [
    "# Get input string from the user\n",
    "string = input(\"Enter any string: \")\n",
    "# Initialize a variable to keep track of the lenth count\n",
    "length_count = 0\n",
    "# Iterate through the characters in the string\n",
    "for char in string:\n",
    "    length_count += 1\n",
    "# Display the total number of vowels in the string\n",
    "print(\"The total number of length is:\", length_count)"
   ]
  },
  {
   "cell_type": "markdown",
   "metadata": {
    "id": "gNGzqgvgwHx-"
   },
   "source": [
    "# 9. Check if a string contains a specific word."
   ]
  },
  {
   "cell_type": "code",
   "execution_count": null,
   "metadata": {
    "id": "VodIV0ZuwHx-",
    "outputId": "66a96f61-89b1-4fd4-a303-ec3b2c7cfd96"
   },
   "outputs": [
    {
     "name": "stdout",
     "output_type": "stream",
     "text": [
      "Enter any string:  hello mr\n",
      "Enter the Search Word mr\n"
     ]
    },
    {
     "name": "stdout",
     "output_type": "stream",
     "text": [
      "Word is present in given input\n"
     ]
    }
   ],
   "source": [
    "# Get input string from the user\n",
    "string = input(\"Enter any string: \")\n",
    "# find word in given string using find function\n",
    "search_str = input(\"Enter the Search Word\")\n",
    "# Define the seaech fount print condition\n",
    "if search_str in string:\n",
    "        print(\"Word is present in given input\")\n",
    "else:\n",
    "        print(\"Word is present not in given input\")"
   ]
  },
  {
   "cell_type": "markdown",
   "metadata": {
    "id": "vg0N8RM7wHx_"
   },
   "source": [
    "# 10. Replace a word in a string with another word."
   ]
  },
  {
   "cell_type": "code",
   "execution_count": null,
   "metadata": {
    "id": "E4Ygj7lOwHx_",
    "outputId": "d5de1815-e26f-4c68-cf5e-549c394b2d82"
   },
   "outputs": [
    {
     "name": "stdout",
     "output_type": "stream",
     "text": [
      "Enter any string:  PWSkills\n",
      "Enter the string for replace kill\n",
      "Enter the string for replace agingst old str tech\n"
     ]
    },
    {
     "name": "stdout",
     "output_type": "stream",
     "text": [
      "The modified str after replacement is PWStechs\n"
     ]
    }
   ],
   "source": [
    "# Get input string from the user\n",
    "input_string = input(\"Enter any string: \")\n",
    "# define old and new str in input string\n",
    "old_string = input(\"Enter the string for replace\")\n",
    "new_string = input(\"Enter the string for replace agingst old str\")\n",
    "# find word in given string using find function\n",
    "modified_str = input_string.replace(old_string,new_string)\n",
    "# Define the modified string for print\n",
    "print(\"The modified str after replacement is\" ,modified_str)"
   ]
  },
  {
   "cell_type": "markdown",
   "metadata": {
    "id": "7n7hlLtWwHx_"
   },
   "source": [
    "# 11. Count the occurrences of a word in a string.\n",
    "    "
   ]
  },
  {
   "cell_type": "code",
   "execution_count": null,
   "metadata": {
    "colab": {
     "base_uri": "https://localhost:8080/"
    },
    "id": "Fx8EEuAnzQUC",
    "outputId": "8413b8ae-824e-49f5-a8f5-9a7a73a3e4ae"
   },
   "outputs": [
    {
     "name": "stdout",
     "output_type": "stream",
     "text": [
      "Enter a sentence for word cound: This is an example sentence. This sentence contains the word example\n",
      "Enter the word to count: sentence\n",
      "The word 'sentence' appears 2 times in the string.\n"
     ]
    }
   ],
   "source": [
    "# Input: Get a string from the user\n",
    "input_sentence = input(\"Enter a sentence for word cound: \")\n",
    "\n",
    "# Input: Get the word to count from the user\n",
    "word_to_count = input(\"Enter the word to count: \")\n",
    "\n",
    "# Convert all string to lowercase\n",
    "input_sentence = input_sentence.lower()\n",
    "word_to_count = word_to_count.lower()\n",
    "\n",
    "# Count the occurrences of the word in string\n",
    "count = input_sentence.count(word_to_count)\n",
    "\n",
    "# Display the count\n",
    "print(f\"The word '{word_to_count}' appears {count} times in the string.\")"
   ]
  },
  {
   "cell_type": "markdown",
   "metadata": {
    "id": "ppUYmVtd8Wmx"
   },
   "source": [
    "# 12. Find the first occurrence of a word in a string.**"
   ]
  },
  {
   "cell_type": "code",
   "execution_count": null,
   "metadata": {
    "colab": {
     "base_uri": "https://localhost:8080/"
    },
    "id": "wgJC92AN8YrH",
    "outputId": "ff8328f7-7ae3-451b-9f40-61390e4fdc69"
   },
   "outputs": [
    {
     "name": "stdout",
     "output_type": "stream",
     "text": [
      "Index of the first occurrence: 11\n"
     ]
    }
   ],
   "source": [
    "def find_first_occurrence(text, word):\n",
    "    #Find the index of the first occurrence of the word in the text.\n",
    "    index = text.find(word)\n",
    "\n",
    "    # Check if the index is -1, indicating that the word was not found.\n",
    "    if index == -1:\n",
    "        return None  # Return None if the word is not found.\n",
    "\n",
    "    # Return the index of the first occurrence of the word.\n",
    "    return index\n",
    "\n",
    "# Example usage\n",
    "text = \"This is an example sentence. This sentence contains the word example.\"\n",
    "word = \"example\"\n",
    "result = find_first_occurrence(text, word)\n",
    "print(\"Index of the first occurrence:\", result)"
   ]
  },
  {
   "cell_type": "markdown",
   "metadata": {
    "id": "VGPIIb7jAmBb"
   },
   "source": [
    "# 13. Find the last occurrence of a word in a string."
   ]
  },
  {
   "cell_type": "code",
   "execution_count": null,
   "metadata": {
    "colab": {
     "base_uri": "https://localhost:8080/"
    },
    "id": "q8San0GE8Z1R",
    "outputId": "1559318d-5bce-4ce2-bc60-96efa93c31fe"
   },
   "outputs": [
    {
     "name": "stdout",
     "output_type": "stream",
     "text": [
      "Index of the last occurrence: 66\n"
     ]
    }
   ],
   "source": [
    "def find_last_occurrence(text, word):\n",
    "    # Find the index of the last occurrence of the word in the text.\n",
    "    index = text.rfind(word)\n",
    "\n",
    "    # Check if the index is -1, indicating that the word was not found.\n",
    "    if index == -1:\n",
    "        return None  # Return None if the word is not found.\n",
    "\n",
    "    # Return the index of the last occurrence of the word.\n",
    "    return index\n",
    "\n",
    "# Example usage\n",
    "text = \"This is an example sentence. This sentence also contains the word example.\"\n",
    "word = \"example\"\n",
    "result = find_last_occurrence(text, word)\n",
    "print(\"Index of the last occurrence:\", result)"
   ]
  },
  {
   "cell_type": "markdown",
   "metadata": {
    "id": "Qm19WowSA39b"
   },
   "source": [
    "# 14. Split a string into a list of words.\n"
   ]
  },
  {
   "cell_type": "code",
   "execution_count": null,
   "metadata": {
    "colab": {
     "base_uri": "https://localhost:8080/"
    },
    "id": "TSbPoNP5A9Ed",
    "outputId": "6e50032e-9e48-4286-97c9-731efdcb18f7"
   },
   "outputs": [
    {
     "name": "stdout",
     "output_type": "stream",
     "text": [
      "Enter a string: This is Python Class\n",
      "List of words: ['This', 'is', 'Python', 'Class']\n"
     ]
    }
   ],
   "source": [
    "def split_string(input_string):\n",
    "    return input_string.split()\n",
    "\n",
    "input_str = input(\"Enter a string: \")\n",
    "\n",
    "word_list = split_string(input_str)\n",
    "\n",
    "print(\"List of words:\", word_list)\n"
   ]
  },
  {
   "cell_type": "markdown",
   "metadata": {
    "id": "D9ZfKxkyyKGV"
   },
   "source": [
    "# 15. Join a list of words into a string."
   ]
  },
  {
   "cell_type": "code",
   "execution_count": null,
   "metadata": {
    "colab": {
     "base_uri": "https://localhost:8080/"
    },
    "id": "zyZcOLW2xZcZ",
    "outputId": "92cead20-8c6b-4d7a-cfba-0dfc595e93ec"
   },
   "outputs": [
    {
     "name": "stdout",
     "output_type": "stream",
     "text": [
      "output:  Python is a fun programming language\n"
     ]
    }
   ],
   "source": [
    "text = ['Python', 'is', 'a', 'fun', 'programming', 'language']\n",
    "\n",
    "# join with space\n",
    "print('output: ',' '.join(text))"
   ]
  },
  {
   "cell_type": "markdown",
   "metadata": {
    "id": "HZOWBpZW3SOQ"
   },
   "source": [
    "# 16. Convert a string where words are separated by spaces to one where words are separated by underscores.\n"
   ]
  },
  {
   "cell_type": "code",
   "execution_count": null,
   "metadata": {
    "colab": {
     "base_uri": "https://localhost:8080/"
    },
    "id": "0H0m6W-9yc7i",
    "outputId": "d7a6af5b-11c8-4103-8e68-3d2c88048d68"
   },
   "outputs": [
    {
     "name": "stdout",
     "output_type": "stream",
     "text": [
      "Enter a string with spaces: Python is a fun programming language\n",
      "String with underscores: Python_is_a_fun_programming_language\n"
     ]
    }
   ],
   "source": [
    "def convert_spaces_to_underscores(input_string):\n",
    "    return input_string.replace(\" \", \"_\")\n",
    "\n",
    "input_str = input(\"Enter a string with spaces: \")\n",
    "\n",
    "underscored_string = convert_spaces_to_underscores(input_str)\n",
    "\n",
    "print(\"String with underscores:\", underscored_string)\n",
    "\n"
   ]
  },
  {
   "cell_type": "markdown",
   "metadata": {
    "id": "gbmIEPWp3sur"
   },
   "source": [
    "# 17. Check if a string starts with a specific word or phrase."
   ]
  },
  {
   "cell_type": "code",
   "execution_count": null,
   "metadata": {
    "colab": {
     "base_uri": "https://localhost:8080/"
    },
    "id": "9CbCkM-h3kvX",
    "outputId": "72bb96f5-3be9-415c-9649-c6879559596d"
   },
   "outputs": [
    {
     "name": "stdout",
     "output_type": "stream",
     "text": [
      "Enter a string: Check if a string starts with a specific word or phrase.\n",
      "Enter the prefix to check for: Check\n",
      "The string starts with the prefix.\n"
     ]
    }
   ],
   "source": [
    "def starts_with(input_string, prefix):\n",
    "    return input_string.startswith(prefix)\n",
    "\n",
    "input_str = input(\"Enter a string: \")\n",
    "\n",
    "prefix = input(\"Enter the prefix to check for: \")\n",
    "\n",
    "if starts_with(input_str, prefix):\n",
    "    print(\"The string starts with the prefix.\")\n",
    "else:\n",
    "    print(\"The string does not start with the prefix.\")"
   ]
  },
  {
   "cell_type": "markdown",
   "metadata": {
    "id": "j-v2O7xF4O_p"
   },
   "source": [
    "# 18. Check if a string ends with a specific word or phrase."
   ]
  },
  {
   "cell_type": "code",
   "execution_count": null,
   "metadata": {
    "colab": {
     "base_uri": "https://localhost:8080/"
    },
    "id": "Z6_0cteV4In5",
    "outputId": "7332d841-3763-47f9-904c-1b56a483f4bf"
   },
   "outputs": [
    {
     "name": "stdout",
     "output_type": "stream",
     "text": [
      "Enter a string: Check if a string ends with a specific word or phrase.\n",
      "Enter the suffix to check for: word\n",
      "The string does not end with the suffix.\n"
     ]
    }
   ],
   "source": [
    "def ends_with(input_string, suffix):\n",
    "    return input_string.endswith(suffix)\n",
    "\n",
    "input_str = input(\"Enter a string: \")\n",
    "\n",
    "suffix = input(\"Enter the suffix to check for: \")\n",
    "\n",
    "if ends_with(input_str, suffix):\n",
    "    print(\"The string ends with the suffix.\")\n",
    "else:\n",
    "    print(\"The string does not end with the suffix.\")\n"
   ]
  },
  {
   "cell_type": "markdown",
   "metadata": {
    "id": "9RL0rMnN40qg"
   },
   "source": [
    "# 19. Convert a string to title case (e.g., \"hello world\" to \"Hello World\").\n"
   ]
  },
  {
   "cell_type": "code",
   "execution_count": null,
   "metadata": {
    "colab": {
     "base_uri": "https://localhost:8080/"
    },
    "id": "F7fAeTYS6_UN",
    "outputId": "40771a77-0a27-4b94-af6d-a70e14fb6a38"
   },
   "outputs": [
    {
     "name": "stdout",
     "output_type": "stream",
     "text": [
      "Enter a string: My name is khan\n",
      "Title case string: My Name Is Khan\n"
     ]
    }
   ],
   "source": [
    "input_str = input(\"Enter a string: \")\n",
    "\n",
    "title_case_str = input_str.title()\n",
    "\n",
    "print(\"Title case string:\", title_case_str)"
   ]
  },
  {
   "cell_type": "markdown",
   "metadata": {
    "id": "7vgLlZtQ5BVv"
   },
   "source": [
    "# 20. Find the longest word in a string."
   ]
  },
  {
   "cell_type": "code",
   "execution_count": null,
   "metadata": {
    "colab": {
     "base_uri": "https://localhost:8080/"
    },
    "id": "o5LXnZnR7h3Y",
    "outputId": "bd481bac-ef14-4c2c-ab93-cec8fbce4810"
   },
   "outputs": [
    {
     "name": "stdout",
     "output_type": "stream",
     "text": [
      "Enter a string: Find the longest word in a string.\n",
      "Longest word: longest\n"
     ]
    }
   ],
   "source": [
    "def find_longest_word(input_string):\n",
    "    words = input_string.split()\n",
    "    return max(words, key=len)\n",
    "\n",
    "input_str = input(\"Enter a string: \")\n",
    "\n",
    "longest_word = find_longest_word(input_str)\n",
    "\n",
    "print(\"Longest word:\", longest_word)\n"
   ]
  },
  {
   "cell_type": "markdown",
   "metadata": {
    "id": "ux2pGtsb5JxI"
   },
   "source": [
    "# 21. Find the shortest word in a string."
   ]
  },
  {
   "cell_type": "code",
   "execution_count": null,
   "metadata": {
    "colab": {
     "base_uri": "https://localhost:8080/"
    },
    "id": "gIfE9rIE4hKN",
    "outputId": "3cbb6325-45f0-4408-94a2-f0e992592a5e"
   },
   "outputs": [
    {
     "name": "stdout",
     "output_type": "stream",
     "text": [
      "Enter a string: Find the shortest word in a string\n",
      "Shortest word: a\n"
     ]
    }
   ],
   "source": [
    "def find_shortest_word(input_string):\n",
    "    words = input_string.split()\n",
    "    return min(words, key=len)\n",
    "\n",
    "input_str = input(\"Enter a string: \")\n",
    "\n",
    "shortest_word = find_shortest_word(input_str)\n",
    "\n",
    "print(\"Shortest word:\", shortest_word)"
   ]
  },
  {
   "cell_type": "markdown",
   "metadata": {
    "id": "_64frWnx80cQ"
   },
   "source": [
    "#22. Reverse the order of words in a string."
   ]
  },
  {
   "cell_type": "code",
   "execution_count": null,
   "metadata": {
    "colab": {
     "base_uri": "https://localhost:8080/"
    },
    "id": "1YkQ87Og84NY",
    "outputId": "d87d8317-14ca-4ca3-e2e4-05e15cea1d94"
   },
   "outputs": [
    {
     "name": "stdout",
     "output_type": "stream",
     "text": [
      "Enter a string: Ram is reading Python\n",
      "String with reversed word order: Python reading is Ram\n"
     ]
    }
   ],
   "source": [
    "def reverse_words_order(input_string):\n",
    "    words = input_string.split()\n",
    "    reversed_words = ' '.join(reversed(words))\n",
    "    return reversed_words\n",
    "\n",
    "input_str = input(\"Enter a string: \")\n",
    "\n",
    "reversed_words_str = reverse_words_order(input_str)\n",
    "\n",
    "print(\"String with reversed word order:\", reversed_words_str)"
   ]
  },
  {
   "cell_type": "markdown",
   "metadata": {
    "id": "JXM6dzBW9CxH"
   },
   "source": [
    "#23. Check if a string is alphanumeric."
   ]
  },
  {
   "cell_type": "code",
   "execution_count": null,
   "metadata": {
    "colab": {
     "base_uri": "https://localhost:8080/"
    },
    "id": "gFefs06988nv",
    "outputId": "70ebab0d-574c-479c-a9fd-a0550d3075de"
   },
   "outputs": [
    {
     "name": "stdout",
     "output_type": "stream",
     "text": [
      "Enter a string: Chachi420\n",
      "The string is alphanumeric.\n"
     ]
    }
   ],
   "source": [
    "input_str = input(\"Enter a string: \")\n",
    "\n",
    "if input_str.isalnum():\n",
    "    print(\"The string is alphanumeric.\")\n",
    "else:\n",
    "    print(\"The string is not alphanumeric.\")"
   ]
  },
  {
   "cell_type": "markdown",
   "metadata": {
    "id": "zyL4FklC9Zdj"
   },
   "source": [
    "#24. Extract all digits from a string."
   ]
  },
  {
   "cell_type": "code",
   "execution_count": null,
   "metadata": {
    "colab": {
     "base_uri": "https://localhost:8080/"
    },
    "id": "_hhacw2B9QXn",
    "outputId": "5813a7dc-2ebc-4adc-a069-0f9bd059d4b9"
   },
   "outputs": [
    {
     "name": "stdout",
     "output_type": "stream",
     "text": [
      "Enter a string: freedom1947\n",
      "Extracted digits: 1947\n"
     ]
    }
   ],
   "source": [
    "def extract_digits(input_string):\n",
    "    digits = ''.join(char for char in input_string if char.isdigit())\n",
    "    return digits\n",
    "\n",
    "input_str = input(\"Enter a string: \")\n",
    "\n",
    "digits = extract_digits(input_str)\n",
    "\n",
    "print(\"Extracted digits:\", digits)\n"
   ]
  },
  {
   "cell_type": "markdown",
   "metadata": {
    "id": "nzFLRy-8EEKH"
   },
   "source": [
    "#25. Extract all alphabets from a string."
   ]
  },
  {
   "cell_type": "code",
   "execution_count": null,
   "metadata": {
    "colab": {
     "base_uri": "https://localhost:8080/"
    },
    "id": "sHRUUaAwFRa_",
    "outputId": "e4e1f6f9-41d0-47af-c276-af2d09a98ce3"
   },
   "outputs": [
    {
     "name": "stdout",
     "output_type": "stream",
     "text": [
      "Enter a string: freedom1947\n",
      "Extracted alphabets: freedom\n"
     ]
    }
   ],
   "source": [
    "def extract_alphabets(input_string):\n",
    "    alphabets = ''.join(char for char in input_string if char.isalpha())\n",
    "    return alphabets\n",
    "\n",
    "input_str = input(\"Enter a string: \")\n",
    "\n",
    "alphabets = extract_alphabets(input_str)\n",
    "\n",
    "print(\"Extracted alphabets:\", alphabets)"
   ]
  },
  {
   "cell_type": "markdown",
   "metadata": {
    "id": "hOR0tf24Fdbv"
   },
   "source": [
    "# 26. Count the number of uppercase letters in a string."
   ]
  },
  {
   "cell_type": "code",
   "execution_count": null,
   "metadata": {
    "colab": {
     "base_uri": "https://localhost:8080/"
    },
    "id": "Hpp9jDlPFMJu",
    "outputId": "38f93cd9-f532-41eb-e330-e91585107533"
   },
   "outputs": [
    {
     "name": "stdout",
     "output_type": "stream",
     "text": [
      "Enter a string: Hello Ram\n",
      "Number of uppercase letters: 2\n"
     ]
    }
   ],
   "source": [
    "def count_uppercase(input_string):\n",
    "    uppercase_count = sum(1 for char in input_string if char.isupper())\n",
    "    return uppercase_count\n",
    "\n",
    "input_str = input(\"Enter a string: \")\n",
    "\n",
    "uppercase_count = count_uppercase(input_str)\n",
    "\n",
    "print(\"Number of uppercase letters:\", uppercase_count)\n"
   ]
  },
  {
   "cell_type": "markdown",
   "metadata": {
    "id": "8UAWqp8XFfuX"
   },
   "source": [
    "# 27. Count the number of lowercase letters in a string."
   ]
  },
  {
   "cell_type": "code",
   "execution_count": null,
   "metadata": {
    "colab": {
     "base_uri": "https://localhost:8080/"
    },
    "id": "7Glt6mFXGpR-",
    "outputId": "9004d6ba-539a-4264-c5f5-ed352371ba17"
   },
   "outputs": [
    {
     "name": "stdout",
     "output_type": "stream",
     "text": [
      "Enter a string: Hello World\n",
      "Number of lowercase letters: 8\n"
     ]
    }
   ],
   "source": [
    "def count_lowercase(input_string):\n",
    "    lowercase_count = sum(1 for char in input_string if char.islower())\n",
    "    return lowercase_count\n",
    "\n",
    "input_str = input(\"Enter a string: \")\n",
    "\n",
    "lowercase_count = count_lowercase(input_str)\n",
    "\n",
    "print(\"Number of lowercase letters:\", lowercase_count)"
   ]
  },
  {
   "cell_type": "markdown",
   "metadata": {
    "id": "8ue9TpQ0FjKJ"
   },
   "source": [
    "# 28. Swap the case of each character in a string."
   ]
  },
  {
   "cell_type": "code",
   "execution_count": null,
   "metadata": {
    "colab": {
     "base_uri": "https://localhost:8080/"
    },
    "id": "-uhrsHaIGqfv",
    "outputId": "831fb988-a4af-47b1-a788-f4ae39d56a5d"
   },
   "outputs": [
    {
     "name": "stdout",
     "output_type": "stream",
     "text": [
      "Enter a string: Python\n",
      "String with swapped case: pYTHON\n"
     ]
    }
   ],
   "source": [
    "input_str = input(\"Enter a string: \")\n",
    "\n",
    "swapped_str = input_str.swapcase()\n",
    "\n",
    "print(\"String with swapped case:\", swapped_str)"
   ]
  },
  {
   "cell_type": "markdown",
   "metadata": {
    "id": "yyxBOJ1HFrBv"
   },
   "source": [
    "# 29. Remove a specific word from a string."
   ]
  },
  {
   "cell_type": "code",
   "execution_count": null,
   "metadata": {
    "colab": {
     "base_uri": "https://localhost:8080/"
    },
    "id": "6AbZsJAQGtw-",
    "outputId": "75facfd2-f872-4412-d997-a2352338a5f9"
   },
   "outputs": [
    {
     "name": "stdout",
     "output_type": "stream",
     "text": [
      "Enter a string: This is my style\n",
      "Enter the word to remove: my\n",
      "Modified string: This is  style\n"
     ]
    }
   ],
   "source": [
    "def remove_word(input_string, word_to_remove):\n",
    "    modified_string = input_string.replace(word_to_remove, \"\")\n",
    "    return modified_string\n",
    "\n",
    "input_str = input(\"Enter a string: \")\n",
    "\n",
    "word_to_remove = input(\"Enter the word to remove: \")\n",
    "\n",
    "modified_str = remove_word(input_str, word_to_remove)\n",
    "\n",
    "print(\"Modified string:\", modified_str)"
   ]
  },
  {
   "cell_type": "markdown",
   "metadata": {
    "id": "LCDGRs4-Fq-X"
   },
   "source": [
    "# 30. Check if a string is a valid email address."
   ]
  },
  {
   "cell_type": "code",
   "execution_count": null,
   "metadata": {
    "colab": {
     "base_uri": "https://localhost:8080/"
    },
    "id": "Mmk4WpvxJBNf",
    "outputId": "d2df45f5-e87d-48f4-f8f3-6c33301c4870"
   },
   "outputs": [
    {
     "name": "stdout",
     "output_type": "stream",
     "text": [
      "True\n"
     ]
    }
   ],
   "source": [
    "import re  # Import the regular expression module\n",
    "\n",
    "def solve(s):\n",
    "   pat = \"^[a-zA-Z0-9-_]+@[a-zA-Z0-9]+\\.[a-z]{1,3}$\"\n",
    "   if re.match(pat,s):\n",
    "      return True\n",
    "   return False\n",
    "\n",
    "s = \"popular_website15@comPany.com\"\n",
    "print(solve(s))"
   ]
  },
  {
   "cell_type": "markdown",
   "metadata": {
    "id": "40SjwXBPFq7W"
   },
   "source": [
    "# 31. Extract the username from an email address string."
   ]
  },
  {
   "cell_type": "code",
   "execution_count": null,
   "metadata": {
    "colab": {
     "base_uri": "https://localhost:8080/"
    },
    "id": "XHPcSSVhGvN4",
    "outputId": "c9bcfbb7-9257-4f7a-9c14-d4eac31e0d9a"
   },
   "outputs": [
    {
     "name": "stdout",
     "output_type": "stream",
     "text": [
      "Enter an email address: ramjee.india@gmail.com\n",
      "Username: ramjee.india\n"
     ]
    }
   ],
   "source": [
    "def extract_username(email):\n",
    "    return email.split('@')[0]\n",
    "\n",
    "email_address = input(\"Enter an email address: \")\n",
    "\n",
    "username = extract_username(email_address)\n",
    "\n",
    "print(\"Username:\", username)"
   ]
  },
  {
   "cell_type": "markdown",
   "metadata": {
    "id": "rzWLMCYoFqxp"
   },
   "source": [
    "# 32. Extract the domain name from an email address string."
   ]
  },
  {
   "cell_type": "code",
   "execution_count": null,
   "metadata": {
    "colab": {
     "base_uri": "https://localhost:8080/"
    },
    "id": "_Jk-P0BWGwFO",
    "outputId": "27e15e53-fe96-4590-ecc6-d2ffd570b1bf"
   },
   "outputs": [
    {
     "name": "stdout",
     "output_type": "stream",
     "text": [
      "Enter an email address: ramjee.india@gmail.com\n",
      "Domain: gmail.com\n"
     ]
    }
   ],
   "source": [
    "def extract_domain(email):\n",
    "    return email.split('@')[1]\n",
    "\n",
    "email_address = input(\"Enter an email address: \")\n",
    "\n",
    "domain = extract_domain(email_address)\n",
    "\n",
    "print(\"Domain:\", domain)"
   ]
  },
  {
   "cell_type": "markdown",
   "metadata": {
    "id": "4RI1pg35FquG"
   },
   "source": [
    "# 33. Replace multiple spaces in a string with a single space."
   ]
  },
  {
   "cell_type": "code",
   "execution_count": null,
   "metadata": {
    "colab": {
     "base_uri": "https://localhost:8080/"
    },
    "id": "I0w_SoMtGxM_",
    "outputId": "b70a3e9b-da2a-47d8-fb63-560fb701a8e9"
   },
   "outputs": [
    {
     "name": "stdout",
     "output_type": "stream",
     "text": [
      "Enter a string: Python is no 1 rog lang   check\n",
      "Modified string: Python is no 1 rog lang check\n"
     ]
    }
   ],
   "source": [
    "def replace_multiple_spaces(input_string):\n",
    "    return ' '.join(input_string.split())\n",
    "\n",
    "input_str = input(\"Enter a string: \")\n",
    "\n",
    "modified_str = replace_multiple_spaces(input_str)\n",
    "\n",
    "print(\"Modified string:\", modified_str)\n"
   ]
  },
  {
   "cell_type": "markdown",
   "metadata": {
    "id": "36aQX_npFqrX"
   },
   "source": [
    "# 34. Check if a string is a valid URL."
   ]
  },
  {
   "cell_type": "code",
   "execution_count": null,
   "metadata": {
    "colab": {
     "base_uri": "https://localhost:8080/"
    },
    "id": "RFSXaYfMGzm9",
    "outputId": "eac48eee-d0a1-4d30-9e7c-9368d4ccc2a6"
   },
   "outputs": [
    {
     "name": "stdout",
     "output_type": "stream",
     "text": [
      "Enter a URL: www.google.com\n",
      "The URL is valid.\n"
     ]
    }
   ],
   "source": [
    "import re\n",
    "\n",
    "def is_valid_url(url):\n",
    "    return re.match(r'^(https?://)?(www\\.)?\\w+\\.\\w+$', url)\n",
    "\n",
    "url = input(\"Enter a URL: \")\n",
    "\n",
    "if is_valid_url(url):\n",
    "    print(\"The URL is valid.\")\n",
    "else:\n",
    "    print(\"The URL is not valid.\")"
   ]
  },
  {
   "cell_type": "markdown",
   "metadata": {
    "id": "x25oUCaiFqow"
   },
   "source": [
    "# 35. Extract the protocol (http or https) from a URL string."
   ]
  },
  {
   "cell_type": "code",
   "execution_count": null,
   "metadata": {
    "colab": {
     "base_uri": "https://localhost:8080/"
    },
    "id": "ULyjzfkzG0FP",
    "outputId": "a4c886bd-d039-438f-9dfa-994a39c8a9ab"
   },
   "outputs": [
    {
     "name": "stdout",
     "output_type": "stream",
     "text": [
      "Enter a URL: https://services.gst.gov.in/services/searchtp\n",
      "Protocol: https\n"
     ]
    }
   ],
   "source": [
    "def extract_protocol(url):\n",
    "    if url.startswith(\"https\"):\n",
    "        return \"https\"\n",
    "    elif url.startswith(\"http\"):\n",
    "        return \"http\"\n",
    "    else:\n",
    "        return None\n",
    "url = input(\"Enter a URL: \")\n",
    "\n",
    "protocol = extract_protocol(url)\n",
    "\n",
    "if protocol:\n",
    "    print(\"Protocol:\", protocol)\n",
    "else:\n",
    "    print(\"Protocol not found.\")"
   ]
  },
  {
   "cell_type": "markdown",
   "metadata": {
    "id": "YxtSKrpXFql-"
   },
   "source": [
    "# 36. Find the frequency of each character in a string."
   ]
  },
  {
   "cell_type": "code",
   "execution_count": null,
   "metadata": {
    "colab": {
     "base_uri": "https://localhost:8080/"
    },
    "id": "z52MfweIG0rf",
    "outputId": "8b3eee34-628c-4e54-9e84-051b22b8969c"
   },
   "outputs": [
    {
     "name": "stdout",
     "output_type": "stream",
     "text": [
      "Enter a string: Python is a high-level, general-purpose programming language.\n",
      "'P': 1\n",
      "'y': 1\n",
      "'t': 1\n",
      "'h': 3\n",
      "'o': 3\n",
      "'n': 4\n",
      "' ': 6\n",
      "'i': 3\n",
      "'s': 2\n",
      "'a': 5\n",
      "'g': 6\n",
      "'-': 2\n",
      "'l': 4\n",
      "'e': 6\n",
      "'v': 1\n",
      "',': 1\n",
      "'r': 4\n",
      "'p': 3\n",
      "'u': 2\n",
      "'m': 2\n",
      "'.': 1\n"
     ]
    }
   ],
   "source": [
    "from collections import Counter\n",
    "\n",
    "input_str = input(\"Enter a string: \")\n",
    "\n",
    "char_frequency = Counter(input_str)\n",
    "\n",
    "for char, freq in char_frequency.items():\n",
    "    print(f\"'{char}': {freq}\")\n",
    "\n"
   ]
  },
  {
   "cell_type": "markdown",
   "metadata": {
    "id": "CHxHQ3OLFqjV"
   },
   "source": [
    "# 37. Remove all punctuation from a string."
   ]
  },
  {
   "cell_type": "code",
   "execution_count": null,
   "metadata": {
    "colab": {
     "base_uri": "https://localhost:8080/"
    },
    "id": "jgq6lrxtG2Ep",
    "outputId": "a5e503ec-de6c-480e-f40e-1ebc2baffbc2"
   },
   "outputs": [
    {
     "name": "stdout",
     "output_type": "stream",
     "text": [
      "Enter a string: Python is a high-level, general-purpose programming language. \n",
      "String without punctuation: Python is a highlevel generalpurpose programming language \n"
     ]
    }
   ],
   "source": [
    "import string\n",
    "\n",
    "def remove_punctuation(input_string):\n",
    "    translator = str.maketrans('', '', string.punctuation)\n",
    "    return input_string.translate(translator)\n",
    "\n",
    "input_str = input(\"Enter a string: \")\n",
    "\n",
    "cleaned_str = remove_punctuation(input_str)\n",
    "\n",
    "print(\"String without punctuation:\", cleaned_str)"
   ]
  },
  {
   "cell_type": "markdown",
   "metadata": {
    "id": "Kmrw_eZRFqgO"
   },
   "source": [
    "# 38. Check if a string contains only digits."
   ]
  },
  {
   "cell_type": "code",
   "execution_count": null,
   "metadata": {
    "colab": {
     "base_uri": "https://localhost:8080/"
    },
    "id": "aL7sL0VPG5Fe",
    "outputId": "c3719288-d304-4070-c691-ed12189bfd3a"
   },
   "outputs": [
    {
     "name": "stdout",
     "output_type": "stream",
     "text": [
      "Enter a string: 9660487879\n",
      "The string contains only digits.\n"
     ]
    }
   ],
   "source": [
    "input_str = input(\"Enter a string: \")\n",
    "\n",
    "if input_str.isdigit():\n",
    "    print(\"The string contains only digits.\")\n",
    "else:\n",
    "    print(\"The string does not contain only digits.\")"
   ]
  },
  {
   "cell_type": "markdown",
   "metadata": {
    "id": "x1ZTSpF9Fqc_"
   },
   "source": [
    "\n",
    "# 39. Check if a string contains only alphabets."
   ]
  },
  {
   "cell_type": "code",
   "execution_count": null,
   "metadata": {
    "colab": {
     "base_uri": "https://localhost:8080/"
    },
    "id": "ePe-JpjgG5j2",
    "outputId": "7682107e-e4ba-431c-9c96-74604ec0cee6"
   },
   "outputs": [
    {
     "name": "stdout",
     "output_type": "stream",
     "text": [
      "Enter a string: Indian\n",
      "The string contains only alphabets.\n"
     ]
    }
   ],
   "source": [
    "input_str = input(\"Enter a string: \")\n",
    "\n",
    "if input_str.isalpha():\n",
    "    print(\"The string contains only alphabets.\")\n",
    "else:\n",
    "    print(\"The string does not contain only alphabets.\")\n"
   ]
  },
  {
   "cell_type": "markdown",
   "metadata": {
    "id": "8TU8ZTJUFqaY"
   },
   "source": [
    "# 40. Convert a string to a list of characters."
   ]
  },
  {
   "cell_type": "code",
   "execution_count": null,
   "metadata": {
    "colab": {
     "base_uri": "https://localhost:8080/"
    },
    "id": "qGm9zKYpG7BV",
    "outputId": "12130e99-5f89-480f-8d36-db4824b863e1"
   },
   "outputs": [
    {
     "name": "stdout",
     "output_type": "stream",
     "text": [
      "Enter a string: PWSkills\n",
      "List of characters: ['P', 'W', 'S', 'k', 'i', 'l', 'l', 's']\n"
     ]
    }
   ],
   "source": [
    "input_str = input(\"Enter a string: \")\n",
    "\n",
    "char_list = list(input_str)\n",
    "\n",
    "print(\"List of characters:\", char_list)\n",
    "\n"
   ]
  },
  {
   "cell_type": "markdown",
   "metadata": {
    "id": "d1zC_w-SFqXV"
   },
   "source": [
    "# 41. Check if two strings are anagrams."
   ]
  },
  {
   "cell_type": "code",
   "execution_count": null,
   "metadata": {
    "colab": {
     "base_uri": "https://localhost:8080/"
    },
    "id": "XS8egbYSG74S",
    "outputId": "be80aa5a-4681-4377-8a02-7537fa307d7c"
   },
   "outputs": [
    {
     "name": "stdout",
     "output_type": "stream",
     "text": [
      "The strings are anagrams.\n"
     ]
    }
   ],
   "source": [
    "def check(s11, s22):\n",
    "\n",
    "\t# the sorted strings are checked\n",
    "\tif(sorted(s11) == sorted(s22)):\n",
    "\t\tprint(\"The strings are anagrams.\")\n",
    "\telse:\n",
    "\t\tprint(\"The strings aren't anagrams.\")\n",
    "\n",
    "# driver code\n",
    "s11 =\"listen\"\n",
    "s22 =\"silent\"\n",
    "check(s11, s22)"
   ]
  },
  {
   "cell_type": "markdown",
   "metadata": {
    "id": "BVH97gTgFqUe"
   },
   "source": [
    "\n",
    "# 42. Encode a string using a Caesar cipher."
   ]
  },
  {
   "cell_type": "code",
   "execution_count": null,
   "metadata": {
    "colab": {
     "base_uri": "https://localhost:8080/"
    },
    "id": "CcDa5J6iG9cl",
    "outputId": "80929888-d00c-40d6-c82f-d93d27744eb8"
   },
   "outputs": [
    {
     "name": "stdout",
     "output_type": "stream",
     "text": [
      "Plain Text is : HELLO EVERYONE\n",
      "Shift pattern is : 1\n",
      "Cipher Text is : IFMMP FWFSZPOF\n"
     ]
    }
   ],
   "source": [
    "def encrypt_text(plaintext,n):\n",
    "    ans = \"\"\n",
    "    # iterate over the given text\n",
    "    for i in range(len(plaintext)):\n",
    "        ch = plaintext[i]\n",
    "\n",
    "        # check if space is there then simply add space\n",
    "        if ch==\" \":\n",
    "            ans+=\" \"\n",
    "        # check if a character is uppercase then encrypt it accordingly\n",
    "        elif (ch.isupper()):\n",
    "            ans += chr((ord(ch) + n-65) % 26 + 65)\n",
    "        # check if a character is lowercase then encrypt it accordingly\n",
    "\n",
    "        else:\n",
    "            ans += chr((ord(ch) + n-97) % 26 + 97)\n",
    "\n",
    "    return ans\n",
    "\n",
    "plaintext = \"HELLO EVERYONE\"\n",
    "n = 1\n",
    "print(\"Plain Text is : \" + plaintext)\n",
    "print(\"Shift pattern is : \" + str(n))\n",
    "print(\"Cipher Text is : \" + encrypt_text(plaintext,n))"
   ]
  },
  {
   "cell_type": "markdown",
   "metadata": {
    "id": "Kq9YKsk3FqRu"
   },
   "source": [
    "# 43. Decode a Caesar cipher encoded string."
   ]
  },
  {
   "cell_type": "code",
   "execution_count": null,
   "metadata": {
    "colab": {
     "base_uri": "https://localhost:8080/"
    },
    "id": "ycqJy8QdG-cn",
    "outputId": "53f0584a-c381-4e11-d17b-42e1a261ff5c"
   },
   "outputs": [
    {
     "name": "stdout",
     "output_type": "stream",
     "text": [
      "Decoded text: ilmm, world!\n"
     ]
    }
   ],
   "source": [
    "def caesar_cipher_decoder(text, shift):\n",
    "    \"\"\"\n",
    "    Decodes a string using a Caesar cipher.\n",
    "\n",
    "    Args:\n",
    "        text: The string to decode.\n",
    "        shift: The number of positions to shift each letter.\n",
    "\n",
    "    Returns:\n",
    "        The decoded string.\n",
    "    \"\"\"\n",
    "\n",
    "    # Initialize an empty string to store the decoded text\n",
    "    decoded_text = \"\"\n",
    "\n",
    "    # Loop through each character in the input text\n",
    "    for char in text:\n",
    "        # Check if the character is an alphabetic character\n",
    "        if char.isalpha():\n",
    "            # Calculate the decoded character using the shift value\n",
    "            decoded_char = chr((ord(char) - shift - ord('a')) % 26 + ord('a'))\n",
    "        else:\n",
    "            # If the character is not alphabetic, keep it unchanged\n",
    "            decoded_char = char\n",
    "\n",
    "        # Add the decoded character to the decoded text\n",
    "        decoded_text += decoded_char\n",
    "\n",
    "    # Return the fully decoded text\n",
    "    return decoded_text\n",
    "\n",
    "# Example input\n",
    "text = \"lopp, zruog!\"\n",
    "shift = 3\n",
    "\n",
    "# Call the caesar_cipher_decoder function to decode the input text\n",
    "decoded_text = caesar_cipher_decoder(text, shift)\n",
    "\n",
    "# Print the decoded text\n",
    "print(\"Decoded text:\", decoded_text)"
   ]
  },
  {
   "cell_type": "markdown",
   "metadata": {
    "id": "ZHehembBFqMv"
   },
   "source": [
    "# 44. Find the most frequent word in a string."
   ]
  },
  {
   "cell_type": "code",
   "execution_count": null,
   "metadata": {
    "colab": {
     "base_uri": "https://localhost:8080/"
    },
    "id": "eXJjX_iqG--P",
    "outputId": "0a3adf84-3fee-423f-b09b-a5e9a014eb90"
   },
   "outputs": [
    {
     "name": "stdout",
     "output_type": "stream",
     "text": [
      "The original list is : ['python is best for coders', 'python is fun', 'python is easy to learn']\n",
      "Word with maximum frequency : python\n"
     ]
    }
   ],
   "source": [
    "# Using loop + max() + split() + defaultdict()\n",
    "from collections import defaultdict\n",
    "\n",
    "# initializing Matrix\n",
    "test_list = [\"python is best for coders\", \"python is fun\", \"python is easy to learn\"]\n",
    "\n",
    "# printing original list\n",
    "print(\"The original list is : \" + str(test_list))\n",
    "\n",
    "temp = defaultdict(int)\n",
    "\n",
    "# memoizing count\n",
    "for sub in test_list:\n",
    "\tfor wrd in sub.split():\n",
    "\t\ttemp[wrd] += 1\n",
    "\n",
    "# getting max frequency\n",
    "res = max(temp, key=temp.get)\n",
    "\n",
    "# printing result\n",
    "print(\"Word with maximum frequency : \" + str(res))"
   ]
  },
  {
   "cell_type": "markdown",
   "metadata": {
    "id": "zINnUa25FqFu"
   },
   "source": [
    "\n",
    "# 45. Find all unique words in a string."
   ]
  },
  {
   "cell_type": "code",
   "execution_count": null,
   "metadata": {
    "colab": {
     "base_uri": "https://localhost:8080/"
    },
    "id": "jgLN2wVEG_c6",
    "outputId": "4217849f-6a9c-4245-9718-96634c4858da"
   },
   "outputs": [
    {
     "name": "stdout",
     "output_type": "stream",
     "text": [
      "also\n",
      "Python\n",
      "is\n",
      "great\n",
      "and\n",
      "Java\n"
     ]
    }
   ],
   "source": [
    "def printWords(l):\n",
    "\n",
    "    # for loop for iterating\n",
    "    for i in l:\n",
    "        print(i)\n",
    "\n",
    "\n",
    "# Driver code\n",
    "str = \"Python is great and Java is also great\"\n",
    "\n",
    "# storing string in the form of list of words\n",
    "s = set(str.split(\" \"))\n",
    "\n",
    "# passing list to print words function\n",
    "printWords(s)"
   ]
  },
  {
   "cell_type": "markdown",
   "metadata": {
    "id": "iDQjgJZRFp9m"
   },
   "source": [
    "# 46. Count the number of syllables in a string."
   ]
  },
  {
   "cell_type": "code",
   "execution_count": null,
   "metadata": {
    "colab": {
     "base_uri": "https://localhost:8080/"
    },
    "id": "YgJCCIkwG_4B",
    "outputId": "84bf0df8-9439-4f80-f654-74e7a0217322"
   },
   "outputs": [
    {
     "name": "stdout",
     "output_type": "stream",
     "text": [
      "'hello' has 2 syllables.\n",
      "'banana' has 3 syllables.\n",
      "'syllable' has 3 syllables.\n"
     ]
    }
   ],
   "source": [
    "import re\n",
    "\n",
    "def count_syllables(word):\n",
    "    # Count vowel groups using regular expression\n",
    "    vowel_groups = re.findall(r'[aeiouy]+', word, re.IGNORECASE)\n",
    "\n",
    "    return len(vowel_groups)\n",
    "\n",
    "# Example words\n",
    "word1 = \"hello\"\n",
    "word2 = \"banana\"\n",
    "word3 = \"syllable\"\n",
    "\n",
    "# Count syllables\n",
    "syllables1 = count_syllables(word1)\n",
    "syllables2 = count_syllables(word2)\n",
    "syllables3 = count_syllables(word3)\n",
    "\n",
    "# Print the results\n",
    "print(f\"'{word1}' has {syllables1} syllables.\")\n",
    "print(f\"'{word2}' has {syllables2} syllables.\")\n",
    "print(f\"'{word3}' has {syllables3} syllables.\")"
   ]
  },
  {
   "cell_type": "markdown",
   "metadata": {
    "id": "SoYQVjmkFp1e"
   },
   "source": [
    "# 47. Check if a string contains any special characters."
   ]
  },
  {
   "cell_type": "code",
   "execution_count": null,
   "metadata": {
    "colab": {
     "base_uri": "https://localhost:8080/"
    },
    "id": "9Ml0hP4MHAba",
    "outputId": "ef056815-3f6b-42be-c802-466bc63814db"
   },
   "outputs": [
    {
     "name": "stdout",
     "output_type": "stream",
     "text": [
      "o/p 1 : The string does not contain special characters.\n",
      "o/p 2 : The string contains special characters.\n"
     ]
    }
   ],
   "source": [
    "def has_special_char(s):\n",
    "\tfor c in s:\n",
    "\t\tif not (c.isalpha() or c.isdigit() or c == ' '):\n",
    "\t\t\treturn True\n",
    "\treturn False\n",
    "\n",
    "\n",
    "# Test the function\n",
    "s = \"Hello World\"\n",
    "if has_special_char(s):\n",
    "\tprint(\"o/p 1 : The string contains special characters.\")\n",
    "else:\n",
    "\tprint(\"o/p 1 : The string does not contain special characters.\")\n",
    "\n",
    "s = \"Hello@World\"\n",
    "if has_special_char(s):\n",
    "\tprint(\"o/p 2 : The string contains special characters.\")\n",
    "else:\n",
    "\tprint(\"o/p 2 : The string does not contain special characters.\")"
   ]
  },
  {
   "cell_type": "markdown",
   "metadata": {
    "id": "_XJLuB-qFpm-"
   },
   "source": [
    "# 48. Remove the nth word from a string."
   ]
  },
  {
   "cell_type": "code",
   "execution_count": null,
   "metadata": {
    "colab": {
     "base_uri": "https://localhost:8080/"
    },
    "id": "vesVcrVFHA6P",
    "outputId": "1f042d36-807f-48ea-fb9e-267ea682b7c5"
   },
   "outputs": [
    {
     "name": "stdout",
     "output_type": "stream",
     "text": [
      "Enter a String =Python is a popular programming language\n",
      "Enter the n-th index =12\n",
      "The new string =\n",
      "\n",
      "Python is a opular programming language\n"
     ]
    }
   ],
   "source": [
    "def removechar(str1, n):\n",
    "\tx = str1[ : n]\n",
    "\ty = str1[n + 1: ]\n",
    "\treturn x + y\n",
    "\n",
    "# Driver Code\n",
    "if __name__ == '__main__':\n",
    "\tstr1 = input(\"Enter a String =\")\n",
    "\tn = int(input(\"Enter the n-th index =\"))\n",
    "\n",
    "print(\"The new string =\\n\")\n",
    "print(removechar(str1, n))"
   ]
  },
  {
   "cell_type": "markdown",
   "metadata": {
    "id": "ujvPH5r_GYrV"
   },
   "source": [
    "# 49. Insert a word at the nth position in a string."
   ]
  },
  {
   "cell_type": "code",
   "execution_count": null,
   "metadata": {
    "colab": {
     "base_uri": "https://localhost:8080/"
    },
    "id": "g5EiLP_2HBwI",
    "outputId": "66f171d2-c780-487b-b960-7835f492cc11"
   },
   "outputs": [
    {
     "name": "stdout",
     "output_type": "stream",
     "text": [
      "Output: PWSkillstech\n"
     ]
    }
   ],
   "source": [
    "# Input string\n",
    "original_str = 'PWSkills'\n",
    "\n",
    "# Substring to add\n",
    "add_str = 'tech'\n",
    "\n",
    "# Index to add substring\n",
    "index = 11\n",
    "\n",
    "# Adding substring\n",
    "result_str = f\"{original_str[:index]}{add_str}{original_str[index:]}\"\n",
    "\n",
    "print('Output:',result_str)\n"
   ]
  },
  {
   "cell_type": "markdown",
   "metadata": {
    "id": "zuVNL0QVFpFv"
   },
   "source": [
    "# 50. Convert a CSV string to a list of lists."
   ]
  },
  {
   "cell_type": "code",
   "execution_count": null,
   "metadata": {
    "colab": {
     "base_uri": "https://localhost:8080/"
    },
    "id": "Xwk8HNCiHUNf",
    "outputId": "88592ead-e53e-4023-d2ed-ad763be45596"
   },
   "outputs": [
    {
     "name": "stdout",
     "output_type": "stream",
     "text": [
      "['Name', ' Age', ' Country']\n",
      "['John', ' 25', ' USA']\n",
      "['Alice', ' 30', ' Canada']\n",
      "['Bob', ' 22', ' UK']\n"
     ]
    }
   ],
   "source": [
    "def csv_string_to_list(csv_string):\n",
    "    # Split the CSV string into lines\n",
    "    lines = csv_string.split('\\n')\n",
    "\n",
    "    # Initialize an empty list to store the result\n",
    "    result = []\n",
    "\n",
    "    for line in lines:\n",
    "        # Split each line into fields using comma as the delimiter\n",
    "        fields = line.split(',')\n",
    "\n",
    "        # Append the fields to the result list as a row\n",
    "        result.append(fields)\n",
    "\n",
    "    return result\n",
    "\n",
    "# Example CSV string\n",
    "csv_data = \"Name, Age, Country\\nJohn, 25, USA\\nAlice, 30, Canada\\nBob, 22, UK\"\n",
    "\n",
    "# Convert CSV string to a list of lists\n",
    "list_of_lists = csv_string_to_list(csv_data)\n",
    "\n",
    "# Print the result\n",
    "for row in list_of_lists:\n",
    "    print(row)\n"
   ]
  },
  {
   "cell_type": "markdown",
   "metadata": {
    "id": "7Ipuh0TcHEYk"
   },
   "source": [
    "#==================== List Based Practice Problem : ========================"
   ]
  },
  {
   "cell_type": "markdown",
   "metadata": {
    "id": "zdqN1uSZPIeK"
   },
   "source": [
    "#1. Create a list with integers from 1 to 10."
   ]
  },
  {
   "cell_type": "code",
   "execution_count": 10,
   "metadata": {
    "colab": {
     "base_uri": "https://localhost:8080/"
    },
    "id": "ifMiznIbFqrP",
    "outputId": "4f5056cc-7644-4c95-cd1a-610b234b3c71"
   },
   "outputs": [
    {
     "name": "stdout",
     "output_type": "stream",
     "text": [
      "List is : (1, 2, 3, 4, 5, 6, 7, 8, 9, 10)\n"
     ]
    }
   ],
   "source": [
    "# define list data\n",
    "l1 = (1,2,3,4,5,6,7,8,9,10)\n",
    "# print list data\n",
    "print(\"List is :\",l1)"
   ]
  },
  {
   "cell_type": "markdown",
   "metadata": {
    "id": "M7bgG4wcPham"
   },
   "source": [
    "# 2.Find the length of a list without using the `len()` function."
   ]
  },
  {
   "cell_type": "code",
   "execution_count": 11,
   "metadata": {
    "colab": {
     "base_uri": "https://localhost:8080/"
    },
    "id": "tJYCEE_nF0Ij",
    "outputId": "03daf09f-d0b8-4249-b086-d2a1e242091c"
   },
   "outputs": [
    {
     "name": "stdout",
     "output_type": "stream",
     "text": [
      "Length of list is  10\n"
     ]
    }
   ],
   "source": [
    "# define list and count function\n",
    "l2 = [1,2,3,4,5,6,7,8,9,10]\n",
    "count = 0\n",
    "for i in l2:\n",
    "    count +=1\n",
    "print(\"Length of list is \",count)"
   ]
  },
  {
   "cell_type": "markdown",
   "metadata": {
    "id": "EE2BwJCzQfLV"
   },
   "source": [
    "# 3. Append an element to the end of a list."
   ]
  },
  {
   "cell_type": "code",
   "execution_count": 1,
   "metadata": {
    "colab": {
     "base_uri": "https://localhost:8080/"
    },
    "id": "0r1yrLnAQiRO",
    "outputId": "cecbf133-31a3-4290-e8f8-acc53dd875d1"
   },
   "outputs": [
    {
     "name": "stdout",
     "output_type": "stream",
     "text": [
      "Appended list is :  [2, 5, 7, 8, 9, 14, 100]\n"
     ]
    }
   ],
   "source": [
    "l3 = [2,5,7,8,9,14]\n",
    "l3.append(100)\n",
    "print(\"Appended list is : \",l3)"
   ]
  },
  {
   "cell_type": "markdown",
   "metadata": {
    "id": "i6uKa_yIQfas"
   },
   "source": [
    "# 4. Insert an element at a specific index in a list."
   ]
  },
  {
   "cell_type": "code",
   "execution_count": 8,
   "metadata": {
    "colab": {
     "base_uri": "https://localhost:8080/"
    },
    "id": "d_BQ0z9wQ2bf",
    "outputId": "64351292-2463-40c5-fe30-7d111295d97a"
   },
   "outputs": [
    {
     "name": "stdout",
     "output_type": "stream",
     "text": [
      "Updated list after insert is  [45, 89, 67, 89, 45, 1000]\n"
     ]
    }
   ],
   "source": [
    "l4 = [45,89,67,89,45]\n",
    "l4.insert(500,1000)\n",
    "print(\"Updated list after insert is \",l4)"
   ]
  },
  {
   "cell_type": "markdown",
   "metadata": {
    "id": "wfhRnWOQQfeJ"
   },
   "source": [
    "# 5.Remove an element from a list by its value."
   ]
  },
  {
   "cell_type": "code",
   "execution_count": 12,
   "metadata": {
    "colab": {
     "base_uri": "https://localhost:8080/"
    },
    "id": "yi0PQ3c5Sozl",
    "outputId": "9ffaf02b-4ead-4cc9-9fc5-3e8120fa24de"
   },
   "outputs": [
    {
     "name": "stdout",
     "output_type": "stream",
     "text": [
      "Updated list after removal is  [1, 2, 3, 4, 5, 6, 7, 8, 9]\n"
     ]
    }
   ],
   "source": [
    "l5 = [1,2,3,4,5,6,7,8,9,10]\n",
    "l5.remove(10)\n",
    "print(\"Updated list after removal is \",l5)"
   ]
  },
  {
   "cell_type": "markdown",
   "metadata": {
    "id": "HIet6sYGQfhN"
   },
   "source": [
    "# 6. Remove an element from a list by its index."
   ]
  },
  {
   "cell_type": "code",
   "execution_count": 15,
   "metadata": {
    "colab": {
     "base_uri": "https://localhost:8080/"
    },
    "id": "nXr3l5ajTE3L",
    "outputId": "a56f8893-e1d9-4f6c-b98c-0300b3ffb5d6"
   },
   "outputs": [
    {
     "name": "stdout",
     "output_type": "stream",
     "text": [
      "Updated list after removal using pop is  [1, 3, 4, 5, 6, 7, 8, 9, 10]\n"
     ]
    }
   ],
   "source": [
    "l6 = [1,2,3,4,5,6,7,8,9,10]\n",
    "# pop by dafult remove last element so use index for desired data remove\n",
    "l6.pop(1)\n",
    "print(\"Updated list after removal using pop is \",l6)"
   ]
  },
  {
   "cell_type": "markdown",
   "metadata": {
    "id": "xXR0jMRJQfkT"
   },
   "source": [
    "\n",
    "# 7. Check if an element exists in a list."
   ]
  },
  {
   "cell_type": "code",
   "execution_count": 18,
   "metadata": {
    "colab": {
     "base_uri": "https://localhost:8080/"
    },
    "id": "hac2XaTIQOdJ",
    "outputId": "db0e1cb9-b8ac-46f8-b4e4-9228a8fe360a"
   },
   "outputs": [
    {
     "name": "stdout",
     "output_type": "stream",
     "text": [
      "The given data 3 exists in the list.\n"
     ]
    }
   ],
   "source": [
    "l7= [1,2,3,4,5,6,7,8,9,10]\n",
    "\n",
    "# Element to check\n",
    "element_to_check = 3\n",
    "\n",
    "# Check if the element exists in the list\n",
    "if element_to_check in l7:\n",
    "    print(f\"The given data {element_to_check} exists in the list.\")\n",
    "else:\n",
    "    print(f\"The given data {element_to_check} does not exist in the list.\")"
   ]
  },
  {
   "cell_type": "markdown",
   "metadata": {
    "id": "R5whVF2VU13U"
   },
   "source": [
    "# 8. Find the index of the first occurrence of an element in a list."
   ]
  },
  {
   "cell_type": "code",
   "execution_count": 24,
   "metadata": {
    "colab": {
     "base_uri": "https://localhost:8080/"
    },
    "id": "M_7QklX6UpWd",
    "outputId": "887a2124-b9c6-440b-d096-a942d378f447"
   },
   "outputs": [
    {
     "name": "stdout",
     "output_type": "stream",
     "text": [
      " Index of given data is 2\n"
     ]
    }
   ],
   "source": [
    "l8 = [1,2,3,4,5,6,7,8,9,10]\n",
    "# Check if the element index in the list\n",
    "ele_index = 3\n",
    "print(f\" Index of given data is {l8.index(ele_index)}\")"
   ]
  },
  {
   "cell_type": "markdown",
   "metadata": {
    "id": "zMdZ3b_1U2Cz"
   },
   "source": [
    "\n",
    "# 9. Count the occurrences of an element in a list."
   ]
  },
  {
   "cell_type": "code",
   "execution_count": 25,
   "metadata": {
    "colab": {
     "base_uri": "https://localhost:8080/"
    },
    "id": "UPcMS_elWJr1",
    "outputId": "c20c3153-ec6d-4533-872e-0705cd6755c0"
   },
   "outputs": [
    {
     "name": "stdout",
     "output_type": "stream",
     "text": [
      "1  count is  4\n",
      "2  count is  3\n",
      "3  count is  1\n",
      "5  count is  1\n"
     ]
    }
   ],
   "source": [
    "l9=[1,1,2,2,1,3,1,2,5]\n",
    "s=set(l9)\n",
    "for i in s:\n",
    "    print(i,\" count is \",l9.count(i))"
   ]
  },
  {
   "cell_type": "markdown",
   "metadata": {
    "id": "l4eP9Sp0U2GB"
   },
   "source": [
    "# 10. Reverse the order of elements in a list."
   ]
  },
  {
   "cell_type": "code",
   "execution_count": 2,
   "metadata": {
    "colab": {
     "base_uri": "https://localhost:8080/"
    },
    "id": "S47O72tDY0i8",
    "outputId": "1cc7dded-0631-44f0-bef8-1194ec8a24b2"
   },
   "outputs": [
    {
     "name": "stdout",
     "output_type": "stream",
     "text": [
      "reverse the order of element in list is :  [9, 8, 7, 6, 5, 4, 3, 2, 1]\n"
     ]
    }
   ],
   "source": [
    "l10=[1,2,3,4,5,6,7,8,9]\n",
    "l10.reverse()\n",
    "print(\"reverse the order of element in list is : \",l10)"
   ]
  },
  {
   "cell_type": "markdown",
   "metadata": {
    "id": "3mvl2pE6U2JH"
   },
   "source": [
    "# 11. Sort a list in ascending order.\n"
   ]
  },
  {
   "cell_type": "code",
   "execution_count": 3,
   "metadata": {
    "colab": {
     "base_uri": "https://localhost:8080/"
    },
    "id": "roiYWNsgZHlP",
    "outputId": "30466b01-978c-4226-e7c2-14fb1a9aa1ef"
   },
   "outputs": [
    {
     "name": "stdout",
     "output_type": "stream",
     "text": [
      "sort in list is:  [2, 4, 5, 6, 7, 8, 9, 100, 300]\n"
     ]
    }
   ],
   "source": [
    "l11=[100,2,300,4,5,6,7,8,9]\n",
    "l11.sort()\n",
    "print(\"sort in list is: \",l11)"
   ]
  },
  {
   "cell_type": "markdown",
   "metadata": {
    "id": "nOeW3x6XU2MN"
   },
   "source": [
    "#12. Sort a list in descending order.\n"
   ]
  },
  {
   "cell_type": "code",
   "execution_count": 28,
   "metadata": {
    "colab": {
     "base_uri": "https://localhost:8080/"
    },
    "id": "3GQ2lVulZUQh",
    "outputId": "19284f8c-4b26-45cf-c221-9abb55fc710d"
   },
   "outputs": [
    {
     "name": "stdout",
     "output_type": "stream",
     "text": [
      "[300, 100, 9, 8, 7, 6, 5, 4, 2]\n"
     ]
    }
   ],
   "source": [
    "l12=[100,2,300,4,5,6,7,8,9]\n",
    "l12.sort(reverse=True)\n",
    "print(l12)"
   ]
  },
  {
   "cell_type": "markdown",
   "metadata": {
    "id": "DOjR4gJ4U2cI"
   },
   "source": [
    "# 13. Create a list of even numbers from 1 to 20.\n"
   ]
  },
  {
   "cell_type": "code",
   "execution_count": 5,
   "metadata": {
    "colab": {
     "base_uri": "https://localhost:8080/"
    },
    "id": "GwPq6xGiZi2v",
    "outputId": "73c42a5d-f2df-4adc-e23b-9d9cc093dc9f"
   },
   "outputs": [
    {
     "name": "stdout",
     "output_type": "stream",
     "text": [
      "List of even numbers from 1 to 20 :  [2, 4, 6, 8, 10, 12, 14, 16, 18, 20]\n"
     ]
    }
   ],
   "source": [
    "el=[]\n",
    "# define range from 1 to 20 for even num\n",
    "for i in range(2,21):\n",
    "    if(i%2==0):\n",
    "        el.append(i)\n",
    "print(\"List of even numbers from 1 to 20 : \",el)"
   ]
  },
  {
   "cell_type": "markdown",
   "metadata": {
    "id": "OY19Wh6kU2fU"
   },
   "source": [
    "\n",
    "# 14. Create a list of odd numbers from 1 to 20.\n"
   ]
  },
  {
   "cell_type": "code",
   "execution_count": 6,
   "metadata": {
    "colab": {
     "base_uri": "https://localhost:8080/"
    },
    "id": "GVCP-3MLaCb7",
    "outputId": "3c78c090-99ba-4ed5-c316-31b6d5f669b4"
   },
   "outputs": [
    {
     "name": "stdout",
     "output_type": "stream",
     "text": [
      "List of Odd numbers from 1 to 20 [1, 3, 5, 7, 9, 11, 13, 15, 17, 19]\n"
     ]
    }
   ],
   "source": [
    "ol=[]\n",
    "for i in range(0,21):\n",
    "    if(i%2==0):\n",
    "        continue\n",
    "    else:\n",
    "        ol.append(i)\n",
    "print(\"List of Odd numbers from 1 to 20\",ol)"
   ]
  },
  {
   "cell_type": "markdown",
   "metadata": {
    "id": "0hF6X3enU2ih"
   },
   "source": [
    "# 15. Find the sum of all elements in a list.\n"
   ]
  },
  {
   "cell_type": "code",
   "execution_count": 35,
   "metadata": {
    "colab": {
     "base_uri": "https://localhost:8080/"
    },
    "id": "aT0xxZRKaLmk",
    "outputId": "945b681b-8da3-4221-b9eb-e175329ddab5"
   },
   "outputs": [
    {
     "name": "stdout",
     "output_type": "stream",
     "text": [
      "Sum of elements: 450\n"
     ]
    }
   ],
   "source": [
    "mylist = [10, 20, 30, 40, 50, 60, 70, 80, 90]\n",
    "\n",
    "# Calculate the sum of all elements in the list\n",
    "total_sum = sum(mylist)\n",
    "\n",
    "# Print the sum\n",
    "print(\"Sum of elements:\", total_sum)"
   ]
  },
  {
   "cell_type": "markdown",
   "metadata": {
    "id": "WlprZwgSU2lU"
   },
   "source": [
    "# 16. Find the maximum value in a list.\n"
   ]
  },
  {
   "cell_type": "code",
   "execution_count": 36,
   "metadata": {
    "colab": {
     "base_uri": "https://localhost:8080/"
    },
    "id": "xYQ0HlZSbI0v",
    "outputId": "7d2db355-0ba0-4e1c-977b-c4f853eef0db"
   },
   "outputs": [
    {
     "name": "stdout",
     "output_type": "stream",
     "text": [
      "Max Val of elements: 90\n"
     ]
    }
   ],
   "source": [
    "mylist = [10, 20, 30, 40, 50, 60, 70, 80, 90]\n",
    "\n",
    "# max elements in the list\n",
    "max_val = max(mylist)\n",
    "\n",
    "# Print the sum\n",
    "print(\"Max Val of elements:\", max_val)"
   ]
  },
  {
   "cell_type": "markdown",
   "metadata": {
    "id": "i5unja4PU2oB"
   },
   "source": [
    "# 17. Find the minimum value in a list."
   ]
  },
  {
   "cell_type": "code",
   "execution_count": 37,
   "metadata": {
    "colab": {
     "base_uri": "https://localhost:8080/"
    },
    "id": "VLF3ZmBHbmwl",
    "outputId": "df9b3472-29f4-4288-b406-ce29496d8cd0"
   },
   "outputs": [
    {
     "name": "stdout",
     "output_type": "stream",
     "text": [
      "Min Val of elements: 10\n"
     ]
    }
   ],
   "source": [
    "mylist = [10, 20, 30, 40, 50, 60, 70, 80, 90]\n",
    "\n",
    "# min elements in the list\n",
    "min_val = min(mylist)\n",
    "\n",
    "# Print the sum\n",
    "print(\"Min Val of elements:\", min_val)"
   ]
  },
  {
   "cell_type": "markdown",
   "metadata": {
    "id": "6mS5LgwhU2rL"
   },
   "source": [
    "# 18. Create a list of squares of numbers from 1 to 10.\n"
   ]
  },
  {
   "cell_type": "code",
   "execution_count": 40,
   "metadata": {
    "colab": {
     "base_uri": "https://localhost:8080/"
    },
    "id": "p7n_xWIBcC5w",
    "outputId": "a9337db9-5bd9-478d-8b3d-f86f79866675"
   },
   "outputs": [
    {
     "name": "stdout",
     "output_type": "stream",
     "text": [
      "List of Square from 1 to 10 is  [1, 4, 9, 16, 25, 36, 49, 64, 81, 100]\n"
     ]
    }
   ],
   "source": [
    "sq=[]\n",
    "for i in range(1,11):\n",
    "    sq.append(i**2)\n",
    "print(\"List of Square from 1 to 10 is \",sq)"
   ]
  },
  {
   "cell_type": "markdown",
   "metadata": {
    "id": "bInISi9BU2yV"
   },
   "source": [
    "# 19. Create a list of random numbers.\n"
   ]
  },
  {
   "cell_type": "code",
   "execution_count": 41,
   "metadata": {
    "colab": {
     "base_uri": "https://localhost:8080/"
    },
    "id": "YY2-c-ndcWoK",
    "outputId": "c43903fe-3395-47fd-b518-925dd18f161d"
   },
   "outputs": [
    {
     "name": "stdout",
     "output_type": "stream",
     "text": [
      "list of random numbers [47, 16, 51, 65, 38, 42, 63, 14, 5, 55]\n"
     ]
    }
   ],
   "source": [
    "import random\n",
    "l=[]\n",
    "for i in range(0,10):\n",
    "    l.append(random.randint(1,100))\n",
    "print(\"list of random numbers\",l)"
   ]
  },
  {
   "cell_type": "markdown",
   "metadata": {
    "id": "UZkR_Gt2U21q"
   },
   "source": [
    "# 20. Remove duplicates from a list.\n"
   ]
  },
  {
   "cell_type": "code",
   "execution_count": 7,
   "metadata": {
    "colab": {
     "base_uri": "https://localhost:8080/"
    },
    "id": "dCP6PQfQcjDw",
    "outputId": "e91d6746-5a86-45e3-efc3-247bca55f78f"
   },
   "outputs": [
    {
     "name": "stdout",
     "output_type": "stream",
     "text": [
      "List of Unique Value is :  [10, 20, 30, 40, 50]\n"
     ]
    }
   ],
   "source": [
    "original_list = [10, 20, 30, 20, 40, 10, 50, 30]\n",
    "unique_list = []\n",
    "\n",
    "for item in original_list:\n",
    "    if item not in unique_list:\n",
    "        unique_list.append(item)\n",
    "\n",
    "print(\"List of Unique Value is : \", unique_list)\n"
   ]
  },
  {
   "cell_type": "markdown",
   "metadata": {
    "id": "pqL4CWbQU24j"
   },
   "source": [
    "# 21. Find the common elements between two lists.\n",
    "\n",
    "        "
   ]
  },
  {
   "cell_type": "code",
   "execution_count": 47,
   "metadata": {
    "colab": {
     "base_uri": "https://localhost:8080/"
    },
    "id": "uXdoWK49eK7W",
    "outputId": "2d1e3e24-02fd-44e1-a9c6-0973d8c9a0f7"
   },
   "outputs": [
    {
     "name": "stdout",
     "output_type": "stream",
     "text": [
      "Common elements: [30, 40, 50]\n"
     ]
    }
   ],
   "source": [
    "list1 = [10, 20, 30, 40, 50]\n",
    "list2 = [30, 40, 50, 60, 70]\n",
    "\n",
    "common_elements = []\n",
    "\n",
    "for item in list1:\n",
    "    if item in list2:\n",
    "        common_elements.append(item)\n",
    "\n",
    "print(\"Common elements:\", common_elements)\n"
   ]
  },
  {
   "cell_type": "markdown",
   "metadata": {
    "id": "Vs7mU3rpU27O"
   },
   "source": [
    "# 22. Find the difference between two lists."
   ]
  },
  {
   "cell_type": "code",
   "execution_count": 52,
   "metadata": {
    "colab": {
     "base_uri": "https://localhost:8080/"
    },
    "id": "v1BndOOTeLj0",
    "outputId": "bfae8b20-2892-42c8-b25f-20e8d3fc34dc"
   },
   "outputs": [
    {
     "name": "stdout",
     "output_type": "stream",
     "text": [
      "Difference between list1 and list2: [10, 20]\n"
     ]
    }
   ],
   "source": [
    "list1 = [10, 20, 30, 40, 50]\n",
    "list2 = [30, 40, 50, 60, 70]\n",
    "\n",
    "# Find the difference between list1 and list2\n",
    "difference = [item for item in list1 if item not in list2]\n",
    "\n",
    "print(\"Difference between list1 and list2:\", difference)\n"
   ]
  },
  {
   "cell_type": "markdown",
   "metadata": {
    "id": "ibXuxiQSU2-A"
   },
   "source": [
    "#23. Merge two lists."
   ]
  },
  {
   "cell_type": "code",
   "execution_count": 53,
   "metadata": {
    "colab": {
     "base_uri": "https://localhost:8080/"
    },
    "id": "feqEpbOTeMEJ",
    "outputId": "33921242-7136-43c1-fefb-bc0b99df51c8"
   },
   "outputs": [
    {
     "name": "stdout",
     "output_type": "stream",
     "text": [
      "Merge list of both lists : [10, 20, 30, 40, 50, 30, 40, 50, 60, 70]\n"
     ]
    }
   ],
   "source": [
    "list1 = [10, 20, 30, 40, 50]\n",
    "list2 = [30, 40, 50, 60, 70]\n",
    "\n",
    "# Find the difference between list1 and list2\n",
    "merge_list = list1 + list2\n",
    "\n",
    "print(\"Merge list of both lists :\", merge_list)"
   ]
  },
  {
   "cell_type": "markdown",
   "metadata": {
    "id": "tFXs_h8LU3A3"
   },
   "source": [
    "# 24. Multiply all elements in a list by 2."
   ]
  },
  {
   "cell_type": "code",
   "execution_count": 54,
   "metadata": {
    "colab": {
     "base_uri": "https://localhost:8080/"
    },
    "id": "7zVNP8mBeKJE",
    "outputId": "d4d2b070-9131-432f-a1a8-3a437b422f9e"
   },
   "outputs": [
    {
     "name": "stdout",
     "output_type": "stream",
     "text": [
      "Multiply list by 2 is : [2, 4, 6, 8, 10, 12, 14, 16, 18, 20]\n"
     ]
    }
   ],
   "source": [
    "l=[1,2,3,4,5,6,7,8,9,10]\n",
    "for i in range(0,len(l)):\n",
    "    l[i]=l[i]*2\n",
    "print(\"Multiply list by 2 is :\",l)"
   ]
  },
  {
   "cell_type": "markdown",
   "metadata": {
    "id": "atpbq-iqU3D9"
   },
   "source": [
    "\n",
    "# 25. Filter out all even numbers from a list."
   ]
  },
  {
   "cell_type": "code",
   "execution_count": 8,
   "metadata": {
    "colab": {
     "base_uri": "https://localhost:8080/"
    },
    "id": "SHELTz1feNAx",
    "outputId": "c51abc8b-2c6d-42f3-ed90-2408c25b154f"
   },
   "outputs": [
    {
     "name": "stdout",
     "output_type": "stream",
     "text": [
      "Even no.: [6, 8, 22, 30]\n"
     ]
    }
   ],
   "source": [
    "\n",
    "li = [3, 6, 8, 11, 13, 22, 30]\n",
    "\n",
    "# Output list initialisation\n",
    "even_num = []\n",
    "\n",
    "for num in li:\n",
    "\n",
    "\t# checking condition\n",
    "\tif num % 2 == 0:\n",
    "\t\teven_num.append(num)\n",
    "\n",
    "# printing output\n",
    "print('Even no.:', even_num)  "
   ]
  },
  {
   "cell_type": "markdown",
   "metadata": {
    "id": "EvudZMKaU3Gm"
   },
   "source": [
    "\n",
    "# 26. Convert a list of strings to a list of integers."
   ]
  },
  {
   "cell_type": "code",
   "execution_count": 11,
   "metadata": {
    "colab": {
     "base_uri": "https://localhost:8080/"
    },
    "id": "5kHj7rJ0eNc7",
    "outputId": "f5397e04-6760-4dc8-a9e2-6cf3a8f061f6"
   },
   "outputs": [
    {
     "name": "stdout",
     "output_type": "stream",
     "text": [
      "List of integers: [10, 20, 30, 40, 50]\n"
     ]
    }
   ],
   "source": [
    "\n",
    "string_list = [\"10\", \"20\", \"30\", \"40\", \"50\"]\n",
    "\n",
    "# Convert list of strings to list of integers using a list comprehension\n",
    "int_list = [int(x) for x in string_list]\n",
    "\n",
    "# Print the list of integers\n",
    "print(\"List of integers:\", int_list)"
   ]
  },
  {
   "cell_type": "markdown",
   "metadata": {
    "id": "3nO_QlXgU3Jx"
   },
   "source": [
    "#27. Convert a list of integers to a list of strings."
   ]
  },
  {
   "cell_type": "code",
   "execution_count": 12,
   "metadata": {
    "colab": {
     "base_uri": "https://localhost:8080/"
    },
    "id": "RrwE0mpSeOBn",
    "outputId": "bf2e21d7-5e56-4712-a812-4001716b07b2"
   },
   "outputs": [
    {
     "name": "stdout",
     "output_type": "stream",
     "text": [
      "List of integers: ['10', '20', '30', '40', '50', '60']\n"
     ]
    }
   ],
   "source": [
    "int_list = [10, 20, 30, 40, 50, 60]\n",
    "\n",
    "# Convert list of strings to list of integers using a list comprehension\n",
    "str_list = [str(x) for x in int_list]\n",
    "\n",
    "# Print the list of integers\n",
    "print(\"List of integers:\", str_list)"
   ]
  },
  {
   "cell_type": "markdown",
   "metadata": {
    "id": "IJ9QE0bfU3Nw"
   },
   "source": [
    "# 28. Flatten a nested list."
   ]
  },
  {
   "cell_type": "code",
   "execution_count": 15,
   "metadata": {
    "colab": {
     "base_uri": "https://localhost:8080/"
    },
    "id": "1QZPfQwAeOli",
    "outputId": "138e29c8-dc44-4537-8319-0ad4635a832a"
   },
   "outputs": [
    {
     "name": "stdout",
     "output_type": "stream",
     "text": [
      "Nested List : [1, 2, 3, 3, 4, 5, 6]\n"
     ]
    }
   ],
   "source": [
    "l=[1,[2,3],[3,4,5],6]\n",
    "f=[]\n",
    "#print(type(f))\n",
    "for i in range(0,len(l)):\n",
    "    if type(l[i]) is list:\n",
    "        #print(type(l[i]),\"if\")\n",
    "        f.extend(l[i])\n",
    "    else:\n",
    "        #print(type(l[i]),\"else\")\n",
    "        f.append(l[i])\n",
    "print(\"Nested List :\",f)\n",
    "#print(type(l[0]) is list)"
   ]
  },
  {
   "cell_type": "markdown",
   "metadata": {
    "id": "mVUopWYQU3Q-"
   },
   "source": [
    "# 29. Create a list of the first 10 Fibonacci numbers"
   ]
  },
  {
   "cell_type": "code",
   "execution_count": 16,
   "metadata": {
    "colab": {
     "base_uri": "https://localhost:8080/"
    },
    "id": "KxeAqjqzePMn",
    "outputId": "74273ff8-ed82-4d61-e700-44798db39bd3"
   },
   "outputs": [
    {
     "name": "stdout",
     "output_type": "stream",
     "text": [
      "Fibonacci numbers : [0, 1, 1, 2, 3, 5, 8, 13, 21, 34, 55]\n"
     ]
    }
   ],
   "source": [
    "l=[]\n",
    "n1,i=0,0\n",
    "n2=1\n",
    "while i<=10:\n",
    "    l.append(n1)\n",
    "    nth = n1 +n2\n",
    "    n1 = n2\n",
    "    n2 = nth\n",
    "    i=i+1\n",
    "print (\"Fibonacci numbers :\",l)"
   ]
  },
  {
   "cell_type": "markdown",
   "metadata": {
    "id": "b6N9gFS9fLem"
   },
   "source": [
    "# 30. Check if a list is sorted."
   ]
  },
  {
   "cell_type": "code",
   "execution_count": 18,
   "metadata": {
    "colab": {
     "base_uri": "https://localhost:8080/"
    },
    "id": "sq7sY8T0lIHd",
    "outputId": "754a877e-3411-42bb-afa4-55c71736be18"
   },
   "outputs": [
    {
     "name": "stdout",
     "output_type": "stream",
     "text": [
      "NO\n"
     ]
    }
   ],
   "source": [
    "l=[1,4,3,8,65,98]\n",
    "temp=l.copy()\n",
    "l.sort()\n",
    "if l==temp:\n",
    "    print(\"Yes\")\n",
    "else:\n",
    "    print(\"NO\")"
   ]
  },
  {
   "cell_type": "markdown",
   "metadata": {
    "id": "nEt9ZdI-fPEa"
   },
   "source": [
    "# 31. Rotate a list to the left by `n` positions."
   ]
  },
  {
   "cell_type": "code",
   "execution_count": 21,
   "metadata": {
    "colab": {
     "base_uri": "https://localhost:8080/"
    },
    "id": "6npdhI93lIqB",
    "outputId": "55a17ac4-005b-4969-c515-1d81238d892b"
   },
   "outputs": [
    {
     "name": "stdout",
     "output_type": "stream",
     "text": [
      "Rotate list  [5, 1, 2, 3, 4]\n"
     ]
    }
   ],
   "source": [
    "n = 4\n",
    "l=[1,2,3,4,5]\n",
    "l=l[n:]+l[:n]\n",
    "print(\"Rotate list \",l)"
   ]
  },
  {
   "cell_type": "markdown",
   "metadata": {
    "id": "xokcATRefRFP"
   },
   "source": [
    "\n",
    "# 32. Rotate a list to the right by `n` positions."
   ]
  },
  {
   "cell_type": "code",
   "execution_count": 22,
   "metadata": {
    "colab": {
     "base_uri": "https://localhost:8080/"
    },
    "id": "XSbJbcA9lJOV",
    "outputId": "28b1c33e-ea3f-4826-9aee-3ab88c64f7cb"
   },
   "outputs": [
    {
     "name": "stdout",
     "output_type": "stream",
     "text": [
      "Enter the nth  4\n"
     ]
    },
    {
     "data": {
      "text/plain": [
       "[2, 3, 4, 5, 1]"
      ]
     },
     "execution_count": 22,
     "metadata": {},
     "output_type": "execute_result"
    }
   ],
   "source": [
    "l=[1,2,3,4,5]\n",
    "t=l.copy()\n",
    "n=int(input(\"Enter the nth \"))\n",
    "l=l[-n:]+l[:n+1]\n",
    "l[:len(t)]\n"
   ]
  },
  {
   "cell_type": "markdown",
   "metadata": {
    "id": "bTbDG9_8fVAd"
   },
   "source": [
    "# 33. Create a list of prime numbers up to 50."
   ]
  },
  {
   "cell_type": "code",
   "execution_count": 26,
   "metadata": {
    "colab": {
     "base_uri": "https://localhost:8080/"
    },
    "id": "Hk8IC4lxlJt_",
    "outputId": "a4e5b83e-c517-4983-c757-93302452e3e3"
   },
   "outputs": [
    {
     "name": "stdout",
     "output_type": "stream",
     "text": [
      "Prime Number list upto 50 is : [2, 3, 5, 7, 11, 13, 17, 19, 23, 29, 31, 37, 41, 43, 47]\n"
     ]
    }
   ],
   "source": [
    "l=[]\n",
    "for i in range(2,51):\n",
    "    count=0\n",
    "    for j in range(2,i):\n",
    "        if(i%j==0):\n",
    "            count=+1\n",
    "    if count==0:\n",
    "        l.append(i)\n",
    "print(\"Prime Number list upto 50 is :\",l)"
   ]
  },
  {
   "cell_type": "markdown",
   "metadata": {
    "id": "AIlfPojcfW_D"
   },
   "source": [
    "# 34. Split a list into chunks of size `n`."
   ]
  },
  {
   "cell_type": "code",
   "execution_count": 24,
   "metadata": {
    "colab": {
     "base_uri": "https://localhost:8080/"
    },
    "id": "5cmxFlxPlKFH",
    "outputId": "98db268a-7bd1-4181-8847-670dacdfc29f"
   },
   "outputs": [
    {
     "name": "stdout",
     "output_type": "stream",
     "text": [
      "[1, 2]\n",
      "[3, 44]\n",
      "[5, 6]\n",
      "[7, 8]\n",
      "[9, 10]\n"
     ]
    }
   ],
   "source": [
    "l=[1,2,3,44,5,6,7,8,9,10]\n",
    "for i in range(0,len(l),2):\n",
    "    print(l[i:i+2])"
   ]
  },
  {
   "cell_type": "markdown",
   "metadata": {
    "id": "yG2s5tlkfZAd"
   },
   "source": [
    "# 35. Find the second largest number in a list."
   ]
  },
  {
   "cell_type": "code",
   "execution_count": 25,
   "metadata": {
    "colab": {
     "base_uri": "https://localhost:8080/"
    },
    "id": "SISXaKuglKcO",
    "outputId": "20c53066-779d-4e0c-80b0-c747f4c28f63"
   },
   "outputs": [
    {
     "name": "stdout",
     "output_type": "stream",
     "text": [
      "8\n"
     ]
    }
   ],
   "source": [
    "l=[1,2,3,8,5,9,5]\n",
    "l.sort()\n",
    "print(l[-2])"
   ]
  },
  {
   "cell_type": "markdown",
   "metadata": {
    "id": "HEe5mqWBflJR"
   },
   "source": [
    "# 36. Replace every element in a list with its square."
   ]
  },
  {
   "cell_type": "code",
   "execution_count": 68,
   "metadata": {
    "colab": {
     "base_uri": "https://localhost:8080/"
    },
    "id": "78DDvVW7lK_2",
    "outputId": "6fae7982-fa74-46d3-9599-099f1ba1cfaf"
   },
   "outputs": [
    {
     "data": {
      "text/plain": [
       "[1, 4, 9, 16, 25, 36, 49, 64, 81, 100]"
      ]
     },
     "execution_count": 68,
     "metadata": {},
     "output_type": "execute_result"
    }
   ],
   "source": [
    "l=[1,2,3,4,5,6,7,8,9,10]\n",
    "for i in range(len(l)):\n",
    "    l[i]=l[i]**2\n",
    "l"
   ]
  },
  {
   "cell_type": "markdown",
   "metadata": {
    "id": "6fAnQnTZfoyD"
   },
   "source": [
    "# 37. Convert a list to a dictionary where list elements become keys and their indices become values."
   ]
  },
  {
   "cell_type": "code",
   "execution_count": 30,
   "metadata": {
    "colab": {
     "base_uri": "https://localhost:8080/",
     "height": 227
    },
    "id": "WFkCu-PUlLbO",
    "outputId": "b764fbc5-df12-4306-e8d5-620003fa25c2"
   },
   "outputs": [
    {
     "name": "stdout",
     "output_type": "stream",
     "text": [
      "Converted dictionary: {'msexcel': 0, 'powerbi': 1, 'datascience': 2, 'webdev': 3, 'api': 4}\n"
     ]
    }
   ],
   "source": [
    "l = ['msexcel', 'powerbi', 'datascience', 'webdev', 'api']\n",
    "\n",
    "# Convert list to dictionary using dictionary comprehension\n",
    "my_dict = {element: index for index, element in enumerate(l)}\n",
    "\n",
    "# Print the resulting dictionary\n",
    "print(\"Converted dictionary:\", my_dict)"
   ]
  },
  {
   "cell_type": "markdown",
   "metadata": {
    "id": "rS4z0g1Tfqoy"
   },
   "source": [
    "# 38. Shuffle the elements of a list randomly."
   ]
  },
  {
   "cell_type": "code",
   "execution_count": 37,
   "metadata": {
    "colab": {
     "base_uri": "https://localhost:8080/"
    },
    "id": "eRSTcDuJlL92",
    "outputId": "b670206a-d105-4972-ce30-d0b272037905"
   },
   "outputs": [
    {
     "data": {
      "text/plain": [
       "[3, 1, 4, 5, 2]"
      ]
     },
     "execution_count": 37,
     "metadata": {},
     "output_type": "execute_result"
    }
   ],
   "source": [
    "import random\n",
    "l38=[1,2,3,4,5]\n",
    "random.shuffle(l38)\n",
    "l38"
   ]
  },
  {
   "cell_type": "markdown",
   "metadata": {
    "id": "Ubz184a8fscy"
   },
   "source": [
    "# 39. Create a list of the first 10 factorial numbers."
   ]
  },
  {
   "cell_type": "code",
   "execution_count": 71,
   "metadata": {
    "colab": {
     "base_uri": "https://localhost:8080/"
    },
    "id": "QQy2yDAylMbn",
    "outputId": "6856313d-0072-4f34-ea15-1b653ad7810c"
   },
   "outputs": [
    {
     "data": {
      "text/plain": [
       "[1, 2, 6, 24, 120, 720, 5040, 40320, 362880, 3628800]"
      ]
     },
     "execution_count": 71,
     "metadata": {},
     "output_type": "execute_result"
    }
   ],
   "source": [
    "l=[]\n",
    "for i in range(1,11):\n",
    "    fab=1\n",
    "    for j in range(1,i+1):\n",
    "        fab=fab*j\n",
    "    l.append(fab)\n",
    "l"
   ]
  },
  {
   "cell_type": "markdown",
   "metadata": {
    "id": "jMs7wyZifuKi"
   },
   "source": [
    "\n",
    "# 40. Check if two lists have at least one element in common."
   ]
  },
  {
   "cell_type": "code",
   "execution_count": 72,
   "metadata": {
    "colab": {
     "base_uri": "https://localhost:8080/"
    },
    "id": "YpmvxY3MlNB9",
    "outputId": "8f987199-0ba3-4a2f-cf4b-4c5d6dad4b1e"
   },
   "outputs": [
    {
     "name": "stdout",
     "output_type": "stream",
     "text": [
      "Yes common element\n"
     ]
    }
   ],
   "source": [
    "l=[1,2,3,4,5,6,7,8]\n",
    "l2=[0,0,'a','e',8]\n",
    "count=0\n",
    "for i in l2:\n",
    "    if i in l:\n",
    "        count=+1\n",
    "if count==0:\n",
    "    print(\"NO common element\")\n",
    "else:\n",
    "    print(\"Yes common element\")\n"
   ]
  },
  {
   "cell_type": "markdown",
   "metadata": {
    "id": "1cKUplkafwBu"
   },
   "source": [
    "#41. Remove all elements from a list."
   ]
  },
  {
   "cell_type": "code",
   "execution_count": 73,
   "metadata": {
    "colab": {
     "base_uri": "https://localhost:8080/"
    },
    "id": "PzpwadJMlNcP",
    "outputId": "2813ec22-a330-4bf4-e668-389ea595bf22"
   },
   "outputs": [
    {
     "name": "stdout",
     "output_type": "stream",
     "text": [
      "[]\n"
     ]
    }
   ],
   "source": [
    "l=[1,2,3,4]\n",
    "l.clear()\n",
    "print(l)"
   ]
  },
  {
   "cell_type": "markdown",
   "metadata": {
    "id": "SaB4WGL_fxw8"
   },
   "source": [
    "# 42. Replace negative numbers in a list with 0."
   ]
  },
  {
   "cell_type": "code",
   "execution_count": 74,
   "metadata": {
    "colab": {
     "base_uri": "https://localhost:8080/"
    },
    "id": "NQIflGsAlN8W",
    "outputId": "01e88c3d-3a70-4431-d4f9-f47f0492693a"
   },
   "outputs": [
    {
     "data": {
      "text/plain": [
       "[1, 0, 2, 0, 0]"
      ]
     },
     "execution_count": 74,
     "metadata": {},
     "output_type": "execute_result"
    }
   ],
   "source": [
    "l=[1,-1,2,-3,0]\n",
    "for i in l:\n",
    "    if i<=0:\n",
    "        l[l.index(i)]=0\n",
    "l"
   ]
  },
  {
   "cell_type": "markdown",
   "metadata": {
    "id": "91lJLdpafzpy"
   },
   "source": [
    "# 43. Convert a string into a list of words."
   ]
  },
  {
   "cell_type": "code",
   "execution_count": 38,
   "metadata": {
    "colab": {
     "base_uri": "https://localhost:8080/",
     "height": 210
    },
    "id": "aMB_JM2tlOSe",
    "outputId": "864683a3-e4b2-453e-93b3-122d6fb5ebdb"
   },
   "outputs": [
    {
     "data": {
      "text/plain": [
       "['My', 'name', 'is', 'Ramjee']"
      ]
     },
     "execution_count": 38,
     "metadata": {},
     "output_type": "execute_result"
    }
   ],
   "source": [
    "s=\"My name is Ramjee\"\n",
    "l=list(s.split())\n",
    "l"
   ]
  },
  {
   "cell_type": "markdown",
   "metadata": {
    "id": "UarzvFZsf1hN"
   },
   "source": [
    "# 44. Convert a list of words into a string."
   ]
  },
  {
   "cell_type": "code",
   "execution_count": 76,
   "metadata": {
    "colab": {
     "base_uri": "https://localhost:8080/"
    },
    "id": "Hehr1fedlOt2",
    "outputId": "7c3f0bed-3523-4dd1-8a0d-2fd352536525"
   },
   "outputs": [
    {
     "name": "stdout",
     "output_type": "stream",
     "text": [
      "az ab a cba\n"
     ]
    }
   ],
   "source": [
    "l=[\"az\",'ab','a','cba']\n",
    "print(\" \".join(l))"
   ]
  },
  {
   "cell_type": "markdown",
   "metadata": {
    "id": "tpLvDqkdkz6N"
   },
   "source": [
    "# 45. Create a list of the first `n` powers of 2."
   ]
  },
  {
   "cell_type": "code",
   "execution_count": 40,
   "metadata": {
    "colab": {
     "base_uri": "https://localhost:8080/"
    },
    "id": "nhJa8h63lPNW",
    "outputId": "0c3a1170-2e05-4c03-8ca9-fad43c63e5e5"
   },
   "outputs": [
    {
     "name": "stdout",
     "output_type": "stream",
     "text": [
      "Enter the nth num  3\n"
     ]
    },
    {
     "name": "stdout",
     "output_type": "stream",
     "text": [
      "[1, 4, 9]\n"
     ]
    }
   ],
   "source": [
    "n=int(input(\"Enter the nth num \") )\n",
    "l=[]\n",
    "for i in range(1,n+1):\n",
    "    l.append(i**2)\n",
    "print(l)"
   ]
  },
  {
   "cell_type": "markdown",
   "metadata": {
    "id": "k6rjL7Wqk2MR"
   },
   "source": [
    "\n",
    "# 46. Find the longest string in a list of strings."
   ]
  },
  {
   "cell_type": "code",
   "execution_count": 79,
   "metadata": {
    "colab": {
     "base_uri": "https://localhost:8080/"
    },
    "id": "weIYDxcolPlX",
    "outputId": "231514f8-4b73-4779-a728-e393cfc70af6"
   },
   "outputs": [
    {
     "name": "stdout",
     "output_type": "stream",
     "text": [
      "cba\n"
     ]
    }
   ],
   "source": [
    "l=[\"az\",'ab','a','cba']\n",
    "l.sort(reverse=True)\n",
    "print(l[0])"
   ]
  },
  {
   "cell_type": "markdown",
   "metadata": {
    "id": "3fC3yflLk2Yg"
   },
   "source": [
    "#47. Find the shortest string in a list of strings."
   ]
  },
  {
   "cell_type": "code",
   "execution_count": 80,
   "metadata": {
    "colab": {
     "base_uri": "https://localhost:8080/"
    },
    "id": "MVSUxq_olQF_",
    "outputId": "0ce1f923-ffd2-4764-bb82-f4b09e0a84c8"
   },
   "outputs": [
    {
     "name": "stdout",
     "output_type": "stream",
     "text": [
      "a\n"
     ]
    }
   ],
   "source": [
    "l=[\"az\",'ab','a','cba']\n",
    "l.sort(reverse=True)\n",
    "print(l[-1])"
   ]
  },
  {
   "cell_type": "markdown",
   "metadata": {
    "id": "WkUOxPmIk2VB"
   },
   "source": [
    "# 48. Create a list of the first `n` triangular numbers."
   ]
  },
  {
   "cell_type": "code",
   "execution_count": 81,
   "metadata": {
    "colab": {
     "base_uri": "https://localhost:8080/"
    },
    "id": "d5TGZ7nTlQt9",
    "outputId": "2f063add-9268-4cd6-b052-b136359141e5"
   },
   "outputs": [
    {
     "name": "stdout",
     "output_type": "stream",
     "text": [
      "Enter the nth nuber3\n",
      "[1, 3, 6]\n"
     ]
    }
   ],
   "source": [
    "n=int(input(\"Enter the nth nuber\"))\n",
    "l=[]\n",
    "sum=0\n",
    "for i in range(1,n+1):\n",
    "    sum=sum+i\n",
    "    l.append(sum)\n",
    "print(l)"
   ]
  },
  {
   "cell_type": "markdown",
   "metadata": {
    "id": "C2nrSGc5k2bm"
   },
   "source": [
    "\n",
    "# 49. Check if a list contains another list as a subsequence."
   ]
  },
  {
   "cell_type": "code",
   "execution_count": 82,
   "metadata": {
    "colab": {
     "base_uri": "https://localhost:8080/"
    },
    "id": "-HEkS8-slRP0",
    "outputId": "28dce860-3e53-4cc2-8e80-ddca8a90bb5e"
   },
   "outputs": [
    {
     "name": "stdout",
     "output_type": "stream",
     "text": [
      "NO list\n"
     ]
    }
   ],
   "source": [
    "l=[1,[1,2],3]\n",
    "count=0\n",
    "for i in range(len(l)):\n",
    "    if type(l[i]) is list:\n",
    "        count=+1\n",
    "if count==0:\n",
    "    print(\"NO list\")\n",
    "else:\n",
    "    print(\"Yes it contain list\")"
   ]
  },
  {
   "cell_type": "markdown",
   "metadata": {
    "id": "YvwV7F2Ek2eU"
   },
   "source": [
    "# 50. Swap two elements in a list by their indices."
   ]
  },
  {
   "cell_type": "code",
   "execution_count": 83,
   "metadata": {
    "colab": {
     "base_uri": "https://localhost:8080/"
    },
    "id": "ebIT_9NdlRx2",
    "outputId": "ee78f7fe-d510-4eb0-efe4-ab4c8425dcb7"
   },
   "outputs": [
    {
     "name": "stdout",
     "output_type": "stream",
     "text": [
      "[2, 1, 3, 4, 5]\n"
     ]
    }
   ],
   "source": [
    "l=[1,2,3,4,5]\n",
    "l[0]=l[0]+l[1]\n",
    "l[1]=l[0]-l[1]\n",
    "l[0]=l[0]-l[1]\n",
    "print(l)"
   ]
  },
  {
   "cell_type": "markdown",
   "metadata": {
    "id": "s7Mz2QFkk2hI"
   },
   "source": [
    "## Tuple Based Practice Problem :"
   ]
  },
  {
   "cell_type": "markdown",
   "metadata": {
    "id": "Vmqwu15qk2m7"
   },
   "source": [
    "# 1. Create a tuple with integers from 1 to 5."
   ]
  },
  {
   "cell_type": "code",
   "execution_count": 42,
   "metadata": {
    "colab": {
     "base_uri": "https://localhost:8080/"
    },
    "id": "hVtPjm73o_1P",
    "outputId": "54c43047-89ec-454d-c923-623a877727b1"
   },
   "outputs": [
    {
     "name": "stdout",
     "output_type": "stream",
     "text": [
      "(1, 2, 3, 4, 5)\n"
     ]
    }
   ],
   "source": [
    "t=(1,2,3,4,5)\n",
    "print(t)"
   ]
  },
  {
   "cell_type": "markdown",
   "metadata": {
    "id": "fESP_IGEk2qA"
   },
   "source": [
    "\n",
    "# 2. Access the third element of a tuple."
   ]
  },
  {
   "cell_type": "code",
   "execution_count": 43,
   "metadata": {
    "colab": {
     "base_uri": "https://localhost:8080/",
     "height": 193
    },
    "id": "s67RWJV6pASR",
    "outputId": "64cbf06d-01f9-4d37-cf48-e1d642de1db0"
   },
   "outputs": [
    {
     "name": "stdout",
     "output_type": "stream",
     "text": [
      "3\n"
     ]
    }
   ],
   "source": [
    "t=(1,2,3,4,5)\n",
    "print(list(t)[2])"
   ]
  },
  {
   "cell_type": "markdown",
   "metadata": {
    "id": "wlDI8Lfqk2tD"
   },
   "source": [
    "# 3. Find the length of a tuple without using the `len()` function."
   ]
  },
  {
   "cell_type": "code",
   "execution_count": 44,
   "metadata": {
    "colab": {
     "base_uri": "https://localhost:8080/"
    },
    "id": "n-2wF_EFpAuO",
    "outputId": "64c0fea4-6eb5-451e-9727-572ae09eccee"
   },
   "outputs": [
    {
     "data": {
      "text/plain": [
       "5"
      ]
     },
     "execution_count": 44,
     "metadata": {},
     "output_type": "execute_result"
    }
   ],
   "source": [
    "t=(1,2,3,4,5)\n",
    "count=0\n",
    "for i in t:\n",
    "    count=count+1\n",
    "count"
   ]
  },
  {
   "cell_type": "markdown",
   "metadata": {
    "id": "k2LxJBELlhK-"
   },
   "source": [
    "\n",
    "#4. Count the occurrences of an element in a tuple."
   ]
  },
  {
   "cell_type": "code",
   "execution_count": 46,
   "metadata": {
    "colab": {
     "base_uri": "https://localhost:8080/"
    },
    "id": "xb97YUefpBJH",
    "outputId": "c85d6687-1216-435d-8495-ffcc4b560b87"
   },
   "outputs": [
    {
     "name": "stdout",
     "output_type": "stream",
     "text": [
      "Enter the element  2\n"
     ]
    },
    {
     "name": "stdout",
     "output_type": "stream",
     "text": [
      "1\n"
     ]
    }
   ],
   "source": [
    "t=(1,2,3,4,5,6,7,8,9,22,1,3,4,56)\n",
    "co=int(input(\"Enter the element \"))\n",
    "print(t.count(co))"
   ]
  },
  {
   "cell_type": "markdown",
   "metadata": {
    "id": "KJYfMGXiljNt"
   },
   "source": [
    "#5. Find the index of the first occurrence of an element in a tuple."
   ]
  },
  {
   "cell_type": "code",
   "execution_count": 47,
   "metadata": {
    "colab": {
     "base_uri": "https://localhost:8080/"
    },
    "id": "df7IDQUMpBnn",
    "outputId": "085000ab-744d-4fa1-8643-2a1f34d5e932"
   },
   "outputs": [
    {
     "name": "stdout",
     "output_type": "stream",
     "text": [
      "Enter the element  5\n"
     ]
    },
    {
     "name": "stdout",
     "output_type": "stream",
     "text": [
      "4\n"
     ]
    }
   ],
   "source": [
    "t=(1,2,3,4,5,6,7,8,9,22,1,3,4,56)\n",
    "co=int(input(\"Enter the element \"))\n",
    "print(t.index(co))"
   ]
  },
  {
   "cell_type": "markdown",
   "metadata": {
    "id": "3Wr4MnH9lnZu"
   },
   "source": [
    "\n",
    "# 6. Check if an element exists in a tuple."
   ]
  },
  {
   "cell_type": "code",
   "execution_count": 48,
   "metadata": {
    "colab": {
     "base_uri": "https://localhost:8080/"
    },
    "id": "ERjLyh4UpB-Q",
    "outputId": "e66f1422-25d4-40fe-c08c-39413c862caf"
   },
   "outputs": [
    {
     "name": "stdout",
     "output_type": "stream",
     "text": [
      "Entere the check element 3\n"
     ]
    },
    {
     "name": "stdout",
     "output_type": "stream",
     "text": [
      "Yes\n"
     ]
    }
   ],
   "source": [
    "t=(1,2,3,4,5)\n",
    "c=int(input(\"Entere the check element\"))\n",
    "if c in t:\n",
    "    print(\"Yes\")\n",
    "else:\n",
    "    print(\"No\")"
   ]
  },
  {
   "cell_type": "markdown",
   "metadata": {
    "id": "WTVgiSHclo8_"
   },
   "source": [
    "\n",
    "# 7. Convert a tuple to a list."
   ]
  },
  {
   "cell_type": "code",
   "execution_count": 50,
   "metadata": {
    "colab": {
     "base_uri": "https://localhost:8080/",
     "height": 227
    },
    "id": "-XvQRWJfpCau",
    "outputId": "ff1ad8ad-3130-498d-a6b5-e1875146b25b"
   },
   "outputs": [
    {
     "name": "stdout",
     "output_type": "stream",
     "text": [
      "[1, 2, 3, 4, 5]\n"
     ]
    }
   ],
   "source": [
    "t=(1,2,3,4,5)\n",
    "l=list(t)\n",
    "print(l)\n"
   ]
  },
  {
   "cell_type": "markdown",
   "metadata": {
    "id": "73PO5Jz9lq_z"
   },
   "source": [
    "#8. Convert a list to a tuple."
   ]
  },
  {
   "cell_type": "code",
   "execution_count": 51,
   "metadata": {
    "colab": {
     "base_uri": "https://localhost:8080/"
    },
    "id": "V2B3w7cypC7F",
    "outputId": "2457d20c-b123-4e7c-f9d6-d4901c4b6cef"
   },
   "outputs": [
    {
     "name": "stdout",
     "output_type": "stream",
     "text": [
      "(1, 2, 3, 4, 5)\n"
     ]
    }
   ],
   "source": [
    "l=[1,2,3,4,5]\n",
    "t=tuple(l)\n",
    "print(t)"
   ]
  },
  {
   "cell_type": "markdown",
   "metadata": {
    "id": "nn3iUAM0ltCP"
   },
   "source": [
    "#9. Unpack the elements of a tuple into variables."
   ]
  },
  {
   "cell_type": "code",
   "execution_count": 53,
   "metadata": {
    "colab": {
     "base_uri": "https://localhost:8080/"
    },
    "id": "nLmjPNttpDYX",
    "outputId": "2833a3fa-3b80-4e50-8e27-d7a716885399"
   },
   "outputs": [
    {
     "name": "stdout",
     "output_type": "stream",
     "text": [
      "Ramjee\n",
      "37\n",
      "DC\n",
      "1\n",
      "[2, 3, 4, 5, 6, 7, 8]\n",
      "9\n"
     ]
    }
   ],
   "source": [
    "t=(\"Ramjee\",37,\"DC\")\n",
    "# In right hand side is packing and left hand side is unpacking\n",
    "(Name,age,Course)=t\n",
    "print(Name)\n",
    "print(age)\n",
    "print(Course)\n",
    "\n",
    "# Another way do that\n",
    "t=[1,2,3,4,5,6,7,8,9]\n",
    "# that means a and c hold only 1 elemt but *b are hold all left element in tuple\n",
    "(a,*b,c)=t\n",
    "print(a)\n",
    "print(b)\n",
    "print(c)"
   ]
  },
  {
   "cell_type": "markdown",
   "metadata": {
    "id": "XEqltyJalvZ2"
   },
   "source": [
    "# 10. Create a tuple of even numbers from 1 to 10."
   ]
  },
  {
   "cell_type": "code",
   "execution_count": 54,
   "metadata": {
    "id": "7CpDv7LBpD0W"
   },
   "outputs": [
    {
     "name": "stdout",
     "output_type": "stream",
     "text": [
      "(2, 4, 6, 8, 10)\n"
     ]
    }
   ],
   "source": [
    "l=[]\n",
    "for i in range(2,11):\n",
    "    if(i%2==0):\n",
    "        l.append(i)\n",
    "print(tuple(l))"
   ]
  },
  {
   "cell_type": "markdown",
   "metadata": {
    "id": "bDs3iATslxIn"
   },
   "source": [
    "\n",
    "#11. Create a tuple of odd numbers from 1 to 10."
   ]
  },
  {
   "cell_type": "code",
   "execution_count": 55,
   "metadata": {
    "id": "GE0U96DCpETD"
   },
   "outputs": [
    {
     "name": "stdout",
     "output_type": "stream",
     "text": [
      "(1, 3, 5, 7, 9)\n"
     ]
    }
   ],
   "source": [
    "l=[]\n",
    "for i in range(1,11):\n",
    "    if(i%2!=0):\n",
    "        l.append(i)\n",
    "print(tuple(l))"
   ]
  },
  {
   "cell_type": "markdown",
   "metadata": {
    "id": "Dm3ziqmGlyup"
   },
   "source": [
    "\n",
    "#12. Concatenate two tuples."
   ]
  },
  {
   "cell_type": "code",
   "execution_count": 56,
   "metadata": {
    "id": "ba3scQE7pE2H"
   },
   "outputs": [
    {
     "name": "stdout",
     "output_type": "stream",
     "text": [
      "(1, 2, 3, 4, 5)\n"
     ]
    }
   ],
   "source": [
    "t=(1,2,3)\n",
    "t2=(4,5)\n",
    "print(t+t2)"
   ]
  },
  {
   "cell_type": "markdown",
   "metadata": {
    "id": "Cgi5TlwEl1GG"
   },
   "source": [
    "\n",
    "# 13. Repeat a tuple three times."
   ]
  },
  {
   "cell_type": "code",
   "execution_count": 57,
   "metadata": {
    "id": "3hrOr6hypFUt"
   },
   "outputs": [
    {
     "name": "stdout",
     "output_type": "stream",
     "text": [
      "(1, 2, 3, 4, 5, 1, 2, 3, 4, 5, 1, 2, 3, 4, 5)\n"
     ]
    }
   ],
   "source": [
    "t=(1,2,3,4,5)\n",
    "print(t*3)"
   ]
  },
  {
   "cell_type": "markdown",
   "metadata": {
    "id": "Qzwla0psl27V"
   },
   "source": [
    "\n",
    "#14. Check if a tuple is empty."
   ]
  },
  {
   "cell_type": "code",
   "execution_count": 58,
   "metadata": {
    "id": "IRNaW6ZjpF4P"
   },
   "outputs": [
    {
     "name": "stdout",
     "output_type": "stream",
     "text": [
      "<class 'tuple'>\n",
      "Not Empty\n"
     ]
    }
   ],
   "source": [
    "t=(1,2)\n",
    "print(type(t))\n",
    "if len(t)==0:\n",
    "    print(\"Empty\")\n",
    "else:\n",
    "    print(\"Not Empty\")"
   ]
  },
  {
   "cell_type": "markdown",
   "metadata": {
    "id": "tOAFzcwEl4ss"
   },
   "source": [
    "# 15. Create a nested tuple."
   ]
  },
  {
   "cell_type": "code",
   "execution_count": 60,
   "metadata": {
    "id": "C0Ni_uUnpGTw"
   },
   "outputs": [
    {
     "name": "stdout",
     "output_type": "stream",
     "text": [
      "(1, 2, (3, 4))\n"
     ]
    }
   ],
   "source": [
    "t=(1,2,(3,4))\n",
    "print(t)\n"
   ]
  },
  {
   "cell_type": "markdown",
   "metadata": {
    "id": "sWkf2O3jl6Xa"
   },
   "source": [
    "#16. Access the first element of a nested tuple."
   ]
  },
  {
   "cell_type": "code",
   "execution_count": 61,
   "metadata": {
    "id": "D1GGw2uEpGtu"
   },
   "outputs": [
    {
     "name": "stdout",
     "output_type": "stream",
     "text": [
      "4\n"
     ]
    }
   ],
   "source": [
    "t=[1,2,[3,4],5]\n",
    "l=list(t)\n",
    "print(l[2][1])"
   ]
  },
  {
   "cell_type": "markdown",
   "metadata": {
    "id": "YUZ-jIckl78O"
   },
   "source": [
    "#17. Create a tuple with a single element."
   ]
  },
  {
   "cell_type": "code",
   "execution_count": 62,
   "metadata": {
    "id": "sJ-BxPDFpHXP"
   },
   "outputs": [
    {
     "name": "stdout",
     "output_type": "stream",
     "text": [
      "<class 'tuple'>\n"
     ]
    }
   ],
   "source": [
    "t=tuple('1')\n",
    "print(type(t))"
   ]
  },
  {
   "cell_type": "markdown",
   "metadata": {
    "id": "Wk5sM4tel9qu"
   },
   "source": [
    "#18. Compare two tuples."
   ]
  },
  {
   "cell_type": "code",
   "execution_count": 63,
   "metadata": {
    "id": "YMK52FgRpIP3"
   },
   "outputs": [
    {
     "name": "stdout",
     "output_type": "stream",
     "text": [
      "Equal\n"
     ]
    }
   ],
   "source": [
    "t=[1,2,3,4,5]\n",
    "t1=[1,2,3,4,5]\n",
    "if t==t1:\n",
    "    print(\"Equal\")\n",
    "else:\n",
    "    print(\"Not Equal\")"
   ]
  },
  {
   "cell_type": "markdown",
   "metadata": {
    "id": "DQXSanfWmBLO"
   },
   "source": [
    "#19. Delete a tuple."
   ]
  },
  {
   "cell_type": "code",
   "execution_count": 64,
   "metadata": {
    "id": "MFIfBvYCpIqz"
   },
   "outputs": [
    {
     "ename": "NameError",
     "evalue": "name 't' is not defined",
     "output_type": "error",
     "traceback": [
      "\u001b[0;31m---------------------------------------------------------------------------\u001b[0m",
      "\u001b[0;31mNameError\u001b[0m                                 Traceback (most recent call last)",
      "Cell \u001b[0;32mIn[64], line 3\u001b[0m\n\u001b[1;32m      1\u001b[0m t\u001b[38;5;241m=\u001b[39m(\u001b[38;5;241m1\u001b[39m,\u001b[38;5;241m2\u001b[39m,\u001b[38;5;241m3\u001b[39m,\u001b[38;5;241m4\u001b[39m,\u001b[38;5;241m5\u001b[39m)\n\u001b[1;32m      2\u001b[0m \u001b[38;5;28;01mdel\u001b[39;00m t\n\u001b[0;32m----> 3\u001b[0m \u001b[38;5;28mprint\u001b[39m(\u001b[43mt\u001b[49m)\n",
      "\u001b[0;31mNameError\u001b[0m: name 't' is not defined"
     ]
    }
   ],
   "source": [
    "t=(1,2,3,4,5)\n",
    "del t\n",
    "print(t)"
   ]
  },
  {
   "cell_type": "markdown",
   "metadata": {
    "id": "j6VWn_V3mDTu"
   },
   "source": [
    "\n",
    "#20. Slice a tuple."
   ]
  },
  {
   "cell_type": "code",
   "execution_count": 65,
   "metadata": {
    "id": "faGXX7P2pJIf"
   },
   "outputs": [
    {
     "name": "stdout",
     "output_type": "stream",
     "text": [
      "1\n",
      "2\n",
      "3\n",
      "4\n",
      "5\n"
     ]
    }
   ],
   "source": [
    "t=(1,2,3,4,5)\n",
    "for i in range(len(t)):\n",
    "    print(t[i])"
   ]
  },
  {
   "cell_type": "markdown",
   "metadata": {
    "id": "-E9vF7dcmE2Y"
   },
   "source": [
    "#21. Find the maximum value in a tuple."
   ]
  },
  {
   "cell_type": "code",
   "execution_count": 66,
   "metadata": {
    "id": "ki6egH49pJnI"
   },
   "outputs": [
    {
     "name": "stdout",
     "output_type": "stream",
     "text": [
      "5\n"
     ]
    }
   ],
   "source": [
    "t=(1,2,3,4,5)\n",
    "print(max(t))"
   ]
  },
  {
   "cell_type": "markdown",
   "metadata": {
    "id": "PhsYWbRjmGxu"
   },
   "source": [
    "#22. Find the minimum value in a tuple."
   ]
  },
  {
   "cell_type": "code",
   "execution_count": 67,
   "metadata": {
    "id": "DdwyAgDQpKAu"
   },
   "outputs": [
    {
     "name": "stdout",
     "output_type": "stream",
     "text": [
      "1\n"
     ]
    }
   ],
   "source": [
    "t=(1,2,3,4,5)\n",
    "print(min(t))"
   ]
  },
  {
   "cell_type": "markdown",
   "metadata": {
    "id": "_e09efPXmIs1"
   },
   "source": [
    "#23. Convert a string to a tuple of characters."
   ]
  },
  {
   "cell_type": "code",
   "execution_count": 69,
   "metadata": {
    "id": "ZfjyhM8mpKfb"
   },
   "outputs": [
    {
     "name": "stdout",
     "output_type": "stream",
     "text": [
      "<class 'tuple'>\n",
      "('P', 'W', 'S', 'K', 'I', 'L', 'L', 'S')\n"
     ]
    }
   ],
   "source": [
    "str=\"PWSKILLS\"\n",
    "t=tuple(str)\n",
    "print(type(t))\n",
    "print(t)"
   ]
  },
  {
   "cell_type": "markdown",
   "metadata": {
    "id": "89GH4OOnmKZO"
   },
   "source": [
    "#24. Convert a tuple of characters to a string."
   ]
  },
  {
   "cell_type": "code",
   "execution_count": 70,
   "metadata": {
    "id": "hKX0_lf0pK5b"
   },
   "outputs": [
    {
     "name": "stdout",
     "output_type": "stream",
     "text": [
      "I AM LEARNING PYTHON\n"
     ]
    }
   ],
   "source": [
    "st=\"I AM LEARNING PYTHON\"\n",
    "t=tuple(st)\n",
    "print(\"\".join(t))"
   ]
  },
  {
   "cell_type": "markdown",
   "metadata": {
    "id": "ZbTRsKz0mMDu"
   },
   "source": [
    "#25. Create a tuple from multiple data types."
   ]
  },
  {
   "cell_type": "code",
   "execution_count": 71,
   "metadata": {
    "id": "_IiD64IqpLRW"
   },
   "outputs": [
    {
     "name": "stdout",
     "output_type": "stream",
     "text": [
      "<class 'tuple'>\n",
      "<class 'tuple'>\n"
     ]
    }
   ],
   "source": [
    "l=[1,2,3]\n",
    "s=\"PWSKILSS\"\n",
    "t=tuple(l)\n",
    "t1=tuple(s)\n",
    "print(type(t))\n",
    "print(type(t1))"
   ]
  },
  {
   "cell_type": "markdown",
   "metadata": {
    "id": "rI-8DK05mNso"
   },
   "source": [
    "\n",
    "#26. Check if two tuples are identical."
   ]
  },
  {
   "cell_type": "code",
   "execution_count": 72,
   "metadata": {
    "id": "XPGfBv0GpLzn"
   },
   "outputs": [
    {
     "name": "stdout",
     "output_type": "stream",
     "text": [
      "t and t1 is identical\n",
      "t and t3 are not identical\n"
     ]
    }
   ],
   "source": [
    "t=(1,2,3,4,5)\n",
    "t1=(1,2,3,4,5)\n",
    "t3=(1,2,3,5,4)\n",
    "if t1==t:\n",
    "    print(\"t and t1 is identical\")\n",
    "else:\n",
    "    print(\"t and t1 are not identical\")\n",
    "if t==t3:\n",
    "    print(\"t and t3 are identical\")\n",
    "else:\n",
    "    print(\"t and t3 are not identical\")"
   ]
  },
  {
   "cell_type": "markdown",
   "metadata": {
    "id": "sMnKxgT9mPc_"
   },
   "source": [
    "#27. Sort the elements of a tuple."
   ]
  },
  {
   "cell_type": "code",
   "execution_count": 73,
   "metadata": {
    "id": "lWXbedlcpMTg"
   },
   "outputs": [
    {
     "name": "stdout",
     "output_type": "stream",
     "text": [
      "[1, 1, 2, 2, 3, 3, 4, 5]\n"
     ]
    }
   ],
   "source": [
    "t=(1,2,3,4,5,1,2,3)\n",
    "l=list(t)\n",
    "l.sort()\n",
    "t1=l\n",
    "print(t1)"
   ]
  },
  {
   "cell_type": "markdown",
   "metadata": {
    "id": "vpWheSV-mRIt"
   },
   "source": [
    "#28. Convert a tuple of integers to a tuple of strings."
   ]
  },
  {
   "cell_type": "code",
   "execution_count": 80,
   "metadata": {
    "id": "6vtBBbfxpMre"
   },
   "outputs": [
    {
     "ename": "TypeError",
     "evalue": "'str' object is not callable",
     "output_type": "error",
     "traceback": [
      "\u001b[0;31m---------------------------------------------------------------------------\u001b[0m",
      "\u001b[0;31mTypeError\u001b[0m                                 Traceback (most recent call last)",
      "Cell \u001b[0;32mIn[80], line 5\u001b[0m\n\u001b[1;32m      2\u001b[0m int_tuple \u001b[38;5;241m=\u001b[39m (\u001b[38;5;241m1\u001b[39m, \u001b[38;5;241m2\u001b[39m, \u001b[38;5;241m3\u001b[39m, \u001b[38;5;241m4\u001b[39m, \u001b[38;5;241m5\u001b[39m)\n\u001b[1;32m      4\u001b[0m \u001b[38;5;66;03m# Use a list comprehension to convert integers to strings and create a new tuple\u001b[39;00m\n\u001b[0;32m----> 5\u001b[0m str_tuple \u001b[38;5;241m=\u001b[39m \u001b[38;5;28;43mtuple\u001b[39;49m\u001b[43m(\u001b[49m\u001b[38;5;28;43mstr\u001b[39;49m\u001b[43m(\u001b[49m\u001b[43mnum\u001b[49m\u001b[43m)\u001b[49m\u001b[43m \u001b[49m\u001b[38;5;28;43;01mfor\u001b[39;49;00m\u001b[43m \u001b[49m\u001b[43mnum\u001b[49m\u001b[43m \u001b[49m\u001b[38;5;129;43;01min\u001b[39;49;00m\u001b[43m \u001b[49m\u001b[43mint_tuple\u001b[49m\u001b[43m)\u001b[49m\n\u001b[1;32m      7\u001b[0m \u001b[38;5;28mprint\u001b[39m(\u001b[38;5;124m\"\u001b[39m\u001b[38;5;124mTuple of strings:\u001b[39m\u001b[38;5;124m\"\u001b[39m, str_tuple)\n",
      "Cell \u001b[0;32mIn[80], line 5\u001b[0m, in \u001b[0;36m<genexpr>\u001b[0;34m(.0)\u001b[0m\n\u001b[1;32m      2\u001b[0m int_tuple \u001b[38;5;241m=\u001b[39m (\u001b[38;5;241m1\u001b[39m, \u001b[38;5;241m2\u001b[39m, \u001b[38;5;241m3\u001b[39m, \u001b[38;5;241m4\u001b[39m, \u001b[38;5;241m5\u001b[39m)\n\u001b[1;32m      4\u001b[0m \u001b[38;5;66;03m# Use a list comprehension to convert integers to strings and create a new tuple\u001b[39;00m\n\u001b[0;32m----> 5\u001b[0m str_tuple \u001b[38;5;241m=\u001b[39m \u001b[38;5;28mtuple\u001b[39m(\u001b[38;5;28;43mstr\u001b[39;49m\u001b[43m(\u001b[49m\u001b[43mnum\u001b[49m\u001b[43m)\u001b[49m \u001b[38;5;28;01mfor\u001b[39;00m num \u001b[38;5;129;01min\u001b[39;00m int_tuple)\n\u001b[1;32m      7\u001b[0m \u001b[38;5;28mprint\u001b[39m(\u001b[38;5;124m\"\u001b[39m\u001b[38;5;124mTuple of strings:\u001b[39m\u001b[38;5;124m\"\u001b[39m, str_tuple)\n",
      "\u001b[0;31mTypeError\u001b[0m: 'str' object is not callable"
     ]
    }
   ],
   "source": [
    "# Original tuple of integers\n",
    "int_tuple = (1, 2, 3, 4, 5)\n",
    "\n",
    "# Use a list comprehension to convert integers to strings and create a new tuple\n",
    "str_tuple = tuple(str(num) for num in int_tuple)\n",
    "\n",
    "print(\"Tuple of strings:\", str_tuple)\n"
   ]
  },
  {
   "cell_type": "markdown",
   "metadata": {
    "id": "HV6sXXQwmS_4"
   },
   "source": [
    "\n",
    "#29. Convert a tuple of strings to a tuple of integers."
   ]
  },
  {
   "cell_type": "code",
   "execution_count": 81,
   "metadata": {
    "id": "1ayrTjJmpNMG"
   },
   "outputs": [
    {
     "name": "stdout",
     "output_type": "stream",
     "text": [
      "(1, 2)\n"
     ]
    }
   ],
   "source": [
    "a=('1','2')\n",
    "a=tuple(map(int,a))\n",
    "print(a)"
   ]
  },
  {
   "cell_type": "markdown",
   "metadata": {
    "id": "D8mTiaekmU9O"
   },
   "source": [
    "#30. Merge two tuples."
   ]
  },
  {
   "cell_type": "code",
   "execution_count": 82,
   "metadata": {
    "id": "6Bkc7PptpNi3"
   },
   "outputs": [
    {
     "name": "stdout",
     "output_type": "stream",
     "text": [
      "(1, 2, 3, 4, 5)\n"
     ]
    }
   ],
   "source": [
    "t=(1,2,3)\n",
    "t1=(4,5)\n",
    "t2=t+t1\n",
    "print(t2)"
   ]
  },
  {
   "cell_type": "markdown",
   "metadata": {
    "id": "RFPFx_TMmWcm"
   },
   "source": [
    "#31. Flatten a nested tuple."
   ]
  },
  {
   "cell_type": "code",
   "execution_count": 83,
   "metadata": {
    "id": "UdfuHYGbpN5f"
   },
   "outputs": [
    {
     "name": "stdout",
     "output_type": "stream",
     "text": [
      "[1, 2, 3, 4, 5]\n"
     ]
    }
   ],
   "source": [
    "t=(1,2,(3,4),5)\n",
    "l=list(t)\n",
    "l1=[]\n",
    "for i in range(len(t)):\n",
    "    if type(l[i])== tuple:\n",
    "        l1.extend(l[i])\n",
    "    else:\n",
    "        l1.append(l[i])\n",
    "print(l1)"
   ]
  },
  {
   "cell_type": "markdown",
   "metadata": {
    "id": "WedUS2PSmYOn"
   },
   "source": [
    "#32. Create a tuple of the first 5 prime numbers."
   ]
  },
  {
   "cell_type": "code",
   "execution_count": 84,
   "metadata": {
    "id": "x1rhlG2upOb-"
   },
   "outputs": [
    {
     "name": "stdout",
     "output_type": "stream",
     "text": [
      "(2, 3, 5)\n"
     ]
    }
   ],
   "source": [
    "l=[]\n",
    "for i in range(2,6):\n",
    "    count=0\n",
    "    for j in range(2,i):\n",
    "        if i%j==0:\n",
    "            count=+1\n",
    "    if count==0:\n",
    "        l.append(i)\n",
    "t=tuple(l)\n",
    "print(t)"
   ]
  },
  {
   "cell_type": "markdown",
   "metadata": {
    "id": "FWrjYF9LmZsA"
   },
   "source": [
    "\n",
    "#33. Check if a tuple is a palindrome."
   ]
  },
  {
   "cell_type": "code",
   "execution_count": 85,
   "metadata": {
    "id": "SAN6MJe5pO4m"
   },
   "outputs": [
    {
     "name": "stdout",
     "output_type": "stream",
     "text": [
      "True\n"
     ]
    }
   ],
   "source": [
    "t=(1,2,1)\n",
    "l=list(t)\n",
    "l.reverse()\n",
    "t1=tuple(l)\n",
    "print(t1==t)"
   ]
  },
  {
   "cell_type": "markdown",
   "metadata": {
    "id": "TZ9tJm7Imbq2"
   },
   "source": [
    "\n",
    "#34. Create a tuple of squares of numbers from 1 to 5."
   ]
  },
  {
   "cell_type": "code",
   "execution_count": 86,
   "metadata": {
    "id": "caQgrgqwpPWh"
   },
   "outputs": [
    {
     "name": "stdout",
     "output_type": "stream",
     "text": [
      "(1, 4, 9, 16, 25)\n"
     ]
    }
   ],
   "source": [
    "tup = ()\n",
    "for i in range(1,6):\n",
    "    tup = tup + (i**2,)\n",
    "# In concatinate function only same data type conacte\n",
    "print(tup)"
   ]
  },
  {
   "cell_type": "markdown",
   "metadata": {
    "id": "eLJpAjs3mdOW"
   },
   "source": [
    "\n",
    "#35. Filter out all even numbers from a tuple."
   ]
  },
  {
   "cell_type": "code",
   "execution_count": 87,
   "metadata": {
    "id": "DT-Qoe6lpP9G"
   },
   "outputs": [
    {
     "data": {
      "text/plain": [
       "[2, 4]"
      ]
     },
     "execution_count": 87,
     "metadata": {},
     "output_type": "execute_result"
    }
   ],
   "source": [
    "t=(1,2,3,4,5)\n",
    "l=list(t)\n",
    "l1=[]\n",
    "for i in l:\n",
    "    if(i%2==0):\n",
    "        l1.append(i)\n",
    "l1"
   ]
  },
  {
   "cell_type": "markdown",
   "metadata": {
    "id": "RzNxpC_Yme7-"
   },
   "source": [
    "#36. Multiply all elements in a tuple by 2."
   ]
  },
  {
   "cell_type": "code",
   "execution_count": 88,
   "metadata": {
    "id": "Ma6h3vKEpQT-"
   },
   "outputs": [
    {
     "data": {
      "text/plain": [
       "(2, 4, 6)"
      ]
     },
     "execution_count": 88,
     "metadata": {},
     "output_type": "execute_result"
    }
   ],
   "source": [
    "t=[1,2,3]\n",
    "l=list(t)\n",
    "l1=[]\n",
    "for i in l:\n",
    "    l1.append(i*2)\n",
    "t1=tuple(l1)\n",
    "t1"
   ]
  },
  {
   "cell_type": "markdown",
   "metadata": {
    "id": "R3eOj56Mmg03"
   },
   "source": [
    "\n",
    "#37. Create a tuple of random numbers."
   ]
  },
  {
   "cell_type": "code",
   "execution_count": 89,
   "metadata": {
    "id": "YO-qwcy-pRmg"
   },
   "outputs": [
    {
     "name": "stdout",
     "output_type": "stream",
     "text": [
      "How many number in the tuple 5\n"
     ]
    },
    {
     "name": "stdout",
     "output_type": "stream",
     "text": [
      "(61, 55, 86, 76, 69)\n"
     ]
    }
   ],
   "source": [
    "import random\n",
    "t=()\n",
    "n=int(input(\"How many number in the tuple\"))\n",
    "for i in range(n):\n",
    "    t=t+(random.randint(1,100),)\n",
    "print(t)"
   ]
  },
  {
   "cell_type": "markdown",
   "metadata": {
    "id": "2ceF-7gJmiYw"
   },
   "source": [
    "\n",
    "#38. Check if a tuple is sorted."
   ]
  },
  {
   "cell_type": "code",
   "execution_count": 90,
   "metadata": {
    "id": "zE_AYy8GpSCv"
   },
   "outputs": [
    {
     "name": "stdout",
     "output_type": "stream",
     "text": [
      "No sorted\n"
     ]
    }
   ],
   "source": [
    "t=(1,2,3,4,5,1)\n",
    "l=list(t)\n",
    "l.sort()\n",
    "t1=tuple(l)\n",
    "if(t==t1):\n",
    "    print(\"Yes, sorted\")\n",
    "else:\n",
    "    print(\"No sorted\")"
   ]
  },
  {
   "cell_type": "markdown",
   "metadata": {
    "id": "1XDpg1hlmkYn"
   },
   "source": [
    "#39. Rotate a tuple to the left by `n` positions."
   ]
  },
  {
   "cell_type": "code",
   "execution_count": 91,
   "metadata": {
    "id": "8cwxjIp6pSkI"
   },
   "outputs": [
    {
     "name": "stdout",
     "output_type": "stream",
     "text": [
      "Enter the nth 3\n"
     ]
    },
    {
     "data": {
      "text/plain": [
       "(4, 5, 1, 2, 3)"
      ]
     },
     "execution_count": 91,
     "metadata": {},
     "output_type": "execute_result"
    }
   ],
   "source": [
    "n=int(input(\"Enter the nth\"))\n",
    "t=(1,2,3,4,5)\n",
    "t=t[n:]+t[:n]\n",
    "t"
   ]
  },
  {
   "cell_type": "markdown",
   "metadata": {
    "id": "v48DYun4mmSe"
   },
   "source": [
    "#40. Rotate a tuple to the right by `n` positions."
   ]
  },
  {
   "cell_type": "code",
   "execution_count": 92,
   "metadata": {
    "id": "LogSJGTKpS9H"
   },
   "outputs": [
    {
     "name": "stdout",
     "output_type": "stream",
     "text": [
      "Enter the nth 3\n"
     ]
    },
    {
     "data": {
      "text/plain": [
       "(3, 4, 5, 1, 2, 3, 4)"
      ]
     },
     "execution_count": 92,
     "metadata": {},
     "output_type": "execute_result"
    }
   ],
   "source": [
    "n=int(input(\"Enter the nth\"))\n",
    "t=(1,2,3,4,5)\n",
    "t=t[-n:]+t[:n+1]\n",
    "t"
   ]
  },
  {
   "cell_type": "markdown",
   "metadata": {
    "id": "6P2_uF8BmoI4"
   },
   "source": [
    "\n",
    "#41. Create a tuple of the first 5 Fibonacci numbers."
   ]
  },
  {
   "cell_type": "code",
   "execution_count": 93,
   "metadata": {
    "id": "fTdDj2TXpTge"
   },
   "outputs": [
    {
     "data": {
      "text/plain": [
       "(0, 1, 1, 2, 3, 5)"
      ]
     },
     "execution_count": 93,
     "metadata": {},
     "output_type": "execute_result"
    }
   ],
   "source": [
    "t=()\n",
    "n=0\n",
    "n1=1\n",
    "i=0\n",
    "while i<=5:\n",
    "    t=t+(n,)\n",
    "    nth=n+n1\n",
    "    n=n1\n",
    "    n1=nth\n",
    "    i=i+1\n",
    "t"
   ]
  },
  {
   "cell_type": "markdown",
   "metadata": {
    "id": "9Btpx0pEmp_u"
   },
   "source": [
    "\n",
    "#42. Create a tuple from user input."
   ]
  },
  {
   "cell_type": "code",
   "execution_count": 94,
   "metadata": {
    "id": "4EeBgBA_pT5g"
   },
   "outputs": [
    {
     "name": "stdout",
     "output_type": "stream",
     "text": [
      "Enter the len of the tuple 2\n",
      "Enter the element  4\n",
      "Enter the element  3\n"
     ]
    },
    {
     "ename": "NameError",
     "evalue": "name 'tR' is not defined",
     "output_type": "error",
     "traceback": [
      "\u001b[0;31m---------------------------------------------------------------------------\u001b[0m",
      "\u001b[0;31mNameError\u001b[0m                                 Traceback (most recent call last)",
      "Cell \u001b[0;32mIn[94], line 6\u001b[0m\n\u001b[1;32m      4\u001b[0m     temp\u001b[38;5;241m=\u001b[39m\u001b[38;5;28minput\u001b[39m(\u001b[38;5;124m\"\u001b[39m\u001b[38;5;124mEnter the element \u001b[39m\u001b[38;5;124m\"\u001b[39m)\n\u001b[1;32m      5\u001b[0m     t\u001b[38;5;241m=\u001b[39mt\u001b[38;5;241m+\u001b[39m(temp,)\n\u001b[0;32m----> 6\u001b[0m \u001b[43mtR\u001b[49m\n",
      "\u001b[0;31mNameError\u001b[0m: name 'tR' is not defined"
     ]
    }
   ],
   "source": [
    "t=()\n",
    "n=int(input(\"Enter the len of the tuple\"))\n",
    "for i in range(n):\n",
    "    temp=input(\"Enter the element \")\n",
    "    t=t+(temp,)\n",
    "tR"
   ]
  },
  {
   "cell_type": "markdown",
   "metadata": {
    "id": "ofS545c4mrtP"
   },
   "source": [
    "#43. Swap two elements in a tuple."
   ]
  },
  {
   "cell_type": "code",
   "execution_count": 95,
   "metadata": {
    "id": "MrZ6zVZBpUbS"
   },
   "outputs": [
    {
     "data": {
      "text/plain": [
       "(2, 1, 3, 4, 5)"
      ]
     },
     "execution_count": 95,
     "metadata": {},
     "output_type": "execute_result"
    }
   ],
   "source": [
    "t=(1,2,3,4,5)\n",
    "l=list(t)\n",
    "l[0],l[1]=l[1],l[0]\n",
    "t1=tuple(l)\n",
    "t1"
   ]
  },
  {
   "cell_type": "markdown",
   "metadata": {
    "id": "Ef5c74wnmtP2"
   },
   "source": [
    "#44. Reverse the elements of a tuple."
   ]
  },
  {
   "cell_type": "code",
   "execution_count": 96,
   "metadata": {
    "id": "BMqB9hqYpUzY"
   },
   "outputs": [
    {
     "data": {
      "text/plain": [
       "(5, 4, 3, 2, 1)"
      ]
     },
     "execution_count": 96,
     "metadata": {},
     "output_type": "execute_result"
    }
   ],
   "source": [
    "t=(1,2,3,4,5)\n",
    "l=list(t)\n",
    "l.reverse()\n",
    "t=tuple(l)\n",
    "t"
   ]
  },
  {
   "cell_type": "markdown",
   "metadata": {
    "id": "f06A76kGmvAm"
   },
   "source": [
    "\n",
    "#45. Create a tuple of the first `n` powers of 2."
   ]
  },
  {
   "cell_type": "code",
   "execution_count": 97,
   "metadata": {
    "colab": {
     "base_uri": "https://localhost:8080/"
    },
    "id": "rp8GOh_ypVL_",
    "outputId": "387ae526-8195-4191-c538-c56e176bd729"
   },
   "outputs": [
    {
     "name": "stdout",
     "output_type": "stream",
     "text": [
      "Enter the number 3\n"
     ]
    },
    {
     "data": {
      "text/plain": [
       "(1, 4, 9)"
      ]
     },
     "execution_count": 97,
     "metadata": {},
     "output_type": "execute_result"
    }
   ],
   "source": [
    "t=()\n",
    "n=int(input(\"Enter the number\"))\n",
    "for i in range(1,n+1):\n",
    "    t=t+(i**2,)\n",
    "t"
   ]
  },
  {
   "cell_type": "markdown",
   "metadata": {
    "id": "Y4VX-X-LmxCt"
   },
   "source": [
    "\n",
    "#46. Find the longest string in a tuple of strings."
   ]
  },
  {
   "cell_type": "code",
   "execution_count": 98,
   "metadata": {
    "id": "Hs_4ZHrWpVpf"
   },
   "outputs": [
    {
     "name": "stdout",
     "output_type": "stream",
     "text": [
      "aaa\n"
     ]
    }
   ],
   "source": [
    "t=('a','aaa','aa')\n",
    "print(max(t))"
   ]
  },
  {
   "cell_type": "markdown",
   "metadata": {
    "id": "i_VPhz8LmyvF"
   },
   "source": [
    "#47. Find the shortest string in a tuple of strings."
   ]
  },
  {
   "cell_type": "code",
   "execution_count": 99,
   "metadata": {
    "id": "6UsKxdAXpWCI"
   },
   "outputs": [
    {
     "name": "stdout",
     "output_type": "stream",
     "text": [
      "a\n"
     ]
    }
   ],
   "source": [
    "t=('a','aaa','aa')\n",
    "print(min(t))"
   ]
  },
  {
   "cell_type": "markdown",
   "metadata": {
    "id": "VG3b6_v9m0bn"
   },
   "source": [
    "#48. Create a tuple of the first `n` triangular numbers."
   ]
  },
  {
   "cell_type": "code",
   "execution_count": 100,
   "metadata": {
    "id": "B82-JilapWl4"
   },
   "outputs": [
    {
     "name": "stdout",
     "output_type": "stream",
     "text": [
      "Ente the number  3\n"
     ]
    },
    {
     "data": {
      "text/plain": [
       "(1, 3, 6)"
      ]
     },
     "execution_count": 100,
     "metadata": {},
     "output_type": "execute_result"
    }
   ],
   "source": [
    "sum=0\n",
    "t=()\n",
    "n=int(input(\"Ente the number \"))\n",
    "for i in range(1,n+1):\n",
    "    sum=sum+i\n",
    "    t=t+(sum,)\n",
    "t"
   ]
  },
  {
   "cell_type": "markdown",
   "metadata": {
    "id": "wcSO2TwIm2Ou"
   },
   "source": [
    "#49. Check if a tuple contains another tuple as a subsequence."
   ]
  },
  {
   "cell_type": "code",
   "execution_count": 101,
   "metadata": {
    "id": "RWwFnv26pW9X"
   },
   "outputs": [
    {
     "name": "stdout",
     "output_type": "stream",
     "text": [
      "Yes, tuple in tuple\n"
     ]
    }
   ],
   "source": [
    "t=(1,(2,3),4)\n",
    "l=list(t)\n",
    "count=0\n",
    "for i in range(len(l)):\n",
    "    if type(l[i])==tuple:\n",
    "        count=+1\n",
    "if count==0:\n",
    "    print(\"Not tuple in tuple\")\n",
    "else:\n",
    "    print(\"Yes, tuple in tuple\")"
   ]
  },
  {
   "cell_type": "markdown",
   "metadata": {
    "id": "Atg4D5mlm4jv"
   },
   "source": [
    "#50. Create a tuple of alternating 1s and 0s of length `n`."
   ]
  },
  {
   "cell_type": "code",
   "execution_count": 102,
   "metadata": {
    "colab": {
     "base_uri": "https://localhost:8080/"
    },
    "id": "QErrRWhGpXgJ",
    "outputId": "baaad1a0-5b73-41b0-a637-5e059563f13e"
   },
   "outputs": [
    {
     "name": "stdout",
     "output_type": "stream",
     "text": [
      "Enter the number 3\n"
     ]
    },
    {
     "data": {
      "text/plain": [
       "(1, 0, 1)"
      ]
     },
     "execution_count": 102,
     "metadata": {},
     "output_type": "execute_result"
    }
   ],
   "source": [
    "t=()\n",
    "n=int(input(\"Enter the number\"))\n",
    "for i in range(1,n+1):\n",
    "    if(i%2==0):\n",
    "        t=t+(0,)\n",
    "    else:\n",
    "        t=t+(1,)\n",
    "t"
   ]
  },
  {
   "cell_type": "markdown",
   "metadata": {
    "id": "6Gt8bST3m5br"
   },
   "source": [
    "## Set Based Practice Problem =================================="
   ]
  },
  {
   "cell_type": "markdown",
   "metadata": {
    "id": "2cbPwd-_nKXO"
   },
   "source": [
    "#1. Create a set with integers from 1 to 5."
   ]
  },
  {
   "cell_type": "code",
   "execution_count": 3,
   "metadata": {
    "id": "aVqe1ZLHpZEN"
   },
   "outputs": [
    {
     "name": "stdout",
     "output_type": "stream",
     "text": [
      "{1, 2, 3, 4, 5}\n"
     ]
    }
   ],
   "source": [
    "s={1,2,3,4,5}\n",
    "print(s)\n"
   ]
  },
  {
   "cell_type": "markdown",
   "metadata": {
    "id": "3wEPM6VmnM53"
   },
   "source": [
    "#2. Add an element to a set."
   ]
  },
  {
   "cell_type": "code",
   "execution_count": 4,
   "metadata": {
    "id": "6DR0uToVpZdY"
   },
   "outputs": [
    {
     "name": "stdout",
     "output_type": "stream",
     "text": [
      "{1, 2, 3, 4, 5, 6}\n"
     ]
    }
   ],
   "source": [
    "s={1,2,3,4,5}\n",
    "s.add(6)\n",
    "print(s)"
   ]
  },
  {
   "cell_type": "markdown",
   "metadata": {
    "id": "m215osQTnP0t"
   },
   "source": [
    "#3. Remove an element from a set."
   ]
  },
  {
   "cell_type": "code",
   "execution_count": 5,
   "metadata": {
    "id": "qQ5do--SpaG2"
   },
   "outputs": [
    {
     "name": "stdout",
     "output_type": "stream",
     "text": [
      "{1, 2, 3, 4, 5}\n"
     ]
    }
   ],
   "source": [
    "s={1,2,3,4,5,6}\n",
    "s.remove(6)\n",
    "print(s)"
   ]
  },
  {
   "cell_type": "markdown",
   "metadata": {
    "id": "FKmRecLunRhh"
   },
   "source": [
    "#4. Check if an element exists in a set."
   ]
  },
  {
   "cell_type": "code",
   "execution_count": 6,
   "metadata": {
    "id": "xUFpSVL_padE"
   },
   "outputs": [
    {
     "name": "stdout",
     "output_type": "stream",
     "text": [
      "Yes\n"
     ]
    }
   ],
   "source": [
    "s={1,2,3,4,5}\n",
    "ch=int(input(\"Enther the check element \"))\n",
    "if ch in s:\n",
    "    print(\"Yes\")\n",
    "else:\n",
    "    print(\"No\")"
   ]
  },
  {
   "cell_type": "markdown",
   "metadata": {
    "id": "QR1Y0nGOnTVd"
   },
   "source": [
    "#5. Find the length of a set without using the `len()` function."
   ]
  },
  {
   "cell_type": "code",
   "execution_count": 7,
   "metadata": {
    "id": "-PnRII1Ppa1p"
   },
   "outputs": [
    {
     "name": "stdout",
     "output_type": "stream",
     "text": [
      "10\n"
     ]
    }
   ],
   "source": [
    "s={1,2,3,4,5,6,7,8,9,10}\n",
    "count1=0\n",
    "for i in s:\n",
    "    count1=count1+1\n",
    "print(count1)"
   ]
  },
  {
   "cell_type": "markdown",
   "metadata": {
    "id": "va4o4GCWnU0Y"
   },
   "source": [
    "#6. Clear all elements from a set."
   ]
  },
  {
   "cell_type": "code",
   "execution_count": 8,
   "metadata": {
    "id": "zZVwaUOApbY3"
   },
   "outputs": [
    {
     "name": "stdout",
     "output_type": "stream",
     "text": [
      "set()\n"
     ]
    }
   ],
   "source": [
    "s={1,2,3,4,5}\n",
    "s.clear()\n",
    "print(s)\n"
   ]
  },
  {
   "cell_type": "markdown",
   "metadata": {
    "id": "qzDQLxuDnW-2"
   },
   "source": [
    "#7. Create a set of even numbers from 1 to 10."
   ]
  },
  {
   "cell_type": "code",
   "execution_count": 9,
   "metadata": {
    "id": "9W4VAHn3pbyH"
   },
   "outputs": [
    {
     "data": {
      "text/plain": [
       "{2, 4, 6, 8, 10}"
      ]
     },
     "execution_count": 9,
     "metadata": {},
     "output_type": "execute_result"
    }
   ],
   "source": [
    "s=set()\n",
    "for i in range(1,11):\n",
    "    if(i%2==0):\n",
    "        s.add(i)\n",
    "s"
   ]
  },
  {
   "cell_type": "markdown",
   "metadata": {
    "id": "fwMmSbBanY9m"
   },
   "source": [
    "#8. Create a set of odd numbers from 1 to 10."
   ]
  },
  {
   "cell_type": "code",
   "execution_count": 10,
   "metadata": {
    "id": "FTh3PWflpcTe"
   },
   "outputs": [
    {
     "data": {
      "text/plain": [
       "{1, 3, 5, 7, 9}"
      ]
     },
     "execution_count": 10,
     "metadata": {},
     "output_type": "execute_result"
    }
   ],
   "source": [
    "s=set()\n",
    "for i in range(1,11):\n",
    "    if(i%2!=0):\n",
    "        s.add(i)\n",
    "s"
   ]
  },
  {
   "cell_type": "markdown",
   "metadata": {
    "id": "05H1P_Fvnanu"
   },
   "source": [
    "#9. Find the union of two sets."
   ]
  },
  {
   "cell_type": "code",
   "execution_count": 11,
   "metadata": {
    "id": "GYy6jxobpcyJ"
   },
   "outputs": [
    {
     "name": "stdout",
     "output_type": "stream",
     "text": [
      "{1, 2, 3, 4, 5, 6, 7, 8, 9}\n"
     ]
    }
   ],
   "source": [
    "s={1,2,3,4,5}\n",
    "s1={6,7,8,9,1}\n",
    "print(s.union(s1))"
   ]
  },
  {
   "cell_type": "markdown",
   "metadata": {
    "id": "2vk-M1Ddnx12"
   },
   "source": [
    "#10. Find the intersection of two sets."
   ]
  },
  {
   "cell_type": "code",
   "execution_count": 12,
   "metadata": {
    "id": "THuhcy-Zpdj-"
   },
   "outputs": [
    {
     "name": "stdout",
     "output_type": "stream",
     "text": [
      "{1}\n"
     ]
    }
   ],
   "source": [
    "s={1,2,3,4,5}\n",
    "s1={6,7,8,9,1}\n",
    "print(s.intersection(s1))"
   ]
  },
  {
   "cell_type": "markdown",
   "metadata": {
    "id": "516aHm_Rn2lM"
   },
   "source": [
    "\n",
    "#11. Find the difference between two sets."
   ]
  },
  {
   "cell_type": "code",
   "execution_count": 13,
   "metadata": {
    "id": "JpN5sQ2ppd7n"
   },
   "outputs": [
    {
     "name": "stdout",
     "output_type": "stream",
     "text": [
      "{2, 3, 4, 5}\n"
     ]
    }
   ],
   "source": [
    "s={1,2,3,4,5}\n",
    "s1={6,7,8,9,1}\n",
    "print(s.difference(s1))"
   ]
  },
  {
   "cell_type": "markdown",
   "metadata": {
    "id": "RqamOIO_n4bh"
   },
   "source": [
    "#12. Check if a set is a subset of another set."
   ]
  },
  {
   "cell_type": "code",
   "execution_count": 14,
   "metadata": {
    "id": "Hmuj-c4LpeWg"
   },
   "outputs": [
    {
     "name": "stdout",
     "output_type": "stream",
     "text": [
      "True\n"
     ]
    }
   ],
   "source": [
    "s={1,2,3,4,5}\n",
    "s1={2,1}\n",
    "print(s1.issubset(s))"
   ]
  },
  {
   "cell_type": "markdown",
   "metadata": {
    "id": "ZXHKbDW9n6NS"
   },
   "source": [
    "\n",
    "#13. Check if a set is a superset of another set."
   ]
  },
  {
   "cell_type": "code",
   "execution_count": 15,
   "metadata": {
    "id": "pQBVhfTrpe6y"
   },
   "outputs": [
    {
     "name": "stdout",
     "output_type": "stream",
     "text": [
      "True\n"
     ]
    }
   ],
   "source": [
    "s={1,2,3,4,5}\n",
    "s1={2,1}\n",
    "print(s.issuperset(s1))"
   ]
  },
  {
   "cell_type": "markdown",
   "metadata": {
    "id": "vE-rQm7Bn71W"
   },
   "source": [
    "\n",
    "#14. Create a set from a list."
   ]
  },
  {
   "cell_type": "code",
   "execution_count": 17,
   "metadata": {
    "id": "SSE5sfP7pfPg"
   },
   "outputs": [
    {
     "name": "stdout",
     "output_type": "stream",
     "text": [
      "{1, 2, 3, 4, 5}\n"
     ]
    }
   ],
   "source": [
    "l=[1,2,3,4,5]\n",
    "s=set(l)\n",
    "print(s)"
   ]
  },
  {
   "cell_type": "markdown",
   "metadata": {
    "id": "gr5AWJlqn9wO"
   },
   "source": [
    "#15. Convert a set to a list."
   ]
  },
  {
   "cell_type": "code",
   "execution_count": 18,
   "metadata": {
    "id": "yw1rU5TZpfsY"
   },
   "outputs": [
    {
     "name": "stdout",
     "output_type": "stream",
     "text": [
      "[1, 2, 3, 4, 5, 6]\n"
     ]
    }
   ],
   "source": [
    "s={1,2,3,4,5,6}\n",
    "l=list(s)\n",
    "print(l)"
   ]
  },
  {
   "cell_type": "markdown",
   "metadata": {
    "id": "MU-9k13yn_pI"
   },
   "source": [
    "\n",
    "#16. Remove a random element from a set."
   ]
  },
  {
   "cell_type": "code",
   "execution_count": 19,
   "metadata": {
    "id": "_fPUgQ1bpgLm"
   },
   "outputs": [
    {
     "name": "stdout",
     "output_type": "stream",
     "text": [
      "{0, 1, 2, 3, 4, 6, 7, 8, 9}\n"
     ]
    }
   ],
   "source": [
    "import random as rn\n",
    "s={1,2,3,4,5,6,7,8,9,0}\n",
    "r=int(rn.randrange(9))\n",
    "s.remove(r)\n",
    "print(s)"
   ]
  },
  {
   "cell_type": "markdown",
   "metadata": {
    "id": "uYCD95Z3oBoA"
   },
   "source": [
    "#17. Pop an element from a set."
   ]
  },
  {
   "cell_type": "code",
   "execution_count": 20,
   "metadata": {
    "id": "VPmEXEWupgix"
   },
   "outputs": [
    {
     "name": "stdout",
     "output_type": "stream",
     "text": [
      "{1, 2, 3, 4, 5, 6, 7, 8, 9}\n"
     ]
    }
   ],
   "source": [
    "s={1,2,3,4,5,6,7,8,9,0}\n",
    "s.pop()\n",
    "print(s)"
   ]
  },
  {
   "cell_type": "markdown",
   "metadata": {
    "id": "uTFLMAvYoDgW"
   },
   "source": [
    "#18. Check if two sets have no elements in common."
   ]
  },
  {
   "cell_type": "code",
   "execution_count": 21,
   "metadata": {
    "id": "pkVpAWQcphJ2"
   },
   "outputs": [
    {
     "name": "stdout",
     "output_type": "stream",
     "text": [
      "Common\n"
     ]
    }
   ],
   "source": [
    "s={1,2,3,4,5,}\n",
    "s1={6,7,8,9,1}\n",
    "if len(s.intersection(s1))==0:\n",
    "    print(\"No Common\")\n",
    "else:\n",
    "    print(\"Common\")"
   ]
  },
  {
   "cell_type": "markdown",
   "metadata": {
    "id": "qHkLZ-8hoFQf"
   },
   "source": [
    "#19. Find the symmetric difference between two sets."
   ]
  },
  {
   "cell_type": "code",
   "execution_count": 22,
   "metadata": {
    "id": "gxNkV9mvphkP"
   },
   "outputs": [
    {
     "name": "stdout",
     "output_type": "stream",
     "text": [
      "{2, 3, 4, 5, 7, 8, 9}\n",
      "{2, 3, 4, 5, 7, 8, 9}\n"
     ]
    }
   ],
   "source": [
    "s={1,2,3,4,5,6}\n",
    "s1={6,7,8,9,1}\n",
    "print(s1.symmetric_difference(s))\n",
    "print(s1.symmetric_difference(s))"
   ]
  },
  {
   "cell_type": "markdown",
   "metadata": {
    "id": "LpTe_MS2oGnl"
   },
   "source": [
    "\n",
    "#20. Update a set with elements from another set."
   ]
  },
  {
   "cell_type": "code",
   "execution_count": 23,
   "metadata": {
    "id": "Hta6DnlJpiNh"
   },
   "outputs": [
    {
     "name": "stdout",
     "output_type": "stream",
     "text": [
      "None\n"
     ]
    },
    {
     "data": {
      "text/plain": [
       "{4, 7, 8, 9}"
      ]
     },
     "execution_count": 23,
     "metadata": {},
     "output_type": "execute_result"
    }
   ],
   "source": [
    "s={1,2,3,4,5,6}\n",
    "s1={6,7,2,3,5,8,9,1}\n",
    "print(s.symmetric_difference_update(s1))\n",
    "s"
   ]
  },
  {
   "cell_type": "markdown",
   "metadata": {
    "id": "0_18YG-BoIaf"
   },
   "source": [
    "#21. Create a set of the first 5 prime numbers."
   ]
  },
  {
   "cell_type": "code",
   "execution_count": 24,
   "metadata": {
    "id": "SFtN-xUFpitC"
   },
   "outputs": [
    {
     "data": {
      "text/plain": [
       "{2, 3, 5, 7, 11}"
      ]
     },
     "execution_count": 24,
     "metadata": {},
     "output_type": "execute_result"
    }
   ],
   "source": [
    "s=set()\n",
    "l=[]\n",
    "count=0\n",
    "for i in range(1,50):\n",
    "    count=0\n",
    "    for j in range(1,i):\n",
    "        if(i%j==0):\n",
    "            count=count+1\n",
    "    if count==1:\n",
    "        l.append(i)\n",
    "for i in range(5):\n",
    "    s.add(l[i])\n",
    "s"
   ]
  },
  {
   "cell_type": "markdown",
   "metadata": {
    "id": "4ALC4iGJoKBO"
   },
   "source": [
    "#22. Check if two sets are identical."
   ]
  },
  {
   "cell_type": "code",
   "execution_count": 25,
   "metadata": {
    "id": "HsMn5WQHpjLx"
   },
   "outputs": [
    {
     "name": "stdout",
     "output_type": "stream",
     "text": [
      "False\n",
      "True\n"
     ]
    }
   ],
   "source": [
    "s={1,2,3,4}\n",
    "s1={1,3,5,7}\n",
    "s2={4,3,2,1}\n",
    "print(s==s1)\n",
    "print(s==s2)"
   ]
  },
  {
   "cell_type": "markdown",
   "metadata": {
    "id": "p8dSnapZoLi-"
   },
   "source": [
    "\n",
    "#23. Create a frozen set."
   ]
  },
  {
   "cell_type": "code",
   "execution_count": 26,
   "metadata": {
    "id": "w52DFUv9pjv4"
   },
   "outputs": [
    {
     "name": "stdout",
     "output_type": "stream",
     "text": [
      "frozenset({1, 2})\n"
     ]
    }
   ],
   "source": [
    "f=frozenset([1,2])\n",
    "print(f)"
   ]
  },
  {
   "cell_type": "markdown",
   "metadata": {
    "id": "aKtJBGZAoNQH"
   },
   "source": [
    "\n",
    "#24. Check if a set is disjoint with another set."
   ]
  },
  {
   "cell_type": "code",
   "execution_count": 27,
   "metadata": {
    "id": "Ims8n-IkpkHp"
   },
   "outputs": [
    {
     "name": "stdout",
     "output_type": "stream",
     "text": [
      "True\n"
     ]
    }
   ],
   "source": [
    "s={1,2,3,4,5}\n",
    "s1={6,7}\n",
    "print(s.isdisjoint(s1))"
   ]
  },
  {
   "cell_type": "markdown",
   "metadata": {
    "id": "ous3PUtCoOrg"
   },
   "source": [
    "#25. Create a set of squares of numbers from 1 to 5."
   ]
  },
  {
   "cell_type": "code",
   "execution_count": 28,
   "metadata": {
    "id": "5F-ES7p9pkl4"
   },
   "outputs": [
    {
     "data": {
      "text/plain": [
       "{1, 4, 9, 16, 25}"
      ]
     },
     "execution_count": 28,
     "metadata": {},
     "output_type": "execute_result"
    }
   ],
   "source": [
    "s=set()\n",
    "for i in range(1,6):\n",
    "    s.add(i**2)\n",
    "s"
   ]
  },
  {
   "cell_type": "markdown",
   "metadata": {
    "id": "Mc50aM5UoRHY"
   },
   "source": [
    "#26. Filter out all even numbers from a set."
   ]
  },
  {
   "cell_type": "code",
   "execution_count": 29,
   "metadata": {
    "id": "JSGRWk69plI3"
   },
   "outputs": [
    {
     "name": "stdout",
     "output_type": "stream",
     "text": [
      "2\n",
      "4\n",
      "6\n",
      "8\n",
      "10\n"
     ]
    }
   ],
   "source": [
    "s={1,2,3,4,5,6,7,8,9,10}\n",
    "l=list(s)\n",
    "for i in l:\n",
    "    if i%2==0:\n",
    "        print(i)"
   ]
  },
  {
   "cell_type": "markdown",
   "metadata": {
    "id": "4TITNqcJoS7l"
   },
   "source": [
    "\n",
    "#27. Multiply all elements in a set by 2."
   ]
  },
  {
   "cell_type": "code",
   "execution_count": 30,
   "metadata": {
    "id": "ijOEMi6YpljP"
   },
   "outputs": [
    {
     "data": {
      "text/plain": [
       "{2, 4, 6, 8}"
      ]
     },
     "execution_count": 30,
     "metadata": {},
     "output_type": "execute_result"
    }
   ],
   "source": [
    "s={1,2,3,4,5}\n",
    "l=[]\n",
    "for i in range(1,len(s)):\n",
    "    l.append(i*2)\n",
    "\n",
    "s=set(l)\n",
    "s"
   ]
  },
  {
   "cell_type": "markdown",
   "metadata": {
    "id": "CX9jLvrSoUfn"
   },
   "source": [
    "\n",
    "#28. Create a set of random numbers."
   ]
  },
  {
   "cell_type": "code",
   "execution_count": 31,
   "metadata": {
    "id": "Mn33LydVpmAJ"
   },
   "outputs": [
    {
     "data": {
      "text/plain": [
       "{6, 26, 41, 66, 67, 75}"
      ]
     },
     "execution_count": 31,
     "metadata": {},
     "output_type": "execute_result"
    }
   ],
   "source": [
    "import random\n",
    "s=set()\n",
    "n=int(input(\"Enter the size of set\"))\n",
    "for i in range(n):\n",
    "    s.add(random.randint(1,100))\n",
    "s"
   ]
  },
  {
   "cell_type": "markdown",
   "metadata": {
    "id": "egE4d-dPoV93"
   },
   "source": [
    "\n",
    "#29. Check if a set is empty."
   ]
  },
  {
   "cell_type": "code",
   "execution_count": 32,
   "metadata": {
    "id": "CUfhwtM-pmkv"
   },
   "outputs": [
    {
     "name": "stdout",
     "output_type": "stream",
     "text": [
      " NO Empty\n"
     ]
    }
   ],
   "source": [
    "s={1,2,3,4,5}\n",
    "if len(s)==0:\n",
    "    print(\"Empty\")\n",
    "else:\n",
    "    print(\" NO Empty\")"
   ]
  },
  {
   "cell_type": "markdown",
   "metadata": {
    "id": "7P7DJX-8oXdA"
   },
   "source": [
    "#30. Create a nested set (hint: use frozenset)."
   ]
  },
  {
   "cell_type": "code",
   "execution_count": 33,
   "metadata": {
    "id": "58pVpaIkpm73"
   },
   "outputs": [
    {
     "data": {
      "text/plain": [
       "{frozenset({3, 4}), frozenset({2, 5}), frozenset({1, 2})}"
      ]
     },
     "execution_count": 33,
     "metadata": {},
     "output_type": "execute_result"
    }
   ],
   "source": [
    "s=set()\n",
    "s1={1,2,3}\n",
    "s2={4,5,6}\n",
    "s.add(frozenset([1,2]))\n",
    "s.add(frozenset([3,4]))\n",
    "s.add(frozenset([5,2]))\n",
    "s"
   ]
  },
  {
   "cell_type": "markdown",
   "metadata": {
    "id": "3YSvpvF3oZHX"
   },
   "source": [
    "\n",
    "#31. Remove an element from a set using the discard method."
   ]
  },
  {
   "cell_type": "code",
   "execution_count": 34,
   "metadata": {
    "id": "sKG8kaqDpnVg"
   },
   "outputs": [
    {
     "name": "stdout",
     "output_type": "stream",
     "text": [
      "{1, 2, 4, 5}\n"
     ]
    }
   ],
   "source": [
    "s={1,2,3,4,5}\n",
    "s.discard(3)\n",
    "print(s)"
   ]
  },
  {
   "cell_type": "markdown",
   "metadata": {
    "id": "tDW7ymX8oajr"
   },
   "source": [
    "#32. Compare two sets."
   ]
  },
  {
   "cell_type": "code",
   "execution_count": 35,
   "metadata": {
    "id": "zE-dBdSApnzX"
   },
   "outputs": [
    {
     "data": {
      "text/plain": [
       "True"
      ]
     },
     "execution_count": 35,
     "metadata": {},
     "output_type": "execute_result"
    }
   ],
   "source": [
    "s={1,2,3,4,5}\n",
    "s1={1,2,3,4,5}\n",
    "s==s1"
   ]
  },
  {
   "cell_type": "markdown",
   "metadata": {
    "id": "a8chDZLjocQP"
   },
   "source": [
    "\n",
    "#33. Create a set from a string."
   ]
  },
  {
   "cell_type": "code",
   "execution_count": 36,
   "metadata": {
    "id": "RWeRbjGbpoNX"
   },
   "outputs": [
    {
     "name": "stdout",
     "output_type": "stream",
     "text": [
      "{'e', ' ', 'R', 'a', 'n', 'j', 'i', 'M', 'y', 'm', 's'}\n"
     ]
    }
   ],
   "source": [
    "s=\"My name is Ramjee\"\n",
    "se=set(s)\n",
    "print(se)"
   ]
  },
  {
   "cell_type": "markdown",
   "metadata": {
    "id": "W-IqXafYoeV5"
   },
   "source": [
    "#34. Convert a set of strings to a set of integers."
   ]
  },
  {
   "cell_type": "code",
   "execution_count": 37,
   "metadata": {
    "id": "DHH0ej7upow4"
   },
   "outputs": [
    {
     "name": "stdout",
     "output_type": "stream",
     "text": [
      "{1, 2}\n"
     ]
    }
   ],
   "source": [
    "s={'1','2'}\n",
    "te=set(map(int,s))\n",
    "print(te)"
   ]
  },
  {
   "cell_type": "markdown",
   "metadata": {
    "id": "7yzqQJtzof6p"
   },
   "source": [
    "#35. Convert a set of integers to a set of strings."
   ]
  },
  {
   "cell_type": "code",
   "execution_count": 38,
   "metadata": {
    "id": "7BWMNfs9ppQw"
   },
   "outputs": [
    {
     "name": "stdout",
     "output_type": "stream",
     "text": [
      "{'5', '3', '4', '2', '1'}\n"
     ]
    }
   ],
   "source": [
    "s={1,2,3,4,5}\n",
    "ts=set(map(str,s))\n",
    "print(ts)"
   ]
  },
  {
   "cell_type": "markdown",
   "metadata": {
    "id": "s2XBXzCpohgg"
   },
   "source": [
    "\n",
    "#36. Create a set from a tuple."
   ]
  },
  {
   "cell_type": "code",
   "execution_count": 39,
   "metadata": {
    "id": "h2bGpFP4pp1n"
   },
   "outputs": [
    {
     "name": "stdout",
     "output_type": "stream",
     "text": [
      "{1, 2, 3, 4, 5}\n",
      "<class 'tuple'>\n",
      "<class 'set'>\n"
     ]
    }
   ],
   "source": [
    "t=(1,2,3,4,5)\n",
    "s=set(t)\n",
    "print(s)\n",
    "print(type(t))\n",
    "print(type(s))"
   ]
  },
  {
   "cell_type": "markdown",
   "metadata": {
    "id": "noNhExQCojOu"
   },
   "source": [
    "#37. Convert a set to a tuple."
   ]
  },
  {
   "cell_type": "code",
   "execution_count": 40,
   "metadata": {
    "id": "TO7y_WhMpquG"
   },
   "outputs": [
    {
     "name": "stdout",
     "output_type": "stream",
     "text": [
      "(1, 2, 3, 4, 5)\n",
      "<class 'tuple'>\n"
     ]
    }
   ],
   "source": [
    "s={1,2,3,4,5}\n",
    "t=tuple(s)\n",
    "print(t)\n",
    "print(type(t))"
   ]
  },
  {
   "cell_type": "markdown",
   "metadata": {
    "id": "V90Cf7EJoktZ"
   },
   "source": [
    "#38. Find the maximum value in a set."
   ]
  },
  {
   "cell_type": "code",
   "execution_count": 41,
   "metadata": {
    "id": "Ux8MVm8wprIy"
   },
   "outputs": [
    {
     "name": "stdout",
     "output_type": "stream",
     "text": [
      "5\n"
     ]
    }
   ],
   "source": [
    "s={1,2,3,4,5}\n",
    "print(max(s))"
   ]
  },
  {
   "cell_type": "markdown",
   "metadata": {
    "id": "eGg7c-v4omSF"
   },
   "source": [
    "\n",
    "#39. Find the minimum value in a set."
   ]
  },
  {
   "cell_type": "code",
   "execution_count": 42,
   "metadata": {
    "id": "ZR_8nsnNprlP"
   },
   "outputs": [
    {
     "name": "stdout",
     "output_type": "stream",
     "text": [
      "1\n"
     ]
    }
   ],
   "source": [
    "s={1,2,3,4,5}\n",
    "print(min(s))"
   ]
  },
  {
   "cell_type": "markdown",
   "metadata": {
    "id": "GmdbgOLSon6r"
   },
   "source": [
    "#40. Create a set from user input."
   ]
  },
  {
   "cell_type": "code",
   "execution_count": 46,
   "metadata": {
    "id": "WHzdOOjKpsBH"
   },
   "outputs": [
    {
     "name": "stdout",
     "output_type": "stream",
     "text": [
      "{'5', '6', '4', '8', '7'}\n"
     ]
    }
   ],
   "source": [
    "s=set(input(\"Enter the set\"))\n",
    "print(s)"
   ]
  },
  {
   "cell_type": "markdown",
   "metadata": {
    "id": "ACCCiovropse"
   },
   "source": [
    "#41. Check if the intersection of two sets is empty."
   ]
  },
  {
   "cell_type": "code",
   "execution_count": 47,
   "metadata": {
    "id": "X9zHepe-pskg"
   },
   "outputs": [
    {
     "name": "stdout",
     "output_type": "stream",
     "text": [
      "Yes\n"
     ]
    }
   ],
   "source": [
    "s={1,2,3,4,5}\n",
    "s1={6,7}\n",
    "if(len(s.intersection(s1))==0):\n",
    "    print(\"Yes\")\n",
    "else:\n",
    "    print(\"NO\")"
   ]
  },
  {
   "cell_type": "markdown",
   "metadata": {
    "id": "kOkd14L7or-K"
   },
   "source": [
    "#42. Create a set of the first 5 Fibonacci numbers."
   ]
  },
  {
   "cell_type": "code",
   "execution_count": 48,
   "metadata": {
    "id": "VyQT7UgYps_H"
   },
   "outputs": [
    {
     "data": {
      "text/plain": [
       "{1, 2, 3, 5, 8, 13}"
      ]
     },
     "execution_count": 48,
     "metadata": {},
     "output_type": "execute_result"
    }
   ],
   "source": [
    "s=set()\n",
    "n,i=0,0\n",
    "n1=1\n",
    "while i<=5:\n",
    "    nth=n+n1\n",
    "    s.add(nth)\n",
    "    n=n1\n",
    "    n1=nth\n",
    "    i+=1\n",
    "s"
   ]
  },
  {
   "cell_type": "markdown",
   "metadata": {
    "id": "noMyWvqPouTJ"
   },
   "source": [
    "#43. Remove duplicates from a list using sets."
   ]
  },
  {
   "cell_type": "code",
   "execution_count": 49,
   "metadata": {
    "id": "qbwx7N3VptZY"
   },
   "outputs": [
    {
     "name": "stdout",
     "output_type": "stream",
     "text": [
      "{1, 2, 3, 4, 5}\n"
     ]
    }
   ],
   "source": [
    "l=[1,2,3,4,5,4,3,2,1]\n",
    "print(set(l))"
   ]
  },
  {
   "cell_type": "markdown",
   "metadata": {
    "id": "d7qJtM0Dov7y"
   },
   "source": [
    "#44. Check if two sets have the same elements, regardless of their count."
   ]
  },
  {
   "cell_type": "code",
   "execution_count": 50,
   "metadata": {
    "id": "w0x0U_bspt-7"
   },
   "outputs": [
    {
     "name": "stdout",
     "output_type": "stream",
     "text": [
      "4\n"
     ]
    }
   ],
   "source": [
    "s={1,2,3,4,5}\n",
    "s1={6,7,8,4,3,2,9,1}\n",
    "l=list(s.intersection(s1))\n",
    "print(len(l))"
   ]
  },
  {
   "cell_type": "markdown",
   "metadata": {
    "id": "EVfEp6gJox0m"
   },
   "source": [
    "\n",
    "#45. Create a set of the first `n` powers of 2."
   ]
  },
  {
   "cell_type": "code",
   "execution_count": 51,
   "metadata": {
    "id": "Bkf-dyVEpucW"
   },
   "outputs": [
    {
     "data": {
      "text/plain": [
       "{1, 4, 9, 16, 25}"
      ]
     },
     "execution_count": 51,
     "metadata": {},
     "output_type": "execute_result"
    }
   ],
   "source": [
    "s=set()\n",
    "n=int(input(\"Enter the number of set\"))\n",
    "for i in range(1,n+1):\n",
    "    s.add(i**2)\n",
    "s"
   ]
  },
  {
   "cell_type": "markdown",
   "metadata": {
    "id": "ukHMu_8uo0QV"
   },
   "source": [
    "#46. Find the common elements between a set and a list."
   ]
  },
  {
   "cell_type": "code",
   "execution_count": 52,
   "metadata": {
    "id": "ErHUa9gSpu6Z"
   },
   "outputs": [
    {
     "name": "stdout",
     "output_type": "stream",
     "text": [
      "{1}\n"
     ]
    }
   ],
   "source": [
    "s={1,2,3,4,5}\n",
    "s1={6,7,8,9,1}\n",
    "print(s.intersection(s1))"
   ]
  },
  {
   "cell_type": "markdown",
   "metadata": {
    "id": "dL2WaT4Go2HX"
   },
   "source": [
    "#47. Create a set of the first `n` triangular numbers."
   ]
  },
  {
   "cell_type": "code",
   "execution_count": 53,
   "metadata": {
    "id": "1117jPzVpvSZ"
   },
   "outputs": [
    {
     "name": "stdout",
     "output_type": "stream",
     "text": [
      "{0, 1, 3, 6}\n"
     ]
    }
   ],
   "source": [
    "s=set()\n",
    "n=int(input(\"Enter the number of set\"))\n",
    "sum=0\n",
    "for i in range(n):\n",
    "    sum=sum+i\n",
    "    s.add(sum)\n",
    "print(s)"
   ]
  },
  {
   "cell_type": "markdown",
   "metadata": {
    "id": "_oQsJsZho4i4"
   },
   "source": [
    "#48. Check if a set contains another set as a subset."
   ]
  },
  {
   "cell_type": "code",
   "execution_count": 60,
   "metadata": {
    "id": "B_WW-hZzpv2v"
   },
   "outputs": [
    {
     "name": "stdout",
     "output_type": "stream",
     "text": [
      "set2 is a subset of set1\n"
     ]
    }
   ],
   "source": [
    "set1 = {1, 2, 3, 4, 5}\n",
    "set2 = {3, 4}\n",
    "\n",
    "# Check if set2 is a subset of set1\n",
    "is_subset = set2.issubset(set1)\n",
    "\n",
    "# Print the result\n",
    "if is_subset:\n",
    "    print(\"set2 is a subset of set1\")\n",
    "else:\n",
    "    print(\"set2 is not a subset of set1\")"
   ]
  },
  {
   "cell_type": "markdown",
   "metadata": {
    "id": "l_YXwhg3o6aY"
   },
   "source": [
    "#49. Create a set of alternating 1s and 0s of length `n`."
   ]
  },
  {
   "cell_type": "code",
   "execution_count": 55,
   "metadata": {
    "id": "fClDaYsLpwP-"
   },
   "outputs": [
    {
     "name": "stdout",
     "output_type": "stream",
     "text": [
      "{0, 1}\n"
     ]
    }
   ],
   "source": [
    "s=set()\n",
    "n=int(input(\"Enter the number of set\"))\n",
    "for i in range(1,n+1):\n",
    "    if(i%2==0):\n",
    "        s.add(1)\n",
    "    else:\n",
    "        s.add(0)\n",
    "print(s)"
   ]
  },
  {
   "cell_type": "markdown",
   "metadata": {
    "id": "mIJhlc8So8pI"
   },
   "source": [
    "#50. Merge multiple sets into one."
   ]
  },
  {
   "cell_type": "code",
   "execution_count": 59,
   "metadata": {
    "id": "IpHhVP6ypw5i"
   },
   "outputs": [
    {
     "name": "stdout",
     "output_type": "stream",
     "text": [
      "Merged Set: {50, 20, 500, 60, 40, 10, 700, 30}\n"
     ]
    }
   ],
   "source": [
    "set1 = {10, 20, 30}\n",
    "set2 = {30, 40, 50}\n",
    "set3 = {500, 60, 700}\n",
    "\n",
    "# Step 2: Use the union() method to merge sets\n",
    "merged_set = set1.union(set2, set3)\n",
    "\n",
    "# Step 3: Print the merged set\n",
    "print(\"Merged Set:\", merged_set)"
   ]
  },
  {
   "cell_type": "code",
   "execution_count": null,
   "metadata": {},
   "outputs": [],
   "source": []
  }
 ],
 "metadata": {
  "colab": {
   "provenance": []
  },
  "kernelspec": {
   "display_name": "Python 3 (ipykernel)",
   "language": "python",
   "name": "python3"
  },
  "language_info": {
   "codemirror_mode": {
    "name": "ipython",
    "version": 3
   },
   "file_extension": ".py",
   "mimetype": "text/x-python",
   "name": "python",
   "nbconvert_exporter": "python",
   "pygments_lexer": "ipython3",
   "version": "3.11.4"
  }
 },
 "nbformat": 4,
 "nbformat_minor": 4
}
