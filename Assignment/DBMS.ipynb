{
 "cells": [
  {
   "cell_type": "markdown",
   "metadata": {},
   "source": [
    "### 1. What is a Database? Explain with an example on why should we need a database\n",
    "A database is a collection of related data that is organized for easy access. Databases are used to store and manage large amounts of data, including structured and unstructured data. They can be used for a variety of activities, including data storage, data analysis, and data management. \n",
    "For example, an online telephone directory uses a database to store people's names, phone numbers, and other contact details. \n",
    "Databases are usually accessed through a database management system (DBMS). A DBMS is a set of computer software that allows users to interact with one or more databases. The DBMS provides functions for entering, storing, and retrieving data, and for managing how the data is organized. \n",
    "Databases are useful because they can persist data. For example, if a program crashes, the data in a database is still there and can be used again when the application restarts. \n"
   ]
  },
  {
   "cell_type": "markdown",
   "metadata": {},
   "source": []
  },
  {
   "cell_type": "markdown",
   "metadata": {},
   "source": [
    "### 2. Write a short note on File base storage system. Explain the major challenges of a File-based storage system"
   ]
  },
  {
   "cell_type": "markdown",
   "metadata": {},
   "source": []
  },
  {
   "cell_type": "markdown",
   "metadata": {},
   "source": [
    "### 3. What is DBMS? What was the need for DBMS"
   ]
  },
  {
   "cell_type": "markdown",
   "metadata": {},
   "source": []
  },
  {
   "cell_type": "markdown",
   "metadata": {},
   "source": [
    "### 4. Explain 5 challenges of file-based storage system which was tackled by DBMS"
   ]
  },
  {
   "cell_type": "markdown",
   "metadata": {},
   "source": []
  },
  {
   "cell_type": "markdown",
   "metadata": {},
   "source": [
    "### 5. List out the different types of classification in DBMS and explain them in depth"
   ]
  },
  {
   "cell_type": "markdown",
   "metadata": {},
   "source": []
  },
  {
   "cell_type": "markdown",
   "metadata": {},
   "source": [
    "### 6. What is the significance of Data Modelling and explain the types of data modeling"
   ]
  },
  {
   "cell_type": "markdown",
   "metadata": {},
   "source": []
  },
  {
   "cell_type": "markdown",
   "metadata": {},
   "source": [
    "### 7. Explain 3 schema architecture along with its advantages."
   ]
  },
  {
   "cell_type": "markdown",
   "metadata": {},
   "source": []
  }
 ],
 "metadata": {
  "language_info": {
   "name": "python"
  },
  "orig_nbformat": 4
 },
 "nbformat": 4,
 "nbformat_minor": 2
}
