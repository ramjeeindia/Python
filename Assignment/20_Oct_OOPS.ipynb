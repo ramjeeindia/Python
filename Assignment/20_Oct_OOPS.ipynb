{
 "cells": [
  {
   "cell_type": "markdown",
   "metadata": {},
   "source": [
    "Constructor : "
   ]
  },
  {
   "cell_type": "markdown",
   "metadata": {},
   "source": [
    "<!-- 1. What is a constructor in Python? Explain its purpose and usage. -->\n"
   ]
  },
  {
   "cell_type": "code",
   "execution_count": 105,
   "metadata": {},
   "outputs": [],
   "source": [
    "# 1. What is a constructor in Python? Explain its purpose and usage."
   ]
  },
  {
   "cell_type": "markdown",
   "metadata": {},
   "source": [
    "> A constructor is a special method within a class that is automatically called when a new instance (object) of the class is created. It is defined with the name `__init__`. The purpose of a constructor is to initialize the attributes of the object with initial values.\n",
    "\n",
    "#### Purpose of Constructor:\n",
    "1. **Initialization** - The main purpose of a constructor is to initialize the attributes of an object with specific values.\n",
    "2. **Setting Default Values** - It allows you to set default values for object attributes.\n",
    "\n",
    "#### Usage of Constructor:\n",
    "1. **Syntax** - The constructor is defined with the name `__init__` within a class.\n",
    "2. **Parameters** - It takes self as the first parameter (which refers to the instance being created) and other parameters to initialize the attributes.\n",
    "3. **Attribute Assignment** - Inside the constructor, you can assign initial values to the attributes using `self.attribute_name = initial_value`."
   ]
  },
  {
   "cell_type": "code",
   "execution_count": 106,
   "metadata": {},
   "outputs": [],
   "source": [
    "class Defconstructor:\n",
    " \n",
    "    # default constructor\n",
    "    def __init__(self):\n",
    "        self.name = \"Ramjee\"\n",
    "   \n",
    "obj = Defconstructor()"
   ]
  },
  {
   "cell_type": "code",
   "execution_count": 107,
   "metadata": {},
   "outputs": [
    {
     "data": {
      "text/plain": [
       "'Ramjee'"
      ]
     },
     "execution_count": 107,
     "metadata": {},
     "output_type": "execute_result"
    }
   ],
   "source": [
    "obj.name"
   ]
  },
  {
   "cell_type": "code",
   "execution_count": 108,
   "metadata": {},
   "outputs": [],
   "source": [
    "# 2. Differentiate between a parameterless constructor and a parameterized constructor in Python."
   ]
  },
  {
   "cell_type": "markdown",
   "metadata": {},
   "source": [
    "**Parameterless Constructor** - *Also known as a default constructor*\n",
    "\n",
    "* Takes no parameters other than the mandatory `self` parameter, which refers to the instance of the class.\n",
    "* Used when you want to initialize attributes with default values.\n",
    "\n",
    "Example: Person class with paramerless constructor as shown below:"
   ]
  },
  {
   "cell_type": "code",
   "execution_count": 109,
   "metadata": {},
   "outputs": [],
   "source": [
    "class Person:\n",
    "    # Parameter Less contructor\n",
    "    def __init__(self):\n",
    "        self.name = \"Ramjee\"\n",
    "        self.age = 37\n",
    "\n",
    "p1 = Person()"
   ]
  },
  {
   "cell_type": "code",
   "execution_count": 110,
   "metadata": {},
   "outputs": [
    {
     "data": {
      "text/plain": [
       "'Ramjee'"
      ]
     },
     "execution_count": 110,
     "metadata": {},
     "output_type": "execute_result"
    }
   ],
   "source": [
    "p1.name"
   ]
  },
  {
   "cell_type": "code",
   "execution_count": 111,
   "metadata": {},
   "outputs": [
    {
     "data": {
      "text/plain": [
       "37"
      ]
     },
     "execution_count": 111,
     "metadata": {},
     "output_type": "execute_result"
    }
   ],
   "source": [
    "p1.age"
   ]
  },
  {
   "cell_type": "markdown",
   "metadata": {},
   "source": [
    "**Parameterized Constructor** - *(Also known as a custom or explicit constructor)*\n",
    "\n",
    "* Takes parameters other than `self` to initialize the attributes of the class.\n",
    "* Used when you want to initialize attributes with specific values provided during object creation.\n",
    "\n",
    "Example: Person class with parameterized constructor as shown below:"
   ]
  },
  {
   "cell_type": "code",
   "execution_count": 112,
   "metadata": {},
   "outputs": [
    {
     "name": "stdout",
     "output_type": "stream",
     "text": [
      "Ramjee\n",
      "37\n"
     ]
    }
   ],
   "source": [
    "class Person1:\n",
    "    # Parameterized Constructor\n",
    "    def __init__(self, name, age):\n",
    "        self.name = name\n",
    "        self.age = age\n",
    "\n",
    "p1 =Person1('Ramjee', 37)\n",
    "print(p1.name)\n",
    "print(p1.age)"
   ]
  },
  {
   "cell_type": "code",
   "execution_count": 113,
   "metadata": {},
   "outputs": [
    {
     "name": "stdout",
     "output_type": "stream",
     "text": [
      "Ramjee\n",
      "37\n",
      "47\n"
     ]
    }
   ],
   "source": [
    "# 3. How do you define a constructor in a Python class? Provide an example.\n",
    "\n",
    "\n",
    "# A constructor is defined using a special method named `__init__`. It is called automatically when you create an instance of a class.\n",
    " \n",
    "class PwSkills:\n",
    "    def __init__(self, parameter1, parameter2, parameter3):\n",
    "        # The 'self' parameter represents the instance of the class.\n",
    "        self.name = parameter1\n",
    "        self.age = parameter2\n",
    "        self.roll = parameter3\n",
    "        \n",
    "\n",
    "# Creating an instance of MyClass and calling the constructor (__init__ method).\n",
    "my_object = PwSkills(\"Ramjee\",37,47)\n",
    "\n",
    "# Accessing the attributes of the object.\n",
    "print(my_object.name) \n",
    "print(my_object.age)  \n",
    "print(my_object.roll)  "
   ]
  },
  {
   "cell_type": "code",
   "execution_count": 114,
   "metadata": {},
   "outputs": [],
   "source": [
    "# 4. Explain the `__init__` method in Python and its role in constructors."
   ]
  },
  {
   "cell_type": "markdown",
   "metadata": {},
   "source": [
    "The `__init__` method in Python is a special method (dunder or magic method) used to initialize attributes of an object when it is created. It is commonly referred to as the *constructor* because it gets called automatically when you create an instance of a class."
   ]
  },
  {
   "cell_type": "code",
   "execution_count": 115,
   "metadata": {},
   "outputs": [
    {
     "name": "stdout",
     "output_type": "stream",
     "text": [
      "Name :Ramjee, Age is :37 Yrs\n"
     ]
    }
   ],
   "source": [
    "# 5. In a class named `Person`, create a constructor that initializes the `name` and `age` attributes. Provide an example of creating an object of this class.\n",
    "\n",
    "\n",
    "#  define class as Person with parameter name and age\n",
    "class Person:\n",
    "    def __init__(self, name, age):\n",
    "        self.name = name\n",
    "        self.age = age\n",
    "    def __str__(self):\n",
    "        return f'Name :{self.name}, Age is :{self.age} Yrs' # Return the value\n",
    "# driver code    \n",
    "p2 = Person(\"Ramjee\", 37)\n",
    "# print\n",
    "print(p2)"
   ]
  },
  {
   "cell_type": "code",
   "execution_count": 116,
   "metadata": {},
   "outputs": [],
   "source": [
    "# 6. How can you call a constructor explicitly in Python? Give an example."
   ]
  },
  {
   "cell_type": "markdown",
   "metadata": {},
   "source": [
    "We typically don't call a constructor explicitly as it is automatically called when an instance of a class is created. However, if we need to call the constructor explicitly for any reason, we can do so. \n",
    "\n",
    "1. First of all we create an instance of a class using the dunder method `__new__` this will create an instance but not call the constructor implicitly.\n",
    "\n",
    "2. Then we explicitly call the `__init__` dunder method using the instance created above in the step 1."
   ]
  },
  {
   "cell_type": "code",
   "execution_count": 117,
   "metadata": {},
   "outputs": [
    {
     "name": "stdout",
     "output_type": "stream",
     "text": [
      "Student Name: Ramjee, Roll No: 50\n"
     ]
    }
   ],
   "source": [
    "class Student:\n",
    "    def __init__(self, name, roll_no):\n",
    "        self.name = name\n",
    "        self.roll_no = roll_no\n",
    "\n",
    "    def __str__(self):\n",
    "        return f'Student Name: {self.name}, Roll No: {self.roll_no}'\n",
    "\n",
    "# Creating instance without calling constructor\n",
    "student1 = Student.__new__(Student)\n",
    "\n",
    "# Explicitly calling __init__ (constructor)\n",
    "Student.__init__(student1, 'Ramjee', 50)\n",
    "\n",
    "# Print\n",
    "print(student1)"
   ]
  },
  {
   "cell_type": "code",
   "execution_count": 118,
   "metadata": {},
   "outputs": [],
   "source": [
    "# 7. What is the significance of the `self` parameter in Python constructors? Explain with an example."
   ]
  },
  {
   "cell_type": "markdown",
   "metadata": {},
   "source": [
    "The `self` parameter in constructors and methods (*functions*) serves as a reference to the instance of the class itself. It allows you to access and modify attributes or even call/access methods of the object within the class.\n"
   ]
  },
  {
   "cell_type": "code",
   "execution_count": 119,
   "metadata": {},
   "outputs": [
    {
     "name": "stdout",
     "output_type": "stream",
     "text": [
      "Hi, My name is Ramjee and I am 37 years old.\n"
     ]
    }
   ],
   "source": [
    "class Person:\n",
    "    # self in constructor used to modify/set value of attributes\n",
    "    def __init__(self, name, age):\n",
    "        self.name = name\n",
    "        self.age = age\n",
    "\n",
    "    # Self in method is used to access attibutes i.e. name and age\n",
    "    def get_details(self):\n",
    "        return f\"Hi, My name is {self.name} and I am {self.age} years old.\"\n",
    "    \n",
    "# Create person\n",
    "p1 = Person('Ramjee', 37)\n",
    "\n",
    "# Print\n",
    "print(p1.get_details())"
   ]
  },
  {
   "cell_type": "code",
   "execution_count": 120,
   "metadata": {},
   "outputs": [],
   "source": [
    "# 8. Discuss the concept of default constructors in Python. When are they used?"
   ]
  },
  {
   "cell_type": "markdown",
   "metadata": {},
   "source": [
    "In Python, there are no explicit \"default constructors\" as such. Instead, Python provides a default constructor implicitly, which is the `__init__` method, and this gets called automatically when you create an instance of a class.\n",
    "\n",
    "The `__init__` method can be thought of as the default constructor because it serves the purpose of initializing the attributes of an object. If you don't define a custom `__init__` method in your class, Python provides a default one for you.\n",
    "\n",
    "*Example of class with out explicit `__init__` method*:"
   ]
  },
  {
   "cell_type": "code",
   "execution_count": 121,
   "metadata": {},
   "outputs": [
    {
     "name": "stdout",
     "output_type": "stream",
     "text": [
      "6\n"
     ]
    }
   ],
   "source": [
    "class Calculator:\n",
    "    def add(self, a, b):\n",
    "        return a + b\n",
    "    \n",
    "    def substraction(self, a ,b):\n",
    "        return a - b\n",
    "    \n",
    "    def multiplication(self , a ,b):\n",
    "        return a * b\n",
    "    \n",
    "    def division(self, a, b):\n",
    "        return a / b\n",
    "    \n",
    "# Creating an object/instance using default constructor (implicit __init__ from python)\n",
    "\n",
    "cal = Calculator()\n",
    "\n",
    "print(cal.add(2,4))      "
   ]
  },
  {
   "cell_type": "code",
   "execution_count": 122,
   "metadata": {},
   "outputs": [
    {
     "name": "stdout",
     "output_type": "stream",
     "text": [
      "Area of Rectangle is 12\n"
     ]
    }
   ],
   "source": [
    "# 9. Create a Python class called `Rectangle` with a constructor that initializes the `width` and `height` attributes. Provide a method to calculate the area of the rectangle.\n",
    "\n",
    "\n",
    "class Rectangle:\n",
    "    def __init__(self,width, height):\n",
    "        self.width = width\n",
    "        self.height = height\n",
    "    \n",
    "    def area(self):\n",
    "        return self.width * self.height\n",
    "    \n",
    "calarea = Rectangle(3,4)\n",
    "area_of_rect = calarea.area()\n",
    "print(f'Area of Rectangle is {area_of_rect}')\n",
    "    \n",
    "    "
   ]
  },
  {
   "cell_type": "code",
   "execution_count": 123,
   "metadata": {},
   "outputs": [
    {
     "name": "stdout",
     "output_type": "stream",
     "text": [
      "Area of rectangle1: 21\n",
      "Area of rectangle2: 49\n",
      "Area of rectangle3: 0\n"
     ]
    }
   ],
   "source": [
    "# 10. How can you have multiple constructors in a Python class? Explain with an example.\n",
    "\n",
    "'''In Python, you can't have multiple constructors as in some other programming languages. However, you can achieve similar functionality by using default parameter values and optional arguments.'''\n",
    "\n",
    "\n",
    "class Rectangle:\n",
    "    def __init__(self, width=None, height=None):\n",
    "        if width is not None and height is not None:\n",
    "            self.width = width\n",
    "            self.height = height\n",
    "        elif width is not None:\n",
    "            self.width = width\n",
    "            self.height = width\n",
    "        elif height is not None:\n",
    "            self.width = height\n",
    "            self.height = height\n",
    "        else:\n",
    "            self.width = 0\n",
    "            self.height = 0\n",
    "\n",
    "    def calculate_area(self):\n",
    "        return self.width * self.height\n",
    "\n",
    "# Creating instances of the Rectangle class\n",
    "rectangle1 = Rectangle(3, 7)\n",
    "# Square of 7x7\n",
    "rectangle2 = Rectangle(7)\n",
    "rectangle3 = Rectangle()\n",
    "\n",
    "# Calculating the areas\n",
    "area1 = rectangle1.calculate_area()\n",
    "area2 = rectangle2.calculate_area()\n",
    "area3 = rectangle3.calculate_area()\n",
    "\n",
    "print(f\"Area of rectangle1: {area1}\")\n",
    "print(f\"Area of rectangle2: {area2}\")\n",
    "print(f\"Area of rectangle3: {area3}\")\n"
   ]
  },
  {
   "cell_type": "code",
   "execution_count": 124,
   "metadata": {},
   "outputs": [],
   "source": [
    "# 11. What is method overloading, and how is it related to constructors in Python?\n"
   ]
  },
  {
   "cell_type": "markdown",
   "metadata": {},
   "source": [
    "Method overloading is a feature that allows a class to have multiple methods with the same name but different parameter lists. This means you can define multiple versions of a method, each accepting different arguments. In **Python** however, if you define multiple methods with the same name in a class, the last one defined will override the previous ones.\n",
    "\n",
    "However, you can achieve similar functionality through default parameter values and optional arguments. This way, a single method can handle different argument combinations.\n",
    "\n",
    "In case of **constructors** in Python, you can use default parameter values to simulate constructor overloading. By providing default values for constructor parameters, you can create instances of a class with different initial states based on the arguments provided during object creation (*as shown in the previous question's answer i.e. class Rectangle*).\n"
   ]
  },
  {
   "cell_type": "code",
   "execution_count": 125,
   "metadata": {},
   "outputs": [
    {
     "name": "stdout",
     "output_type": "stream",
     "text": [
      "Area of rectangle1: 21\n",
      "Area of rectangle2: 49\n",
      "Area of rectangle3: 0\n"
     ]
    }
   ],
   "source": [
    "class Rectangle:\n",
    "    def __init__(self, width=None, height=None):\n",
    "        if width is not None and height is not None:\n",
    "            self.width = width\n",
    "            self.height = height\n",
    "        elif width is not None:\n",
    "            self.width = width\n",
    "            self.height = width\n",
    "        elif height is not None:\n",
    "            self.width = height\n",
    "            self.height = height\n",
    "        else:\n",
    "            self.width = 0\n",
    "            self.height = 0\n",
    "\n",
    "    def calculate_area(self):\n",
    "        return self.width * self.height\n",
    "\n",
    "# Creating instances of the Rectangle class\n",
    "rectangle1 = Rectangle(3, 7)\n",
    "# Square of 7x7\n",
    "rectangle2 = Rectangle(7)\n",
    "rectangle3 = Rectangle()\n",
    "\n",
    "# Calculating the areas\n",
    "area1 = rectangle1.calculate_area()\n",
    "area2 = rectangle2.calculate_area()\n",
    "area3 = rectangle3.calculate_area()\n",
    "\n",
    "print(f\"Area of rectangle1: {area1}\")\n",
    "print(f\"Area of rectangle2: {area2}\")\n",
    "print(f\"Area of rectangle3: {area3}\")"
   ]
  },
  {
   "cell_type": "code",
   "execution_count": 126,
   "metadata": {},
   "outputs": [],
   "source": [
    "# 12. Explain the use of the `super()` function in Python constructors. Provide an example.\n"
   ]
  },
  {
   "cell_type": "markdown",
   "metadata": {},
   "source": [
    "The `super()` function in Python is a way to access methods and attributes from a parent class (superclass) within a child class (subclass). It is typically used to invoke the behavior of the parent class, especially in the context of constructors of the child class.\n",
    "\n",
    "In the case of constructors, `super()` is commonly used to ensure that attributes inherited from the parent class are properly initialized before adding new attributes specific to the child class."
   ]
  },
  {
   "cell_type": "code",
   "execution_count": 127,
   "metadata": {},
   "outputs": [
    {
     "name": "stdout",
     "output_type": "stream",
     "text": [
      "Sammy\n",
      "Labrador\n"
     ]
    }
   ],
   "source": [
    "class Animal:\n",
    "    def __init__(self, name):\n",
    "        self.name = name\n",
    "\n",
    "class Dog(Animal):\n",
    "    def __init__(self, name, breed):\n",
    "          # This line below invokes the parent class's constructor\n",
    "        super().__init__(name)\n",
    "        self.breed = breed\n",
    "\n",
    "# Creating a Dog instance\n",
    "dog = Dog(\"Sammy\", \"Labrador\")\n",
    "\n",
    "# Printing name and breed\n",
    "print(dog.name)\n",
    "print(dog.breed)"
   ]
  },
  {
   "cell_type": "code",
   "execution_count": 128,
   "metadata": {},
   "outputs": [
    {
     "name": "stdout",
     "output_type": "stream",
     "text": [
      "Title: Written in the bones\n",
      "Author: John\n",
      "Published Year: 1971\n"
     ]
    }
   ],
   "source": [
    "# 13. Create a class called `Book` with a constructor that initializes the `title`, `author`, and `published_year` attributes. Provide a method to display book details.\n",
    "\n",
    "# Create a class called `Book`\n",
    "class Book:\n",
    "    # constructor that initializes the `title`, `author`, and `published_year`\n",
    "    def __init__(self, title, author, published_year):\n",
    "        self.title = title\n",
    "        self.author = author\n",
    "        self.published_year = published_year\n",
    "\n",
    "    # method to display book details\n",
    "    def display_details(self):\n",
    "        print(f\"Title: {self.title}\")\n",
    "        print(f\"Author: {self.author}\")\n",
    "        print(f\"Published Year: {self.published_year}\")\n",
    "\n",
    "# Creating an instance of the Book class\n",
    "book1 = Book(\"Written in the bones\", \"John\", 1971)\n",
    "\n",
    "# Displaying book details\n",
    "book1.display_details()"
   ]
  },
  {
   "cell_type": "code",
   "execution_count": 129,
   "metadata": {},
   "outputs": [],
   "source": [
    "# 14. Discuss the differences between constructors and regular methods in Python classes.\n"
   ]
  },
  {
   "cell_type": "markdown",
   "metadata": {},
   "source": [
    "Constructors and regular methods are both functions defined within a class in Python, but they serve different purposes and have distinct characteristics as below:\n",
    "\n",
    "|         | Constructor | Regular Method |\n",
    "| ------- | ----------- | -------------- |\n",
    "| **Purpose** | Purpose of a constructor is to initialize the attributes of an object when it is created.  It is automatically called when you create an instance of a class. | Regular methods perform operations or provide functionality related to the class. You need to explicitly call  regular methods after the object has been created to perform specific actions.  |\n",
    "| **Naming** | The constructor has a special predefined name `__init__ ` | Regular methods can have any valid method name. |\n",
    "| **Return Value** |  Constructors do not have a return statement.  | Regular methods can have a return statement to return a value. |\n",
    "| **Multiple Definitions** | There can be only one constructor (`__init__`) in a class. | You can define multiple regular methods in a class. |\n",
    "\n"
   ]
  },
  {
   "cell_type": "code",
   "execution_count": 130,
   "metadata": {},
   "outputs": [],
   "source": [
    "# 15. Explain the role of the `self` parameter in instance variable initialization within a constructor."
   ]
  },
  {
   "cell_type": "markdown",
   "metadata": {},
   "source": [
    "The `self` parameter in Python is a convention used to represent the instance of a class within its methods, including the constructor (`__init__`). It allows you to access and manipulate the attributes and methods of the object within the class.\n",
    "\n",
    "Within a constructor, `self` is used to differentiate between the attributes of the instance being created and any other variables with the same name. It helps bind attributes to the specific instance of the class.\n",
    "\n",
    "* **Creating Attributes**: Inside the `__init__` method, you define the attributes (instance variables) that you want each object of the class to have.\n",
    "\n",
    "* **Accessing Attributes**: To set the values of these attributes, you use `self.attribute_name = value`. \n",
    "\n",
    "* **Avoiding Name Conflicts**: The use of `self` ensures that you are working with the attributes of the instance being created, even if there are other variables in the class or method with the same name like arguments name (parameters name).\n",
    "\n",
    "* **Binding Attributes to the Instance**: When you create an instance of the class, `self` is automatically assigned to refer to that instance. This ensures that any attribute assigned using `self` is specific to that particular instance.\n"
   ]
  },
  {
   "cell_type": "code",
   "execution_count": 131,
   "metadata": {},
   "outputs": [
    {
     "name": "stdout",
     "output_type": "stream",
     "text": [
      "Name: Ramjee, Age: 37 Yrs\n"
     ]
    }
   ],
   "source": [
    "# Class named Person with constructor that initializes the `name` and `age` using self\n",
    "class Person:\n",
    "    # constructor that initializes the `name` and `age` using self\n",
    "    def __init__(self, name, age):\n",
    "        self.name = name\n",
    "        self.age = age\n",
    "    \n",
    "    def __str__(self):\n",
    "        return f'Name: {self.name}, Age: {self.age} Yrs'\n",
    "\n",
    "# example of creating an object of this class\n",
    "p1 = Person('Ramjee', 37)\n",
    "\n",
    "print(p1)"
   ]
  },
  {
   "cell_type": "code",
   "execution_count": 132,
   "metadata": {},
   "outputs": [],
   "source": [
    "# 16. How do you prevent a class from having multiple instances by using constructors in Python? Provide an example.\n"
   ]
  },
  {
   "cell_type": "markdown",
   "metadata": {},
   "source": [
    "In Python 3, you can implement the Singleton pattern using a metaclass. A metaclass is a class for classes, allowing you to customize class creation. "
   ]
  },
  {
   "cell_type": "code",
   "execution_count": 133,
   "metadata": {},
   "outputs": [
    {
     "name": "stdout",
     "output_type": "stream",
     "text": [
      "Instance 1\n",
      "Instance 1\n"
     ]
    }
   ],
   "source": [
    "# Meta class for the Singelton class\n",
    "class SingletonMeta(type):\n",
    "    _instances = {}\n",
    "\n",
    "    def __call__(cls, *args, **kwargs):\n",
    "        if cls not in cls._instances:\n",
    "            cls._instances[cls] = super().__call__(*args, **kwargs)\n",
    "        return cls._instances[cls]\n",
    "\n",
    "# Actual singleton class\n",
    "class Singleton(metaclass=SingletonMeta):\n",
    "    def __init__(self, data):\n",
    "        self.data = data\n",
    "\n",
    "\n",
    "# Creating instances of SingletonClass\n",
    "singleton1 = Singleton(\"Instance 1\")\n",
    "singleton2 = Singleton(\"Instance 2\")\n",
    "\n",
    "print(singleton1.data)\n",
    "print(singleton2.data)\n"
   ]
  },
  {
   "cell_type": "markdown",
   "metadata": {},
   "source": [
    "We can also use the decorator similar to Meta class used above. Example below:"
   ]
  },
  {
   "cell_type": "code",
   "execution_count": 134,
   "metadata": {},
   "outputs": [
    {
     "name": "stdout",
     "output_type": "stream",
     "text": [
      "Instance 1\n",
      "Instance 1\n"
     ]
    }
   ],
   "source": [
    "def singleton(class_):\n",
    "    instances = {}\n",
    "\n",
    "    def ensure_singleton_instance(*args, **kwargs):\n",
    "        if class_ not in instances:\n",
    "            instances[class_] = class_(*args, **kwargs)\n",
    "        return instances[class_]\n",
    "\n",
    "    return ensure_singleton_instance\n",
    "\n",
    "# using decorator below\n",
    "@singleton\n",
    "class Singleton:\n",
    "    def __init__(self, data):\n",
    "        self.data = data\n",
    "\n",
    "# Creating instances of Singleton\n",
    "singleton1 = Singleton(\"Instance 1\")\n",
    "singleton2 = Singleton(\"Instance 2\")\n",
    "\n",
    "print(singleton1.data)\n",
    "print(singleton2.data)"
   ]
  },
  {
   "cell_type": "code",
   "execution_count": 135,
   "metadata": {},
   "outputs": [
    {
     "name": "stdout",
     "output_type": "stream",
     "text": [
      "Subjects:\n",
      "ML\n",
      "DataSciene\n",
      "Deep Learning\n",
      "NLP\n"
     ]
    }
   ],
   "source": [
    "# 17. Create a Python class called `Student` with a constructor that takes a list of subjects as a parameter and initializes the `subjects` attribute.\n",
    "\n",
    "class Student:\n",
    "    def __init__(self, subjects):\n",
    "        self.subjects = subjects\n",
    "\n",
    "    def display_subjects(self):\n",
    "        print(\"Subjects:\")\n",
    "        for subject in self.subjects:\n",
    "            print(subject)\n",
    "\n",
    "# Creating an instance of Student\n",
    "student1 = Student([\"ML\", \"DataSciene\", \"Deep Learning\", \"NLP\"])\n",
    "\n",
    "# Displaying the subjects\n",
    "student1.display_subjects()\n"
   ]
  },
  {
   "cell_type": "code",
   "execution_count": 136,
   "metadata": {},
   "outputs": [],
   "source": [
    "# 18. What is the purpose of the `__del__` method in Python classes, and how does it relate to constructors?\n"
   ]
  },
  {
   "cell_type": "markdown",
   "metadata": {},
   "source": [
    "The `__del__` method (destructor) in Python is used to define the destruction logic for objects of a class. It's called automatically when an object is about to be destroyed, which typically occurs when there are no more references to the object. The purpose of the `__del__` method is to perform any necessary cleanup or finalization before the object is removed from memory.\n",
    "\n",
    "While constructors (`__init__` method) are used for initializing object attributes and setting up the initial state of an object, the `__del__` method is used for performing cleanup tasks or releasing resources associated with the object."
   ]
  },
  {
   "cell_type": "code",
   "execution_count": 137,
   "metadata": {},
   "outputs": [
    {
     "name": "stdout",
     "output_type": "stream",
     "text": [
      "Object Student 1 created\n",
      "Object Student 2 created\n",
      "Object Student 1 is being destroyed\n",
      "Object Student 2 is being destroyed\n"
     ]
    }
   ],
   "source": [
    "class Student:\n",
    "    def __init__(self, name):\n",
    "        self.name = name\n",
    "        print(f\"Object {self.name} created\")\n",
    "\n",
    "    def __del__(self):\n",
    "        print(f\"Object {self.name} is being destroyed\")\n",
    "\n",
    "# Creating instances of Example class\n",
    "obj1 = Student(\"Student 1\")\n",
    "obj2 = Student(\"Student 2\")\n",
    "\n",
    "# Deleting references to objects\n",
    "del obj1\n",
    "del obj2"
   ]
  },
  {
   "cell_type": "code",
   "execution_count": 138,
   "metadata": {},
   "outputs": [],
   "source": [
    "# 19. Explain the use of constructor chaining in Python. Provide a practical example.\n"
   ]
  },
  {
   "cell_type": "markdown",
   "metadata": {},
   "source": [
    "Constructor chaining in Python refers to the ability of a subclass to call the constructor of its parent class. This allows you to reuse the initialization logic defined in the parent class's constructor (`__init__` using `super()`) when creating instances of the subclass."
   ]
  },
  {
   "cell_type": "code",
   "execution_count": 139,
   "metadata": {},
   "outputs": [
    {
     "name": "stdout",
     "output_type": "stream",
     "text": [
      "Sammy\n",
      "Labrador\n"
     ]
    }
   ],
   "source": [
    "class Animal:\n",
    "    def __init__(self, name):\n",
    "        self.name = name\n",
    "\n",
    "class Dog(Animal):\n",
    "    def __init__(self, name, breed):\n",
    "          # This line below invokes the parent class's constructor (Constructor chaining)\n",
    "        super().__init__(name)\n",
    "        self.breed = breed\n",
    "\n",
    "# Creating a Dog instance\n",
    "dog = Dog(\"Sammy\", \"Labrador\")\n",
    "\n",
    "# Printing name and breed\n",
    "print(dog.name)\n",
    "print(dog.breed)"
   ]
  },
  {
   "cell_type": "code",
   "execution_count": 140,
   "metadata": {},
   "outputs": [
    {
     "name": "stdout",
     "output_type": "stream",
     "text": [
      "Car make: Hyundai, Model: Ioniq 5\n"
     ]
    }
   ],
   "source": [
    "# 20. Create a Python class called `Car` with a default constructor that initializes the `make` and `model` attributes. Provide a method to display car information.\n",
    "\n",
    "class Car:\n",
    "\n",
    "    # Default constructor (parameter less) initializing value of make and model\n",
    "    def __init__(self):\n",
    "        self.make = \"Hyundai\"\n",
    "        self.model = \"Ioniq 5\"\n",
    "\n",
    "    def display_details(self):\n",
    "        print(f'Car make: {self.make}, Model: {self.model}')\n",
    "\n",
    "# Create an instance\n",
    "car1 = Car()\n",
    "\n",
    "car1.display_details()"
   ]
  },
  {
   "cell_type": "markdown",
   "metadata": {},
   "source": [
    "Inheritance ➖"
   ]
  },
  {
   "cell_type": "code",
   "execution_count": 141,
   "metadata": {},
   "outputs": [],
   "source": [
    "# 1. What is inheritance in Python? Explain its significance in object-oriented programming."
   ]
  },
  {
   "cell_type": "markdown",
   "metadata": {},
   "source": [
    "**Inheritance**: Inheritance is a fundamental concept in object-oriented programming (OOP) that allows one class (the subclass or derived class) to inherit the properties and behaviors of another class (the superclass or base class). Inheritance is a mechanism that models the \"is-a\" relationship, where a subclass is a specialized version of its superclass.\n",
    "\n",
    "**Inheritance in Python**: In Python, you define inheritance by creating a new class and specifying the base class it inherits from inside parentheses. The subclass then inherits attributes and methods from the superclass.\n",
    "\n",
    "**Significance of Inheritance**:\n",
    "\n",
    "* **Code Reusability**: Inheritance promotes code reusability by allowing you to reuse existing code from a superclass in a new class.\n",
    "\n",
    "* **Extensibility**: You can create more specialized classes (subclasses) by inheriting from a more general class (superclass). This enables you to extend or override the behaviors of the superclass to fit the specific needs of the subclass.\n",
    "\n",
    "* **Hierarchy and Organization**: Inheritance allows you to create hierarchical structures of classes, making the code more organized and easy to understand. It models the real-world relationships between objects.\n",
    "\n",
    "Real world example of Dog class and Cat class inheriting from animal class:"
   ]
  },
  {
   "cell_type": "code",
   "execution_count": 142,
   "metadata": {},
   "outputs": [
    {
     "name": "stdout",
     "output_type": "stream",
     "text": [
      "Dog says: Woof!\n",
      "Cat says: Meow!\n"
     ]
    }
   ],
   "source": [
    "class Animal:\n",
    "    def __init__(self, species):\n",
    "        self.species = species\n",
    "\n",
    "    def speak(self):\n",
    "        pass\n",
    "\n",
    "class Dog(Animal):\n",
    "    def speak(self):\n",
    "        return \"Woof!\"\n",
    "\n",
    "class Cat(Animal):\n",
    "    def speak(self):\n",
    "        return \"Meow!\"\n",
    "\n",
    "# Creating instances of subclasses\n",
    "dog = Dog(\"Dog\")\n",
    "cat = Cat(\"Cat\")\n",
    "\n",
    "# Calling the speak method on instances\n",
    "print(f\"{dog.species} says: {dog.speak()}\")\n",
    "print(f\"{cat.species} says: {cat.speak()}\")\n"
   ]
  },
  {
   "cell_type": "code",
   "execution_count": 143,
   "metadata": {},
   "outputs": [],
   "source": [
    "# 2. Differentiate between single inheritance and multiple inheritance in Python. Provide examples for each."
   ]
  },
  {
   "cell_type": "markdown",
   "metadata": {},
   "source": [
    "In Python, inheritance can be categorized into two main types: single inheritance and multiple inheritance. Let's differentiate between these two types and provide examples for each:\n",
    "\n",
    "**Single Inheritance**:\n",
    "\n",
    "Single inheritance is a type of inheritance where a subclass (derived class) inherits from a single superclass (base class). It forms a linear hierarchy of classes."
   ]
  },
  {
   "cell_type": "code",
   "execution_count": 144,
   "metadata": {},
   "outputs": [
    {
     "name": "stdout",
     "output_type": "stream",
     "text": [
      "Dog says: Woof!\n"
     ]
    }
   ],
   "source": [
    "class Animal:\n",
    "    def __init__(self, species):\n",
    "        self.species = species\n",
    "\n",
    "    def speak(self):\n",
    "        pass\n",
    "\n",
    "class Dog(Animal):\n",
    "    def speak(self):\n",
    "        return \"Woof!\"\n",
    "\n",
    "# Creating instance of subclass\n",
    "dog = Dog(\"Dog\")\n",
    "\n",
    "# Calling the speak method on instance\n",
    "print(f\"{dog.species} says: {dog.speak()}\")"
   ]
  },
  {
   "cell_type": "markdown",
   "metadata": {},
   "source": [
    "**Multiple Inheritance**:\n",
    "\n",
    "Multiple inheritance is a type of inheritance where a subclass (derived class) can inherit from more than one superclass (base class). This allows a class to inherit attributes and methods from multiple sources."
   ]
  },
  {
   "cell_type": "code",
   "execution_count": 145,
   "metadata": {},
   "outputs": [
    {
     "name": "stdout",
     "output_type": "stream",
     "text": [
      "Method from Parent1\n",
      "Method from Parent2\n",
      "Method from Child\n"
     ]
    }
   ],
   "source": [
    "class Parent1:\n",
    "    def method1(self):\n",
    "        return \"Method from Parent1\"\n",
    "\n",
    "class Parent2:\n",
    "    def method2(self):\n",
    "        return \"Method from Parent2\"\n",
    "\n",
    "class Child(Parent1, Parent2):\n",
    "    def method3(self):\n",
    "        return \"Method from Child\"\n",
    "\n",
    "# Creating an instance of Child\n",
    "child = Child()\n",
    "\n",
    "# Calling methods from different base classes and the child class\n",
    "print(child.method1())\n",
    "print(child.method2())\n",
    "print(child.method3())\n"
   ]
  },
  {
   "cell_type": "code",
   "execution_count": 146,
   "metadata": {},
   "outputs": [
    {
     "name": "stdout",
     "output_type": "stream",
     "text": [
      "Color: Red\n",
      "Speed: 120\n",
      "Brand: Toyota\n"
     ]
    }
   ],
   "source": [
    "# 3. Create a Python class called `Vehicle` with attributes `color` and `speed`. Then, create a child class called `Car` that inherits from `Vehicle` and adds a `brand` attribute. Provide an example of creating a `Car` object.\n",
    "\n",
    "\n",
    "class Vehicle:\n",
    "    def __init__(self, color, speed):\n",
    "        self.color = color\n",
    "        self.speed = speed\n",
    "\n",
    "class Car(Vehicle):\n",
    "    def __init__(self, color, speed, brand):\n",
    "        super().__init__(color, speed)\n",
    "        self.brand = brand\n",
    "\n",
    "# Creating an instance of Car\n",
    "my_car = Car(\"Red\", 120, \"Toyota\")\n",
    "\n",
    "# Accessing attributes of Car\n",
    "print(f\"Color: {my_car.color}\")\n",
    "print(f\"Speed: {my_car.speed}\")\n",
    "print(f\"Brand: {my_car.brand}\")"
   ]
  },
  {
   "cell_type": "code",
   "execution_count": 147,
   "metadata": {},
   "outputs": [],
   "source": [
    "# 4. Explain the concept of method overriding in inheritance. Provide a practical example."
   ]
  },
  {
   "cell_type": "markdown",
   "metadata": {},
   "source": [
    "**Method overriding** is a concept in inheritance where a subclass provides its own implementation of a method that is already defined in its superclass. This allows the subclass to customize or extend the behavior of the inherited method while retaining the method's name and signature.\n",
    "\n",
    "Key points about method overriding:\n",
    "\n",
    "* The overridden method in the subclass must have the same name, parameters, and return type as the method in the superclass.\n",
    "\n",
    "* The super() function can be used to call the overridden method in the superclass within the subclass's overridden method.\n",
    "\n",
    "* Method overriding is a form of runtime polymorphism, where the same method name can behave differently based on the object's actual class."
   ]
  },
  {
   "cell_type": "code",
   "execution_count": 148,
   "metadata": {},
   "outputs": [
    {
     "name": "stdout",
     "output_type": "stream",
     "text": [
      "Circle Area: 78.53975\n",
      "Square Area: 16\n"
     ]
    }
   ],
   "source": [
    "class Shape:\n",
    "    def area(self):\n",
    "        pass\n",
    "\n",
    "class Circle(Shape):\n",
    "    def __init__(self, radius):\n",
    "        self.radius = radius\n",
    "\n",
    "    def area(self):\n",
    "        return 3.14159 * self.radius * self.radius\n",
    "\n",
    "class Square(Shape):\n",
    "    def __init__(self, side_length):\n",
    "        self.side_length = side_length\n",
    "\n",
    "    def area(self):\n",
    "        return self.side_length * self.side_length\n",
    "\n",
    "# Creating instances of Circle and Square\n",
    "circle = Circle(5)\n",
    "square = Square(4)\n",
    "\n",
    "# Calling the overridden area method\n",
    "print(f\"Circle Area: {circle.area()}\")\n",
    "print(f\"Square Area: {square.area()}\")\n"
   ]
  },
  {
   "cell_type": "code",
   "execution_count": 149,
   "metadata": {},
   "outputs": [],
   "source": [
    "# 5. How can you access the methods and attributes of a parent class from a child class in Python? Give an example."
   ]
  },
  {
   "cell_type": "markdown",
   "metadata": {},
   "source": [
    "In Python, you can access the methods and attributes of a parent (superclass or base class) from a child (subclass or derived class) using the super() function. The super() function provides a way to call methods and access attributes of the parent class within the child class."
   ]
  },
  {
   "cell_type": "code",
   "execution_count": 150,
   "metadata": {},
   "outputs": [
    {
     "name": "stdout",
     "output_type": "stream",
     "text": [
      " Make: Hyundai\n",
      " Model: Ioniq 5\n",
      " Color: White\n",
      " category: SUV\n"
     ]
    }
   ],
   "source": [
    "class Vehicle:\n",
    "\n",
    "    def __init__(self, make, model, color):\n",
    "        self.make = make\n",
    "        self.model = model\n",
    "        self.color = color\n",
    "\n",
    "    def get_details(self):\n",
    "        return f' Make: {self.make}\\n Model: {self.model}\\n Color: {self.color}'\n",
    "    \n",
    "class Car(Vehicle):\n",
    "\n",
    "    def __init__(self, make, model, color, category):\n",
    "        # Using super to call construtor from parent class\n",
    "        super().__init__(make, model, color)\n",
    "        self.category = category\n",
    "\n",
    "    def get_details(self):\n",
    "        # Using super to call get_details from parent class\n",
    "        vehicle_details = super().get_details()\n",
    "        return f'{vehicle_details}\\n category: {self.category}' \n",
    "\n",
    "# Create instance\n",
    "car = Car(\"Hyundai\", \"Ioniq 5\", \"White\", \"SUV\")\n",
    "\n",
    "# Print details\n",
    "car_details = car.get_details()\n",
    "\n",
    "print(car_details)"
   ]
  },
  {
   "cell_type": "code",
   "execution_count": 151,
   "metadata": {},
   "outputs": [],
   "source": [
    "\n",
    "# 6. Discuss the use of the `super()` function in Python inheritance. When and why is it used? Provide an example."
   ]
  },
  {
   "cell_type": "markdown",
   "metadata": {},
   "source": [
    "The `super()` function in Python is used in the context of inheritance to call methods or access attributes from the parent class (superclass) within the child class (subclass). It is commonly used for the following purposes:\n",
    "\n",
    "* **Calling Superclass Constructors**: To invoke the constructor of the parent class, allowing the subclass to initialize its own attributes while retaining the attributes and behavior of the parent class.\n",
    "\n",
    "* **Method Overriding**: To call overridden methods from the parent class to include the behavior of the parent class before or after custom behavior defined in the child class.\n",
    "\n",
    "* **Cooperative Multiple Inheritance**: In cases of multiple inheritance, where a class inherits from more than one superclass, `super()` helps resolve method order conflicts and ensures proper method execution based on method resolution order.\n",
    "\n",
    "Example of usage of `super()`:"
   ]
  },
  {
   "cell_type": "code",
   "execution_count": 152,
   "metadata": {},
   "outputs": [
    {
     "name": "stdout",
     "output_type": "stream",
     "text": [
      " Make: Hyundai\n",
      " Model: Ioniq 5\n",
      " Color: White\n",
      " category: SUV\n"
     ]
    }
   ],
   "source": [
    "class Vehicle:\n",
    "\n",
    "    def __init__(self, make, model, color):\n",
    "        self.make = make\n",
    "        self.model = model\n",
    "        self.color = color\n",
    "\n",
    "    def get_details(self):\n",
    "        return f' Make: {self.make}\\n Model: {self.model}\\n Color: {self.color}'\n",
    "    \n",
    "class Car(Vehicle):\n",
    "\n",
    "    def __init__(self, make, model, color, category):\n",
    "        # Using super to call construtor from parent class\n",
    "        super().__init__(make, model, color)\n",
    "        self.category = category\n",
    "\n",
    "    def get_details(self):\n",
    "        # Using super to call get_details from parent class\n",
    "        vehicle_details = super().get_details()\n",
    "        return f'{vehicle_details}\\n category: {self.category}' \n",
    "\n",
    "# Create instance\n",
    "car = Car(\"Hyundai\", \"Ioniq 5\", \"White\", \"SUV\")\n",
    "\n",
    "# Print details\n",
    "car_details = car.get_details()\n",
    "\n",
    "print(car_details)"
   ]
  },
  {
   "cell_type": "code",
   "execution_count": 153,
   "metadata": {},
   "outputs": [
    {
     "name": "stdout",
     "output_type": "stream",
     "text": [
      "Dog says: Woof!\n",
      "Cat says: Meow!\n"
     ]
    }
   ],
   "source": [
    "# 7. Create a Python class called `Animal` with a method `speak()`. Then, create child classes `Dog` and `Cat` that inherit from `Animal` and override the `speak()` method. Provide an example of using these classes.\n",
    "\n",
    "\n",
    "class Animal:\n",
    "    def __init__(self, species):\n",
    "        self.species = species\n",
    "\n",
    "    def speak(self):\n",
    "        pass\n",
    "\n",
    "class Dog(Animal):\n",
    "    def speak(self):\n",
    "        return \"Woof!\"\n",
    "\n",
    "class Cat(Animal):\n",
    "    def speak(self):\n",
    "        return \"Meow!\"\n",
    "\n",
    "# Creating instances of subclasses\n",
    "dog = Dog(\"Dog\")\n",
    "cat = Cat(\"Cat\")\n",
    "\n",
    "# Calling the speak method on instances\n",
    "print(f\"{dog.species} says: {dog.speak()}\")\n",
    "print(f\"{cat.species} says: {cat.speak()}\")\n"
   ]
  },
  {
   "cell_type": "code",
   "execution_count": 154,
   "metadata": {},
   "outputs": [],
   "source": [
    "# 8. Explain the role of the `isinstance()` function in Python and how it relates to inheritance.\n"
   ]
  },
  {
   "cell_type": "markdown",
   "metadata": {},
   "source": [
    "The `isinstance()` function in Python is used to determine if an object belongs to a particular class or a subclass. It checks the type of an object and returns `True` if the object is an instance of the specified class or a subclass of that class.\n",
    "\n",
    "The `isinstance()` function plays a key role in inheritance by allowing you to test whether an object is an instance of a specific class or one of its subclasses. It is often used for the following purposes:\n",
    "\n",
    "**Type Checking**: To ensure that an object is of the expected type before performing operations on it. This helps prevent errors and unexpected behavior.\n",
    "\n",
    "**Polymorphism**: To enable the use of objects of different classes in a generic way, as long as they share a common superclass. This is a fundamental concept in object-oriented programming and is closely related to inheritance.\n",
    "\n",
    "Example:"
   ]
  },
  {
   "cell_type": "code",
   "execution_count": 155,
   "metadata": {},
   "outputs": [
    {
     "name": "stdout",
     "output_type": "stream",
     "text": [
      "True\n",
      "True\n",
      "False\n",
      "True\n"
     ]
    }
   ],
   "source": [
    "class Animal:\n",
    "    def speak(self):\n",
    "        pass\n",
    "\n",
    "class Dog(Animal):\n",
    "    def speak(self):\n",
    "        print(\"Woof!\")\n",
    "\n",
    "class Cat(Animal):\n",
    "    def speak(self):\n",
    "        print(\"Meow!\")\n",
    "\n",
    "# Creating instances of Dog and Cat\n",
    "dog = Dog()\n",
    "cat = Cat()\n",
    "\n",
    "# Checking the type using isinstance\n",
    "print(isinstance(dog, Animal))\n",
    "print(isinstance(cat, Animal)) \n",
    "print(isinstance(cat, Dog))  # False\n",
    "print(isinstance(dog, Dog))  # True"
   ]
  },
  {
   "cell_type": "code",
   "execution_count": 156,
   "metadata": {},
   "outputs": [],
   "source": [
    "# 9. What is the purpose of the `issubclass()` function in Python? Provide an example."
   ]
  },
  {
   "cell_type": "markdown",
   "metadata": {},
   "source": [
    "The issubclass() function in Python is used to check if a given class is a subclass of a specified class or a subclass of any class in a tuple of classes. It returns True if the first class is a subclass of the second class or any class in the tuple, and False otherwise.\n"
   ]
  },
  {
   "cell_type": "code",
   "execution_count": 157,
   "metadata": {},
   "outputs": [
    {
     "name": "stdout",
     "output_type": "stream",
     "text": [
      "True\n",
      "False\n",
      "True\n"
     ]
    }
   ],
   "source": [
    "class Animal:\n",
    "    pass\n",
    "\n",
    "class Dog(Animal):\n",
    "    pass\n",
    "\n",
    "# Checking if Dog is a subclass of Animal\n",
    "print(issubclass(Dog, Animal))  # True\n",
    "\n",
    "# Checking if Animal is a subclass of Dog (which is not the case)\n",
    "print(issubclass(Animal, Dog))  # False\n",
    "\n",
    "# Checking if Dog is a subclass of object (the base class of all classes in Python)\n",
    "print(issubclass(Dog, object))  # True"
   ]
  },
  {
   "cell_type": "code",
   "execution_count": 158,
   "metadata": {},
   "outputs": [],
   "source": [
    "# 10. Discuss the concept of constructor inheritance in Python. How are constructors inherited in child classes?"
   ]
  },
  {
   "cell_type": "markdown",
   "metadata": {},
   "source": [
    "In Python, **constructors** are inherited by default in child classes. This means that if a child class does not have its own `__init__` method, it will automatically inherit the `__init__` method of its parent class (superclass). If the child class does have its own `__init__` method, it will override the constructor of the parent class."
   ]
  },
  {
   "cell_type": "code",
   "execution_count": 159,
   "metadata": {},
   "outputs": [
    {
     "name": "stdout",
     "output_type": "stream",
     "text": [
      "Species: Canine\n",
      "Breed: Golden Retriever\n",
      "Cat species: Cat\n"
     ]
    }
   ],
   "source": [
    "class Animal:\n",
    "    def __init__(self, species):\n",
    "        self.species = species\n",
    "\n",
    "    def speak(self):\n",
    "        pass\n",
    "\n",
    "class Dog(Animal):\n",
    "    # Override the constructor of super class\n",
    "    def __init__(self, species, breed):\n",
    "        super().__init__(species)\n",
    "        self.breed = breed\n",
    "\n",
    "    def speak(self):\n",
    "        print(\"Wuff!\")\n",
    "\n",
    "class Cat(Animal):\n",
    "    # Here constructor from super class will be used\n",
    "\n",
    "    def speak(self):\n",
    "        print(\"Meow!\")\n",
    "\n",
    "# Create Instances\n",
    "dog = Dog(\"Canine\", \"Golden Retriever\")\n",
    "cat = Cat(\"Cat\")\n",
    "\n",
    "print(f\"Species: {dog.species}\")\n",
    "print(f\"Breed: {dog.breed}\")\n",
    "\n",
    "print(f\"Cat species: {cat.species}\")"
   ]
  },
  {
   "cell_type": "code",
   "execution_count": 160,
   "metadata": {},
   "outputs": [
    {
     "name": "stdout",
     "output_type": "stream",
     "text": [
      "Area of the circle: 153.86\n",
      "Area of the rectangle: 108\n"
     ]
    }
   ],
   "source": [
    "# 11. Create a Python class called `Shape` with a method `area()` that calculates the area of a shape. Then, create child classes `Circle` and `Rectangle` that inherit from `Shape` and implement the `area()` method accordingly. Provide an example.\n",
    "\n",
    "class Shape:\n",
    "    def area(self):\n",
    "        pass\n",
    "\n",
    "class Circle(Shape):\n",
    "    def __init__(self, radius):\n",
    "        self.radius = radius\n",
    "\n",
    "    def area(self):\n",
    "        return 3.14 * (self.radius ** 2)\n",
    "\n",
    "class Rectangle(Shape):\n",
    "    def __init__(self, length, width):\n",
    "        self.length = length\n",
    "        self.width = width\n",
    "\n",
    "    def area(self):\n",
    "        return self.length * self.width\n",
    "\n",
    "# Create Instances\n",
    "circle = Circle(7)\n",
    "rectangle = Rectangle(9, 12)\n",
    "\n",
    "print(f\"Area of the circle: {circle.area()}\") \n",
    "print(f\"Area of the rectangle: {rectangle.area()}\")\n"
   ]
  },
  {
   "cell_type": "code",
   "execution_count": 161,
   "metadata": {},
   "outputs": [],
   "source": [
    "# 12. Explain the use of abstract base classes (ABCs) in Python and how they relate to inheritance. Provide an example using the `abc` module."
   ]
  },
  {
   "cell_type": "markdown",
   "metadata": {},
   "source": [
    "**Abstract Base Classes** (ABCs) in Python provide a way to define a common interface for a group of related classes. They allow you to specify a set of methods that must be implemented by subclasses. In essence, ABCs define a contract that subclasses must adhere to.\n",
    "\n",
    "The abc module in Python's standard library is used to work with abstract base classes. It provides the ABC class and the abstractmethod decorator, which are key components for creating and using abstract base classes."
   ]
  },
  {
   "cell_type": "code",
   "execution_count": 162,
   "metadata": {},
   "outputs": [
    {
     "name": "stdout",
     "output_type": "stream",
     "text": [
      "Can't instantiate abstract class Shape with abstract method area\n",
      "Area of the circle: 153.86\n",
      "Area of the rectangle: 96\n"
     ]
    }
   ],
   "source": [
    "from abc import ABC, abstractmethod\n",
    "\n",
    "class Shape(ABC):\n",
    "    @abstractmethod\n",
    "    def area(self):\n",
    "        pass\n",
    "\n",
    "class Circle(Shape):\n",
    "    def __init__(self, radius):\n",
    "        self.radius = radius\n",
    "\n",
    "    def area(self):\n",
    "        return 3.14 * (self.radius ** 2)\n",
    "\n",
    "class Rectangle(Shape):\n",
    "    def __init__(self, length, width):\n",
    "        self.length = length\n",
    "        self.width = width\n",
    "\n",
    "    def area(self):\n",
    "        return self.length * self.width\n",
    "\n",
    "# Attempting to create an instance of Shape (which is not allowed)\n",
    "try:\n",
    "    shape = Shape()\n",
    "except TypeError as e:\n",
    "    print(e)  # Output: Can't instantiate abstract class Shape with abstract method area\n",
    "\n",
    "circle = Circle(7)\n",
    "rectangle = Rectangle(8, 12)\n",
    "\n",
    "print(f\"Area of the circle: {circle.area()}\")       # Output: Area of the circle: 78.5\n",
    "print(f\"Area of the rectangle: {rectangle.area()}\") # Output: Area of the rectangle: 24\n"
   ]
  },
  {
   "cell_type": "code",
   "execution_count": 163,
   "metadata": {},
   "outputs": [
    {
     "name": "stdout",
     "output_type": "stream",
     "text": [
      "I am private attribute\n"
     ]
    }
   ],
   "source": [
    "# 13. How can you prevent a child class from modifying certain attributes or methods inherited from a parent class in Python?\n",
    "\n",
    "\n",
    "# You can prevent attributes to be modified or methods to be inherited by derived class by making them private by using name mangling.\n",
    "\n",
    "\n",
    "class Parent:\n",
    "    def __init__(self):\n",
    "        self.__private_attribute = \"I am private attribute\"\n",
    "    \n",
    "    def print_details(self):\n",
    "        print(self.__private_attribute)\n",
    "\n",
    "class Child(Parent):\n",
    "    def __init__(self):\n",
    "        super().__init__()\n",
    "        # this wont change the __private_attribute in class parent\n",
    "        self.__private_attribute = \"This won't affect the parent\"\n",
    "\n",
    "\n",
    "child = Child()\n",
    "\n",
    "child.print_details()"
   ]
  },
  {
   "cell_type": "code",
   "execution_count": 164,
   "metadata": {},
   "outputs": [
    {
     "name": "stdout",
     "output_type": "stream",
     "text": [
      "Employee: Krishna, Salary: 40000\n",
      "Manager: Ramjee, Salary: 50000, Department: IT\n"
     ]
    }
   ],
   "source": [
    "# 14. Create a Python class called `Employee` with attributes `name` and `salary`. Then, create a child class `Manager` that inherits from `Employee` and adds an attribute `department`. Provide an example.\n",
    "\n",
    "class Employee:\n",
    "    def __init__(self, name, salary):\n",
    "        self.name = name\n",
    "        self.salary = salary\n",
    "\n",
    "class Manager(Employee):\n",
    "    def __init__(self, name, salary, department):\n",
    "        super().__init__(name, salary)\n",
    "        self.department = department\n",
    "\n",
    "# Example Usage:\n",
    "\n",
    "employee1 = Employee(\"Krishna\", 40000)\n",
    "manager1 = Manager(\"Ramjee\", 50000, \"IT\")\n",
    "\n",
    "print(f\"Employee: {employee1.name}, Salary: {employee1.salary}\")\n",
    "print(f\"Manager: {manager1.name}, Salary: {manager1.salary}, Department: {manager1.department}\")\n"
   ]
  },
  {
   "cell_type": "code",
   "execution_count": 165,
   "metadata": {},
   "outputs": [],
   "source": [
    "# 15. Discuss the concept of method overloading in Python inheritance. How does it differ from method overriding?"
   ]
  },
  {
   "cell_type": "markdown",
   "metadata": {},
   "source": [
    "The concept of method overloading in Python differs slightly from languages like Java or C++. In Python, you can't have multiple methods with the same name but different parameter lists in the same class.\n",
    "\n",
    "However, you can achieve similar functionality by using default arguments or variable-length argument lists.\n"
   ]
  },
  {
   "cell_type": "code",
   "execution_count": 166,
   "metadata": {},
   "outputs": [
    {
     "name": "stdout",
     "output_type": "stream",
     "text": [
      "40\n",
      "125\n"
     ]
    }
   ],
   "source": [
    "class Calculator:\n",
    "    def add(self, a, b, c=None):\n",
    "        if c is not None:\n",
    "            return a + b + c\n",
    "        else:\n",
    "            return a + b\n",
    "\n",
    "calculator = Calculator()\n",
    "result1 = calculator.add(13, 27)\n",
    "result2 = calculator.add(4, 54, 67)\n",
    "\n",
    "print(result1)\n",
    "print(result2)"
   ]
  },
  {
   "cell_type": "code",
   "execution_count": 167,
   "metadata": {},
   "outputs": [],
   "source": [
    "# 16. Explain the purpose of the `__init__()` method in Python inheritance and how it is utilized in child classes."
   ]
  },
  {
   "cell_type": "markdown",
   "metadata": {},
   "source": [
    "The `__init__()` method, also known as a constructor, in Python is a special method that is automatically called when a new object is created from a class. It is used to initialize the object's attributes or perform any necessary setup for the object.\n",
    "\n",
    "In the context of inheritance, when a subclass is created, it can have its own `__init__()` method. If the subclass defines an `__init__()` method, it will override the `__init__()` method of the parent class. However, it's often desirable to also initialize the attributes inherited from the parent class.\n",
    "\n",
    "`super()` allows you to call a method or access an attribute of the parent class. Specifically, `super().__init__()` is used in the child class's `__init__()` method to call the constructor of the parent class, ensuring that any necessary setup defined in the parent class's `__init__()` method is executed."
   ]
  },
  {
   "cell_type": "code",
   "execution_count": 168,
   "metadata": {},
   "outputs": [
    {
     "name": "stdout",
     "output_type": "stream",
     "text": [
      "Name: Ramjee, Age: 37\n"
     ]
    }
   ],
   "source": [
    "class Parent:\n",
    "    def __init__(self, name):\n",
    "        self.name = name\n",
    "\n",
    "class Child(Parent):\n",
    "    def __init__(self, name, age):\n",
    "        # Call the parent class's __init__ method\n",
    "        super().__init__(name)  \n",
    "        self.age = age\n",
    "\n",
    "# Create Instance\n",
    "child = Child(\"Ramjee\", 37)\n",
    "\n",
    "print(f\"Name: {child.name}, Age: {child.age}\")\n"
   ]
  },
  {
   "cell_type": "code",
   "execution_count": 169,
   "metadata": {},
   "outputs": [
    {
     "name": "stdout",
     "output_type": "stream",
     "text": [
      "The bird is flying.\n",
      "The eagle soars high in the sky.\n",
      "The sparrow flits from branch to branch.\n"
     ]
    }
   ],
   "source": [
    "# 17. Create a Python class called `Bird` with a method `fly()`. Then, create child classes `Eagle` and `Sparrow` that inherit from `Bird` and implement the `fly()` method differently. Provide an example of using these classes.\n",
    "\n",
    "class Bird:\n",
    "    def fly(self):\n",
    "        print(\"The bird is flying.\")\n",
    "\n",
    "class Eagle(Bird):\n",
    "    def fly(self):\n",
    "        print(\"The eagle soars high in the sky.\")\n",
    "\n",
    "class Sparrow(Bird):\n",
    "    def fly(self):\n",
    "        print(\"The sparrow flits from branch to branch.\")\n",
    "\n",
    "\n",
    "# Create instances for each class\n",
    "bird = Bird()\n",
    "eagle = Eagle()\n",
    "sparrow = Sparrow()\n",
    "\n",
    "bird.fly()    # Output: The bird is flying.\n",
    "eagle.fly()   # Output: The eagle soars high in the sky.\n",
    "sparrow.fly() # Output: The sparrow flits from branch to branch."
   ]
  },
  {
   "cell_type": "code",
   "execution_count": 170,
   "metadata": {},
   "outputs": [],
   "source": [
    "# 18. What is the \"diamond problem\" in multiple inheritance, and how does Python address it?"
   ]
  },
  {
   "cell_type": "markdown",
   "metadata": {},
   "source": [
    "The \"diamond problem\" is a challenge that arises in programming languages that support multiple inheritance. It occurs when a particular class inherits from two or more classes that have a common ancestor. This creates ambiguity for the compiler or interpreter in determining which version of a method or attribute to use.\n",
    "\n",
    "Example: Consider scenario A --> B --> D and A --> C --> D\n",
    "Here, classes B and C both inherit from class A, and class D inherits from both B and C. If both B and C define a method or attribute with the same name, there's ambiguity in D about which version of the method or attribute to use.\n",
    "\n",
    "*Example of Diamond problem:*"
   ]
  },
  {
   "cell_type": "code",
   "execution_count": 171,
   "metadata": {},
   "outputs": [
    {
     "name": "stdout",
     "output_type": "stream",
     "text": [
      "Father called\n"
     ]
    }
   ],
   "source": [
    "class Person:\n",
    "\tdef display(self):\n",
    "\t\tprint(\"Person called\")\n",
    "\t\n",
    "class Father(Person):\n",
    "\tdef display(self):\n",
    "\t\tprint(\"Father called\")\n",
    "\t\n",
    "class Mother(Person):\n",
    "\tdef display(self):\n",
    "\t\tprint(\"Mother called\")\n",
    "\t\n",
    "class Child(Father, Mother):\n",
    "\tpass\n",
    "\t\n",
    "child_obj = Child()\n",
    "child_obj.display()\n"
   ]
  },
  {
   "cell_type": "markdown",
   "metadata": {},
   "source": [
    "**Python's Solution to Diamond Problem:**\n",
    "\n",
    "The ambiguity that we noticed in the diamond problem, is something that becomes irrelevant once we talk about the **Method Resolution Order** in Python. This method resolution order is essentially an order in which a particular method is searched for in the hierarchy of classes in the case of inheritance. Python uses a specific order to search for methods or attributes in a multiple inheritance scenario. This order ensures that there is no ambiguity in determining which method or attribute to use.\n",
    "\n",
    "Python's MRO algorithm ensures that methods are inherited in a consistent and predictable manner, and it prevents the diamond problem from occurring. It uses a depth-first, left-to-right approach to determine the method resolution order."
   ]
  },
  {
   "cell_type": "code",
   "execution_count": 172,
   "metadata": {},
   "outputs": [
    {
     "data": {
      "text/plain": [
       "(__main__.Child, __main__.Father, __main__.Mother, __main__.Person, object)"
      ]
     },
     "execution_count": 172,
     "metadata": {},
     "output_type": "execute_result"
    }
   ],
   "source": [
    "Child.__mro__   "
   ]
  },
  {
   "cell_type": "markdown",
   "metadata": {},
   "source": [
    "Now here, in this order, we can observe that the class 'father' comes before the class 'mother'. This means that if we call the display() method on the class child, the python interpreter will invoke the display method of class 'father'."
   ]
  },
  {
   "cell_type": "code",
   "execution_count": 173,
   "metadata": {},
   "outputs": [],
   "source": [
    "# 19. Discuss the concept of \"is-a\" and \"has-a\" relationships in inheritance, and provide examples of each.\n"
   ]
  },
  {
   "cell_type": "markdown",
   "metadata": {},
   "source": [
    "In object-oriented programming, \"is-a\" and \"has-a\" relationships are two fundamental concepts that describe the relationships between classes.\n",
    "\n",
    "1. **\"Is-a\" Relationship (Inheritance)**: An \"is-a\" relationship is established through inheritance. It signifies that a subclass is a specialized version of its superclass, inheriting its attributes and behaviors. It implies that an object of the subclass can be used wherever an object of the superclass is expected.\n",
    "\n",
    "For example, if you have a class Animal and a subclass Dog, you can say that \"a dog is an animal.\""
   ]
  },
  {
   "cell_type": "code",
   "execution_count": 174,
   "metadata": {},
   "outputs": [
    {
     "name": "stdout",
     "output_type": "stream",
     "text": [
      "Breathing\n",
      "Barking\n"
     ]
    }
   ],
   "source": [
    "class Animal:\n",
    "    def breathe(self):\n",
    "        print(\"Breathing\")\n",
    "\n",
    "# Dog is Animal (is a relationship)\n",
    "class Dog(Animal):\n",
    "    def bark(self):\n",
    "        print(\"Barking\")\n",
    "\n",
    "dog = Dog()\n",
    "dog.breathe()\n",
    "dog.bark()"
   ]
  },
  {
   "cell_type": "markdown",
   "metadata": {},
   "source": [
    "2. **\"Has-a\" Relationship (Composition)**: A \"has-a\" relationship is established through composition, where one class contains an instance of another class as a member or attribute. It signifies that one class \"has\" another class as a part of its implementation.\n",
    "\n",
    "For example, a Car \"has\" an engine."
   ]
  },
  {
   "cell_type": "code",
   "execution_count": 175,
   "metadata": {},
   "outputs": [
    {
     "name": "stdout",
     "output_type": "stream",
     "text": [
      "Engine starting\n",
      "Car driving\n"
     ]
    }
   ],
   "source": [
    "class Engine:\n",
    "    def start(self):\n",
    "        print(\"Engine starting\")\n",
    "\n",
    "class Car:\n",
    "    def __init__(self):\n",
    "        # Car has a Engine\n",
    "        self.engine = Engine()\n",
    "\n",
    "    def drive(self):\n",
    "        self.engine.start()\n",
    "        print(\"Car driving\")\n",
    "\n",
    "car = Car()\n",
    "car.drive()\n"
   ]
  },
  {
   "cell_type": "code",
   "execution_count": 176,
   "metadata": {},
   "outputs": [
    {
     "name": "stdout",
     "output_type": "stream",
     "text": [
      "Hi, I'm Ramjee and I'm 37 years old.\n",
      "Ramjee is studying Machine Learning.\n",
      "Hi, I'm Sudhanshu and I'm 36 years old.\n",
      "Professor Sudhanshu is teaching Python in the Artificial Intelligence department.\n"
     ]
    }
   ],
   "source": [
    "# 20. Create a Python class hierarchy for a university system. Start with a base class `Person` and create child classes `Student` and `Professor`, each with their own attributes and methods. Provide an example of using these classes in a university context.\n",
    "\n",
    "# base class `Person`\n",
    "class Person:\n",
    "    def __init__(self, name, age):\n",
    "        self.name = name\n",
    "        self.age = age\n",
    "\n",
    "    def introduce(self):\n",
    "        print(f\"Hi, I'm {self.name} and I'm {self.age} years old.\")\n",
    "\n",
    "# create child class `Student`\n",
    "class Student(Person):\n",
    "    def __init__(self, name, age, student_id):\n",
    "        super().__init__(name, age)\n",
    "        self.student_id = student_id\n",
    "\n",
    "    def study(self, subject):\n",
    "        print(f\"{self.name} is studying {subject}.\")\n",
    "\n",
    "# create child class `Professor`\n",
    "class Professor(Person):\n",
    "    def __init__(self, name, age, employee_id, department):\n",
    "        super().__init__(name, age)\n",
    "        self.employee_id = employee_id\n",
    "        self.department = department\n",
    "\n",
    "    def teach(self, subject):\n",
    "        print(f\"Professor {self.name} is teaching {subject} in the {self.department} department.\")\n",
    "\n",
    "\n",
    "# Create Instance of Student and Professor\n",
    "student1 = Student(\"Ramjee\", 37, \"51786\")\n",
    "professor1 = Professor(\"Sudhanshu\", 36, \"P567\", \"Artificial Intelligence\")\n",
    "\n",
    "# Operations like introduce, study and teach\n",
    "student1.introduce()\n",
    "student1.study(\"Machine Learning\") \n",
    "professor1.introduce()\n",
    "professor1.teach(\"Python\")"
   ]
  },
  {
   "cell_type": "markdown",
   "metadata": {},
   "source": [
    "Encapsulation ➖\n",
    "\n"
   ]
  },
  {
   "cell_type": "code",
   "execution_count": 177,
   "metadata": {},
   "outputs": [],
   "source": [
    "# 1. Explain the concept of encapsulation in Python. What is its role in object-oriented programming?"
   ]
  },
  {
   "cell_type": "markdown",
   "metadata": {},
   "source": [
    "**Encapsulation** refers to the bundling of data (attributes) and the methods (functions) that operate on that data within a single unit, often referred to as a \"class.\" The role of encapsulation in object-oriented programming (OOP) is to bundle data (attributes) and the methods (functions) that operate on that data within a single unit.\n",
    "\n",
    "The key points of encapsulation are:\n",
    "\n",
    "* **Data Hiding**: Encapsulation allows the internal state of an object to be hidden from the outside world. This means that the data inside an object can only be accessed and modified through methods defined in the class.\n",
    "\n",
    "* **Access Control**: Encapsulation provides control over who can access or modify the data. By defining specific methods (getters and setters), a class can restrict direct access to its attributes, enforcing controlled interactions.\n",
    "\n",
    "* **Modularity and Maintainability**: Encapsulation promotes modularity by grouping related data and behavior together. This makes it easier to understand, maintain, and modify the code, as changes are localized within the class.\n",
    "\n",
    "* **Prevents Unintended Modifications**: Encapsulation helps prevent unintended modifications to an object's state by providing a controlled interface for interacting with the object. This reduces the risk of errors caused by unexpected changes in the data.\n",
    "\n",
    "In Python, encapsulation is achieved by using access modifiers such as underscores (`_` and `__`) to control the visibility of attributes and methods. These are conventions, as Python does not have strict access control like some other languages.\n",
    "\n",
    "Single underscore _attribute: Indicates a *\"protected\"* attribute. It's meant to be used as a non-public part of the API, but it can still be accessed outside the class.\n",
    "\n",
    "Double underscore __attribute: Indicates a *\"private\"* attribute. It's name-mangled to make it harder to create subclasses that accidentally override private methods and attributes."
   ]
  },
  {
   "cell_type": "code",
   "execution_count": 178,
   "metadata": {},
   "outputs": [],
   "source": [
    "# 2. Describe the key principles of encapsulation, including access control and data hiding."
   ]
  },
  {
   "cell_type": "markdown",
   "metadata": {},
   "source": [
    "**Encapsulation** refers to the bundling of data (attributes) and the methods (functions) that operate on that data within a single unit, often referred to as a \"class.\"\n",
    "\n",
    "The key principles of encapsulation are:\n",
    "\n",
    "* **Data Hiding**: Encapsulation allows the internal state of an object to be hidden from the outside world. This means that the data inside an object can only be accessed and modified through methods defined in the class.\n",
    "\n",
    "* **Access Control**: Encapsulation provides control over who can access or modify the data. By defining specific methods (getters and setters), a class can restrict direct access to its attributes, enforcing controlled interactions.\n",
    "\n",
    "* **Modularity and Maintainability**: Encapsulation promotes modularity by grouping related data and behavior together. This makes it easier to understand, maintain, and modify the code, as changes are localized within the class.\n",
    "\n",
    "* **Prevents Unintended Modifications**: Encapsulation helps prevent unintended modifications to an object's state by providing a controlled interface for interacting with the object. This reduces the risk of errors caused by unexpected changes in the data.\n",
    "\n",
    "* **Enhanced Security:**: Encapsulation contributes to the security of a program by preventing direct access to sensitive data. It ensures that data can only be modified or accessed through designated methods, reducing the risk of unauthorized changes.\n",
    "\n",
    "* **Code Reusability:**: Encapsulation allows classes to be used as building blocks for creating more complex systems. Once a class is defined, it can be reused in different parts of a program or in different programs altogether.\n",
    "\n",
    "**Access Control And Data hiding**\n",
    "In Python, encapsulation is achieved by using **access modifiers** such as underscores (`_` and `__`) to control the visibility of attributes and methods. These are conventions, as Python does not have strict access control like some other languages.\n",
    "\n",
    "* **Single underscore _attribute**: Indicates a *\"protected\"* attribute. It's meant to be used as a non-public part of the API, but it can still be accessed outside the class.\n",
    "\n",
    "* **Double underscore __attribute**: Indicates a *\"private\"* attribute. It's name-mangled to make it harder to create subclasses that accidentally override private methods and attributes."
   ]
  },
  {
   "cell_type": "code",
   "execution_count": 179,
   "metadata": {},
   "outputs": [],
   "source": [
    "# 3. How can you achieve encapsulation in Python classes? Provide an example."
   ]
  },
  {
   "cell_type": "markdown",
   "metadata": {},
   "source": [
    "**Encapsulation** in Python classes can be achieved by using access modifiers such as underscores (_ and __) to control the visibility of attributes and methods. While Python does not have strict access control like some other languages, these conventions are used to indicate the intended level of visibility.\n",
    "\n",
    "* **Single underscore _attribute**: Indicates a *\"protected\"* attribute. It's meant to be used as a non-public part of the API, but it can still be accessed outside the class.\n",
    "\n",
    "* **Double underscore __attribute**: Indicates a *\"private\"* attribute. It's name-mangled to make it harder to create subclasses that accidentally override private methods and attributes."
   ]
  },
  {
   "cell_type": "code",
   "execution_count": 180,
   "metadata": {},
   "outputs": [
    {
     "name": "stdout",
     "output_type": "stream",
     "text": [
      "Account Number: 123456789\n",
      "Balance: 500\n"
     ]
    }
   ],
   "source": [
    "class BankAccount:\n",
    "    def __init__(self, account_number):\n",
    "        self._account_number = account_number  # Protected attribute\n",
    "        self.__balance = 0  # Private attribute\n",
    "\n",
    "    def deposit(self, amount):\n",
    "        self.__balance += amount\n",
    "\n",
    "    def withdraw(self, amount):\n",
    "        if self.__balance >= amount:\n",
    "            self.__balance -= amount\n",
    "        else:\n",
    "            print(\"Insufficient funds\")\n",
    "\n",
    "    def get_balance(self):\n",
    "        return self.__balance\n",
    "\n",
    "    def get_account_number(self):\n",
    "        return self._account_number\n",
    "\n",
    "# Creating an account with account number \"123456789\"\n",
    "account = BankAccount(\"123456789\")  \n",
    "account.deposit(1000)\n",
    "account.withdraw(500)\n",
    "print(f\"Account Number: {account.get_account_number()}\")\n",
    "print(f\"Balance: {account.get_balance()}\")\n"
   ]
  },
  {
   "cell_type": "code",
   "execution_count": 181,
   "metadata": {},
   "outputs": [],
   "source": [
    "# 4. Discuss the difference between public, private, and protected access modifiers in Python."
   ]
  },
  {
   "cell_type": "markdown",
   "metadata": {},
   "source": [
    "In Python, access modifiers are conventions used to indicate the intended level of visibility for attributes and methods within a class. These access modifiers help in maintaining code integrity and readability.\n",
    "\n",
    "* **Public (public)**:\n",
    "    * Attributes or methods with **no underscore** (`_`) prefix are considered public.\n",
    "    * They can be accessed from outside the class, as well as from within the class itself and its subclasses.\n",
    "    * Example: `def method(self):`\n",
    "\n",
    "* **Protected (protected)**:\n",
    "    * Attributes or methods with a **single underscore** (`_`) prefix are considered protected.\n",
    "    * They are intended for internal use within the class and its subclasses.\n",
    "    * While they can be accessed from outside the class, it's a convention to treat them as non-public.\n",
    "    * Example: `def _method(self):`\n",
    "\n",
    "* **Private (private)**:\n",
    "    * Attributes or methods with a **double underscore** (`__`) prefix are considered private.\n",
    "    * They are intended for internal use within the class only and are name-mangled to make it harder to create subclasses that accidentally override private methods and attributes.\n",
    "    * They cannot be accessed from outside the class.\n",
    "    * Example: `def __method(self):`\n",
    "\n",
    "Example code:"
   ]
  },
  {
   "cell_type": "code",
   "execution_count": 182,
   "metadata": {},
   "outputs": [
    {
     "name": "stdout",
     "output_type": "stream",
     "text": [
      "1\n",
      "2\n",
      "Public Method\n",
      "Protected Method\n"
     ]
    }
   ],
   "source": [
    "class Example:\n",
    "    def __init__(self):\n",
    "        self.public_attribute = 1      # Public attribute\n",
    "        self._protected_attribute = 2  # Protected attribute\n",
    "        self.__private_attribute = 3   # Private attribute\n",
    "\n",
    "    def public_method(self):\n",
    "        return \"Public Method\"\n",
    "\n",
    "    def _protected_method(self):\n",
    "        return \"Protected Method\"\n",
    "\n",
    "    def __private_method(self):\n",
    "        return \"Private Method\"\n",
    "\n",
    "# Create an instance\n",
    "obj = Example()\n",
    "\n",
    "# Accessing attributes\n",
    "print(obj.public_attribute)       # Output: 1\n",
    "print(obj._protected_attribute)   # Output: 2\n",
    "# print(obj.__private_attribute)   # Error: 'Example' object has no attribute '__private_attribute'\n",
    "\n",
    "# Accessing methods\n",
    "print(obj.public_method())        # Output: Public Method\n",
    "print(obj._protected_method())    # Output: Protected Method\n",
    "# print(obj.__private_method())    # Error: 'Example' object has no attribute '__private_method'\n"
   ]
  },
  {
   "cell_type": "code",
   "execution_count": 183,
   "metadata": {},
   "outputs": [
    {
     "name": "stdout",
     "output_type": "stream",
     "text": [
      "Ramjee\n",
      "Ramjee Pabbi\n"
     ]
    }
   ],
   "source": [
    "# 5. Create a Python class called `Person` with a private attribute `__name`. Provide methods to get and set the name attribute.\n",
    "\n",
    "class Person:\n",
    "    def __init__(self, name):\n",
    "        self.__name = name\n",
    "\n",
    "    def get_name(self):\n",
    "        return self.__name\n",
    "\n",
    "    def set_name(self, new_name):\n",
    "        self.__name = new_name\n",
    "\n",
    "# Example Usage:\n",
    "\n",
    "person = Person(\"Ramjee\")\n",
    "\n",
    "# Accessing the name using the get_name method\n",
    "print(person.get_name())\n",
    "\n",
    "# Changing the name using the set_name method\n",
    "person.set_name(\"Ramjee Singh\")\n",
    "print(person.get_name()) \n"
   ]
  },
  {
   "cell_type": "code",
   "execution_count": 184,
   "metadata": {},
   "outputs": [],
   "source": [
    "# 6. Explain the purpose of getter and setter methods in encapsulation. Provide examples."
   ]
  },
  {
   "cell_type": "markdown",
   "metadata": {},
   "source": [
    "Getter and setter methods are a part of encapsulation in object-oriented programming. They provide controlled access to the attributes of a class, allowing you to retrieve and modify their values. This helps maintain data integrity and enables you to add additional logic or validation when getting or setting attributes.\n",
    "\n",
    "**Getter Methods** (also known as Accessor Methods):\n",
    "\n",
    "* Getter methods are used to retrieve the values of private attributes.\n",
    "* They provide controlled read-only access to attribute values.\n",
    "* They can include additional logic or validation before returning the value.\n",
    "\n",
    "**Setter Methods** (also known as Mutator Methods):\n",
    "\n",
    "* Setter methods are used to modify the values of private attributes.\n",
    "* They provide controlled write-only access to attribute values.\n",
    "* They can include validation or additional logic to ensure that the new value is acceptable."
   ]
  },
  {
   "cell_type": "code",
   "execution_count": 185,
   "metadata": {},
   "outputs": [
    {
     "name": "stdout",
     "output_type": "stream",
     "text": [
      "15\n",
      "20\n",
      "28\n"
     ]
    }
   ],
   "source": [
    "class Rectangle:\n",
    "    def __init__(self, width, height):\n",
    "        # Private attributes\n",
    "        self.__width = width  \n",
    "        self.__height = height\n",
    "\n",
    "    # Getter methods\n",
    "    def get_width(self):\n",
    "        return self.__width\n",
    "\n",
    "    def get_height(self):\n",
    "        return self.__height\n",
    "\n",
    "    # Setter methods\n",
    "    def set_width(self, width):\n",
    "        if width > 0:\n",
    "            self.__width = width\n",
    "\n",
    "    def set_height(self, height):\n",
    "        if height > 0:\n",
    "            self.__height = height\n",
    "\n",
    "    def area(self):\n",
    "        return self.__width * self.__height\n",
    "\n",
    "# Creating instance:\n",
    "rectangle = Rectangle(15, 20)\n",
    "\n",
    "# Using getter methods to access attributes\n",
    "print(rectangle.get_width())\n",
    "print(rectangle.get_height())\n",
    "\n",
    "# Using setter methods to modify attributes\n",
    "rectangle.set_width(7)\n",
    "rectangle.set_height(4)\n",
    "\n",
    "# Calculating the area using the area method\n",
    "print(rectangle.area())\n"
   ]
  },
  {
   "cell_type": "code",
   "execution_count": 186,
   "metadata": {},
   "outputs": [],
   "source": [
    "# 7. What is name mangling in Python, and how does it affect encapsulation?"
   ]
  },
  {
   "cell_type": "markdown",
   "metadata": {},
   "source": [
    "Name mangling is a technique used in Python to make attributes in a class more difficult to access from outside the class. It involves adding a prefix or suffix to an attribute name to make it harder to accidentally override or access it.\n",
    "\n",
    "In Python, name mangling is achieved by adding two underscores (__) before an attribute name. When this is done, the Python interpreter actually changes the name of the variable in a way that makes it harder to create subclasses that accidentally override private methods and attributes.\n",
    "\n",
    "Name **mangling affects encapsulation** by making it harder to accidentally override or access private attributes. It adds an extra level of protection, but it's important to note that it's still possible to access these attributes if you really want to."
   ]
  },
  {
   "cell_type": "code",
   "execution_count": 187,
   "metadata": {},
   "outputs": [
    {
     "name": "stdout",
     "output_type": "stream",
     "text": [
      "Account Number: 123456789\n",
      "Initial Balance: 10000\n",
      "Updated Balance: 11500\n",
      "Updated Balance: 9400\n"
     ]
    }
   ],
   "source": [
    "# 8. Create a Python class called `BankAccount` with private attributes for the account balance (`__balance`) and account number (`__account_number`). Provide methods for depositing and withdrawing money.\n",
    "\n",
    "# Create a Python class called `BankAccount`\n",
    "class BankAccount:\n",
    "    def __init__(self, account_number, initial_balance=0):\n",
    "        # Private attributes\n",
    "        self.__account_number = account_number\n",
    "        self.__balance = initial_balance\n",
    "\n",
    "    # methods for depositing money\n",
    "    def deposit(self, amount):\n",
    "        if amount > 0:\n",
    "            self.__balance += amount\n",
    "        else:\n",
    "            print(\"Invalid deposit amount. Please enter a positive value!\")\n",
    "\n",
    "    # methods for withdrawing money\n",
    "    def withdraw(self, amount):\n",
    "        if 0 < amount <= self.__balance:\n",
    "            self.__balance -= amount\n",
    "        else:\n",
    "            print(\"Insufficient funds in account. Please enter valid value!\")\n",
    "\n",
    "    def get_balance(self):\n",
    "        return self.__balance\n",
    "\n",
    "    def get_account_number(self):\n",
    "        return self.__account_number\n",
    "\n",
    "# Create an instance\n",
    "account = BankAccount(\"123456789\", 10000)\n",
    "\n",
    "print(f\"Account Number: {account.get_account_number()}\")\n",
    "print(f\"Initial Balance: {account.get_balance()}\")\n",
    "account.deposit(1500)\n",
    "print(f\"Updated Balance: {account.get_balance()}\")\n",
    "\n",
    "account.withdraw(2100)\n",
    "print(f\"Updated Balance: {account.get_balance()}\")\n",
    "\n",
    "account.withdraw(2000)\n"
   ]
  },
  {
   "cell_type": "code",
   "execution_count": 188,
   "metadata": {},
   "outputs": [],
   "source": [
    "# 9. Discuss the advantages of encapsulation in terms of code maintainability and security."
   ]
  },
  {
   "cell_type": "markdown",
   "metadata": {},
   "source": [
    "Encapsulation is a fundamental concept in object-oriented programming that offers several advantages in terms of code maintainability and security:\n",
    "\n",
    "1. **Code Maintainability**:\n",
    "\n",
    "* **Modularization**: Encapsulation allows you to modularize your code by defining a clear interface for interactions with objects. This makes it easier to understand, modify, and extend your code.\n",
    "\n",
    "* **Reduced Complexity**: By hiding the internal implementation details of a class, encapsulation simplifies the interface and shields the rest of the code from the complexity of the class's internals.\n",
    "\n",
    "* **Improved Readability**: Encapsulation promotes a clean separation between the public interface and private implementation, making the code more readable and comprehensible.\n",
    "\n",
    "2. **Security**:\n",
    "\n",
    "* **Controlled Access**: Encapsulation restricts access to certain attributes and methods by making them private or protected. This prevents unintended or unauthorized modifications, reducing the risk of bugs and security vulnerabilities.\n",
    "\n",
    "* **Data Validation**: Encapsulation allows you to add validation logic within setter methods, ensuring that only valid data is stored in object attributes. This is especially important for maintaining data integrity and security.\n",
    "\n",
    "* **Prevention of Unauthorized Modifications**: By hiding the internal state of an object and allowing controlled access, encapsulation helps prevent unintended or unauthorized modifications to an object's attributes."
   ]
  },
  {
   "cell_type": "code",
   "execution_count": 189,
   "metadata": {},
   "outputs": [],
   "source": [
    "# 10. How can you access private attributes in Python? Provide an example demonstrating the use of name mangling."
   ]
  },
  {
   "cell_type": "markdown",
   "metadata": {},
   "source": [
    "Name mangling involves adding a prefix to the attribute name, which makes it harder to access from outside the class.\n",
    "\n",
    "Private attributes in Python are those that start with two underscores (`__`). When Python encounters this, it internally changes the name of the variable to `_classname__variablename`. This is known as *name mangling*.\n",
    "\n",
    "Private attributes can be accessed using a technique called \"name mangling\". We can access the private of the class using `_classname__variablename`.\n"
   ]
  },
  {
   "cell_type": "code",
   "execution_count": 190,
   "metadata": {},
   "outputs": [
    {
     "name": "stdout",
     "output_type": "stream",
     "text": [
      "42\n"
     ]
    }
   ],
   "source": [
    "class MyClass:\n",
    "    def __init__(self):\n",
    "        self.__private_attribute = 42\n",
    "\n",
    "    def access_private_attribute(self):\n",
    "        return self.__private_attribute\n",
    "\n",
    "# Create an instance\n",
    "my_object = MyClass()\n",
    "\n",
    "# Accessing the private attribute using the name mangling technique\n",
    "print(my_object._MyClass__private_attribute)\n"
   ]
  },
  {
   "cell_type": "code",
   "execution_count": 191,
   "metadata": {},
   "outputs": [
    {
     "name": "stdout",
     "output_type": "stream",
     "text": [
      "Course: Machine Learning (ML101)\n",
      "Teacher: Ms. Gauri, Employee ID: T9876\n",
      "Student: Mahesh, Student ID: S12345, Age: 18\n",
      "Student: Hari, Student ID: S12346, Age: 17\n"
     ]
    }
   ],
   "source": [
    "# 11. Create a Python class hierarchy for a school system, including classes for students, teachers, and courses, and implement encapsulation principles to protect sensitive information.\n",
    "\n",
    "\n",
    "class Person:\n",
    "    def __init__(self, name, age):\n",
    "        self.__name = name\n",
    "        self.__age = age\n",
    "\n",
    "    def get_name(self):\n",
    "        return self.__name\n",
    "\n",
    "    def get_age(self):\n",
    "        return self.__age\n",
    "\n",
    "\n",
    "class Student(Person):\n",
    "    def __init__(self, name, age, student_id):\n",
    "        super().__init__(name, age)\n",
    "        self.__student_id = student_id\n",
    "\n",
    "    def get_student_id(self):\n",
    "        return self.__student_id\n",
    "\n",
    "\n",
    "class Teacher(Person):\n",
    "    def __init__(self, name, age, employee_id):\n",
    "        super().__init__(name, age)\n",
    "        self.__employee_id = employee_id\n",
    "\n",
    "    def get_employee_id(self):\n",
    "        return self.__employee_id\n",
    "\n",
    "\n",
    "class Course:\n",
    "    def __init__(self, course_name, course_code):\n",
    "        self.__course_name = course_name\n",
    "        self.__course_code = course_code\n",
    "        self.__students = []\n",
    "\n",
    "    def get_course_name(self):\n",
    "        return self.__course_name\n",
    "\n",
    "    def get_course_code(self):\n",
    "        return self.__course_code\n",
    "\n",
    "    def add_student(self, student):\n",
    "        self.__students.append(student)\n",
    "\n",
    "    def get_students(self):\n",
    "        return self.__students\n",
    "\n",
    "\n",
    "# Usages:\n",
    "student1 = Student(\"Mahesh\", 18, \"S12345\")\n",
    "student2 = Student(\"Hari\", 17, \"S12346\")\n",
    "\n",
    "teacher = Teacher(\"Ms. Gauri\", 30, \"T9876\")\n",
    "\n",
    "course = Course(\"Machine Learning\", \"ML101\")\n",
    "course.add_student(student1)\n",
    "course.add_student(student2)\n",
    "\n",
    "print(f\"Course: {course.get_course_name()} ({course.get_course_code()})\")\n",
    "print(f\"Teacher: {teacher.get_name()}, Employee ID: {teacher.get_employee_id()}\")\n",
    "\n",
    "for student in course.get_students():\n",
    "    print(f\"Student: {student.get_name()}, Student ID: {student.get_student_id()}, Age: {student.get_age()}\")\n"
   ]
  },
  {
   "cell_type": "code",
   "execution_count": 192,
   "metadata": {},
   "outputs": [],
   "source": [
    "# 12. Explain the concept of property decorators in Python and how they relate to encapsulation.\n"
   ]
  },
  {
   "cell_type": "markdown",
   "metadata": {},
   "source": [
    "**Property decorators** are a mechanism for controlling access to class attributes by providing getter, setter, and deleter methods for these attributes. They are used to implement encapsulation and control how attribute values are accessed, set, or deleted.\n",
    "\n",
    "Property decorators are typically applied to class attributes, allowing you to define custom behavior when reading, writing, or deleting the values of those attributes. This is achieved using the `@property`, `@attribute_name.setter`, and `@attribute_name.deleter` decorators. Here's how they relate to encapsulation:\n",
    "\n",
    "**@property**: This decorator is used for getter methods. It allows you to define how an attribute's value is retrieved when accessed. By using `@property` or `@property.getter`, you can encapsulate the internal representation of an attribute and provide a controlled way to access it. This is especially useful when you need to calculate or validate the value before returning it.\n",
    "\n",
    "**@attribute_name.setter**: This decorator is used for setter methods. It allows you to control how the attribute's value is set. With a setter, you can validate and modify the incoming value before assigning it to the attribute, ensuring data integrity and security.\n",
    "\n",
    "**@attribute_name.deleter**: This decorator is used for deleter methods. It allows you to specify the behavior when an attribute is deleted. This can be useful for releasing resources or implementing additional cleanup actions."
   ]
  },
  {
   "cell_type": "code",
   "execution_count": 193,
   "metadata": {},
   "outputs": [
    {
     "name": "stdout",
     "output_type": "stream",
     "text": [
      "Getting name\n",
      "Ramjee\n",
      "Setting name\n",
      "Deleting name\n",
      "Getting age\n",
      "20\n"
     ]
    }
   ],
   "source": [
    "class Student:\n",
    "    def __init__(self, name, age):\n",
    "        self._name = name\n",
    "        self._age = age\n",
    "\n",
    "    @property\n",
    "    def name(self):\n",
    "        print(\"Getting name\")\n",
    "        return self._name\n",
    "\n",
    "    @name.setter\n",
    "    def name(self, new_name):\n",
    "        print(\"Setting name\")\n",
    "        self._name = new_name\n",
    "\n",
    "    @name.deleter\n",
    "    def name(self):\n",
    "        print(\"Deleting name\")\n",
    "        del self._name\n",
    "\n",
    "    @property\n",
    "    def age(self):\n",
    "        print(\"Getting age\")\n",
    "        return self._age\n",
    "\n",
    "student = Student(\"Ramjee\", 20)\n",
    "\n",
    "# Using the getter for reading the name attribute\n",
    "print(student.name)  # Output: Getting name, Alice\n",
    "\n",
    "# Using the setter for setting the name attribute\n",
    "student.name = \"Ramjee Singh\"\n",
    "\n",
    "# Using the deleter for deleting the name attribute\n",
    "del student.name\n",
    "\n",
    "# Using the property decorator for reading the age attribute\n",
    "print(student.age)\n"
   ]
  },
  {
   "cell_type": "code",
   "execution_count": 194,
   "metadata": {},
   "outputs": [],
   "source": [
    "\n",
    "# 13. What is data hiding, and why is it important in encapsulation? Provide examples.\n"
   ]
  },
  {
   "cell_type": "markdown",
   "metadata": {},
   "source": [
    "**Data hiding** is a fundamental principle in object-oriented programming that involves restricting access to certain attributes or methods of a class. It allows the internal state and behavior of an object to be kept private and accessible only through a defined public interface.\n",
    "\n",
    "The main goal of data hiding is to protect the internal representation of an object from external interference or misuse.\n",
    "\n",
    "**Why Data Hiding is Important in Encapsulation**:\n",
    "\n",
    "* **Preventing Unauthorized Access**: Data hiding helps prevent unauthorized or unintended access to sensitive attributes or methods. This is crucial for maintaining the integrity and security of an object's state.\n",
    "\n",
    "* **Maintaining Abstraction**: By hiding the internal details of an object, you can present a simplified and abstract view of the object's behavior to the outside world. This abstraction makes it easier to understand and use the object without being concerned about its internal implementation.\n",
    "\n",
    "* **Facilitating Code Maintenance**: With data hiding, you can modify the internal implementation of a class without affecting the code that uses it. This reduces the risk of unintended side effects and makes it easier to maintain and evolve the codebase.\n",
    "\n",
    "* **Enhancing Security**: By controlling access to sensitive attributes, you can prevent unauthorized modifications that could lead to security vulnerabilities or incorrect behavior.\n",
    "\n",
    "Example of Data hiding:"
   ]
  },
  {
   "cell_type": "code",
   "execution_count": 195,
   "metadata": {},
   "outputs": [
    {
     "name": "stdout",
     "output_type": "stream",
     "text": [
      "Current Balance: 10000\n",
      "Updated Balance: 11500\n",
      "Updated Balance: 9400\n"
     ]
    }
   ],
   "source": [
    "class BankAccount:\n",
    "    def __init__(self, account_number, initial_balance):\n",
    "        self.__account_number = account_number  # Private attribute\n",
    "        self.__balance = initial_balance  # Private attribute\n",
    "\n",
    "    def deposit(self, amount):\n",
    "        if amount > 0:\n",
    "            self.__balance += amount\n",
    "\n",
    "    def withdraw(self, amount):\n",
    "        if 0 < amount <= self.__balance:\n",
    "            self.__balance -= amount\n",
    "\n",
    "    def get_balance(self):\n",
    "        return self.__balance\n",
    "\n",
    "# Create Instance\n",
    "account = BankAccount(\"123456789\", 10000)\n",
    "\n",
    "# Accessing the balance through a controlled method\n",
    "current_balance = account.get_balance()\n",
    "print(f\"Current Balance: {current_balance}\")\n",
    "\n",
    "# Depositing money through a controlled method\n",
    "account.deposit(1500)\n",
    "print(f\"Updated Balance: {account.get_balance()}\")\n",
    "\n",
    "# Withdrawing money through a controlled method\n",
    "account.withdraw(2100)\n",
    "print(f\"Updated Balance: {account.get_balance()}\")\n"
   ]
  },
  {
   "cell_type": "code",
   "execution_count": 196,
   "metadata": {},
   "outputs": [
    {
     "name": "stdout",
     "output_type": "stream",
     "text": [
      "Name: Ramjee Singh\n",
      "Employee ID: MS987765\n",
      "Salary: 235000\n",
      "Yearly Bonus: 47000.0\n"
     ]
    }
   ],
   "source": [
    "# 14. Create a Python class called `Employee` with private attributes for salary (`__salary`) and employee ID (`__employee_id`). Provide a method to calculate yearly bonuses.\n",
    "\n",
    "\n",
    "class Employee:\n",
    "    def __init__(self, name, employee_id, salary):\n",
    "        self.__name = name\n",
    "        self.__employee_id = employee_id\n",
    "        self.__salary = salary\n",
    "\n",
    "    def calculate_bonus(self, bonus_percentage):\n",
    "        bonus = (bonus_percentage / 100) * self.__salary\n",
    "        return bonus\n",
    "\n",
    "    def get_name(self):\n",
    "        return self.__name\n",
    "\n",
    "    def get_employee_id(self):\n",
    "        return self.__employee_id\n",
    "\n",
    "    def get_salary(self):\n",
    "        return self.__salary\n",
    "\n",
    "\n",
    "# Create Instance of Employee\n",
    "\n",
    "employee = Employee(\"Ramjee Singh\", \"MS987765\", 235000)\n",
    "\n",
    "# Accessing attributes through controlled methods\n",
    "print(f\"Name: {employee.get_name()}\")\n",
    "print(f\"Employee ID: {employee.get_employee_id()}\")\n",
    "print(f\"Salary: {employee.get_salary()}\")\n",
    "\n",
    "# Calculating and displaying yearly bonus\n",
    "bonus_percentage = 20\n",
    "bonus = employee.calculate_bonus(bonus_percentage)\n",
    "print(f\"Yearly Bonus: {bonus}\")\n"
   ]
  },
  {
   "cell_type": "code",
   "execution_count": 197,
   "metadata": {},
   "outputs": [],
   "source": [
    "\n",
    "# 15. Discuss the use of accessors and mutators in encapsulation. How do they help maintain control over attribute access?\n"
   ]
  },
  {
   "cell_type": "markdown",
   "metadata": {},
   "source": [
    "***Accessors and mutators*** are methods used in encapsulation to control and manage access to an object's attributes, providing a well-defined and controlled interface for reading and modifying the attributes.\n",
    "\n",
    "**Accessors** (*Getters*):\n",
    "\n",
    "* Accessors are methods that are used to retrieve the value of an attribute without allowing direct access to the attribute itself.\n",
    "* They are used to read the current state of an attribute.\n",
    "* Accessors often have names that start with \"get\" and return the attribute's value.\n",
    "* Accessors are typically used to enforce read-only or read-specific rules for an attribute."
   ]
  },
  {
   "cell_type": "code",
   "execution_count": 198,
   "metadata": {},
   "outputs": [],
   "source": [
    "class Student:\n",
    "    def __init__(self, name, age):\n",
    "        self.__name = name  # Private attribute\n",
    "        self.__age = age\n",
    "\n",
    "    # Name accessor (getter)\n",
    "    def get_name(self):\n",
    "        return self.__name\n",
    "\n",
    "    # Age accessor (getter)\n",
    "    def get_age(self):\n",
    "        return self.__age\n"
   ]
  },
  {
   "cell_type": "markdown",
   "metadata": {},
   "source": [
    "**Mutators** (*Setters*):\n",
    "\n",
    "* Mutators are methods used to set the value of an attribute, ensuring that it is done in a controlled manner with validation and rules.\n",
    "* They provide a way to modify the state of an object while maintaining control over how modifications are performed.\n",
    "* Mutators often have names that start with \"set\" and accept the new value as a parameter.\n",
    "* Mutators can enforce constraints, validation, or other business rules for modifying an attribute."
   ]
  },
  {
   "cell_type": "code",
   "execution_count": 199,
   "metadata": {},
   "outputs": [],
   "source": [
    "class BankAccount:\n",
    "    def __init__(self, account_number, initial_balance):\n",
    "        self.__account_number = account_number\n",
    "        self.__balance = initial_balance\n",
    "\n",
    "    def set_balance(self, new_balance):\n",
    "        if new_balance >= 0:\n",
    "            self.__balance = new_balance\n"
   ]
  },
  {
   "cell_type": "code",
   "execution_count": 200,
   "metadata": {},
   "outputs": [],
   "source": [
    "# 16. What are the potential drawbacks or disadvantages of using encapsulation in Python?\n"
   ]
  },
  {
   "cell_type": "markdown",
   "metadata": {},
   "source": [
    "While encapsulation offers many benefits in terms of code organization, maintainability, and security, it can also have some potential drawbacks or **disadvantages** in certain situations:\n",
    "\n",
    "1. **Complexity**: Over-encapsulation can make code more complex and harder to understand, especially when there are numerous getter and setter methods. This can result in increased cognitive load for developers.\n",
    "\n",
    "2. **Performance Overhead**: Accessing attributes through accessor methods (getters and setters) can introduce a slight performance overhead compared to direct attribute access. For many applications, this overhead is negligible, but in performance-critical scenarios, it may be a concern.\n",
    "\n",
    "3. **Code Verbosity**: Encapsulation can lead to increased code verbosity, as you need to write getter and setter methods for each attribute you want to encapsulate. This can make the code longer and harder to read.\n",
    "\n",
    "4. **Limited Flexibility**: Encapsulation can limit the flexibility to change the internal representation of an object. If you decide to change the data structure used for an attribute or its behavior, you may need to modify all related accessor methods, potentially breaking existing code.\n",
    "\n",
    "5. **Difficulty in Debugging**: Debugging can be more challenging when attributes are encapsulated. You may not have direct visibility into the internal state of an object during debugging, which can complicate the identification and resolution of issues.\n",
    "\n",
    "6. **Increased Maintenance**: As the number of attributes and their corresponding getter and setter methods grows, maintenance can become more time-consuming and error-prone.\n",
    "\n",
    "7. **Complex Inheritance**: Inheritance hierarchies can become more complex when encapsulated attributes and their accessor methods are inherited by child classes. This complexity can lead to harder-to-maintain code.\n",
    "\n",
    "8. **Limited Control Over Attribute Access**: In some cases, you may want to provide direct access to attributes without imposing constraints or validation. Encapsulation can make this less straightforward."
   ]
  },
  {
   "cell_type": "code",
   "execution_count": 201,
   "metadata": {},
   "outputs": [],
   "source": [
    "\n",
    "# 17. Create a Python class for a library system that encapsulates book information, including titles, authors, and availability status.\n",
    "\n",
    "# Class book to represent a book in library\n",
    "class Book:\n",
    "    def __init__(self, title, author, ISBN, is_available  = True):\n",
    "        self.__title = title\n",
    "        self.__author = author\n",
    "        self.__ISBN = ISBN\n",
    "        self.__available  = is_available\n",
    "\n",
    "    def get_title(self):\n",
    "        return self.__title\n",
    "\n",
    "    def get_author(self):\n",
    "        return self.__author\n",
    "\n",
    "    def get_ISBN(self):\n",
    "        return self.__ISBN\n",
    "\n",
    "    def get_available(self):\n",
    "        return self.__available\n",
    "\n",
    "    def borrow_book(self):\n",
    "        if self.__available:\n",
    "            self.__available = False\n",
    "            return f\"You have successfully borrowed '{self.__title}' by {self.__author}.\"\n",
    "        else:\n",
    "            return f\"'{self.__title}' is already borrowed.\"\n",
    "\n",
    "    def return_book(self):\n",
    "        if not self.__available:\n",
    "            self.__available = True\n",
    "            return f\"You have successfully returned '{self.__title}' by {self.__author}.\"\n",
    "        else:\n",
    "            return f\"'{self.__title}' is not currently borrowed.\"\n",
    "\n",
    "    # dunder method for str of book\n",
    "    def __str__(self):\n",
    "        return f\"Title: {self.__title}, Author: {self.__author}, ISBN: {self.__ISBN}\"\n",
    "\n",
    "\n",
    "# Class to represent a Book library\n",
    "class Library:\n",
    "    def __init__(self):\n",
    "        self.books = []\n",
    "\n",
    "    def add_book(self, book):\n",
    "        self.books.append(book)\n",
    "\n",
    "    def borrow_book(self, ISBN):\n",
    "        for book in self.books:\n",
    "            if book.get_ISBN == ISBN:\n",
    "                return book.borrow_book()\n",
    "        return \"Book with specified ISBN not found.\"\n",
    "\n",
    "    def return_book(self, ISBN):\n",
    "        for book in self.books:\n",
    "            if book.get_ISBN() == ISBN:\n",
    "                return book.return_book()\n",
    "        return \"Book with specified ISBN not found.\"\n",
    "\n",
    "    def available_books(self):\n",
    "        available_books = [book for book in self.books if not book.get_available()]\n",
    "        if available_books:\n",
    "            return \"\\n\".join(str(book) for book in available_books)\n",
    "        else:\n",
    "            return \"No available books in the library.\"\n"
   ]
  },
  {
   "cell_type": "code",
   "execution_count": 202,
   "metadata": {},
   "outputs": [
    {
     "name": "stdout",
     "output_type": "stream",
     "text": [
      "Available books are as below:\n",
      "No available books in the library.\n",
      "Book with specified ISBN not found.\n",
      "Book with specified ISBN not found.\n",
      "Available books are as below:\n",
      "No available books in the library.\n",
      "'Written in the Bones' is not currently borrowed.\n",
      "Book with specified ISBN not found.\n",
      "Available books are as below:\n",
      "No available books in the library.\n"
     ]
    }
   ],
   "source": [
    "# Create a object of library\n",
    "library = Library()\n",
    "\n",
    "# Create books objects\n",
    "book1 = Book(\"Written in the Bones\", \"John\", \"12333345878\")\n",
    "book2 = Book(\"Code\", \"Charles Petzold\", \"12333345874\")\n",
    "book3 = Book(\"Clean Code\", \"Robert C. Martin\", \"12333345854\")\n",
    "\n",
    "# Add books to library\n",
    "library.add_book(book1)\n",
    "library.add_book(book2)\n",
    "library.add_book(book3)\n",
    "\n",
    "# Print Lib\n",
    "print('Available books are as below:')\n",
    "print(library.available_books())\n",
    "\n",
    "# OPerations on library\n",
    "\n",
    "print(library.borrow_book(\"12333345878\"))\n",
    "print(library.borrow_book(\"12333345874\"))\n",
    "\n",
    "print('Available books are as below:')\n",
    "print(library.available_books())\n",
    "\n",
    "print(library.return_book(\"12333345878\"))\n",
    "print(library.borrow_book(\"12333345874\"))\n",
    "\n",
    "print('Available books are as below:')\n",
    "print(library.available_books())"
   ]
  },
  {
   "cell_type": "code",
   "execution_count": 203,
   "metadata": {},
   "outputs": [],
   "source": [
    "# 18. Explain how encapsulation enhances code reusability and modularity in Python programs.\n"
   ]
  },
  {
   "cell_type": "markdown",
   "metadata": {},
   "source": [
    "Encapsulation enhances code reusability and modularity in Python programs by promoting the separation of concerns and providing a well-defined interface for interacting with objects. Here's how it achieves this:\n",
    "\n",
    "1. **Separation of Concerns**: Encapsulation allows you to separate the internal implementation details of a class from its external interface. This means that the internal workings of an object can change without affecting the code that uses it.\n",
    "\n",
    "2. **Defined Interface**: By encapsulating attributes and providing controlled access through methods (getters and setters), you establish a clear and consistent way to interact with an object.\n",
    "This well-defined interface makes it easy for other parts of the codebase to use the object without needing to understand its internal implementation.\n",
    "\n",
    "3. **Code Reusability**: Encapsulation allows you to reuse classes and objects in different parts of your codebase or even in different projects.\n",
    "Since the interface is well-defined, you can use objects without worrying about the internal details.\n",
    "\n",
    "4. **Modularity**: Encapsulated objects act as modular units that can be easily integrated into larger systems.\n",
    "They provide a level of abstraction that allows you to focus on using the object's functionality rather than the specifics of how it works internally.\n",
    "\n",
    "5. **Isolation of Changes**: If you need to make changes to the internal implementation of a class, encapsulation ensures that those changes are isolated to the class itself.\n",
    "Other parts of the code that rely on the class's interface are not affected.\n",
    "\n",
    "6. **Security and Validation**: Encapsulation allows you to enforce validation rules and constraints on how attributes are accessed and modified.\n",
    "This helps prevent invalid or harmful changes to an object's state.\n",
    "\n",
    "7. **Enhanced Testing**: Encapsulation makes it easier to write unit tests because you can focus on testing the behavior of an object without needing to worry about its internal state.\n",
    "\n",
    "8. **Simplifies Debugging**: When encapsulation is used effectively, debugging becomes easier because you can narrow down potential issues to the encapsulated class.\n",
    "You can trust that the rest of your code interacts with the object correctly."
   ]
  },
  {
   "cell_type": "code",
   "execution_count": 204,
   "metadata": {},
   "outputs": [],
   "source": [
    "# 19. Describe the concept of information hiding in encapsulation. Why is it essential in software development?"
   ]
  },
  {
   "cell_type": "markdown",
   "metadata": {},
   "source": [
    "**Information hiding** or **Data hiding** is a fundamental principle in object-oriented programming that involves restricting access to certain attributes or methods of a class. It allows the internal state and behavior of an object to be kept private and accessible only through a defined public interface.\n",
    "\n",
    "The main goal of information hiding is to protect the internal representation of an object from external interference or misuse.\n",
    "\n",
    "It is **essential in software development** for several reasons:\n",
    "\n",
    "* **Preventing Unauthorized Access**: Information hiding helps prevent unauthorized or unintended access to sensitive attributes or methods. This is crucial for maintaining the integrity and security of an object's state.\n",
    "\n",
    "* **Maintaining Abstraction**: By hiding the internal details of an object, you can present a simplified and abstract view of the object's behavior to the outside world. This abstraction makes it easier to understand and use the object without being concerned about its internal implementation.\n",
    "\n",
    "* **Facilitating Code Maintenance**: With information hiding, you can modify the internal implementation of a class without affecting the code that uses it. This reduces the risk of unintended side effects and makes it easier to maintain and evolve the codebase.\n",
    "\n",
    "* **Enhancing Security**: By controlling access to sensitive attributes, you can prevent unauthorized modifications that could lead to security vulnerabilities or incorrect behavior.\n",
    "\n",
    "* **Simplification**: By hiding internal details, information hiding simplifies the usage of objects. Users of a class don't need to understand how it works internally, making it easier to use correctly.\n",
    "\n",
    "* **Isolation of Changes**: Information hiding allows for changes in the internal implementation of a class without affecting the code that uses it. This isolation of changes enhances code maintainability and reduces the risk of unintended side effects.\n",
    "\n",
    "* **Security**: It helps enforce security by restricting direct access to sensitive or critical data. Encapsulation ensures that data is accessed and modified only through controlled methods, allowing for validation and security checks.\n",
    "\n",
    "* **Reusability**: By encapsulating data and behavior within a class and providing a well-defined interface, you create reusable components. Other parts of the codebase can use these components without needing to know how they work internally.\n",
    "\n",
    "* **Safeguarding Invariants**: Encapsulation allows you to maintain invariants (constraints or rules that must always be true for the class) by controlling how attributes are accessed and modified. This ensures that the class's internal state remains consistent and valid."
   ]
  },
  {
   "cell_type": "code",
   "execution_count": 205,
   "metadata": {},
   "outputs": [
    {
     "name": "stdout",
     "output_type": "stream",
     "text": [
      "Customer ID: 1001\n",
      "Name: Ramjee Pabbi\n",
      "Address: 123 MG Road, Gurgaon\n",
      "Contact Info: 9999999999\n"
     ]
    }
   ],
   "source": [
    "# 20. Create a Python class called `Customer` with private attributes for customer details like name, address, and contact information. Implement encapsulation to ensure data integrity and security.\n",
    "\n",
    "class Customer:\n",
    "    def __init__(self, customer_id, name, address, contact_info):\n",
    "        self.__customer_id = customer_id\n",
    "        # Private attribute for customer name\n",
    "        self.__name = name\n",
    "        # Private attribute for customer address\n",
    "        self.__address = address \n",
    "        # Private attribute for contact information\n",
    "        self.__contact_info = contact_info  \n",
    "\n",
    "    # Getter methods\n",
    "    def get_customer_id(self):\n",
    "        return self.__customer_id\n",
    "\n",
    "    def get_name(self):\n",
    "        return self.__name\n",
    "\n",
    "    def get_address(self):\n",
    "        return self.__address\n",
    "\n",
    "    def get_contact_info(self):\n",
    "        return self.__contact_info\n",
    "\n",
    "    # Setter methods (if needed)\n",
    "    def set_address(self, new_address):\n",
    "        self.__address = new_address\n",
    "\n",
    "    def set_contact_info(self, new_contact_info):\n",
    "        self.__contact_info = new_contact_info\n",
    "\n",
    "# Creating a customer object\n",
    "customer1 = Customer(1001, \"Ramjee Pabbi\", \"123 MG Road, Gurgaon\", \"9999999999\")\n",
    "\n",
    "# Accessing attributes through controlled methods\n",
    "print(f\"Customer ID: {customer1.get_customer_id()}\")\n",
    "print(f\"Name: {customer1.get_name()}\")\n",
    "print(f\"Address: {customer1.get_address()}\")\n",
    "print(f\"Contact Info: {customer1.get_contact_info()}\")\n"
   ]
  },
  {
   "cell_type": "markdown",
   "metadata": {},
   "source": [
    "Polymorphism:-\n"
   ]
  },
  {
   "cell_type": "code",
   "execution_count": 206,
   "metadata": {},
   "outputs": [],
   "source": [
    "# 1. What is polymorphism in Python? Explain how it is related to object-oriented programming."
   ]
  },
  {
   "cell_type": "markdown",
   "metadata": {},
   "source": [
    "**Polymorphism** is the ability of a class or function to behave differently based on the context in which it is used. It allows objects or functions to take on multiple forms, depending on the situation.\n",
    "\n",
    "In the context of object-oriented programming (OOP), polymorphism is one of the four fundamental pillars, along with inheritance, encapsulation, and abstraction. There are two primary forms of polymorphism in Python:\n",
    "\n",
    "**Compile-Time Polymorphism** (also known as Static Polymorphism):\n",
    "\n",
    "This type of polymorphism is resolved at compile time, and it involves method overloading.\n",
    "*Method overloading* is the ability to define multiple methods with the same name in a class but with different parameters. The appropriate method is selected based on the number or types of arguments passed during compilation.\n",
    "\n",
    "**Run-Time Polymorphism** (also known as Dynamic Polymorphism):\n",
    "\n",
    "This is the more common form of polymorphism in OOP and is achieved through method overriding and inheritance.\n",
    "*Method overriding* allows a subclass to provide a specific implementation of a method that is already defined in its superclass. When an object of the subclass is used to call that method, the overridden version is executed.\n",
    "Dynamic polymorphism allows the same method name to behave differently depending on the specific type of object it is called on. It is a key feature in Python, and it makes code more flexible and adaptable."
   ]
  },
  {
   "cell_type": "code",
   "execution_count": 207,
   "metadata": {},
   "outputs": [],
   "source": [
    "# 2. Describe the difference between compile-time polymorphism and runtime polymorphism in Python."
   ]
  },
  {
   "cell_type": "markdown",
   "metadata": {},
   "source": [
    "| **Compile-time Polymorphism** | **Runtime Polymorphism** |\n",
    "| ------------- | ------------|\n",
    "| The determination of which method to call is made by the compiler based on the context and the types of variables involved.| The determination of which method to call is made dynamically based on the type of object involved.|\n",
    "| Occurs at compile time, before the program is run. | Occurs at runtime, while the program is running. |\n",
    "| Also known as early binding or static polymorphism. | Also known as late binding or dynamic polymorphism.|\n",
    "| Achieved through **method overloading** | Achieved through **method overriding** |"
   ]
  },
  {
   "cell_type": "code",
   "execution_count": 208,
   "metadata": {},
   "outputs": [
    {
     "name": "stdout",
     "output_type": "stream",
     "text": [
      "Area of circle: 78.5\n",
      "Area of square: 25\n",
      "Area of triangle: 9.0\n"
     ]
    }
   ],
   "source": [
    "# 3. Create a Python class hierarchy for shapes (e.g., circle, square, triangle) and demonstrate polymorphism through a common method, such as `calculate_area()`.\n",
    "\n",
    "# Super class (base class) Shape\n",
    "class Shape:\n",
    "    def calculate_area(self):\n",
    "        pass\n",
    "\n",
    "class Circle(Shape):\n",
    "    def __init__(self, radius):\n",
    "        self.radius = radius\n",
    "\n",
    "    # calculate_area for circle\n",
    "    def calculate_area(self):\n",
    "        return 3.14 * self.radius**2\n",
    "\n",
    "class Square(Shape):\n",
    "    def __init__(self, side_length):\n",
    "        self.side_length = side_length\n",
    "\n",
    "    # calculate_area for Square\n",
    "    def calculate_area(self):\n",
    "        return self.side_length**2\n",
    "\n",
    "class Triangle(Shape):\n",
    "    def __init__(self, base, height):\n",
    "        self.base = base\n",
    "        self.height = height\n",
    "\n",
    "    # calculate_area for Triangle\n",
    "    def calculate_area(self):\n",
    "        return 0.5 * self.base * self.height\n",
    "\n",
    "# Create INstance of each shape type\n",
    "circle = Circle(5)\n",
    "square = Square(5)\n",
    "triangle = Triangle(3, 6)\n",
    "\n",
    "print(f\"Area of circle: {circle.calculate_area()}\")\n",
    "print(f\"Area of square: {square.calculate_area()}\") \n",
    "print(f\"Area of triangle: {triangle.calculate_area()}\")\n",
    "\n"
   ]
  },
  {
   "cell_type": "code",
   "execution_count": 209,
   "metadata": {},
   "outputs": [],
   "source": [
    "# 4. Explain the concept of method overriding in polymorphism. Provide an example.\n"
   ]
  },
  {
   "cell_type": "markdown",
   "metadata": {},
   "source": [
    "**Method overriding** is a concept in object-oriented programming where a subclass provides a specific implementation for a method that is already defined in its superclass. This allows the subclass to customize or extend the behavior of the inherited method.\n",
    "\n",
    "Example:"
   ]
  },
  {
   "cell_type": "code",
   "execution_count": 210,
   "metadata": {},
   "outputs": [
    {
     "name": "stdout",
     "output_type": "stream",
     "text": [
      "Generic animal sound\n",
      "Woof!\n",
      "Meow!\n"
     ]
    }
   ],
   "source": [
    "class Animal:\n",
    "    def make_sound(self):\n",
    "        return \"Generic animal sound\"\n",
    "\n",
    "class Dog(Animal):\n",
    "    def make_sound(self):\n",
    "        return \"Woof!\"\n",
    "\n",
    "class Cat(Animal):\n",
    "    def make_sound(self):\n",
    "        return \"Meow!\"\n",
    "\n",
    "# Usage:\n",
    "animal = Animal()\n",
    "dog = Dog()\n",
    "cat = Cat()\n",
    "\n",
    "print(animal.make_sound())\n",
    "print(dog.make_sound())\n",
    "print(cat.make_sound())"
   ]
  },
  {
   "cell_type": "code",
   "execution_count": 211,
   "metadata": {},
   "outputs": [],
   "source": [
    "# 5. How is polymorphism different from method overloading in Python? Provide examples for both.\n"
   ]
  },
  {
   "cell_type": "markdown",
   "metadata": {},
   "source": [
    "**Polymorphism** and **method overloading** are related concepts in object-oriented programming, but they work differently in Python.\n",
    "\n",
    "**Polymorphism**:\n",
    "\n",
    "* Polymorphism allows objects or functions to take on multiple forms, depending on the context in which they are used.\n",
    "* It is achieved through two main mechanisms: method overriding and method overloading.\n",
    "* In Python, polymorphism is primarily achieved through method overriding.\n",
    "* In polymorphism, a method in a superclass is overridden in a subclass to provide a specific implementation.\n",
    "\n",
    "Example of polymorphism (method overriding) in python: "
   ]
  },
  {
   "cell_type": "code",
   "execution_count": 212,
   "metadata": {},
   "outputs": [
    {
     "name": "stdout",
     "output_type": "stream",
     "text": [
      "Woof!\n",
      "Meow!\n"
     ]
    }
   ],
   "source": [
    "class Animal:\n",
    "    def make_sound(self):\n",
    "        pass\n",
    "\n",
    "class Dog(Animal):\n",
    "    def make_sound(self):\n",
    "        return \"Woof!\"\n",
    "\n",
    "class Cat(Animal):\n",
    "    def make_sound(self):\n",
    "        return \"Meow!\"\n",
    "\n",
    "dog = Dog()\n",
    "cat = Cat()\n",
    "\n",
    "print(dog.make_sound())  # Output: \"Woof!\"\n",
    "print(cat.make_sound())  # Output: \"Meow!\"\n"
   ]
  },
  {
   "cell_type": "markdown",
   "metadata": {},
   "source": [
    "**Method Overloading**:\n",
    "\n",
    "* Traditional method overloading involves defining multiple methods with the same name but different parameter lists within a class.\n",
    "* In Python, method overloading (as seen in languages like C#) is not directly supported. It doesn't work based on the number or type of arguments.\n",
    "\n",
    "In C# below is example of method overloading:\n",
    "\n",
    "```\n",
    "class Calculator {\n",
    "    int add(int a, int b) {\n",
    "        return a + b;\n",
    "    }\n",
    "\n",
    "    double add(double a, double b) {\n",
    "        return a + b;\n",
    "    }\n",
    "}\n",
    "```\n",
    "\n",
    "Example of `add_number` method in python:"
   ]
  },
  {
   "cell_type": "code",
   "execution_count": 213,
   "metadata": {},
   "outputs": [
    {
     "name": "stdout",
     "output_type": "stream",
     "text": [
      "5\n",
      "6.0\n",
      "Hello, world\n"
     ]
    }
   ],
   "source": [
    "def add_numbers(a, b):\n",
    "    return a + b\n",
    "\n",
    "result1 = add_numbers(2, 3)         # Output: 5 (addition of integers)\n",
    "result2 = add_numbers(2.5, 3.5)     # Output: 6.0 (addition of floats)\n",
    "result3 = add_numbers(\"Hello, \", \"world\")  # Output: \"Hello, world\" (string concatenation)\n",
    "\n",
    "print(result1)\n",
    "print(result2)\n",
    "print(result3)"
   ]
  },
  {
   "cell_type": "code",
   "execution_count": 214,
   "metadata": {},
   "outputs": [
    {
     "name": "stdout",
     "output_type": "stream",
     "text": [
      "Woof!\n",
      "Meow!\n",
      "Chirp!\n"
     ]
    }
   ],
   "source": [
    "# 6. Create a Python class called `Animal` with a method `speak()`. Then, create child classes like `Dog`, `Cat`, and `Bird`, each with their own `speak()` method. Demonstrate polymorphism by calling the `speak()` method on objects of different subclasses.\n",
    "\n",
    "class Animal:\n",
    "    def speak(self):\n",
    "        pass\n",
    "\n",
    "class Dog(Animal):\n",
    "    def speak(self):\n",
    "        return \"Woof!\"\n",
    "\n",
    "class Cat(Animal):\n",
    "    def speak(self):\n",
    "        return \"Meow!\"\n",
    "\n",
    "class Bird(Animal):\n",
    "    def speak(self):\n",
    "        return \"Chirp!\"\n",
    "\n",
    "# Usage:\n",
    "dog = Dog()\n",
    "cat = Cat()\n",
    "bird = Bird()\n",
    "\n",
    "print(dog.speak())     # Output: \"Woof!\"\n",
    "print(cat.speak())     # Output: \"Meow!\"\n",
    "print(bird.speak())    # Output: \"Chirp!\"\n",
    "\n"
   ]
  },
  {
   "cell_type": "code",
   "execution_count": 215,
   "metadata": {},
   "outputs": [],
   "source": [
    "# 7. Discuss the use of abstract methods and classes in achieving polymorphism in Python. Provide an example using the `abc` module.\n"
   ]
  },
  {
   "cell_type": "markdown",
   "metadata": {},
   "source": [
    "In Python, **abstract methods and classes** play a crucial role in achieving polymorphism. Abstract methods define a method signature in an abstract base class, and concrete subclasses must provide an implementation for these methods. The abc module (*Abstract Base Classes*) is used to define abstract classes and methods.\n",
    "\n",
    "Here's an example using the abc module to demonstrate polymorphism through abstract methods and classes:"
   ]
  },
  {
   "cell_type": "code",
   "execution_count": 216,
   "metadata": {},
   "outputs": [
    {
     "name": "stdout",
     "output_type": "stream",
     "text": [
      "Area: 153.86\n",
      "Area: 84\n"
     ]
    }
   ],
   "source": [
    "from abc import ABC, abstractmethod\n",
    "\n",
    "# Abstract base class\n",
    "class Shape(ABC):\n",
    "    @abstractmethod\n",
    "    def area(self):\n",
    "        pass\n",
    "\n",
    "# Concrete subclass Circle\n",
    "class Circle(Shape):\n",
    "    def __init__(self, radius):\n",
    "        self.radius = radius\n",
    "\n",
    "    def area(self):\n",
    "        return 3.14 * self.radius * self.radius\n",
    "\n",
    "# Concrete subclass Rectangle\n",
    "class Rectangle(Shape):\n",
    "    def __init__(self, length, width):\n",
    "        self.length = length\n",
    "        self.width = width\n",
    "\n",
    "    def area(self):\n",
    "        return self.length * self.width\n",
    "\n",
    "# Usage\n",
    "circle = Circle(7)\n",
    "rectangle = Rectangle(14, 6)\n",
    "\n",
    "shapes = [circle, rectangle]\n",
    "\n",
    "for shape in shapes:\n",
    "    print(f\"Area: {shape.area()}\")\n"
   ]
  },
  {
   "cell_type": "code",
   "execution_count": 217,
   "metadata": {},
   "outputs": [
    {
     "name": "stdout",
     "output_type": "stream",
     "text": [
      "Car engine started. Ready to go!\n",
      "Pedaling... Bicycle is in motion!\n",
      "Engine running. Let's Sail the boat!\n"
     ]
    }
   ],
   "source": [
    "# 8. Create a Python class hierarchy for a vehicle system (e.g., car, bicycle, boat) and implement a polymorphic `start()` method that prints a message specific to each vehicle type.\n",
    "\n",
    "class Vehicle:\n",
    "    def start(self):\n",
    "        pass\n",
    "\n",
    "class Car(Vehicle):\n",
    "    def start(self):\n",
    "        return \"Car engine started. Ready to go!\"\n",
    "\n",
    "class Bicycle(Vehicle):\n",
    "    def start(self):\n",
    "        return \"Pedaling... Bicycle is in motion!\"\n",
    "\n",
    "class Boat(Vehicle):\n",
    "    def start(self):\n",
    "        return \"Engine running. Let's Sail the boat!\"\n",
    "\n",
    "# INstances\n",
    "car = Car()\n",
    "bicycle = Bicycle()\n",
    "boat = Boat()\n",
    "\n",
    "vehicles = [car, bicycle, boat]\n",
    "\n",
    "for vehicle in vehicles:\n",
    "    print(vehicle.start())\n"
   ]
  },
  {
   "cell_type": "code",
   "execution_count": 218,
   "metadata": {},
   "outputs": [],
   "source": [
    "# 9. Explain the significance of the `isinstance()` and `issubclass()` functions in Python polymorphism."
   ]
  },
  {
   "cell_type": "markdown",
   "metadata": {},
   "source": [
    "The functions `isinstance()` and `issubclass()` are essential in Python for working with polymorphism.\n",
    "\n",
    "**`isinstance()`**:\n",
    "\n",
    "* The `isinstance()` function is used to determine whether an object is an instance of a particular class or any of its subclasses.\n",
    "* It takes two arguments: the object and the class or type you want to check against.\n",
    "* It returns True if the object is an instance of the specified class or its subclass, and False otherwise.\n",
    "\n",
    "Example:"
   ]
  },
  {
   "cell_type": "code",
   "execution_count": 219,
   "metadata": {},
   "outputs": [
    {
     "name": "stdout",
     "output_type": "stream",
     "text": [
      "True\n",
      "True\n"
     ]
    }
   ],
   "source": [
    "class Animal:\n",
    "    pass\n",
    "\n",
    "class Dog(Animal):\n",
    "    pass\n",
    "\n",
    "dog = Dog()\n",
    "\n",
    "print(isinstance(dog, Dog))      # Output: True\n",
    "print(isinstance(dog, Animal))   # Output: True\n"
   ]
  },
  {
   "cell_type": "markdown",
   "metadata": {},
   "source": [
    "**`issubclass()`**:\n",
    "\n",
    "* The `issubclass()` function checks whether a class is a subclass of a specified class or any of its subclasses.\n",
    "* It takes two arguments: the class you want to check and the class you want to check against.\n",
    "* It returns True if the first class is a subclass of the second class, and False otherwise.\n",
    "\n",
    "Example:"
   ]
  },
  {
   "cell_type": "code",
   "execution_count": 220,
   "metadata": {},
   "outputs": [
    {
     "name": "stdout",
     "output_type": "stream",
     "text": [
      "True\n",
      "False\n"
     ]
    }
   ],
   "source": [
    "class Animal:\n",
    "    pass\n",
    "\n",
    "class Dog(Animal):\n",
    "    pass\n",
    "\n",
    "print(issubclass(Dog, Animal))   # Output: True\n",
    "print(issubclass(Animal, Dog))   # Output: False\n"
   ]
  },
  {
   "cell_type": "code",
   "execution_count": 221,
   "metadata": {},
   "outputs": [],
   "source": [
    "# 10. What is the role of the `@abstractmethod` decorator in achieving polymorphism in Python? Provide an example.\n"
   ]
  },
  {
   "cell_type": "markdown",
   "metadata": {},
   "source": [
    "\n",
    "The **`@abstractmethod`** decorator is a key component of achieving polymorphism in Python using abstract classes. It is part of the abc module (Abstract Base Classes) and allows you to declare abstract methods in a base class. Abstract methods are methods that are defined in the base class but have no implementation. Subclasses are required to provide their own implementation for these methods.\n",
    "\n",
    "Here is an example demonstrating the use of `@abstractmethod`:"
   ]
  },
  {
   "cell_type": "code",
   "execution_count": 222,
   "metadata": {},
   "outputs": [
    {
     "name": "stdout",
     "output_type": "stream",
     "text": [
      "Area: 153.86\n",
      "Area: 84\n"
     ]
    }
   ],
   "source": [
    "from abc import ABC, abstractmethod\n",
    "\n",
    "# Abstract base class\n",
    "class Shape(ABC):\n",
    "    @abstractmethod\n",
    "    def area(self):\n",
    "        pass\n",
    "\n",
    "# Concrete subclass Circle\n",
    "class Circle(Shape):\n",
    "    def __init__(self, radius):\n",
    "        self.radius = radius\n",
    "\n",
    "    def area(self):\n",
    "        return 3.14 * self.radius * self.radius\n",
    "\n",
    "# Concrete subclass Rectangle\n",
    "class Rectangle(Shape):\n",
    "    def __init__(self, length, width):\n",
    "        self.length = length\n",
    "        self.width = width\n",
    "\n",
    "    def area(self):\n",
    "        return self.length * self.width\n",
    "\n",
    "# Usage\n",
    "circle = Circle(7)\n",
    "rectangle = Rectangle(14, 6)\n",
    "\n",
    "shapes = [circle, rectangle]\n",
    "\n",
    "for shape in shapes:\n",
    "    print(f\"Area: {shape.area()}\")\n"
   ]
  },
  {
   "cell_type": "code",
   "execution_count": 223,
   "metadata": {},
   "outputs": [
    {
     "name": "stdout",
     "output_type": "stream",
     "text": [
      "Area: 78.5\n",
      "Area: 24\n",
      "Area: 12.0\n"
     ]
    }
   ],
   "source": [
    "# 11. Create a Python class called `Shape` with a polymorphic method `area()` that calculates the area of different shapes (e.g., circle, rectangle, triangle).\n",
    "\n",
    "\n",
    "class Shape:\n",
    "    def area(self):\n",
    "        pass\n",
    "\n",
    "class Circle(Shape):\n",
    "    def __init__(self, radius):\n",
    "        self.radius = radius\n",
    "\n",
    "    def area(self):\n",
    "        return 3.14 * self.radius**2\n",
    "\n",
    "class Rectangle(Shape):\n",
    "    def __init__(self, length, width):\n",
    "        self.length = length\n",
    "        self.width = width\n",
    "\n",
    "    def area(self):\n",
    "        return self.length * self.width\n",
    "\n",
    "class Triangle(Shape):\n",
    "    def __init__(self, base, height):\n",
    "        self.base = base\n",
    "        self.height = height\n",
    "\n",
    "    def area(self):\n",
    "        return 0.5 * self.base * self.height\n",
    "\n",
    "# Usage\n",
    "circle = Circle(5)\n",
    "rectangle = Rectangle(4, 6)\n",
    "triangle = Triangle(3, 8)\n",
    "\n",
    "shapes = [circle, rectangle, triangle]\n",
    "\n",
    "for shape in shapes:\n",
    "    print(f\"Area: {shape.area()}\")\n",
    "\n"
   ]
  },
  {
   "cell_type": "code",
   "execution_count": 224,
   "metadata": {},
   "outputs": [],
   "source": [
    "# 12. Discuss the benefits of polymorphism in terms of code reusability and flexibility in Python programs.\n"
   ]
  },
  {
   "cell_type": "markdown",
   "metadata": {},
   "source": [
    "**Polymorphism** offers several benefits in Python programs, primarily in terms of code reusability and flexibility:\n",
    "\n",
    "**Code Reusability**: Polymorphism allows you to write reusable code that can work with objects of different classes as long as they adhere to a common interface (i.e., implement the same methods). This means you can create functions or modules that can be used with a wide range of objects, promoting modular and reusable code.\n",
    "\n",
    "**Reduced Redundancy**: Without polymorphism, you might need to write separate code to handle different types of objects. With polymorphism, you can avoid redundant code and write more compact and efficient solutions.\n",
    "\n",
    "**Flexibility**: Polymorphism makes your code more flexible and adaptable to changes. You can easily add new classes or modify existing ones without affecting the core logic of your program, as long as they conform to the same interface.\n",
    "\n",
    "**Improved Readability**: Polymorphism can make your code more readable and intuitive. When you see a method call on an object, you don't need to know the specific class; you can rely on the common interface, making code easier to understand.\n",
    "\n",
    "**Easier Maintenance**: Since polymorphism promotes modularity and reduces redundancy, it simplifies maintenance. Changes or bug fixes can often be localized to specific classes, reducing the risk of unintended side effects in other parts of your code.\n",
    "\n",
    "**Interface-Based Programming**: Polymorphism encourages interface-based programming, where you focus on defining the expected behavior (methods) rather than the specific implementations. This allows multiple developers to work on different parts of a project independently, as long as they adhere to the agreed-upon interface.\n",
    "\n",
    "**Support for Open-Closed Principle**: Polymorphism supports the open-closed principle, one of the SOLID principles of object-oriented design. It allows you to extend the behavior of a program by adding new classes or methods without modifying existing code, reducing the risk of introducing errors."
   ]
  },
  {
   "cell_type": "code",
   "execution_count": 225,
   "metadata": {},
   "outputs": [],
   "source": [
    "# 13. Explain the use of the `super()` function in Python polymorphism. How does it help call methods of parent classes?\n"
   ]
  },
  {
   "cell_type": "markdown",
   "metadata": {},
   "source": [
    "The **`super()`** function in Python is used to call methods from a parent or superclass in the context of inheritance and polymorphism. It helps in achieving method overriding, where a subclass provides a specific implementation of a method that is already defined in its superclass.\n",
    "\n",
    "Here's how `super()` works and its role in polymorphism:\n",
    "\n",
    "**Accessing Parent Class Methods**: When you override a method in a subclass, you can use `super()` to call the overridden method in the parent class. This allows you to reuse the functionality provided by the parent class while adding or modifying behavior specific to the subclass.\n",
    "\n",
    "**Method Overriding**: By calling the parent class's method using `super()`, you can implement method overriding. This is a key aspect of polymorphism, where objects of different classes can be treated interchangeably if they adhere to a common interface.\n",
    "\n",
    "**Chaining Superclasses**: If you have a chain of inheritance with multiple superclasses, super() allows you to call methods from the immediate parent class, and those methods can, in turn, call methods from their parent classes, creating a hierarchy of method calls.\n",
    "\n",
    "Example of usage of `super()`:"
   ]
  },
  {
   "cell_type": "code",
   "execution_count": 226,
   "metadata": {},
   "outputs": [
    {
     "name": "stdout",
     "output_type": "stream",
     "text": [
      "Dog barks, and also, Animal speaks\n"
     ]
    }
   ],
   "source": [
    "class Animal:\n",
    "    def speak(self):\n",
    "        return \"Animal speaks\"\n",
    "\n",
    "class Dog(Animal):\n",
    "    def speak(self):\n",
    "        # Call the parent class method\n",
    "        parent_result = super().speak()\n",
    "        return f\"Dog barks, and also, {parent_result}\"\n",
    "\n",
    "\n",
    "dog = Dog()\n",
    "print(dog.speak())\n"
   ]
  },
  {
   "cell_type": "code",
   "execution_count": 227,
   "metadata": {},
   "outputs": [
    {
     "name": "stdout",
     "output_type": "stream",
     "text": [
      "Account Number: SA123\n",
      "Withdrawal of $500 successful. New balance: $500\n",
      "\n",
      "Account Number: CA451\n",
      "Withdrawal of $500 successful. New balance: $1500\n",
      "\n",
      "Account Number: CC786\n",
      "Withdrawal of $500 successful. New balance: $0\n",
      "\n"
     ]
    }
   ],
   "source": [
    "# 14. Create a Python class hierarchy for a banking system with various account types (e.g., savings, checking, credit card) and demonstrate polymorphism by implementing a common `withdraw()` method.\n",
    "\n",
    "class BankAccount:\n",
    "    def __init__(self, account_number, initial_balance):\n",
    "        self.__account_number = account_number\n",
    "        self._balance = initial_balance\n",
    "\n",
    "    def get_account_number(self):\n",
    "        return self.__account_number\n",
    "\n",
    "    def get_balance(self):\n",
    "        return self._balance\n",
    "\n",
    "    def withdraw(self, amount):\n",
    "        pass\n",
    "\n",
    "class SavingsAccount(BankAccount):\n",
    "    def withdraw(self, amount):\n",
    "        if self.get_balance() >= amount:\n",
    "            self._balance -= amount\n",
    "            return f\"Withdrawal of ${amount} successful. New balance: ${super().get_balance()}\"\n",
    "        else:\n",
    "            return \"Insufficient funds for withdrawal.\"\n",
    "\n",
    "class CheckingAccount(BankAccount):\n",
    "    def withdraw(self, amount):\n",
    "        if self.get_balance() >= amount:\n",
    "            self._balance -= amount\n",
    "            return f\"Withdrawal of ${amount} successful. New balance: ${self.get_balance()}\"\n",
    "        else:\n",
    "            return \"Insufficient funds for withdrawal.\"\n",
    "\n",
    "class CreditCardAccount(BankAccount):\n",
    "    def withdraw(self, amount):\n",
    "        new_balance = self.get_balance() - amount\n",
    "        if new_balance >= -1000:  # Assuming a credit limit of $1000\n",
    "            self._balance = new_balance\n",
    "            return f\"Withdrawal of ${amount} successful. New balance: ${self.get_balance()}\"\n",
    "        else:\n",
    "            return \"Credit limit exceeded. Unable to process withdrawal.\"\n",
    "\n",
    "# Usage\n",
    "savings_account = SavingsAccount(\"SA123\", 1000)\n",
    "checking_account = CheckingAccount(\"CA451\", 2000)\n",
    "credit_card_account = CreditCardAccount(\"CC786\", 500)\n",
    "\n",
    "accounts = [savings_account, checking_account, credit_card_account]\n",
    "\n",
    "for account in accounts:\n",
    "    print(f\"Account Number: {account.get_account_number()}\")\n",
    "    print(account.withdraw(500))\n",
    "    print()\n",
    "\n"
   ]
  },
  {
   "cell_type": "code",
   "execution_count": 228,
   "metadata": {},
   "outputs": [],
   "source": [
    "# 15. Describe the concept of operator overloading in Python and how it relates to polymorphism. Provide examples using operators like `+` and `*`.\n"
   ]
  },
  {
   "cell_type": "markdown",
   "metadata": {},
   "source": [
    "**Operator overloading** in Python allows you to define how operators should behave for objects of a user-defined class. This means you can customize the behavior of operators like `+, -, *, /`, etc., to work with your custom objects.\n",
    "\n",
    "Here's how operator overloading relates to polymorphism:\n",
    "\n",
    "**Polymorphism and Operator Overloading**: Operator overloading is a form of polymorphism because it allows different types or classes to use the same operator in different ways. This enables objects of different classes to interact with operators in a way that makes sense for their context.\n",
    "\n",
    "**Customized Behavior**: By overloading operators, you can define what it means to add, subtract, multiply, etc., for objects of your class. This enables you to apply familiar operators to your custom objects, making your code more intuitive and expressive.\n",
    "\n",
    "Here's an example using the + and * operators:"
   ]
  },
  {
   "cell_type": "code",
   "execution_count": 229,
   "metadata": {},
   "outputs": [
    {
     "name": "stdout",
     "output_type": "stream",
     "text": [
      "Vector Addition: (3, 5)\n",
      "Vector Multiplication: (4, 6)\n"
     ]
    }
   ],
   "source": [
    "class Vector:\n",
    "    def __init__(self, x, y):\n",
    "        self.x = x\n",
    "        self.y = y\n",
    "\n",
    "    def __add__(self, other):\n",
    "        return Vector(self.x + other.x, self.y + other.y)\n",
    "\n",
    "    def __mul__(self, scalar):\n",
    "        return Vector(self.x * scalar, self.y * scalar)\n",
    "\n",
    "    def __str__(self):\n",
    "        return f\"({self.x}, {self.y})\"\n",
    "\n",
    "# Usage\n",
    "v1 = Vector(2, 3)\n",
    "v2 = Vector(1, 2)\n",
    "\n",
    "# Adding vectors\n",
    "result_add = v1 + v2\n",
    "print(f\"Vector Addition: {result_add}\")\n",
    "\n",
    "# Multiplying a vector by a scalar\n",
    "result_mul = v1 * 2\n",
    "print(f\"Vector Multiplication: {result_mul}\")\n"
   ]
  },
  {
   "cell_type": "code",
   "execution_count": 230,
   "metadata": {},
   "outputs": [],
   "source": [
    "# 16. What is dynamic polymorphism, and how is it achieved in Python?\n"
   ]
  },
  {
   "cell_type": "markdown",
   "metadata": {},
   "source": [
    "**Dynamic polymorphism**, also known as runtime polymorphism or late binding, is a fundamental concept in object-oriented programming. It allows objects of different classes to be treated as objects of a common base class. The specific method or function that gets executed when you call it is determined at runtime based on the actual type of the object. Dynamic polymorphism is one of the key features of inheritance and abstraction in object-oriented programming.\n",
    "\n",
    "In Python, **dynamic polymorphism is achieved through method overriding**. Method overriding is a feature that allows a subclass to provide a specific implementation of a method that is already defined in its superclass. When you call a method on an object, Python determines at runtime which implementation of the method to execute, based on the actual type of the object."
   ]
  },
  {
   "cell_type": "code",
   "execution_count": 231,
   "metadata": {},
   "outputs": [
    {
     "name": "stdout",
     "output_type": "stream",
     "text": [
      "John Doe's salary: $70000\n",
      "Jane Smith's salary: $52000\n",
      "Bob Johnson's salary: $47500\n",
      "John Doe's updated salary: $75000\n"
     ]
    }
   ],
   "source": [
    "# 17. Create a Python class hierarchy for employees in a company (e.g., manager, developer, designer) and implement polymorphism through a common `calculate_salary()` method.\n",
    "\n",
    "\n",
    "class Employee:\n",
    "    def __init__(self, name, salary):\n",
    "        self.__name = name\n",
    "        self.__salary = salary\n",
    "\n",
    "    def get_name(self):\n",
    "        return self.__name\n",
    "\n",
    "    def get_salary(self):\n",
    "        return self.__salary\n",
    "\n",
    "    def set_salary(self, new_salary):\n",
    "        self.__salary = new_salary\n",
    "\n",
    "\n",
    "class Manager(Employee):\n",
    "    def __init__(self, name, salary, bonus):\n",
    "        super().__init__(name, salary)\n",
    "        self.__bonus = bonus\n",
    "\n",
    "    def calculate_salary(self):\n",
    "        return super().get_salary() + self.__bonus\n",
    "\n",
    "\n",
    "class Developer(Employee):\n",
    "    def __init__(self, name, salary, languages):\n",
    "        super().__init__(name, salary)\n",
    "        self.__languages = languages\n",
    "\n",
    "    def calculate_salary(self):\n",
    "        return super().get_salary() + len(self.__languages) * 1000\n",
    "\n",
    "\n",
    "class Designer(Employee):\n",
    "    def __init__(self, name, salary, experience):\n",
    "        super().__init__(name, salary)\n",
    "        self.__experience = experience\n",
    "\n",
    "    def calculate_salary(self):\n",
    "        return super().get_salary() + self.__experience * 500\n",
    "\n",
    "\n",
    "# Create instances of different employees\n",
    "manager = Manager(\"John Doe\", 60000, 10000)\n",
    "developer = Developer(\"Jane Smith\", 50000, [\"Python\", \"JavaScript\"])\n",
    "designer = Designer(\"Bob Johnson\", 45000, 5)\n",
    "\n",
    "# Accessing attributes using getters\n",
    "print(f\"{manager.get_name()}'s salary: ${manager.calculate_salary()}\")\n",
    "print(f\"{developer.get_name()}'s salary: ${developer.calculate_salary()}\")\n",
    "print(f\"{designer.get_name()}'s salary: ${designer.calculate_salary()}\")\n",
    "\n",
    "# Using setters to modify attributes\n",
    "manager.set_salary(65000)\n",
    "print(f\"{manager.get_name()}'s updated salary: ${manager.calculate_salary()}\")\n",
    "\n"
   ]
  },
  {
   "cell_type": "code",
   "execution_count": 232,
   "metadata": {},
   "outputs": [],
   "source": [
    "# 18. Discuss the concept of function pointers and how they can be used to achieve polymorphism in Python.\n"
   ]
  },
  {
   "cell_type": "markdown",
   "metadata": {},
   "source": [
    "**Function pointers** are a concept commonly found in languages like C and C++. They allow you to store the memory address of a function and call that function indirectly through the pointer. This provides a way to dynamically select and call different functions at runtime.\n",
    "\n",
    "In Python, you don't have explicit function pointers like in C or C++. Instead, Python has first-class functions, which means that functions can be treated as objects, assigned to variables, passed as arguments, and returned as values. This enables a form of polymorphism known as \"duck typing.\""
   ]
  },
  {
   "cell_type": "code",
   "execution_count": 233,
   "metadata": {},
   "outputs": [
    {
     "name": "stdout",
     "output_type": "stream",
     "text": [
      "Addition result: 8\n",
      "Subtraction result: 2\n",
      "Multiplication result: 15\n"
     ]
    }
   ],
   "source": [
    "def add(x, y):\n",
    "    return x + y\n",
    "\n",
    "def subtract(x, y):\n",
    "    return x - y\n",
    "\n",
    "def multiply(x, y):\n",
    "    return x * y\n",
    "\n",
    "# Define a function that takes two numbers and a function pointer\n",
    "def calculate(x, y, operation):\n",
    "    return operation(x, y)\n",
    "\n",
    "# Use the calculate function with different operations\n",
    "result_add = calculate(5, 3, add)\n",
    "result_subtract = calculate(5, 3, subtract)\n",
    "result_multiply = calculate(5, 3, multiply)\n",
    "\n",
    "print(f\"Addition result: {result_add}\")\n",
    "print(f\"Subtraction result: {result_subtract}\")\n",
    "print(f\"Multiplication result: {result_multiply}\")\n"
   ]
  },
  {
   "cell_type": "code",
   "execution_count": 234,
   "metadata": {},
   "outputs": [],
   "source": [
    "# 19. Explain the role of interfaces and abstract classes in polymorphism, drawing comparisons between them.\n"
   ]
  },
  {
   "cell_type": "markdown",
   "metadata": {},
   "source": [
    "**Interfaces and abstract classes** are both powerful tools that can be used to achieve polymorphism in object-oriented programming. However, they have some key differences.\n",
    "\n",
    "**Interfaces** are declarations of behavior, but they do not provide any implementation. This means that any class that implements an interface must provide its own implementation of all of the interface's methods.\n",
    "\n",
    "Interfaces are used to define a contract that a class must adhere to. Any class that implements an interface must provide implementations for all the methods defined in the interface.\n",
    "\n",
    "**Abstract classes** are similar to interfaces in that they can declare abstract methods. However, abstract classes can also provide concrete implementations of methods. This means that classes that subclass an abstract class can choose to inherit the concrete implementations or provide their own implementations.\n",
    "\n",
    "Abstract classes are used when you want to define a common structure or behavior that multiple subclasses share, but each subclass might have its own specific implementation of some methods."
   ]
  },
  {
   "cell_type": "code",
   "execution_count": 235,
   "metadata": {},
   "outputs": [
    {
     "name": "stdout",
     "output_type": "stream",
     "text": [
      "Lion is eating plants.\n",
      "Lion is sleeping in a cozy den.\n",
      "Lion is making mammal sounds.\n",
      "Eagle is pecking at seeds.\n",
      "Eagle is roosting in a tree.\n",
      "Eagle is chirping and singing.\n",
      "Snake is hunting for insects.\n",
      "Snake is basking on a rock.\n",
      "Snake is hissing and rustling.\n"
     ]
    }
   ],
   "source": [
    "# 20. Create a Python class for a zoo simulation, demonstrating polymorphism with different animal types (e.g., mammals, birds, reptiles) and their behavior (e.g., eating, sleeping, making sounds).\n",
    "\n",
    "class Animal:\n",
    "    def __init__(self, name):\n",
    "        self.name = name\n",
    "\n",
    "    def eat(self):\n",
    "        pass\n",
    "\n",
    "    def sleep(self):\n",
    "        pass\n",
    "\n",
    "    def make_sound(self):\n",
    "        pass\n",
    "\n",
    "\n",
    "class Mammal(Animal):\n",
    "    def eat(self):\n",
    "        return f\"{self.name} is eating plants.\"\n",
    "\n",
    "    def sleep(self):\n",
    "        return f\"{self.name} is sleeping in a cozy den.\"\n",
    "\n",
    "    def make_sound(self):\n",
    "        return f\"{self.name} is making mammal sounds.\"\n",
    "\n",
    "\n",
    "class Bird(Animal):\n",
    "    def eat(self):\n",
    "        return f\"{self.name} is pecking at seeds.\"\n",
    "\n",
    "    def sleep(self):\n",
    "        return f\"{self.name} is roosting in a tree.\"\n",
    "\n",
    "    def make_sound(self):\n",
    "        return f\"{self.name} is chirping and singing.\"\n",
    "\n",
    "\n",
    "class Reptile(Animal):\n",
    "    def eat(self):\n",
    "        return f\"{self.name} is hunting for insects.\"\n",
    "\n",
    "    def sleep(self):\n",
    "        return f\"{self.name} is basking on a rock.\"\n",
    "\n",
    "    def make_sound(self):\n",
    "        return f\"{self.name} is hissing and rustling.\"\n",
    "\n",
    "\n",
    "# Create instances of different animals\n",
    "lion = Mammal(\"Lion\")\n",
    "eagle = Bird(\"Eagle\")\n",
    "snake = Reptile(\"Snake\")\n",
    "\n",
    "# Perform actions\n",
    "print(lion.eat())\n",
    "print(lion.sleep())\n",
    "print(lion.make_sound())\n",
    "\n",
    "print(eagle.eat())\n",
    "print(eagle.sleep())\n",
    "print(eagle.make_sound())\n",
    "\n",
    "print(snake.eat())\n",
    "print(snake.sleep())\n",
    "print(snake.make_sound())\n"
   ]
  },
  {
   "cell_type": "markdown",
   "metadata": {},
   "source": [
    "Abstraction:\n",
    "\n"
   ]
  },
  {
   "cell_type": "code",
   "execution_count": 236,
   "metadata": {},
   "outputs": [],
   "source": [
    "# 1. What is abstraction in Python, and how does it relate to object-oriented programming?"
   ]
  },
  {
   "cell_type": "markdown",
   "metadata": {},
   "source": [
    "**Abstraction** is one of the four fundamental concepts in object-oriented programming (OOP), along with encapsulation, inheritance, and polymorphism. It is the process of hiding the implementation details of an object and exposing only the relevant features or functionalities to the outside world.\n",
    "\n",
    "In Python, abstraction allows you to create a blueprint (usually in the form of a class) that defines the structure and behavior of an object without exposing the underlying complexity. This blueprint serves as a higher-level representation of an object, focusing on what an object can do rather than how it does it.\n",
    "\n",
    "Here's how abstraction relates to object-oriented programming:\n",
    "\n",
    "**Defining Classes**: Abstraction starts by defining classes that represent objects in your program. These classes contain attributes (data) and methods (functions) that define the behavior of the objects.\n",
    "\n",
    "**Hiding Implementation Details**: With abstraction, you can hide the internal workings or implementation details of a class. This means that the user of the class only needs to know how to use its methods, not how those methods are implemented.\n",
    "\n",
    "**Providing a Simple Interface**: Abstraction provides a simplified interface for interacting with objects. Users of the class interact with it through its methods and attributes, without having to understand the complex inner workings.\n",
    "\n",
    "**Focusing on What, Not How**: Abstraction encourages developers to focus on what an object can do rather than how it does it. This helps in managing complexity and allows for easier maintenance and debugging.\n",
    "Reducing Complexity:\n",
    "\n",
    "By abstracting away implementation details, you can deal with higher-level concepts, making your code more manageable, modular, and reusable.\n",
    "\n",
    "**Enforcing Modularity**: Abstraction promotes modularity by breaking down complex systems into smaller, more manageable units. Each class encapsulates a specific set of functionalities.\n",
    "Supporting Code Reuse:\n",
    "\n",
    "Abstraction allows you to create templates (classes) that can be reused across different parts of your code or in different projects."
   ]
  },
  {
   "cell_type": "code",
   "execution_count": 237,
   "metadata": {},
   "outputs": [
    {
     "name": "stdout",
     "output_type": "stream",
     "text": [
      "The Toyota Camry engine is now running.\n",
      "The Toyota Camry engine has been turned off.\n"
     ]
    }
   ],
   "source": [
    "class Car:\n",
    "    def __init__(self, make, model, year):\n",
    "        self.make = make\n",
    "        self.model = model\n",
    "        self.year = year\n",
    "\n",
    "    def start_engine(self):\n",
    "        print(f\"The {self.make} {self.model} engine is now running.\")\n",
    "\n",
    "        print(f\"The {self.make} {self.model} engine has been turned off.\")\n",
    "\n",
    "\n",
    "# Usage of the Car class\n",
    "my_car = Car(\"Toyota\", \"Camry\", 2022)\n",
    "my_car.start_engine()\n",
    "# my_car.stop_engine()\n"
   ]
  },
  {
   "cell_type": "code",
   "execution_count": 238,
   "metadata": {},
   "outputs": [],
   "source": [
    "# 2. Describe the benefits of abstraction in terms of code organization and complexity reduction.\n"
   ]
  },
  {
   "cell_type": "markdown",
   "metadata": {},
   "source": [
    "**Abstraction** provides several benefits in terms of code organization and complexity reduction:\n",
    "\n",
    "**Encapsulation of Complexity**: Abstraction allows you to encapsulate the internal workings and complexities of objects within a class. This means that users of the class only need to know how to use its methods and attributes, without having to understand the intricate details of how those methods are implemented.\n",
    "\n",
    "**Simplified Interface**: Abstraction provides a simplified and well-defined interface for interacting with objects. This makes it easier for developers to use and understand the functionality provided by a class, as they can focus on what the object can do, rather than how it does it.\n",
    "\n",
    "**Modularity**: Abstraction promotes modularity by breaking down complex systems into smaller, more manageable units (classes). Each class encapsulates a specific set of functionalities. This makes it easier to work on individual components without affecting the entire system.\n",
    "\n",
    "**Code Reusability**: Abstraction allows you to create templates (classes) that can be reused across different parts of your code or in different projects. Once you have defined an abstract representation of a concept, you can use it in various contexts without having to rewrite the same code.\n",
    "\n",
    "**Improved Collaboration**: Abstraction can make code more understandable and accessible to other developers. When classes are well-abstracted, it's easier for multiple developers to work on different parts of a project simultaneously, as they can interact with well-defined interfaces.\n",
    "\n",
    "**Reduced Cognitive Load**: By hiding the implementation details, abstraction reduces the cognitive load on developers. They can focus on the higher-level concepts and logic without getting bogged down by low-level implementation specifics.\n",
    "\n",
    "**Easier Maintenance and Debugging**: Abstraction makes it easier to maintain and debug code. When a bug is found or a change is needed, developers can focus on the relevant part of the code without being overwhelmed by the entire system's complexity.\n",
    "\n",
    "**Adaptability to Changes**: When the internal implementation of a class changes, as long as the external interface remains the same, the rest of the code that uses the class remains unaffected. This promotes flexibility and adaptability to changes in the codebase.\n",
    "\n",
    "**Security and Privacy**: Abstraction can help in enforcing security and privacy by controlling access to certain parts of an object's state or behavior. For example, using access modifiers (like private attributes or methods) in Python.\n",
    "\n",
    "**Simplifies Testing**: Abstraction can make unit testing easier because you can focus on testing the behavior of a class without worrying about the internal details. This leads to more effective and maintainable testing procedures."
   ]
  },
  {
   "cell_type": "code",
   "execution_count": 239,
   "metadata": {},
   "outputs": [
    {
     "name": "stdout",
     "output_type": "stream",
     "text": [
      "Area of the circle: 314.1592653589793\n",
      "Area of the rectangle: 60\n"
     ]
    }
   ],
   "source": [
    "# 3. Create a Python class called `Shape` with an abstract method `calculate_area()`. Then, create child classes (e.g., `Circle`, `Rectangle`) that implement the `calculate_area()` method. Provide an example of using these classes.\n",
    "\n",
    "from abc import ABC, abstractmethod\n",
    "import math\n",
    "\n",
    "class Shape(ABC):\n",
    "    @abstractmethod\n",
    "    def calculate_area(self):\n",
    "        pass\n",
    "\n",
    "class Circle(Shape):\n",
    "    def __init__(self, radius):\n",
    "        self.radius = radius\n",
    "\n",
    "    def calculate_area(self):\n",
    "        return math.pi * self.radius**2\n",
    "\n",
    "class Rectangle(Shape):\n",
    "    def __init__(self, length, width):\n",
    "        self.length = length\n",
    "        self.width = width\n",
    "\n",
    "    def calculate_area(self):\n",
    "        return self.length * self.width\n",
    "\n",
    "# Usage\n",
    "circle = Circle(10)\n",
    "rectangle = Rectangle(10, 6)\n",
    "\n",
    "circle_area = circle.calculate_area()\n",
    "rectangle_area = rectangle.calculate_area()\n",
    "\n",
    "print(f\"Area of the circle: {circle_area}\")\n",
    "print(f\"Area of the rectangle: {rectangle_area}\")\n"
   ]
  },
  {
   "cell_type": "code",
   "execution_count": 240,
   "metadata": {},
   "outputs": [],
   "source": [
    "# 4. Explain the concept of abstract classes in Python and how they are defined using the `abc` module. Provide an example.\n"
   ]
  },
  {
   "cell_type": "markdown",
   "metadata": {},
   "source": [
    "Abstract classes in Python serve as blueprints for other classes. They define a common interface for a group of related classes. An abstract class cannot be instantiated on its own and typically contains one or more abstract methods.\n",
    "\n",
    "In Python, abstract classes are created using the `abc` module, which stands for \"Abstract Base Classes.\" The abc module provides the `ABC` class and the `abstractmethod` decorator, which are used to define abstract classes and abstract methods, respectively.\n"
   ]
  },
  {
   "cell_type": "code",
   "execution_count": 241,
   "metadata": {},
   "outputs": [
    {
     "name": "stdout",
     "output_type": "stream",
     "text": [
      "Area of the circle: 314.1592653589793\n",
      "Area of the rectangle: 60\n"
     ]
    }
   ],
   "source": [
    "from abc import ABC, abstractmethod\n",
    "import math\n",
    "\n",
    "class Shape(ABC):\n",
    "    @abstractmethod\n",
    "    def calculate_area(self):\n",
    "        pass\n",
    "\n",
    "class Circle(Shape):\n",
    "    def __init__(self, radius):\n",
    "        self.radius = radius\n",
    "\n",
    "    def calculate_area(self):\n",
    "        return math.pi * self.radius**2\n",
    "\n",
    "class Rectangle(Shape):\n",
    "    def __init__(self, length, width):\n",
    "        self.length = length\n",
    "        self.width = width\n",
    "\n",
    "    def calculate_area(self):\n",
    "        return self.length * self.width\n",
    "\n",
    "# Usage\n",
    "circle = Circle(10)\n",
    "rectangle = Rectangle(10, 6)\n",
    "\n",
    "circle_area = circle.calculate_area()\n",
    "rectangle_area = rectangle.calculate_area()\n",
    "\n",
    "print(f\"Area of the circle: {circle_area}\")\n",
    "print(f\"Area of the rectangle: {rectangle_area}\")\n"
   ]
  },
  {
   "cell_type": "code",
   "execution_count": 242,
   "metadata": {},
   "outputs": [],
   "source": [
    "# 5. How do abstract classes differ from regular classes in Python? Discuss their use cases.\n"
   ]
  },
  {
   "cell_type": "markdown",
   "metadata": {},
   "source": [
    "|          | Regular Class | Abstract Class |\n",
    "|----------| ------------- | -------------- |\n",
    "| **Instantiation** | You can create objects (instances) of regular classes directly. | You cannot create objects of abstract classes directly. They are meant to serve as blueprints for other classes. |\n",
    "| **Abstract Methods** | Regular classes may or may not have abstract methods. | Abstract classes always have at least one abstract method.| \n",
    "| **Inheritance** | Subclasses of regular classes inherit all the attributes and methods of their parent class. They can also override and extend the behavior of those methods. | Abstract classes are meant to be inherited by other classes. They define a common interface that subclasses must implement. Subclasses of an abstract class must provide implementations for all abstract methods. |\n",
    "\n",
    "#### **Use Cases**:\n",
    "\n",
    "**Regular Classes**:\n",
    "\n",
    "* Regular classes are used when you have a concrete implementation for a group of related objects.\n",
    "* They are instantiated to create objects that can perform specific tasks or hold specific information.\n",
    "\n",
    "**Abstract Classes**:\n",
    "\n",
    "* Abstract classes are used when you want to define a common interface or behavior for a group of related classes, but you don't want to provide a concrete implementation for some of the methods.\n",
    "* They serve as blueprints that enforce a certain structure or set of methods for subclasses to implement.\n",
    "* They are useful when you want to ensure that certain methods are implemented by multiple subclasses, but the exact implementation can vary."
   ]
  },
  {
   "cell_type": "code",
   "execution_count": 243,
   "metadata": {},
   "outputs": [
    {
     "name": "stdout",
     "output_type": "stream",
     "text": [
      "Account 123456789 balance: $1000\n",
      "Updated balance: $1300\n"
     ]
    }
   ],
   "source": [
    "# 6. Create a Python class for a bank account and demonstrate abstraction by hiding the account balance and providing methods to deposit and withdraw funds.\n",
    "\n",
    "\n",
    "class BankAccount:\n",
    "    def __init__(self, account_number, initial_balance):\n",
    "        self.account_number = account_number\n",
    "        self.__balance = initial_balance  # Private attribute\n",
    "\n",
    "    def deposit(self, amount):\n",
    "        self.__balance += amount\n",
    "\n",
    "    def withdraw(self, amount):\n",
    "        if amount > self.__balance:\n",
    "            print(\"Insufficient funds\")\n",
    "        else:\n",
    "            self.__balance -= amount\n",
    "\n",
    "    def get_balance(self):\n",
    "        return self.__balance\n",
    "\n",
    "\n",
    "# Usage\n",
    "account = BankAccount(\"123456789\", 1000)\n",
    "\n",
    "# Accessing balance using the get_balance method\n",
    "print(f\"Account {account.account_number} balance: ${account.get_balance()}\")\n",
    "\n",
    "# Depositing and withdrawing funds\n",
    "account.deposit(500)\n",
    "account.withdraw(200)\n",
    "\n",
    "print(f\"Updated balance: ${account.get_balance()}\")\n"
   ]
  },
  {
   "cell_type": "code",
   "execution_count": 244,
   "metadata": {},
   "outputs": [],
   "source": [
    "# 7. Discuss the concept of interface classes in Python and their role in achieving abstraction.\n"
   ]
  },
  {
   "cell_type": "markdown",
   "metadata": {},
   "source": [
    "**Interface classes** are classes that define a set of method signatures without providing any implementation details. They serve as contracts that specify what methods a class must implement. Although Python doesn't have a built-in construct for interfaces like some other languages (e.g., C#), the concept of interfaces can still be achieved through abstract base classes (ABCs) using the abc module.\n",
    "\n",
    "Interface classes (using abstract base classes) contribute to achieving abstraction in Python as below:\n",
    "\n",
    "* **Using Abstract Base Classes (ABCs)**: Python's abc module provides the ABC class and the abstractmethod decorator. This allows you to define abstract methods within a class.\n",
    "\n",
    "* **Defining Method Signatures**: Abstract methods declare the method signatures without providing any implementation. This means they only serve as placeholders for methods that must be implemented by subclasses.\n",
    "\n",
    "* **Enforcing a Contract**: By inheriting from an abstract base class and implementing its abstract methods, a subclass effectively promises to adhere to the contract defined by the abstract class.\n",
    "\n",
    "* **Hiding Implementation Details**: Interface classes, being abstract, focus solely on what methods should be available, not on how they are implemented. This helps in hiding the internal implementation details from the user.\n",
    "\n",
    "* **Providing a Common Interface**: Interface classes define a common set of methods that multiple classes can implement. This promotes a consistent interface for objects that share a certain behavior.\n",
    "\n",
    "* **Promoting Polymorphism**: Interface classes play a crucial role in achieving polymorphism. Objects of different classes that implement the same interface can be used interchangeably, allowing for flexibility and extensibility in your code.\n",
    "\n",
    "* **Facilitating Code Reuse**: By defining interfaces, you can create a structure that encourages code reuse. Different classes can implement the same interface, providing similar functionalities with potentially different implementations.\n",
    "\n",
    "* **Making Code More Understandable**: Interface classes help in making code more understandable and maintainable. They provide clear expectations of what methods should be available and how they should be used."
   ]
  },
  {
   "cell_type": "code",
   "execution_count": 245,
   "metadata": {},
   "outputs": [],
   "source": [
    "from abc import ABC, abstractmethod\n",
    "\n",
    "# Example of Interface class in Python\n",
    "class Shape(ABC):\n",
    "    @abstractmethod\n",
    "    def calculate_area(self):\n",
    "        pass\n",
    "\n",
    "class Circle(Shape):\n",
    "    def __init__(self, radius):\n",
    "        self.radius = radius\n",
    "\n",
    "    def calculate_area(self):\n",
    "        return 3.14 * self.radius**2\n",
    "\n",
    "class Rectangle(Shape):\n",
    "    def __init__(self, length, width):\n",
    "        self.length = length\n",
    "        self.width = width\n",
    "\n",
    "    def calculate_area(self):\n",
    "        return self.length * self.width\n"
   ]
  },
  {
   "cell_type": "code",
   "execution_count": 246,
   "metadata": {},
   "outputs": [
    {
     "name": "stdout",
     "output_type": "stream",
     "text": [
      "Lion is eating plants.\n",
      "Lion is sleeping in a cozy den.\n",
      "Eagle is pecking at seeds.\n",
      "Eagle is roosting in a tree.\n",
      "Snake is hunting for insects.\n",
      "Snake is basking on a rock.\n"
     ]
    }
   ],
   "source": [
    "# 8. Create a Python class hierarchy for animals and implement abstraction by defining common methods (e.g., `eat()`, `sleep()`) in an abstract base class.\n",
    "\n",
    "\n",
    "from abc import ABC, abstractmethod\n",
    "\n",
    "class Animal(ABC):\n",
    "    def __init__(self, name):\n",
    "        self.name = name\n",
    "\n",
    "    @abstractmethod\n",
    "    def eat(self):\n",
    "        pass\n",
    "\n",
    "    @abstractmethod\n",
    "    def sleep(self):\n",
    "        pass\n",
    "\n",
    "class Mammal(Animal):\n",
    "    def eat(self):\n",
    "        return f\"{self.name} is eating plants.\"\n",
    "\n",
    "    def sleep(self):\n",
    "        return f\"{self.name} is sleeping in a cozy den.\"\n",
    "\n",
    "class Bird(Animal):\n",
    "    def eat(self):\n",
    "        return f\"{self.name} is pecking at seeds.\"\n",
    "\n",
    "    def sleep(self):\n",
    "        return f\"{self.name} is roosting in a tree.\"\n",
    "\n",
    "class Reptile(Animal):\n",
    "    def eat(self):\n",
    "        return f\"{self.name} is hunting for insects.\"\n",
    "\n",
    "    def sleep(self):\n",
    "        return f\"{self.name} is basking on a rock.\"\n",
    "\n",
    "# Usage\n",
    "lion = Mammal(\"Lion\")\n",
    "eagle = Bird(\"Eagle\")\n",
    "snake = Reptile(\"Snake\")\n",
    "\n",
    "print(lion.eat())\n",
    "print(lion.sleep())\n",
    "\n",
    "print(eagle.eat())\n",
    "print(eagle.sleep())\n",
    "\n",
    "print(snake.eat())\n",
    "print(snake.sleep())\n"
   ]
  },
  {
   "cell_type": "code",
   "execution_count": 247,
   "metadata": {},
   "outputs": [],
   "source": [
    "# 9. Explain the significance of encapsulation in achieving abstraction. Provide examples.\n"
   ]
  },
  {
   "cell_type": "markdown",
   "metadata": {},
   "source": [
    "**Encapsulation and abstraction** are two closely related concepts in object-oriented programming, and encapsulation plays a significant role in achieving abstraction. Here's an explanation of the significance of encapsulation in achieving abstraction, along with examples:\n",
    "\n",
    "1. **Hiding Implementation Details**:\n",
    "\n",
    "* Encapsulation involves bundling data (attributes) and methods (functions) that operate on that data into a single unit, known as a class.\n",
    "* By encapsulating data and methods within a class, you can hide the internal implementation details of the class from the outside world.\n",
    "* This hidden implementation is a key aspect of achieving abstraction, as it allows users of the class to focus on what the class can do (its interface) rather than how it does it (its implementation details).\n",
    "\n",
    "2. **Access Control**:\n",
    "\n",
    "* Encapsulation allows you to control the access to the attributes and methods of a class.\n",
    "* You can specify which attributes or methods are public (accessible from outside the class) and which are private (only accessible within the class).\n",
    "* By keeping certain attributes or methods private, you can further hide the implementation details, ensuring that they are not directly accessible from outside the class.\n",
    "\n",
    "3. **Data Integrity**:\n",
    "\n",
    "* Encapsulation helps in ensuring the integrity of the data within the class. You can define rules and constraints for how data can be modified by providing setter methods.\n",
    "* This ensures that data remains in a valid state and prevents unexpected or invalid modifications."
   ]
  },
  {
   "cell_type": "code",
   "execution_count": 248,
   "metadata": {},
   "outputs": [],
   "source": [
    "# 10. What is the purpose of abstract methods, and how do they enforce abstraction in Python classes?\n"
   ]
  },
  {
   "cell_type": "markdown",
   "metadata": {},
   "source": [
    "**Abstract methods** serve as placeholders for methods that must be implemented by subclasses. They define the required method signatures without providing any implementation details. The purpose of abstract methods is to enforce a common interface or behavior across multiple classes, ensuring that certain methods are present in each subclass.   \n",
    "\n",
    "**Abstract methods enforce abstraction** in Python classes by following:\n",
    "\n",
    "**Defining a Contract**:\n",
    "\n",
    "* An abstract method in an abstract base class serves as a contract that specifies what methods must be implemented by subclasses.\n",
    "* It defines the expected behavior or functionality that subclasses are expected to provide.\n",
    "\n",
    "**Forcing Implementation**:\n",
    "\n",
    "* Subclasses that inherit from an abstract base class containing abstract methods are required to implement those methods.\n",
    "* If a subclass fails to provide an implementation for an abstract method, it will raise an error at runtime.\n",
    "\n",
    "**Providing a Common Interface**:\n",
    "\n",
    "* Abstract methods help in creating a common interface that multiple classes can implement. This promotes consistency in behavior across different subclasses.\n",
    "\n",
    "**Hiding Implementation Details**:\n",
    "\n",
    "* Abstract methods focus solely on what methods should be available, not on how they are implemented. This helps in hiding the internal implementation details from the user.\n",
    "\n",
    "**Supporting Polymorphism**:\n",
    "\n",
    "* Abstract methods play a crucial role in achieving polymorphism. Objects of different classes that implement the same abstract method can be used interchangeably, allowing for flexibility and extensibility in your code."
   ]
  },
  {
   "cell_type": "code",
   "execution_count": 249,
   "metadata": {},
   "outputs": [
    {
     "name": "stdout",
     "output_type": "stream",
     "text": [
      "The 2022 Toyota Camry engine is now running.\n",
      "The 2022 Toyota Camry engine has been turned off.\n",
      "The 2022 Honda CBR500R engine is now running.\n",
      "The 2022 Honda CBR500R engine has been turned off.\n",
      "The 2022 Sea Ray Sundancer engine is now running.\n",
      "The 2022 Sea Ray Sundancer engine has been turned off.\n"
     ]
    }
   ],
   "source": [
    "# 11. Create a Python class for a vehicle system and demonstrate abstraction by defining common methods (e.g., `start()`, `stop()`) in an abstract base class.\n",
    "\n",
    "from abc import ABC, abstractmethod\n",
    "\n",
    "class Vehicle(ABC):\n",
    "    def __init__(self, make, model, year):\n",
    "        self.make = make\n",
    "        self.model = model\n",
    "        self.year = year\n",
    "\n",
    "    @abstractmethod\n",
    "    def start(self):\n",
    "        pass\n",
    "\n",
    "    @abstractmethod\n",
    "    def stop(self):\n",
    "        pass\n",
    "\n",
    "class Car(Vehicle):\n",
    "    def start(self):\n",
    "        return f\"The {self.year} {self.make} {self.model} engine is now running.\"\n",
    "\n",
    "    def stop(self):\n",
    "        return f\"The {self.year} {self.make} {self.model} engine has been turned off.\"\n",
    "\n",
    "class Motorcycle(Vehicle):\n",
    "    def start(self):\n",
    "        return f\"The {self.year} {self.make} {self.model} engine is now running.\"\n",
    "\n",
    "    def stop(self):\n",
    "        return f\"The {self.year} {self.make} {self.model} engine has been turned off.\"\n",
    "\n",
    "class Boat(Vehicle):\n",
    "    def start(self):\n",
    "        return f\"The {self.year} {self.make} {self.model} engine is now running.\"\n",
    "\n",
    "    def stop(self):\n",
    "        return f\"The {self.year} {self.make} {self.model} engine has been turned off.\"\n",
    "\n",
    "# Usage\n",
    "car = Car(\"Toyota\", \"Camry\", 2022)\n",
    "motorcycle = Motorcycle(\"Honda\", \"CBR500R\", 2022)\n",
    "boat = Boat(\"Sea Ray\", \"Sundancer\", 2022)\n",
    "\n",
    "print(car.start())\n",
    "print(car.stop())\n",
    "\n",
    "print(motorcycle.start())\n",
    "print(motorcycle.stop())\n",
    "\n",
    "print(boat.start())\n",
    "print(boat.stop())\n",
    "\n"
   ]
  },
  {
   "cell_type": "code",
   "execution_count": 250,
   "metadata": {},
   "outputs": [],
   "source": [
    "# 12. Describe the use of abstract properties in Python and how they can be employed in abstract classes.\n"
   ]
  },
  {
   "cell_type": "markdown",
   "metadata": {},
   "source": [
    "**Abstract properties** in Python are special attributes that are defined in abstract base classes (ABCs) using the `@property` decorator and the `@<attribute>.setter` decorator. They allow you to define a contract for attributes that must be implemented by subclasses, without specifying how they should be implemented.\n",
    "\n",
    "Here's how abstract properties work and how they can be employed in abstract classes:\n",
    "\n",
    "**Defining Abstract Properties**: To create an abstract property, you use the `@property` decorator on a method, and then create a setter method using `@<attribute>.setter`.\n",
    "\n",
    "**Getter Method**: The method with `@property` is known as the getter method. It defines the behavior for retrieving the value of the property.\n",
    "\n",
    "**Setter Method**: The method with `@<attribute>.setter` is used to define the behavior for setting the value of the property.\n",
    "\n",
    "**Enforcing a Contract**: Abstract properties define a contract that subclasses must adhere to. They specify that a certain attribute must be present in subclasses, but they don't specify how it should be implemented.\n",
    "\n",
    "**Providing a Common Interface**: Abstract properties allow you to create a common interface for attributes that multiple classes can implement. This promotes consistency in behavior across different subclasses.\n",
    "\n",
    "**Hiding Implementation Details**: Like abstract methods, abstract properties focus solely on what attributes should be available, not on how they are implemented. This helps in hiding the internal implementation details from the user."
   ]
  },
  {
   "cell_type": "code",
   "execution_count": 251,
   "metadata": {},
   "outputs": [
    {
     "name": "stdout",
     "output_type": "stream",
     "text": [
      "John Doe's Salary: $70000\n",
      "Jane Smith's Salary: $8000\n",
      "Mike Johnson's Salary: $5000\n"
     ]
    }
   ],
   "source": [
    "# 13. Create a Python class hierarchy for employees in a company (e.g., manager, developer, designer) and implement abstraction by defining a common `get_salary()` method.\n",
    "\n",
    "from abc import ABC, abstractmethod\n",
    "\n",
    "class Employee(ABC):\n",
    "    def __init__(self, name, employee_id):\n",
    "        self.name = name\n",
    "        self.employee_id = employee_id\n",
    "\n",
    "    @abstractmethod\n",
    "    def get_salary(self):\n",
    "        pass\n",
    "\n",
    "class Manager(Employee):\n",
    "    def __init__(self, name, employee_id, base_salary, bonus):\n",
    "        super().__init__(name, employee_id)\n",
    "        self.base_salary = base_salary\n",
    "        self.bonus = bonus\n",
    "\n",
    "    def get_salary(self):\n",
    "        return self.base_salary + self.bonus\n",
    "\n",
    "class Developer(Employee):\n",
    "    def __init__(self, name, employee_id, hourly_rate, hours_worked):\n",
    "        super().__init__(name, employee_id)\n",
    "        self.hourly_rate = hourly_rate\n",
    "        self.hours_worked = hours_worked\n",
    "\n",
    "    def get_salary(self):\n",
    "        return self.hourly_rate * self.hours_worked\n",
    "\n",
    "class Designer(Employee):\n",
    "    def __init__(self, name, employee_id, monthly_salary):\n",
    "        super().__init__(name, employee_id)\n",
    "        self.monthly_salary = monthly_salary\n",
    "\n",
    "    def get_salary(self):\n",
    "        return self.monthly_salary\n",
    "\n",
    "# Usage\n",
    "manager = Manager(\"John Doe\", 1001, 60000, 10000)\n",
    "developer = Developer(\"Jane Smith\", 1002, 50, 160)\n",
    "designer = Designer(\"Mike Johnson\", 1003, 5000)\n",
    "\n",
    "print(f\"{manager.name}'s Salary: ${manager.get_salary()}\")\n",
    "print(f\"{developer.name}'s Salary: ${developer.get_salary()}\")\n",
    "print(f\"{designer.name}'s Salary: ${designer.get_salary()}\")"
   ]
  },
  {
   "cell_type": "code",
   "execution_count": 252,
   "metadata": {},
   "outputs": [],
   "source": [
    "# 14. Discuss the differences between abstract classes and concrete classes in Python, including their instantiation.\n"
   ]
  },
  {
   "cell_type": "markdown",
   "metadata": {},
   "source": [
    "|          | Concrete Class (Regular class) | Abstract Class |\n",
    "|----------| ------------- | -------------- |\n",
    "| **Instantiation** | You can create objects (instances) of concrete classes directly. | You cannot create objects of abstract classes directly. They are meant to serve as blueprints for other classes. |\n",
    "| **Abstract Methods** | Concrete classes may or may not have abstract methods. | Abstract classes always have at least one abstract method.| \n",
    "| **Inheritance** | Subclasses of concrete classes inherit all the attributes and methods of their parent class. They can also override and extend the behavior of those methods. | Abstract classes are meant to be inherited by other classes. They define a common interface that subclasses must implement. Subclasses of an abstract class must provide implementations for all abstract methods. |"
   ]
  },
  {
   "cell_type": "code",
   "execution_count": 253,
   "metadata": {},
   "outputs": [],
   "source": [
    "# 15. Explain the concept of abstract data types (ADTs) and their role in achieving abstraction in Python.\n"
   ]
  },
  {
   "cell_type": "markdown",
   "metadata": {},
   "source": [
    "**Abstract Data Types (ADTs)** are a fundamental concept in computer science that define a set of operations on a data structure without specifying the underlying implementation. They provide a high-level view of data and operations, allowing you to focus on what can be done with the data rather than how it is represented.\n",
    "\n",
    "Here's how ADTs contribute to achieving abstraction in Python:\n",
    "\n",
    "**High-Level View**: ADTs provide a clear, high-level view of the data and operations associated with it. This allows you to think about data in a conceptual manner without getting bogged down in the implementation details.\n",
    "\n",
    "**Separation of Concerns**: ADTs separate the logical view (what operations can be performed) from the physical view (how data is stored and manipulated). This separation helps in organizing code and makes it easier to understand and maintain.\n",
    "\n",
    "**Encapsulation**: ADTs encapsulate data and operations related to that data. This means that the inner workings of the data structure are hidden, and users only interact with it through well-defined interfaces.\n",
    "\n",
    "**Code Reusability**: By providing a standardized interface for working with data, ADTs encourage code reuse. Once an ADT is defined, it can be used in multiple contexts without needing to reimplement the underlying data structure.\n",
    "\n",
    "**Abstraction of Implementation Details**: ADTs hide the implementation details of the data structure, allowing you to focus on the operations you want to perform rather than how those operations are carried out.\n",
    "\n",
    "**Flexibility and Extensibility**: ADTs can be implemented using different data structures, allowing you to choose the most appropriate one for a specific application. This provides flexibility and extensibility in designing software.\n",
    "\n",
    "**Support for Generic Programming**: ADTs can be defined in a generic manner, allowing them to work with different types of data. This promotes code that is more adaptable and can be applied to a wider range of scenarios.\n",
    "\n",
    "**Error Reduction**: ADTs provide a well-defined and standardized interface. This reduces the chances of errors caused by misunderstanding or misusing the data structure."
   ]
  },
  {
   "cell_type": "code",
   "execution_count": 254,
   "metadata": {},
   "outputs": [
    {
     "name": "stdout",
     "output_type": "stream",
     "text": [
      "The Dell Precision Desktop desktop is booting up.\n",
      "The Dell Precision Desktop desktop is shutting down.\n",
      "The Dell Precision 3751 laptop is starting up.\n",
      "The Dell Precision 3751 laptop is shutting down.\n"
     ]
    }
   ],
   "source": [
    "# 16. Create a Python class for a computer system, demonstrating abstraction by defining common methods (e.g., `power_on()`, `shutdown()`) in an abstract base class.\n",
    "\n",
    "from abc import ABC, abstractmethod\n",
    "\n",
    "# abstract base class\n",
    "class Computer(ABC):\n",
    "    def __init__(self, brand, model):\n",
    "        self.brand = brand\n",
    "        self.model = model\n",
    "\n",
    "    @abstractmethod\n",
    "    def power_on(self):\n",
    "        pass\n",
    "\n",
    "    @abstractmethod\n",
    "    def shutdown(self):\n",
    "        pass\n",
    "\n",
    "class Desktop(Computer):\n",
    "    def power_on(self):\n",
    "        return f\"The {self.brand} {self.model} desktop is booting up.\"\n",
    "\n",
    "    def shutdown(self):\n",
    "        return f\"The {self.brand} {self.model} desktop is shutting down.\"\n",
    "\n",
    "class Laptop(Computer):\n",
    "    def power_on(self):\n",
    "        return f\"The {self.brand} {self.model} laptop is starting up.\"\n",
    "\n",
    "    def shutdown(self):\n",
    "        return f\"The {self.brand} {self.model} laptop is shutting down.\"\n",
    "\n",
    "# Usage\n",
    "desktop = Desktop(\"Dell\", \"Precision Desktop\")\n",
    "laptop = Laptop(\"Dell\", \"Precision 3751\")\n",
    "\n",
    "print(desktop.power_on())\n",
    "print(desktop.shutdown())\n",
    "\n",
    "print(laptop.power_on())\n",
    "print(laptop.shutdown())\n"
   ]
  },
  {
   "cell_type": "code",
   "execution_count": 255,
   "metadata": {},
   "outputs": [],
   "source": [
    "# 17. Discuss the benefits of using abstraction in large-scale software development projects.\n",
    "\n"
   ]
  },
  {
   "cell_type": "markdown",
   "metadata": {},
   "source": [
    "Using abstraction in large-scale software development projects offers several significant benefits:\n",
    "\n",
    "**Complexity Management**: Abstraction helps manage the complexity of large-scale projects by breaking them down into manageable, modular components. Each component can be developed and tested independently, reducing the cognitive load on individual developers.\n",
    "\n",
    "**Code Organization**: Abstraction promotes a structured and organized codebase. It allows developers to focus on individual components without being overwhelmed by the entire system's intricacies.\n",
    "\n",
    "**Improved Readability and Maintainability**: Abstracting away low-level details means that code is more readable and understandable. This makes it easier for developers (and future maintainers) to grasp the functionality of various parts of the system.\n",
    "\n",
    "**Ease of Collaboration**: Abstraction provides clear interfaces between different parts of the system. This facilitates teamwork, as developers can work on different components simultaneously, knowing how they interact with one another.\n",
    "\n",
    "**Reduced Coupling**: Abstraction helps in reducing tight coupling between different modules or components. This allows for changes or updates to be made to one part of the system without affecting others, as long as the interface remains consistent.\n",
    "\n",
    "**Code Reusability**: Abstracting common functionalities into reusable components or libraries allows for code reusability across different parts of the project or even in future projects. This leads to more efficient development cycles.\n",
    "\n",
    "**Testing and Debugging**: Abstraction facilitates easier testing and debugging. Each component can be tested in isolation, making it simpler to identify and fix issues. Additionally, unit testing can be more focused and comprehensive.\n",
    "\n",
    "**Scalability**: Abstraction enables scalability by providing a framework for adding new features or extending existing functionality. New components can be added without disrupting the existing architecture, as long as they adhere to the established interfaces.\n",
    "\n",
    "**Adaptability to Changes**: As requirements evolve, abstracted components can be modified or replaced without affecting the overall system. This allows for easier adaptation to changing business needs.\n",
    "\n",
    "**Security and Encapsulation**: Abstraction can help enforce security by limiting access to sensitive information or operations. It allows you to encapsulate critical functionalities, making it harder for unintended misuse.\n",
    "\n",
    "**Conceptual Modeling**: Abstraction allows for conceptual modeling of the system, making it easier to communicate with stakeholders, understand the system's behavior, and plan for future enhancements.\n",
    "\n",
    "**Error Isolation**: With proper abstraction, errors are isolated to specific components, making it easier to identify the source of a problem and fix it without affecting other parts of the system."
   ]
  },
  {
   "cell_type": "code",
   "execution_count": 256,
   "metadata": {},
   "outputs": [],
   "source": [
    "# 18. Explain how abstraction enhances code reusability and modularity in Python programs.\n"
   ]
  },
  {
   "cell_type": "markdown",
   "metadata": {},
   "source": [
    "Abstraction plays a crucial role in enhancing code reusability and modularity in Python programs. Here's how it achieves this:\n",
    "\n",
    "1. **Separation of Concerns**: Abstraction allows you to separate different concerns or functionalities in your code. Each component or module can focus on a specific aspect of the program's functionality, making it easier to understand and maintain.\n",
    "\n",
    "2. **Well-Defined Interfaces**: Abstraction defines well-defined interfaces for components. These interfaces specify how different parts of the program can interact with each other. This promotes code reusability because you can use components without needing to understand their internal workings.\n",
    "\n",
    "3. **Encapsulation**: Abstraction encapsulates the implementation details of a component, hiding them from the outside world. This makes it easier to reuse components because you only need to know how to use them, not how they are implemented.\n",
    "\n",
    "4. **Modular Design**: Abstraction encourages a modular design, where different components are organized into separate modules or classes. These modules can be reused in other parts of the program or even in other projects.\n",
    "\n",
    "5. **Reduced Dependencies**: Abstraction reduces dependencies between components. This means that you can change or update one component without affecting others, as long as the interface remains consistent. This promotes code reusability and maintainability.\n",
    "\n",
    "6. **Inheritance and Interfaces**: Python supports inheritance and interfaces through abstract base classes (ABCs). This allows you to create abstract classes that define common interfaces for subclasses. This promotes code reuse by ensuring adherence to a specified contract.\n",
    "\n",
    "7. **Polymorphism**: Abstraction, particularly in the context of polymorphism, allows different objects to be used interchangeably if they implement the same abstract interface. This enables reusing code that operates on abstracted interfaces rather than specific implementations.\n",
    "\n",
    "8. **Template Methods**: Abstraction supports the use of template methods, where the overall structure of an algorithm is defined in an abstract class, but some steps are left to be implemented by subclasses. This encourages code reuse while allowing customization.\n",
    "\n",
    "9. **Functional Programming Paradigm**: Python supports functional programming paradigms, where functions are treated as first-class citizens. Abstraction in functions allows for the creation of reusable and composable code.\n",
    "\n",
    "10. **Mixin Classes**: Mixin classes in Python allow for the reuse of code across different classes by providing specific functionalities that can be mixed in. This is a powerful technique for enhancing modularity and code reuse.\n",
    "\n",
    "11. **Third-Party Libraries and Packages**: Python has a rich ecosystem of third-party libraries and packages. These libraries provide pre-built solutions to common problems, allowing developers to leverage existing code rather than reinventing the wheel."
   ]
  },
  {
   "cell_type": "code",
   "execution_count": 257,
   "metadata": {},
   "outputs": [
    {
     "name": "stdout",
     "output_type": "stream",
     "text": [
      "The book 'Tales of Vikram Betal' by Somdev Bhatt has been added to the library.\n",
      "You have borrowed the book 'Tales of Vikram Betal'.\n",
      "The book 'Tales of Vikram Betal' is already borrowed.\n",
      "You have returned the book 'Tales of Vikram Betal'.\n",
      "The magazine 'Complete insights of Machine Learning' by Ramjee Pabbi has been added to the library.\n",
      "You have borrowed the magazine 'Complete insights of Machine Learning'.\n",
      "The magazine 'Complete insights of Machine Learning' is already borrowed.\n",
      "You have returned the magazine 'Complete insights of Machine Learning'.\n"
     ]
    }
   ],
   "source": [
    "# 19. Create a Python class for a library system, implementing abstraction by defining common methods (e.g., `add_book()`, `borrow_book()`) in an abstract base class.\n",
    "\n",
    "\n",
    "from abc import ABC, abstractmethod\n",
    "\n",
    "class LibraryItem(ABC):\n",
    "    def __init__(self, title, author):\n",
    "        self.title = title\n",
    "        self.author = author\n",
    "        self.is_borrowed = False\n",
    "\n",
    "    @abstractmethod\n",
    "    def add_book(self):\n",
    "        pass\n",
    "\n",
    "    @abstractmethod\n",
    "    def borrow_book(self):\n",
    "        pass\n",
    "\n",
    "    @abstractmethod\n",
    "    def return_book(self):\n",
    "        pass\n",
    "\n",
    "class StoryBook(LibraryItem):\n",
    "    def add_book(self):\n",
    "        return f\"The book '{self.title}' by {self.author} has been added to the library.\"\n",
    "\n",
    "    def borrow_book(self):\n",
    "        if not self.is_borrowed:\n",
    "            self.is_borrowed = True\n",
    "            return f\"You have borrowed the book '{self.title}'.\"\n",
    "        else:\n",
    "            return f\"The book '{self.title}' is already borrowed.\"\n",
    "\n",
    "    def return_book(self):\n",
    "        if self.is_borrowed:\n",
    "            self.is_borrowed = False\n",
    "            return f\"You have returned the book '{self.title}'.\"\n",
    "        else:\n",
    "            return f\"The book '{self.title}' was not borrowed.\"\n",
    "\n",
    "class TechnologyBook(LibraryItem):\n",
    "    def add_book(self):\n",
    "        return f\"The magazine '{self.title}' by {self.author} has been added to the library.\"\n",
    "\n",
    "    def borrow_book(self):\n",
    "        if not self.is_borrowed:\n",
    "            self.is_borrowed = True\n",
    "            return f\"You have borrowed the magazine '{self.title}'.\"\n",
    "        else:\n",
    "            return f\"The magazine '{self.title}' is already borrowed.\"\n",
    "\n",
    "    def return_book(self):\n",
    "        if self.is_borrowed:\n",
    "            self.is_borrowed = False\n",
    "            return f\"You have returned the magazine '{self.title}'.\"\n",
    "        else:\n",
    "            return f\"The magazine '{self.title}' was not borrowed.\"\n",
    "\n",
    "# Usage\n",
    "book = StoryBook(\"Tales of Vikram Betal\", \"Somdev Bhatt\")\n",
    "magazine = TechnologyBook(\"Complete insights of Machine Learning\", \"Ramjee Pabbi\")\n",
    "\n",
    "print(book.add_book())\n",
    "print(book.borrow_book())\n",
    "print(book.borrow_book())\n",
    "print(book.return_book())\n",
    "\n",
    "print(magazine.add_book())\n",
    "print(magazine.borrow_book())\n",
    "print(magazine.borrow_book())\n",
    "print(magazine.return_book())\n"
   ]
  },
  {
   "cell_type": "code",
   "execution_count": 258,
   "metadata": {},
   "outputs": [],
   "source": [
    "# 20. Describe the concept of method abstraction in Python and how it relates to polymorphism."
   ]
  },
  {
   "cell_type": "markdown",
   "metadata": {},
   "source": [
    "**Method abstraction** in Python is a fundamental concept related to polymorphism and object-oriented programming. It involves defining methods in abstract base classes or interfaces without specifying their concrete implementations. Instead, these abstract methods serve as placeholders for behavior that must be defined by concrete subclasses. Method abstraction allows different classes to share a common method signature, providing a way to achieve polymorphism.\n",
    "\n",
    "Here's how method abstraction relates to polymorphism:\n",
    "\n",
    "**Abstraction through Abstract Methods**: In Python, you can use abstract methods, which are defined in abstract base classes using the `@abstractmethod` decorator from the abc module. These abstract methods have no implementation details and serve as a contract or specification for what a concrete subclass must implement.\n",
    "\n",
    "**Polymorphism through Abstract Methods**: Polymorphism is the ability of different objects to respond to the same method call in a way that is appropriate for their specific type. When you define abstract methods in an abstract base class, you are effectively creating a shared method signature that multiple subclasses can implement in their own unique ways.\n",
    "\n",
    "**Consistent Interfaces**: Abstract methods establish consistent interfaces for different classes, enabling polymorphism. These abstract methods define how objects of different types should respond to method calls with the same name. This allows you to work with objects of various classes in a uniform manner.\n",
    "\n",
    "**Dynamic Dispatch**: Polymorphism in Python is achieved through dynamic dispatch, which means that the appropriate method implementation is determined at runtime based on the actual object's type. When you call an abstract method on an object, Python dispatches the call to the correct concrete implementation based on the object's class.\n",
    "\n",
    "**Code Reusability**: Method abstraction and polymorphism promote code reusability. You can write code that works with abstracted interfaces, allowing it to be reused with different objects that implement those interfaces. This is particularly useful when dealing with collections of objects of different types.\n",
    "\n",
    "**Extensibility**: As your code evolves, you can add new classes that implement the same abstract methods, thereby extending the behavior of your application without modifying existing code. This is a key aspect of polymorphism and method abstraction."
   ]
  },
  {
   "cell_type": "markdown",
   "metadata": {},
   "source": [
    "Composition 👍\n"
   ]
  },
  {
   "cell_type": "code",
   "execution_count": 259,
   "metadata": {},
   "outputs": [],
   "source": [
    "# 1. Explain the concept of composition in Python and how it is used to build complex objects from simpler ones.\n"
   ]
  },
  {
   "cell_type": "markdown",
   "metadata": {},
   "source": [
    "**Composition** is a core principle in Python's object-oriented programming paradigm. It involves creating relationships between classes, where one class contains another as a part. This allows you to build complex objects by combining simpler ones.\n",
    "\n",
    "Key points about composition:\n",
    "\n",
    "**Combining Objects**: Composition involves creating instances of one class within another class. These instances become attributes of the containing class, providing specific functionality.\n",
    "\n",
    "**Has-a Relationship**: Composition establishes a \"has-a\" relationship between classes. For example, a Car \"has-a\" Engine\", meaning the Carclass contains an instance of theEngine` class.\n",
    "\n",
    "**Flexibility and Encapsulation**: Composition offers flexibility and encapsulation. It allows you to change behavior by replacing components. It also hides the internal workings of components.\n",
    "\n",
    "**Code Reusability**: Composition promotes code reusability by allowing you to reuse existing classes as components in different contexts.\n",
    "\n",
    "**Avoiding Tight Coupling**: Composition helps avoid tight coupling between classes. Changes in one class's implementation do not directly affect the containing class.\n",
    "\n",
    "**Granular Control**: With composition, you have fine-grained control over how components are used and interact.\n",
    "\n",
    "**Dynamism and Runtime Behavior**: Composition allows for dynamic composition at runtime. You can change components of an object during program execution, leading to adaptable behavior."
   ]
  },
  {
   "cell_type": "code",
   "execution_count": 260,
   "metadata": {},
   "outputs": [],
   "source": [
    "# 2. Describe the difference between composition and inheritance in object-oriented programming.\n",
    "\n"
   ]
  },
  {
   "cell_type": "markdown",
   "metadata": {},
   "source": [
    "|       | Composition | Inheritance |\n",
    "| ----- | ----------- | ----------- |\n",
    "| **Definition** | Composition is a design principle where one class contains an instance of another class as a member or attribute. | Inheritance is a mechanism where one class (subclass) derives properties and behaviors from another class (superclass or base class). |\n",
    "| **Relationship** | It is a `\"has-a\"` relationship. | It is an `\"is-a\"` relationship. |\n",
    "| **Flexibility** | Composition provides greater flexibility. You can change the behavior of a class by replacing its components with different ones at runtime. | Inheritance provides lessor flexibility as inherited attributes and methods get impacted with changes in base classes etc |\n",
    "| **Code Reusability** | Composition promotes code reusability by allowing you to reuse existing classes as components in different contexts. | Inheritance promotes code reusability by allowing a subclass to inherit attributes and methods from its superclass.|"
   ]
  },
  {
   "cell_type": "code",
   "execution_count": 261,
   "metadata": {},
   "outputs": [
    {
     "name": "stdout",
     "output_type": "stream",
     "text": [
      "Title: Harry Potter and the Philosopher's Stone\n",
      "Author: J.K. Rowling\n",
      "Genre: Fantasy\n"
     ]
    }
   ],
   "source": [
    "# 3. Create a Python class called `Author` with attributes for name and birthdate. Then, create a `Book` class that contains an instance of `Author` as a composition. Provide an example of creating a `Book` object.\n",
    "\n",
    "class Author:\n",
    "    def __init__(self, name, birthdate):\n",
    "        self.name = name\n",
    "        self.birthdate = birthdate\n",
    "\n",
    "class Book:\n",
    "    def __init__(self, title, author, genre):\n",
    "        self.title = title\n",
    "        self.author = author\n",
    "        self.genre = genre\n",
    "\n",
    "    def get_info(self):\n",
    "        return f\"Title: {self.title}\\nAuthor: {self.author.name}\\nGenre: {self.genre}\"\n",
    "\n",
    "# Create an Author\n",
    "author = Author(\"J.K. Rowling\", \"July 31, 1965\")\n",
    "\n",
    "# Create a Book with the Author as composition\n",
    "harry_potter = Book(\"Harry Potter and the Philosopher's Stone\", author, \"Fantasy\")\n",
    "\n",
    "# Get information about the book\n",
    "print(harry_potter.get_info())\n"
   ]
  },
  {
   "cell_type": "code",
   "execution_count": 262,
   "metadata": {},
   "outputs": [],
   "source": [
    "\n",
    "# 4. Discuss the benefits of using composition over inheritance in Python, especially in terms of code flexibility and reusability.\n"
   ]
  },
  {
   "cell_type": "markdown",
   "metadata": {},
   "source": [
    "Using **composition over inheritance** in Python provides:\n",
    "\n",
    "**Flexibility**:\n",
    "* Allows dynamic behavior changes at runtime.\n",
    "* Avoids rigidity and deep class hierarchies.\n",
    "\n",
    "**Code Reusability**:\n",
    "* Promotes component reusability in different contexts.\n",
    "* Encourages modular design for wider reuse.\n",
    "\n",
    "**Avoids Tight Coupling**:\n",
    "* Reduces dependencies and promotes interchangeability.\n",
    "\n",
    "**Simplifies Testing and Debugging**:\n",
    "* Enables isolation and independent testing of components.\n",
    "\n",
    "**Avoids Fragile Base Class Problem**:\n",
    "* Changes to components won't impact the containing class.\n",
    "\n",
    "**Supports Design Patterns**:\n",
    "* Facilitates implementation of powerful design patterns."
   ]
  },
  {
   "cell_type": "code",
   "execution_count": 263,
   "metadata": {},
   "outputs": [],
   "source": [
    "# 5. How can you implement composition in Python classes? Provide examples of using composition to create complex objects.\n"
   ]
  },
  {
   "cell_type": "markdown",
   "metadata": {},
   "source": [
    "In Python, you can implement composition by creating instances of one class within another class. These **instances become attributes of the containing class** and are used to provide specific functionality or behavior. Here are examples of using composition to create complex objects:"
   ]
  },
  {
   "cell_type": "code",
   "execution_count": 264,
   "metadata": {},
   "outputs": [
    {
     "name": "stdout",
     "output_type": "stream",
     "text": [
      "Title: Harry Potter and the Philosopher's Stone\n",
      "Author: J.K. Rowling\n",
      "Genre: Fantasy\n"
     ]
    }
   ],
   "source": [
    "class Author:\n",
    "    def __init__(self, name, birthdate):\n",
    "        self.name = name\n",
    "        self.birthdate = birthdate\n",
    "\n",
    "class Book:\n",
    "    def __init__(self, title, author, genre):\n",
    "        self.title = title\n",
    "        self.author = author\n",
    "        self.genre = genre\n",
    "\n",
    "    def get_info(self):\n",
    "        return f\"Title: {self.title}\\nAuthor: {self.author.name}\\nGenre: {self.genre}\"\n",
    "\n",
    "# Create an Author\n",
    "author = Author(\"J.K. Rowling\", \"July 31, 1965\")\n",
    "\n",
    "# Create a Book with the Author as composition\n",
    "harry_potter = Book(\"Harry Potter and the Philosopher's Stone\", author, \"Fantasy\")\n",
    "\n",
    "# Get information about the book\n",
    "print(harry_potter.get_info())\n"
   ]
  },
  {
   "cell_type": "code",
   "execution_count": 265,
   "metadata": {},
   "outputs": [
    {
     "name": "stdout",
     "output_type": "stream",
     "text": [
      "Playing 'Shape of You' by Ed Sheeran\n",
      "Playing 'My heart will go on' by Celine Dion\n"
     ]
    }
   ],
   "source": [
    "# 6. Create a Python class hierarchy for a music player system, using composition to represent playlists and songs.\n",
    "\n",
    "class Song:\n",
    "    def __init__(self, title, artist, duration):\n",
    "        self.title = title\n",
    "        self.artist = artist\n",
    "        self.duration = duration\n",
    "\n",
    "    def play(self):\n",
    "        return f\"Playing '{self.title}' by {self.artist}\"\n",
    "\n",
    "class Playlist:\n",
    "    def __init__(self, name):\n",
    "        self.name = name\n",
    "        self.songs = []\n",
    "\n",
    "    def add_song(self, song):\n",
    "        self.songs.append(song)\n",
    "\n",
    "    def play_all(self):\n",
    "        if not self.songs:\n",
    "            return \"Playlist is empty. Add songs to play.\"\n",
    "        else:\n",
    "            for song in self.songs:\n",
    "                print(song.play())\n",
    "\n",
    "# Create songs\n",
    "song1 = Song(\"Shape of You\", \"Ed Sheeran\", \"4:23\")\n",
    "song2 = Song(\"My heart will go on\", \"Celine Dion\", \"4:40\")\n",
    "\n",
    "# Create a playlist and add songs\n",
    "my_playlist = Playlist(\"My Favorites\")\n",
    "my_playlist.add_song(song1)\n",
    "my_playlist.add_song(song2)\n",
    "\n",
    "# Play the playlist\n",
    "my_playlist.play_all()\n"
   ]
  },
  {
   "cell_type": "code",
   "execution_count": 266,
   "metadata": {},
   "outputs": [],
   "source": [
    "# 7. Explain the concept of \"has-a\" relationships in composition and how it helps design software systems.\n"
   ]
  },
  {
   "cell_type": "markdown",
   "metadata": {},
   "source": [
    "A \"has-a\" relationship in composition means one class contains an instance of another. It promotes following points:\n",
    "\n",
    "* **Component-Based Design**: \"Has-a\" relationships promote component-based design. Building complex objects from simpler ones.\n",
    "\n",
    "* **Flexibility**: Dynamic behavior changes at runtime. You can dynamically change the behavior of a class by replacing its components with different ones.\n",
    "\n",
    "* **Code Reusability**: Efficient development and maintenance. Existing classes can be reused as components in different contexts, leading to more efficient development and maintenance.\n",
    "\n",
    "* **Encapsulation**: The internal details and behavior of the component class are hidden from the containing class, enhancing data protection and reducing dependencies.\n",
    "\n",
    "* **Simplicity over Inheritance**: It helps avoid complexities associated with deep class hierarchies that can arise from using inheritance.\n",
    "\n",
    "* **Dynamic Composition**: Components can change at runtime. This means you can change the components of an object during program execution, allowing for adaptable behavior based on changing requirements.\n",
    "\n",
    "* **Interchangeability**: Swapping components with minimal impact. Components can be swapped out or replaced with minimal impact on the containing class.\n",
    "\n",
    "* **Granular Control**: Fine-grained customization of behavior.\n",
    "\n",
    "* **Solves Fragile Base Class Problem**: Avoids unintended consequences of changes.\n",
    "\n",
    "* **Supports Design Patterns**: Facilitates use of powerful design patterns such as the Strategy Pattern or the Decorator Pattern."
   ]
  },
  {
   "cell_type": "code",
   "execution_count": 267,
   "metadata": {},
   "outputs": [
    {
     "name": "stdout",
     "output_type": "stream",
     "text": [
      "CPU: Intel i7-10700K, Cores: 8\n",
      "RAM: 16GB\n",
      "Storage: SSD, Capacity: 512GB\n"
     ]
    }
   ],
   "source": [
    "# 8. Create a Python class for a computer system, using composition to represent components like CPU, RAM, and storage devices.\n",
    "\n",
    "class CPU:\n",
    "    def __init__(self, brand, model, cores):\n",
    "        self.brand = brand\n",
    "        self.model = model\n",
    "        self.cores = cores\n",
    "\n",
    "    def get_info(self):\n",
    "        return f\"CPU: {self.brand} {self.model}, Cores: {self.cores}\"\n",
    "\n",
    "class RAM:\n",
    "    def __init__(self, size_gb):\n",
    "        self.size_gb = size_gb\n",
    "\n",
    "    def get_info(self):\n",
    "        return f\"RAM: {self.size_gb}GB\"\n",
    "\n",
    "class Storage:\n",
    "    def __init__(self, type, capacity_gb):\n",
    "        self.type = type\n",
    "        self.capacity_gb = capacity_gb\n",
    "\n",
    "    def get_info(self):\n",
    "        return f\"Storage: {self.type}, Capacity: {self.capacity_gb}GB\"\n",
    "\n",
    "class Computer:\n",
    "    def __init__(self, cpu, ram, storage):\n",
    "        self.cpu = cpu\n",
    "        self.ram = ram\n",
    "        self.storage = storage\n",
    "\n",
    "    def get_specs(self):\n",
    "        return f\"{self.cpu.get_info()}\\n{self.ram.get_info()}\\n{self.storage.get_info()}\"\n",
    "\n",
    "# Create components\n",
    "cpu = CPU(\"Intel\", \"i7-10700K\", 8)\n",
    "ram = RAM(16)\n",
    "storage = Storage(\"SSD\", 512)\n",
    "\n",
    "# Create a computer system with components\n",
    "my_computer = Computer(cpu, ram, storage)\n",
    "\n",
    "# Get computer specifications\n",
    "print(my_computer.get_specs())"
   ]
  },
  {
   "cell_type": "code",
   "execution_count": 268,
   "metadata": {},
   "outputs": [],
   "source": [
    "# 9. Describe the concept of \"delegation\" in composition and how it simplifies the design of complex systems.\n"
   ]
  },
  {
   "cell_type": "markdown",
   "metadata": {},
   "source": [
    "**Delegation** in composition is a design principle where one class (or object) assigns a specific responsibility or task to another class, effectively using its behavior without inheriting from it. This is achieved by invoking methods or accessing attributes of the delegated class. It simplifies the design of complex systems in several ways:\n",
    "\n",
    "* **Separation of Concerns**: Delegation allows classes to focus on specific tasks or responsibilities. Each class has a well-defined purpose, which leads to cleaner, more understandable code.\n",
    "\n",
    "* **Code Reusability**: By delegating tasks to specialized classes, you can reuse existing code. This promotes modularity, as individual components can be used in various contexts.\n",
    "\n",
    "* **Flexibility and Customization**: Delegation provides flexibility in behavior. You can dynamically choose which components to delegate to, or even switch them out at runtime. This enables customization of behavior based on specific requirements.\n",
    "\n",
    "* **Avoidance of Deep Class Hierarchies**: Delegation helps avoid the complexities and potential issues associated with deep class hierarchies. Instead of relying on inheritance, classes delegate tasks to their components, resulting in a flatter and more manageable class structure.\n",
    "\n",
    "* **Dynamic Behavior**: Delegation enables dynamic behavior at runtime. You can change the behavior of an object by replacing its components, providing adaptability to changing circumstances.\n",
    "\n",
    "* **Loose Coupling**: Classes involved in delegation are loosely coupled. The delegating class does not depend on the internal implementation of the delegated class, which reduces dependencies and allows for easier maintenance.\n",
    "\n",
    "* **Testing and Debugging**: Delegation simplifies testing and debugging. Components can be tested independently, and issues can be isolated to specific areas of functionality. This makes it easier to identify and fix bugs.\n",
    "\n",
    "* **Support for Design Patterns**: Delegation is a fundamental concept in many design patterns, such as the Strategy Pattern or the Decorator Pattern. It allows these patterns to be implemented effectively, leading to more flexible and extensible code."
   ]
  },
  {
   "cell_type": "code",
   "execution_count": 269,
   "metadata": {},
   "outputs": [
    {
     "name": "stdout",
     "output_type": "stream",
     "text": [
      "Engine started.\n",
      "Changed to gear 1. Wheels rolling.\n",
      "Engine stopped.\n"
     ]
    }
   ],
   "source": [
    "# 10. Create a Python class for a car, using composition to represent components like the engine, wheels, and transmission.\n",
    "\n",
    "class Engine:\n",
    "    def start(self):\n",
    "        return \"Engine started.\"\n",
    "\n",
    "    def stop(self):\n",
    "        return \"Engine stopped.\"\n",
    "\n",
    "class Wheels:\n",
    "    def roll(self):\n",
    "        return \"Wheels rolling.\"\n",
    "\n",
    "class Transmission:\n",
    "    def change_gear(self, gear):\n",
    "        return f\"Changed to gear {gear}.\"\n",
    "\n",
    "class Car:\n",
    "    def __init__(self):\n",
    "        # composition to represent components\n",
    "        self.engine = Engine()\n",
    "        self.wheels = Wheels()\n",
    "        self.transmission = Transmission()\n",
    "\n",
    "    def start(self):\n",
    "        return self.engine.start()\n",
    "\n",
    "    def stop(self):\n",
    "        return self.engine.stop()\n",
    "\n",
    "    def drive(self, gear):\n",
    "        return f\"{self.transmission.change_gear(gear)} {self.wheels.roll()}\"\n",
    "\n",
    "# Create a car\n",
    "my_car = Car()\n",
    "\n",
    "# Start the car\n",
    "print(my_car.start())\n",
    "\n",
    "# Drive in gear 1\n",
    "print(my_car.drive(1))\n",
    "\n",
    "# Stop the car\n",
    "print(my_car.stop())"
   ]
  },
  {
   "cell_type": "code",
   "execution_count": 270,
   "metadata": {},
   "outputs": [],
   "source": [
    "# 11. How can you encapsulate and hide the details of composed objects in Python classes to maintain abstraction?\n"
   ]
  },
  {
   "cell_type": "markdown",
   "metadata": {},
   "source": [
    "To encapsulate and hide the details of composed objects in Python classes, you can follow these steps:\n",
    "\n",
    "**Use Private Attributes**: Make the attributes representing the composed objects private by adding a double underscore (`__`) prefix to their names. This convention signals that these attributes are intended for internal use only.\n",
    "\n",
    "**Provide Public Methods for Interaction**: Define public methods in the containing class that act as interfaces for interacting with the composed objects. These methods should handle communication with the composed objects, abstracting away their implementation details.\n",
    "\n",
    "**Delegate Method Calls**: Inside the public methods, delegate method calls to the composed objects using their private attributes. This allows you to control how interactions with the composed objects are handled, ensuring that the details remain hidden."
   ]
  },
  {
   "cell_type": "code",
   "execution_count": 271,
   "metadata": {},
   "outputs": [
    {
     "name": "stdout",
     "output_type": "stream",
     "text": [
      "Course: Python Programming\n",
      "Instructor: Prof. Sudhanshu Kumar (ID: 2001)\n",
      "Student: Ramjee Pabbi (ID: 1001), Student: Jason Statham (ID: 1002)\n",
      "Textbook: Introduction to Python, Assignments: 5 assignments\n"
     ]
    }
   ],
   "source": [
    "# 12. Create a Python class for a university course, using composition to represent students, instructors, and course materials.\n",
    "\n",
    "class Student:\n",
    "    def __init__(self, name, student_id):\n",
    "        self.name = name\n",
    "        self.student_id = student_id\n",
    "\n",
    "    def get_info(self):\n",
    "        return f\"Student: {self.name} (ID: {self.student_id})\"\n",
    "\n",
    "class Instructor:\n",
    "    def __init__(self, name, employee_id):\n",
    "        self.name = name\n",
    "        self.employee_id = employee_id\n",
    "\n",
    "    def get_info(self):\n",
    "        return f\"Instructor: {self.name} (ID: {self.employee_id})\"\n",
    "\n",
    "class CourseMaterials:\n",
    "    def __init__(self, textbook, assignments):\n",
    "        self.textbook = textbook\n",
    "        self.assignments = assignments\n",
    "\n",
    "    def get_info(self):\n",
    "        return f\"Textbook: {self.textbook}, Assignments: {self.assignments}\"\n",
    "\n",
    "class UniversityCourse:\n",
    "    def __init__(self, course_name, instructor, students, materials):\n",
    "        self.course_name = course_name\n",
    "        self.instructor = instructor\n",
    "        self.students = students\n",
    "        self.materials = materials\n",
    "\n",
    "    def get_info(self):\n",
    "        return (\n",
    "            f\"Course: {self.course_name}\\n\"\n",
    "            f\"{self.instructor.get_info()}\\n\"\n",
    "            f\"{', '.join([student.get_info() for student in self.students])}\\n\"\n",
    "            f\"{self.materials.get_info()}\"\n",
    "        )\n",
    "\n",
    "# Create students\n",
    "student1 = Student(\"Ramjee Pabbi\", 1001)\n",
    "student2 = Student(\"Jason Statham\", 1002)\n",
    "\n",
    "# Create an instructor\n",
    "instructor = Instructor(\"Prof. Sudhanshu Kumar\", 2001)\n",
    "\n",
    "# Create course materials\n",
    "materials = CourseMaterials(\"Introduction to Python\", \"5 assignments\")\n",
    "\n",
    "# Create a university course\n",
    "my_course = UniversityCourse(\"Python Programming\", instructor, [student1, student2], materials)\n",
    "\n",
    "# Get course information\n",
    "print(my_course.get_info())\n"
   ]
  },
  {
   "cell_type": "code",
   "execution_count": 272,
   "metadata": {},
   "outputs": [],
   "source": [
    "# 13. Discuss the challenges and drawbacks of composition, such as increased complexity and potential for tight coupling between objects.\n"
   ]
  },
  {
   "cell_type": "markdown",
   "metadata": {},
   "source": [
    "While composition is a powerful design principle, it's important to be aware of its challenges and potential drawbacks:\n",
    "\n",
    "**Increased Complexity**: Managing multiple objects and their interactions can lead to increased code complexity. This complexity may make it harder to understand and maintain the codebase.\n",
    "\n",
    "**Potential for Tight Coupling**: If not implemented carefully, composition can lead to tight coupling between the containing class and its components. This means that changes to one component may have unintended consequences on other parts of the system.\n",
    "\n",
    "**Managing Lifecycle Dependencies**: When objects are composed, their lifecycles may become intertwined. This can lead to challenges in managing object initialization, destruction, and cleanup.\n",
    "\n",
    "**Propagation of Method Calls**: Delegating method calls from the containing class to its components can introduce additional layers of indirection, making it more difficult to trace the flow of execution.\n",
    "\n",
    "**Initialization Overhead**: Properly initializing and configuring composed objects can introduce additional overhead, especially if there are complex initialization requirements.\n",
    "\n",
    "**Potential for Over-Abstraction**: In an attempt to achieve modularity, there's a risk of over-abstracting components, which can lead to a fragmented and hard-to-follow codebase.\n",
    "\n",
    "**Testing Complexity**: Testing composed objects may require additional setup and mocking of dependencies, which can increase the complexity of unit tests.\n",
    "\n",
    "**Debugging Challenges**: Debugging can be more challenging due to the layered nature of composed objects. It may require understanding how the containing class interacts with its components.\n",
    "\n",
    "**Potential for Code Bloat**: If not managed carefully, composing multiple objects may result in a larger codebase, potentially leading to maintenance challenges.\n",
    "\n",
    "**Performance Considerations**: Depending on the context and the number of composed objects, there may be a performance overhead associated with the additional method calls and indirection."
   ]
  },
  {
   "cell_type": "code",
   "execution_count": 273,
   "metadata": {},
   "outputs": [
    {
     "name": "stdout",
     "output_type": "stream",
     "text": [
      "Menu: Italian Delights\n",
      "Margherita Pizza - Ingredients: Tomato: 3, Onion: 2, Cheese: 200g\n",
      "Spaghetti Carbonara - Ingredients: Tomato: 3, Onion: 2\n"
     ]
    }
   ],
   "source": [
    "# 14. Create a Python class hierarchy for a restaurant system, using composition to represent menus, dishes, and ingredients.\n",
    "\n",
    "class Ingredient:\n",
    "    def __init__(self, name, quantity):\n",
    "        self.name = name\n",
    "        self.quantity = quantity\n",
    "\n",
    "    def get_info(self):\n",
    "        return f\"{self.name}: {self.quantity}\"\n",
    "\n",
    "class Dish:\n",
    "    def __init__(self, name, ingredients):\n",
    "        self.name = name\n",
    "        self.ingredients = ingredients\n",
    "\n",
    "    def get_info(self):\n",
    "        ingredient_info = [ingredient.get_info() for ingredient in self.ingredients]\n",
    "        return f\"{self.name} - Ingredients: {', '.join(ingredient_info)}\"\n",
    "\n",
    "class Menu:\n",
    "    def __init__(self, name, dishes):\n",
    "        self.name = name\n",
    "        self.dishes = dishes\n",
    "\n",
    "    def get_info(self):\n",
    "        dish_info = [dish.get_info() for dish in self.dishes]\n",
    "        return f\"Menu: {self.name}\\n\" + '\\n'.join(dish_info)\n",
    "\n",
    "# Create ingredients\n",
    "ingredient1 = Ingredient(\"Tomato\", \"3\")\n",
    "ingredient2 = Ingredient(\"Onion\", \"2\")\n",
    "ingredient3 = Ingredient(\"Cheese\", \"200g\")\n",
    "\n",
    "# Create dishes\n",
    "dish1 = Dish(\"Margherita Pizza\", [ingredient1, ingredient2, ingredient3])\n",
    "dish2 = Dish(\"Spaghetti Carbonara\", [ingredient1, ingredient2])\n",
    "\n",
    "# Create a menu\n",
    "menu = Menu(\"Italian Delights\", [dish1, dish2])\n",
    "\n",
    "# Get menu information\n",
    "print(menu.get_info())"
   ]
  },
  {
   "cell_type": "code",
   "execution_count": 274,
   "metadata": {},
   "outputs": [],
   "source": [
    "# 15. Explain how composition enhances code maintainability and modularity in Python programs.\n"
   ]
  },
  {
   "cell_type": "markdown",
   "metadata": {},
   "source": [
    "Composition enhances code maintainability and modularity in Python programs in several ways:\n",
    "\n",
    "**Separation of Concerns**: Composition encourages breaking down complex systems into smaller, manageable components. Each component focuses on a specific task or responsibility, making it easier to understand, modify, and debug.\n",
    "\n",
    "**Code Reusability**: Composed objects can be reused in different contexts. This promotes modularity, allowing components to be used in various parts of the program or in entirely different projects.\n",
    "\n",
    "**Reduced Coupling**: Composition promotes loose coupling between objects. By relying on interfaces provided by components, the containing class is not tightly bound to the implementation details of its parts. This reduces dependencies and makes it easier to replace or update components.\n",
    "\n",
    "**Flexibility and Adaptability**: Components can be swapped or updated with minimal impact on the containing class. This allows for dynamic behavior changes and facilitates adapting to evolving requirements.\n",
    "\n",
    "**Isolation of Changes**: Changes to one component have limited impact on other parts of the system. This isolates modifications, reducing the risk of unintended consequences.\n",
    "\n",
    "**Simplified Testing**: Testing can be more focused. Components can be tested independently, allowing for more granular and effective unit testing. Mocking and stubbing can also be employed to isolate specific parts for testing.\n",
    "\n",
    "**Encapsulation of Implementation Details**: The internal workings of components are hidden from the containing class. This enhances encapsulation, protecting the integrity of each component and reducing the likelihood of unintended interference.\n",
    "\n",
    "**Clear Interfaces**: Well-defined interfaces between components provide a clear contract for how they interact. This allows developers to work on different parts of the system simultaneously, as long as they adhere to the specified interfaces.\n",
    "\n",
    "**Promotion of Design Patterns**: Composition is a key concept in many design patterns like the Strategy Pattern, Decorator Pattern, and Composite Pattern. Using composition encourages the application of these proven design solutions."
   ]
  },
  {
   "cell_type": "code",
   "execution_count": 275,
   "metadata": {},
   "outputs": [
    {
     "name": "stdout",
     "output_type": "stream",
     "text": [
      "Character Name: Contra 1\n",
      "Equipped Weapon: Weapon: Sword, Damage: 20\n",
      "Equipped Armor: Armor: Shield, Defense: 10\n",
      "Inventory: Weapon: Bow, Damage: 15, Armor: Helmet, Defense: 5\n"
     ]
    }
   ],
   "source": [
    "# 16. Create a Python class for a computer game character, using composition to represent attributes like weapons, armor, and inventory.\n",
    "\n",
    "class Weapon:\n",
    "    def __init__(self, name, damage):\n",
    "        self.name = name\n",
    "        self.damage = damage\n",
    "\n",
    "    def get_info(self):\n",
    "        return f\"Weapon: {self.name}, Damage: {self.damage}\"\n",
    "\n",
    "class Armor:\n",
    "    def __init__(self, name, defense):\n",
    "        self.name = name\n",
    "        self.defense = defense\n",
    "\n",
    "    def get_info(self):\n",
    "        return f\"Armor: {self.name}, Defense: {self.defense}\"\n",
    "\n",
    "class Inventory:\n",
    "    def __init__(self):\n",
    "        self.items = []\n",
    "\n",
    "    def add_item(self, item):\n",
    "        self.items.append(item)\n",
    "\n",
    "    def get_inventory(self):\n",
    "        return [item.get_info() for item in self.items]\n",
    "\n",
    "class GameCharacter:\n",
    "    def __init__(self, name):\n",
    "        self.name = name\n",
    "        self.weapon = None\n",
    "        self.armor = None\n",
    "        self.inventory = Inventory()\n",
    "\n",
    "    def equip_weapon(self, weapon):\n",
    "        self.weapon = weapon\n",
    "\n",
    "    def equip_armor(self, armor):\n",
    "        self.armor = armor\n",
    "\n",
    "    def get_info(self):\n",
    "        equipped_weapon = self.weapon.get_info() if self.weapon else \"No weapon equipped\"\n",
    "        equipped_armor = self.armor.get_info() if self.armor else \"No armor equipped\"\n",
    "        return (\n",
    "            f\"Character Name: {self.name}\\n\"\n",
    "            f\"Equipped Weapon: {equipped_weapon}\\n\"\n",
    "            f\"Equipped Armor: {equipped_armor}\\n\"\n",
    "            f\"Inventory: {', '.join(self.inventory.get_inventory())}\"\n",
    "        )\n",
    "\n",
    "# Create weapons and armor\n",
    "sword = Weapon(\"Sword\", 20)\n",
    "shield = Armor(\"Shield\", 10)\n",
    "\n",
    "# Create a character and equip items\n",
    "hero = GameCharacter(\"Contra 1\")\n",
    "hero.equip_weapon(sword)\n",
    "hero.equip_armor(shield)\n",
    "hero.inventory.add_item(Weapon(\"Bow\", 15))\n",
    "hero.inventory.add_item(Armor(\"Helmet\", 5))\n",
    "\n",
    "# Get character information\n",
    "print(hero.get_info())\n",
    "\n"
   ]
  },
  {
   "cell_type": "code",
   "execution_count": 276,
   "metadata": {},
   "outputs": [],
   "source": [
    "# 17. Describe the concept of \"aggregation\" in composition and how it differs from simple composition.\n"
   ]
  },
  {
   "cell_type": "markdown",
   "metadata": {},
   "source": [
    "**Aggregation** is a specific form of composition in object-oriented programming where one class (the containing class) holds a reference to another class (the contained class), but the contained class can exist independently and may be shared among multiple containing classes.\n",
    "\n",
    "Here's how aggregation differs from simple composition:\n",
    "\n",
    "* **Ownership**: In simple composition, the containing class \"owns\" the contained class, meaning that the contained class is created and managed by the containing class. In aggregation, the contained class exists independently and can be shared among multiple containing classes.\n",
    "\n",
    "* **Lifespan**: In simple composition, the lifespan of the contained class is directly tied to the containing class. If the containing class is destroyed, the contained class is also typically destroyed. In aggregation, the contained class can exist even if the containing class is destroyed.\n",
    "\n",
    "* **Multiplicity**: Aggregation often implies a \"many-to-one\" or \"many-to-many\" relationship, where multiple instances of the containing class can refer to the same instance of the contained class. In simple composition, there is typically a one-to-one relationship.\n",
    "\n",
    "* **Flexibility**: Aggregation provides more flexibility, as the same instance of the contained class can be shared across different instances of containing classes. This allows for reusability and more dynamic system design."
   ]
  },
  {
   "cell_type": "code",
   "execution_count": 277,
   "metadata": {},
   "outputs": [
    {
     "name": "stdout",
     "output_type": "stream",
     "text": [
      "Rooms:\n",
      "Room: Living Room, Area: 300 sq. ft., \n",
      "Room: Master Bedroom, Area: 200 sq. ft., \n",
      "Room: Bedroom 2, Area: 180 sq. ft., \n",
      "Room: Bedroom 3, Area: 180 sq. ft.\n",
      "Furniture: Furniture: Sofa, Furniture: Bed\n",
      "Appliances: Appliance: TV, Appliance: Oven\n"
     ]
    }
   ],
   "source": [
    "# 18. Create a Python class for a house, using composition to represent rooms, furniture, and appliances.\n",
    "\n",
    "class Room:\n",
    "    def __init__(self, name, area):\n",
    "        self.name = name\n",
    "        self.area = area\n",
    "\n",
    "    def get_info(self):\n",
    "        return f\"\\nRoom: {self.name}, Area: {self.area} sq. ft.\"\n",
    "\n",
    "class Furniture:\n",
    "    def __init__(self, name):\n",
    "        self.name = name\n",
    "\n",
    "    def get_info(self):\n",
    "        return f\"Furniture: {self.name}\"\n",
    "\n",
    "class Appliance:\n",
    "    def __init__(self, name):\n",
    "        self.name = name\n",
    "\n",
    "    def get_info(self):\n",
    "        return f\"Appliance: {self.name}\"\n",
    "\n",
    "class House:\n",
    "    def __init__(self):\n",
    "        self.rooms = []\n",
    "        self.furniture = []\n",
    "        self.appliances = []\n",
    "\n",
    "    def add_room(self, room):\n",
    "        self.rooms.append(room)\n",
    "\n",
    "    def add_furniture(self, furniture):\n",
    "        self.furniture.append(furniture)\n",
    "\n",
    "    def add_appliance(self, appliance):\n",
    "        self.appliances.append(appliance)\n",
    "\n",
    "    def get_info(self):\n",
    "        room_info = [room.get_info() for room in self.rooms]\n",
    "        furniture_info = [item.get_info() for item in self.furniture]\n",
    "        appliance_info = [item.get_info() for item in self.appliances]\n",
    "\n",
    "        return (\n",
    "            f\"Rooms:{', '.join(room_info)}\\n\"\n",
    "            f\"Furniture: {', '.join(furniture_info)}\\n\"\n",
    "            f\"Appliances: {', '.join(appliance_info)}\"\n",
    "        )\n",
    "\n",
    "# Create rooms, furniture, and appliances\n",
    "living_room = Room(\"Living Room\", 300)\n",
    "bedroom1 = Room(\"Master Bedroom\", 200)\n",
    "bedroom2 = Room(\"Bedroom 2\", 180)\n",
    "bedroom3 = Room(\"Bedroom 3\", 180)\n",
    "\n",
    "sofa = Furniture(\"Sofa\")\n",
    "bed = Furniture(\"Bed\")\n",
    "tv = Appliance(\"TV\")\n",
    "oven = Appliance(\"Oven\")\n",
    "\n",
    "# Create a house and add components\n",
    "my_house = House()\n",
    "my_house.add_room(living_room)\n",
    "my_house.add_room(bedroom1)\n",
    "my_house.add_room(bedroom2)\n",
    "my_house.add_room(bedroom3)\n",
    "my_house.add_furniture(sofa)\n",
    "my_house.add_furniture(bed)\n",
    "my_house.add_appliance(tv)\n",
    "my_house.add_appliance(oven)\n",
    "\n",
    "# Get house information\n",
    "print(my_house.get_info())\n"
   ]
  },
  {
   "cell_type": "code",
   "execution_count": 278,
   "metadata": {},
   "outputs": [],
   "source": [
    "# 19. How can you achieve flexibility in composed objects by allowing them to be replaced or modified dynamically at runtime?\n"
   ]
  },
  {
   "cell_type": "markdown",
   "metadata": {},
   "source": [
    "You can achieve flexibility in composed objects by implementing a mechanism to dynamically replace or modify the components at runtime. Here are some approaches to accomplish this:\n",
    "\n",
    "1. **Using Setter Methods**: Provide setter methods in the containing class that allow you to replace or modify the components. This way, you can change the composition of the object dynamically.\n",
    "\n",
    "*Example:*"
   ]
  },
  {
   "cell_type": "code",
   "execution_count": 279,
   "metadata": {},
   "outputs": [],
   "source": [
    "class GameCharacter:\n",
    "    # Setters for weapon and armor\n",
    "    def set_weapon(self, weapon):\n",
    "        self.weapon = weapon\n",
    "\n",
    "    def set_armor(self, armor):\n",
    "        self.armor = armor"
   ]
  },
  {
   "cell_type": "markdown",
   "metadata": {},
   "source": [
    "2. **Using Factory Methods**: Implement factory methods that create and return instances of components. This allows you to switch out components with different implementations.\n",
    "\n",
    "*Example:*"
   ]
  },
  {
   "cell_type": "code",
   "execution_count": 280,
   "metadata": {},
   "outputs": [],
   "source": [
    "class GameCharacter:\n",
    "    # Factory MEthods to create weapon and armor\n",
    "    def create_weapon(self, name, damage):\n",
    "        return Weapon(name, damage)\n",
    "\n",
    "    def create_armor(self, name, defense):\n",
    "        return Armor(name, defense)\n"
   ]
  },
  {
   "cell_type": "markdown",
   "metadata": {},
   "source": [
    "3. **Using Dependency Injection**: Pass the components as arguments during object creation. This allows you to inject different components at runtime.\n",
    "\n",
    "*Example:*"
   ]
  },
  {
   "cell_type": "code",
   "execution_count": 281,
   "metadata": {},
   "outputs": [],
   "source": [
    "class GameCharacter:\n",
    "    # Weapon and armor being injected in the object\n",
    "    def __init__(self, name, weapon=None, armor=None):\n",
    "        self.name = name\n",
    "        self.weapon = weapon\n",
    "        self.armor = armor"
   ]
  },
  {
   "cell_type": "code",
   "execution_count": 282,
   "metadata": {},
   "outputs": [
    {
     "name": "stdout",
     "output_type": "stream",
     "text": [
      "Users:\n",
      "['User: Ramjee', 'User: Munish']\n",
      "\n",
      "Posts:\n",
      "['Post by Ramjee: Hello, world!']\n",
      "\n",
      "Comments:\n",
      "['Comment by Munish: Nice post!']\n"
     ]
    }
   ],
   "source": [
    "# 20. Create a Python class for a social media application, using composition to represent users, posts, and comments.\n",
    "\n",
    "class User:\n",
    "    def __init__(self, username):\n",
    "        self.username = username\n",
    "        self.posts = []\n",
    "        self.comments = []\n",
    "\n",
    "    def create_post(self, content):\n",
    "        post = Post(content, self)\n",
    "        self.posts.append(post)\n",
    "        return post\n",
    "\n",
    "    def add_comment(self, post, content):\n",
    "        comment = Comment(content, self, post)\n",
    "        self.comments.append(comment)\n",
    "        post.add_comment(comment)\n",
    "        return comment\n",
    "\n",
    "    def get_info(self):\n",
    "        return f\"User: {self.username}\"\n",
    "\n",
    "class Post:\n",
    "    def __init__(self, content, author):\n",
    "        self.content = content\n",
    "        self.author = author\n",
    "        self.comments = []\n",
    "\n",
    "    def add_comment(self, comment):\n",
    "        self.comments.append(comment)\n",
    "\n",
    "    def get_info(self):\n",
    "        return f\"Post by {self.author.username}: {self.content}\"\n",
    "\n",
    "class Comment:\n",
    "    def __init__(self, content, author, post):\n",
    "        self.content = content\n",
    "        self.author = author\n",
    "        self.post = post\n",
    "\n",
    "    def get_info(self):\n",
    "        return f\"Comment by {self.author.username}: {self.content}\"\n",
    "\n",
    "class SocialMediaApp:\n",
    "    def __init__(self):\n",
    "        self.users = []\n",
    "        self.posts = []\n",
    "        self.comments = []\n",
    "\n",
    "    def create_user(self, username):\n",
    "        user = User(username)\n",
    "        self.users.append(user)\n",
    "        return user\n",
    "\n",
    "    def get_users(self):\n",
    "        return [user.get_info() for user in self.users]\n",
    "\n",
    "    def get_posts(self):\n",
    "        return [post.get_info() for post in self.posts]\n",
    "\n",
    "    def get_comments(self):\n",
    "        return [comment.get_info() for comment in self.comments]\n",
    "\n",
    "# Create a social media application\n",
    "app = SocialMediaApp()\n",
    "\n",
    "# Create users\n",
    "user1 = app.create_user(\"Ramjee\")\n",
    "user2 = app.create_user(\"Munish\")\n",
    "\n",
    "# Users create posts and comments\n",
    "post1 = user1.create_post(\"Hello, world!\")\n",
    "comment1 = user2.add_comment(post1, \"Nice post!\")\n",
    "\n",
    "# Add users, posts, and comments to the app\n",
    "app.posts.append(post1)\n",
    "app.comments.append(comment1)\n",
    "\n",
    "# Get information from the app\n",
    "print(\"Users:\")\n",
    "print(app.get_users())\n",
    "\n",
    "print(\"\\nPosts:\")\n",
    "print(app.get_posts())\n",
    "\n",
    "print(\"\\nComments:\")\n",
    "print(app.get_comments())\n"
   ]
  }
 ],
 "metadata": {
  "kernelspec": {
   "display_name": "Python 3",
   "language": "python",
   "name": "python3"
  },
  "language_info": {
   "codemirror_mode": {
    "name": "ipython",
    "version": 3
   },
   "file_extension": ".py",
   "mimetype": "text/x-python",
   "name": "python",
   "nbconvert_exporter": "python",
   "pygments_lexer": "ipython3",
   "version": "3.11.4"
  }
 },
 "nbformat": 4,
 "nbformat_minor": 2
}
