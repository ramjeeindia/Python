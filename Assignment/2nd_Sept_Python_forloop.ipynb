{
 "cells": [
  {
   "cell_type": "markdown",
   "id": "9c1c8143-998d-454b-af0c-a89024bfd09f",
   "metadata": {},
   "source": [
    "# Assignment : Python - For loop"
   ]
  },
  {
   "cell_type": "markdown",
   "id": "5f14476b-e77b-4e39-9f7a-40c729129a9b",
   "metadata": {},
   "source": [
    "## 1. Write a Python program to print the numbers from 1 to 10 using a `for` loop."
   ]
  },
  {
   "cell_type": "code",
   "execution_count": 1,
   "id": "07322df7-e385-4c17-9008-c6cba19cd30d",
   "metadata": {},
   "outputs": [
    {
     "name": "stdout",
     "output_type": "stream",
     "text": [
      "1\n",
      "2\n",
      "3\n",
      "4\n",
      "5\n",
      "6\n",
      "7\n",
      "8\n",
      "9\n",
      "10\n"
     ]
    }
   ],
   "source": [
    "# define range for 1 to 10 using range function\n",
    "for i in range(1,11):\n",
    "    print(i)"
   ]
  },
  {
   "cell_type": "markdown",
   "id": "b37a8b0c-3211-4ed2-9261-bd37824858ac",
   "metadata": {},
   "source": [
    "## 2. Create a program that calculates the sum of all numbers in a list using a `for` loop."
   ]
  },
  {
   "cell_type": "code",
   "execution_count": 6,
   "id": "df5162cf-485c-4f1b-abc3-2896072e2d8b",
   "metadata": {},
   "outputs": [
    {
     "name": "stdout",
     "output_type": "stream",
     "text": [
      "Sum 45\n"
     ]
    }
   ],
   "source": [
    "# define list \n",
    "li = [1,2,3,4,5,6,7,8,9]\n",
    "sum_li=0\n",
    "for i in li:\n",
    "    sum_li = sum_li+i\n",
    "print(\"Sum\",sum_li)"
   ]
  },
  {
   "cell_type": "markdown",
   "id": "613a5973-256b-459c-99a4-385a2f576807",
   "metadata": {},
   "source": [
    "## 3. Write a program to print the characters of a string in reverse order using a `for` loop."
   ]
  },
  {
   "cell_type": "code",
   "execution_count": 7,
   "id": "a3d12500-920e-4de6-9a6d-1429973e3a7f",
   "metadata": {},
   "outputs": [
    {
     "name": "stdout",
     "output_type": "stream",
     "text": [
      "Enter text Ramjee Singh\n"
     ]
    },
    {
     "name": "stdout",
     "output_type": "stream",
     "text": [
      "h\n",
      "g\n",
      "n\n",
      "i\n",
      "S\n",
      " \n",
      "e\n",
      "e\n",
      "j\n",
      "m\n",
      "a\n",
      "R\n"
     ]
    }
   ],
   "source": [
    "# Input a string\n",
    "input_string = input(\"Enter text\")\n",
    "# revered function used for reverse string\n",
    "for char in reversed(input_string):\n",
    "    print(char)"
   ]
  },
  {
   "cell_type": "markdown",
   "id": "db5b7a63-f99f-4af3-a234-d3c83d177701",
   "metadata": {},
   "source": [
    "## 4. Develop a program that finds the factorial of a given number using a `for` loop."
   ]
  },
  {
   "cell_type": "code",
   "execution_count": 40,
   "id": "3bec3044-8036-4607-a9ea-4b6f24eb4d97",
   "metadata": {},
   "outputs": [
    {
     "name": "stdout",
     "output_type": "stream",
     "text": [
      "Enter a Number :  10\n"
     ]
    },
    {
     "name": "stdout",
     "output_type": "stream",
     "text": [
      "The factorial of 10 is 3628800\n"
     ]
    }
   ],
   "source": [
    "# Input a number\n",
    "num = int(input(\"Enter a Number : \"))\n",
    "factorial =1\n",
    "for i in range(1,num+1):\n",
    "# instead of writing factorial= factorial+ 1, you can use the += operator \n",
    "    factorial *= i\n",
    "    # factorial = factorial * i\n",
    "print(f\"The factorial of {num} is {factorial}\")"
   ]
  },
  {
   "cell_type": "markdown",
   "id": "46702cf5-6a2b-4c9c-9e39-e97ce51128de",
   "metadata": {},
   "source": [
    "## 5. Create a program to print the multiplication table of a given number using a `for` loop."
   ]
  },
  {
   "cell_type": "code",
   "execution_count": 16,
   "id": "6085ccbb-8c2e-42f4-94d8-4b03d6e92f25",
   "metadata": {},
   "outputs": [
    {
     "name": "stdout",
     "output_type": "stream",
     "text": [
      "Enter a Number :  10\n"
     ]
    },
    {
     "name": "stdout",
     "output_type": "stream",
     "text": [
      "The multiplication 10 of 1 is 10\n",
      "The multiplication 10 of 2 is 20\n",
      "The multiplication 10 of 3 is 30\n",
      "The multiplication 10 of 4 is 40\n",
      "The multiplication 10 of 5 is 50\n",
      "The multiplication 10 of 6 is 60\n",
      "The multiplication 10 of 7 is 70\n",
      "The multiplication 10 of 8 is 80\n",
      "The multiplication 10 of 9 is 90\n",
      "The multiplication 10 of 10 is 100\n"
     ]
    }
   ],
   "source": [
    "# Input a number\n",
    "num = int(input(\"Enter a Number : \"))\n",
    "# define multiplication range from 1 t0 10\n",
    "for i in range(1,11):\n",
    "    multipl = num * i\n",
    "# Print the multiplication\n",
    "    print(f\"The multiplication {num} of {i} is {multipl}\")\n"
   ]
  },
  {
   "cell_type": "markdown",
   "id": "15b3c42e-1917-4de8-a32b-33e205f7236d",
   "metadata": {},
   "source": [
    "## 6. Write a program that counts the number of even and odd numbers in a list using a `for` loop."
   ]
  },
  {
   "cell_type": "code",
   "execution_count": 23,
   "id": "00ff4cab-644e-4c99-be71-17cc949b0022",
   "metadata": {},
   "outputs": [
    {
     "name": "stdout",
     "output_type": "stream",
     "text": [
      "Count of even Numbers : 5\n",
      "Count of Odd Numbers : 3\n"
     ]
    }
   ],
   "source": [
    "# define a list of numbers\n",
    "li = [2,56,43,67,55,42,40,20]\n",
    "even_count =0\n",
    "odd_count =0\n",
    "\n",
    "for i in li:\n",
    "    if (i%2==0):\n",
    "        even_count += 1\n",
    "    else:\n",
    "        odd_count += 1\n",
    "        \n",
    "print(\"Count of even Numbers :\" ,even_count)\n",
    "print(\"Count of Odd Numbers :\", odd_count)"
   ]
  },
  {
   "cell_type": "markdown",
   "id": "c59896dd-153e-45f2-a0b3-e4920de194c7",
   "metadata": {},
   "source": [
    "## 7. Develop a program that prints the squares of numbers from 1 to 5 using a `for` loop."
   ]
  },
  {
   "cell_type": "code",
   "execution_count": 28,
   "id": "02f18ea5-743b-4e02-906b-47e79cdaf353",
   "metadata": {},
   "outputs": [
    {
     "name": "stdout",
     "output_type": "stream",
     "text": [
      "The Sqare of 1 is 1\n",
      "The Sqare of 2 is 4\n",
      "The Sqare of 3 is 9\n",
      "The Sqare of 4 is 16\n",
      "The Sqare of 5 is 25\n"
     ]
    }
   ],
   "source": [
    "# define sq range from 1 t0 5\n",
    "for i in range(1,6):\n",
    "    sq = i ** 2\n",
    "# Print the sq\n",
    "    print(f\"The Sqare of {i} is {sq}\")"
   ]
  },
  {
   "cell_type": "markdown",
   "id": "ad30294c-4a39-426d-ada9-26d776ebab87",
   "metadata": {},
   "source": [
    "## 8. Create a program to find the length of a string without using the `len()` function.a"
   ]
  },
  {
   "cell_type": "code",
   "execution_count": 31,
   "id": "a51f92d2-3faf-4a1d-bf9a-d9698d3611e1",
   "metadata": {},
   "outputs": [
    {
     "name": "stdout",
     "output_type": "stream",
     "text": [
      "Enter a Number :  Python Language\n"
     ]
    },
    {
     "name": "stdout",
     "output_type": "stream",
     "text": [
      "The Length of Python Language is 15\n"
     ]
    }
   ],
   "source": [
    "# Input a string\n",
    "input_str = str(input(\"Enter a Number : \"))\n",
    "length = 0\n",
    "# define multiplication range from 1 t0 10\n",
    "for i in input_str:\n",
    "    length +=1 \n",
    "# Print the length\n",
    "print(f\"The Length of {input_str} is {length}\")"
   ]
  },
  {
   "cell_type": "markdown",
   "id": "a9ee8095-69eb-4115-a447-76d3f9201b22",
   "metadata": {},
   "source": [
    "## 9. Write a program that calculates the average of a list of numbers using a `for` loop."
   ]
  },
  {
   "cell_type": "code",
   "execution_count": 39,
   "id": "f3f04201-3fe8-4965-a9fe-c49ec28c9172",
   "metadata": {},
   "outputs": [
    {
     "name": "stdout",
     "output_type": "stream",
     "text": [
      "Average of Numbers : 40.625\n"
     ]
    }
   ],
   "source": [
    "# define a list of numbers\n",
    "li = [2,56,43,67,55,42,40,20]\n",
    "total = 0\n",
    "\n",
    "for i in li:\n",
    "    # total += i\n",
    "    total = total + i\n",
    "avg = total / len(li)\n",
    "       \n",
    "print(\"Average of Numbers :\" ,avg)\n"
   ]
  },
  {
   "cell_type": "markdown",
   "id": "a5f94210-2367-47cc-ae6d-a2011b789a1f",
   "metadata": {},
   "source": [
    "## 10. Develop a program that prints the first `n` Fibonacci numbers using a `for` loop."
   ]
  },
  {
   "cell_type": "code",
   "execution_count": 45,
   "id": "e298f5c6-9877-4d83-a9f8-db62327c0566",
   "metadata": {},
   "outputs": [
    {
     "name": "stdout",
     "output_type": "stream",
     "text": [
      "Enter the number  10\n"
     ]
    },
    {
     "name": "stdout",
     "output_type": "stream",
     "text": [
      "1\n",
      "2\n",
      "3\n",
      "5\n",
      "8\n",
      "13\n",
      "21\n",
      "34\n",
      "55\n",
      "89\n"
     ]
    }
   ],
   "source": [
    "# Fibonacci sequence is a series of numbers where each number is the sum of the two preceding ones\n",
    "n=int(input(\"Enter the number \"))\n",
    "n1=0\n",
    "n2=1\n",
    "i=0\n",
    "\n",
    "while i<n:\n",
    "    \n",
    "    nth=n1+n2\n",
    "    print(nth)\n",
    "    n1=n2\n",
    "    n2=nth\n",
    "    i=i+1"
   ]
  },
  {
   "cell_type": "markdown",
   "id": "f3911031-bb2a-4b70-955e-c6abe4525334",
   "metadata": {},
   "source": [
    "### 11. Write a program to check if a given list contains any duplicates using a `for` loop."
   ]
  },
  {
   "cell_type": "code",
   "execution_count": 57,
   "id": "8f49d4e7-502b-463f-8495-3e4e433b2c46",
   "metadata": {},
   "outputs": [
    {
     "name": "stdout",
     "output_type": "stream",
     "text": [
      "Duplicate in Numbers\n"
     ]
    }
   ],
   "source": [
    "# define a list of numbers\n",
    "numlist = [2, 56, 43, 67, 55, 42, 40, 20, 5, 10, 55]\n",
    "dc = 0\n",
    "for i in numlist:\n",
    "    if numlist.count(i) >= 2:\n",
    "        dc += 1  # Increment dc by 1 for each duplicate number\n",
    "\n",
    "if dc == 0:\n",
    "    print(\"No Duplicate in Numbers\")\n",
    "else:\n",
    "    print(\"Duplicate in Numbers\")\n"
   ]
  },
  {
   "cell_type": "markdown",
   "id": "441a4915-479a-4a98-addf-aa9a130bbeba",
   "metadata": {},
   "source": [
    "### 12. Create a program that prints the prime numbers in a given range using a `for` loop."
   ]
  },
  {
   "cell_type": "code",
   "execution_count": 1,
   "id": "3bbc255f-98ed-4b73-8de1-34b467ac079d",
   "metadata": {},
   "outputs": [
    {
     "name": "stdout",
     "output_type": "stream",
     "text": [
      "Enter the starting range:  5\n",
      "Enter the ending range:  30\n"
     ]
    },
    {
     "name": "stdout",
     "output_type": "stream",
     "text": [
      "Prime numbers in the range:\n",
      "5\n",
      "7\n",
      "11\n",
      "13\n",
      "17\n",
      "19\n",
      "23\n",
      "29\n"
     ]
    }
   ],
   "source": [
    "#prime number is a positive integer greater than 1 that has no positive integer divisors other than 1 and itself.\n",
    "def is_prime(num):\n",
    "    if num <= 1:\n",
    "        return False\n",
    "    for i in range(2, int(num ** 0.5) + 1):\n",
    "        if num % i == 0:\n",
    "            return False\n",
    "    return True\n",
    "\n",
    "start = int(input(\"Enter the starting range: \"))\n",
    "end = int(input(\"Enter the ending range: \"))\n",
    "\n",
    "print(\"Prime numbers in the range:\")\n",
    "for num in range(start, end + 1):\n",
    "    if is_prime(num):\n",
    "        print(num)"
   ]
  },
  {
   "cell_type": "markdown",
   "id": "76c9e729-b19d-4303-bce0-9fe494ae5ce9",
   "metadata": {},
   "source": [
    "### 13. Develop a program that counts the number of vowels in a string using a `for` loop."
   ]
  },
  {
   "cell_type": "code",
   "execution_count": 11,
   "id": "032121ab-58c5-4c98-8aae-5f731c772e15",
   "metadata": {},
   "outputs": [
    {
     "name": "stdout",
     "output_type": "stream",
     "text": [
      "Enter a String Welcome in India\n"
     ]
    },
    {
     "name": "stdout",
     "output_type": "stream",
     "text": [
      "7\n"
     ]
    }
   ],
   "source": [
    "input_string = str(input(\"Enter a String\"))\n",
    "input_string = input_string.lower()\n",
    "vowel = ['a','e','i','o','u']\n",
    "count = 0\n",
    "for i in input_string:\n",
    "    if i in vowel:\n",
    "        count +=1\n",
    "print(count)\n",
    "    "
   ]
  },
  {
   "cell_type": "markdown",
   "id": "842799fc-f596-4374-8e25-45425b4cfee6",
   "metadata": {},
   "source": [
    "### 14. Write a program to find the maximum element in a 2D list using a nested `for` loop."
   ]
  },
  {
   "cell_type": "code",
   "execution_count": 15,
   "id": "a9cd416b-bf86-40dd-a90f-fd1e65b49106",
   "metadata": {},
   "outputs": [
    {
     "name": "stdout",
     "output_type": "stream",
     "text": [
      "Maximum element: 85\n"
     ]
    }
   ],
   "source": [
    "# 2D list (two-dimensional list) is a data structure in which elements are organized into rows and columns, \n",
    "#  similar to a table or grid. It can be thought of as a list of lists \n",
    "matrix = [\n",
    "    [1, 2, 3],\n",
    "    [4, 9, 6],\n",
    "    [7, 8, 5],\n",
    "    [27, 85, 56]\n",
    "]\n",
    "\n",
    "max_element = matrix[0][0]\n",
    "\n",
    "for row in matrix:\n",
    "    for num in row:\n",
    "        if num > max_element:\n",
    "            max_element = num\n",
    "\n",
    "print(\"Maximum element:\", max_element)\n"
   ]
  },
  {
   "cell_type": "markdown",
   "id": "95e0da14-8883-4c97-884d-49d8af83626a",
   "metadata": {},
   "source": [
    "### 15. Create a program that removes all occurrences of a specific element from a list using a `for` loop."
   ]
  },
  {
   "cell_type": "code",
   "execution_count": 16,
   "id": "85c4dfee-0d73-49b5-a99a-bab7fc60ead8",
   "metadata": {},
   "outputs": [
    {
     "name": "stdout",
     "output_type": "stream",
     "text": [
      "Enter the number 1\n"
     ]
    },
    {
     "name": "stdout",
     "output_type": "stream",
     "text": [
      "[2, 3, 4, 5, 6, 7, 2]\n"
     ]
    }
   ],
   "source": [
    "l=[1,2,3,4,5,6,7,1,2,1,1,1]\n",
    "n=int(input(\"Enter the number\"))\n",
    "for i in range(len(l)):\n",
    "    if n in l:\n",
    "        l.remove(n)\n",
    "print(l)"
   ]
  },
  {
   "cell_type": "markdown",
   "id": "d3edb561-312e-4d18-8820-37a52c5df673",
   "metadata": {},
   "source": [
    "### 16. Develop a program that generates a multiplication table for numbers from 1 to 5 using a nested `for` loop."
   ]
  },
  {
   "cell_type": "code",
   "execution_count": 48,
   "id": "32c7b228-9cdd-42ba-a4d4-3a0645b247e9",
   "metadata": {},
   "outputs": [
    {
     "name": "stdout",
     "output_type": "stream",
     "text": [
      "Multiplication of  1 * 1 = 1\n",
      "Multiplication of  1 * 2 = 2\n",
      "Multiplication of  1 * 3 = 3\n",
      "Multiplication of  1 * 4 = 4\n",
      "Multiplication of  1 * 5 = 5\n",
      "Multiplication of  1 * 6 = 6\n",
      "Multiplication of  1 * 7 = 7\n",
      "Multiplication of  1 * 8 = 8\n",
      "Multiplication of  1 * 9 = 9\n",
      "Multiplication of  1 * 10 = 10\n",
      "\n",
      "Multiplication of  2 * 1 = 2\n",
      "Multiplication of  2 * 2 = 4\n",
      "Multiplication of  2 * 3 = 6\n",
      "Multiplication of  2 * 4 = 8\n",
      "Multiplication of  2 * 5 = 10\n",
      "Multiplication of  2 * 6 = 12\n",
      "Multiplication of  2 * 7 = 14\n",
      "Multiplication of  2 * 8 = 16\n",
      "Multiplication of  2 * 9 = 18\n",
      "Multiplication of  2 * 10 = 20\n",
      "\n",
      "Multiplication of  3 * 1 = 3\n",
      "Multiplication of  3 * 2 = 6\n",
      "Multiplication of  3 * 3 = 9\n",
      "Multiplication of  3 * 4 = 12\n",
      "Multiplication of  3 * 5 = 15\n",
      "Multiplication of  3 * 6 = 18\n",
      "Multiplication of  3 * 7 = 21\n",
      "Multiplication of  3 * 8 = 24\n",
      "Multiplication of  3 * 9 = 27\n",
      "Multiplication of  3 * 10 = 30\n",
      "\n",
      "Multiplication of  4 * 1 = 4\n",
      "Multiplication of  4 * 2 = 8\n",
      "Multiplication of  4 * 3 = 12\n",
      "Multiplication of  4 * 4 = 16\n",
      "Multiplication of  4 * 5 = 20\n",
      "Multiplication of  4 * 6 = 24\n",
      "Multiplication of  4 * 7 = 28\n",
      "Multiplication of  4 * 8 = 32\n",
      "Multiplication of  4 * 9 = 36\n",
      "Multiplication of  4 * 10 = 40\n",
      "\n",
      "Multiplication of  5 * 1 = 5\n",
      "Multiplication of  5 * 2 = 10\n",
      "Multiplication of  5 * 3 = 15\n",
      "Multiplication of  5 * 4 = 20\n",
      "Multiplication of  5 * 5 = 25\n",
      "Multiplication of  5 * 6 = 30\n",
      "Multiplication of  5 * 7 = 35\n",
      "Multiplication of  5 * 8 = 40\n",
      "Multiplication of  5 * 9 = 45\n",
      "Multiplication of  5 * 10 = 50\n",
      "\n"
     ]
    }
   ],
   "source": [
    "# define range from 1 t0 5\n",
    "for i in range(1,6):\n",
    "    # define multiplication factor from 1 to 10\n",
    "    for j in range(1,11):\n",
    "        print(\"Multiplication of \",i,\"*\",j,\"=\",i*j)\n",
    "    print()"
   ]
  },
  {
   "cell_type": "markdown",
   "id": "feb2da3b-bbf4-4189-a3f0-37d9869503af",
   "metadata": {},
   "source": [
    "### 17. Write a program that converts a list of Fahrenheit temperatures to Celsius using a `for` loop."
   ]
  },
  {
   "cell_type": "code",
   "execution_count": 68,
   "id": "77642247-b6b1-4e94-a674-ba98fcd057f1",
   "metadata": {},
   "outputs": [
    {
     "name": "stdout",
     "output_type": "stream",
     "text": [
      "36°F is equal to 2.2222222222222223°C \n",
      "50°F is equal to 10.0°C \n",
      "100°F is equal to 37.77777777777778°C \n",
      "1000°F is equal to 537.7777777777778°C \n",
      "330°F is equal to 165.55555555555554°C \n"
     ]
    }
   ],
   "source": [
    "# define number of list in Fahrenheit \n",
    "l=[36,50,100,1000,330]\n",
    "# degree symbol\n",
    "degree_symbol = \"\\u00B0\"\n",
    "for i in l:\n",
    "    # the factor for converting celsius to fahrenheit is C-32*5/9 \n",
    "   \n",
    "    print(f\"{i}{degree_symbol}F is equal to {((i-32)*5/9)}{degree_symbol}C \")\n"
   ]
  },
  {
   "cell_type": "markdown",
   "id": "b26e0e6b-3782-4e5b-bcfe-9f51f5a52782",
   "metadata": {},
   "source": [
    "### 18. Create a program to print the common elements from two lists using a `for` loop."
   ]
  },
  {
   "cell_type": "code",
   "execution_count": 71,
   "id": "3b4e1da8-de92-4b82-adfd-d2f8d2fa6719",
   "metadata": {},
   "outputs": [
    {
     "name": "stdout",
     "output_type": "stream",
     "text": [
      "20\n",
      "50\n"
     ]
    }
   ],
   "source": [
    "# DEFINE TWO NUMBERS LIST\n",
    "l1 = [20,40,50,40,70,100,120]\n",
    "l2 = [60,50,50,33,42,65,10,20]\n",
    "a = len(l1)\n",
    "b = len(l2)\n",
    "if a>b:\n",
    "    for i in l2:\n",
    "        if i in l1:\n",
    "            print(i)\n",
    "else:\n",
    "    for j in l1:\n",
    "        if j in l2:\n",
    "            print(j)"
   ]
  },
  {
   "cell_type": "markdown",
   "id": "6a8995f8-e99e-4b0b-90bf-f223da92ba3c",
   "metadata": {},
   "source": [
    "### 19. Develop a program that prints the pattern of right-angled triangles using a `for` loop. Use ‘*’ to draw the patternn"
   ]
  },
  {
   "cell_type": "code",
   "execution_count": 20,
   "id": "246b38eb-bb35-4574-bfc8-b4dfeb68c99f",
   "metadata": {},
   "outputs": [
    {
     "name": "stdout",
     "output_type": "stream",
     "text": [
      "\n",
      "*\n",
      "**\n",
      "***\n",
      "****\n",
      "*****\n",
      "******\n",
      "*******\n",
      "********\n",
      "*********\n"
     ]
    }
   ],
   "source": [
    "for i in range(10):\n",
    "    for j in range(i):\n",
    "        print(\"*\",end=\"\")\n",
    "    print()"
   ]
  },
  {
   "cell_type": "markdown",
   "id": "01a7e298-abb9-4958-bcee-a8b65729bcbe",
   "metadata": {},
   "source": [
    "### 20. Write a program to find the greatest common divisor (GCD) of two numbers using a `for` loop."
   ]
  },
  {
   "cell_type": "code",
   "execution_count": 21,
   "id": "d0d43fa2-9984-4557-9ec8-8d7e3cb1fb46",
   "metadata": {},
   "outputs": [
    {
     "data": {
      "text/plain": [
       "3"
      ]
     },
     "execution_count": 21,
     "metadata": {},
     "output_type": "execute_result"
    }
   ],
   "source": [
    "a=12\n",
    "b=15\n",
    "l=[]\n",
    "l1=[]\n",
    "ls=[]\n",
    "for i in range(1,a+1):\n",
    "    if a%i==0:\n",
    "        l.append(i)\n",
    "    \n",
    "for j in range(1,b+1):\n",
    "    if b%j==0:\n",
    "        l1.append(j)\n",
    "for k in l:\n",
    "    if k in l1:\n",
    "        ls.append(k)\n",
    "max(ls)"
   ]
  },
  {
   "cell_type": "markdown",
   "id": "58dcf6df-2274-4b02-bdae-0ef13a19ac54",
   "metadata": {},
   "source": [
    "## 21. Create a program that calculates the sum of the digits of numbers in a list using a list comprehension."
   ]
  },
  {
   "cell_type": "code",
   "execution_count": 22,
   "id": "8e361955-df64-4e10-a970-cc85ce6fb247",
   "metadata": {},
   "outputs": [
    {
     "data": {
      "text/plain": [
       "45"
      ]
     },
     "execution_count": 22,
     "metadata": {},
     "output_type": "execute_result"
    }
   ],
   "source": [
    "l=[1,2,3,4,5,6,7,8,9,0]\n",
    "su=0\n",
    "l1=[i for i in l ]\n",
    "sum(l1)"
   ]
  },
  {
   "cell_type": "markdown",
   "id": "02e88ca5-0aca-4532-82bb-1e9b643c8dcd",
   "metadata": {},
   "source": [
    "## 22. Write a program to find the prime factors of a given number using a `for` loop and list comprehension."
   ]
  },
  {
   "cell_type": "code",
   "execution_count": 23,
   "id": "4752a21b-14dd-4a98-a51c-09e4730dea29",
   "metadata": {},
   "outputs": [
    {
     "name": "stdout",
     "output_type": "stream",
     "text": [
      "Enter the number 5\n"
     ]
    },
    {
     "name": "stdout",
     "output_type": "stream",
     "text": [
      "[1]\n"
     ]
    }
   ],
   "source": [
    "n=int(input(\"Enter the number\"))\n",
    "l=[i for i in range(1,n) if n%i==0]\n",
    "print(l)\n",
    "for i in l:\n",
    "    c=0\n",
    "    for j in range(1,i):\n",
    "        if i%j==0:\n",
    "            c=c+1\n",
    "    if c==1:\n",
    "        print(i)"
   ]
  },
  {
   "cell_type": "markdown",
   "id": "d59d0fc8-1b41-4c2a-be03-e3322c0b5082",
   "metadata": {},
   "source": [
    "## 23. Develop a program that extracts unique elements from a list and stores them in a new list using a list  comprehension."
   ]
  },
  {
   "cell_type": "code",
   "execution_count": 24,
   "id": "bb094702-5896-40df-89c4-1e9f8e5dac34",
   "metadata": {},
   "outputs": [
    {
     "data": {
      "text/plain": [
       "[6, 7, 89, 11, 12, 13]"
      ]
     },
     "execution_count": 24,
     "metadata": {},
     "output_type": "execute_result"
    }
   ],
   "source": [
    "l=[1,2,3,4,5,6,7,89,1,2,3,4,5,11,12,1,13]\n",
    "l1=[i for i in l if l.count(i)==1]\n",
    "l1"
   ]
  },
  {
   "cell_type": "markdown",
   "id": "bb0f8b1b-50d5-4311-962d-e738986994cd",
   "metadata": {},
   "source": [
    "## 24. Create a program that generates a list of all palindromic numbers up to a specified limit using a list comprehension."
   ]
  },
  {
   "cell_type": "code",
   "execution_count": 25,
   "id": "ca43abf4-cf3e-4927-8794-e04edb211fff",
   "metadata": {},
   "outputs": [
    {
     "name": "stdout",
     "output_type": "stream",
     "text": [
      "Enter the number 10\n"
     ]
    },
    {
     "name": "stdout",
     "output_type": "stream",
     "text": [
      "1\n",
      "2\n",
      "3\n",
      "4\n",
      "5\n",
      "6\n",
      "7\n",
      "8\n",
      "9\n"
     ]
    }
   ],
   "source": [
    "n=int(input(\"Enter the number\"))\n",
    "l=[i for i in range(1,n+1)]\n",
    "for i in l:\n",
    "    temp=str(i)\n",
    "    if i==int(temp[::-1]):\n",
    "        print(i)"
   ]
  },
  {
   "cell_type": "markdown",
   "id": "5264288d-f5e0-4d81-902e-ff9eb7dc4f9a",
   "metadata": {},
   "source": [
    "## 25. Write a program to flatten a nested list using list comprehension."
   ]
  },
  {
   "cell_type": "code",
   "execution_count": 26,
   "id": "59881349-f789-4e44-8b8e-f71d8fa9e341",
   "metadata": {},
   "outputs": [
    {
     "data": {
      "text/plain": [
       "[1, 2, 1, 2, 3, 4]"
      ]
     },
     "execution_count": 26,
     "metadata": {},
     "output_type": "execute_result"
    }
   ],
   "source": [
    "l=[[1,2],[1,2],[3,4]]\n",
    "l1=[k for i in l for k in i]\n",
    "l1"
   ]
  },
  {
   "cell_type": "markdown",
   "id": "ea9493d3-a712-4f41-b48b-8e7234476b96",
   "metadata": {},
   "source": [
    "## 26. Develop a program that computes the sum of even and odd numbers in a list separately using list #comprehension."
   ]
  },
  {
   "cell_type": "code",
   "execution_count": 27,
   "id": "8e8d9e1d-f779-4b60-85bb-b80fc3004511",
   "metadata": {},
   "outputs": [
    {
     "name": "stdout",
     "output_type": "stream",
     "text": [
      "[2, 4, 6, 8, 10]\n",
      "[1, 3, 5, 7, 9]\n"
     ]
    }
   ],
   "source": [
    "l=[1,2,3,4,5,6,7,8,9,10]\n",
    "l1=[ i for i in l if i%2==0]\n",
    "l2=[k for k in l if k%2!=0]\n",
    "print(l1)\n",
    "print(l2)"
   ]
  },
  {
   "cell_type": "markdown",
   "id": "52fda60f-515c-4a0b-8a4c-8b0707e44949",
   "metadata": {},
   "source": [
    "## 27. Create a program that generates a list of squares of odd numbers between 1 and 10 using list  comprehension."
   ]
  },
  {
   "cell_type": "code",
   "execution_count": 28,
   "id": "41a62b6c-edaa-4e86-8744-c3d65da69fe3",
   "metadata": {},
   "outputs": [
    {
     "data": {
      "text/plain": [
       "[1, 9, 25, 49, 81]"
      ]
     },
     "execution_count": 28,
     "metadata": {},
     "output_type": "execute_result"
    }
   ],
   "source": [
    "l=[i**2 for i in range(1,11) if i%2!=0]\n",
    "l"
   ]
  },
  {
   "cell_type": "markdown",
   "id": "4a928994-728c-4780-990d-54bc150c17cb",
   "metadata": {},
   "source": [
    "## 28. Write a program that combines two lists into a dictionary using list comprehension."
   ]
  },
  {
   "cell_type": "code",
   "execution_count": 29,
   "id": "6ba27509-1d46-48b9-8143-33b7a4297543",
   "metadata": {},
   "outputs": [
    {
     "data": {
      "text/plain": [
       "{1: 5, 2: 6, 34: 7, 4: 8}"
      ]
     },
     "execution_count": 29,
     "metadata": {},
     "output_type": "execute_result"
    }
   ],
   "source": [
    "l=[1,2,34,4]\n",
    "l1=[5,6,7,8]\n",
    "l2={l[i]:l1[i] for i in range(len(l)) }\n",
    "l2"
   ]
  },
  {
   "cell_type": "markdown",
   "id": "280fb6e6-b226-4488-9fa1-2e28bde74374",
   "metadata": {},
   "source": [
    "## 29. Develop a program that extracts the vowels from a string and stores them in a list using list comprehension."
   ]
  },
  {
   "cell_type": "code",
   "execution_count": 30,
   "id": "68b29d41-af6d-4d7c-a98d-350f8eae7e36",
   "metadata": {},
   "outputs": [
    {
     "data": {
      "text/plain": [
       "['a', 'e', 'e', 'i']"
      ]
     },
     "execution_count": 30,
     "metadata": {},
     "output_type": "execute_result"
    }
   ],
   "source": [
    "st=\"Ramjee Singh\"\n",
    "v=[i for i in \"aeiouAEIOU\"]\n",
    "#print(v)\n",
    "l=[i for i in st if i in v]\n",
    "l"
   ]
  },
  {
   "cell_type": "markdown",
   "id": "dbba8053-9d08-4d8d-ab39-1033990a95b2",
   "metadata": {},
   "source": [
    "## 30. Create a program that removes all non-numeric characters from a list of strings using list comprehension"
   ]
  },
  {
   "cell_type": "code",
   "execution_count": 31,
   "id": "6c5a4b4f-dfe6-4e1b-bb28-d6038c2bbc71",
   "metadata": {},
   "outputs": [
    {
     "data": {
      "text/plain": [
       "[1, 2, 3, 2]"
      ]
     },
     "execution_count": 31,
     "metadata": {},
     "output_type": "execute_result"
    }
   ],
   "source": [
    "l=[1,2,3,'a',2,'b']\n",
    "l1=[i for i in l if type(i)==int]\n",
    "l1"
   ]
  },
  {
   "cell_type": "markdown",
   "id": "b8b2d17a-431a-4119-b175-78e5faa9dd1a",
   "metadata": {},
   "source": [
    "### 31. Write a program to generate a list of prime numbers using the Sieve of Eratosthenes algorithm and list comprension."
   ]
  },
  {
   "cell_type": "code",
   "execution_count": 32,
   "id": "566b67b3-d157-4d38-abca-3ca05fb525e0",
   "metadata": {},
   "outputs": [
    {
     "name": "stdout",
     "output_type": "stream",
     "text": [
      "2\n",
      "3\n",
      "5\n",
      "7\n",
      "11\n",
      "13\n",
      "17\n",
      "19\n",
      "23\n",
      "29\n",
      "31\n",
      "37\n",
      "41\n",
      "43\n",
      "47\n",
      "53\n",
      "59\n",
      "61\n",
      "67\n",
      "71\n",
      "73\n",
      "79\n",
      "83\n",
      "89\n",
      "97\n",
      "None\n"
     ]
    }
   ],
   "source": [
    "def prime_eratosthenes(n):\n",
    "    prime_list = []\n",
    "    for i in range(2, n+1):\n",
    "        if i not in prime_list:\n",
    "            print (i)\n",
    "            for j in range(i*i, n+1, i):\n",
    "                prime_list.append(j)\n",
    "\n",
    "print(prime_eratosthenes(100));"
   ]
  },
  {
   "cell_type": "markdown",
   "id": "ad2c4d74-865e-47ad-b99c-874c307caaf4",
   "metadata": {},
   "source": [
    "### 32. Create a program that generates a list of all Pythagorean triplets up to a specified limit using list comprension"
   ]
  },
  {
   "cell_type": "code",
   "execution_count": 33,
   "id": "54dc9e41-0d5d-4286-96de-02a0b06e7c90",
   "metadata": {},
   "outputs": [
    {
     "name": "stdout",
     "output_type": "stream",
     "text": [
      "Enter the value of n: 10\n"
     ]
    },
    {
     "name": "stdout",
     "output_type": "stream",
     "text": [
      "[(3, 4, 5), (8, 6, 10)]\n"
     ]
    }
   ],
   "source": [
    "n = int(input(\"Enter the value of n:\"))\n",
    "\n",
    "a = 0\n",
    "b = 0\n",
    "c = 0\n",
    "m = 2\n",
    "triples = []\n",
    "\n",
    "while c < n:\n",
    "    for i in range(1, m, 1):\n",
    "        a = m*m - i*i\n",
    "        b = 2*m*i\n",
    "        c = m*m + i*i\n",
    "        if c > n:\n",
    "            break\n",
    "        triples.append((a, b, c))\n",
    "    m += 1\n",
    "\n",
    "print(triples)"
   ]
  },
  {
   "cell_type": "markdown",
   "id": "022e82f6-5d32-42d0-92a7-582acc352375",
   "metadata": {},
   "source": [
    "### 33. Develop a program that generates a list of all possible combinations of two lists using list comprehension"
   ]
  },
  {
   "cell_type": "code",
   "execution_count": 34,
   "id": "0b609fc9-ba15-4674-b00d-acc4bee7f18f",
   "metadata": {},
   "outputs": [
    {
     "name": "stdout",
     "output_type": "stream",
     "text": [
      "[('b', 1), ('b', 4), ('b', 9), ('c', 1), ('c', 4), ('c', 9), ('d', 1), ('d', 4), ('d', 9)]\n"
     ]
    }
   ],
   "source": [
    "list_1 = [\"b\", \"c\", \"d\"]\n",
    "list_2 = [1, 4, 9]\n",
    " \n",
    "unique_combinations = []\n",
    " \n",
    "for i in range(len(list_1)):\n",
    "    for j in range(len(list_2)):\n",
    "        unique_combinations.append((list_1[i], list_2[j]))\n",
    " \n",
    "print(unique_combinations)"
   ]
  },
  {
   "cell_type": "markdown",
   "id": "5c29afbd-aabf-45eb-95de-8013fb62a85a",
   "metadata": {},
   "source": [
    "### 34. Write a program that calculates the mean, median, and mode of a list of numbers using list comprehension"
   ]
  },
  {
   "cell_type": "code",
   "execution_count": 35,
   "id": "d6e291e3-f0d7-4e66-bab1-6338dac73028",
   "metadata": {},
   "outputs": [
    {
     "name": "stdout",
     "output_type": "stream",
     "text": [
      "Mean / Average is: 3.0\n"
     ]
    }
   ],
   "source": [
    "n_num = [1, 2, 3, 4, 5]\n",
    "n = len(n_num)\n",
    " \n",
    "get_sum = sum(n_num)\n",
    "mean = get_sum / n\n",
    "\n",
    "print(\"Mean / Average is: \" + str(mean))"
   ]
  },
  {
   "cell_type": "markdown",
   "id": "1e6375bf-6e82-451e-9ae7-c7b6c4bcc24a",
   "metadata": {},
   "source": [
    "### 35. Create a program that generates Pascal's triangle up to a specified number of rows using list comprehension"
   ]
  },
  {
   "cell_type": "code",
   "execution_count": 36,
   "id": "f979a1c8-cc0e-40d0-80ea-1479ce191ef4",
   "metadata": {},
   "outputs": [
    {
     "name": "stdout",
     "output_type": "stream",
     "text": [
      "     1\n",
      "    1 1\n",
      "   1 2 1\n",
      "  1 3 3 1\n",
      " 1 4 6 4 1\n"
     ]
    }
   ],
   "source": [
    "n = 5\n",
    " \n",
    "# iterarte upto n\n",
    "for i in range(n):\n",
    "    # adjust space\n",
    "    print(' '*(n-i), end='')\n",
    " \n",
    "    # compute power of 11\n",
    "    print(' '.join(map(str, str(11**i))))"
   ]
  },
  {
   "cell_type": "markdown",
   "id": "67ae2809-ac1c-4ad7-81d4-f914942b7c42",
   "metadata": {},
   "source": [
    "### 36. Develop a program that calculates the sum of the digits of a factorial of numbers from 1 to 5 using list comprehension"
   ]
  },
  {
   "cell_type": "code",
   "execution_count": 37,
   "id": "fccd6333-7605-409a-a0ba-754e2f2688fa",
   "metadata": {},
   "outputs": [
    {
     "name": "stdout",
     "output_type": "stream",
     "text": [
      "The original list is : [12, 67, 98, 34]\n",
      "List Integer Summation : [3, 13, 17, 7]\n"
     ]
    }
   ],
   "source": [
    "test_list = [12, 67, 98, 34]\n",
    " \n",
    "# printing original list\n",
    "print(\"The original list is : \" + str(test_list))\n",
    " \n",
    "# Sum of number digits in List\n",
    "# using loop + str()\n",
    "res = []\n",
    "for ele in test_list:\n",
    "    sum = 0\n",
    "    for digit in str(ele):\n",
    "        sum += int(digit)\n",
    "    res.append(sum)\n",
    "     \n",
    "# printing result\n",
    "print (\"List Integer Summation : \" + str(res))"
   ]
  },
  {
   "cell_type": "markdown",
   "id": "b914e6b9-02ea-40d5-852d-918811cb14b6",
   "metadata": {},
   "source": [
    "### 37. Write a program that finds the longest word in a sentence using list comprehension."
   ]
  },
  {
   "cell_type": "code",
   "execution_count": 38,
   "id": "adea6a5e-0e4b-40b5-9ddb-302a1843d06b",
   "metadata": {},
   "outputs": [
    {
     "name": "stdout",
     "output_type": "stream",
     "text": [
      "The word with the longest length is: third  and length is  5\n"
     ]
    }
   ],
   "source": [
    "def longestLength(words):\n",
    "    res=max(words,key=len)\n",
    "    print(\"The word with the longest length is:\", res,\n",
    "          \" and length is \", len(res))\n",
    " \n",
    " \n",
    "# Driver Program\n",
    "a = [\"one\", \"two\", \"third\", \"four\"]\n",
    "longestLength(a)"
   ]
  },
  {
   "cell_type": "markdown",
   "id": "75344aa8-31d3-4b88-a5ec-7ad40bf4ef4e",
   "metadata": {},
   "source": [
    "### 38. Create a program that filters a list of strings to include only those with more than three vowels using list comprehension"
   ]
  },
  {
   "cell_type": "code",
   "execution_count": 40,
   "id": "f5b30670-c24d-40aa-b814-2686a8e2bf86",
   "metadata": {},
   "outputs": [
    {
     "name": "stdout",
     "output_type": "stream",
     "text": [
      "The original list is : ['gfg', 'best', 'for', 'Ramjee']\n",
      "Maximum vowels word : Ramjee\n"
     ]
    }
   ],
   "source": [
    "test_list = [\"gfg\", \"best\", \"for\", \"Ramjee\"]\n",
    " \n",
    "# printing original list\n",
    "print(\"The original list is : \" + str(test_list))\n",
    " \n",
    " \n",
    "def vc(s):\n",
    "    x = s.count(\"a\")+s.count(\"e\")+s.count(\"i\")+s.count(\"o\")+s.count(\"u\")\n",
    "    return x\n",
    " \n",
    " \n",
    "res = []\n",
    " \n",
    "# Iterating elements in list\n",
    "for ele in test_list:\n",
    "    res.append(vc(ele))\n",
    "a = res.index(max(res))\n",
    "re = test_list[a]\n",
    " \n",
    "# Printing the result\n",
    "print(\"Maximum vowels word : \" + str(re))"
   ]
  },
  {
   "cell_type": "markdown",
   "id": "09762853-a34d-4673-9429-989cc185f4f0",
   "metadata": {},
   "source": [
    "### 39. Develop a program that calculates the sum of the digits of numbers from 1 to 1000 using list comprehension"
   ]
  },
  {
   "cell_type": "code",
   "execution_count": 1,
   "id": "73f8ee40-c8d9-40f8-ac94-e9d04ab7add9",
   "metadata": {},
   "outputs": [
    {
     "name": "stdout",
     "output_type": "stream",
     "text": [
      "Sum of digits for numbers 1 to 1000: [1, 2, 3, 4, 5, 6, 7, 8, 9, 1, 2, 3, 4, 5, 6, 7, 8, 9, 10, 2, 3, 4, 5, 6, 7, 8, 9, 10, 11, 3, 4, 5, 6, 7, 8, 9, 10, 11, 12, 4, 5, 6, 7, 8, 9, 10, 11, 12, 13, 5, 6, 7, 8, 9, 10, 11, 12, 13, 14, 6, 7, 8, 9, 10, 11, 12, 13, 14, 15, 7, 8, 9, 10, 11, 12, 13, 14, 15, 16, 8, 9, 10, 11, 12, 13, 14, 15, 16, 17, 9, 10, 11, 12, 13, 14, 15, 16, 17, 18, 1, 2, 3, 4, 5, 6, 7, 8, 9, 10, 2, 3, 4, 5, 6, 7, 8, 9, 10, 11, 3, 4, 5, 6, 7, 8, 9, 10, 11, 12, 4, 5, 6, 7, 8, 9, 10, 11, 12, 13, 5, 6, 7, 8, 9, 10, 11, 12, 13, 14, 6, 7, 8, 9, 10, 11, 12, 13, 14, 15, 7, 8, 9, 10, 11, 12, 13, 14, 15, 16, 8, 9, 10, 11, 12, 13, 14, 15, 16, 17, 9, 10, 11, 12, 13, 14, 15, 16, 17, 18, 10, 11, 12, 13, 14, 15, 16, 17, 18, 19, 2, 3, 4, 5, 6, 7, 8, 9, 10, 11, 3, 4, 5, 6, 7, 8, 9, 10, 11, 12, 4, 5, 6, 7, 8, 9, 10, 11, 12, 13, 5, 6, 7, 8, 9, 10, 11, 12, 13, 14, 6, 7, 8, 9, 10, 11, 12, 13, 14, 15, 7, 8, 9, 10, 11, 12, 13, 14, 15, 16, 8, 9, 10, 11, 12, 13, 14, 15, 16, 17, 9, 10, 11, 12, 13, 14, 15, 16, 17, 18, 10, 11, 12, 13, 14, 15, 16, 17, 18, 19, 11, 12, 13, 14, 15, 16, 17, 18, 19, 20, 3, 4, 5, 6, 7, 8, 9, 10, 11, 12, 4, 5, 6, 7, 8, 9, 10, 11, 12, 13, 5, 6, 7, 8, 9, 10, 11, 12, 13, 14, 6, 7, 8, 9, 10, 11, 12, 13, 14, 15, 7, 8, 9, 10, 11, 12, 13, 14, 15, 16, 8, 9, 10, 11, 12, 13, 14, 15, 16, 17, 9, 10, 11, 12, 13, 14, 15, 16, 17, 18, 10, 11, 12, 13, 14, 15, 16, 17, 18, 19, 11, 12, 13, 14, 15, 16, 17, 18, 19, 20, 12, 13, 14, 15, 16, 17, 18, 19, 20, 21, 4, 5, 6, 7, 8, 9, 10, 11, 12, 13, 5, 6, 7, 8, 9, 10, 11, 12, 13, 14, 6, 7, 8, 9, 10, 11, 12, 13, 14, 15, 7, 8, 9, 10, 11, 12, 13, 14, 15, 16, 8, 9, 10, 11, 12, 13, 14, 15, 16, 17, 9, 10, 11, 12, 13, 14, 15, 16, 17, 18, 10, 11, 12, 13, 14, 15, 16, 17, 18, 19, 11, 12, 13, 14, 15, 16, 17, 18, 19, 20, 12, 13, 14, 15, 16, 17, 18, 19, 20, 21, 13, 14, 15, 16, 17, 18, 19, 20, 21, 22, 5, 6, 7, 8, 9, 10, 11, 12, 13, 14, 6, 7, 8, 9, 10, 11, 12, 13, 14, 15, 7, 8, 9, 10, 11, 12, 13, 14, 15, 16, 8, 9, 10, 11, 12, 13, 14, 15, 16, 17, 9, 10, 11, 12, 13, 14, 15, 16, 17, 18, 10, 11, 12, 13, 14, 15, 16, 17, 18, 19, 11, 12, 13, 14, 15, 16, 17, 18, 19, 20, 12, 13, 14, 15, 16, 17, 18, 19, 20, 21, 13, 14, 15, 16, 17, 18, 19, 20, 21, 22, 14, 15, 16, 17, 18, 19, 20, 21, 22, 23, 6, 7, 8, 9, 10, 11, 12, 13, 14, 15, 7, 8, 9, 10, 11, 12, 13, 14, 15, 16, 8, 9, 10, 11, 12, 13, 14, 15, 16, 17, 9, 10, 11, 12, 13, 14, 15, 16, 17, 18, 10, 11, 12, 13, 14, 15, 16, 17, 18, 19, 11, 12, 13, 14, 15, 16, 17, 18, 19, 20, 12, 13, 14, 15, 16, 17, 18, 19, 20, 21, 13, 14, 15, 16, 17, 18, 19, 20, 21, 22, 14, 15, 16, 17, 18, 19, 20, 21, 22, 23, 15, 16, 17, 18, 19, 20, 21, 22, 23, 24, 7, 8, 9, 10, 11, 12, 13, 14, 15, 16, 8, 9, 10, 11, 12, 13, 14, 15, 16, 17, 9, 10, 11, 12, 13, 14, 15, 16, 17, 18, 10, 11, 12, 13, 14, 15, 16, 17, 18, 19, 11, 12, 13, 14, 15, 16, 17, 18, 19, 20, 12, 13, 14, 15, 16, 17, 18, 19, 20, 21, 13, 14, 15, 16, 17, 18, 19, 20, 21, 22, 14, 15, 16, 17, 18, 19, 20, 21, 22, 23, 15, 16, 17, 18, 19, 20, 21, 22, 23, 24, 16, 17, 18, 19, 20, 21, 22, 23, 24, 25, 8, 9, 10, 11, 12, 13, 14, 15, 16, 17, 9, 10, 11, 12, 13, 14, 15, 16, 17, 18, 10, 11, 12, 13, 14, 15, 16, 17, 18, 19, 11, 12, 13, 14, 15, 16, 17, 18, 19, 20, 12, 13, 14, 15, 16, 17, 18, 19, 20, 21, 13, 14, 15, 16, 17, 18, 19, 20, 21, 22, 14, 15, 16, 17, 18, 19, 20, 21, 22, 23, 15, 16, 17, 18, 19, 20, 21, 22, 23, 24, 16, 17, 18, 19, 20, 21, 22, 23, 24, 25, 17, 18, 19, 20, 21, 22, 23, 24, 25, 26, 9, 10, 11, 12, 13, 14, 15, 16, 17, 18, 10, 11, 12, 13, 14, 15, 16, 17, 18, 19, 11, 12, 13, 14, 15, 16, 17, 18, 19, 20, 12, 13, 14, 15, 16, 17, 18, 19, 20, 21, 13, 14, 15, 16, 17, 18, 19, 20, 21, 22, 14, 15, 16, 17, 18, 19, 20, 21, 22, 23, 15, 16, 17, 18, 19, 20, 21, 22, 23, 24, 16, 17, 18, 19, 20, 21, 22, 23, 24, 25, 17, 18, 19, 20, 21, 22, 23, 24, 25, 26, 18, 19, 20, 21, 22, 23, 24, 25, 26, 27, 1]\n"
     ]
    }
   ],
   "source": [
    "digit_sums = [sum(map(int, str(num))) for num in range(1, 1001)]\n",
    "print(\"Sum of digits for numbers 1 to 1000:\", digit_sums)\n"
   ]
  },
  {
   "cell_type": "markdown",
   "id": "7f0a1015-ba78-4458-99ef-51d927a114e2",
   "metadata": {},
   "source": [
    "### 40. Write a program that generates a list of prime palindromic numbers using list comprehension."
   ]
  },
  {
   "cell_type": "code",
   "execution_count": 42,
   "id": "691bcf1a-e3d3-48bc-a7a2-b1beeecd29e6",
   "metadata": {},
   "outputs": [
    {
     "name": "stdout",
     "output_type": "stream",
     "text": [
      "121\n",
      "141\n",
      "252\n",
      "Total palindrome nos. are 3\n"
     ]
    }
   ],
   "source": [
    "def palindromeNumbers(list_a):\n",
    "    c = 0\n",
    "    for i in list_a:\n",
    "        if str(i) == str(i)[::-1]:\n",
    "            print(i)\n",
    "            c += 1\n",
    "    print(\"Total palindrome nos. are\", c)\n",
    " \n",
    " \n",
    "list_a = [10, 121, 133, 155, 141, 252]\n",
    "palindromeNumbers(list_a)"
   ]
  },
  {
   "cell_type": "code",
   "execution_count": null,
   "id": "27d78a36-5f69-4d69-95da-be845281f214",
   "metadata": {},
   "outputs": [],
   "source": []
  }
 ],
 "metadata": {
  "kernelspec": {
   "display_name": "Python 3 (ipykernel)",
   "language": "python",
   "name": "python3"
  },
  "language_info": {
   "codemirror_mode": {
    "name": "ipython",
    "version": 3
   },
   "file_extension": ".py",
   "mimetype": "text/x-python",
   "name": "python",
   "nbconvert_exporter": "python",
   "pygments_lexer": "ipython3",
   "version": "3.11.4"
  }
 },
 "nbformat": 4,
 "nbformat_minor": 5
}
