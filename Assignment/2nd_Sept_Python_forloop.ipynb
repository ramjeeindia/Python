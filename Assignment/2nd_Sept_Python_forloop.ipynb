{
 "cells": [
  {
   "cell_type": "markdown",
   "id": "9c1c8143-998d-454b-af0c-a89024bfd09f",
   "metadata": {},
   "source": [
    "# Assignment : Python - For loop"
   ]
  },
  {
   "cell_type": "markdown",
   "id": "5f14476b-e77b-4e39-9f7a-40c729129a9b",
   "metadata": {},
   "source": [
    "## 1. Write a Python program to print the numbers from 1 to 10 using a `for` loop."
   ]
  },
  {
   "cell_type": "code",
   "execution_count": 1,
   "id": "07322df7-e385-4c17-9008-c6cba19cd30d",
   "metadata": {},
   "outputs": [
    {
     "name": "stdout",
     "output_type": "stream",
     "text": [
      "1\n",
      "2\n",
      "3\n",
      "4\n",
      "5\n",
      "6\n",
      "7\n",
      "8\n",
      "9\n",
      "10\n"
     ]
    }
   ],
   "source": [
    "# define range for 1 to 10 using range function\n",
    "for i in range(1,11):\n",
    "    print(i)"
   ]
  },
  {
   "cell_type": "markdown",
   "id": "b37a8b0c-3211-4ed2-9261-bd37824858ac",
   "metadata": {},
   "source": [
    "## 2. Create a program that calculates the sum of all numbers in a list using a `for` loop."
   ]
  },
  {
   "cell_type": "code",
   "execution_count": 6,
   "id": "df5162cf-485c-4f1b-abc3-2896072e2d8b",
   "metadata": {},
   "outputs": [
    {
     "name": "stdout",
     "output_type": "stream",
     "text": [
      "Sum 45\n"
     ]
    }
   ],
   "source": [
    "# define list \n",
    "li = [1,2,3,4,5,6,7,8,9]\n",
    "sum_li=0\n",
    "for i in li:\n",
    "    sum_li = sum_li+i\n",
    "print(\"Sum\",sum_li)"
   ]
  },
  {
   "cell_type": "markdown",
   "id": "613a5973-256b-459c-99a4-385a2f576807",
   "metadata": {},
   "source": [
    "## 3. Write a program to print the characters of a string in reverse order using a `for` loop."
   ]
  },
  {
   "cell_type": "code",
   "execution_count": 7,
   "id": "a3d12500-920e-4de6-9a6d-1429973e3a7f",
   "metadata": {},
   "outputs": [
    {
     "name": "stdin",
     "output_type": "stream",
     "text": [
      "Enter text Ramjee Singh\n"
     ]
    },
    {
     "name": "stdout",
     "output_type": "stream",
     "text": [
      "h\n",
      "g\n",
      "n\n",
      "i\n",
      "S\n",
      " \n",
      "e\n",
      "e\n",
      "j\n",
      "m\n",
      "a\n",
      "R\n"
     ]
    }
   ],
   "source": [
    "# Input a string\n",
    "input_string = input(\"Enter text\")\n",
    "# revered function used for reverse string\n",
    "for char in reversed(input_string):\n",
    "    print(char)"
   ]
  },
  {
   "cell_type": "markdown",
   "id": "db5b7a63-f99f-4af3-a234-d3c83d177701",
   "metadata": {},
   "source": [
    "## 4. Develop a program that finds the factorial of a given number using a `for` loop."
   ]
  },
  {
   "cell_type": "code",
   "execution_count": 40,
   "id": "3bec3044-8036-4607-a9ea-4b6f24eb4d97",
   "metadata": {},
   "outputs": [
    {
     "name": "stdin",
     "output_type": "stream",
     "text": [
      "Enter a Number :  10\n"
     ]
    },
    {
     "name": "stdout",
     "output_type": "stream",
     "text": [
      "The factorial of 10 is 3628800\n"
     ]
    }
   ],
   "source": [
    "# Input a number\n",
    "num = int(input(\"Enter a Number : \"))\n",
    "factorial =1\n",
    "for i in range(1,num+1):\n",
    "# instead of writing factorial= factorial+ 1, you can use the += operator \n",
    "    factorial *= i\n",
    "    # factorial = factorial * i\n",
    "print(f\"The factorial of {num} is {factorial}\")"
   ]
  },
  {
   "cell_type": "markdown",
   "id": "46702cf5-6a2b-4c9c-9e39-e97ce51128de",
   "metadata": {},
   "source": [
    "## 5. Create a program to print the multiplication table of a given number using a `for` loop."
   ]
  },
  {
   "cell_type": "code",
   "execution_count": 16,
   "id": "6085ccbb-8c2e-42f4-94d8-4b03d6e92f25",
   "metadata": {},
   "outputs": [
    {
     "name": "stdin",
     "output_type": "stream",
     "text": [
      "Enter a Number :  10\n"
     ]
    },
    {
     "name": "stdout",
     "output_type": "stream",
     "text": [
      "The multiplication 10 of 1 is 10\n",
      "The multiplication 10 of 2 is 20\n",
      "The multiplication 10 of 3 is 30\n",
      "The multiplication 10 of 4 is 40\n",
      "The multiplication 10 of 5 is 50\n",
      "The multiplication 10 of 6 is 60\n",
      "The multiplication 10 of 7 is 70\n",
      "The multiplication 10 of 8 is 80\n",
      "The multiplication 10 of 9 is 90\n",
      "The multiplication 10 of 10 is 100\n"
     ]
    }
   ],
   "source": [
    "# Input a number\n",
    "num = int(input(\"Enter a Number : \"))\n",
    "# define multiplication range from 1 t0 10\n",
    "for i in range(1,11):\n",
    "    multipl = num * i\n",
    "# Print the multiplication\n",
    "    print(f\"The multiplication {num} of {i} is {multipl}\")\n"
   ]
  },
  {
   "cell_type": "markdown",
   "id": "15b3c42e-1917-4de8-a32b-33e205f7236d",
   "metadata": {},
   "source": [
    "## 6. Write a program that counts the number of even and odd numbers in a list using a `for` loop."
   ]
  },
  {
   "cell_type": "code",
   "execution_count": 23,
   "id": "00ff4cab-644e-4c99-be71-17cc949b0022",
   "metadata": {},
   "outputs": [
    {
     "name": "stdout",
     "output_type": "stream",
     "text": [
      "Count of even Numbers : 5\n",
      "Count of Odd Numbers : 3\n"
     ]
    }
   ],
   "source": [
    "# define a list of numbers\n",
    "li = [2,56,43,67,55,42,40,20]\n",
    "even_count =0\n",
    "odd_count =0\n",
    "\n",
    "for i in li:\n",
    "    if (i%2==0):\n",
    "        even_count += 1\n",
    "    else:\n",
    "        odd_count += 1\n",
    "        \n",
    "print(\"Count of even Numbers :\" ,even_count)\n",
    "print(\"Count of Odd Numbers :\", odd_count)"
   ]
  },
  {
   "cell_type": "markdown",
   "id": "c59896dd-153e-45f2-a0b3-e4920de194c7",
   "metadata": {},
   "source": [
    "## 7. Develop a program that prints the squares of numbers from 1 to 5 using a `for` loop."
   ]
  },
  {
   "cell_type": "code",
   "execution_count": 28,
   "id": "02f18ea5-743b-4e02-906b-47e79cdaf353",
   "metadata": {},
   "outputs": [
    {
     "name": "stdout",
     "output_type": "stream",
     "text": [
      "The Sqare of 1 is 1\n",
      "The Sqare of 2 is 4\n",
      "The Sqare of 3 is 9\n",
      "The Sqare of 4 is 16\n",
      "The Sqare of 5 is 25\n"
     ]
    }
   ],
   "source": [
    "# define sq range from 1 t0 5\n",
    "for i in range(1,6):\n",
    "    sq = i ** 2\n",
    "# Print the sq\n",
    "    print(f\"The Sqare of {i} is {sq}\")"
   ]
  },
  {
   "cell_type": "markdown",
   "id": "ad30294c-4a39-426d-ada9-26d776ebab87",
   "metadata": {},
   "source": [
    "## 8. Create a program to find the length of a string without using the `len()` function.a"
   ]
  },
  {
   "cell_type": "code",
   "execution_count": 31,
   "id": "a51f92d2-3faf-4a1d-bf9a-d9698d3611e1",
   "metadata": {},
   "outputs": [
    {
     "name": "stdin",
     "output_type": "stream",
     "text": [
      "Enter a Number :  Python Language\n"
     ]
    },
    {
     "name": "stdout",
     "output_type": "stream",
     "text": [
      "The Length of Python Language is 15\n"
     ]
    }
   ],
   "source": [
    "# Input a string\n",
    "input_str = str(input(\"Enter a Number : \"))\n",
    "length = 0\n",
    "# define multiplication range from 1 t0 10\n",
    "for i in input_str:\n",
    "    length +=1 \n",
    "# Print the length\n",
    "print(f\"The Length of {input_str} is {length}\")"
   ]
  },
  {
   "cell_type": "markdown",
   "id": "a9ee8095-69eb-4115-a447-76d3f9201b22",
   "metadata": {},
   "source": [
    "## 9. Write a program that calculates the average of a list of numbers using a `for` loop."
   ]
  },
  {
   "cell_type": "code",
   "execution_count": 39,
   "id": "f3f04201-3fe8-4965-a9fe-c49ec28c9172",
   "metadata": {},
   "outputs": [
    {
     "name": "stdout",
     "output_type": "stream",
     "text": [
      "Average of Numbers : 40.625\n"
     ]
    }
   ],
   "source": [
    "# define a list of numbers\n",
    "li = [2,56,43,67,55,42,40,20]\n",
    "total = 0\n",
    "\n",
    "for i in li:\n",
    "    # total += i\n",
    "    total = total + i\n",
    "avg = total / len(li)\n",
    "       \n",
    "print(\"Average of Numbers :\" ,avg)\n"
   ]
  },
  {
   "cell_type": "markdown",
   "id": "a5f94210-2367-47cc-ae6d-a2011b789a1f",
   "metadata": {},
   "source": [
    "## 10. Develop a program that prints the first `n` Fibonacci numbers using a `for` loop."
   ]
  },
  {
   "cell_type": "code",
   "execution_count": 45,
   "id": "e298f5c6-9877-4d83-a9f8-db62327c0566",
   "metadata": {},
   "outputs": [
    {
     "name": "stdin",
     "output_type": "stream",
     "text": [
      "Enter the number  10\n"
     ]
    },
    {
     "name": "stdout",
     "output_type": "stream",
     "text": [
      "1\n",
      "2\n",
      "3\n",
      "5\n",
      "8\n",
      "13\n",
      "21\n",
      "34\n",
      "55\n",
      "89\n"
     ]
    }
   ],
   "source": [
    "# Fibonacci sequence is a series of numbers where each number is the sum of the two preceding ones\n",
    "n=int(input(\"Enter the number \"))\n",
    "n1=0\n",
    "n2=1\n",
    "i=0\n",
    "\n",
    "while i<n:\n",
    "    \n",
    "    nth=n1+n2\n",
    "    print(nth)\n",
    "    n1=n2\n",
    "    n2=nth\n",
    "    i=i+1"
   ]
  },
  {
   "cell_type": "markdown",
   "id": "f3911031-bb2a-4b70-955e-c6abe4525334",
   "metadata": {},
   "source": [
    "## 11. Write a program to check if a given list contains any duplicates using a `for` loop."
   ]
  },
  {
   "cell_type": "code",
   "execution_count": 57,
   "id": "8f49d4e7-502b-463f-8495-3e4e433b2c46",
   "metadata": {},
   "outputs": [
    {
     "name": "stdout",
     "output_type": "stream",
     "text": [
      "Duplicate in Numbers\n"
     ]
    }
   ],
   "source": [
    "# define a list of numbers\n",
    "numlist = [2, 56, 43, 67, 55, 42, 40, 20, 5, 10, 55]\n",
    "dc = 0\n",
    "for i in numlist:\n",
    "    if numlist.count(i) >= 2:\n",
    "        dc += 1  # Increment dc by 1 for each duplicate number\n",
    "\n",
    "if dc == 0:\n",
    "    print(\"No Duplicate in Numbers\")\n",
    "else:\n",
    "    print(\"Duplicate in Numbers\")\n"
   ]
  },
  {
   "cell_type": "code",
   "execution_count": null,
   "id": "fc8ede67-8ff6-442a-a15c-d9dfc106ca2a",
   "metadata": {},
   "outputs": [],
   "source": []
  }
 ],
 "metadata": {
  "kernelspec": {
   "display_name": "Python 3 (ipykernel)",
   "language": "python",
   "name": "python3"
  },
  "language_info": {
   "codemirror_mode": {
    "name": "ipython",
    "version": 3
   },
   "file_extension": ".py",
   "mimetype": "text/x-python",
   "name": "python",
   "nbconvert_exporter": "python",
   "pygments_lexer": "ipython3",
   "version": "3.11.4"
  }
 },
 "nbformat": 4,
 "nbformat_minor": 5
}
