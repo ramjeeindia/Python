{
 "cells": [
  {
   "cell_type": "markdown",
   "metadata": {},
   "source": [
    "# conditional statement\n"
   ]
  },
  {
   "cell_type": "code",
   "execution_count": 2,
   "metadata": {},
   "outputs": [],
   "source": [
    "a = 500\n",
    "price = 450\n",
    "# after if we write own condition\n",
    "if price <= 500:\n",
    "    # do something\n",
    "    pass"
   ]
  },
  {
   "cell_type": "code",
   "execution_count": 3,
   "metadata": {},
   "outputs": [
    {
     "data": {
      "text/plain": [
       "True"
      ]
     },
     "execution_count": 3,
     "metadata": {},
     "output_type": "execute_result"
    }
   ],
   "source": [
    "price <=500"
   ]
  },
  {
   "cell_type": "code",
   "execution_count": 5,
   "metadata": {},
   "outputs": [
    {
     "name": "stdout",
     "output_type": "stream",
     "text": [
      "yes i will buy\n"
     ]
    }
   ],
   "source": [
    "a = 500\n",
    "price = 450\n",
    "# after if we write own condition\n",
    "if price <= 500:\n",
    "    print(\"yes i will buy\")"
   ]
  },
  {
   "cell_type": "code",
   "execution_count": 11,
   "metadata": {},
   "outputs": [
    {
     "name": "stdout",
     "output_type": "stream",
     "text": [
      "i won't be able to buy\n"
     ]
    }
   ],
   "source": [
    "a = 500\n",
    "price = 850\n",
    "# after if we write own condition\n",
    "if price <= 500:\n",
    "    print(\"yes i will buy\")\n",
    "else:\n",
    "    print(\"i won't be able to buy\")"
   ]
  },
  {
   "cell_type": "code",
   "execution_count": 14,
   "metadata": {},
   "outputs": [
    {
     "name": "stdout",
     "output_type": "stream",
     "text": [
      "i will buy shirt\n"
     ]
    }
   ],
   "source": [
    "a = 500\n",
    "shirt_price =200\n",
    "pant_price = 500\n",
    "coat_price = 800\n",
    "# a is nothing but total money u have\n",
    "if coat_price <= a:\n",
    "    print(\"yes i will buy coat\")\n",
    "    # we have more condition\n",
    "elif shirt_price <500:\n",
    "    print(\"i will buy shirt\")\n",
    "elif pant_price <500:\n",
    "    print(\"i will buy pant\")\n",
    "else:\n",
    "    print(\"i won't be able to buy\")"
   ]
  },
  {
   "cell_type": "code",
   "execution_count": 15,
   "metadata": {},
   "outputs": [
    {
     "name": "stdout",
     "output_type": "stream",
     "text": [
      "this is testing block\n",
      "i will buy shirt\n"
     ]
    }
   ],
   "source": [
    "a = 500\n",
    "shirt_price =200\n",
    "pant_price = 500\n",
    "coat_price = 800\n",
    "\n",
    "if True:\n",
    "    print(\"this is testing block\")\n",
    "# a is nothing but total money u have\n",
    "if coat_price <= a:\n",
    "    print(\"yes i will buy coat\")\n",
    "    # we have more condition\n",
    "elif shirt_price <500:\n",
    "    print(\"i will buy shirt\")\n",
    "elif pant_price <500:\n",
    "    print(\"i will buy pant\")\n",
    "else:\n",
    "    print(\"i won't be able to buy\")"
   ]
  },
  {
   "cell_type": "code",
   "execution_count": 17,
   "metadata": {},
   "outputs": [
    {
     "name": "stdout",
     "output_type": "stream",
     "text": [
      "yes it is under my budget to buy shirt\n"
     ]
    }
   ],
   "source": [
    "a = 500\n",
    "shirt_price =200\n",
    "pant_price = 500\n",
    "coat_price = 800\n",
    "my_size ='M'\n",
    "SIZE_STROE = 'L'\n",
    "# a is nothing but total money u have\n",
    "if coat_price <= a:\n",
    "    print(\"yes i will buy coat\")\n",
    "    # we have more condition\n",
    "elif shirt_price <500:\n",
    "    print(\"yes it is under my budget to buy shirt\")\n",
    "    if my_size == SIZE_STROE:\n",
    "        print(\"i will buy shirt\")\n",
    "elif pant_price <500:\n",
    "    print(\"i will buy pant\")\n",
    "else:\n",
    "    print(\"i won't be able to buy\")"
   ]
  },
  {
   "cell_type": "code",
   "execution_count": 20,
   "metadata": {},
   "outputs": [
    {
     "name": "stdout",
     "output_type": "stream",
     "text": [
      "yes it is under my budget to buy shirt\n",
      "i will buy shirt\n"
     ]
    }
   ],
   "source": [
    "a = 500\n",
    "shirt_price =200\n",
    "pant_price = 500\n",
    "coat_price = 800\n",
    "my_size ='M'\n",
    "size_store = ['L', 'XL','S','XXL','M']\n",
    "# a is nothing but total money u have\n",
    "if coat_price <= a:\n",
    "    print(\"yes i will buy coat\")\n",
    "    # we have more condition\n",
    "elif shirt_price <500:\n",
    "    print(\"yes it is under my budget to buy shirt\")\n",
    "    if my_size in size_store:\n",
    "        print(\"i will buy shirt\")\n",
    "    else:\n",
    "        print(\"my size is not available\")\n",
    "elif pant_price <500:\n",
    "    print(\"i will buy pant\")\n",
    "else:\n",
    "    print(\"i won't be able to buy\")"
   ]
  },
  {
   "cell_type": "code",
   "execution_count": 19,
   "metadata": {},
   "outputs": [
    {
     "data": {
      "text/plain": [
       "False"
      ]
     },
     "execution_count": 19,
     "metadata": {},
     "output_type": "execute_result"
    }
   ],
   "source": [
    "my_size == size_store"
   ]
  },
  {
   "cell_type": "code",
   "execution_count": 22,
   "metadata": {},
   "outputs": [
    {
     "name": "stdout",
     "output_type": "stream",
     "text": [
      "yes it is under my budget to buy shirt\n",
      "i will buy shirt\n",
      "yes i will try to choose it\n"
     ]
    }
   ],
   "source": [
    "a = 500\n",
    "shirt_price =200\n",
    "pant_price = 500\n",
    "coat_price = 800\n",
    "my_size ='M'\n",
    "size_store = ['L', 'XL','S','XXL','M']\n",
    "my_fav_clr = 'white'\n",
    "store_clr =['red','white','orange','blue']\n",
    "# a is nothing but total money u have\n",
    "if coat_price <= a:\n",
    "    print(\"yes i will buy coat\")\n",
    "    # we have more condition\n",
    "elif shirt_price <500:\n",
    "    print(\"yes it is under my budget to buy shirt\")\n",
    "    if my_size in size_store:\n",
    "        print(\"i will buy shirt\")\n",
    "        if my_fav_clr in store_clr:\n",
    "            print(\"yes i will try to choose it\")\n",
    "        else:\n",
    "            print(\"my fav clt is not available\")\n",
    "    else:\n",
    "        print(\"my size is not available\")\n",
    "elif pant_price <500:\n",
    "    print(\"i will buy pant\")\n",
    "else:\n",
    "    print(\"i won't be able to buy\")"
   ]
  },
  {
   "cell_type": "code",
   "execution_count": 23,
   "metadata": {},
   "outputs": [
    {
     "data": {
      "text/plain": [
       "True"
      ]
     },
     "execution_count": 23,
     "metadata": {},
     "output_type": "execute_result"
    }
   ],
   "source": [
    "'M' in size_store"
   ]
  },
  {
   "cell_type": "code",
   "execution_count": 24,
   "metadata": {},
   "outputs": [
    {
     "name": "stdout",
     "output_type": "stream",
     "text": [
      "yes i am doing this course\n"
     ]
    }
   ],
   "source": [
    "course =['DSM','DSA','JAVA','BIGDATE','DA']\n",
    "price = 20000\n",
    "mentor = \"sudhanshu kumar\"\n",
    "# multiple and condition\n",
    "if 'DSM' in course and price ==20000 and  \"sudhanshu kumar\"==mentor :\n",
    "    print(\"yes i am doing this course\")"
   ]
  },
  {
   "cell_type": "code",
   "execution_count": 25,
   "metadata": {},
   "outputs": [],
   "source": [
    "course =['DSM','DSA','JAVA','BIGDATE','DA']\n",
    "price = 20000\n",
    "mentor = \"sudhanshu kumar\"\n",
    "# multiple and condition and price change result \n",
    "if 'DSM' in course and price ==1000 and  \"sudhanshu kumar\"==mentor :\n",
    "    print(\"yes i am doing this course\")"
   ]
  },
  {
   "cell_type": "code",
   "execution_count": 26,
   "metadata": {},
   "outputs": [
    {
     "name": "stdout",
     "output_type": "stream",
     "text": [
      "yes i am doing this course\n"
     ]
    }
   ],
   "source": [
    "course =['DSM','DSA','JAVA','BIGDATE','DA']\n",
    "price = 20000\n",
    "mentor = \"sudhanshu kumar\"\n",
    "# multiple and condition and price change result \n",
    "if 'DSM' in course or price ==1000 and  \"sudhanshu kumar\"==mentor :\n",
    "    print(\"yes i am doing this course\")"
   ]
  },
  {
   "cell_type": "code",
   "execution_count": 29,
   "metadata": {},
   "outputs": [
    {
     "name": "stdout",
     "output_type": "stream",
     "text": [
      "it's out of my budget\n"
     ]
    }
   ],
   "source": [
    "course_price =20000\n",
    "\n",
    "if 10000 <= course_price <= 15000:\n",
    "    print(\"i will try to buy a course\")\n",
    "else :\n",
    "    print(\"it's out of my budget\")"
   ]
  },
  {
   "cell_type": "code",
   "execution_count": 28,
   "metadata": {},
   "outputs": [
    {
     "data": {
      "text/plain": [
       "False"
      ]
     },
     "execution_count": 28,
     "metadata": {},
     "output_type": "execute_result"
    }
   ],
   "source": [
    "10000 <= course_price <= 15000"
   ]
  },
  {
   "cell_type": "code",
   "execution_count": null,
   "metadata": {},
   "outputs": [],
   "source": [
    "# password condition"
   ]
  },
  {
   "cell_type": "code",
   "execution_count": 1,
   "metadata": {},
   "outputs": [
    {
     "name": "stdout",
     "output_type": "stream",
     "text": [
      "Login Successfully\n"
     ]
    }
   ],
   "source": [
    "user_name = 'ramjee'\n",
    "password = 'ramjee@1234'\n",
    "\n",
    "if user_name == input(\"Enter Your Username : \") and password == input(\" Enter Password\"):\n",
    "    print(\"Login Successfully\")\n",
    "else:\n",
    "    print(\"not valid id\")"
   ]
  },
  {
   "cell_type": "code",
   "execution_count": 2,
   "metadata": {},
   "outputs": [
    {
     "name": "stdout",
     "output_type": "stream",
     "text": [
      "not valid id\n"
     ]
    }
   ],
   "source": [
    "user_name = 'ramjee'\n",
    "password = 'ramjee@1234'\n",
    "\n",
    "if user_name == input(\"Enter Your Username : \") and password == input(\" Enter Password\"):\n",
    "    print(\"Login Successfully\")\n",
    "else:\n",
    "    print(\"not valid id\")"
   ]
  },
  {
   "cell_type": "code",
   "execution_count": 5,
   "metadata": {},
   "outputs": [
    {
     "name": "stdout",
     "output_type": "stream",
     "text": [
      "yes u r a resistered user\n",
      "u hv logged in \n"
     ]
    }
   ],
   "source": [
    "mob = 123456\n",
    "otp =123\n",
    "if mob == int(input(\"inter mob no\")):\n",
    "    print(\"yes u r a resistered user\")\n",
    "    if otp == int(input(\"enter otp that we have sent on your mob no\")):\n",
    "        print(\"u hv logged in \")\n",
    "    else:\n",
    "        print(\"otp is not correct\")\n",
    "else :\n",
    "    print (\"u hv not entered valid mob no\")\n",
    "\n"
   ]
  },
  {
   "cell_type": "code",
   "execution_count": 6,
   "metadata": {},
   "outputs": [
    {
     "name": "stdout",
     "output_type": "stream",
     "text": [
      "u hv not entered valid mob no\n"
     ]
    }
   ],
   "source": [
    "mob = 123456\n",
    "otp =123\n",
    "if mob == int(input(\"inter mob no\")):\n",
    "    print(\"yes u r a resistered user\")\n",
    "    if otp == int(input(\"enter otp that we have sent on your mob no\")):\n",
    "        print(\"u hv logged in \")\n",
    "    else:\n",
    "        print(\"otp is not correct\")\n",
    "else :\n",
    "    print (\"u hv not entered valid mob no\")\n"
   ]
  },
  {
   "cell_type": "code",
   "execution_count": 7,
   "metadata": {},
   "outputs": [
    {
     "name": "stdout",
     "output_type": "stream",
     "text": [
      "yes u r a resistered user\n",
      "otp is not correct\n"
     ]
    }
   ],
   "source": [
    "mob = 123456\n",
    "otp =123\n",
    "if mob == int(input(\"inter mob no\")):\n",
    "    print(\"yes u r a resistered user\")\n",
    "    if otp == int(input(\"enter otp that we have sent on your mob no\")):\n",
    "        print(\"u hv logged in \")\n",
    "    else:\n",
    "        print(\"otp is not correct\")\n",
    "else :\n",
    "    print (\"u hv not entered valid mob no\")\n",
    "\n"
   ]
  },
  {
   "cell_type": "code",
   "execution_count": 9,
   "metadata": {},
   "outputs": [
    {
     "name": "stdout",
     "output_type": "stream",
     "text": [
      "yes u r a resistered user\n",
      "u hv logged in \n"
     ]
    }
   ],
   "source": [
    "mob = {123456,45896,1589645,47852,47896541,86974}\n",
    "otp =123\n",
    "if int(input(\"inter mob no\")) in mob:\n",
    "    print(\"yes u r a resistered user\")\n",
    "    if otp == int(input(\"enter otp that we have sent on your mob no\")):\n",
    "        print(\"u hv logged in \")\n",
    "    else:\n",
    "        print(\"otp is not correct\")\n",
    "else :\n",
    "    print (\"u hv not entered valid mob no\")\n"
   ]
  },
  {
   "cell_type": "markdown",
   "metadata": {},
   "source": [
    "# loop\n"
   ]
  },
  {
   "cell_type": "code",
   "execution_count": 10,
   "metadata": {},
   "outputs": [
    {
     "name": "stdout",
     "output_type": "stream",
     "text": [
      "1\n",
      "5\n",
      "8\n",
      "8\n",
      "9\n",
      "8\n",
      "9\n"
     ]
    }
   ],
   "source": [
    "l = [1,5,8,8,9,8,9]\n",
    "# i is local var\n",
    "\n",
    "for i in l:\n",
    "    print(i)"
   ]
  },
  {
   "cell_type": "code",
   "execution_count": 11,
   "metadata": {},
   "outputs": [
    {
     "name": "stdout",
     "output_type": "stream",
     "text": [
      "123456\n",
      "47896541\n",
      "45896\n",
      "47852\n",
      "1589645\n",
      "86974\n"
     ]
    }
   ],
   "source": [
    "l = [12,3,3,8,19,8,9]\n",
    "mob = {123456,45896,1589645,47852,47896541,86974}\n",
    "# i is local var for itration the loop\n",
    "\n",
    "for i in mob:\n",
    "    print(i)"
   ]
  },
  {
   "cell_type": "code",
   "execution_count": 14,
   "metadata": {},
   "outputs": [
    {
     "name": "stdout",
     "output_type": "stream",
     "text": [
      "12345\n",
      "45896\n",
      "yes user is registered\n",
      "15896\n",
      "47852\n",
      "47896\n",
      "86974\n"
     ]
    }
   ],
   "source": [
    "l = [12,3,3,8,19,8,9]\n",
    "mob = [12345,45896,15896,47852,47896,86974]\n",
    "sud_mob = 45896\n",
    "# i is local var for itration the loop\n",
    "\n",
    "for i in mob:\n",
    "    print(i)\n",
    "    if i == sud_mob:\n",
    "        print(\"yes user is registered\")"
   ]
  },
  {
   "cell_type": "code",
   "execution_count": 18,
   "metadata": {},
   "outputs": [
    {
     "name": "stdout",
     "output_type": "stream",
     "text": [
      "12345\n",
      "45896\n",
      "yes user is registered\n",
      "yes student is available in db\n",
      "course access  ['dsa', 'ds']\n",
      "15896\n",
      "47852\n",
      "47896\n",
      "86974\n"
     ]
    }
   ],
   "source": [
    "l = [12,3,3,8,19,8,9]\n",
    "mob = [12345,45896,15896,47852,47896,86974]\n",
    "stud_mob = 45896\n",
    "stud_details ={'mob':45896, 'course':['dsa','ds']}\n",
    "# check course\n",
    "\n",
    "for i in mob:\n",
    "    print(i)\n",
    "    if i == stud_mob:\n",
    "        print(\"yes user is registered\")\n",
    "        if i==stud_details['mob']:\n",
    "            print(\"yes student is available in db\")\n",
    "            print(\"course access \",stud_details['course'])\n",
    "\n",
    "\n"
   ]
  },
  {
   "cell_type": "code",
   "execution_count": 19,
   "metadata": {},
   "outputs": [
    {
     "name": "stdout",
     "output_type": "stream",
     "text": [
      "12\n",
      "3\n",
      "3\n",
      "5\n",
      "8\n"
     ]
    }
   ],
   "source": [
    "# tuples\n",
    "t =(12,3,3,5,8)\n",
    "\n",
    "for i in t:\n",
    "    print(i)"
   ]
  },
  {
   "cell_type": "code",
   "execution_count": 23,
   "metadata": {},
   "outputs": [
    {
     "name": "stdout",
     "output_type": "stream",
     "text": [
      "ramjee\n",
      "singh\n"
     ]
    }
   ],
   "source": [
    "t =(12,3,13,5,8,\"ramjee\",\"singh\")\n",
    "\n",
    "for i in t:\n",
    "    # for extract only string\n",
    "    if type(i) == str :\n",
    "        print(i)"
   ]
  },
  {
   "cell_type": "code",
   "execution_count": 24,
   "metadata": {},
   "outputs": [
    {
     "name": "stdout",
     "output_type": "stream",
     "text": [
      "['ramjee', 'singh']\n",
      "[12, 3, 13, 5, 8]\n"
     ]
    }
   ],
   "source": [
    "t =(12,3,13,5,8,\"ramjee\",\"singh\")\n",
    "l_int =[]\n",
    "l_str=[]\n",
    "\n",
    "for i in t:\n",
    "    # for extract only string\n",
    "    if type(i) == str :\n",
    "        l_str.append(i)\n",
    "    elif type(i) == int:\n",
    "        l_int.append(i)\n",
    "    \n",
    "print(l_str)\n",
    "print(l_int)"
   ]
  },
  {
   "cell_type": "code",
   "execution_count": 25,
   "metadata": {},
   "outputs": [],
   "source": [
    "# set\n",
    "s = {2,5,8,86,25}"
   ]
  },
  {
   "cell_type": "code",
   "execution_count": 2,
   "metadata": {},
   "outputs": [],
   "source": [
    "d = {\"name\":\"ramjee\" , 'class' :[\"big data\" , \"data analytics\",\"data science \" , \"DSA\" , \"architecture\", \"system design\"],\n",
    "'mobile no' : 9660487879, \"email_id\":'ramjee.india@gmail.com'}"
   ]
  },
  {
   "cell_type": "code",
   "execution_count": 3,
   "metadata": {},
   "outputs": [
    {
     "name": "stdout",
     "output_type": "stream",
     "text": [
      "name\n",
      "class\n",
      "mobile no\n",
      "email_id\n"
     ]
    }
   ],
   "source": [
    "for i in d.keys():\n",
    "    print (i)"
   ]
  },
  {
   "cell_type": "code",
   "execution_count": 4,
   "metadata": {},
   "outputs": [
    {
     "name": "stdout",
     "output_type": "stream",
     "text": [
      "ramjee\n",
      "['big data', 'data analytics', 'data science ', 'DSA', 'architecture', 'system design']\n",
      "9660487879\n",
      "ramjee.india@gmail.com\n"
     ]
    }
   ],
   "source": [
    "for i in d.values():\n",
    "    print (i)"
   ]
  },
  {
   "cell_type": "code",
   "execution_count": 5,
   "metadata": {},
   "outputs": [
    {
     "name": "stdout",
     "output_type": "stream",
     "text": [
      "('name', 'ramjee')\n",
      "('class', ['big data', 'data analytics', 'data science ', 'DSA', 'architecture', 'system design'])\n",
      "('mobile no', 9660487879)\n",
      "('email_id', 'ramjee.india@gmail.com')\n"
     ]
    }
   ],
   "source": [
    "for i in d.items():\n",
    "    print (i)"
   ]
  },
  {
   "cell_type": "code",
   "execution_count": 7,
   "metadata": {},
   "outputs": [
    {
     "name": "stdout",
     "output_type": "stream",
     "text": [
      "yes this mentor teach system design\n"
     ]
    }
   ],
   "source": [
    "for i in d.values():\n",
    "    if type(i) == list and 'system design' in i :\n",
    "            print(\"yes this mentor teach system design\")"
   ]
  },
  {
   "cell_type": "code",
   "execution_count": 8,
   "metadata": {},
   "outputs": [
    {
     "name": "stdout",
     "output_type": "stream",
     "text": [
      "big data\n",
      "data analytics\n",
      "data science \n",
      "DSA\n",
      "architecture\n",
      "system design\n"
     ]
    }
   ],
   "source": [
    "for i in d.values():\n",
    "    if type(i) == list:\n",
    "        for j in i :\n",
    "            \n",
    "            print(j)"
   ]
  },
  {
   "cell_type": "code",
   "execution_count": 9,
   "metadata": {},
   "outputs": [],
   "source": [
    "mob = int(input(\"Enter a NUMBER\"))"
   ]
  },
  {
   "cell_type": "code",
   "execution_count": 10,
   "metadata": {},
   "outputs": [
    {
     "data": {
      "text/plain": [
       "23"
      ]
     },
     "execution_count": 10,
     "metadata": {},
     "output_type": "execute_result"
    }
   ],
   "source": [
    "mob"
   ]
  },
  {
   "cell_type": "code",
   "execution_count": null,
   "metadata": {},
   "outputs": [],
   "source": []
  }
 ],
 "metadata": {
  "kernelspec": {
   "display_name": "Python 3",
   "language": "python",
   "name": "python3"
  },
  "language_info": {
   "codemirror_mode": {
    "name": "ipython",
    "version": 3
   },
   "file_extension": ".py",
   "mimetype": "text/x-python",
   "name": "python",
   "nbconvert_exporter": "python",
   "pygments_lexer": "ipython3",
   "version": "3.11.4"
  },
  "orig_nbformat": 4
 },
 "nbformat": 4,
 "nbformat_minor": 2
}
