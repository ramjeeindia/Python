{
 "cells": [
  {
   "cell_type": "code",
   "execution_count": 1,
   "id": "763e8661-52fc-4b0d-baca-47d91dd070f9",
   "metadata": {},
   "outputs": [],
   "source": [
    "python = \"Hello World\""
   ]
  },
  {
   "cell_type": "code",
   "execution_count": 2,
   "id": "f007bd82-0f4e-49e1-9f84-2e1e34dc916e",
   "metadata": {},
   "outputs": [
    {
     "data": {
      "text/plain": [
       "'Hello World'"
      ]
     },
     "execution_count": 2,
     "metadata": {},
     "output_type": "execute_result"
    }
   ],
   "source": [
    "python"
   ]
  },
  {
   "cell_type": "code",
   "execution_count": 3,
   "id": "366627cd-5e5f-49d9-b8df-f29335c65d51",
   "metadata": {},
   "outputs": [],
   "source": [
    "a = 10"
   ]
  },
  {
   "cell_type": "code",
   "execution_count": 4,
   "id": "0463ed17-da6c-4d8f-8f08-57e91ef5b30b",
   "metadata": {},
   "outputs": [
    {
     "data": {
      "text/plain": [
       "10"
      ]
     },
     "execution_count": 4,
     "metadata": {},
     "output_type": "execute_result"
    }
   ],
   "source": [
    "a"
   ]
  },
  {
   "cell_type": "code",
   "execution_count": 5,
   "id": "f74ebb12-9a0b-4dc8-a8b9-7d9cc301c942",
   "metadata": {},
   "outputs": [],
   "source": [
    "b = 100"
   ]
  },
  {
   "cell_type": "code",
   "execution_count": 6,
   "id": "66b2ed2d-49a6-43f2-9510-36a20885ef7f",
   "metadata": {},
   "outputs": [
    {
     "data": {
      "text/plain": [
       "100"
      ]
     },
     "execution_count": 6,
     "metadata": {},
     "output_type": "execute_result"
    }
   ],
   "source": [
    "b"
   ]
  },
  {
   "cell_type": "code",
   "execution_count": 7,
   "id": "d1a18cab-f5d5-4f18-b137-8dc3243207bb",
   "metadata": {},
   "outputs": [],
   "source": [
    "# This symbol is for single line commit"
   ]
  },
  {
   "cell_type": "code",
   "execution_count": 8,
   "id": "11eac177-b854-40f8-a4d4-6b09c0dce8f6",
   "metadata": {},
   "outputs": [
    {
     "data": {
      "text/plain": [
       "110"
      ]
     },
     "execution_count": 8,
     "metadata": {},
     "output_type": "execute_result"
    }
   ],
   "source": [
    "# add a and b variable\n",
    "a + b"
   ]
  },
  {
   "cell_type": "code",
   "execution_count": 9,
   "id": "a2e05e8b-8336-440e-a5b8-d9627a73177f",
   "metadata": {},
   "outputs": [
    {
     "name": "stdout",
     "output_type": "stream",
     "text": [
      "This is my First Class\n"
     ]
    }
   ],
   "source": [
    "print (\"This is my First Class\")"
   ]
  },
  {
   "cell_type": "code",
   "execution_count": 10,
   "id": "eec8a544",
   "metadata": {},
   "outputs": [],
   "source": [
    "# float data type\n",
    "f=3.68"
   ]
  },
  {
   "cell_type": "code",
   "execution_count": 11,
   "id": "52d02c2a",
   "metadata": {},
   "outputs": [
    {
     "data": {
      "text/plain": [
       "float"
      ]
     },
     "execution_count": 11,
     "metadata": {},
     "output_type": "execute_result"
    }
   ],
   "source": [
    "type(f)"
   ]
  },
  {
   "cell_type": "code",
   "execution_count": 12,
   "id": "112201f9",
   "metadata": {},
   "outputs": [
    {
     "data": {
      "text/plain": [
       "int"
      ]
     },
     "execution_count": 12,
     "metadata": {},
     "output_type": "execute_result"
    }
   ],
   "source": [
    "type(a)"
   ]
  },
  {
   "cell_type": "code",
   "execution_count": 13,
   "id": "a2d485bc",
   "metadata": {},
   "outputs": [],
   "source": [
    "# complex data tyep\n",
    "c = 5 + 6j"
   ]
  },
  {
   "cell_type": "code",
   "execution_count": 14,
   "id": "0b3b5f05",
   "metadata": {},
   "outputs": [
    {
     "data": {
      "text/plain": [
       "(5+6j)"
      ]
     },
     "execution_count": 14,
     "metadata": {},
     "output_type": "execute_result"
    }
   ],
   "source": [
    "c"
   ]
  },
  {
   "cell_type": "code",
   "execution_count": 15,
   "id": "2ca527e5",
   "metadata": {},
   "outputs": [
    {
     "data": {
      "text/plain": [
       "complex"
      ]
     },
     "execution_count": 15,
     "metadata": {},
     "output_type": "execute_result"
    }
   ],
   "source": [
    "type(c)"
   ]
  },
  {
   "cell_type": "code",
   "execution_count": 16,
   "id": "b42aa39c",
   "metadata": {},
   "outputs": [
    {
     "ename": "TypeError",
     "evalue": "int() argument must be a string, a bytes-like object or a real number, not 'complex'",
     "output_type": "error",
     "traceback": [
      "\u001b[1;31m---------------------------------------------------------------------------\u001b[0m",
      "\u001b[1;31mTypeError\u001b[0m                                 Traceback (most recent call last)",
      "Cell \u001b[1;32mIn[16], line 1\u001b[0m\n\u001b[1;32m----> 1\u001b[0m \u001b[39mint\u001b[39;49m(c)\n",
      "\u001b[1;31mTypeError\u001b[0m: int() argument must be a string, a bytes-like object or a real number, not 'complex'"
     ]
    }
   ],
   "source": [
    "int(c)"
   ]
  },
  {
   "cell_type": "code",
   "execution_count": null,
   "id": "abca4bf2",
   "metadata": {},
   "outputs": [
    {
     "data": {
      "text/plain": [
       "5.0"
      ]
     },
     "execution_count": 18,
     "metadata": {},
     "output_type": "execute_result"
    }
   ],
   "source": [
    "# get only real no\n",
    "c.real"
   ]
  },
  {
   "cell_type": "code",
   "execution_count": null,
   "id": "6fda9638",
   "metadata": {},
   "outputs": [
    {
     "data": {
      "text/plain": [
       "6.0"
      ]
     },
     "execution_count": 19,
     "metadata": {},
     "output_type": "execute_result"
    }
   ],
   "source": [
    "# get only imginary no\n",
    "c.imag"
   ]
  },
  {
   "cell_type": "code",
   "execution_count": null,
   "id": "86a13025",
   "metadata": {},
   "outputs": [],
   "source": [
    "r = True"
   ]
  },
  {
   "cell_type": "code",
   "execution_count": null,
   "id": "a5339200",
   "metadata": {},
   "outputs": [],
   "source": [
    "s = False"
   ]
  },
  {
   "cell_type": "code",
   "execution_count": null,
   "id": "0057a21b",
   "metadata": {},
   "outputs": [
    {
     "data": {
      "text/plain": [
       "False"
      ]
     },
     "execution_count": 34,
     "metadata": {},
     "output_type": "execute_result"
    }
   ],
   "source": [
    "s"
   ]
  },
  {
   "cell_type": "code",
   "execution_count": null,
   "id": "8befaabe",
   "metadata": {},
   "outputs": [
    {
     "data": {
      "text/plain": [
       "2"
      ]
     },
     "execution_count": 35,
     "metadata": {},
     "output_type": "execute_result"
    }
   ],
   "source": [
    " # value of True= 1 False=0\n",
    " r+r"
   ]
  },
  {
   "cell_type": "code",
   "execution_count": null,
   "id": "6481b880",
   "metadata": {},
   "outputs": [
    {
     "data": {
      "text/plain": [
       "0"
      ]
     },
     "execution_count": 36,
     "metadata": {},
     "output_type": "execute_result"
    }
   ],
   "source": [
    "r*s"
   ]
  },
  {
   "cell_type": "code",
   "execution_count": null,
   "id": "4d0d2dac",
   "metadata": {},
   "outputs": [
    {
     "ename": "ZeroDivisionError",
     "evalue": "division by zero",
     "output_type": "error",
     "traceback": [
      "\u001b[1;31m---------------------------------------------------------------------------\u001b[0m",
      "\u001b[1;31mZeroDivisionError\u001b[0m                         Traceback (most recent call last)",
      "Cell \u001b[1;32mIn[37], line 1\u001b[0m\n\u001b[1;32m----> 1\u001b[0m r\u001b[39m/\u001b[39;49ms\n",
      "\u001b[1;31mZeroDivisionError\u001b[0m: division by zero"
     ]
    }
   ],
   "source": [
    "#1/0 will give error\n",
    "r/s"
   ]
  },
  {
   "cell_type": "code",
   "execution_count": null,
   "id": "f32c104e",
   "metadata": {},
   "outputs": [
    {
     "data": {
      "text/plain": [
       "0.0"
      ]
     },
     "execution_count": 38,
     "metadata": {},
     "output_type": "execute_result"
    }
   ],
   "source": [
    "s/r"
   ]
  },
  {
   "cell_type": "code",
   "execution_count": null,
   "id": "b6b36f45",
   "metadata": {},
   "outputs": [
    {
     "data": {
      "text/plain": [
       "bool"
      ]
     },
     "execution_count": 21,
     "metadata": {},
     "output_type": "execute_result"
    }
   ],
   "source": [
    "type(r)"
   ]
  },
  {
   "cell_type": "code",
   "execution_count": null,
   "id": "7b52ccbc",
   "metadata": {},
   "outputs": [],
   "source": [
    "# we can define a1 and a2 both in same line\n",
    "a1, a2 = 34, 45"
   ]
  },
  {
   "cell_type": "code",
   "execution_count": null,
   "id": "a4a8eb26",
   "metadata": {},
   "outputs": [
    {
     "data": {
      "text/plain": [
       "79"
      ]
     },
     "execution_count": 23,
     "metadata": {},
     "output_type": "execute_result"
    }
   ],
   "source": [
    "a1 + a2"
   ]
  },
  {
   "cell_type": "code",
   "execution_count": null,
   "id": "b4595c45",
   "metadata": {},
   "outputs": [],
   "source": [
    "l=[]"
   ]
  },
  {
   "cell_type": "code",
   "execution_count": null,
   "id": "9f8ddbaa",
   "metadata": {},
   "outputs": [
    {
     "data": {
      "text/plain": [
       "list"
      ]
     },
     "execution_count": 26,
     "metadata": {},
     "output_type": "execute_result"
    }
   ],
   "source": [
    "type([])"
   ]
  },
  {
   "cell_type": "code",
   "execution_count": null,
   "id": "f21d3123",
   "metadata": {},
   "outputs": [],
   "source": [
    "#string \n",
    "d=\"ramjee\""
   ]
  },
  {
   "cell_type": "code",
   "execution_count": null,
   "id": "e01c641e",
   "metadata": {},
   "outputs": [
    {
     "data": {
      "text/plain": [
       "'ramjee'"
      ]
     },
     "execution_count": 31,
     "metadata": {},
     "output_type": "execute_result"
    }
   ],
   "source": [
    "d"
   ]
  },
  {
   "cell_type": "code",
   "execution_count": null,
   "id": "5000a58a",
   "metadata": {},
   "outputs": [
    {
     "data": {
      "text/plain": [
       "str"
      ]
     },
     "execution_count": 32,
     "metadata": {},
     "output_type": "execute_result"
    }
   ],
   "source": [
    "type(d)"
   ]
  },
  {
   "cell_type": "code",
   "execution_count": null,
   "id": "5f4b2a98",
   "metadata": {},
   "outputs": [],
   "source": [
    " v = 5 +8j"
   ]
  },
  {
   "cell_type": "code",
   "execution_count": null,
   "id": "a1dbc74a",
   "metadata": {},
   "outputs": [
    {
     "data": {
      "text/plain": [
       "5.0"
      ]
     },
     "execution_count": 60,
     "metadata": {},
     "output_type": "execute_result"
    }
   ],
   "source": [
    "v.real"
   ]
  },
  {
   "cell_type": "code",
   "execution_count": null,
   "id": "2b12a951",
   "metadata": {},
   "outputs": [
    {
     "data": {
      "text/plain": [
       "8.0"
      ]
     },
     "execution_count": 62,
     "metadata": {},
     "output_type": "execute_result"
    }
   ],
   "source": [
    "v.imag"
   ]
  },
  {
   "cell_type": "code",
   "execution_count": null,
   "id": "4cf21b3d",
   "metadata": {},
   "outputs": [
    {
     "data": {
      "text/plain": [
       "complex"
      ]
     },
     "execution_count": 63,
     "metadata": {},
     "output_type": "execute_result"
    }
   ],
   "source": [
    "#type shft and tab to view function use case\n",
    "type(v)"
   ]
  },
  {
   "cell_type": "code",
   "execution_count": null,
   "id": "5f550ed0",
   "metadata": {},
   "outputs": [
    {
     "name": "stdout",
     "output_type": "stream",
     "text": [
      "(5+8j)\n"
     ]
    }
   ],
   "source": [
    "print(v)"
   ]
  },
  {
   "cell_type": "code",
   "execution_count": null,
   "id": "c5d5cfa2",
   "metadata": {},
   "outputs": [],
   "source": [
    "s = \"pwskills\""
   ]
  },
  {
   "cell_type": "code",
   "execution_count": null,
   "id": "41e3d449",
   "metadata": {},
   "outputs": [
    {
     "data": {
      "text/plain": [
       "'p'"
      ]
     },
     "execution_count": 67,
     "metadata": {},
     "output_type": "execute_result"
    }
   ],
   "source": [
    "# extract k from string p store 0 position w-1 s-2 k-3 i=4 l=5 l=6 s=7 and reverse or backward direction indexing p=-8 w=-7 s=-6 k=-5 i=-4 l=-3 l=-2 s=-1\n",
    "s[0]\n"
   ]
  },
  {
   "cell_type": "code",
   "execution_count": null,
   "id": "b744efd4",
   "metadata": {},
   "outputs": [
    {
     "data": {
      "text/plain": [
       "'p'"
      ]
     },
     "execution_count": 68,
     "metadata": {},
     "output_type": "execute_result"
    }
   ],
   "source": [
    "#from backward index\n",
    "s[-8]"
   ]
  },
  {
   "cell_type": "code",
   "execution_count": null,
   "id": "4078d407",
   "metadata": {},
   "outputs": [
    {
     "data": {
      "text/plain": [
       "'s'"
      ]
     },
     "execution_count": 69,
     "metadata": {},
     "output_type": "execute_result"
    }
   ],
   "source": [
    "#from backward index\n",
    "s[-1]"
   ]
  },
  {
   "cell_type": "code",
   "execution_count": null,
   "id": "4b05d0ac",
   "metadata": {},
   "outputs": [],
   "source": [
    "# get pws from forward index use slice"
   ]
  },
  {
   "cell_type": "code",
   "execution_count": null,
   "id": "2f80006d",
   "metadata": {},
   "outputs": [
    {
     "data": {
      "text/plain": [
       "'pws'"
      ]
     },
     "execution_count": 71,
     "metadata": {},
     "output_type": "execute_result"
    }
   ],
   "source": [
    "#start from start index and go upto upper bound . upperbound -1 \n",
    "s[0:3]"
   ]
  },
  {
   "cell_type": "code",
   "execution_count": null,
   "id": "04413f60",
   "metadata": {},
   "outputs": [
    {
     "data": {
      "text/plain": [
       "'pw'"
      ]
     },
     "execution_count": 72,
     "metadata": {},
     "output_type": "execute_result"
    }
   ],
   "source": [
    "# pw\n",
    "s[0:2]"
   ]
  },
  {
   "cell_type": "code",
   "execution_count": null,
   "id": "7996e6e0",
   "metadata": {},
   "outputs": [
    {
     "data": {
      "text/plain": [
       "'psil'"
      ]
     },
     "execution_count": 74,
     "metadata": {},
     "output_type": "execute_result"
    }
   ],
   "source": [
    "# alternate data extract psil start 0 then go upto 8 then jump 2 bydefault jump=1\n",
    "s[0:8:2]\n"
   ]
  },
  {
   "cell_type": "code",
   "execution_count": null,
   "id": "7ce3d9a4",
   "metadata": {},
   "outputs": [
    {
     "data": {
      "text/plain": [
       "'psil'"
      ]
     },
     "execution_count": 76,
     "metadata": {},
     "output_type": "execute_result"
    }
   ],
   "source": [
    "# we can define ::2 means stat 0 end last and jump2\n",
    "s[::2]"
   ]
  },
  {
   "cell_type": "code",
   "execution_count": null,
   "id": "d98dfe58",
   "metadata": {},
   "outputs": [
    {
     "data": {
      "text/plain": [
       "'sil'"
      ]
     },
     "execution_count": 77,
     "metadata": {},
     "output_type": "execute_result"
    }
   ],
   "source": [
    "# start 2 and goto last and jump 2\n",
    "s[2::2]"
   ]
  },
  {
   "cell_type": "code",
   "execution_count": null,
   "id": "d44f4bf2",
   "metadata": {},
   "outputs": [
    {
     "ename": "ValueError",
     "evalue": "slice step cannot be zero",
     "output_type": "error",
     "traceback": [
      "\u001b[1;31m---------------------------------------------------------------------------\u001b[0m",
      "\u001b[1;31mValueError\u001b[0m                                Traceback (most recent call last)",
      "Cell \u001b[1;32mIn[78], line 1\u001b[0m\n\u001b[1;32m----> 1\u001b[0m s[\u001b[39m3\u001b[39;49m::\u001b[39m0\u001b[39;49m]\n",
      "\u001b[1;31mValueError\u001b[0m: slice step cannot be zero"
     ]
    }
   ],
   "source": [
    "# if jump not define or 0 then error \n",
    "s[3::0]"
   ]
  },
  {
   "cell_type": "code",
   "execution_count": null,
   "id": "492f7760",
   "metadata": {},
   "outputs": [
    {
     "data": {
      "text/plain": [
       "'sllikswp'"
      ]
     },
     "execution_count": 79,
     "metadata": {},
     "output_type": "execute_result"
    }
   ],
   "source": [
    "# reverse direction print\n",
    "s[::-1]"
   ]
  },
  {
   "cell_type": "code",
   "execution_count": null,
   "id": "f2887a83",
   "metadata": {},
   "outputs": [
    {
     "data": {
      "text/plain": [
       "''"
      ]
     },
     "execution_count": 90,
     "metadata": {},
     "output_type": "execute_result"
    }
   ],
   "source": [
    "s[2:7:-1]"
   ]
  },
  {
   "cell_type": "code",
   "execution_count": null,
   "id": "d30dca6b",
   "metadata": {},
   "outputs": [],
   "source": [
    "# -5 -4 -3 -2 -1 0 1 2 3 4 5 6 7"
   ]
  },
  {
   "cell_type": "code",
   "execution_count": null,
   "id": "264b80cf",
   "metadata": {},
   "outputs": [],
   "source": [
    "# 2 se start then going to 7 and run 2 to -1 jump then answer 0"
   ]
  },
  {
   "cell_type": "code",
   "execution_count": null,
   "id": "89133ac0",
   "metadata": {},
   "outputs": [
    {
     "data": {
      "text/plain": [
       "''"
      ]
     },
     "execution_count": 84,
     "metadata": {},
     "output_type": "execute_result"
    }
   ],
   "source": [
    "# means 8 se start and 0 end but jumping given 1 thats why result 1 \n",
    "s[8:0]"
   ]
  },
  {
   "cell_type": "code",
   "execution_count": null,
   "id": "965abe8a",
   "metadata": {},
   "outputs": [
    {
     "data": {
      "text/plain": [
       "'slliksw'"
      ]
     },
     "execution_count": 85,
     "metadata": {},
     "output_type": "execute_result"
    }
   ],
   "source": [
    "# 8 se start 0 tak gya isliye p nahi aaya kyoki rule uppderbound -1 \n",
    "s[8:0:-1]"
   ]
  },
  {
   "cell_type": "code",
   "execution_count": null,
   "id": "b256b635",
   "metadata": {},
   "outputs": [
    {
     "data": {
      "text/plain": [
       "'slkw'"
      ]
     },
     "execution_count": 91,
     "metadata": {},
     "output_type": "execute_result"
    }
   ],
   "source": [
    "s[8:0:-2]"
   ]
  },
  {
   "cell_type": "code",
   "execution_count": null,
   "id": "39bd2f59",
   "metadata": {},
   "outputs": [
    {
     "data": {
      "text/plain": [
       "''"
      ]
     },
     "execution_count": 94,
     "metadata": {},
     "output_type": "execute_result"
    }
   ],
   "source": [
    "# -2 se -8 tak but jump +2 so result 0\n",
    "s[-2:-8:2]"
   ]
  },
  {
   "cell_type": "code",
   "execution_count": null,
   "id": "c720bcbd",
   "metadata": {},
   "outputs": [
    {
     "data": {
      "text/plain": [
       "'lliksw'"
      ]
     },
     "execution_count": 95,
     "metadata": {},
     "output_type": "execute_result"
    }
   ],
   "source": [
    "# -2 se -8 tak but jump -1 so result \n",
    "s[-2:-8:-1]"
   ]
  },
  {
   "cell_type": "code",
   "execution_count": null,
   "id": "150bb293",
   "metadata": {},
   "outputs": [
    {
     "data": {
      "text/plain": [
       "'ll'"
      ]
     },
     "execution_count": 98,
     "metadata": {},
     "output_type": "execute_result"
    }
   ],
   "source": [
    "s[-3:-1]"
   ]
  },
  {
   "cell_type": "code",
   "execution_count": null,
   "id": "318be3b4",
   "metadata": {},
   "outputs": [
    {
     "data": {
      "text/plain": [
       "'sllikswp'"
      ]
     },
     "execution_count": 99,
     "metadata": {},
     "output_type": "execute_result"
    }
   ],
   "source": [
    "# automatic reverse wala index follow karega\n",
    "s[::-1]"
   ]
  },
  {
   "cell_type": "code",
   "execution_count": null,
   "id": "ff36bd11",
   "metadata": {},
   "outputs": [
    {
     "data": {
      "text/plain": [
       "'pwskills'"
      ]
     },
     "execution_count": 100,
     "metadata": {},
     "output_type": "execute_result"
    }
   ],
   "source": [
    "s[::1]"
   ]
  },
  {
   "cell_type": "code",
   "execution_count": null,
   "id": "7bd2984e",
   "metadata": {},
   "outputs": [
    {
     "data": {
      "text/plain": [
       "''"
      ]
     },
     "execution_count": 101,
     "metadata": {},
     "output_type": "execute_result"
    }
   ],
   "source": [
    "s[:-90:]"
   ]
  },
  {
   "cell_type": "code",
   "execution_count": null,
   "id": "aa8d137c",
   "metadata": {},
   "outputs": [
    {
     "ename": "IndexError",
     "evalue": "string index out of range",
     "output_type": "error",
     "traceback": [
      "\u001b[1;31m---------------------------------------------------------------------------\u001b[0m",
      "\u001b[1;31mIndexError\u001b[0m                                Traceback (most recent call last)",
      "Cell \u001b[1;32mIn[102], line 1\u001b[0m\n\u001b[1;32m----> 1\u001b[0m s[\u001b[39m90\u001b[39;49m]\n",
      "\u001b[1;31mIndexError\u001b[0m: string index out of range"
     ]
    }
   ],
   "source": [
    "s[90]"
   ]
  },
  {
   "cell_type": "code",
   "execution_count": null,
   "id": "f442a11d",
   "metadata": {},
   "outputs": [
    {
     "data": {
      "text/plain": [
       "'sllikswp'"
      ]
     },
     "execution_count": 113,
     "metadata": {},
     "output_type": "execute_result"
    }
   ],
   "source": [
    "# when slicing even upper bond not avail but result will ok\n",
    "s[:-90:-1]"
   ]
  },
  {
   "cell_type": "code",
   "execution_count": null,
   "id": "3c79b547",
   "metadata": {},
   "outputs": [],
   "source": [
    "s1 = \"this is my string class\""
   ]
  },
  {
   "cell_type": "code",
   "execution_count": null,
   "id": "f60312a7",
   "metadata": {},
   "outputs": [
    {
     "data": {
      "text/plain": [
       "'this is my string class'"
      ]
     },
     "execution_count": 109,
     "metadata": {},
     "output_type": "execute_result"
    }
   ],
   "source": [
    "s1"
   ]
  },
  {
   "cell_type": "code",
   "execution_count": null,
   "id": "23dfb500",
   "metadata": {},
   "outputs": [
    {
     "data": {
      "text/plain": [
       "23"
      ]
     },
     "execution_count": 110,
     "metadata": {},
     "output_type": "execute_result"
    }
   ],
   "source": [
    "# get length inbuild function\n",
    "len(s1)"
   ]
  },
  {
   "cell_type": "code",
   "execution_count": null,
   "id": "d7a90ea1",
   "metadata": {},
   "outputs": [
    {
     "data": {
      "text/plain": [
       "3"
      ]
     },
     "execution_count": 114,
     "metadata": {},
     "output_type": "execute_result"
    }
   ],
   "source": [
    "s1.find('s')"
   ]
  },
  {
   "cell_type": "code",
   "execution_count": null,
   "id": "19eca752",
   "metadata": {},
   "outputs": [],
   "source": [
    "# find forward direction s "
   ]
  },
  {
   "cell_type": "code",
   "execution_count": null,
   "id": "8550b35a",
   "metadata": {},
   "outputs": [
    {
     "data": {
      "text/plain": [
       "2"
      ]
     },
     "execution_count": 116,
     "metadata": {},
     "output_type": "execute_result"
    }
   ],
   "source": [
    "s1.find('i')"
   ]
  },
  {
   "cell_type": "code",
   "execution_count": null,
   "id": "1c3f93ce",
   "metadata": {},
   "outputs": [
    {
     "data": {
      "text/plain": [
       "2"
      ]
     },
     "execution_count": 117,
     "metadata": {},
     "output_type": "execute_result"
    }
   ],
   "source": [
    "s1.find('is')"
   ]
  },
  {
   "cell_type": "code",
   "execution_count": null,
   "id": "bd1eec04",
   "metadata": {},
   "outputs": [
    {
     "data": {
      "text/plain": [
       "-1"
      ]
     },
     "execution_count": 118,
     "metadata": {},
     "output_type": "execute_result"
    }
   ],
   "source": [
    "s1.find('iS')"
   ]
  },
  {
   "cell_type": "code",
   "execution_count": null,
   "id": "4be26870",
   "metadata": {},
   "outputs": [],
   "source": [
    "# capital S is not available that why -1 result in python"
   ]
  },
  {
   "cell_type": "code",
   "execution_count": null,
   "id": "4971d20a",
   "metadata": {},
   "outputs": [
    {
     "data": {
      "text/plain": [
       "5"
      ]
     },
     "execution_count": 120,
     "metadata": {},
     "output_type": "execute_result"
    }
   ],
   "source": [
    "s1.count('s')"
   ]
  },
  {
   "cell_type": "code",
   "execution_count": null,
   "id": "f02ef834",
   "metadata": {},
   "outputs": [
    {
     "data": {
      "text/plain": [
       "1"
      ]
     },
     "execution_count": 121,
     "metadata": {},
     "output_type": "execute_result"
    }
   ],
   "source": [
    "s1.count(\"st\")"
   ]
  },
  {
   "cell_type": "code",
   "execution_count": null,
   "id": "a9d6b0e8",
   "metadata": {},
   "outputs": [
    {
     "data": {
      "text/plain": [
       "0"
      ]
     },
     "execution_count": 122,
     "metadata": {},
     "output_type": "execute_result"
    }
   ],
   "source": [
    "s1.count(\"z\")"
   ]
  },
  {
   "cell_type": "code",
   "execution_count": null,
   "id": "074d5621",
   "metadata": {},
   "outputs": [
    {
     "data": {
      "text/plain": [
       "'THIS IS MY STRING CLASS'"
      ]
     },
     "execution_count": 123,
     "metadata": {},
     "output_type": "execute_result"
    }
   ],
   "source": [
    "s1.upper()"
   ]
  },
  {
   "cell_type": "code",
   "execution_count": null,
   "id": "346cc7cb",
   "metadata": {},
   "outputs": [
    {
     "data": {
      "text/plain": [
       "'this is my string class'"
      ]
     },
     "execution_count": 124,
     "metadata": {},
     "output_type": "execute_result"
    }
   ],
   "source": [
    "s1.lower()"
   ]
  },
  {
   "cell_type": "code",
   "execution_count": null,
   "id": "5e20dedc",
   "metadata": {},
   "outputs": [
    {
     "data": {
      "text/plain": [
       "'This Is My String Class'"
      ]
     },
     "execution_count": 5,
     "metadata": {},
     "output_type": "execute_result"
    }
   ],
   "source": [
    "# sare letter ke first letter ko capital karega\n",
    "s1.title()"
   ]
  },
  {
   "cell_type": "code",
   "execution_count": null,
   "id": "842fc77f",
   "metadata": {},
   "outputs": [
    {
     "data": {
      "text/plain": [
       "'This is my string class'"
      ]
     },
     "execution_count": 7,
     "metadata": {},
     "output_type": "execute_result"
    }
   ],
   "source": [
    "# only first letter ko capital karega\n",
    "s1.capitalize()"
   ]
  },
  {
   "cell_type": "code",
   "execution_count": null,
   "id": "09863620",
   "metadata": {},
   "outputs": [
    {
     "ename": "TypeError",
     "evalue": "can only concatenate str (not \"int\") to str",
     "output_type": "error",
     "traceback": [
      "\u001b[1;31m---------------------------------------------------------------------------\u001b[0m",
      "\u001b[1;31mTypeError\u001b[0m                                 Traceback (most recent call last)",
      "Cell \u001b[1;32mIn[8], line 1\u001b[0m\n\u001b[1;32m----> 1\u001b[0m s1 \u001b[39m+\u001b[39;49m \u001b[39m1\u001b[39;49m\n",
      "\u001b[1;31mTypeError\u001b[0m: can only concatenate str (not \"int\") to str"
     ]
    }
   ],
   "source": [
    "#can only concatenate str (not \"int\") to str\n",
    "s1 + 1"
   ]
  },
  {
   "cell_type": "code",
   "execution_count": null,
   "id": "2c090b3c",
   "metadata": {},
   "outputs": [
    {
     "data": {
      "text/plain": [
       "'this is my string class ramjee'"
      ]
     },
     "execution_count": 10,
     "metadata": {},
     "output_type": "execute_result"
    }
   ],
   "source": [
    "s1 + \" ramjee\""
   ]
  },
  {
   "cell_type": "code",
   "execution_count": null,
   "id": "a725de8f",
   "metadata": {},
   "outputs": [],
   "source": [
    "# str and str concat ok"
   ]
  },
  {
   "cell_type": "code",
   "execution_count": null,
   "id": "f03b9b5f",
   "metadata": {},
   "outputs": [
    {
     "data": {
      "text/plain": [
       "'this is my string class1'"
      ]
     },
     "execution_count": 12,
     "metadata": {},
     "output_type": "execute_result"
    }
   ],
   "source": [
    "s1 + '1'"
   ]
  },
  {
   "cell_type": "code",
   "execution_count": null,
   "id": "035f1521",
   "metadata": {},
   "outputs": [
    {
     "data": {
      "text/plain": [
       "'this is my string classthis is my string classthis is my string class'"
      ]
     },
     "execution_count": 13,
     "metadata": {},
     "output_type": "execute_result"
    }
   ],
   "source": [
    "#multiply will repeat\n",
    "s1*3"
   ]
  },
  {
   "cell_type": "code",
   "execution_count": null,
   "id": "2ed4c90a",
   "metadata": {},
   "outputs": [
    {
     "ename": "SyntaxError",
     "evalue": "unterminated string literal (detected at line 1) (1735703452.py, line 1)",
     "output_type": "error",
     "traceback": [
      "\u001b[1;36m  Cell \u001b[1;32mIn[14], line 1\u001b[1;36m\u001b[0m\n\u001b[1;33m    'don't copy paste code '\u001b[0m\n\u001b[1;37m                           ^\u001b[0m\n\u001b[1;31mSyntaxError\u001b[0m\u001b[1;31m:\u001b[0m unterminated string literal (detected at line 1)\n"
     ]
    }
   ],
   "source": [
    "'don't copy paste code '"
   ]
  },
  {
   "cell_type": "code",
   "execution_count": null,
   "id": "0d270ba9",
   "metadata": {},
   "outputs": [
    {
     "data": {
      "text/plain": [
       "\"don't copy paste code \""
      ]
     },
     "execution_count": 15,
     "metadata": {},
     "output_type": "execute_result"
    }
   ],
   "source": [
    "# use double quote or vice versa\n",
    "\"don't copy paste code \""
   ]
  },
  {
   "cell_type": "code",
   "execution_count": null,
   "id": "80fca797",
   "metadata": {},
   "outputs": [
    {
     "data": {
      "text/plain": [
       "'don\"t copy paste code'"
      ]
     },
     "execution_count": 16,
     "metadata": {},
     "output_type": "execute_result"
    }
   ],
   "source": [
    "# doble quote inside ok but not correct result\n",
    "'don\"t copy paste code'"
   ]
  },
  {
   "cell_type": "code",
   "execution_count": null,
   "id": "3f655153",
   "metadata": {},
   "outputs": [
    {
     "data": {
      "text/plain": [
       "'i have learnt variable declation , data type, string, int, boolean, complex numbe\\ni have seen some example of string slicing and indexing\\ni have gone through some of the string inbuild function'"
      ]
     },
     "execution_count": 17,
     "metadata": {},
     "output_type": "execute_result"
    }
   ],
   "source": [
    "'''i have learnt variable declation , data type, string, int, boolean, complex numbe\n",
    "i have seen some example of string slicing and indexing\n",
    "i have gone through some of the string inbuild function'''"
   ]
  },
  {
   "cell_type": "code",
   "execution_count": null,
   "id": "0496046a",
   "metadata": {},
   "outputs": [
    {
     "data": {
      "text/plain": [
       "'i have learnt variable declation , data type, string, int, boolean, complex numbe\\ni have seen some example of string slicing and indexing\\ni have gone through some of the string inbuild function '"
      ]
     },
     "execution_count": 18,
     "metadata": {},
     "output_type": "execute_result"
    }
   ],
   "source": [
    "\"\"\"i have learnt variable declation , data type, string, int, boolean, complex numbe\n",
    "i have seen some example of string slicing and indexing\n",
    "i have gone through some of the string inbuild function \"\"\""
   ]
  },
  {
   "cell_type": "code",
   "execution_count": null,
   "id": "682a3826",
   "metadata": {},
   "outputs": [],
   "source": [
    "#single quote ''' or double quote \"\"\" three times for multiple line comment or use ctr /"
   ]
  },
  {
   "cell_type": "code",
   "execution_count": null,
   "id": "b21046b6",
   "metadata": {},
   "outputs": [],
   "source": [
    "# i have learnt variable declation , data type, string, int, boolean, complex numbe\n",
    "# i have seen some example of string slicing and indexing\n",
    "# i have gone through some of the string inbuild function"
   ]
  },
  {
   "cell_type": "code",
   "execution_count": null,
   "id": "b7390e09",
   "metadata": {},
   "outputs": [],
   "source": []
  }
 ],
 "metadata": {
  "kernelspec": {
   "display_name": "Python 3 (ipykernel)",
   "language": "python",
   "name": "python3"
  },
  "language_info": {
   "codemirror_mode": {
    "name": "ipython",
    "version": 3
   },
   "file_extension": ".py",
   "mimetype": "text/x-python",
   "name": "python",
   "nbconvert_exporter": "python",
   "pygments_lexer": "ipython3",
   "version": "3.11.4"
  }
 },
 "nbformat": 4,
 "nbformat_minor": 5
}
