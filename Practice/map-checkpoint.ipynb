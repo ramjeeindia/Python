{
 "cells": [
  {
   "cell_type": "markdown",
   "id": "20c87666-3e78-4b84-b7a0-263c1df81082",
   "metadata": {},
   "source": [
    "# map"
   ]
  },
  {
   "cell_type": "code",
   "execution_count": 1,
   "id": "18d74395-db99-4ecb-b03e-128012c614e5",
   "metadata": {},
   "outputs": [],
   "source": [
    "l = [2,3,4,5,6]"
   ]
  },
  {
   "cell_type": "code",
   "execution_count": 7,
   "id": "28c11fe6-9555-4cd0-aa9b-26e7e3668c75",
   "metadata": {},
   "outputs": [],
   "source": [
    "# operation with each item\n",
    "l = [2,3,4,5,6]\n",
    "def test(l):\n",
    "    li = []\n",
    "    for i in l:\n",
    "        li.append(i ** 2) # sq of each ele\n",
    "    return li\n"
   ]
  },
  {
   "cell_type": "code",
   "execution_count": 8,
   "id": "c18b544e-c8c1-44e2-b3cc-acacc3f0e305",
   "metadata": {},
   "outputs": [
    {
     "data": {
      "text/plain": [
       "[4, 9, 16, 25, 36]"
      ]
     },
     "execution_count": 8,
     "metadata": {},
     "output_type": "execute_result"
    }
   ],
   "source": [
    "test(l)"
   ]
  },
  {
   "cell_type": "code",
   "execution_count": 10,
   "id": "53f53df5-545b-474c-9f03-bb0751feeecc",
   "metadata": {},
   "outputs": [],
   "source": [
    "map()"
   ]
  },
  {
   "cell_type": "code",
   "execution_count": 11,
   "id": "f570e2d6-a29e-4a47-8f44-321b4cef5a93",
   "metadata": {},
   "outputs": [],
   "source": [
    "def sq(x):\n",
    "    return x**2 # jo call krana hai each ele ko"
   ]
  },
  {
   "cell_type": "code",
   "execution_count": 12,
   "id": "ea13ad30-1fa7-49f0-a76a-34816056a0ee",
   "metadata": {},
   "outputs": [
    {
     "data": {
      "text/plain": [
       "<map at 0x1eaec031060>"
      ]
     },
     "execution_count": 12,
     "metadata": {},
     "output_type": "execute_result"
    }
   ],
   "source": [
    "map(sq,l)"
   ]
  },
  {
   "cell_type": "code",
   "execution_count": 13,
   "id": "5af157b1-e565-4760-9bd3-80ded16b96bd",
   "metadata": {},
   "outputs": [
    {
     "data": {
      "text/plain": [
       "[4, 9, 16, 25, 36]"
      ]
     },
     "execution_count": 13,
     "metadata": {},
     "output_type": "execute_result"
    }
   ],
   "source": [
    "list(map(sq,l))"
   ]
  },
  {
   "cell_type": "code",
   "execution_count": 14,
   "id": "dedcf269-35ea-4083-ac65-b15bbe9007e7",
   "metadata": {},
   "outputs": [
    {
     "data": {
      "text/plain": [
       "[4, 9, 16, 25, 36]"
      ]
     },
     "execution_count": 14,
     "metadata": {},
     "output_type": "execute_result"
    }
   ],
   "source": [
    "# map in lambda\n",
    "list(map(lambda x : x**2,l))"
   ]
  },
  {
   "cell_type": "code",
   "execution_count": 16,
   "id": "002c3a42-4cb5-4d0d-ba83-9a6e1280423d",
   "metadata": {},
   "outputs": [
    {
     "data": {
      "text/plain": [
       "[7, 9, 11, 13, 15]"
      ]
     },
     "execution_count": 16,
     "metadata": {},
     "output_type": "execute_result"
    }
   ],
   "source": [
    "l1 = [1,2,3,4,5]\n",
    "l2 = [6,7,8,9,10]\n",
    "# l1 and l2 ko lekar 1+6 then 2+7 kare \n",
    "list(map(lambda x, y : x+y, l1,l2)) # ek bar x se lega ek bar y se lega map"
   ]
  },
  {
   "cell_type": "code",
   "execution_count": 17,
   "id": "2151d17d-d419-4b4e-8e42-306fd6d02643",
   "metadata": {},
   "outputs": [],
   "source": [
    "def add(x,y):\n",
    "    return x+y"
   ]
  },
  {
   "cell_type": "code",
   "execution_count": 18,
   "id": "e2cd909e-d430-4055-abbf-135792a5feac",
   "metadata": {},
   "outputs": [
    {
     "data": {
      "text/plain": [
       "[7, 9, 11, 13, 15]"
      ]
     },
     "execution_count": 18,
     "metadata": {},
     "output_type": "execute_result"
    }
   ],
   "source": [
    "list(map(add,l1,l2)) # normal function se v output "
   ]
  },
  {
   "cell_type": "code",
   "execution_count": 21,
   "id": "ffa9c95f-ec44-4a06-8b56-8187a8515df1",
   "metadata": {},
   "outputs": [
    {
     "data": {
      "text/plain": [
       "['R', 'A', 'M', 'J', 'E', 'E']"
      ]
     },
     "execution_count": 21,
     "metadata": {},
     "output_type": "execute_result"
    }
   ],
   "source": [
    "s = \"ramjee\"\n",
    "list(map(lambda s : s.upper(),s)) # upper case"
   ]
  },
  {
   "cell_type": "markdown",
   "id": "f7a92d93-c0b0-410f-8915-9ab25b43e904",
   "metadata": {},
   "source": [
    "# reduce"
   ]
  },
  {
   "cell_type": "code",
   "execution_count": 23,
   "id": "5be0b66b-9f18-48d8-82e2-281ddf7dacb3",
   "metadata": {},
   "outputs": [],
   "source": [
    "# reduce ko call krna padta hai\n",
    "from functools import reduce"
   ]
  },
  {
   "cell_type": "code",
   "execution_count": 24,
   "id": "da6dfc2e-94a2-4c9a-9ee6-ff1db7010f3c",
   "metadata": {},
   "outputs": [],
   "source": [
    "l = [1,2,3,4,5] # summation of each ele sare ko collabse karke ek sigle result deta hai reduce"
   ]
  },
  {
   "cell_type": "code",
   "execution_count": 25,
   "id": "c0b26691-f126-4440-94a8-8f02a65e9c24",
   "metadata": {},
   "outputs": [
    {
     "data": {
      "text/plain": [
       "120"
      ]
     },
     "execution_count": 25,
     "metadata": {},
     "output_type": "execute_result"
    }
   ],
   "source": [
    "reduce(lambda x,y: x*y,l) # pahle 1 x hoga then 2 y hoga  phir 1+2 x ho jayega aur 3 y hoga"
   ]
  },
  {
   "cell_type": "code",
   "execution_count": null,
   "id": "d7c75967-2f6c-47cb-8b44-816fdd56aa11",
   "metadata": {},
   "outputs": [],
   "source": [
    "# two para meter hi lete hai x  ,y, z  nahi hoga kyoki last me z nahi milega "
   ]
  },
  {
   "cell_type": "code",
   "execution_count": 26,
   "id": "0eebc909-6db1-4410-b932-199a17cc10d0",
   "metadata": {},
   "outputs": [
    {
     "data": {
      "text/plain": [
       "1"
      ]
     },
     "execution_count": 26,
     "metadata": {},
     "output_type": "execute_result"
    }
   ],
   "source": [
    "reduce(lambda x,y: x*y,[1])"
   ]
  },
  {
   "cell_type": "code",
   "execution_count": 27,
   "id": "25d9ea3f-5ed7-4034-bb14-f8e011be7063",
   "metadata": {},
   "outputs": [],
   "source": [
    "# ye ek da kam kar jata hai"
   ]
  },
  {
   "cell_type": "code",
   "execution_count": 28,
   "id": "79c40c53-42cb-43d4-b75c-580bd6ea70d5",
   "metadata": {},
   "outputs": [
    {
     "data": {
      "text/plain": [
       "120"
      ]
     },
     "execution_count": 28,
     "metadata": {},
     "output_type": "execute_result"
    }
   ],
   "source": [
    "reduce(lambda x,y: x*y,l) # multiply"
   ]
  },
  {
   "cell_type": "code",
   "execution_count": 29,
   "id": "b70968b2-3410-4118-9466-3bc32f04a768",
   "metadata": {},
   "outputs": [
    {
     "data": {
      "text/plain": [
       "5"
      ]
     },
     "execution_count": 29,
     "metadata": {},
     "output_type": "execute_result"
    }
   ],
   "source": [
    "reduce(lambda x,y:x if x>y else y,l) # max "
   ]
  },
  {
   "cell_type": "code",
   "execution_count": 30,
   "id": "d0ed3e23-ecc7-4972-a3bb-dc4a15553386",
   "metadata": {},
   "outputs": [],
   "source": [
    "# check karega x bda hai kya then yadi hoga to aise hi compare karega"
   ]
  },
  {
   "cell_type": "markdown",
   "id": "800a14ce-a9ce-482a-8dce-b6fe51cd0375",
   "metadata": {},
   "source": [
    "# filter"
   ]
  },
  {
   "cell_type": "code",
   "execution_count": 31,
   "id": "471cade7-29fc-4be6-b4a3-ecb4a460efea",
   "metadata": {},
   "outputs": [
    {
     "data": {
      "text/plain": [
       "[1, 2, 3, 4, 5]"
      ]
     },
     "execution_count": 31,
     "metadata": {},
     "output_type": "execute_result"
    }
   ],
   "source": [
    "l"
   ]
  },
  {
   "cell_type": "code",
   "execution_count": 32,
   "id": "c995d130-a04b-47ee-9ff9-7070ae1d2482",
   "metadata": {},
   "outputs": [
    {
     "data": {
      "text/plain": [
       "[2, 4]"
      ]
     },
     "execution_count": 32,
     "metadata": {},
     "output_type": "execute_result"
    }
   ],
   "source": [
    "# filter even no\n",
    "list(filter(lambda x: x%2 ==0,l))"
   ]
  },
  {
   "cell_type": "code",
   "execution_count": 33,
   "id": "bf444e91-65c4-4e00-b024-f419c742c24f",
   "metadata": {},
   "outputs": [
    {
     "data": {
      "text/plain": [
       "[1, 3, 5]"
      ]
     },
     "execution_count": 33,
     "metadata": {},
     "output_type": "execute_result"
    }
   ],
   "source": [
    "list(filter(lambda x: x%2 !=0,l)) # odd no"
   ]
  },
  {
   "cell_type": "code",
   "execution_count": 34,
   "id": "3a01956b-4f54-4364-bedb-8928539f7dee",
   "metadata": {},
   "outputs": [],
   "source": [
    "l1= [-3,4,5,6,-1,-5]"
   ]
  },
  {
   "cell_type": "code",
   "execution_count": 35,
   "id": "0d5103ff-0fdc-4a40-a607-bc44234239af",
   "metadata": {},
   "outputs": [
    {
     "data": {
      "text/plain": [
       "[-3, -1, -5]"
      ]
     },
     "execution_count": 35,
     "metadata": {},
     "output_type": "execute_result"
    }
   ],
   "source": [
    "list(filter(lambda x:x<0,l1)) # neg no filter"
   ]
  },
  {
   "cell_type": "code",
   "execution_count": 37,
   "id": "172df5f5-c135-48a5-9415-25d54b77f1ca",
   "metadata": {},
   "outputs": [],
   "source": [
    "l2 = [\"ramjee\", \"pwskills\",\"singh\",\"delhi\",\"india\"]"
   ]
  },
  {
   "cell_type": "code",
   "execution_count": 38,
   "id": "9f7276f6-bed2-45f3-809e-9e1f0b478d56",
   "metadata": {},
   "outputs": [
    {
     "data": {
      "text/plain": [
       "['singh', 'delhi', 'india']"
      ]
     },
     "execution_count": 38,
     "metadata": {},
     "output_type": "execute_result"
    }
   ],
   "source": [
    "# filter less than 6 char str\n",
    "list(filter(lambda x: len(x)<6 ,l2))"
   ]
  },
  {
   "cell_type": "code",
   "execution_count": null,
   "id": "a6185b91-dc81-42bf-b376-d1cdc1f1130d",
   "metadata": {},
   "outputs": [],
   "source": []
  }
 ],
 "metadata": {
  "kernelspec": {
   "display_name": "Python 3 (ipykernel)",
   "language": "python",
   "name": "python3"
  },
  "language_info": {
   "codemirror_mode": {
    "name": "ipython",
    "version": 3
   },
   "file_extension": ".py",
   "mimetype": "text/x-python",
   "name": "python",
   "nbconvert_exporter": "python",
   "pygments_lexer": "ipython3",
   "version": "3.11.4"
  }
 },
 "nbformat": 4,
 "nbformat_minor": 5
}
