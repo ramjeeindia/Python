{
 "cells": [
  {
   "cell_type": "code",
   "execution_count": 1,
   "metadata": {},
   "outputs": [],
   "source": [
    "## Class 24 Sept Python"
   ]
  },
  {
   "cell_type": "code",
   "execution_count": 2,
   "metadata": {},
   "outputs": [
    {
     "data": {
      "text/plain": [
       "6"
      ]
     },
     "execution_count": 2,
     "metadata": {},
     "output_type": "execute_result"
    }
   ],
   "source": [
    "s = \"ramjee\"\n",
    "len(s)"
   ]
  },
  {
   "cell_type": "code",
   "execution_count": 3,
   "metadata": {},
   "outputs": [],
   "source": [
    "# using recursion len\n",
    "def find_len(s):\n",
    "    if s==\"\":\n",
    "        return 0\n",
    "    else:\n",
    "        return 1+find_len(s[1:])   # 1 + go to 1st index"
   ]
  },
  {
   "cell_type": "code",
   "execution_count": 5,
   "metadata": {},
   "outputs": [
    {
     "data": {
      "text/plain": [
       "5"
      ]
     },
     "execution_count": 5,
     "metadata": {},
     "output_type": "execute_result"
    }
   ],
   "source": [
    "find_len(\"singh\")"
   ]
  },
  {
   "cell_type": "code",
   "execution_count": 6,
   "metadata": {},
   "outputs": [
    {
     "data": {
      "text/plain": [
       "'eejmar'"
      ]
     },
     "execution_count": 6,
     "metadata": {},
     "output_type": "execute_result"
    }
   ],
   "source": [
    "s[::-1]"
   ]
  },
  {
   "cell_type": "code",
   "execution_count": 7,
   "metadata": {},
   "outputs": [],
   "source": [
    "# using recursion reversal\n",
    "def find_reverse(s):\n",
    "    if s==\"\":\n",
    "        return \"\"\n",
    "    else:\n",
    "        return find_reverse(s[1:])+s[0]  # go to first and then oth index"
   ]
  },
  {
   "cell_type": "code",
   "execution_count": 8,
   "metadata": {},
   "outputs": [
    {
     "data": {
      "text/plain": [
       "'sllikswp'"
      ]
     },
     "execution_count": 8,
     "metadata": {},
     "output_type": "execute_result"
    }
   ],
   "source": [
    "find_reverse(\"pwskills\")"
   ]
  },
  {
   "cell_type": "code",
   "execution_count": 9,
   "metadata": {},
   "outputs": [],
   "source": [
    "o = \"hrjahadhvsgks\"  # no of oocuange of charater \n"
   ]
  },
  {
   "cell_type": "code",
   "execution_count": 10,
   "metadata": {},
   "outputs": [],
   "source": [
    "# base case if str is emplty then return 0\n",
    "def find_char_count(o,c):\n",
    "    if o==\"\":\n",
    "        return 0\n",
    "    elif o[0]==c:\n",
    "        return 1+ find_char_count(o[1:],c)\n",
    "    else:\n",
    "        return find_char_count(o[1:],c)"
   ]
  },
  {
   "cell_type": "code",
   "execution_count": 11,
   "metadata": {},
   "outputs": [
    {
     "data": {
      "text/plain": [
       "2"
      ]
     },
     "execution_count": 11,
     "metadata": {},
     "output_type": "execute_result"
    }
   ],
   "source": [
    "find_char_count(o,\"a\")"
   ]
  },
  {
   "cell_type": "code",
   "execution_count": 12,
   "metadata": {},
   "outputs": [
    {
     "data": {
      "text/plain": [
       "0"
      ]
     },
     "execution_count": 12,
     "metadata": {},
     "output_type": "execute_result"
    }
   ],
   "source": [
    "find_char_count(o,\"z\")"
   ]
  },
  {
   "cell_type": "code",
   "execution_count": 13,
   "metadata": {},
   "outputs": [
    {
     "data": {
      "text/plain": [
       "2"
      ]
     },
     "execution_count": 13,
     "metadata": {},
     "output_type": "execute_result"
    }
   ],
   "source": [
    "find_char_count(o,\"s\")"
   ]
  },
  {
   "cell_type": "code",
   "execution_count": 14,
   "metadata": {},
   "outputs": [],
   "source": [
    "l = [4,,6,5,7]  # sorted or not sorted"
   ]
  },
  {
   "cell_type": "code",
   "execution_count": 16,
   "metadata": {},
   "outputs": [],
   "source": [
    "def check_sort_list(l):\n",
    "    if len(l)<1:\n",
    "        return True\n",
    "    elif l[0] > l[1]:  # go over this check 4> 5 if false go to else  then againt 6>5 then give true\n",
    "        return False\n",
    "    else:\n",
    "        return check_sort_list(l[1:])\n",
    "        "
   ]
  },
  {
   "cell_type": "code",
   "execution_count": 17,
   "metadata": {},
   "outputs": [
    {
     "data": {
      "text/plain": [
       "False"
      ]
     },
     "execution_count": 17,
     "metadata": {},
     "output_type": "execute_result"
    }
   ],
   "source": [
    "check_sort_list(l)"
   ]
  },
  {
   "cell_type": "code",
   "execution_count": null,
   "metadata": {},
   "outputs": [],
   "source": [
    "# perfect sq of sum nos\n",
    "9\n",
    "8\n",
    "16 yes\n",
    "25 yes\n",
    "5 no\n"
   ]
  },
  {
   "cell_type": "code",
   "execution_count": 21,
   "metadata": {},
   "outputs": [],
   "source": [
    "def check_per_square(n, start=1):\n",
    "    if n==start **2:\n",
    "        return True\n",
    "    elif n < start **2:\n",
    "        return False\n",
    "    else :\n",
    "        return check_per_square(n,start+1)\n",
    "    "
   ]
  },
  {
   "cell_type": "code",
   "execution_count": 22,
   "metadata": {},
   "outputs": [
    {
     "data": {
      "text/plain": [
       "True"
      ]
     },
     "execution_count": 22,
     "metadata": {},
     "output_type": "execute_result"
    }
   ],
   "source": [
    "check_per_square(9)"
   ]
  },
  {
   "cell_type": "code",
   "execution_count": 23,
   "metadata": {},
   "outputs": [
    {
     "data": {
      "text/plain": [
       "True"
      ]
     },
     "execution_count": 23,
     "metadata": {},
     "output_type": "execute_result"
    }
   ],
   "source": [
    "check_per_square(64)"
   ]
  },
  {
   "cell_type": "code",
   "execution_count": 24,
   "metadata": {},
   "outputs": [
    {
     "data": {
      "text/plain": [
       "False"
      ]
     },
     "execution_count": 24,
     "metadata": {},
     "output_type": "execute_result"
    }
   ],
   "source": [
    "check_per_square(6)"
   ]
  },
  {
   "cell_type": "code",
   "execution_count": 25,
   "metadata": {},
   "outputs": [],
   "source": [
    "# itrators and itrable\n",
    "l =[1,3,4,4,5,7]\n",
    "a=10\n",
    "s= \"ramjee\""
   ]
  },
  {
   "cell_type": "code",
   "execution_count": 26,
   "metadata": {},
   "outputs": [
    {
     "name": "stdout",
     "output_type": "stream",
     "text": [
      "1\n",
      "3\n",
      "4\n",
      "4\n",
      "5\n",
      "7\n"
     ]
    }
   ],
   "source": [
    "for i in l:\n",
    "    print (i)"
   ]
  },
  {
   "cell_type": "code",
   "execution_count": 27,
   "metadata": {},
   "outputs": [
    {
     "name": "stdout",
     "output_type": "stream",
     "text": [
      "r\n",
      "a\n",
      "m\n",
      "j\n",
      "e\n",
      "e\n"
     ]
    }
   ],
   "source": [
    "for i in s:\n",
    "    print(i)"
   ]
  },
  {
   "cell_type": "code",
   "execution_count": 28,
   "metadata": {},
   "outputs": [
    {
     "ename": "TypeError",
     "evalue": "'int' object is not iterable",
     "output_type": "error",
     "traceback": [
      "\u001b[1;31m---------------------------------------------------------------------------\u001b[0m",
      "\u001b[1;31mTypeError\u001b[0m                                 Traceback (most recent call last)",
      "\u001b[1;32md:\\Data Science\\Python Coding\\Class\\24_sept.ipynb Cell 24\u001b[0m line \u001b[0;36m1\n\u001b[1;32m----> <a href='vscode-notebook-cell:/d%3A/Data%20Science/Python%20Coding/Class/24_sept.ipynb#X32sZmlsZQ%3D%3D?line=0'>1</a>\u001b[0m \u001b[39mfor\u001b[39;00m i \u001b[39min\u001b[39;00m a:\n\u001b[0;32m      <a href='vscode-notebook-cell:/d%3A/Data%20Science/Python%20Coding/Class/24_sept.ipynb#X32sZmlsZQ%3D%3D?line=1'>2</a>\u001b[0m     \u001b[39mprint\u001b[39m(i)\n",
      "\u001b[1;31mTypeError\u001b[0m: 'int' object is not iterable"
     ]
    }
   ],
   "source": [
    "for i in a: #'int' object is not iterable\n",
    "    print(i)"
   ]
  },
  {
   "cell_type": "code",
   "execution_count": 29,
   "metadata": {},
   "outputs": [
    {
     "ename": "TypeError",
     "evalue": "'int' object is not iterable",
     "output_type": "error",
     "traceback": [
      "\u001b[1;31m---------------------------------------------------------------------------\u001b[0m",
      "\u001b[1;31mTypeError\u001b[0m                                 Traceback (most recent call last)",
      "\u001b[1;32md:\\Data Science\\Python Coding\\Class\\24_sept.ipynb Cell 25\u001b[0m line \u001b[0;36m1\n\u001b[1;32m----> <a href='vscode-notebook-cell:/d%3A/Data%20Science/Python%20Coding/Class/24_sept.ipynb#X33sZmlsZQ%3D%3D?line=0'>1</a>\u001b[0m \u001b[39miter\u001b[39;49m(\u001b[39m10\u001b[39;49m)\n",
      "\u001b[1;31mTypeError\u001b[0m: 'int' object is not iterable"
     ]
    }
   ],
   "source": [
    "iter(10)"
   ]
  },
  {
   "cell_type": "code",
   "execution_count": 30,
   "metadata": {},
   "outputs": [
    {
     "data": {
      "text/plain": [
       "<str_ascii_iterator at 0x2dba1b76320>"
      ]
     },
     "execution_count": 30,
     "metadata": {},
     "output_type": "execute_result"
    }
   ],
   "source": [
    "iter(s)"
   ]
  },
  {
   "cell_type": "code",
   "execution_count": 31,
   "metadata": {},
   "outputs": [
    {
     "data": {
      "text/plain": [
       "['r', 'a', 'm', 'j', 'e', 'e']"
      ]
     },
     "execution_count": 31,
     "metadata": {},
     "output_type": "execute_result"
    }
   ],
   "source": [
    "list(iter(s))"
   ]
  },
  {
   "cell_type": "code",
   "execution_count": 32,
   "metadata": {},
   "outputs": [],
   "source": [
    "s1 = iter(s)"
   ]
  },
  {
   "cell_type": "code",
   "execution_count": 33,
   "metadata": {},
   "outputs": [
    {
     "data": {
      "text/plain": [
       "<str_ascii_iterator at 0x2dba19729e0>"
      ]
     },
     "execution_count": 33,
     "metadata": {},
     "output_type": "execute_result"
    }
   ],
   "source": [
    "s1"
   ]
  },
  {
   "cell_type": "code",
   "execution_count": 34,
   "metadata": {},
   "outputs": [
    {
     "data": {
      "text/plain": [
       "'r'"
      ]
     },
     "execution_count": 34,
     "metadata": {},
     "output_type": "execute_result"
    }
   ],
   "source": [
    "next(s1) # this will show how for loop is working"
   ]
  },
  {
   "cell_type": "code",
   "execution_count": 35,
   "metadata": {},
   "outputs": [
    {
     "data": {
      "text/plain": [
       "'a'"
      ]
     },
     "execution_count": 35,
     "metadata": {},
     "output_type": "execute_result"
    }
   ],
   "source": [
    "next(s1)"
   ]
  },
  {
   "cell_type": "code",
   "execution_count": 36,
   "metadata": {},
   "outputs": [
    {
     "data": {
      "text/plain": [
       "'m'"
      ]
     },
     "execution_count": 36,
     "metadata": {},
     "output_type": "execute_result"
    }
   ],
   "source": [
    "next(s1)"
   ]
  },
  {
   "cell_type": "code",
   "execution_count": 37,
   "metadata": {},
   "outputs": [],
   "source": [
    "s2 =\"pwskills\""
   ]
  },
  {
   "cell_type": "code",
   "execution_count": 44,
   "metadata": {},
   "outputs": [],
   "source": [
    "str2=iter(s2)"
   ]
  },
  {
   "cell_type": "code",
   "execution_count": 39,
   "metadata": {},
   "outputs": [
    {
     "name": "stdout",
     "output_type": "stream",
     "text": [
      "p\n",
      "w\n",
      "s\n",
      "k\n",
      "i\n",
      "l\n",
      "l\n",
      "s\n"
     ]
    }
   ],
   "source": [
    "for i in s2:\n",
    "    print(i)"
   ]
  },
  {
   "cell_type": "code",
   "execution_count": 40,
   "metadata": {},
   "outputs": [
    {
     "data": {
      "text/plain": [
       "<str_ascii_iterator at 0x2dba1d26e90>"
      ]
     },
     "execution_count": 40,
     "metadata": {},
     "output_type": "execute_result"
    }
   ],
   "source": [
    "iter(s2) # iter function convert in form of itarator if applicable then for loop using this machanism"
   ]
  },
  {
   "cell_type": "code",
   "execution_count": 45,
   "metadata": {},
   "outputs": [
    {
     "data": {
      "text/plain": [
       "'p'"
      ]
     },
     "execution_count": 45,
     "metadata": {},
     "output_type": "execute_result"
    }
   ],
   "source": [
    "next(str2)"
   ]
  },
  {
   "cell_type": "code",
   "execution_count": 46,
   "metadata": {},
   "outputs": [
    {
     "data": {
      "text/plain": [
       "'w'"
      ]
     },
     "execution_count": 46,
     "metadata": {},
     "output_type": "execute_result"
    }
   ],
   "source": [
    "next(str2)"
   ]
  },
  {
   "cell_type": "code",
   "execution_count": 47,
   "metadata": {},
   "outputs": [
    {
     "data": {
      "text/plain": [
       "'s'"
      ]
     },
     "execution_count": 47,
     "metadata": {},
     "output_type": "execute_result"
    }
   ],
   "source": [
    "next(str2)"
   ]
  },
  {
   "cell_type": "code",
   "execution_count": 43,
   "metadata": {},
   "outputs": [
    {
     "data": {
      "text/plain": [
       "<list_iterator at 0x2dba1d27100>"
      ]
     },
     "execution_count": 43,
     "metadata": {},
     "output_type": "execute_result"
    }
   ],
   "source": [
    "iter([3,8,6,5]) # list is iterable but signle int is not iterable"
   ]
  },
  {
   "cell_type": "code",
   "execution_count": 48,
   "metadata": {},
   "outputs": [],
   "source": [
    "num1 = iter([3,8,6,5])"
   ]
  },
  {
   "cell_type": "code",
   "execution_count": 49,
   "metadata": {},
   "outputs": [
    {
     "data": {
      "text/plain": [
       "3"
      ]
     },
     "execution_count": 49,
     "metadata": {},
     "output_type": "execute_result"
    }
   ],
   "source": [
    "next(num1)"
   ]
  },
  {
   "cell_type": "code",
   "execution_count": 50,
   "metadata": {},
   "outputs": [
    {
     "data": {
      "text/plain": [
       "8"
      ]
     },
     "execution_count": 50,
     "metadata": {},
     "output_type": "execute_result"
    }
   ],
   "source": [
    "next(num1)"
   ]
  },
  {
   "cell_type": "code",
   "execution_count": 51,
   "metadata": {},
   "outputs": [
    {
     "data": {
      "text/plain": [
       "6"
      ]
     },
     "execution_count": 51,
     "metadata": {},
     "output_type": "execute_result"
    }
   ],
   "source": [
    "next(num1)"
   ]
  },
  {
   "cell_type": "code",
   "execution_count": 52,
   "metadata": {},
   "outputs": [
    {
     "data": {
      "text/plain": [
       "5"
      ]
     },
     "execution_count": 52,
     "metadata": {},
     "output_type": "execute_result"
    }
   ],
   "source": [
    "next(num1)"
   ]
  },
  {
   "cell_type": "code",
   "execution_count": 53,
   "metadata": {},
   "outputs": [
    {
     "ename": "StopIteration",
     "evalue": "",
     "output_type": "error",
     "traceback": [
      "\u001b[1;31m---------------------------------------------------------------------------\u001b[0m",
      "\u001b[1;31mStopIteration\u001b[0m                             Traceback (most recent call last)",
      "\u001b[1;32md:\\Data Science\\Python Coding\\Class\\24_sept.ipynb Cell 46\u001b[0m line \u001b[0;36m1\n\u001b[1;32m----> <a href='vscode-notebook-cell:/d%3A/Data%20Science/Python%20Coding/Class/24_sept.ipynb#X63sZmlsZQ%3D%3D?line=0'>1</a>\u001b[0m \u001b[39mnext\u001b[39;49m(num1)\n",
      "\u001b[1;31mStopIteration\u001b[0m: "
     ]
    }
   ],
   "source": [
    "next(num1)"
   ]
  },
  {
   "cell_type": "code",
   "execution_count": 54,
   "metadata": {},
   "outputs": [
    {
     "name": "stdout",
     "output_type": "stream",
     "text": [
      "2\n",
      "3\n",
      "5\n",
      "7\n",
      "8\n",
      "9\n"
     ]
    }
   ],
   "source": [
    "for i in {2,3,5,8,7,9}: # set is iterable\n",
    "    print(i)"
   ]
  },
  {
   "cell_type": "code",
   "execution_count": 55,
   "metadata": {},
   "outputs": [
    {
     "name": "stdout",
     "output_type": "stream",
     "text": [
      "2\n",
      "3\n",
      "5\n",
      "8\n",
      "7\n",
      "9\n"
     ]
    }
   ],
   "source": [
    "for i in (2,3,5,8,7,9): # tuple is iterable\n",
    "    print(i)"
   ]
  },
  {
   "cell_type": "code",
   "execution_count": 56,
   "metadata": {},
   "outputs": [
    {
     "ename": "TypeError",
     "evalue": "'bool' object is not iterable",
     "output_type": "error",
     "traceback": [
      "\u001b[1;31m---------------------------------------------------------------------------\u001b[0m",
      "\u001b[1;31mTypeError\u001b[0m                                 Traceback (most recent call last)",
      "\u001b[1;32md:\\Data Science\\Python Coding\\Class\\24_sept.ipynb Cell 49\u001b[0m line \u001b[0;36m1\n\u001b[1;32m----> <a href='vscode-notebook-cell:/d%3A/Data%20Science/Python%20Coding/Class/24_sept.ipynb#X66sZmlsZQ%3D%3D?line=0'>1</a>\u001b[0m \u001b[39miter\u001b[39;49m(\u001b[39mTrue\u001b[39;49;00m) \u001b[39m# for bool\u001b[39;00m\n",
      "\u001b[1;31mTypeError\u001b[0m: 'bool' object is not iterable"
     ]
    }
   ],
   "source": [
    "iter(True) # for bool"
   ]
  },
  {
   "cell_type": "code",
   "execution_count": 57,
   "metadata": {},
   "outputs": [],
   "source": [
    "d = iter({'key':\"pwskills\"})"
   ]
  },
  {
   "cell_type": "code",
   "execution_count": 58,
   "metadata": {},
   "outputs": [
    {
     "data": {
      "text/plain": [
       "'key'"
      ]
     },
     "execution_count": 58,
     "metadata": {},
     "output_type": "execute_result"
    }
   ],
   "source": [
    "next(d)"
   ]
  },
  {
   "cell_type": "code",
   "execution_count": 59,
   "metadata": {},
   "outputs": [
    {
     "ename": "TypeError",
     "evalue": "'int' object is not iterable",
     "output_type": "error",
     "traceback": [
      "\u001b[1;31m---------------------------------------------------------------------------\u001b[0m",
      "\u001b[1;31mTypeError\u001b[0m                                 Traceback (most recent call last)",
      "\u001b[1;32md:\\Data Science\\Python Coding\\Class\\24_sept.ipynb Cell 52\u001b[0m line \u001b[0;36m1\n\u001b[1;32m----> <a href='vscode-notebook-cell:/d%3A/Data%20Science/Python%20Coding/Class/24_sept.ipynb#Y102sZmlsZQ%3D%3D?line=0'>1</a>\u001b[0m \u001b[39miter\u001b[39;49m(\u001b[39m20\u001b[39;49m)\n",
      "\u001b[1;31mTypeError\u001b[0m: 'int' object is not iterable"
     ]
    }
   ],
   "source": [
    "iter(20)"
   ]
  },
  {
   "cell_type": "code",
   "execution_count": 60,
   "metadata": {},
   "outputs": [
    {
     "ename": "TypeError",
     "evalue": "iter expected at least 1 argument, got 0",
     "output_type": "error",
     "traceback": [
      "\u001b[1;31m---------------------------------------------------------------------------\u001b[0m",
      "\u001b[1;31mTypeError\u001b[0m                                 Traceback (most recent call last)",
      "\u001b[1;32md:\\Data Science\\Python Coding\\Class\\24_sept.ipynb Cell 53\u001b[0m line \u001b[0;36m1\n\u001b[1;32m----> <a href='vscode-notebook-cell:/d%3A/Data%20Science/Python%20Coding/Class/24_sept.ipynb#Y103sZmlsZQ%3D%3D?line=0'>1</a>\u001b[0m \u001b[39miter\u001b[39;49m()\n",
      "\u001b[1;31mTypeError\u001b[0m: iter expected at least 1 argument, got 0"
     ]
    }
   ],
   "source": [
    "iter()"
   ]
  },
  {
   "cell_type": "code",
   "execution_count": 61,
   "metadata": {},
   "outputs": [
    {
     "data": {
      "text/plain": [
       "range(0, 5)"
      ]
     },
     "execution_count": 61,
     "metadata": {},
     "output_type": "execute_result"
    }
   ],
   "source": [
    "range(0,5)"
   ]
  },
  {
   "cell_type": "code",
   "execution_count": 62,
   "metadata": {},
   "outputs": [
    {
     "data": {
      "text/plain": [
       "[0, 1, 2, 3, 4]"
      ]
     },
     "execution_count": 62,
     "metadata": {},
     "output_type": "execute_result"
    }
   ],
   "source": [
    "list(range(0,5))"
   ]
  },
  {
   "cell_type": "code",
   "execution_count": 63,
   "metadata": {},
   "outputs": [
    {
     "name": "stdout",
     "output_type": "stream",
     "text": [
      "0\n",
      "1\n",
      "2\n",
      "3\n",
      "4\n"
     ]
    }
   ],
   "source": [
    "for  i in range(0,5):\n",
    "    print (i)"
   ]
  },
  {
   "cell_type": "code",
   "execution_count": 64,
   "metadata": {},
   "outputs": [
    {
     "data": {
      "text/plain": [
       "<range_iterator at 0x2dba20e27f0>"
      ]
     },
     "execution_count": 64,
     "metadata": {},
     "output_type": "execute_result"
    }
   ],
   "source": [
    "iter(range(0,5))"
   ]
  },
  {
   "cell_type": "code",
   "execution_count": 66,
   "metadata": {},
   "outputs": [],
   "source": [
    "i = iter(range(0,5))"
   ]
  },
  {
   "cell_type": "code",
   "execution_count": 67,
   "metadata": {},
   "outputs": [
    {
     "data": {
      "text/plain": [
       "0"
      ]
     },
     "execution_count": 67,
     "metadata": {},
     "output_type": "execute_result"
    }
   ],
   "source": [
    "next(i)"
   ]
  },
  {
   "cell_type": "code",
   "execution_count": 68,
   "metadata": {},
   "outputs": [
    {
     "data": {
      "text/plain": [
       "1"
      ]
     },
     "execution_count": 68,
     "metadata": {},
     "output_type": "execute_result"
    }
   ],
   "source": [
    "next(i)"
   ]
  },
  {
   "cell_type": "code",
   "execution_count": 69,
   "metadata": {},
   "outputs": [
    {
     "data": {
      "text/plain": [
       "range(0, 5)"
      ]
     },
     "execution_count": 69,
     "metadata": {},
     "output_type": "execute_result"
    }
   ],
   "source": [
    "# generator function - produce a data\n",
    "range(0,5) # trying to give data but not\n",
    "\n"
   ]
  },
  {
   "cell_type": "code",
   "execution_count": 76,
   "metadata": {},
   "outputs": [],
   "source": [
    "def count_fun(n):\n",
    "    i = 1\n",
    "    while i<n:\n",
    "        yield i # yield meaning production some data\n",
    "        i = i+1"
   ]
  },
  {
   "cell_type": "code",
   "execution_count": 74,
   "metadata": {},
   "outputs": [
    {
     "data": {
      "text/plain": [
       "<generator object count_fun at 0x000002DBA221C520>"
      ]
     },
     "execution_count": 74,
     "metadata": {},
     "output_type": "execute_result"
    }
   ],
   "source": [
    "count_fun(9)"
   ]
  },
  {
   "cell_type": "code",
   "execution_count": 75,
   "metadata": {},
   "outputs": [
    {
     "name": "stdout",
     "output_type": "stream",
     "text": [
      "1\n",
      "2\n",
      "3\n",
      "4\n",
      "5\n",
      "6\n",
      "7\n",
      "8\n"
     ]
    }
   ],
   "source": [
    "for i in count_fun(9):\n",
    "    print(i)"
   ]
  },
  {
   "cell_type": "code",
   "execution_count": 77,
   "metadata": {},
   "outputs": [],
   "source": [
    "j = iter(count_fun(9))"
   ]
  },
  {
   "cell_type": "code",
   "execution_count": 78,
   "metadata": {},
   "outputs": [
    {
     "data": {
      "text/plain": [
       "<generator object count_fun at 0x000002DBA221C040>"
      ]
     },
     "execution_count": 78,
     "metadata": {},
     "output_type": "execute_result"
    }
   ],
   "source": [
    "j"
   ]
  },
  {
   "cell_type": "code",
   "execution_count": 79,
   "metadata": {},
   "outputs": [
    {
     "data": {
      "text/plain": [
       "1"
      ]
     },
     "execution_count": 79,
     "metadata": {},
     "output_type": "execute_result"
    }
   ],
   "source": [
    "next(j)"
   ]
  },
  {
   "cell_type": "code",
   "execution_count": 80,
   "metadata": {},
   "outputs": [],
   "source": [
    "def count_fun1(n):\n",
    "    i = 1\n",
    "    while i<n:\n",
    "        return i # retrun will trying to give only one time data\n",
    "        i = i+1"
   ]
  },
  {
   "cell_type": "code",
   "execution_count": 81,
   "metadata": {},
   "outputs": [
    {
     "data": {
      "text/plain": [
       "1"
      ]
     },
     "execution_count": 81,
     "metadata": {},
     "output_type": "execute_result"
    }
   ],
   "source": [
    "count_fun1(5) # give one result so we using yeild"
   ]
  },
  {
   "cell_type": "code",
   "execution_count": 83,
   "metadata": {},
   "outputs": [
    {
     "data": {
      "text/plain": [
       "[1, 2, 3, 4]"
      ]
     },
     "execution_count": 83,
     "metadata": {},
     "output_type": "execute_result"
    }
   ],
   "source": [
    "list(count_fun(5))"
   ]
  },
  {
   "cell_type": "code",
   "execution_count": 88,
   "metadata": {},
   "outputs": [],
   "source": [
    "def count_fun2(n):\n",
    "    i = 1\n",
    "    l=[]\n",
    "    while i<n:\n",
    "        l.append(i)  # this operation take one by one and too much process in memory\n",
    "        i = i+1\n",
    "    return l"
   ]
  },
  {
   "cell_type": "code",
   "execution_count": 89,
   "metadata": {},
   "outputs": [
    {
     "data": {
      "text/plain": [
       "[1, 2, 3, 4]"
      ]
     },
     "execution_count": 89,
     "metadata": {},
     "output_type": "execute_result"
    }
   ],
   "source": [
    "count_fun2(5)"
   ]
  },
  {
   "cell_type": "code",
   "execution_count": 90,
   "metadata": {},
   "outputs": [],
   "source": [
    "def count_fun(n):\n",
    "    i = 1\n",
    "    while i<n:\n",
    "        yield i # yield meaning production some data\n",
    "        i = i+1"
   ]
  },
  {
   "cell_type": "code",
   "execution_count": 91,
   "metadata": {},
   "outputs": [
    {
     "name": "stdout",
     "output_type": "stream",
     "text": [
      "1\n",
      "2\n",
      "3\n",
      "4\n",
      "5\n",
      "6\n",
      "7\n",
      "8\n",
      "9\n",
      "10\n",
      "11\n",
      "12\n",
      "13\n",
      "14\n",
      "15\n",
      "16\n",
      "17\n",
      "18\n",
      "19\n",
      "20\n",
      "21\n",
      "22\n",
      "23\n",
      "24\n",
      "25\n",
      "26\n",
      "27\n",
      "28\n",
      "29\n",
      "30\n",
      "31\n",
      "32\n",
      "33\n",
      "34\n",
      "35\n",
      "36\n",
      "37\n",
      "38\n",
      "39\n",
      "40\n",
      "41\n",
      "42\n",
      "43\n",
      "44\n",
      "45\n",
      "46\n",
      "47\n",
      "48\n",
      "49\n"
     ]
    }
   ],
   "source": [
    "for i in count_fun(50):\n",
    "    print(i)"
   ]
  },
  {
   "cell_type": "code",
   "execution_count": 92,
   "metadata": {},
   "outputs": [],
   "source": [
    "# it will production a data and through the all function is running"
   ]
  },
  {
   "cell_type": "code",
   "execution_count": 93,
   "metadata": {},
   "outputs": [],
   "source": [
    "# generate a fibanaki series\n",
    "def fib(n):\n",
    "    a,b=0,1\n",
    "    for i in range(n):\n",
    "        yield a\n",
    "        a,b= b,a+b"
   ]
  },
  {
   "cell_type": "code",
   "execution_count": 94,
   "metadata": {},
   "outputs": [
    {
     "name": "stdout",
     "output_type": "stream",
     "text": [
      "0\n",
      "1\n",
      "1\n",
      "2\n",
      "3\n",
      "5\n",
      "8\n",
      "13\n",
      "21\n"
     ]
    }
   ],
   "source": [
    "for i in fib(9):\n",
    "    print(i)"
   ]
  },
  {
   "cell_type": "code",
   "execution_count": 95,
   "metadata": {},
   "outputs": [
    {
     "name": "stdout",
     "output_type": "stream",
     "text": [
      " Volume in drive D is New Volume\n",
      " Volume Serial Number is 5A22-0754\n",
      "\n",
      " Directory of d:\\Data Science\\Python Coding\\Class\n",
      "\n",
      "24-09-2023  09:05    <DIR>          .\n",
      "23-09-2023  12:46    <DIR>          ..\n",
      "23-09-2023  09:17    <DIR>          .ipynb_checkpoints\n",
      "21-08-2023  19:13            38,232 1_python basic variables .ipynb\n",
      "16-09-2023  23:10            20,468 16_sept.ipynb\n",
      "17-09-2023  16:57            41,601 17_sept.ipynb\n",
      "10-09-2023  20:18            95,842 2_python basic data type .ipynb\n",
      "23-09-2023  12:43            27,904 23_Sept_loop.ipynb\n",
      "24-09-2023  11:39            26,813 24_sept.ipynb\n",
      "01-09-2023  22:24            15,505 Assignment_1_Solu.19aug.ipynb\n",
      "04-09-2023  12:40           318,402 Assignment_2_Solution.ipynb\n",
      "18-08-2023  20:44           654,720 Class.xlsx\n",
      "               9 File(s)      1,239,487 bytes\n",
      "               3 Dir(s)  61,683,961,856 bytes free\n"
     ]
    }
   ],
   "source": [
    "ls"
   ]
  },
  {
   "cell_type": "code",
   "execution_count": 96,
   "metadata": {},
   "outputs": [
    {
     "name": "stdout",
     "output_type": "stream",
     "text": [
      " Volume in drive D is New Volume\n",
      " Volume Serial Number is 5A22-0754\n",
      "\n",
      " Directory of d:\\Data Science\\Python Coding\\Class\n",
      "\n",
      "24-09-2023  11:52    <DIR>          .\n",
      "23-09-2023  12:46    <DIR>          ..\n",
      "23-09-2023  09:17    <DIR>          .ipynb_checkpoints\n",
      "21-08-2023  19:13            38,232 1_python basic variables .ipynb\n",
      "16-09-2023  23:10            20,468 16_sept.ipynb\n",
      "17-09-2023  16:57            41,601 17_sept.ipynb\n",
      "10-09-2023  20:18            95,842 2_python basic data type .ipynb\n",
      "23-09-2023  12:43            27,904 23_Sept_loop.ipynb\n",
      "24-09-2023  11:39            26,813 24_sept.ipynb\n",
      "01-09-2023  22:24            15,505 Assignment_1_Solu.19aug.ipynb\n",
      "04-09-2023  12:40           318,402 Assignment_2_Solution.ipynb\n",
      "18-08-2023  20:44           654,720 Class.xlsx\n",
      "10-09-2023  20:31             3,205 Intro.txt\n",
      "              10 File(s)      1,242,692 bytes\n",
      "               3 Dir(s)  61,683,961,856 bytes free\n"
     ]
    }
   ],
   "source": [
    "ls"
   ]
  },
  {
   "cell_type": "code",
   "execution_count": 97,
   "metadata": {},
   "outputs": [
    {
     "data": {
      "text/plain": [
       "'/Class/Intro.txt'"
      ]
     },
     "execution_count": 97,
     "metadata": {},
     "output_type": "execute_result"
    }
   ],
   "source": [
    "'/Class/Intro.txt'"
   ]
  },
  {
   "cell_type": "code",
   "execution_count": 98,
   "metadata": {},
   "outputs": [
    {
     "data": {
      "text/plain": [
       "'d:\\\\Data Science\\\\Python Coding\\\\Class'"
      ]
     },
     "execution_count": 98,
     "metadata": {},
     "output_type": "execute_result"
    }
   ],
   "source": [
    "pwd\n"
   ]
  },
  {
   "cell_type": "code",
   "execution_count": 99,
   "metadata": {},
   "outputs": [
    {
     "name": "stdout",
     "output_type": "stream",
     "text": [
      "\t\n",
      "\n",
      "\t    1.BIG DATAData Engineer\t\t\n",
      "\n",
      "DATA\t2.DATA SCIENCE\t\t\t\n",
      "\n",
      "\t    3.DATA ANALYTICS\tDATA/BUSINESS ANALTYICS\t\t\n",
      "\n",
      "\t\t\t\t\n",
      "\n",
      "\t\t\t\t\n",
      "\n",
      "BIG DATA -Big data primarily refers to data sets that are too large or complex\t\n",
      "\n",
      ">>>>>>>>>>>>>>>\t\t\n",
      "\n",
      "Hadoop-\tApache Hadoop software library is a framework that allows for the distributed processing of large data sets across clusters of computers using simple programming models,Alernative like Cloudera, Hortonworks, AWS (AMR)\t\n",
      "\n",
      "\n",
      "\n",
      "Hive-\tA data warehouse infrastructure that provides data summarization and ad hoc querying.WORKS ON TOP OF HADOOP\t\n",
      "\n",
      "\n",
      "\n",
      "Hbase-\tA scalable, distributed database that supports structured data storage for large tables\t\n",
      "\n",
      "\n",
      "\n",
      "Spark-\tProcessing Engine .A fast and general compute engine for Hadoop data. Spark provides a simple and expressive programming model that supports a wide range of applications, including ETL, machine learning, stream processing, and graph computation.\t\n",
      "\n",
      "\n",
      "\n",
      "Kafka-Messaging System.Apache Kafka is a distributed event store and stream-processing platform. It is an open-source system developed by the Apache Software Foundation written in Java and Scala. The project aims to provide a unified, high-throughput, low-latency platform for handling real-time data feeds.\t\t\n",
      "\n",
      "\n",
      "\n",
      "Oozie-Apache Oozie is a server-based workflow scheduling system to manage Hadoop jobs.Xml based system, Alernative Airflow\t\t\n",
      "\n",
      "\n",
      "\n",
      "Sqoop-Sqoop is a command-line interface application for transferring data between relational databases and Hadoop.\t\n",
      "\n",
      "\n",
      "\n",
      "\t\t\t\n",
      "\n",
      "zookepper-\tFeedback system or maintain a session .Apache ZooKeeper is an open-source server for highly reliable distributed coordination of cloud applications.\n",
      "\n",
      "\n",
      "\n",
      "Programming Language< Java , Scala, Python\t\t\n",
      "\n",
      "\n",
      "\n",
      "DSA\t- Data Structures and Algorithms\t\t\t\n",
      "\n",
      "SQL\t- Structured Query Language\t\t\t\n",
      "\n",
      "Cloud\t\t\t\t\n",
      "\n",
      "Ops\tauto scaling\t\t\t\t\n",
      "\n",
      "\n",
      "\n",
      "###############################################################################            \t\n",
      "\n",
      "HDFS\tHadoop Distributed File System\t\t\t\n",
      "\n",
      "GDFS\tGOOGLE DISTRIBUTED FILE SYSTEM\t\t\t\n",
      "\n",
      "GCP\tGoogle Cloud Platform\t\t\t\n",
      "\n",
      "ETL\tExtract Transform and Load\t\t\t\n",
      "\n",
      "\n",
      "\n",
      "#################################################################################\t\t\t\t\n",
      "\n",
      "DATA SCIENCE\t\n",
      "\n",
      "\n",
      "\n",
      "Programming Language< Java , Scala, Python\t\t\t\t\n",
      "\n",
      "DSA\tFOR PRODUCT BASE SOFTWARE/COMPANY\t\t\t\n",
      "\n",
      "SQL\t\t\t\t\n",
      "\n",
      "Math\t\t\t\t\n",
      "\n",
      "ML -\tMachine Learning\t\t\t\n",
      "\n",
      "DL -\tDeep Learning\t\t\t\n",
      "\n",
      "CV -\tComputer Vision\t\t\t\n",
      "\n",
      "NLP\t- Natural Language Processing\t\t\t\n",
      "\n",
      "RL-\tReinforcement Learning\t\t\t\n",
      "\n",
      "OPS -\tML/DL Operational\t\t\t\n",
      "\n",
      "CLOUD-\tAWS , AZURE, GCP\t\t\t\n",
      "\n",
      "\t\t\t\t\n",
      "\n",
      "####################################################################################\t\t\t\t\n",
      "\n",
      "DATA ANALYTICS\t\t\t\t\n",
      "\n",
      "SQL\t\t\t\t\n",
      "\n",
      "Python\t\t\t\t\n",
      "\n",
      "Dashboard\tPOWER BI, TABLEU, QULICK\t\t\t\n",
      "\n",
      "Excel\t\t\t\t\n",
      "\n",
      "Stats\t\t\t\t\n",
      "\n",
      "ML\tMachine Learning Overview \t\t\t\n",
      "\n",
      "\t\t\t\t\n",
      "\n",
      "++++++++++++++++++++++++++++++++++++++++++++++++++++++++++++\t\t\t\t\n",
      "\n",
      "types  of data \t\t\t\t\n",
      "\n",
      ".csv\t\t\t\t\n",
      "\n",
      ".pdf\t\t\t\t\n",
      "\n",
      ".xml\t\t\t\t\n",
      "\n",
      ".json/.yaml\t\t\t\t\n",
      "\n",
      ".mp4/.mp3\t\t\t\t\n",
      "\n",
      ".jpeg/.png\t\t\t\t\n",
      "\n",
      "oracle/javascripts\t\t\t\t\n",
      "\n",
      ".txt\t\t\t\t\n",
      "\n",
      "\t\t\t\t\n",
      "\n",
      "Data is like a crude oil. We can define according to ypes of data and choose sturactural means a data like schema/dbo/ table like SQL, ORACLE types and non-structural like pdf, jpg\t\t\t\t\n",
      "\n",
      "and semi structure means having schema but flow all types of data like facebook data , linkedin , whatsapp\t\n",
      "\n",
      "\n",
      "\n"
     ]
    }
   ],
   "source": [
    "for i in open ('intro.txt'):\n",
    "    print(i)"
   ]
  },
  {
   "cell_type": "code",
   "execution_count": 100,
   "metadata": {},
   "outputs": [],
   "source": [
    "def read_file(file_name):\n",
    "    with open (file_name) as file: # mode is not req file_name,r\n",
    "        for i in file:\n",
    "            yield i"
   ]
  },
  {
   "cell_type": "code",
   "execution_count": 101,
   "metadata": {},
   "outputs": [
    {
     "data": {
      "text/plain": [
       "<generator object read_file at 0x000002DBA215D3F0>"
      ]
     },
     "execution_count": 101,
     "metadata": {},
     "output_type": "execute_result"
    }
   ],
   "source": [
    "read_file('Intro.txt')"
   ]
  },
  {
   "cell_type": "code",
   "execution_count": 102,
   "metadata": {},
   "outputs": [
    {
     "name": "stdout",
     "output_type": "stream",
     "text": [
      "\t\n",
      "\n",
      "\t    1.BIG DATAData Engineer\t\t\n",
      "\n",
      "DATA\t2.DATA SCIENCE\t\t\t\n",
      "\n",
      "\t    3.DATA ANALYTICS\tDATA/BUSINESS ANALTYICS\t\t\n",
      "\n",
      "\t\t\t\t\n",
      "\n",
      "\t\t\t\t\n",
      "\n",
      "BIG DATA -Big data primarily refers to data sets that are too large or complex\t\n",
      "\n",
      ">>>>>>>>>>>>>>>\t\t\n",
      "\n",
      "Hadoop-\tApache Hadoop software library is a framework that allows for the distributed processing of large data sets across clusters of computers using simple programming models,Alernative like Cloudera, Hortonworks, AWS (AMR)\t\n",
      "\n",
      "\n",
      "\n",
      "Hive-\tA data warehouse infrastructure that provides data summarization and ad hoc querying.WORKS ON TOP OF HADOOP\t\n",
      "\n",
      "\n",
      "\n",
      "Hbase-\tA scalable, distributed database that supports structured data storage for large tables\t\n",
      "\n",
      "\n",
      "\n",
      "Spark-\tProcessing Engine .A fast and general compute engine for Hadoop data. Spark provides a simple and expressive programming model that supports a wide range of applications, including ETL, machine learning, stream processing, and graph computation.\t\n",
      "\n",
      "\n",
      "\n",
      "Kafka-Messaging System.Apache Kafka is a distributed event store and stream-processing platform. It is an open-source system developed by the Apache Software Foundation written in Java and Scala. The project aims to provide a unified, high-throughput, low-latency platform for handling real-time data feeds.\t\t\n",
      "\n",
      "\n",
      "\n",
      "Oozie-Apache Oozie is a server-based workflow scheduling system to manage Hadoop jobs.Xml based system, Alernative Airflow\t\t\n",
      "\n",
      "\n",
      "\n",
      "Sqoop-Sqoop is a command-line interface application for transferring data between relational databases and Hadoop.\t\n",
      "\n",
      "\n",
      "\n",
      "\t\t\t\n",
      "\n",
      "zookepper-\tFeedback system or maintain a session .Apache ZooKeeper is an open-source server for highly reliable distributed coordination of cloud applications.\n",
      "\n",
      "\n",
      "\n",
      "Programming Language< Java , Scala, Python\t\t\n",
      "\n",
      "\n",
      "\n",
      "DSA\t- Data Structures and Algorithms\t\t\t\n",
      "\n",
      "SQL\t- Structured Query Language\t\t\t\n",
      "\n",
      "Cloud\t\t\t\t\n",
      "\n",
      "Ops\tauto scaling\t\t\t\t\n",
      "\n",
      "\n",
      "\n",
      "###############################################################################            \t\n",
      "\n",
      "HDFS\tHadoop Distributed File System\t\t\t\n",
      "\n",
      "GDFS\tGOOGLE DISTRIBUTED FILE SYSTEM\t\t\t\n",
      "\n",
      "GCP\tGoogle Cloud Platform\t\t\t\n",
      "\n",
      "ETL\tExtract Transform and Load\t\t\t\n",
      "\n",
      "\n",
      "\n",
      "#################################################################################\t\t\t\t\n",
      "\n",
      "DATA SCIENCE\t\n",
      "\n",
      "\n",
      "\n",
      "Programming Language< Java , Scala, Python\t\t\t\t\n",
      "\n",
      "DSA\tFOR PRODUCT BASE SOFTWARE/COMPANY\t\t\t\n",
      "\n",
      "SQL\t\t\t\t\n",
      "\n",
      "Math\t\t\t\t\n",
      "\n",
      "ML -\tMachine Learning\t\t\t\n",
      "\n",
      "DL -\tDeep Learning\t\t\t\n",
      "\n",
      "CV -\tComputer Vision\t\t\t\n",
      "\n",
      "NLP\t- Natural Language Processing\t\t\t\n",
      "\n",
      "RL-\tReinforcement Learning\t\t\t\n",
      "\n",
      "OPS -\tML/DL Operational\t\t\t\n",
      "\n",
      "CLOUD-\tAWS , AZURE, GCP\t\t\t\n",
      "\n",
      "\t\t\t\t\n",
      "\n",
      "####################################################################################\t\t\t\t\n",
      "\n",
      "DATA ANALYTICS\t\t\t\t\n",
      "\n",
      "SQL\t\t\t\t\n",
      "\n",
      "Python\t\t\t\t\n",
      "\n",
      "Dashboard\tPOWER BI, TABLEU, QULICK\t\t\t\n",
      "\n",
      "Excel\t\t\t\t\n",
      "\n",
      "Stats\t\t\t\t\n",
      "\n",
      "ML\tMachine Learning Overview \t\t\t\n",
      "\n",
      "\t\t\t\t\n",
      "\n",
      "++++++++++++++++++++++++++++++++++++++++++++++++++++++++++++\t\t\t\t\n",
      "\n",
      "types  of data \t\t\t\t\n",
      "\n",
      ".csv\t\t\t\t\n",
      "\n",
      ".pdf\t\t\t\t\n",
      "\n",
      ".xml\t\t\t\t\n",
      "\n",
      ".json/.yaml\t\t\t\t\n",
      "\n",
      ".mp4/.mp3\t\t\t\t\n",
      "\n",
      ".jpeg/.png\t\t\t\t\n",
      "\n",
      "oracle/javascripts\t\t\t\t\n",
      "\n",
      ".txt\t\t\t\t\n",
      "\n",
      "\t\t\t\t\n",
      "\n",
      "Data is like a crude oil. We can define according to ypes of data and choose sturactural means a data like schema/dbo/ table like SQL, ORACLE types and non-structural like pdf, jpg\t\t\t\t\n",
      "\n",
      "and semi structure means having schema but flow all types of data like facebook data , linkedin , whatsapp\t\n",
      "\n",
      "\n",
      "\n"
     ]
    }
   ],
   "source": [
    "for i in read_file('Intro.txt'):\n",
    "    print(i)"
   ]
  },
  {
   "cell_type": "code",
   "execution_count": null,
   "metadata": {},
   "outputs": [],
   "source": []
  }
 ],
 "metadata": {
  "kernelspec": {
   "display_name": "Python 3",
   "language": "python",
   "name": "python3"
  },
  "language_info": {
   "codemirror_mode": {
    "name": "ipython",
    "version": 3
   },
   "file_extension": ".py",
   "mimetype": "text/x-python",
   "name": "python",
   "nbconvert_exporter": "python",
   "pygments_lexer": "ipython3",
   "version": "3.11.4"
  },
  "orig_nbformat": 4
 },
 "nbformat": 4,
 "nbformat_minor": 2
}
