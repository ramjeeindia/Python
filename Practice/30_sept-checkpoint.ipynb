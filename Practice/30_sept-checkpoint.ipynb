{
 "cells": [
  {
   "cell_type": "markdown",
   "metadata": {},
   "source": [
    "# 30_Sept Expection Handling and Logging"
   ]
  },
  {
   "cell_type": "code",
   "execution_count": 13,
   "metadata": {},
   "outputs": [],
   "source": [
    "# Expection Handling and Logging\n",
    "a = 10\n",
    "b = 5"
   ]
  },
  {
   "cell_type": "code",
   "execution_count": 4,
   "metadata": {},
   "outputs": [
    {
     "data": {
      "text/plain": [
       "50"
      ]
     },
     "execution_count": 4,
     "metadata": {},
     "output_type": "execute_result"
    }
   ],
   "source": [
    "a*b"
   ]
  },
  {
   "cell_type": "code",
   "execution_count": 5,
   "metadata": {},
   "outputs": [
    {
     "data": {
      "text/plain": [
       "2.0"
      ]
     },
     "execution_count": 5,
     "metadata": {},
     "output_type": "execute_result"
    }
   ],
   "source": [
    "a/b"
   ]
  },
  {
   "cell_type": "code",
   "execution_count": 8,
   "metadata": {},
   "outputs": [],
   "source": [
    "a =10\n",
    "b=0"
   ]
  },
  {
   "cell_type": "code",
   "execution_count": 9,
   "metadata": {},
   "outputs": [
    {
     "ename": "ZeroDivisionError",
     "evalue": "division by zero",
     "output_type": "error",
     "traceback": [
      "\u001b[1;31m---------------------------------------------------------------------------\u001b[0m",
      "\u001b[1;31mZeroDivisionError\u001b[0m                         Traceback (most recent call last)",
      "\u001b[1;32md:\\Data Science\\Python Coding\\Class\\30_sept.ipynb Cell 7\u001b[0m line \u001b[0;36m1\n\u001b[1;32m----> <a href='vscode-notebook-cell:/d%3A/Data%20Science/Python%20Coding/Class/30_sept.ipynb#X10sZmlsZQ%3D%3D?line=0'>1</a>\u001b[0m a\u001b[39m/\u001b[39;49mb\n",
      "\u001b[1;31mZeroDivisionError\u001b[0m: division by zero"
     ]
    }
   ],
   "source": [
    "a/b"
   ]
  },
  {
   "cell_type": "code",
   "execution_count": 1,
   "metadata": {},
   "outputs": [
    {
     "name": "stdout",
     "output_type": "stream",
     "text": [
      "enter value 6\n",
      "enter value 0\n"
     ]
    }
   ],
   "source": [
    "a = int(input(\"enter value\"))\n",
    "b = int(input(\"enter value\"))"
   ]
  },
  {
   "cell_type": "code",
   "execution_count": 2,
   "metadata": {},
   "outputs": [
    {
     "ename": "ZeroDivisionError",
     "evalue": "division by zero",
     "output_type": "error",
     "traceback": [
      "\u001b[1;31m---------------------------------------------------------------------------\u001b[0m",
      "\u001b[1;31mZeroDivisionError\u001b[0m                         Traceback (most recent call last)",
      "Cell \u001b[1;32mIn[2], line 1\u001b[0m\n\u001b[1;32m----> 1\u001b[0m \u001b[43ma\u001b[49m\u001b[38;5;241;43m/\u001b[39;49m\u001b[43mb\u001b[49m\n",
      "\u001b[1;31mZeroDivisionError\u001b[0m: division by zero"
     ]
    }
   ],
   "source": [
    "a/b # this will give error "
   ]
  },
  {
   "cell_type": "code",
   "execution_count": 3,
   "metadata": {},
   "outputs": [
    {
     "ename": "ZeroDivisionError",
     "evalue": "division by zero",
     "output_type": "error",
     "traceback": [
      "\u001b[1;31m---------------------------------------------------------------------------\u001b[0m",
      "\u001b[1;31mZeroDivisionError\u001b[0m                         Traceback (most recent call last)",
      "Cell \u001b[1;32mIn[3], line 1\u001b[0m\n\u001b[1;32m----> 1\u001b[0m \u001b[43ma\u001b[49m\u001b[38;5;241;43m/\u001b[39;49m\u001b[43mb\u001b[49m\n\u001b[0;32m      2\u001b[0m \u001b[38;5;28mprint\u001b[39m(\u001b[38;5;124m\"\u001b[39m\u001b[38;5;124mprint something\u001b[39m\u001b[38;5;124m\"\u001b[39m)\n",
      "\u001b[1;31mZeroDivisionError\u001b[0m: division by zero"
     ]
    }
   ],
   "source": [
    "a/b\n",
    "print(\"print something\") # if above line fail then next line also fail"
   ]
  },
  {
   "cell_type": "code",
   "execution_count": 4,
   "metadata": {},
   "outputs": [
    {
     "data": {
      "text/plain": [
       "6"
      ]
     },
     "execution_count": 4,
     "metadata": {},
     "output_type": "execute_result"
    }
   ],
   "source": [
    "a+b"
   ]
  },
  {
   "cell_type": "code",
   "execution_count": 2,
   "metadata": {},
   "outputs": [],
   "source": [
    "l = [1,4,2,5,6,0,7]  # define list\n",
    "li=[]\n",
    "def even_parser(l): # extract even no\n",
    "    for i in l:\n",
    "        if i%2==0:\n",
    "            li.append(i)\n",
    "    return li"
   ]
  },
  {
   "cell_type": "code",
   "execution_count": 4,
   "metadata": {},
   "outputs": [
    {
     "data": {
      "text/plain": [
       "[4, 2, 6, 0]"
      ]
     },
     "execution_count": 4,
     "metadata": {},
     "output_type": "execute_result"
    }
   ],
   "source": [
    "even_parser(l)"
   ]
  },
  {
   "cell_type": "code",
   "execution_count": 6,
   "metadata": {},
   "outputs": [
    {
     "ename": "TypeError",
     "evalue": "not all arguments converted during string formatting",
     "output_type": "error",
     "traceback": [
      "\u001b[1;31m---------------------------------------------------------------------------\u001b[0m",
      "\u001b[1;31mTypeError\u001b[0m                                 Traceback (most recent call last)",
      "Cell \u001b[1;32mIn[6], line 1\u001b[0m\n\u001b[1;32m----> 1\u001b[0m \u001b[43meven_parser\u001b[49m\u001b[43m(\u001b[49m\u001b[38;5;124;43m\"\u001b[39;49m\u001b[38;5;124;43mramjee\u001b[39;49m\u001b[38;5;124;43m\"\u001b[39;49m\u001b[43m)\u001b[49m\n",
      "Cell \u001b[1;32mIn[5], line 5\u001b[0m, in \u001b[0;36meven_parser\u001b[1;34m(l)\u001b[0m\n\u001b[0;32m      3\u001b[0m \u001b[38;5;28;01mdef\u001b[39;00m \u001b[38;5;21meven_parser\u001b[39m(l):\n\u001b[0;32m      4\u001b[0m     \u001b[38;5;28;01mfor\u001b[39;00m i \u001b[38;5;129;01min\u001b[39;00m l:\n\u001b[1;32m----> 5\u001b[0m         \u001b[38;5;28;01mif\u001b[39;00m \u001b[43mi\u001b[49m\u001b[38;5;241;43m%\u001b[39;49m\u001b[38;5;241;43m2\u001b[39;49m\u001b[38;5;241m==\u001b[39m\u001b[38;5;241m0\u001b[39m:\n\u001b[0;32m      6\u001b[0m             li\u001b[38;5;241m.\u001b[39mappend(i)\n\u001b[0;32m      7\u001b[0m     \u001b[38;5;28;01mreturn\u001b[39;00m li\n",
      "\u001b[1;31mTypeError\u001b[0m: not all arguments converted during string formatting"
     ]
    }
   ],
   "source": [
    "even_parser(\"ramjee\")  # even parser is func name"
   ]
  },
  {
   "cell_type": "code",
   "execution_count": 7,
   "metadata": {},
   "outputs": [
    {
     "ename": "TypeError",
     "evalue": "'int' object is not iterable",
     "output_type": "error",
     "traceback": [
      "\u001b[1;31m---------------------------------------------------------------------------\u001b[0m",
      "\u001b[1;31mTypeError\u001b[0m                                 Traceback (most recent call last)",
      "Cell \u001b[1;32mIn[7], line 1\u001b[0m\n\u001b[1;32m----> 1\u001b[0m \u001b[43meven_parser\u001b[49m\u001b[43m(\u001b[49m\u001b[38;5;241;43m6\u001b[39;49m\u001b[43m)\u001b[49m\n",
      "Cell \u001b[1;32mIn[5], line 4\u001b[0m, in \u001b[0;36meven_parser\u001b[1;34m(l)\u001b[0m\n\u001b[0;32m      3\u001b[0m \u001b[38;5;28;01mdef\u001b[39;00m \u001b[38;5;21meven_parser\u001b[39m(l):\n\u001b[1;32m----> 4\u001b[0m     \u001b[38;5;28;01mfor\u001b[39;00m i \u001b[38;5;129;01min\u001b[39;00m l:\n\u001b[0;32m      5\u001b[0m         \u001b[38;5;28;01mif\u001b[39;00m i\u001b[38;5;241m%\u001b[39m\u001b[38;5;241m2\u001b[39m\u001b[38;5;241m==\u001b[39m\u001b[38;5;241m0\u001b[39m:\n\u001b[0;32m      6\u001b[0m             li\u001b[38;5;241m.\u001b[39mappend(i)\n",
      "\u001b[1;31mTypeError\u001b[0m: 'int' object is not iterable"
     ]
    }
   ],
   "source": [
    "even_parser(6) # error"
   ]
  },
  {
   "cell_type": "code",
   "execution_count": 6,
   "metadata": {},
   "outputs": [
    {
     "name": "stdout",
     "output_type": "stream",
     "text": [
      "print something\n"
     ]
    }
   ],
   "source": [
    "even_parser(l) # prevent error\n",
    "print(\"print something\")"
   ]
  },
  {
   "cell_type": "code",
   "execution_count": 9,
   "metadata": {},
   "outputs": [
    {
     "ename": "SyntaxError",
     "evalue": "incomplete input (614523031.py, line 8)",
     "output_type": "error",
     "traceback": [
      "\u001b[1;36m  Cell \u001b[1;32mIn[9], line 8\u001b[1;36m\u001b[0m\n\u001b[1;33m    \u001b[0m\n\u001b[1;37m    ^\u001b[0m\n\u001b[1;31mSyntaxError\u001b[0m\u001b[1;31m:\u001b[0m incomplete input\n"
     ]
    }
   ],
   "source": [
    "# reserve keyword try \n",
    "\n",
    "try :\n",
    "    a = int(input(\" put number a\"))\n",
    "    b = int(input(\"put number b\"))\n",
    "    c=a/b\n",
    "    print(c   # by mistake ) forgot then error\n",
    "    "
   ]
  },
  {
   "cell_type": "code",
   "execution_count": 14,
   "metadata": {},
   "outputs": [
    {
     "name": "stdout",
     "output_type": "stream",
     "text": [
      "number a 4\n",
      "number b 2\n"
     ]
    },
    {
     "name": "stdout",
     "output_type": "stream",
     "text": [
      "2.0\n"
     ]
    }
   ],
   "source": [
    "try :\n",
    "    a = int(input(\"number a\"))\n",
    "    b = int(input(\"number b\"))\n",
    "    c= a/b\n",
    "    print(c)\n",
    "except :   # this will handle error in block # no division error by 0\n",
    "     pass\n",
    "    "
   ]
  },
  {
   "cell_type": "code",
   "execution_count": 17,
   "metadata": {},
   "outputs": [
    {
     "name": "stdout",
     "output_type": "stream",
     "text": [
      "number a 2\n",
      "number b 0\n"
     ]
    },
    {
     "name": "stdout",
     "output_type": "stream",
     "text": [
      "yes print something if any result not received\n"
     ]
    }
   ],
   "source": [
    "try :\n",
    "    a = int(input(\"number a\"))\n",
    "    b = int(input(\"number b\"))\n",
    "    c= a/b\n",
    "    print(c)\n",
    "except :   # no division error by 0\n",
    "     pass\n",
    "print(\"yes print something if any result not received\") # it will allow next line to print"
   ]
  },
  {
   "cell_type": "code",
   "execution_count": 23,
   "metadata": {},
   "outputs": [],
   "source": [
    "l = [1,4,2,5,6,0,7]\n",
    "li=[]\n",
    "def even_parser(l):\n",
    "    for i in l:\n",
    "        if i%2 == 0:\n",
    "            li.append(i)\n",
    "    return li"
   ]
  },
  {
   "cell_type": "code",
   "execution_count": 24,
   "metadata": {},
   "outputs": [
    {
     "ename": "TypeError",
     "evalue": "'int' object is not iterable",
     "output_type": "error",
     "traceback": [
      "\u001b[1;31m---------------------------------------------------------------------------\u001b[0m",
      "\u001b[1;31mTypeError\u001b[0m                                 Traceback (most recent call last)",
      "Cell \u001b[1;32mIn[24], line 1\u001b[0m\n\u001b[1;32m----> 1\u001b[0m \u001b[43meven_parser\u001b[49m\u001b[43m(\u001b[49m\u001b[38;5;241;43m5\u001b[39;49m\u001b[43m)\u001b[49m\n",
      "Cell \u001b[1;32mIn[23], line 4\u001b[0m, in \u001b[0;36meven_parser\u001b[1;34m(l)\u001b[0m\n\u001b[0;32m      3\u001b[0m \u001b[38;5;28;01mdef\u001b[39;00m \u001b[38;5;21meven_parser\u001b[39m(l):\n\u001b[1;32m----> 4\u001b[0m     \u001b[38;5;28;01mfor\u001b[39;00m i \u001b[38;5;129;01min\u001b[39;00m l:\n\u001b[0;32m      5\u001b[0m         \u001b[38;5;28;01mif\u001b[39;00m i\u001b[38;5;241m%\u001b[39m\u001b[38;5;241m2\u001b[39m \u001b[38;5;241m==\u001b[39m \u001b[38;5;241m0\u001b[39m:\n\u001b[0;32m      6\u001b[0m             li\u001b[38;5;241m.\u001b[39mappend(i)\n",
      "\u001b[1;31mTypeError\u001b[0m: 'int' object is not iterable"
     ]
    }
   ],
   "source": [
    "even_parser(5)"
   ]
  },
  {
   "cell_type": "code",
   "execution_count": 10,
   "metadata": {},
   "outputs": [],
   "source": [
    "l = [1,4,2,5,6,0,7]\n",
    "li=[]\n",
    "def even_parser1(l):\n",
    "    try:\n",
    "        for i in l:\n",
    "            if i%2 == 0:\n",
    "                li.append(i)\n",
    "        return li\n",
    "    except :\n",
    "        pass\n",
    "    "
   ]
  },
  {
   "cell_type": "code",
   "execution_count": 11,
   "metadata": {},
   "outputs": [],
   "source": [
    "even_parser1(5)  # no error at all"
   ]
  },
  {
   "cell_type": "code",
   "execution_count": 12,
   "metadata": {},
   "outputs": [],
   "source": [
    "even_parser1(\"ramjee\")  # no error at all"
   ]
  },
  {
   "cell_type": "code",
   "execution_count": 13,
   "metadata": {},
   "outputs": [
    {
     "name": "stdout",
     "output_type": "stream",
     "text": [
      "print after no result \n"
     ]
    }
   ],
   "source": [
    "even_parser1(5)  # no error at all\n",
    "print(\"print after no result \")"
   ]
  },
  {
   "cell_type": "code",
   "execution_count": 14,
   "metadata": {},
   "outputs": [
    {
     "ename": "ZeroDivisionError",
     "evalue": "division by zero",
     "output_type": "error",
     "traceback": [
      "\u001b[1;31m---------------------------------------------------------------------------\u001b[0m",
      "\u001b[1;31mZeroDivisionError\u001b[0m                         Traceback (most recent call last)",
      "\u001b[1;32md:\\Data Science\\Python Coding\\Practice\\30_sept.ipynb Cell 27\u001b[0m line \u001b[0;36m1\n\u001b[1;32m----> <a href='vscode-notebook-cell:/d%3A/Data%20Science/Python%20Coding/Practice/30_sept.ipynb#Y125sZmlsZQ%3D%3D?line=0'>1</a>\u001b[0m x \u001b[39m=\u001b[39m \u001b[39m5\u001b[39;49m\u001b[39m/\u001b[39;49m\u001b[39m0\u001b[39;49m\n",
      "\u001b[1;31mZeroDivisionError\u001b[0m: division by zero"
     ]
    }
   ],
   "source": [
    "x = 5/0"
   ]
  },
  {
   "cell_type": "code",
   "execution_count": 18,
   "metadata": {},
   "outputs": [
    {
     "name": "stdout",
     "output_type": "stream",
     "text": [
      "division by zero\n"
     ]
    }
   ],
   "source": [
    "try :\n",
    "    x = 5/0\n",
    "except ZeroDivisionError as z : #ZeroDivisionError: division by zero then print error code\n",
    "    print(z)"
   ]
  },
  {
   "cell_type": "code",
   "execution_count": 17,
   "metadata": {},
   "outputs": [
    {
     "ename": "ValueError",
     "evalue": "invalid literal for int() with base 10: 'ramjee'",
     "output_type": "error",
     "traceback": [
      "\u001b[1;31m---------------------------------------------------------------------------\u001b[0m",
      "\u001b[1;31mValueError\u001b[0m                                Traceback (most recent call last)",
      "\u001b[1;32md:\\Data Science\\Python Coding\\Practice\\30_sept.ipynb Cell 28\u001b[0m line \u001b[0;36m1\n\u001b[1;32m----> <a href='vscode-notebook-cell:/d%3A/Data%20Science/Python%20Coding/Practice/30_sept.ipynb#Y126sZmlsZQ%3D%3D?line=0'>1</a>\u001b[0m \u001b[39mint\u001b[39;49m(\u001b[39m\"\u001b[39;49m\u001b[39mramjee\u001b[39;49m\u001b[39m\"\u001b[39;49m)\n",
      "\u001b[1;31mValueError\u001b[0m: invalid literal for int() with base 10: 'ramjee'"
     ]
    }
   ],
   "source": [
    "int(\"ramjee\")"
   ]
  },
  {
   "cell_type": "code",
   "execution_count": 19,
   "metadata": {},
   "outputs": [
    {
     "name": "stdout",
     "output_type": "stream",
     "text": [
      "invalid literal for int() with base 10: 'ramjee'\n"
     ]
    }
   ],
   "source": [
    "try :\n",
    "    y = int(\"ramjee\")\n",
    "except ValueError as v :\n",
    "     print(v)"
   ]
  },
  {
   "cell_type": "code",
   "execution_count": 1,
   "metadata": {},
   "outputs": [
    {
     "name": "stdout",
     "output_type": "stream",
     "text": [
      "division by zero\n",
      "invalid literal for int() with base 10: 'ramjee'\n"
     ]
    }
   ],
   "source": [
    "try :\n",
    "    x = 5/0\n",
    "except ZeroDivisionError as z : #ZeroDivisionError: division by zero then print error code\n",
    "    print(z)\n",
    "    try :\n",
    "        y = int(\"ramjee\")\n",
    "    except ValueError as v :\n",
    "        print(v)"
   ]
  },
  {
   "cell_type": "code",
   "execution_count": 2,
   "metadata": {},
   "outputs": [
    {
     "name": "stdout",
     "output_type": "stream",
     "text": [
      "division by zero\n",
      "this will be executed always\n"
     ]
    }
   ],
   "source": [
    "# try then if fail else and finally always show in result\n",
    "try :\n",
    "    x = 5/0\n",
    "except ZeroDivisionError as z :\n",
    "    print(z)\n",
    "else :\n",
    "    print(\"this will execute itself once try will execute without error\")\n",
    "finally :\n",
    "    print(\"this will be executed always\")"
   ]
  },
  {
   "cell_type": "code",
   "execution_count": 4,
   "metadata": {},
   "outputs": [
    {
     "ename": "KeyError",
     "evalue": "'course'",
     "output_type": "error",
     "traceback": [
      "\u001b[1;31m---------------------------------------------------------------------------\u001b[0m",
      "\u001b[1;31mKeyError\u001b[0m                                  Traceback (most recent call last)",
      "\u001b[1;32md:\\Data Science\\Python Coding\\Practice\\30_sept.ipynb Cell 33\u001b[0m line \u001b[0;36m2\n\u001b[0;32m      <a href='vscode-notebook-cell:/d%3A/Data%20Science/Python%20Coding/Practice/30_sept.ipynb#Y126sZmlsZQ%3D%3D?line=0'>1</a>\u001b[0m d \u001b[39m=\u001b[39m {\u001b[39m\"\u001b[39m\u001b[39mname\u001b[39m\u001b[39m\"\u001b[39m:\u001b[39m\"\u001b[39m\u001b[39mramjee\u001b[39m\u001b[39m\"\u001b[39m,\u001b[39m\"\u001b[39m\u001b[39mMobile No.\u001b[39m\u001b[39m\"\u001b[39m:\u001b[39m966048\u001b[39m,\u001b[39m\"\u001b[39m\u001b[39memail_id\u001b[39m\u001b[39m\"\u001b[39m:\u001b[39m\"\u001b[39m\u001b[39mramjee@gmail.com\u001b[39m\u001b[39m\"\u001b[39m}\n\u001b[1;32m----> <a href='vscode-notebook-cell:/d%3A/Data%20Science/Python%20Coding/Practice/30_sept.ipynb#Y126sZmlsZQ%3D%3D?line=1'>2</a>\u001b[0m d[\u001b[39m\"\u001b[39;49m\u001b[39mcourse\u001b[39;49m\u001b[39m\"\u001b[39;49m] \u001b[39m#if another declare then it will give error\u001b[39;00m\n",
      "\u001b[1;31mKeyError\u001b[0m: 'course'"
     ]
    }
   ],
   "source": [
    "d = {\"name\":\"ramjee\",\"Mobile No.\":966048,\"email_id\":\"ramjee@gmail.com\"}\n",
    "d[\"course\"] #if another declare then it will give error"
   ]
  },
  {
   "cell_type": "code",
   "execution_count": 3,
   "metadata": {},
   "outputs": [
    {
     "name": "stdout",
     "output_type": "stream",
     "text": [
      "'course'\n"
     ]
    }
   ],
   "source": [
    "try : \n",
    "    d = {\"name\":\"ramjee\",\"Mobile No.\":966048,\"email_id\":\"ramjee@gmail.com\"}\n",
    "    d[\"course\"] \n",
    "except Exception as e :\n",
    "    print(e)  #print internal message\n"
   ]
  },
  {
   "cell_type": "code",
   "execution_count": 5,
   "metadata": {},
   "outputs": [
    {
     "name": "stdout",
     "output_type": "stream",
     "text": [
      "This is own custom message\n"
     ]
    }
   ],
   "source": [
    "# we can print internal messages or own custom message\n",
    "\n",
    "try : \n",
    "    d = {\"name\":\"ramjee\",\"Mobile No.\":966048,\"email_id\":\"ramjee@gmail.com\"}\n",
    "    d[\"course\"] \n",
    "except Exception :\n",
    "    print(\"This is own custom message\")\n"
   ]
  },
  {
   "cell_type": "code",
   "execution_count": 14,
   "metadata": {},
   "outputs": [
    {
     "ename": "IndexError",
     "evalue": "list index out of range",
     "output_type": "error",
     "traceback": [
      "\u001b[1;31m---------------------------------------------------------------------------\u001b[0m",
      "\u001b[1;31mIndexError\u001b[0m                                Traceback (most recent call last)",
      "\u001b[1;32md:\\Data Science\\Python Coding\\Practice\\30_sept.ipynb Cell 34\u001b[0m line \u001b[0;36m2\n\u001b[0;32m      <a href='vscode-notebook-cell:/d%3A/Data%20Science/Python%20Coding/Practice/30_sept.ipynb#X50sZmlsZQ%3D%3D?line=0'>1</a>\u001b[0m l \u001b[39m=\u001b[39m [\u001b[39m1\u001b[39m,\u001b[39m3\u001b[39m,\u001b[39m6\u001b[39m,\u001b[39m7\u001b[39m,\u001b[39m8\u001b[39m,\u001b[39m10\u001b[39m]\n\u001b[1;32m----> <a href='vscode-notebook-cell:/d%3A/Data%20Science/Python%20Coding/Practice/30_sept.ipynb#X50sZmlsZQ%3D%3D?line=1'>2</a>\u001b[0m l[\u001b[39m10\u001b[39;49m]      \u001b[39m# 10 index not aval then errr\u001b[39;00m\n",
      "\u001b[1;31mIndexError\u001b[0m: list index out of range"
     ]
    }
   ],
   "source": [
    "l = [1,3,6,7,8,10]\n",
    "l[10]      # 10 index not aval then errr"
   ]
  },
  {
   "cell_type": "code",
   "execution_count": 7,
   "metadata": {},
   "outputs": [
    {
     "name": "stdout",
     "output_type": "stream",
     "text": [
      "list index out of range\n"
     ]
    }
   ],
   "source": [
    "try :\n",
    "    l = [1,3,6,7,8,10]\n",
    "    l[10]  \n",
    "except Exception as e:  # print int message\n",
    "    print(e)"
   ]
  },
  {
   "cell_type": "code",
   "execution_count": 15,
   "metadata": {},
   "outputs": [
    {
     "ename": "ValueError",
     "evalue": "invalid literal for int() with base 10: 'ramjee'",
     "output_type": "error",
     "traceback": [
      "\u001b[1;31m---------------------------------------------------------------------------\u001b[0m",
      "\u001b[1;31mValueError\u001b[0m                                Traceback (most recent call last)",
      "\u001b[1;32md:\\Data Science\\Python Coding\\Practice\\30_sept.ipynb Cell 36\u001b[0m line \u001b[0;36m2\n\u001b[0;32m      <a href='vscode-notebook-cell:/d%3A/Data%20Science/Python%20Coding/Practice/30_sept.ipynb#X52sZmlsZQ%3D%3D?line=0'>1</a>\u001b[0m a \u001b[39m=\u001b[39m\u001b[39m\"\u001b[39m\u001b[39mramjee\u001b[39m\u001b[39m\"\u001b[39m\n\u001b[1;32m----> <a href='vscode-notebook-cell:/d%3A/Data%20Science/Python%20Coding/Practice/30_sept.ipynb#X52sZmlsZQ%3D%3D?line=1'>2</a>\u001b[0m \u001b[39mint\u001b[39;49m(a)\n",
      "\u001b[1;31mValueError\u001b[0m: invalid literal for int() with base 10: 'ramjee'"
     ]
    }
   ],
   "source": [
    "a =\"ramjee\"\n",
    "int(a)"
   ]
  },
  {
   "cell_type": "code",
   "execution_count": 16,
   "metadata": {},
   "outputs": [
    {
     "name": "stdout",
     "output_type": "stream",
     "text": [
      "invalid literal for int() with base 10: 'ramjee'\n"
     ]
    }
   ],
   "source": [
    "try :\n",
    "    a =\"ramjee\"\n",
    "    int(a)\n",
    "except Exception as e :\n",
    "    print(e)"
   ]
  },
  {
   "cell_type": "code",
   "execution_count": 17,
   "metadata": {},
   "outputs": [
    {
     "ename": "FileNotFoundError",
     "evalue": "[Errno 2] No such file or directory: 'text.txt'",
     "output_type": "error",
     "traceback": [
      "\u001b[1;31m---------------------------------------------------------------------------\u001b[0m",
      "\u001b[1;31mFileNotFoundError\u001b[0m                         Traceback (most recent call last)",
      "\u001b[1;32md:\\Data Science\\Python Coding\\Practice\\30_sept.ipynb Cell 38\u001b[0m line \u001b[0;36m2\n\u001b[0;32m      <a href='vscode-notebook-cell:/d%3A/Data%20Science/Python%20Coding/Practice/30_sept.ipynb#Y146sZmlsZQ%3D%3D?line=0'>1</a>\u001b[0m file_name \u001b[39m=\u001b[39m\u001b[39m\"\u001b[39m\u001b[39mtext.txt\u001b[39m\u001b[39m\"\u001b[39m\n\u001b[1;32m----> <a href='vscode-notebook-cell:/d%3A/Data%20Science/Python%20Coding/Practice/30_sept.ipynb#Y146sZmlsZQ%3D%3D?line=1'>2</a>\u001b[0m f \u001b[39m=\u001b[39m \u001b[39mopen\u001b[39;49m(file_name)\n\u001b[0;32m      <a href='vscode-notebook-cell:/d%3A/Data%20Science/Python%20Coding/Practice/30_sept.ipynb#Y146sZmlsZQ%3D%3D?line=2'>3</a>\u001b[0m f\u001b[39m.\u001b[39mread()\n",
      "File \u001b[1;32mc:\\Users\\SH0233\\AppData\\Local\\Programs\\Python\\Python311\\Lib\\site-packages\\IPython\\core\\interactiveshell.py:284\u001b[0m, in \u001b[0;36m_modified_open\u001b[1;34m(file, *args, **kwargs)\u001b[0m\n\u001b[0;32m    277\u001b[0m \u001b[39mif\u001b[39;00m file \u001b[39min\u001b[39;00m {\u001b[39m0\u001b[39m, \u001b[39m1\u001b[39m, \u001b[39m2\u001b[39m}:\n\u001b[0;32m    278\u001b[0m     \u001b[39mraise\u001b[39;00m \u001b[39mValueError\u001b[39;00m(\n\u001b[0;32m    279\u001b[0m         \u001b[39mf\u001b[39m\u001b[39m\"\u001b[39m\u001b[39mIPython won\u001b[39m\u001b[39m'\u001b[39m\u001b[39mt let you open fd=\u001b[39m\u001b[39m{\u001b[39;00mfile\u001b[39m}\u001b[39;00m\u001b[39m by default \u001b[39m\u001b[39m\"\u001b[39m\n\u001b[0;32m    280\u001b[0m         \u001b[39m\"\u001b[39m\u001b[39mas it is likely to crash IPython. If you know what you are doing, \u001b[39m\u001b[39m\"\u001b[39m\n\u001b[0;32m    281\u001b[0m         \u001b[39m\"\u001b[39m\u001b[39myou can use builtins\u001b[39m\u001b[39m'\u001b[39m\u001b[39m open.\u001b[39m\u001b[39m\"\u001b[39m\n\u001b[0;32m    282\u001b[0m     )\n\u001b[1;32m--> 284\u001b[0m \u001b[39mreturn\u001b[39;00m io_open(file, \u001b[39m*\u001b[39;49margs, \u001b[39m*\u001b[39;49m\u001b[39m*\u001b[39;49mkwargs)\n",
      "\u001b[1;31mFileNotFoundError\u001b[0m: [Errno 2] No such file or directory: 'text.txt'"
     ]
    }
   ],
   "source": [
    "file_name =\"text.txt\"\n",
    "f = open(file_name)\n",
    "f.read()"
   ]
  },
  {
   "cell_type": "code",
   "execution_count": 18,
   "metadata": {},
   "outputs": [
    {
     "data": {
      "text/plain": [
       "'\\t\\n\\t    1.BIG DATAData Engineer\\t\\t\\nDATA\\t2.DATA SCIENCE\\t\\t\\t\\n\\t    3.DATA ANALYTICS\\tDATA/BUSINESS ANALTYICS\\t\\t\\n\\t\\t\\t\\t\\n\\t\\t\\t\\t\\nBIG DATA -Big data primarily refers to data sets that are too large or complex\\t\\n>>>>>>>>>>>>>>>\\t\\t\\nHadoop-\\tApache Hadoop software library is a framework that allows for the distributed processing of large data sets across clusters of computers using simple programming models,Alernative like Cloudera, Hortonworks, AWS (AMR)\\t\\n\\nHive-\\tA data warehouse infrastructure that provides data summarization and ad hoc querying.WORKS ON TOP OF HADOOP\\t\\n\\nHbase-\\tA scalable, distributed database that supports structured data storage for large tables\\t\\n\\nSpark-\\tProcessing Engine .A fast and general compute engine for Hadoop data. Spark provides a simple and expressive programming model that supports a wide range of applications, including ETL, machine learning, stream processing, and graph computation.\\t\\n\\nKafka-Messaging System.Apache Kafka is a distributed event store and stream-processing platform. It is an open-source system developed by the Apache Software Foundation written in Java and Scala. The project aims to provide a unified, high-throughput, low-latency platform for handling real-time data feeds.\\t\\t\\n\\nOozie-Apache Oozie is a server-based workflow scheduling system to manage Hadoop jobs.Xml based system, Alernative Airflow\\t\\t\\n\\nSqoop-Sqoop is a command-line interface application for transferring data between relational databases and Hadoop.\\t\\n\\n\\t\\t\\t\\nzookepper-\\tFeedback system or maintain a session .Apache ZooKeeper is an open-source server for highly reliable distributed coordination of cloud applications.\\n\\nProgramming Language< Java , Scala, Python\\t\\t\\n\\nDSA\\t- Data Structures and Algorithms\\t\\t\\t\\nSQL\\t- Structured Query Language\\t\\t\\t\\nCloud\\t\\t\\t\\t\\nOps\\tauto scaling\\t\\t\\t\\t\\n\\n###############################################################################            \\t\\nHDFS\\tHadoop Distributed File System\\t\\t\\t\\nGDFS\\tGOOGLE DISTRIBUTED FILE SYSTEM\\t\\t\\t\\nGCP\\tGoogle Cloud Platform\\t\\t\\t\\nETL\\tExtract Transform and Load\\t\\t\\t\\n\\n#################################################################################\\t\\t\\t\\t\\nDATA SCIENCE\\t\\n\\nProgramming Language< Java , Scala, Python\\t\\t\\t\\t\\nDSA\\tFOR PRODUCT BASE SOFTWARE/COMPANY\\t\\t\\t\\nSQL\\t\\t\\t\\t\\nMath\\t\\t\\t\\t\\nML -\\tMachine Learning\\t\\t\\t\\nDL -\\tDeep Learning\\t\\t\\t\\nCV -\\tComputer Vision\\t\\t\\t\\nNLP\\t- Natural Language Processing\\t\\t\\t\\nRL-\\tReinforcement Learning\\t\\t\\t\\nOPS -\\tML/DL Operational\\t\\t\\t\\nCLOUD-\\tAWS , AZURE, GCP\\t\\t\\t\\n\\t\\t\\t\\t\\n####################################################################################\\t\\t\\t\\t\\nDATA ANALYTICS\\t\\t\\t\\t\\nSQL\\t\\t\\t\\t\\nPython\\t\\t\\t\\t\\nDashboard\\tPOWER BI, TABLEU, QULICK\\t\\t\\t\\nExcel\\t\\t\\t\\t\\nStats\\t\\t\\t\\t\\nML\\tMachine Learning Overview \\t\\t\\t\\n\\t\\t\\t\\t\\n++++++++++++++++++++++++++++++++++++++++++++++++++++++++++++\\t\\t\\t\\t\\ntypes  of data \\t\\t\\t\\t\\n.csv\\t\\t\\t\\t\\n.pdf\\t\\t\\t\\t\\n.xml\\t\\t\\t\\t\\n.json/.yaml\\t\\t\\t\\t\\n.mp4/.mp3\\t\\t\\t\\t\\n.jpeg/.png\\t\\t\\t\\t\\noracle/javascripts\\t\\t\\t\\t\\n.txt\\t\\t\\t\\t\\n\\t\\t\\t\\t\\nData is like a crude oil. We can define according to ypes of data and choose sturactural means a data like schema/dbo/ table like SQL, ORACLE types and non-structural like pdf, jpg\\t\\t\\t\\t\\nand semi structure means having schema but flow all types of data like facebook data , linkedin , whatsapp\\t\\n\\n'"
      ]
     },
     "execution_count": 18,
     "metadata": {},
     "output_type": "execute_result"
    }
   ],
   "source": [
    "# read test.txt file\n",
    "file_name =\"test.txt\"\n",
    "f = open(file_name)\n",
    "f.read()"
   ]
  },
  {
   "cell_type": "code",
   "execution_count": 19,
   "metadata": {},
   "outputs": [
    {
     "data": {
      "text/plain": [
       "'d:\\\\Data Science\\\\Python Coding\\\\Practice'"
      ]
     },
     "execution_count": 19,
     "metadata": {},
     "output_type": "execute_result"
    }
   ],
   "source": [
    "pwd # present working directory"
   ]
  },
  {
   "cell_type": "code",
   "execution_count": 20,
   "metadata": {},
   "outputs": [
    {
     "name": "stdout",
     "output_type": "stream",
     "text": [
      " Volume in drive D is New Volume\n",
      " Volume Serial Number is 5A22-0754\n",
      "\n",
      " Directory of d:\\Data Science\\Python Coding\\Practice\n",
      "\n",
      "08-10-2023  19:50    <DIR>          .\n",
      "08-10-2023  16:54    <DIR>          ..\n",
      "23-09-2023  20:13    <DIR>          .ipynb_checkpoints\n",
      "04-10-2023  17:50             4,168 01_Oct_Oops.ipynb\n",
      "22-08-2023  20:41            32,356 1_Python_Variable.ipynb\n",
      "19-08-2023  22:09             2,784 1_Python_Variable-checkpoint.ipynb\n",
      "16-09-2023  23:10            20,468 16_sept.ipynb\n",
      "17-09-2023  16:57            41,601 17_sept.ipynb\n",
      "22-08-2023  22:19            32,720 2_list.ipynb\n",
      "23-09-2023  20:00            19,284 2_Python_Var2.ipynb\n",
      "23-08-2023  19:50             8,262 2_set.ipynb\n",
      "22-08-2023  22:32             6,524 2_tulpe.ipynb\n",
      "24-09-2023  21:51            42,240 24_sept.ipynb\n",
      "04-09-2023  22:32            16,568 3_For.ipynb\n",
      "08-10-2023  19:56            58,026 30_sept.ipynb\n",
      "04-09-2023  22:48             2,283 4_whileloop.ipynb\n",
      "07-10-2023  16:33             7,761 7_oct.ipynb\n",
      "08-10-2023  19:50    <DIR>          FlutterTutorial\n",
      "23-09-2023  19:59            10,245 map_reduce_filter.ipynb\n",
      "10-09-2023  21:00               143 mergeconflit.py\n",
      "25-09-2023  08:13             8,402 numpy.ipynb\n",
      "23-09-2023  21:34            14,110 Opps.ipynb\n",
      "26-09-2023  22:49            13,807 panda.ipynb\n",
      "16-09-2023  21:34                 0 python.py\n",
      "12-09-2023  19:54            15,961 rs.ipynb\n",
      "16-09-2023  20:15               484 rs.js\n",
      "08-10-2023  19:45             3,205 test.txt\n",
      "05-09-2023  12:12            10,585 tsql.sql\n",
      "08-10-2023  16:41             8,396 Untitled.ipynb\n",
      "              25 File(s)        380,383 bytes\n",
      "               4 Dir(s)  38,396,891,136 bytes free\n"
     ]
    }
   ],
   "source": [
    "ls"
   ]
  },
  {
   "cell_type": "code",
   "execution_count": 21,
   "metadata": {},
   "outputs": [
    {
     "name": "stdout",
     "output_type": "stream",
     "text": [
      " Volume in drive D is New Volume\n",
      " Volume Serial Number is 5A22-0754\n",
      "\n",
      " Directory of d:\\Data Science\\Python Coding\\Practice\n",
      "\n"
     ]
    },
    {
     "name": "stderr",
     "output_type": "stream",
     "text": [
      "File Not Found\n"
     ]
    }
   ],
   "source": [
    "ls -l"
   ]
  },
  {
   "cell_type": "code",
   "execution_count": 58,
   "metadata": {},
   "outputs": [
    {
     "name": "stdout",
     "output_type": "stream",
     "text": [
      "[Errno 22] Invalid argument: \"D':/Data Science/Python Coding/Practice/test.txt\"\n"
     ]
    }
   ],
   "source": [
    "# file path should be /home/jovyan/work/pro/test.txt\n",
    "try :\n",
    "    # file_name = \"D':\\\\Data Science\\\\Python Coding\\\\Class\\\\test.txt\" \n",
    "    #  fully qualified path in windows no space between folder name and forward slas in place of backward slas\n",
    "    file_name = \"D':/Data Science/Python Coding/Practice/test.txt\"\n",
    "    f = open (file_name)\n",
    "    f.read()\n",
    "except Exception as e :\n",
    "    print(e)"
   ]
  },
  {
   "cell_type": "code",
   "execution_count": 31,
   "metadata": {},
   "outputs": [
    {
     "name": "stdout",
     "output_type": "stream",
     "text": [
      "test.txt\n"
     ]
    }
   ],
   "source": [
    "import os\n",
    "print(os.path.basename(\"D:\\\\Data Science\\\\Python Coding\\\\Practice\\\\test.txt\"))"
   ]
  },
  {
   "cell_type": "code",
   "execution_count": 33,
   "metadata": {},
   "outputs": [],
   "source": [
    "try :\n",
    "    file_name = \"D:\\\\Data Science\\\\Python Coding\\\\Practice\\\\test.txt\"\n",
    "    f = open (file_name)\n",
    "    f.read()\n",
    "except Exception as e :\n",
    "    print(e)"
   ]
  },
  {
   "cell_type": "code",
   "execution_count": 56,
   "metadata": {},
   "outputs": [
    {
     "name": "stdout",
     "output_type": "stream",
     "text": [
      "[Errno 2] No such file or directory: '30_sep.ipynb'\n"
     ]
    }
   ],
   "source": [
    "try :\n",
    "    file_name = \"30_sep.ipynb\"\n",
    "    f = open (file_name)\n",
    "    f.read()\n",
    "except Exception as e :\n",
    "    print(e)"
   ]
  },
  {
   "cell_type": "code",
   "execution_count": 38,
   "metadata": {},
   "outputs": [
    {
     "data": {
      "text/plain": [
       "<_io.TextIOWrapper name='test.txt' mode='r' encoding='cp1252'>"
      ]
     },
     "execution_count": 38,
     "metadata": {},
     "output_type": "execute_result"
    }
   ],
   "source": [
    "open (\"test.txt\") # we can open using if file in current path"
   ]
  },
  {
   "cell_type": "code",
   "execution_count": 62,
   "metadata": {},
   "outputs": [
    {
     "data": {
      "text/plain": [
       "'\\t\\n\\t    1.BIG DATAData Engineer\\t\\t\\nDATA\\t2.DATA SCIENCE\\t\\t\\t\\n\\t    3.DATA ANALYTICS\\tDATA/BUSINESS ANALTYICS\\t\\t\\n\\t\\t\\t\\t\\n\\t\\t\\t\\t\\nBIG DATA -Big data primarily refers to data sets that are too large or complex\\t\\n>>>>>>>>>>>>>>>\\t\\t\\nHadoop-\\tApache Hadoop software library is a framework that allows for the distributed processing of large data sets across clusters of computers using simple programming models,Alernative like Cloudera, Hortonworks, AWS (AMR)\\t\\n\\nHive-\\tA data warehouse infrastructure that provides data summarization and ad hoc querying.WORKS ON TOP OF HADOOP\\t\\n\\nHbase-\\tA scalable, distributed database that supports structured data storage for large tables\\t\\n\\nSpark-\\tProcessing Engine .A fast and general compute engine for Hadoop data. Spark provides a simple and expressive programming model that supports a wide range of applications, including ETL, machine learning, stream processing, and graph computation.\\t\\n\\nKafka-Messaging System.Apache Kafka is a distributed event store and stream-processing platform. It is an open-source system developed by the Apache Software Foundation written in Java and Scala. The project aims to provide a unified, high-throughput, low-latency platform for handling real-time data feeds.\\t\\t\\n\\nOozie-Apache Oozie is a server-based workflow scheduling system to manage Hadoop jobs.Xml based system, Alernative Airflow\\t\\t\\n\\nSqoop-Sqoop is a command-line interface application for transferring data between relational databases and Hadoop.\\t\\n\\n\\t\\t\\t\\nzookepper-\\tFeedback system or maintain a session .Apache ZooKeeper is an open-source server for highly reliable distributed coordination of cloud applications.\\n\\nProgramming Language< Java , Scala, Python\\t\\t\\n\\nDSA\\t- Data Structures and Algorithms\\t\\t\\t\\nSQL\\t- Structured Query Language\\t\\t\\t\\nCloud\\t\\t\\t\\t\\nOps\\tauto scaling\\t\\t\\t\\t\\n\\n###############################################################################            \\t\\nHDFS\\tHadoop Distributed File System\\t\\t\\t\\nGDFS\\tGOOGLE DISTRIBUTED FILE SYSTEM\\t\\t\\t\\nGCP\\tGoogle Cloud Platform\\t\\t\\t\\nETL\\tExtract Transform and Load\\t\\t\\t\\n\\n#################################################################################\\t\\t\\t\\t\\nDATA SCIENCE\\t\\n\\nProgramming Language< Java , Scala, Python\\t\\t\\t\\t\\nDSA\\tFOR PRODUCT BASE SOFTWARE/COMPANY\\t\\t\\t\\nSQL\\t\\t\\t\\t\\nMath\\t\\t\\t\\t\\nML -\\tMachine Learning\\t\\t\\t\\nDL -\\tDeep Learning\\t\\t\\t\\nCV -\\tComputer Vision\\t\\t\\t\\nNLP\\t- Natural Language Processing\\t\\t\\t\\nRL-\\tReinforcement Learning\\t\\t\\t\\nOPS -\\tML/DL Operational\\t\\t\\t\\nCLOUD-\\tAWS , AZURE, GCP\\t\\t\\t\\n\\t\\t\\t\\t\\n####################################################################################\\t\\t\\t\\t\\nDATA ANALYTICS\\t\\t\\t\\t\\nSQL\\t\\t\\t\\t\\nPython\\t\\t\\t\\t\\nDashboard\\tPOWER BI, TABLEU, QULICK\\t\\t\\t\\nExcel\\t\\t\\t\\t\\nStats\\t\\t\\t\\t\\nML\\tMachine Learning Overview \\t\\t\\t\\n\\t\\t\\t\\t\\n++++++++++++++++++++++++++++++++++++++++++++++++++++++++++++\\t\\t\\t\\t\\ntypes  of data \\t\\t\\t\\t\\n.csv\\t\\t\\t\\t\\n.pdf\\t\\t\\t\\t\\n.xml\\t\\t\\t\\t\\n.json/.yaml\\t\\t\\t\\t\\n.mp4/.mp3\\t\\t\\t\\t\\n.jpeg/.png\\t\\t\\t\\t\\noracle/javascripts\\t\\t\\t\\t\\n.txt\\t\\t\\t\\t\\n\\t\\t\\t\\t\\nData is like a crude oil. We can define according to ypes of data and choose sturactural means a data like schema/dbo/ table like SQL, ORACLE types and non-structural like pdf, jpg\\t\\t\\t\\t\\nand semi structure means having schema but flow all types of data like facebook data , linkedin , whatsapp\\t\\n\\n'"
      ]
     },
     "execution_count": 62,
     "metadata": {},
     "output_type": "execute_result"
    }
   ],
   "source": [
    "# read file after opening the file\n",
    "# <_io.TextIOWrapper name='test.txt' mode='r' encoding='cp1252'> \n",
    "\n",
    "# io input output buffer\n",
    "file_name =\"test.txt\"\n",
    "f = open(file_name)\n",
    "f.read()\n"
   ]
  },
  {
   "cell_type": "code",
   "execution_count": 63,
   "metadata": {},
   "outputs": [],
   "source": [
    "file_name =\"test.txt\"\n",
    "f = open(file_name)\n",
    "f.read()\n",
    "f.close() # close after read"
   ]
  },
  {
   "cell_type": "code",
   "execution_count": 65,
   "metadata": {},
   "outputs": [
    {
     "ename": "UnsupportedOperation",
     "evalue": "not writable",
     "output_type": "error",
     "traceback": [
      "\u001b[1;31m---------------------------------------------------------------------------\u001b[0m",
      "\u001b[1;31mUnsupportedOperation\u001b[0m                      Traceback (most recent call last)",
      "\u001b[1;32md:\\Data Science\\Python Coding\\Practice\\30_sept.ipynb Cell 50\u001b[0m line \u001b[0;36m3\n\u001b[0;32m      <a href='vscode-notebook-cell:/d%3A/Data%20Science/Python%20Coding/Practice/30_sept.ipynb#Y204sZmlsZQ%3D%3D?line=0'>1</a>\u001b[0m file_name \u001b[39m=\u001b[39m\u001b[39m\"\u001b[39m\u001b[39mtest.txt\u001b[39m\u001b[39m\"\u001b[39m\n\u001b[0;32m      <a href='vscode-notebook-cell:/d%3A/Data%20Science/Python%20Coding/Practice/30_sept.ipynb#Y204sZmlsZQ%3D%3D?line=1'>2</a>\u001b[0m f \u001b[39m=\u001b[39m \u001b[39mopen\u001b[39m(file_name)\n\u001b[1;32m----> <a href='vscode-notebook-cell:/d%3A/Data%20Science/Python%20Coding/Practice/30_sept.ipynb#Y204sZmlsZQ%3D%3D?line=2'>3</a>\u001b[0m f\u001b[39m.\u001b[39;49mwrite(\u001b[39m\"\u001b[39;49m\u001b[39madd\u001b[39;49m\u001b[39m\"\u001b[39;49m) \u001b[39m# edit\u001b[39;00m\n\u001b[0;32m      <a href='vscode-notebook-cell:/d%3A/Data%20Science/Python%20Coding/Practice/30_sept.ipynb#Y204sZmlsZQ%3D%3D?line=3'>4</a>\u001b[0m f\u001b[39m.\u001b[39mclose() \u001b[39m# close after write\u001b[39;00m\n",
      "\u001b[1;31mUnsupportedOperation\u001b[0m: not writable"
     ]
    }
   ],
   "source": [
    "file_name =\"test.txt\"\n",
    "f = open(file_name)\n",
    "f.write(\"add\") # edit\n",
    "f.close() # close after write"
   ]
  },
  {
   "cell_type": "code",
   "execution_count": 67,
   "metadata": {},
   "outputs": [
    {
     "name": "stdout",
     "output_type": "stream",
     "text": [
      "There is some issue\n"
     ]
    }
   ],
   "source": [
    "# handle write error\n",
    "try :\n",
    "    f = open(\"test.txt\")\n",
    "    f.write(\"add\") # edit\n",
    "except Exception :\n",
    "    print(\"There is some issue\") \n",
    "finally :\n",
    "    f.close() # close after write"
   ]
  },
  {
   "cell_type": "code",
   "execution_count": 68,
   "metadata": {},
   "outputs": [
    {
     "name": "stdout",
     "output_type": "stream",
     "text": [
      "\t\n",
      "\t    1.BIG DATAData Engineer\t\t\n",
      "DATA\t2.DATA SCIENCE\t\t\t\n",
      "\t    3.DATA ANALYTICS\tDATA/BUSINESS ANALTYICS\t\t\n",
      "\t\t\t\t\n",
      "\t\t\t\t\n",
      "BIG DATA -Big data primarily refers to data sets that are too large or complex\t\n",
      ">>>>>>>>>>>>>>>\t\t\n",
      "Hadoop-\tApache Hadoop software library is a framework that allows for the distributed processing of large data sets across clusters of computers using simple programming models,Alernative like Cloudera, Hortonworks, AWS (AMR)\t\n",
      "\n",
      "Hive-\tA data warehouse infrastructure that provides data summarization and ad hoc querying.WORKS ON TOP OF HADOOP\t\n",
      "\n",
      "Hbase-\tA scalable, distributed database that supports structured data storage for large tables\t\n",
      "\n",
      "Spark-\tProcessing Engine .A fast and general compute engine for Hadoop data. Spark provides a simple and expressive programming model that supports a wide range of applications, including ETL, machine learning, stream processing, and graph computation.\t\n",
      "\n",
      "Kafka-Messaging System.Apache Kafka is a distributed event store and stream-processing platform. It is an open-source system developed by the Apache Software Foundation written in Java and Scala. The project aims to provide a unified, high-throughput, low-latency platform for handling real-time data feeds.\t\t\n",
      "\n",
      "Oozie-Apache Oozie is a server-based workflow scheduling system to manage Hadoop jobs.Xml based system, Alernative Airflow\t\t\n",
      "\n",
      "Sqoop-Sqoop is a command-line interface application for transferring data between relational databases and Hadoop.\t\n",
      "\n",
      "\t\t\t\n",
      "zookepper-\tFeedback system or maintain a session .Apache ZooKeeper is an open-source server for highly reliable distributed coordination of cloud applications.\n",
      "\n",
      "Programming Language< Java , Scala, Python\t\t\n",
      "\n",
      "DSA\t- Data Structures and Algorithms\t\t\t\n",
      "SQL\t- Structured Query Language\t\t\t\n",
      "Cloud\t\t\t\t\n",
      "Ops\tauto scaling\t\t\t\t\n",
      "\n",
      "###############################################################################            \t\n",
      "HDFS\tHadoop Distributed File System\t\t\t\n",
      "GDFS\tGOOGLE DISTRIBUTED FILE SYSTEM\t\t\t\n",
      "GCP\tGoogle Cloud Platform\t\t\t\n",
      "ETL\tExtract Transform and Load\t\t\t\n",
      "\n",
      "#################################################################################\t\t\t\t\n",
      "DATA SCIENCE\t\n",
      "\n",
      "Programming Language< Java , Scala, Python\t\t\t\t\n",
      "DSA\tFOR PRODUCT BASE SOFTWARE/COMPANY\t\t\t\n",
      "SQL\t\t\t\t\n",
      "Math\t\t\t\t\n",
      "ML -\tMachine Learning\t\t\t\n",
      "DL -\tDeep Learning\t\t\t\n",
      "CV -\tComputer Vision\t\t\t\n",
      "NLP\t- Natural Language Processing\t\t\t\n",
      "RL-\tReinforcement Learning\t\t\t\n",
      "OPS -\tML/DL Operational\t\t\t\n",
      "CLOUD-\tAWS , AZURE, GCP\t\t\t\n",
      "\t\t\t\t\n",
      "####################################################################################\t\t\t\t\n",
      "DATA ANALYTICS\t\t\t\t\n",
      "SQL\t\t\t\t\n",
      "Python\t\t\t\t\n",
      "Dashboard\tPOWER BI, TABLEU, QULICK\t\t\t\n",
      "Excel\t\t\t\t\n",
      "Stats\t\t\t\t\n",
      "ML\tMachine Learning Overview \t\t\t\n",
      "\t\t\t\t\n",
      "++++++++++++++++++++++++++++++++++++++++++++++++++++++++++++\t\t\t\t\n",
      "types  of data \t\t\t\t\n",
      ".csv\t\t\t\t\n",
      ".pdf\t\t\t\t\n",
      ".xml\t\t\t\t\n",
      ".json/.yaml\t\t\t\t\n",
      ".mp4/.mp3\t\t\t\t\n",
      ".jpeg/.png\t\t\t\t\n",
      "oracle/javascripts\t\t\t\t\n",
      ".txt\t\t\t\t\n",
      "\t\t\t\t\n",
      "Data is like a crude oil. We can define according to ypes of data and choose sturactural means a data like schema/dbo/ table like SQL, ORACLE types and non-structural like pdf, jpg\t\t\t\t\n",
      "and semi structure means having schema but flow all types of data like facebook data , linkedin , whatsapp\t\n",
      "\n",
      "\n",
      "File Closed\n"
     ]
    }
   ],
   "source": [
    "# if no error then read\n",
    "try :\n",
    "    f = open(\"test.txt\")\n",
    "    data = f.read()\n",
    "except Exception :\n",
    "    print(\"There is some issue\") \n",
    "else :\n",
    "    print(data)\n",
    "finally :\n",
    "    f.close() # close \n",
    "    print(\"File Closed\")"
   ]
  },
  {
   "cell_type": "code",
   "execution_count": 69,
   "metadata": {},
   "outputs": [
    {
     "name": "stdout",
     "output_type": "stream",
     "text": [
      "There is some issue\n",
      "File Closed\n"
     ]
    }
   ],
   "source": [
    "# put wrong file name if no error then read\n",
    "try :\n",
    "    f = open(\"tests.txt\")\n",
    "    data = f.read()\n",
    "except Exception :\n",
    "    print(\"There is some issue\") \n",
    "else :\n",
    "    print(data)\n",
    "finally :\n",
    "    f.close() # close \n",
    "    print(\"File Closed\")"
   ]
  },
  {
   "cell_type": "code",
   "execution_count": 6,
   "metadata": {},
   "outputs": [
    {
     "name": "stdout",
     "output_type": "stream",
     "text": [
      "There is some issue\n"
     ]
    },
    {
     "ename": "NameError",
     "evalue": "name 'data' is not defined",
     "output_type": "error",
     "traceback": [
      "\u001b[1;31m---------------------------------------------------------------------------\u001b[0m",
      "\u001b[1;31mNameError\u001b[0m                                 Traceback (most recent call last)",
      "\u001b[1;32md:\\Data Science\\Python Coding\\Practice\\30_sept.ipynb Cell 54\u001b[0m line \u001b[0;36m1\n\u001b[0;32m      <a href='vscode-notebook-cell:/d%3A/Data%20Science/Python%20Coding/Practice/30_sept.ipynb#Y211sZmlsZQ%3D%3D?line=8'>9</a>\u001b[0m     \u001b[39mprint\u001b[39m(data) \u001b[39m# this will not excecuted \u001b[39;00m\n\u001b[0;32m     <a href='vscode-notebook-cell:/d%3A/Data%20Science/Python%20Coding/Practice/30_sept.ipynb#Y211sZmlsZQ%3D%3D?line=9'>10</a>\u001b[0m \u001b[39mfinally\u001b[39;00m :\n\u001b[1;32m---> <a href='vscode-notebook-cell:/d%3A/Data%20Science/Python%20Coding/Practice/30_sept.ipynb#Y211sZmlsZQ%3D%3D?line=10'>11</a>\u001b[0m     \u001b[39mprint\u001b[39m(data) \u001b[39m# this will exceuted\u001b[39;00m\n\u001b[0;32m     <a href='vscode-notebook-cell:/d%3A/Data%20Science/Python%20Coding/Practice/30_sept.ipynb#Y211sZmlsZQ%3D%3D?line=11'>12</a>\u001b[0m     f\u001b[39m.\u001b[39mclose() \u001b[39m# close \u001b[39;00m\n\u001b[0;32m     <a href='vscode-notebook-cell:/d%3A/Data%20Science/Python%20Coding/Practice/30_sept.ipynb#Y211sZmlsZQ%3D%3D?line=12'>13</a>\u001b[0m     \u001b[39mprint\u001b[39m(\u001b[39m\"\u001b[39m\u001b[39mFile Closed\u001b[39m\u001b[39m\"\u001b[39m)\n",
      "\u001b[1;31mNameError\u001b[0m: name 'data' is not defined"
     ]
    }
   ],
   "source": [
    "#  error due to finally not handle the situation\n",
    "\n",
    "try :\n",
    "    f = open(\"test.txt\")\n",
    "    data = f.write()\n",
    "except Exception :\n",
    "    print(\"There is some issue\") \n",
    "else :\n",
    "    print(data) # this will not excecuted \n",
    "finally :\n",
    "    print(data) # this will exceuted\n",
    "    f.close() # close \n",
    "    print(\"File Closed\")\n",
    "    "
   ]
  },
  {
   "cell_type": "code",
   "execution_count": 7,
   "metadata": {},
   "outputs": [
    {
     "name": "stdout",
     "output_type": "stream",
     "text": [
      "There is some issue\n",
      "File Closed\n"
     ]
    }
   ],
   "source": [
    "try :\n",
    "    f = open(\"test.txt\")\n",
    "    data = f.write()\n",
    "except Exception :\n",
    "    print(\"There is some issue\") \n",
    "else :\n",
    "    print(data) # this will not excecuted \n",
    "finally :\n",
    "    try : # handle error with try in finally\n",
    "        print(data) # this will exceuted\n",
    "    except :\n",
    "        pass\n",
    "    f.close() # close \n",
    "    print(\"File Closed\")\n",
    "    "
   ]
  },
  {
   "cell_type": "code",
   "execution_count": 8,
   "metadata": {},
   "outputs": [
    {
     "data": {
      "text/plain": [
       "<_io.TextIOWrapper name='test.txt' mode='r' encoding='cp1252'>"
      ]
     },
     "execution_count": 8,
     "metadata": {},
     "output_type": "execute_result"
    }
   ],
   "source": [
    "f"
   ]
  },
  {
   "cell_type": "code",
   "execution_count": 40,
   "metadata": {},
   "outputs": [
    {
     "name": "stdout",
     "output_type": "stream",
     "text": [
      "[WinError 2] The system cannot find the file specified: '.. # current directort one step bach'\n",
      "d:\\Data Science\\Python Coding\\Practice\n"
     ]
    }
   ],
   "source": [
    "cd .. # current directorty one step back"
   ]
  },
  {
   "cell_type": "code",
   "execution_count": 2,
   "metadata": {},
   "outputs": [
    {
     "name": "stdin",
     "output_type": "stream",
     "text": [
      "enter a number y\n"
     ]
    },
    {
     "ename": "ValueError",
     "evalue": "invalid literal for int() with base 10: 'y'",
     "output_type": "error",
     "traceback": [
      "\u001b[1;31m---------------------------------------------------------------------------\u001b[0m",
      "\u001b[1;31mValueError\u001b[0m                                Traceback (most recent call last)",
      "Cell \u001b[1;32mIn[2], line 1\u001b[0m\n\u001b[1;32m----> 1\u001b[0m n \u001b[38;5;241m=\u001b[39m \u001b[38;5;28;43mint\u001b[39;49m\u001b[43m(\u001b[49m\u001b[38;5;28;43minput\u001b[39;49m\u001b[43m(\u001b[49m\u001b[38;5;124;43m\"\u001b[39;49m\u001b[38;5;124;43menter a number\u001b[39;49m\u001b[38;5;124;43m\"\u001b[39;49m\u001b[43m)\u001b[49m\u001b[43m)\u001b[49m\n\u001b[0;32m      2\u001b[0m div \u001b[38;5;241m=\u001b[39m \u001b[38;5;241m342\u001b[39m\u001b[38;5;241m/\u001b[39mn\n\u001b[0;32m      3\u001b[0m \u001b[38;5;28mprint\u001b[39m(div)\n",
      "\u001b[1;31mValueError\u001b[0m: invalid literal for int() with base 10: 'y'"
     ]
    }
   ],
   "source": [
    "n = int(input(\"enter a number\"))\n",
    "div = 342/n\n",
    "print(div)"
   ]
  },
  {
   "cell_type": "code",
   "execution_count": 3,
   "metadata": {},
   "outputs": [
    {
     "name": "stdin",
     "output_type": "stream",
     "text": [
      "enter a number y\n"
     ]
    },
    {
     "name": "stdout",
     "output_type": "stream",
     "text": [
      "user has enter invalid input\n"
     ]
    }
   ],
   "source": [
    "# handle input error\n",
    "try :\n",
    "    n = int(input(\"enter a number\"))\n",
    "    div = 342/n\n",
    "    print(div)\n",
    "except ValueError :\n",
    "    print(\"user has enter invalid input\")\n"
   ]
  },
  {
   "cell_type": "code",
   "execution_count": 4,
   "metadata": {},
   "outputs": [
    {
     "name": "stdin",
     "output_type": "stream",
     "text": [
      "enter a number 0\n"
     ]
    },
    {
     "ename": "ZeroDivisionError",
     "evalue": "division by zero",
     "output_type": "error",
     "traceback": [
      "\u001b[1;31m---------------------------------------------------------------------------\u001b[0m",
      "\u001b[1;31mZeroDivisionError\u001b[0m                         Traceback (most recent call last)",
      "Cell \u001b[1;32mIn[4], line 4\u001b[0m\n\u001b[0;32m      2\u001b[0m \u001b[38;5;28;01mtry\u001b[39;00m :\n\u001b[0;32m      3\u001b[0m     n \u001b[38;5;241m=\u001b[39m \u001b[38;5;28mint\u001b[39m(\u001b[38;5;28minput\u001b[39m(\u001b[38;5;124m\"\u001b[39m\u001b[38;5;124menter a number\u001b[39m\u001b[38;5;124m\"\u001b[39m))\n\u001b[1;32m----> 4\u001b[0m     div \u001b[38;5;241m=\u001b[39m \u001b[38;5;241;43m342\u001b[39;49m\u001b[38;5;241;43m/\u001b[39;49m\u001b[43mn\u001b[49m\n\u001b[0;32m      5\u001b[0m     \u001b[38;5;28mprint\u001b[39m(div)\n\u001b[0;32m      6\u001b[0m \u001b[38;5;28;01mexcept\u001b[39;00m \u001b[38;5;167;01mValueError\u001b[39;00m :\n",
      "\u001b[1;31mZeroDivisionError\u001b[0m: division by zero"
     ]
    }
   ],
   "source": [
    "# handle zero div error \n",
    "try :\n",
    "    n = int(input(\"enter a number\"))\n",
    "    div = 342/n\n",
    "    print(div)\n",
    "except ValueError :\n",
    "    print(\"user has enter invalid input\")\n"
   ]
  },
  {
   "cell_type": "code",
   "execution_count": 5,
   "metadata": {},
   "outputs": [
    {
     "name": "stdin",
     "output_type": "stream",
     "text": [
      "enter a number 0\n"
     ]
    },
    {
     "name": "stdout",
     "output_type": "stream",
     "text": [
      "user has entered zero\n"
     ]
    }
   ],
   "source": [
    "try :\n",
    "    n = int(input(\"enter a number\"))\n",
    "    div = 342/n\n",
    "    print(div)\n",
    "except ValueError :\n",
    "    print(\"user has enter invalid input\")\n",
    "except ZeroDivisionError :\n",
    "    print(\"user has entered zero\")"
   ]
  },
  {
   "cell_type": "code",
   "execution_count": 6,
   "metadata": {},
   "outputs": [
    {
     "name": "stdin",
     "output_type": "stream",
     "text": [
      "enter a number 0\n"
     ]
    },
    {
     "name": "stdout",
     "output_type": "stream",
     "text": [
      "user has enter invalid input or zero\n"
     ]
    }
   ],
   "source": [
    "# we can write both in sigle line but message will only one\n",
    "try :\n",
    "    n = int(input(\"enter a number\"))\n",
    "    div = 342/n\n",
    "    print(div)\n",
    "except (ValueError,ZeroDivisionError) :\n",
    "    print(\"user has enter invalid input or zero\")\n"
   ]
  },
  {
   "cell_type": "code",
   "execution_count": 7,
   "metadata": {},
   "outputs": [
    {
     "name": "stdin",
     "output_type": "stream",
     "text": [
      "enter a number 80\n"
     ]
    },
    {
     "name": "stdout",
     "output_type": "stream",
     "text": [
      "4.275\n"
     ]
    }
   ],
   "source": [
    "# we can get separate message by using try inside try block\n",
    "try :\n",
    "    try :\n",
    "        n = int(input(\"enter a number\"))\n",
    "        div = 342/n\n",
    "        print(div)\n",
    "    except ValueError :\n",
    "        print(\"user has entered invalid input\") # innner try \n",
    "except ZeroDivisionError :\n",
    "    print(\"user has enter zero\") #outer try block"
   ]
  },
  {
   "cell_type": "code",
   "execution_count": null,
   "metadata": {},
   "outputs": [
    {
     "name": "stdin",
     "output_type": "stream",
     "text": [
      "enter a number 78\n"
     ]
    }
   ],
   "source": [
    "try :\n",
    "    try :\n",
    "        n = int(input(\"enter a number\"))\n",
    "        div = 342/n\n",
    "        print(div)\n",
    "    except ValueError :\n",
    "        print(\"user has entered invalid input\") # innner try \n",
    "except ZeroDivisionError :\n",
    "    print(\"user has enter zero\") #outer try block"
   ]
  },
  {
   "cell_type": "code",
   "execution_count": 2,
   "metadata": {},
   "outputs": [
    {
     "name": "stdin",
     "output_type": "stream",
     "text": [
      "enter a number ty\n"
     ]
    },
    {
     "name": "stdout",
     "output_type": "stream",
     "text": [
      "user has entered invalid input\n"
     ]
    }
   ],
   "source": [
    "# we can handle using else\n",
    "try :\n",
    "    n = int(input(\"enter a number\"))\n",
    "    div = 342/n\n",
    "    print(div)\n",
    "except Exception: # if input incorrect then except will handle\n",
    "    print(\"user has entered invalid input\") # innner try \n",
    "else :\n",
    "    print(div)"
   ]
  },
  {
   "cell_type": "code",
   "execution_count": 54,
   "metadata": {},
   "outputs": [
    {
     "name": "stdout",
     "output_type": "stream",
     "text": [
      "5.104477611940299\n",
      "5.104477611940299\n"
     ]
    }
   ],
   "source": [
    "try :\n",
    "    n = int(input(\"enter a number\"))\n",
    "    div = 342/n\n",
    "    print(div)\n",
    "except Exception: # if input incorrect then except will handle\n",
    "    print(\"user has entered invalid input\") # innner try \n",
    "else :\n",
    "    print(div)"
   ]
  },
  {
   "cell_type": "code",
   "execution_count": 35,
   "metadata": {},
   "outputs": [
    {
     "name": "stdout",
     "output_type": "stream",
     "text": [
      "['Mitsubishi', 'Ford', 'BMW', 'VW']\n"
     ]
    }
   ],
   "source": [
    "# A function that returns the length of the value:\n",
    "def myFunc(e):\n",
    "  return len(e)\n",
    "cars = ['Ford', 'Mitsubishi', 'BMW', 'VW']\n",
    "cars.sort(reverse=True, key=myFunc)\n",
    "print(cars)"
   ]
  },
  {
   "cell_type": "code",
   "execution_count": 36,
   "metadata": {},
   "outputs": [],
   "source": [
    "try :\n",
    "    a = int(input())\n",
    "    b = int(input())\n",
    "    c = a/b\n",
    "except TypeError :          \n",
    "    print(t)   \n",
    "except ZeroDivisionError :\n",
    "    print(z)\n"
   ]
  },
  {
   "cell_type": "code",
   "execution_count": 47,
   "metadata": {},
   "outputs": [
    {
     "name": "stdout",
     "output_type": "stream",
     "text": [
      " 5\n",
      " k\n"
     ]
    },
    {
     "name": "stdout",
     "output_type": "stream",
     "text": [
      "invalid literal for int() with base 10: 'k'\n"
     ]
    }
   ],
   "source": [
    "try :\n",
    "    a = int(input())\n",
    "    b = int(input())\n",
    "    c = a/b\n",
    "except TypeError as t :          \n",
    "    print(t)   \n",
    "except ZeroDivisionError as z :\n",
    "    print(z)\n",
    "except ValueError as v:\n",
    "    print(v)"
   ]
  },
  {
   "cell_type": "code",
   "execution_count": 48,
   "metadata": {},
   "outputs": [
    {
     "name": "stdout",
     "output_type": "stream",
     "text": [
      "division by zero\n",
      "on\n"
     ]
    }
   ],
   "source": [
    "try :\n",
    "    x = 5/0\n",
    "except ZeroDivisionError as z :\n",
    "    print(z)\n",
    "else :\n",
    "    print(\"off\")\n",
    "finally :\n",
    "    print(\"on\")"
   ]
  },
  {
   "cell_type": "code",
   "execution_count": 42,
   "metadata": {},
   "outputs": [],
   "source": [
    "d ={\"name\":\"ramjee\",\"mob\":23698}\n",
    "d = [\"course\"]"
   ]
  },
  {
   "cell_type": "code",
   "execution_count": 50,
   "metadata": {},
   "outputs": [
    {
     "data": {
      "text/plain": [
       "['course']"
      ]
     },
     "execution_count": 50,
     "metadata": {},
     "output_type": "execute_result"
    }
   ],
   "source": [
    "d"
   ]
  },
  {
   "cell_type": "code",
   "execution_count": 43,
   "metadata": {},
   "outputs": [],
   "source": [
    "try :\n",
    "    d ={\"name\":\"ramjee\",\"mob\":23698}\n",
    "    d = [\"course\"]\n",
    "except Exception :\n",
    "    print(\"this is keyerror\")"
   ]
  },
  {
   "cell_type": "code",
   "execution_count": 62,
   "metadata": {},
   "outputs": [
    {
     "name": "stdout",
     "output_type": "stream",
     "text": [
      "[Errno 2] No such file or directory: '30_sep.ipynb'\n"
     ]
    }
   ],
   "source": []
  },
  {
   "cell_type": "code",
   "execution_count": 71,
   "metadata": {},
   "outputs": [
    {
     "ename": "SyntaxError",
     "evalue": "incomplete input (264523100.py, line 4)",
     "output_type": "error",
     "traceback": [
      "\u001b[1;36m  Cell \u001b[1;32mIn[71], line 4\u001b[1;36m\u001b[0m\n\u001b[1;33m    f.read()\u001b[0m\n\u001b[1;37m            ^\u001b[0m\n\u001b[1;31mSyntaxError\u001b[0m\u001b[1;31m:\u001b[0m incomplete input\n"
     ]
    }
   ],
   "source": []
  },
  {
   "cell_type": "code",
   "execution_count": 73,
   "metadata": {},
   "outputs": [
    {
     "name": "stdout",
     "output_type": "stream",
     "text": [
      " 4\n"
     ]
    },
    {
     "name": "stdout",
     "output_type": "stream",
     "text": [
      "85.5\n"
     ]
    }
   ],
   "source": [
    "try :\n",
    "    n = int(input())\n",
    "    div = 342/n\n",
    "    print(div)\n",
    "except ValueError :\n",
    "    print (\"user has enter invalid input\")"
   ]
  },
  {
   "cell_type": "code",
   "execution_count": 9,
   "metadata": {},
   "outputs": [
    {
     "name": "stdout",
     "output_type": "stream",
     "text": [
      "0.3465045592705167\n"
     ]
    }
   ],
   "source": [
    "try :\n",
    "    n = int(input())\n",
    "    div = 342/n\n",
    "    print(div)\n",
    "except ValueError :\n",
    "    print (\"user has enter invalid input\")\n",
    "except ZeroDivisionError :\n",
    "    print (\"DIV ERROR\")\n"
   ]
  },
  {
   "cell_type": "code",
   "execution_count": 11,
   "metadata": {},
   "outputs": [
    {
     "name": "stdout",
     "output_type": "stream",
     "text": [
      "89\n"
     ]
    }
   ],
   "source": [
    "a = int(input(\"Enter you age\"))\n",
    "print(a)"
   ]
  },
  {
   "cell_type": "code",
   "execution_count": 13,
   "metadata": {},
   "outputs": [],
   "source": [
    "a = int(input(\"Enter you age\"))\n",
    "# -89 is not correct "
   ]
  },
  {
   "cell_type": "code",
   "execution_count": 3,
   "metadata": {},
   "outputs": [
    {
     "name": "stdin",
     "output_type": "stream",
     "text": [
      "Enter you age -89\n"
     ]
    },
    {
     "name": "stdout",
     "output_type": "stream",
     "text": [
      "Entered input is Negative\n"
     ]
    }
   ],
   "source": [
    "try :\n",
    "    a = int(input(\"Enter you age\"))\n",
    "    if a <0 :\n",
    "        raise ValueError(\"Entered input is Negative\") # raise is giving own excpection\n",
    "except ValueError as v:\n",
    "    print(v)"
   ]
  },
  {
   "cell_type": "code",
   "execution_count": 4,
   "metadata": {},
   "outputs": [
    {
     "name": "stdin",
     "output_type": "stream",
     "text": [
      "Enter you age 34\n"
     ]
    },
    {
     "name": "stdout",
     "output_type": "stream",
     "text": [
      "Valid age\n"
     ]
    }
   ],
   "source": [
    "try :\n",
    "    age = int(input(\"Enter you age\"))\n",
    "    if age <0 :\n",
    "        raise ValueError(\"Entered input is Negative\") \n",
    "    elif age<18 :\n",
    "        raise ValueError(\"User is under Age\")\n",
    "    else :\n",
    "        print(\"Valid age\")\n",
    "except ValueError as v:\n",
    "    print(v)"
   ]
  },
  {
   "cell_type": "code",
   "execution_count": 5,
   "metadata": {},
   "outputs": [
    {
     "name": "stdin",
     "output_type": "stream",
     "text": [
      "Enter you age 17\n"
     ]
    },
    {
     "name": "stdout",
     "output_type": "stream",
     "text": [
      "User is under Age\n"
     ]
    }
   ],
   "source": [
    "try :\n",
    "    age = int(input(\"Enter you age\"))\n",
    "    if age <0 :\n",
    "        raise ValueError(\"Entered input is Negative\") \n",
    "    elif age<18 :\n",
    "        raise ValueError(\"User is under Age\")\n",
    "    else :\n",
    "        print(\"Valid age\")\n",
    "except ValueError as v:\n",
    "    print(v)"
   ]
  },
  {
   "cell_type": "code",
   "execution_count": 6,
   "metadata": {},
   "outputs": [
    {
     "name": "stdin",
     "output_type": "stream",
     "text": [
      "Enter you age -14\n"
     ]
    },
    {
     "name": "stdout",
     "output_type": "stream",
     "text": [
      "Entered input is Negative\n"
     ]
    }
   ],
   "source": [
    "try :\n",
    "    age = int(input(\"Enter you age\"))\n",
    "    if age <0 :\n",
    "        raise ValueError(\"Entered input is Negative\") \n",
    "    elif age<18 :\n",
    "        raise ValueError(\"User is under Age\")\n",
    "    else :\n",
    "        print(\"Valid age\")\n",
    "except ValueError as v:\n",
    "    print(v)"
   ]
  },
  {
   "cell_type": "code",
   "execution_count": 7,
   "metadata": {},
   "outputs": [
    {
     "name": "stdin",
     "output_type": "stream",
     "text": [
      "Enter you age 44\n"
     ]
    },
    {
     "name": "stdout",
     "output_type": "stream",
     "text": [
      "Valid age\n"
     ]
    }
   ],
   "source": [
    "# but if system error is not follow like valueError written as Zerodivisionerror the this is also problem\n",
    "\n",
    "try :\n",
    "    age = int(input(\"Enter you age\"))\n",
    "    if age <0 :\n",
    "        raise ValueError(\"Entered input is Negative\") \n",
    "    elif age<18 :\n",
    "        raise ZeroDivisionError(\"User is under Age\")\n",
    "    else :\n",
    "        print(\"Valid age\")\n",
    "except ValueError as v:\n",
    "    print(v)"
   ]
  },
  {
   "cell_type": "code",
   "execution_count": 8,
   "metadata": {},
   "outputs": [
    {
     "name": "stdin",
     "output_type": "stream",
     "text": [
      "Enter you age 56\n"
     ]
    },
    {
     "name": "stdout",
     "output_type": "stream",
     "text": [
      "Valid age\n"
     ]
    }
   ],
   "source": [
    "# handle it by using superclass\n",
    "\n",
    "try :\n",
    "    age = int(input(\"Enter you age\"))\n",
    "    if age <0 :\n",
    "        raise ValueError(\"Entered input is Negative\") \n",
    "    elif age<18 :\n",
    "        raise Exception(\"User is under Age\")\n",
    "    else :\n",
    "        print(\"Valid age\")\n",
    "except Exception as e:\n",
    "    print(e)"
   ]
  },
  {
   "cell_type": "code",
   "execution_count": 9,
   "metadata": {},
   "outputs": [
    {
     "name": "stdin",
     "output_type": "stream",
     "text": [
      "Enter you age 56\n"
     ]
    },
    {
     "name": "stdout",
     "output_type": "stream",
     "text": [
      "Valid age\n"
     ]
    }
   ],
   "source": [
    "try :\n",
    "    age = int(input(\"Enter you age\"))\n",
    "    if age <0 :\n",
    "        raise ValueError(\"Entered input is Negative\") \n",
    "    elif age<18 :\n",
    "        raise Exception(\"User is under Age\")\n",
    "    else :\n",
    "        print(\"Valid age\")\n",
    "except Exception as e:\n",
    "    print(e)"
   ]
  },
  {
   "cell_type": "markdown",
   "metadata": {},
   "source": [
    "# logging for log capture"
   ]
  },
  {
   "cell_type": "code",
   "execution_count": 2,
   "metadata": {},
   "outputs": [],
   "source": [
    "import logging as log"
   ]
  },
  {
   "cell_type": "code",
   "execution_count": 3,
   "metadata": {},
   "outputs": [],
   "source": [
    "\n",
    "log.basicConfig(filename ='test.log', level = log.INFO)  \n",
    "# log file created extension should be .log "
   ]
  },
  {
   "cell_type": "code",
   "execution_count": null,
   "metadata": {},
   "outputs": [],
   "source": [
    "# 5 level in log\n",
    "# 10-DEBUG , 20-INFO, 30-WARNING, 40-ERROR , 50-CRITICAL label "
   ]
  },
  {
   "cell_type": "code",
   "execution_count": 5,
   "metadata": {},
   "outputs": [],
   "source": [
    "log.info(\"store a message   ok \")  # every time store message in log file"
   ]
  },
  {
   "cell_type": "code",
   "execution_count": 6,
   "metadata": {},
   "outputs": [],
   "source": [
    "log.debug(\"This is debug message\")"
   ]
  },
  {
   "cell_type": "code",
   "execution_count": 7,
   "metadata": {},
   "outputs": [],
   "source": [
    "log.warning(\"This is my warning\")"
   ]
  },
  {
   "cell_type": "code",
   "execution_count": 8,
   "metadata": {},
   "outputs": [],
   "source": [
    "log.error(\"This is the error\")"
   ]
  },
  {
   "cell_type": "code",
   "execution_count": 9,
   "metadata": {},
   "outputs": [],
   "source": [
    "log.critical(\"this is critical message\")"
   ]
  },
  {
   "cell_type": "code",
   "execution_count": null,
   "metadata": {},
   "outputs": [],
   "source": [
    "# we set level = log.INFO)  then all below message will save not view above parameter"
   ]
  },
  {
   "cell_type": "code",
   "execution_count": 12,
   "metadata": {},
   "outputs": [
    {
     "name": "stdin",
     "output_type": "stream",
     "text": [
      "Enter your age 37\n"
     ]
    }
   ],
   "source": [
    "import logging\n",
    "logging.basicConfig(filename='trytest.log', level =logging.DEBUG )\n",
    "try :\n",
    "    logging.info(\"This is a start of my prog\")\n",
    "    logging.info(\"Asking user to enter age\")\n",
    "    age = int(input(\"Enter your age\"))\n",
    "    logging.info(\"user has entered the age =%d\",age)\n",
    "    if age < 0 :\n",
    "        logging.info(\"Use has entered a negative age which is not valid\")\n",
    "    elif age<18 :\n",
    "        logging.info(\"I am trying to check underage condition\")\n",
    "        raise Exception(\"User is underage\")\n",
    "    else :\n",
    "        logging.info(\"Valid user\")\n",
    "except Exception as e :\n",
    "    logging.error(e)\n",
    "    "
   ]
  },
  {
   "cell_type": "code",
   "execution_count": 13,
   "metadata": {},
   "outputs": [
    {
     "name": "stdin",
     "output_type": "stream",
     "text": [
      "Enter your age 47\n"
     ]
    }
   ],
   "source": [
    "# Capture time in log\n",
    "\n",
    "import logging\n",
    "logging.basicConfig(filename='trytest.log', level =logging.DEBUG , format= '%(asctime)s- %(message)s ')\n",
    "try :\n",
    "    logging.info(\"This is a start of my prog\")\n",
    "    logging.info(\"Asking user to enter age\")\n",
    "    age = int(input(\"Enter your age\"))\n",
    "    logging.info(\"user has entered the age =%d\",age)\n",
    "    if age < 0 :\n",
    "        logging.info(\"Use has entered a negative age which is not valid\")\n",
    "    elif age<18 :\n",
    "        logging.info(\"I am trying to check underage condition\")\n",
    "        raise Exception(\"User is underage\")\n",
    "    else :\n",
    "        logging.info(\"Valid user\")\n",
    "except Exception as e :\n",
    "    logging.error(e)"
   ]
  },
  {
   "cell_type": "code",
   "execution_count": 14,
   "metadata": {},
   "outputs": [
    {
     "name": "stdin",
     "output_type": "stream",
     "text": [
      "Enter your age ram\n"
     ]
    }
   ],
   "source": [
    "import logging\n",
    "logging.basicConfig(filename='trytest.log', level =logging.DEBUG , format= '%(asctime)s- %(message)s ')\n",
    "try :\n",
    "    logging.info(\"This is a start of my prog\")\n",
    "    logging.info(\"Asking user to enter age\")\n",
    "    age = int(input(\"Enter your age\"))\n",
    "    logging.info(\"user has entered the age =%d\",age)\n",
    "    if age < 0 :\n",
    "        logging.info(\"Use has entered a negative age which is not valid\")\n",
    "    elif age<18 :\n",
    "        logging.info(\"I am trying to check underage condition\")\n",
    "        raise Exception(\"User is underage\")\n",
    "    else :\n",
    "        logging.info(\"Valid user\")\n",
    "except Exception as e :\n",
    "    logging.error(e)"
   ]
  },
  {
   "cell_type": "code",
   "execution_count": null,
   "metadata": {},
   "outputs": [],
   "source": []
  }
 ],
 "metadata": {
  "kernelspec": {
   "display_name": "Python 3 (ipykernel)",
   "language": "python",
   "name": "python3"
  },
  "language_info": {
   "codemirror_mode": {
    "name": "ipython",
    "version": 3
   },
   "file_extension": ".py",
   "mimetype": "text/x-python",
   "name": "python",
   "nbconvert_exporter": "python",
   "pygments_lexer": "ipython3",
   "version": "3.11.4"
  }
 },
 "nbformat": 4,
 "nbformat_minor": 4
}
