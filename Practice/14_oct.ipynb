{
 "cells": [
  {
   "cell_type": "code",
   "execution_count": 1,
   "metadata": {},
   "outputs": [],
   "source": [
    "class pwskills :\n",
    "    def __init__(self,mentor):\n",
    "        self.mentor = mentor    \n",
    "        def mentor_name(self):  \n",
    "            print(self.mentor)  \n",
    "class datascience(pwskills):    \n",
    "    def __init__(self,mentor,mentor_mail_id):\n",
    "        self.mentor =mentor\n",
    "        self.mentor_mail_id =  mentor_mail_id\n",
    "        \n",
    "    def show_info(self):\n",
    "        print(self.mentor,self.mentor_mail_id)\n",
    "        \n",
    "            "
   ]
  },
  {
   "cell_type": "code",
   "execution_count": 2,
   "metadata": {},
   "outputs": [],
   "source": [
    "python_basic = datascience(\"ramjee\",\"ramjee@gamil.com\")"
   ]
  },
  {
   "cell_type": "code",
   "execution_count": 3,
   "metadata": {},
   "outputs": [
    {
     "name": "stdout",
     "output_type": "stream",
     "text": [
      "ramjee ramjee@gamil.com\n"
     ]
    }
   ],
   "source": [
    "python_basic.show_info()"
   ]
  },
  {
   "cell_type": "code",
   "execution_count": 4,
   "metadata": {},
   "outputs": [
    {
     "ename": "AttributeError",
     "evalue": "'datascience' object has no attribute 'mentor_name'",
     "output_type": "error",
     "traceback": [
      "\u001b[1;31m---------------------------------------------------------------------------\u001b[0m",
      "\u001b[1;31mAttributeError\u001b[0m                            Traceback (most recent call last)",
      "\u001b[1;32md:\\Data Science\\Python Coding\\Practice\\14_oct.ipynb Cell 4\u001b[0m line \u001b[0;36m1\n\u001b[1;32m----> <a href='vscode-notebook-cell:/d%3A/Data%20Science/Python%20Coding/Practice/14_oct.ipynb#W3sZmlsZQ%3D%3D?line=0'>1</a>\u001b[0m python_basic\u001b[39m.\u001b[39;49mmentor_name()\n",
      "\u001b[1;31mAttributeError\u001b[0m: 'datascience' object has no attribute 'mentor_name'"
     ]
    }
   ],
   "source": [
    "python_basic.mentor_name()"
   ]
  },
  {
   "cell_type": "code",
   "execution_count": null,
   "metadata": {},
   "outputs": [],
   "source": []
  }
 ],
 "metadata": {
  "kernelspec": {
   "display_name": "Python 3",
   "language": "python",
   "name": "python3"
  },
  "language_info": {
   "codemirror_mode": {
    "name": "ipython",
    "version": 3
   },
   "file_extension": ".py",
   "mimetype": "text/x-python",
   "name": "python",
   "nbconvert_exporter": "python",
   "pygments_lexer": "ipython3",
   "version": "3.11.4"
  }
 },
 "nbformat": 4,
 "nbformat_minor": 2
}
