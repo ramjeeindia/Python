{
 "cells": [
  {
   "cell_type": "code",
   "execution_count": 17,
   "metadata": {},
   "outputs": [],
   "source": [
    "# install request if not available pip install requests\n",
    "import requests\n",
    "from bs4 import BeautifulSoup\n",
    "from urllib.request import urlopen as uReq\n",
    "import os "
   ]
  },
  {
   "cell_type": "code",
   "execution_count": 9,
   "metadata": {},
   "outputs": [],
   "source": [
    "# the command create a folder name image automatically\n",
    "save_dir = \"netimages/\"\n",
    "if not os.path.exists(save_dir):\n",
    "    os.makedirs(save_dir)"
   ]
  },
  {
   "cell_type": "markdown",
   "metadata": {},
   "source": [
    "### copy the data link and paste link also define variable query and pass in url link as below\n",
    "###### https://www.google.com/search?q=microsoft+world&sxsrf=AJOqlzUuff1RXi2mm8I_OqOwT9VjfIDL7w:1676996143273&source=lnms&tbm=isch&sa=X&ved=2ahUKEwiq-qK7gaf9AhXUgVYBHYReAfYQ_AUoA3oECAEQBQ&biw=1920&bih=937&dpr=1#imgrc=1th7VhSesfMJ4M\n",
    "\n",
    "to assign variable query\n",
    "\n",
    "###### https://www.google.com/search?q={query}&sxsrf=AJOqlzUuff1RXi2mm8I_OqOwT9VjfIDL7w:1676996143273&source=lnms&tbm=isch&sa=X&ved=2ahUKEwiq-qK7gaf9AhXUgVYBHYReAfYQ_AUoA3oECAEQBQ&biw=1920&bih=937&dpr=1#imgrc=1th7VhSesfMJ4M\n"
   ]
  },
  {
   "cell_type": "code",
   "execution_count": 18,
   "metadata": {},
   "outputs": [],
   "source": [
    "query = \"Ramjee Singh Sekisui\"\n",
    "\n",
    "response = requests.get(f\"https://www.google.com/search?q={query}&tbm=isch&ved=2ahUKEwiqxIqWwYeCAxXDSmwGHSTHDPsQ2-cCegQIABAA&oq={query}&gs_lcp=CgNpbWcQAzIECCMQJ1AAWABgkQhoAHAAeACAAZMBiAGTAZIBAzAuMZgBAKoBC2d3cy13aXotaW1nwAEB&sclient=img&ei=XvUzZaqdBMOVseMPpI6z2A8&bih=611&biw=1366&rlz=1C1VDKB_enIN1047IN1047\")"
   ]
  },
  {
   "cell_type": "markdown",
   "metadata": {},
   "source": [
    "###### https://www.google.com/search?q=ramjee+singh+sekisui&sca_esv=575463815&hl=en&tbm=isch&sxsrf=AM9HkKnh23RFRRKezVYJhOhbc3z4scn0QQ%3A1697904364426&source=hp&biw=1366&bih=611&ei=7PYzZdbqFpbVg8UP4vaOiA0&iflsig=AO6bgOgAAAAAZTQE_DdXZVlalx5RsBi-gX8P1nN45Aih&oq=&gs_lp=EgNpbWciACoCCAAyBxAjGOoCGCcyBxAjGOoCGCcyBxAjGOoCGCcyBxAjGOoCGCcyBxAjGOoCGCcyBxAjGOoCGCcyBxAjGOoCGCcyBxAjGOoCGCcyBxAjGOoCGCcyBxAjGOoCGCdI9AlQAFgAcAF4AJABAJgBAKABAKoBALgBAcgBAIoCC2d3cy13aXotaW1nqAIK&sclient=img"
   ]
  },
  {
   "cell_type": "code",
   "execution_count": 19,
   "metadata": {},
   "outputs": [
    {
     "data": {
      "text/plain": [
       "<Response [200]>"
      ]
     },
     "execution_count": 19,
     "metadata": {},
     "output_type": "execute_result"
    }
   ],
   "source": [
    "response # if result will display then ok"
   ]
  },
  {
   "cell_type": "code",
   "execution_count": 20,
   "metadata": {},
   "outputs": [],
   "source": [
    "soup = BeautifulSoup(response.content,'html.parser')"
   ]
  },
  {
   "cell_type": "code",
   "execution_count": 13,
   "metadata": {},
   "outputs": [
    {
     "data": {
      "text/plain": [
       "<!DOCTYPE html PUBLIC \"-//WAPFORUM//DTD XHTML Mobile 1.0//EN\" \"http://www.wapforum.org/DTD/xhtml-mobile10.dtd\">\n",
       "<html lang=\"en-IN\" xmlns=\"http://www.w3.org/1999/xhtml\"><head><meta content=\"application/xhtml+xml; charset=utf-8\" http-equiv=\"Content-Type\"/><meta content=\"no-cache\" name=\"Cache-Control\"/><title>Ramjee Singh Sekisui - Google Search</title><style>a{text-decoration:none;color:inherit}a:hover{text-decoration:underline}a img{border:0}body{font-family:arial,sans-serif;padding:8px;margin:0 auto;max-width:700px;min-width:240px;}.FbhRzb{border-left:thin solid #dadce0;border-right:thin solid #dadce0;border-top:thin solid #dadce0;height:40px;overflow:hidden}.n692Zd{margin-bottom:10px}.cvifge{height:40px;border-spacing:0}.QvGUP{height:40px;padding:0 8px 0 8px;vertical-align:top}.O4cRJf{height:40px;width:100%;padding:0;padding-right:16px}.O1ePr{height:40px;padding:0;vertical-align:top}.kgJEQe{height:36px;width:98px;vertical-align:top;margin-top:4px}.lXLRf{vertical-align:top}.MhzMZd{border:0;vertical-align:middle;font-size:14px;height:40px;padding:0;width:100%;padding-left:16px}.xB0fq{height:40px;border:none;font-size:14px;background-color:#1a73e8;color:#fff;padding:0 16px;margin:0;vertical-align:top;cursor:pointer}.xB0fq:focus{border:1px solid #1a73e8}.M7pB2{border:thin solid #dadce0;margin:0 0 3px 0;font-size:13px;font-weight:500;height:40px}.euZec{width:100%;height:40px;text-align:center;border-spacing:0}table.euZec td{padding:0;width:25%}.QIqI7{display:inline-block;padding-top:4px;font-weight:bold;color:#4285f4}.EY24We{border-bottom:2px solid #4285f4}.CsQyDc{display:inline-block;color:#70757a}.TuS8Ad{font-size:14px}.HddGcc{padding:8px;color:#70757a}.dzp8ae{font-weight:bold;color:#3c4043}.rEM8G{color:#70757a}.bookcf{table-layout:fixed;width:100%;border-spacing:0}.InWNIe{text-align:center}.uZgmoc{border:thin solid #dadce0;color:#70757a;font-size:14px;text-align:center;table-layout:fixed;width:100%}.frGj1b{display:block;padding:12px 0 12px 0;width:100%}.BnJWBc{text-align:center;padding:6px 0 13px 0;height:35px}.e3goi{vertical-align:top;padding:0;height:180px}.GpQGbf{margin:auto;border-collapse:collapse;border-spacing:0;width:100%}</style></head><body><style>.X6ZCif{color:#202124;font-size:11px;line-height:16px;display:inline-block;padding-top:2px;overflow:hidden;padding-bottom:4px;width:100%}.TwVfHd{border-radius:16px;border:thin solid #dadce0;display:inline-block;padding:8px 8px;margin-right:8px;margin-bottom:4px}.yekiAe{background-color:#dadce0}.jjVJ4e{width:100%}.ezO2md{border:thin solid #dadce0;padding:12px 16px 12px 16px;margin-bottom:10px;font-family:arial,sans-serif}.lIMUZd{font-family:arial,sans-serif}.RntSmf{border-spacing:0}.lgD2Tc{width:100%}.SpelHe{text-align:center}.SpelHe{position:relative}.deHqpb{bottom:0;left:0;margin:auto;position:absolute;right:0;top:0}.kCmkOe{position:relative}.ID6Z3b{background-image:url(https://www.gstatic.com/search_trustx/visibility_off_icon_p0-7d897bf44bafe5436baa9009e8716337.png);background-repeat:no-repeat;background-position:center;background-size:20px}.kCmkOe{width:162px;height:140px;line-height:140px;overflow:'hidden';text-align:center}.DS1iW{text-align:center;margin:auto;vertical-align:middle;max-width:162px;max-height:140px}.AlD19d{padding-top:2px;padding-bottom:8px;}.fYyStc{word-break:break-word}.ynsChf{display:block;white-space:nowrap;overflow:hidden;text-overflow:ellipsis}.Fj3V3b{color:#1967d2;font-size:14px;line-height:20px}.FrIlee{color:#202124;font-size:11px;line-height:16px}.F9iS2e{color:#70757a;font-size:11px;line-height:16px}.WMQ2Le{color:#70757a;font-size:12px;line-height:16px}.x3G5ab{color:#202124;font-size:12px;line-height:16px}.fuLhoc{color:#1967d2;font-size:16px;line-height:20px}.epoveb{font-size:24px;line-height:28px;font-weight:400;color:#202124}.dXDvrc{color:#0d652d;font-size:14px;line-height:20px;word-wrap:break-word}.dloBPe{font-weight:bold}.YVIcad{color:#70757a}.JkVVdd{color:#ea4335}.oXZRFd{color:#ea4335}.MQHtg{color:#fbbc04}.pyMRrb{color:#1e8e3e}.EtTZid{color:#1e8e3e}.M3vVJe{color:#1967d2}.qXLe6d{display:block}.NHQNef{font-style:italic}.Cb8Z7c{white-space:pre}a.ZWRArf{text-decoration:none}a .CVA68e:hover{text-decoration:underline}</style><div class=\"n692Zd\"><div class=\"BnJWBc\"><a class=\"lXLRf\" href=\"/?sca_esv=575468271&amp;output=images&amp;ie=UTF-8&amp;tbm=isch&amp;sa=X&amp;ved=0ahUKEwjHiPzyxYeCAxWN9jgGHRmaD4wQPAgC\"><img alt=\"Google\" class=\"kgJEQe\" src=\"/images/branding/searchlogo/1x/googlelogo_desk_heirloom_color_150x55dp.gif\"/></a></div><div class=\"FbhRzb\"><form action=\"/search\"><input name=\"sca_esv\" type=\"hidden\" value=\"575468271\"/><input name=\"ie\" type=\"hidden\" value=\"ISO-8859-1\"/><input name=\"tbm\" type=\"hidden\" value=\"isch\"/><input name=\"oq\" type=\"hidden\"/><input name=\"aqs\" type=\"hidden\"/><table class=\"cvifge\"><tr><td class=\"O4cRJf\"><input class=\"MhzMZd\" name=\"q\" type=\"text\" value=\"Ramjee Singh Sekisui\"/></td><td class=\"O1ePr\"><input class=\"xB0fq\" type=\"submit\" value=\"Search\"/></td></tr></table></form></div><div class=\"M7pB2\"><table class=\"euZec\"><tbody><tr><td><a class=\"CsQyDc\" href=\"/search?q=Ramjee+Singh+Sekisui&amp;sca_esv=575468271&amp;ie=UTF-8&amp;source=lnms&amp;sa=X&amp;ved=0ahUKEwjHiPzyxYeCAxWN9jgGHRmaD4wQ_AUIBCgA\">ALL</a></td><td><a class=\"CsQyDc\" href=\"/search?q=Ramjee+Singh+Sekisui&amp;sca_esv=575468271&amp;ie=UTF-8&amp;tbm=nws&amp;source=lnms&amp;sa=X&amp;ved=0ahUKEwjHiPzyxYeCAxWN9jgGHRmaD4wQ_AUIBSgB\">NEWS</a></td><td class=\"EY24We\"><span class=\"QIqI7\">IMAGES</span></td><td><a class=\"CsQyDc\" href=\"/search?q=Ramjee+Singh+Sekisui&amp;sca_esv=575468271&amp;ie=UTF-8&amp;tbm=vid&amp;source=lnms&amp;sa=X&amp;ved=0ahUKEwjHiPzyxYeCAxWN9jgGHRmaD4wQ_AUIBygD\">VIDEOS</a></td></tr></tbody></table></div></div><div class=\"X6ZCif\"><a class=\"TwVfHd\" href=\"/search?sca_esv=575468271&amp;ie=UTF-8&amp;tbm=isch&amp;q=Ramjee+Singh+Sekisui&amp;chips=q:ramjee+singh+sekisui,online_chips:ranvijay+singh&amp;sa=X&amp;ved=0ahUKEwjHiPzyxYeCAxWN9jgGHRmaD4wQ4lYICygA\">ranvijay singh</a><a class=\"TwVfHd\" href=\"/search?sca_esv=575468271&amp;ie=UTF-8&amp;tbm=isch&amp;q=Ramjee+Singh+Sekisui&amp;chips=q:ramjee+singh+sekisui,online_chips:schmersal+india+pvt+ltd&amp;sa=X&amp;ved=0ahUKEwjHiPzyxYeCAxWN9jgGHRmaD4wQ4lYIDCgB\">schmersal india pvt ltd</a><a class=\"TwVfHd\" href=\"/search?sca_esv=575468271&amp;ie=UTF-8&amp;tbm=isch&amp;q=Ramjee+Singh+Sekisui&amp;chips=q:ramjee+singh+sekisui,online_chips:sekisui+dljm+molding&amp;sa=X&amp;ved=0ahUKEwjHiPzyxYeCAxWN9jgGHRmaD4wQ4lYIDSgC\">sekisui dljm molding</a><a class=\"TwVfHd\" href=\"/search?sca_esv=575468271&amp;ie=UTF-8&amp;tbm=isch&amp;q=Ramjee+Singh+Sekisui&amp;chips=q:ramjee+singh+sekisui,online_chips:sekisui+chemical&amp;sa=X&amp;ved=0ahUKEwjHiPzyxYeCAxWN9jgGHRmaD4wQ4lYIDigD\">sekisui chemical</a><a class=\"TwVfHd\" href=\"/search?sca_esv=575468271&amp;ie=UTF-8&amp;tbm=isch&amp;q=Ramjee+Singh+Sekisui&amp;chips=q:ramjee+singh+sekisui,online_chips:gandhian&amp;sa=X&amp;ved=0ahUKEwjHiPzyxYeCAxWN9jgGHRmaD4wQ4lYIDygE\">gandhian</a><a class=\"TwVfHd\" href=\"/search?sca_esv=575468271&amp;ie=UTF-8&amp;tbm=isch&amp;q=Ramjee+Singh+Sekisui&amp;chips=q:ramjee+singh+sekisui,online_chips:greater+noida&amp;sa=X&amp;ved=0ahUKEwjHiPzyxYeCAxWN9jgGHRmaD4wQ4lYIECgF\">greater noida</a><a class=\"TwVfHd\" href=\"/search?sca_esv=575468271&amp;ie=UTF-8&amp;tbm=isch&amp;q=Ramjee+Singh+Sekisui&amp;chips=q:ramjee+singh+sekisui,online_chips:bhagalpur+university&amp;sa=X&amp;ved=0ahUKEwjHiPzyxYeCAxWN9jgGHRmaD4wQ4lYIESgG\">bhagalpur university</a><a class=\"TwVfHd\" href=\"/search?sca_esv=575468271&amp;ie=UTF-8&amp;tbm=isch&amp;q=Ramjee+Singh+Sekisui&amp;chips=q:ramjee+singh+sekisui,online_chips:mahatma+gandhi&amp;sa=X&amp;ved=0ahUKEwjHiPzyxYeCAxWN9jgGHRmaD4wQ4lYIEigH\">mahatma gandhi</a><a class=\"TwVfHd\" href=\"/search?sca_esv=575468271&amp;ie=UTF-8&amp;tbm=isch&amp;q=Ramjee+Singh+Sekisui&amp;chips=q:ramjee+singh+sekisui,online_chips:prof+ramjee&amp;sa=X&amp;ved=0ahUKEwjHiPzyxYeCAxWN9jgGHRmaD4wQ4lYIEygI\">prof ramjee</a></div><div><table class=\"GpQGbf\"><tr><td align=\"center\" class=\"e3goi\"><div class=\"jjVJ4e\"> <div> <div class=\"lIMUZd\"><div><table class=\"RntSmf\"><tr><td><a href=\"/url?q=https://in.linkedin.com/in/ramjee-india&amp;sa=U&amp;ved=2ahUKEwjHiPzyxYeCAxWN9jgGHRmaD4wQqoUBegQICBAB&amp;usg=AOvVaw34dc05vTH-ck8xD8g-xpG5\"><div class=\"kCmkOe\"><img alt=\"\" class=\"DS1iW\" src=\"https://encrypted-tbn0.gstatic.com/images?q=tbn:ANd9GcRX1NJhKZQRuMLXT29Nipaw9wF9pC4NMILmkXZeTb2FNrwW5XqSp97J7JrAZAg&amp;s\"/></div></a></td></tr><tr><td><a href=\"/url?q=https://in.linkedin.com/in/ramjee-india&amp;sa=U&amp;ved=2ahUKEwjHiPzyxYeCAxWN9jgGHRmaD4wQr4kDegQICBAC&amp;usg=AOvVaw1dSH9duFY5SSGtXeHk7UWm\"><div class=\"AlD19d\"> <span class=\"qXLe6d x3G5ab\"> <span class=\"fYyStc\">Ramjee Singh - Assistant...</span> </span> <span class=\"qXLe6d F9iS2e\"> <span class=\"fYyStc\">in.linkedin.com</span> </span> </div></a></td></tr></table></div></div> </div> </div></td><td align=\"center\" class=\"e3goi\"><div class=\"jjVJ4e\"> <div> <div class=\"lIMUZd\"><div><table class=\"RntSmf\"><tr><td><a href=\"/url?q=https://in.linkedin.com/in/ramjee-india&amp;sa=U&amp;ved=2ahUKEwjHiPzyxYeCAxWN9jgGHRmaD4wQqoUBegQIExAB&amp;usg=AOvVaw2wN_BE_Qxl1S3qWBmUrYUn\"><div class=\"kCmkOe\"><img alt=\"\" class=\"DS1iW\" src=\"https://encrypted-tbn0.gstatic.com/images?q=tbn:ANd9GcQr-fiss2bXVtZ4QOg8ayc_wn7zwxNfXmGfkBZ4LwAHQc8DSDJ3lPT36GgB5g&amp;s\"/></div></a></td></tr><tr><td><a href=\"/url?q=https://in.linkedin.com/in/ramjee-india&amp;sa=U&amp;ved=2ahUKEwjHiPzyxYeCAxWN9jgGHRmaD4wQr4kDegQIExAC&amp;usg=AOvVaw3oLcQee6EduzXoyNETVw2I\"><div class=\"AlD19d\"> <span class=\"qXLe6d x3G5ab\"> <span class=\"fYyStc\">Ramjee Singh - Assistant...</span> </span> <span class=\"qXLe6d F9iS2e\"> <span class=\"fYyStc\">in.linkedin.com</span> </span> </div></a></td></tr></table></div></div> </div> </div></td><td align=\"center\" class=\"e3goi\"><div class=\"jjVJ4e\"> <div> <div class=\"lIMUZd\"><div><table class=\"RntSmf\"><tr><td><a href=\"/url?q=https://in.linkedin.com/in/ramjee-india&amp;sa=U&amp;ved=2ahUKEwjHiPzyxYeCAxWN9jgGHRmaD4wQqoUBegQIEhAB&amp;usg=AOvVaw38HrTK6sKc3VdFJqPuZKAv\"><div class=\"kCmkOe\"><img alt=\"\" class=\"DS1iW\" src=\"https://encrypted-tbn0.gstatic.com/images?q=tbn:ANd9GcQUiK2S-bQ28QGLtsXqsiVQWxhUc5Z3uzLjaNCs4f4J2S0t5CcwEwLuIYdiAlQ&amp;s\"/></div></a></td></tr><tr><td><a href=\"/url?q=https://in.linkedin.com/in/ramjee-india&amp;sa=U&amp;ved=2ahUKEwjHiPzyxYeCAxWN9jgGHRmaD4wQr4kDegQIEhAC&amp;usg=AOvVaw0qck-59k-nYsnM8EE7tVwL\"><div class=\"AlD19d\"> <span class=\"qXLe6d x3G5ab\"> <span class=\"fYyStc\">Ramjee Singh - Assistant...</span> </span> <span class=\"qXLe6d F9iS2e\"> <span class=\"fYyStc\">in.linkedin.com</span> </span> </div></a></td></tr></table></div></div> </div> </div></td><td align=\"center\" class=\"e3goi\"><div class=\"jjVJ4e\"> <div> <div class=\"lIMUZd\"><div><table class=\"RntSmf\"><tr><td><a href=\"/url?q=https://in.linkedin.com/in/ramjee-india&amp;sa=U&amp;ved=2ahUKEwjHiPzyxYeCAxWN9jgGHRmaD4wQqoUBegQIDRAB&amp;usg=AOvVaw0bDVtobZjk9WHp49O98Hgv\"><div class=\"kCmkOe\"><img alt=\"\" class=\"DS1iW\" src=\"https://encrypted-tbn0.gstatic.com/images?q=tbn:ANd9GcQjhN5fgZdHryPhIH25hyO5HhEitWo4vzVUH7BCoL8dzy-_dOw0cqpEH5Zl9g&amp;s\"/></div></a></td></tr><tr><td><a href=\"/url?q=https://in.linkedin.com/in/ramjee-india&amp;sa=U&amp;ved=2ahUKEwjHiPzyxYeCAxWN9jgGHRmaD4wQr4kDegQIDRAC&amp;usg=AOvVaw1XBa50EZT5E86TaxdUV0ir\"><div class=\"AlD19d\"> <span class=\"qXLe6d x3G5ab\"> <span class=\"fYyStc\">Ramjee Singh - Assistant...</span> </span> <span class=\"qXLe6d F9iS2e\"> <span class=\"fYyStc\">in.linkedin.com</span> </span> </div></a></td></tr></table></div></div> </div> </div></td></tr><tr><td align=\"center\" class=\"e3goi\"><div class=\"jjVJ4e\"> <div> <div class=\"lIMUZd\"><div><table class=\"RntSmf\"><tr><td><a href=\"/url?q=https://in.linkedin.com/in/ramjee-india&amp;sa=U&amp;ved=2ahUKEwjHiPzyxYeCAxWN9jgGHRmaD4wQqoUBegQIEBAB&amp;usg=AOvVaw216NKhpL_TcNgdlBaiW5KA\"><div class=\"kCmkOe\"><img alt=\"\" class=\"DS1iW\" src=\"https://encrypted-tbn0.gstatic.com/images?q=tbn:ANd9GcTQzAhwYfsKgOGZORIjHGedoWvWRtYOkLJjwjkWUASkP10uPePcgohq6rU8UQ&amp;s\"/></div></a></td></tr><tr><td><a href=\"/url?q=https://in.linkedin.com/in/ramjee-india&amp;sa=U&amp;ved=2ahUKEwjHiPzyxYeCAxWN9jgGHRmaD4wQr4kDegQIEBAC&amp;usg=AOvVaw3eYoDc3vv4cU2Zf3XFWzKQ\"><div class=\"AlD19d\"> <span class=\"qXLe6d x3G5ab\"> <span class=\"fYyStc\">Ramjee Singh - Assistant...</span> </span> <span class=\"qXLe6d F9iS2e\"> <span class=\"fYyStc\">in.linkedin.com</span> </span> </div></a></td></tr></table></div></div> </div> </div></td><td align=\"center\" class=\"e3goi\"><div class=\"jjVJ4e\"> <div> <div class=\"lIMUZd\"><div><table class=\"RntSmf\"><tr><td><a href=\"/url?q=https://in.linkedin.com/in/ramjee-india&amp;sa=U&amp;ved=2ahUKEwjHiPzyxYeCAxWN9jgGHRmaD4wQqoUBegQIDxAB&amp;usg=AOvVaw3S_-KaDu-hc-MxEp9n244l\"><div class=\"kCmkOe\"><img alt=\"\" class=\"DS1iW\" src=\"https://encrypted-tbn0.gstatic.com/images?q=tbn:ANd9GcRLYJrQkavZHvYRDfYPVFEQ7csIrdU5ZM56om6uKmd1sqWkwZugh7DJQzW49Fo&amp;s\"/></div></a></td></tr><tr><td><a href=\"/url?q=https://in.linkedin.com/in/ramjee-india&amp;sa=U&amp;ved=2ahUKEwjHiPzyxYeCAxWN9jgGHRmaD4wQr4kDegQIDxAC&amp;usg=AOvVaw3u3d7jeKAisCM4xvtkCwWD\"><div class=\"AlD19d\"> <span class=\"qXLe6d x3G5ab\"> <span class=\"fYyStc\">Ramjee Singh - Assistant...</span> </span> <span class=\"qXLe6d F9iS2e\"> <span class=\"fYyStc\">in.linkedin.com</span> </span> </div></a></td></tr></table></div></div> </div> </div></td><td align=\"center\" class=\"e3goi\"><div class=\"jjVJ4e\"> <div> <div class=\"lIMUZd\"><div><table class=\"RntSmf\"><tr><td><a href=\"/url?q=https://in.linkedin.com/in/ramjee-india&amp;sa=U&amp;ved=2ahUKEwjHiPzyxYeCAxWN9jgGHRmaD4wQqoUBegQIDhAB&amp;usg=AOvVaw27X3G1vUe3dFLT6YkIoQ8P\"><div class=\"kCmkOe\"><img alt=\"\" class=\"DS1iW\" src=\"https://encrypted-tbn0.gstatic.com/images?q=tbn:ANd9GcTTZNTRJUW3QCOfL3QolqRTB9PXv1Oz5nAtFBIgv07eBVKRjWcYZ2L4VVIiLw&amp;s\"/></div></a></td></tr><tr><td><a href=\"/url?q=https://in.linkedin.com/in/ramjee-india&amp;sa=U&amp;ved=2ahUKEwjHiPzyxYeCAxWN9jgGHRmaD4wQr4kDegQIDhAC&amp;usg=AOvVaw2-HUzM_qplGmHVtElDKod7\"><div class=\"AlD19d\"> <span class=\"qXLe6d x3G5ab\"> <span class=\"fYyStc\">Ramjee Singh - Assistant...</span> </span> <span class=\"qXLe6d F9iS2e\"> <span class=\"fYyStc\">in.linkedin.com</span> </span> </div></a></td></tr></table></div></div> </div> </div></td><td align=\"center\" class=\"e3goi\"><div class=\"jjVJ4e\"> <div> <div class=\"lIMUZd\"><div><table class=\"RntSmf\"><tr><td><a href=\"/url?q=https://in.linkedin.com/in/ramjee-india&amp;sa=U&amp;ved=2ahUKEwjHiPzyxYeCAxWN9jgGHRmaD4wQqoUBegQIDBAB&amp;usg=AOvVaw0Pss65YJOb-umN56neO70h\"><div class=\"kCmkOe\"><img alt=\"\" class=\"DS1iW\" src=\"https://encrypted-tbn0.gstatic.com/images?q=tbn:ANd9GcSQUkGy1GzTGSTuwIo_O6ddobW9vj8dES2hLvaneW5s5M6-n-gu2AbF-GpPTg&amp;s\"/></div></a></td></tr><tr><td><a href=\"/url?q=https://in.linkedin.com/in/ramjee-india&amp;sa=U&amp;ved=2ahUKEwjHiPzyxYeCAxWN9jgGHRmaD4wQr4kDegQIDBAC&amp;usg=AOvVaw3nF5rK_2mlS649-1eTBzpz\"><div class=\"AlD19d\"> <span class=\"qXLe6d x3G5ab\"> <span class=\"fYyStc\">Ramjee Singh - Assistant...</span> </span> <span class=\"qXLe6d F9iS2e\"> <span class=\"fYyStc\">in.linkedin.com</span> </span> </div></a></td></tr></table></div></div> </div> </div></td></tr><tr><td align=\"center\" class=\"e3goi\"><div class=\"jjVJ4e\"> <div> <div class=\"lIMUZd\"><div><table class=\"RntSmf\"><tr><td><a href=\"/url?q=https://in.linkedin.com/in/ramjee-india&amp;sa=U&amp;ved=2ahUKEwjHiPzyxYeCAxWN9jgGHRmaD4wQqoUBegQICRAB&amp;usg=AOvVaw247O95hg8NJMmX9Lgs3bxC\"><div class=\"kCmkOe\"><img alt=\"\" class=\"DS1iW\" src=\"https://encrypted-tbn0.gstatic.com/images?q=tbn:ANd9GcQBSx5fsmcvAPDvkKmk38TA4Fb7qhQNJkQEYIpzJWKE6-QkCPEmxZk6TrHVdL4&amp;s\"/></div></a></td></tr><tr><td><a href=\"/url?q=https://in.linkedin.com/in/ramjee-india&amp;sa=U&amp;ved=2ahUKEwjHiPzyxYeCAxWN9jgGHRmaD4wQr4kDegQICRAC&amp;usg=AOvVaw0PslVdT4j04gBF2eQ4S4iT\"><div class=\"AlD19d\"> <span class=\"qXLe6d x3G5ab\"> <span class=\"fYyStc\">Ramjee Singh - Assistant...</span> </span> <span class=\"qXLe6d F9iS2e\"> <span class=\"fYyStc\">in.linkedin.com</span> </span> </div></a></td></tr></table></div></div> </div> </div></td><td align=\"center\" class=\"e3goi\"><div class=\"jjVJ4e\"> <div> <div class=\"lIMUZd\"><div><table class=\"RntSmf\"><tr><td><a href=\"/url?q=https://in.linkedin.com/in/ramjee-india&amp;sa=U&amp;ved=2ahUKEwjHiPzyxYeCAxWN9jgGHRmaD4wQqoUBegQIERAB&amp;usg=AOvVaw1F105LI3RwcnySZpIYhiBT\"><div class=\"kCmkOe\"><img alt=\"\" class=\"DS1iW\" src=\"https://encrypted-tbn0.gstatic.com/images?q=tbn:ANd9GcT1XzHauOKJnNXq4jWlf1nzQegy1w-RmjEYi0_TmSVy3KgNOZwHu1wdyNe2Gu4&amp;s\"/></div></a></td></tr><tr><td><a href=\"/url?q=https://in.linkedin.com/in/ramjee-india&amp;sa=U&amp;ved=2ahUKEwjHiPzyxYeCAxWN9jgGHRmaD4wQr4kDegQIERAC&amp;usg=AOvVaw3BSMGZLMcv-yCwFhTTJRnM\"><div class=\"AlD19d\"> <span class=\"qXLe6d x3G5ab\"> <span class=\"fYyStc\">Ramjee Singh - Assistant...</span> </span> <span class=\"qXLe6d F9iS2e\"> <span class=\"fYyStc\">in.linkedin.com</span> </span> </div></a></td></tr></table></div></div> </div> </div></td><td align=\"center\" class=\"e3goi\"><div class=\"jjVJ4e\"> <div> <div class=\"lIMUZd\"><div><table class=\"RntSmf\"><tr><td><a href=\"/url?q=https://in.linkedin.com/in/sanjay-bansal-bb7943189&amp;sa=U&amp;ved=2ahUKEwjHiPzyxYeCAxWN9jgGHRmaD4wQqoUBegQICxAB&amp;usg=AOvVaw3hy26_j2zwpeh1iQsT0nUl\"><div class=\"kCmkOe\"><img alt=\"\" class=\"DS1iW\" src=\"https://encrypted-tbn0.gstatic.com/images?q=tbn:ANd9GcQTwzgoGjPb2BpWHXR7OfTOLc4LnGYcfrK_x9w5V9cUlO6XeOLQBTI993F_Gg&amp;s\"/></div></a></td></tr><tr><td><a href=\"/url?q=https://in.linkedin.com/in/sanjay-bansal-bb7943189&amp;sa=U&amp;ved=2ahUKEwjHiPzyxYeCAxWN9jgGHRmaD4wQr4kDegQICxAC&amp;usg=AOvVaw3EEeabcuKAGC6Yj2Z-TPrx\"><div class=\"AlD19d\"> <span class=\"qXLe6d x3G5ab\"> <span class=\"fYyStc\">Sanjay Bansal - Vice...</span> </span> <span class=\"qXLe6d F9iS2e\"> <span class=\"fYyStc\">in.linkedin.com</span> </span> </div></a></td></tr></table></div></div> </div> </div></td><td align=\"center\" class=\"e3goi\"><div class=\"jjVJ4e\"> <div> <div class=\"lIMUZd\"><div><table class=\"RntSmf\"><tr><td><a href=\"/url?q=https://in.linkedin.com/in/kapil-kaushik-9b543b43&amp;sa=U&amp;ved=2ahUKEwjHiPzyxYeCAxWN9jgGHRmaD4wQqoUBegQIChAB&amp;usg=AOvVaw3MaVz8GLyWSvsDUMFqx__b\"><div class=\"kCmkOe\"><img alt=\"\" class=\"DS1iW\" src=\"https://encrypted-tbn0.gstatic.com/images?q=tbn:ANd9GcTBtn94xWQCgzCVrTs_E0f5MYAG5Tz0at9lZC_AdTfotlhuDYSJf6PZijdbkg&amp;s\"/></div></a></td></tr><tr><td><a href=\"/url?q=https://in.linkedin.com/in/kapil-kaushik-9b543b43&amp;sa=U&amp;ved=2ahUKEwjHiPzyxYeCAxWN9jgGHRmaD4wQr4kDegQIChAC&amp;usg=AOvVaw3rFpTDceED6geQZSh003c5\"><div class=\"AlD19d\"> <span class=\"qXLe6d x3G5ab\"> <span class=\"fYyStc\">kapil kaushik - Senior...</span> </span> <span class=\"qXLe6d F9iS2e\"> <span class=\"fYyStc\">in.linkedin.com</span> </span> </div></a></td></tr></table></div></div> </div> </div></td></tr><tr><td align=\"center\" class=\"e3goi\"><div class=\"jjVJ4e\"> <div> <div class=\"lIMUZd\"><div><table class=\"RntSmf\"><tr><td><a href=\"/url?q=https://in.linkedin.com/in/kapil-kaushik-9b543b43&amp;sa=U&amp;ved=2ahUKEwjHiPzyxYeCAxWN9jgGHRmaD4wQqoUBegQIARAB&amp;usg=AOvVaw2EI3ULMGgpyAcp9E5S-iVp\"><div class=\"kCmkOe\"><img alt=\"\" class=\"DS1iW\" src=\"https://encrypted-tbn0.gstatic.com/images?q=tbn:ANd9GcQuxCDpZ4JJJ_MxrnAsklo3h72HtmhzJLot_-pFeiomFWGaJ6IUVGk01TWZgQ&amp;s\"/></div></a></td></tr><tr><td><a href=\"/url?q=https://in.linkedin.com/in/kapil-kaushik-9b543b43&amp;sa=U&amp;ved=2ahUKEwjHiPzyxYeCAxWN9jgGHRmaD4wQr4kDegQIARAC&amp;usg=AOvVaw1yjVp1JwyyD2vY4HpJMfhB\"><div class=\"AlD19d\"> <span class=\"qXLe6d x3G5ab\"> <span class=\"fYyStc\">kapil kaushik - Senior...</span> </span> <span class=\"qXLe6d F9iS2e\"> <span class=\"fYyStc\">in.linkedin.com</span> </span> </div></a></td></tr></table></div></div> </div> </div></td><td align=\"center\" class=\"e3goi\"><div class=\"jjVJ4e\"> <div> <div class=\"lIMUZd\"><div><table class=\"RntSmf\"><tr><td><a href=\"/url?q=https://www.researchgate.net/publication/350871216_BORN_HEALTHY_Review_of_Rapid_Diagnostic_Tests_for_Point_of_Care_Use_for_Maternal_Infections_in_Rajasthan_India&amp;sa=U&amp;ved=2ahUKEwjHiPzyxYeCAxWN9jgGHRmaD4wQqoUBegQIAhAB&amp;usg=AOvVaw3in3cSP23JI_dy-w-ESlVL\"><div class=\"kCmkOe\"><img alt=\"\" class=\"DS1iW\" src=\"https://encrypted-tbn0.gstatic.com/images?q=tbn:ANd9GcQoK89tJo9q_lQa-z1VwIwD1n2Kkl7wFADNXJkTNCtYI-I2b-ZDl_waRh3bsw&amp;s\"/></div></a></td></tr><tr><td><a href=\"/url?q=https://www.researchgate.net/publication/350871216_BORN_HEALTHY_Review_of_Rapid_Diagnostic_Tests_for_Point_of_Care_Use_for_Maternal_Infections_in_Rajasthan_India&amp;sa=U&amp;ved=2ahUKEwjHiPzyxYeCAxWN9jgGHRmaD4wQr4kDegQIAhAC&amp;usg=AOvVaw0k7A_KalX0yReDIWYQaOx1\"><div class=\"AlD19d\"> <span class=\"qXLe6d x3G5ab\"> <span class=\"fYyStc\">PDF) BORN HEALTHY: Review...</span> </span> <span class=\"qXLe6d F9iS2e\"> <span class=\"fYyStc\">www.researchgate.net</span> </span> </div></a></td></tr></table></div></div> </div> </div></td><td align=\"center\" class=\"e3goi\"><div class=\"jjVJ4e\"> <div> <div class=\"lIMUZd\"><div><table class=\"RntSmf\"><tr><td><a href=\"/url?q=https://in.linkedin.com/in/kapil-kaushik-9b543b43&amp;sa=U&amp;ved=2ahUKEwjHiPzyxYeCAxWN9jgGHRmaD4wQqoUBegQIBRAB&amp;usg=AOvVaw3w6vfrjOaWJAiS9Nwx4-IY\"><div class=\"kCmkOe\"><img alt=\"\" class=\"DS1iW\" src=\"https://encrypted-tbn0.gstatic.com/images?q=tbn:ANd9GcQjlx3qh2acy4-xenpOeymsRPwFHCpajP_umKCkJYStnS4xX853n2G2kIhW9b8&amp;s\"/></div></a></td></tr><tr><td><a href=\"/url?q=https://in.linkedin.com/in/kapil-kaushik-9b543b43&amp;sa=U&amp;ved=2ahUKEwjHiPzyxYeCAxWN9jgGHRmaD4wQr4kDegQIBRAC&amp;usg=AOvVaw0gYiTcoZoup72HN8V9le0Z\"><div class=\"AlD19d\"> <span class=\"qXLe6d x3G5ab\"> <span class=\"fYyStc\">kapil kaushik - Senior...</span> </span> <span class=\"qXLe6d F9iS2e\"> <span class=\"fYyStc\">in.linkedin.com</span> </span> </div></a></td></tr></table></div></div> </div> </div></td><td align=\"center\" class=\"e3goi\"><div class=\"jjVJ4e\"> <div> <div class=\"lIMUZd\"><div><table class=\"RntSmf\"><tr><td><a href=\"/url?q=https://in.linkedin.com/in/shalendra-sharma-51829b244&amp;sa=U&amp;ved=2ahUKEwjHiPzyxYeCAxWN9jgGHRmaD4wQqoUBegQIAxAB&amp;usg=AOvVaw0EgJAkntyJW7jIpK4Pxswc\"><div class=\"kCmkOe\"><img alt=\"\" class=\"DS1iW\" src=\"https://encrypted-tbn0.gstatic.com/images?q=tbn:ANd9GcTw2jT8ucjI6kiivxHhHWtH3guWA9m4ChY-KqqvE3UkMqHVJ7-ghw6sYtGEeUs&amp;s\"/></div></a></td></tr><tr><td><a href=\"/url?q=https://in.linkedin.com/in/shalendra-sharma-51829b244&amp;sa=U&amp;ved=2ahUKEwjHiPzyxYeCAxWN9jgGHRmaD4wQr4kDegQIAxAC&amp;usg=AOvVaw1m9WQhxoyOQ990z326GkBP\"><div class=\"AlD19d\"> <span class=\"qXLe6d x3G5ab\"> <span class=\"fYyStc\">Shalendra Sharma -...</span> </span> <span class=\"qXLe6d F9iS2e\"> <span class=\"fYyStc\">in.linkedin.com</span> </span> </div></a></td></tr></table></div></div> </div> </div></td></tr><tr><td align=\"center\" class=\"e3goi\"><div class=\"jjVJ4e\"> <div> <div class=\"lIMUZd\"><div><table class=\"RntSmf\"><tr><td><a href=\"/url?q=https://www.scribd.com/document/627016227/DELHI-AND-NCR-HNI-AND-INDUSTRIES-DATA-1-LAC-DATA-1&amp;sa=U&amp;ved=2ahUKEwjHiPzyxYeCAxWN9jgGHRmaD4wQqoUBegQIABAB&amp;usg=AOvVaw1ZstSZuRZQCfpcaEHwyq_o\"><div class=\"kCmkOe\"><img alt=\"\" class=\"DS1iW\" src=\"https://encrypted-tbn0.gstatic.com/images?q=tbn:ANd9GcT7QGZEcl0nkEAw8nBxTKG_TEh3oJ9M5AR3QbzN7eRJypIWyIOO9oIEU4ZcGg&amp;s\"/></div></a></td></tr><tr><td><a href=\"/url?q=https://www.scribd.com/document/627016227/DELHI-AND-NCR-HNI-AND-INDUSTRIES-DATA-1-LAC-DATA-1&amp;sa=U&amp;ved=2ahUKEwjHiPzyxYeCAxWN9jgGHRmaD4wQr4kDegQIABAC&amp;usg=AOvVaw0hWwt52CtaPy5ovFbO_QbA\"><div class=\"AlD19d\"> <span class=\"qXLe6d x3G5ab\"> <span class=\"fYyStc\">Delhi and NCR Hni and...</span> </span> <span class=\"qXLe6d F9iS2e\"> <span class=\"fYyStc\">www.scribd.com</span> </span> </div></a></td></tr></table></div></div> </div> </div></td><td align=\"center\" class=\"e3goi\"><div class=\"jjVJ4e\"> <div> <div class=\"lIMUZd\"><div><table class=\"RntSmf\"><tr><td><a href=\"/url?q=https://www.yumpu.com/en/document/view/5679038/class-controller-general-of-patents-designs-and-trade-marks&amp;sa=U&amp;ved=2ahUKEwjHiPzyxYeCAxWN9jgGHRmaD4wQqoUBegQIBxAB&amp;usg=AOvVaw3FTRBBZsQYJiaXHR4yFDwt\"><div class=\"kCmkOe\"><img alt=\"\" class=\"DS1iW\" src=\"https://encrypted-tbn0.gstatic.com/images?q=tbn:ANd9GcQrAwzPy9U9orZsLowQfctetP_ZHMN-ziWlKAaj76UuljgIskyeP8uGZmn3fw&amp;s\"/></div></a></td></tr><tr><td><a href=\"/url?q=https://www.yumpu.com/en/document/view/5679038/class-controller-general-of-patents-designs-and-trade-marks&amp;sa=U&amp;ved=2ahUKEwjHiPzyxYeCAxWN9jgGHRmaD4wQr4kDegQIBxAC&amp;usg=AOvVaw25A2mfFPysN6lUk0z0vnK_\"><div class=\"AlD19d\"> <span class=\"qXLe6d x3G5ab\"> <span class=\"fYyStc\">Class - Controller General...</span> </span> <span class=\"qXLe6d F9iS2e\"> <span class=\"fYyStc\">www.yumpu.com</span> </span> </div></a></td></tr></table></div></div> </div> </div></td><td align=\"center\" class=\"e3goi\"><div class=\"jjVJ4e\"> <div> <div class=\"lIMUZd\"><div><table class=\"RntSmf\"><tr><td><a href=\"/url?q=https://in.linkedin.com/in/kapil-kaushik-9b543b43&amp;sa=U&amp;ved=2ahUKEwjHiPzyxYeCAxWN9jgGHRmaD4wQqoUBegQIBhAB&amp;usg=AOvVaw24lvB5AHEX-zOJ8sA1iErW\"><div class=\"kCmkOe\"><img alt=\"\" class=\"DS1iW\" src=\"https://encrypted-tbn0.gstatic.com/images?q=tbn:ANd9GcS1mEDkzG4BUSqbggvK00Gmjwkpu0hzaPZovD1tZO_HsU9Rf1mJveLlTCD_-ZQ&amp;s\"/></div></a></td></tr><tr><td><a href=\"/url?q=https://in.linkedin.com/in/kapil-kaushik-9b543b43&amp;sa=U&amp;ved=2ahUKEwjHiPzyxYeCAxWN9jgGHRmaD4wQr4kDegQIBhAC&amp;usg=AOvVaw2qPU2BIh7Qk9drErm1HloL\"><div class=\"AlD19d\"> <span class=\"qXLe6d x3G5ab\"> <span class=\"fYyStc\">kapil kaushik - Senior...</span> </span> <span class=\"qXLe6d F9iS2e\"> <span class=\"fYyStc\">in.linkedin.com</span> </span> </div></a></td></tr></table></div></div> </div> </div></td><td align=\"center\" class=\"e3goi\"><div class=\"jjVJ4e\"> <div> <div class=\"lIMUZd\"><div><table class=\"RntSmf\"><tr><td><a href=\"/url?q=https://ableindia.in/manage/images/resourceuploads/India-Biotech-Handbook-2023.pdf&amp;sa=U&amp;ved=2ahUKEwjHiPzyxYeCAxWN9jgGHRmaD4wQqoUBegQIBBAB&amp;usg=AOvVaw0w6s4rOrVhPgWPU9Evi2g9\"><div class=\"kCmkOe\"><img alt=\"\" class=\"DS1iW\" src=\"https://encrypted-tbn0.gstatic.com/images?q=tbn:ANd9GcQ7jEPoOZEcOG1UniVa9PZPKT3yy5sBGKwqHhwP9s81X5ypVn7dG9q0cMVzNw&amp;s\"/></div></a></td></tr><tr><td><a href=\"/url?q=https://ableindia.in/manage/images/resourceuploads/India-Biotech-Handbook-2023.pdf&amp;sa=U&amp;ved=2ahUKEwjHiPzyxYeCAxWN9jgGHRmaD4wQr4kDegQIBBAC&amp;usg=AOvVaw1ridf9suvJFbJ0M69wsAb0\"><div class=\"AlD19d\"> <span class=\"qXLe6d x3G5ab\"> <span class=\"fYyStc\">INDIA BIOTECH</span> </span> <span class=\"qXLe6d F9iS2e\"> <span class=\"fYyStc\">ableindia.in</span> </span> </div></a></td></tr></table></div></div> </div> </div></td></tr></table></div><table class=\"uZgmoc\"><tbody><td><a class=\"frGj1b\" href=\"/search?q=Ramjee+Singh+Sekisui&amp;sca_esv=575468271&amp;ie=UTF-8&amp;tbm=isch&amp;ei=UvozZceXJY3t4-EPmbS-4Ag&amp;start=20&amp;sa=N\">Next &gt;</a></td></tbody></table><br/><div class=\"TuS8Ad\" data-ved=\"0ahUKEwjHiPzyxYeCAxWN9jgGHRmaD4wQpyoIUQ\"><style>.VYM29{font-weight:bold}</style><div align=\"center\" class=\"HddGcc\"><span class=\"VYM29\">302007, Jaipur, Rajasthan</span><span> - </span><span>From your IP address</span><span> - </span><a href=\"/url?q=https://support.google.com/websearch%3Fp%3Dws_settings_location%26hl%3Den-IN&amp;opi=89978449&amp;sa=U&amp;ved=0ahUKEwjHiPzyxYeCAxWN9jgGHRmaD4wQty4IUg&amp;usg=AOvVaw3i2tjMPzP9YnuGlSWCtA6l\">Learn more</a></div><div align=\"center\"><a class=\"rEM8G\" href=\"/url?q=https://accounts.google.com/ServiceLogin%3Fcontinue%3Dhttps://www.google.com/search%253Fq%253DRamjee%252BSingh%252BSekisui%2526tbm%253Disch%2526ved%253D2ahUKEwiqxIqWwYeCAxXDSmwGHSTHDPsQ2-cCegQIABAA%26hl%3Den&amp;opi=89978449&amp;sa=U&amp;ved=0ahUKEwjHiPzyxYeCAxWN9jgGHRmaD4wQxs8CCFM&amp;usg=AOvVaw1HvuN0isOYtA-5tPVQxOpk\">Sign in</a></div><div><table class=\"bookcf\"><tbody class=\"InWNIe\"><tr><td><a class=\"rEM8G\" href=\"https://www.google.com/preferences?hl=en&amp;sa=X&amp;ved=0ahUKEwjHiPzyxYeCAxWN9jgGHRmaD4wQv5YECFQ\">Settings</a></td><td><a class=\"rEM8G\" href=\"https://www.google.com/intl/en_in/policies/privacy/\">Privacy</a></td><td><a class=\"rEM8G\" href=\"https://www.google.com/intl/en_in/policies/terms/\">Terms</a></td></tr></tbody></table></div></div><div> </div></body></html>"
      ]
     },
     "execution_count": 13,
     "metadata": {},
     "output_type": "execute_result"
    }
   ],
   "source": [
    "soup"
   ]
  },
  {
   "cell_type": "code",
   "execution_count": 21,
   "metadata": {},
   "outputs": [],
   "source": [
    "images_tages = soup.find_all(\"img\")"
   ]
  },
  {
   "cell_type": "code",
   "execution_count": 22,
   "metadata": {},
   "outputs": [],
   "source": [
    "del images_tages[0]"
   ]
  },
  {
   "cell_type": "code",
   "execution_count": 23,
   "metadata": {},
   "outputs": [],
   "source": [
    "for i in images_tages:\n",
    "    images_url = i['src']\n",
    "    image_data = requests.get(images_url).content\n",
    "    with open(os.path.join(save_dir , f\"{query}_{images_tages.index(i)}.jpg\"), \"wb\") as f :\n",
    "        f.write(image_data)"
   ]
  },
  {
   "cell_type": "code",
   "execution_count": null,
   "metadata": {},
   "outputs": [],
   "source": []
  }
 ],
 "metadata": {
  "kernelspec": {
   "display_name": "Python 3 (ipykernel)",
   "language": "python",
   "name": "python3"
  },
  "language_info": {
   "codemirror_mode": {
    "name": "ipython",
    "version": 3
   },
   "file_extension": ".py",
   "mimetype": "text/x-python",
   "name": "python",
   "nbconvert_exporter": "python",
   "pygments_lexer": "ipython3",
   "version": "3.11.4"
  },
  "widgets": {
   "application/vnd.jupyter.widget-state+json": {
    "state": {},
    "version_major": 2,
    "version_minor": 0
   }
  }
 },
 "nbformat": 4,
 "nbformat_minor": 4
}
