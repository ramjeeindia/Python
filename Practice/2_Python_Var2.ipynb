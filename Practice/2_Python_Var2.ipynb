{
 "cells": [
  {
   "cell_type": "code",
   "execution_count": 1,
   "id": "e178a539-19f8-4f48-917c-c2f850b633f0",
   "metadata": {},
   "outputs": [],
   "source": [
    "a =10"
   ]
  },
  {
   "cell_type": "code",
   "execution_count": 2,
   "id": "426c8408-3321-4334-8d0e-f1a59a0d99ab",
   "metadata": {},
   "outputs": [
    {
     "data": {
      "text/plain": [
       "10"
      ]
     },
     "execution_count": 2,
     "metadata": {},
     "output_type": "execute_result"
    }
   ],
   "source": [
    "a"
   ]
  },
  {
   "cell_type": "code",
   "execution_count": 3,
   "id": "89182dde-5ce7-4ba9-8deb-617f56b15208",
   "metadata": {},
   "outputs": [
    {
     "name": "stdout",
     "output_type": "stream",
     "text": [
      " True\n"
     ]
    }
   ],
   "source": [
    "b = bool(input())"
   ]
  },
  {
   "cell_type": "code",
   "execution_count": 4,
   "id": "d6223a36-aad4-4a7c-9d95-58e791d6d55e",
   "metadata": {},
   "outputs": [
    {
     "data": {
      "text/plain": [
       "True"
      ]
     },
     "execution_count": 4,
     "metadata": {},
     "output_type": "execute_result"
    }
   ],
   "source": [
    "b"
   ]
  },
  {
   "cell_type": "code",
   "execution_count": null,
   "id": "393320dc-6a84-456f-b979-a7167f96134d",
   "metadata": {},
   "outputs": [],
   "source": [
    "type(b)"
   ]
  },
  {
   "cell_type": "code",
   "execution_count": 7,
   "id": "18a990cf-8467-4dfc-bda3-2ecfa190c4e9",
   "metadata": {},
   "outputs": [
    {
     "name": "stdout",
     "output_type": "stream",
     "text": [
      " Ramjee\n"
     ]
    }
   ],
   "source": [
    "b = str(input())"
   ]
  },
  {
   "cell_type": "code",
   "execution_count": 8,
   "id": "70b6c466-cfe5-4a74-9aab-9d59791d3793",
   "metadata": {},
   "outputs": [
    {
     "data": {
      "text/plain": [
       "'Ramjee'"
      ]
     },
     "execution_count": 8,
     "metadata": {},
     "output_type": "execute_result"
    }
   ],
   "source": [
    "b"
   ]
  },
  {
   "cell_type": "code",
   "execution_count": 9,
   "id": "2c5ab0b8-9482-44ae-9f4d-c7dd0a7c3603",
   "metadata": {},
   "outputs": [
    {
     "data": {
      "text/plain": [
       "str"
      ]
     },
     "execution_count": 9,
     "metadata": {},
     "output_type": "execute_result"
    }
   ],
   "source": [
    "type(b)"
   ]
  },
  {
   "cell_type": "code",
   "execution_count": 10,
   "id": "e20db8fb-c97d-4999-8f13-d43b46016c4e",
   "metadata": {},
   "outputs": [
    {
     "name": "stdout",
     "output_type": "stream",
     "text": [
      " 6758\n"
     ]
    }
   ],
   "source": [
    "b = int(input())"
   ]
  },
  {
   "cell_type": "code",
   "execution_count": 11,
   "id": "cb34613c-db1c-49f2-8988-7825b9cb711a",
   "metadata": {},
   "outputs": [
    {
     "data": {
      "text/plain": [
       "6758"
      ]
     },
     "execution_count": 11,
     "metadata": {},
     "output_type": "execute_result"
    }
   ],
   "source": [
    "b"
   ]
  },
  {
   "cell_type": "code",
   "execution_count": 12,
   "id": "39548bc3-96c3-4168-882c-690110f5889b",
   "metadata": {},
   "outputs": [
    {
     "data": {
      "text/plain": [
       "int"
      ]
     },
     "execution_count": 12,
     "metadata": {},
     "output_type": "execute_result"
    }
   ],
   "source": [
    "type(b)"
   ]
  },
  {
   "cell_type": "code",
   "execution_count": 15,
   "id": "72863ffa-9137-4a5c-828d-55c9eb9f8274",
   "metadata": {},
   "outputs": [
    {
     "name": "stdout",
     "output_type": "stream",
     "text": [
      " False\n"
     ]
    }
   ],
   "source": [
    "b = bool(input())\n",
    "\n"
   ]
  },
  {
   "cell_type": "code",
   "execution_count": 16,
   "id": "4efc44dd-4ccf-4c7a-a780-0ade54141c37",
   "metadata": {},
   "outputs": [
    {
     "data": {
      "text/plain": [
       "True"
      ]
     },
     "execution_count": 16,
     "metadata": {},
     "output_type": "execute_result"
    }
   ],
   "source": [
    "b"
   ]
  },
  {
   "cell_type": "code",
   "execution_count": 17,
   "id": "4b868d67-bf14-443a-ba6e-f35414f98f34",
   "metadata": {},
   "outputs": [
    {
     "ename": "NameError",
     "evalue": "name 'tyep' is not defined",
     "output_type": "error",
     "traceback": [
      "\u001b[0;31m---------------------------------------------------------------------------\u001b[0m",
      "\u001b[0;31mNameError\u001b[0m                                 Traceback (most recent call last)",
      "Cell \u001b[0;32mIn[17], line 1\u001b[0m\n\u001b[0;32m----> 1\u001b[0m \u001b[43mtyep\u001b[49m(b)\n",
      "\u001b[0;31mNameError\u001b[0m: name 'tyep' is not defined"
     ]
    }
   ],
   "source": [
    "tyep(b)"
   ]
  },
  {
   "cell_type": "code",
   "execution_count": 18,
   "id": "fe55f7f1-ecea-430f-9235-dbdb9dc5c87a",
   "metadata": {},
   "outputs": [],
   "source": [
    "s = \"ramjee\""
   ]
  },
  {
   "cell_type": "code",
   "execution_count": 19,
   "id": "558bee49-4078-433e-afaf-2009e3531211",
   "metadata": {},
   "outputs": [],
   "source": [
    "# extract each char start from forward index like 0 1 2 3 4\n",
    "# backward indes -4 -3 -2 -1 \n",
    "\n"
   ]
  },
  {
   "cell_type": "code",
   "execution_count": 20,
   "id": "39640aef-5612-4f5f-864a-d85baf1fc3ec",
   "metadata": {},
   "outputs": [
    {
     "data": {
      "text/plain": [
       "'a'"
      ]
     },
     "execution_count": 20,
     "metadata": {},
     "output_type": "execute_result"
    }
   ],
   "source": [
    "# 2nd index postition\n",
    "s [1]"
   ]
  },
  {
   "cell_type": "code",
   "execution_count": 21,
   "id": "d7015b57-c644-4e36-b020-5e995792b510",
   "metadata": {},
   "outputs": [
    {
     "data": {
      "text/plain": [
       "'e'"
      ]
     },
     "execution_count": 21,
     "metadata": {},
     "output_type": "execute_result"
    }
   ],
   "source": [
    "s [4]"
   ]
  },
  {
   "cell_type": "code",
   "execution_count": 22,
   "id": "bd11cf4e-8269-4a8d-b329-5b7e635f4e03",
   "metadata": {},
   "outputs": [
    {
     "ename": "IndexError",
     "evalue": "string index out of range",
     "output_type": "error",
     "traceback": [
      "\u001b[0;31m---------------------------------------------------------------------------\u001b[0m",
      "\u001b[0;31mIndexError\u001b[0m                                Traceback (most recent call last)",
      "Cell \u001b[0;32mIn[22], line 1\u001b[0m\n\u001b[0;32m----> 1\u001b[0m \u001b[43ms\u001b[49m\u001b[43m \u001b[49m\u001b[43m[\u001b[49m\u001b[38;5;241;43m100\u001b[39;49m\u001b[43m]\u001b[49m\n",
      "\u001b[0;31mIndexError\u001b[0m: string index out of range"
     ]
    }
   ],
   "source": [
    "s [100]\n"
   ]
  },
  {
   "cell_type": "code",
   "execution_count": 23,
   "id": "4bda3d33-0c65-4b48-ac5b-e21c0ce9e3e0",
   "metadata": {},
   "outputs": [],
   "source": [
    "# index will not available then it will give error"
   ]
  },
  {
   "cell_type": "code",
   "execution_count": 24,
   "id": "9dd9793e-4ee2-453e-9a93-26074b130a29",
   "metadata": {},
   "outputs": [
    {
     "ename": "IndexError",
     "evalue": "string index out of range",
     "output_type": "error",
     "traceback": [
      "\u001b[0;31m---------------------------------------------------------------------------\u001b[0m",
      "\u001b[0;31mIndexError\u001b[0m                                Traceback (most recent call last)",
      "Cell \u001b[0;32mIn[24], line 1\u001b[0m\n\u001b[0;32m----> 1\u001b[0m \u001b[43ms\u001b[49m\u001b[43m \u001b[49m\u001b[43m[\u001b[49m\u001b[38;5;241;43m6\u001b[39;49m\u001b[43m]\u001b[49m\n",
      "\u001b[0;31mIndexError\u001b[0m: string index out of range"
     ]
    }
   ],
   "source": [
    "s [6]"
   ]
  },
  {
   "cell_type": "code",
   "execution_count": 25,
   "id": "1d0ecc4c-4aa2-4eef-a249-9f4632a3b121",
   "metadata": {},
   "outputs": [],
   "source": [
    "s = \"ramjee\""
   ]
  },
  {
   "cell_type": "code",
   "execution_count": 26,
   "id": "d0b68d72-db1d-4cb8-92bb-2189a3e60f88",
   "metadata": {},
   "outputs": [
    {
     "data": {
      "text/plain": [
       "'e'"
      ]
     },
     "execution_count": 26,
     "metadata": {},
     "output_type": "execute_result"
    }
   ],
   "source": [
    "s [-1]"
   ]
  },
  {
   "cell_type": "code",
   "execution_count": 28,
   "id": "88222141-20df-460e-876d-44e61ec7d4f4",
   "metadata": {},
   "outputs": [],
   "source": [
    "s = \"ASCD\""
   ]
  },
  {
   "cell_type": "code",
   "execution_count": 29,
   "id": "786ae8ad-5f85-4073-86b9-7440b7c0150f",
   "metadata": {},
   "outputs": [
    {
     "data": {
      "text/plain": [
       "'S'"
      ]
     },
     "execution_count": 29,
     "metadata": {},
     "output_type": "execute_result"
    }
   ],
   "source": [
    "s [-3]"
   ]
  },
  {
   "cell_type": "code",
   "execution_count": 30,
   "id": "e18ae5ba-040f-4993-9828-5b466f519703",
   "metadata": {},
   "outputs": [
    {
     "data": {
      "text/plain": [
       "'C'"
      ]
     },
     "execution_count": 30,
     "metadata": {},
     "output_type": "execute_result"
    }
   ],
   "source": [
    "s [-2]"
   ]
  },
  {
   "cell_type": "code",
   "execution_count": 31,
   "id": "8b7c4eda-a60a-48f1-91f0-525efbe6aca3",
   "metadata": {},
   "outputs": [],
   "source": [
    "# working as reverse index"
   ]
  },
  {
   "cell_type": "code",
   "execution_count": 32,
   "id": "2e21af16-1cee-4a45-85df-4f65f1305073",
   "metadata": {},
   "outputs": [],
   "source": [
    "s1 = \"pwskills\""
   ]
  },
  {
   "cell_type": "code",
   "execution_count": 33,
   "id": "dedb1ce8-06e9-48d9-9948-37397a0abee0",
   "metadata": {},
   "outputs": [],
   "source": [
    "# index 0 1 2 3 4 5 6 7\n",
    "# reverse -7 -6 -5 -4 -3 -2 -1"
   ]
  },
  {
   "cell_type": "code",
   "execution_count": 36,
   "id": "b6d990ae-552e-4c2d-a08b-f4c5561365ae",
   "metadata": {},
   "outputs": [
    {
     "data": {
      "text/plain": [
       "'p'"
      ]
     },
     "execution_count": 36,
     "metadata": {},
     "output_type": "execute_result"
    }
   ],
   "source": [
    "# if some one slice particular part 0 is called start point and 1 is call end point\n",
    "s1[0:1]"
   ]
  },
  {
   "cell_type": "code",
   "execution_count": 37,
   "id": "41140996-659e-4c07-805d-b0bc70979542",
   "metadata": {},
   "outputs": [
    {
     "data": {
      "text/plain": [
       "'pw'"
      ]
     },
     "execution_count": 37,
     "metadata": {},
     "output_type": "execute_result"
    }
   ],
   "source": [
    "s1[0:2]"
   ]
  },
  {
   "cell_type": "code",
   "execution_count": 38,
   "id": "6900a997-5319-4164-ba7e-615a33f265aa",
   "metadata": {},
   "outputs": [
    {
     "data": {
      "text/plain": [
       "'skill'"
      ]
     },
     "execution_count": 38,
     "metadata": {},
     "output_type": "execute_result"
    }
   ],
   "source": [
    "# scale out of skill upperbound -1\n",
    "s1[2:7]"
   ]
  },
  {
   "cell_type": "code",
   "execution_count": 39,
   "id": "19a88306-baea-4665-b96b-cffc08ac08f2",
   "metadata": {},
   "outputs": [],
   "source": [
    "# for skill extration 7th post -1 "
   ]
  },
  {
   "cell_type": "code",
   "execution_count": 40,
   "id": "d77091b2-bc56-4f55-aa9a-12d227cd5904",
   "metadata": {},
   "outputs": [
    {
     "data": {
      "text/plain": [
       "'skill'"
      ]
     },
     "execution_count": 40,
     "metadata": {},
     "output_type": "execute_result"
    }
   ],
   "source": [
    "s1[2:-1]"
   ]
  },
  {
   "cell_type": "code",
   "execution_count": 41,
   "id": "3a7324d1-bb3a-4a19-a27f-fcff2a92969f",
   "metadata": {},
   "outputs": [
    {
     "data": {
      "text/plain": [
       "'skills'"
      ]
     },
     "execution_count": 41,
     "metadata": {},
     "output_type": "execute_result"
    }
   ],
   "source": [
    "s1[2:8]"
   ]
  },
  {
   "cell_type": "code",
   "execution_count": 42,
   "id": "e45d102f-3216-4912-8129-85f6ecf62694",
   "metadata": {},
   "outputs": [],
   "source": [
    "# 8 postion is not available it is working for extract skills"
   ]
  },
  {
   "cell_type": "code",
   "execution_count": 43,
   "id": "a4dadeb1-2a77-4e37-9127-676d9ac3bb52",
   "metadata": {},
   "outputs": [
    {
     "data": {
      "text/plain": [
       "'skills'"
      ]
     },
     "execution_count": 43,
     "metadata": {},
     "output_type": "execute_result"
    }
   ],
   "source": [
    "s1[2:800]"
   ]
  },
  {
   "cell_type": "code",
   "execution_count": 44,
   "id": "86654ff5-ad63-42a5-bbe1-34dd7c84d1f2",
   "metadata": {},
   "outputs": [],
   "source": [
    "# even 800 not aval but it will ok"
   ]
  },
  {
   "cell_type": "code",
   "execution_count": 48,
   "id": "642329dd-f917-4db5-87c5-2ceff25c10d2",
   "metadata": {},
   "outputs": [
    {
     "data": {
      "text/plain": [
       "'pwskill'"
      ]
     },
     "execution_count": 48,
     "metadata": {},
     "output_type": "execute_result"
    }
   ],
   "source": [
    "# looking for p s i then l then\n",
    "s1[0:7:1]"
   ]
  },
  {
   "cell_type": "code",
   "execution_count": 46,
   "id": "8cc63f11-6779-4329-aac3-cb285833e38b",
   "metadata": {},
   "outputs": [],
   "source": [
    "#: 1 denote jump 1 "
   ]
  },
  {
   "cell_type": "code",
   "execution_count": 47,
   "id": "23abac25-22f3-46d0-883f-4180bb3e0e8e",
   "metadata": {},
   "outputs": [
    {
     "data": {
      "text/plain": [
       "'psil'"
      ]
     },
     "execution_count": 47,
     "metadata": {},
     "output_type": "execute_result"
    }
   ],
   "source": [
    "s1[0:7:2]"
   ]
  },
  {
   "cell_type": "code",
   "execution_count": 53,
   "id": "3c04799c-a877-4bdb-a5d7-d6f7b3f267e2",
   "metadata": {},
   "outputs": [],
   "source": [
    "# by default jum is +1"
   ]
  },
  {
   "cell_type": "code",
   "execution_count": 50,
   "id": "a1ed7c5e-2652-4272-9648-2cec92bfdde2",
   "metadata": {},
   "outputs": [
    {
     "data": {
      "text/plain": [
       "''"
      ]
     },
     "execution_count": 50,
     "metadata": {},
     "output_type": "execute_result"
    }
   ],
   "source": [
    "# for slli\n",
    "s1[7:3]"
   ]
  },
  {
   "cell_type": "code",
   "execution_count": 51,
   "id": "7ee0599d-4a9f-4b95-992b-e63ea58c06e7",
   "metadata": {},
   "outputs": [
    {
     "data": {
      "text/plain": [
       "''"
      ]
     },
     "execution_count": 51,
     "metadata": {},
     "output_type": "execute_result"
    }
   ],
   "source": [
    "s1[7:-3]"
   ]
  },
  {
   "cell_type": "code",
   "execution_count": 52,
   "id": "9755b3dd-1c59-4839-9bd3-527525af666f",
   "metadata": {},
   "outputs": [
    {
     "data": {
      "text/plain": [
       "'wski'"
      ]
     },
     "execution_count": 52,
     "metadata": {},
     "output_type": "execute_result"
    }
   ],
   "source": [
    "s1[-7:-3]"
   ]
  },
  {
   "cell_type": "code",
   "execution_count": 54,
   "id": "bcef17aa-bb76-4e04-83ce-a190f370fb71",
   "metadata": {},
   "outputs": [
    {
     "data": {
      "text/plain": [
       "'slli'"
      ]
     },
     "execution_count": 54,
     "metadata": {},
     "output_type": "execute_result"
    }
   ],
   "source": [
    "s1[7:3:-1]"
   ]
  },
  {
   "cell_type": "code",
   "execution_count": 55,
   "id": "910b228a-c838-4d71-b709-3fa5d93bc97e",
   "metadata": {},
   "outputs": [],
   "source": [
    "# here jum 3=-1"
   ]
  },
  {
   "cell_type": "code",
   "execution_count": 56,
   "id": "ab882747-0185-4a1b-a7cd-2d031f6573a3",
   "metadata": {},
   "outputs": [
    {
     "data": {
      "text/plain": [
       "'slli'"
      ]
     },
     "execution_count": 56,
     "metadata": {},
     "output_type": "execute_result"
    }
   ],
   "source": [
    "s1[-1:-5:-1]"
   ]
  },
  {
   "cell_type": "code",
   "execution_count": 58,
   "id": "5eb33e5a-efbf-4fc9-94bd-f2eb074809cb",
   "metadata": {},
   "outputs": [
    {
     "data": {
      "text/plain": [
       "''"
      ]
     },
     "execution_count": 58,
     "metadata": {},
     "output_type": "execute_result"
    }
   ],
   "source": [
    "# reversiing str\n",
    "s1[7:0]"
   ]
  },
  {
   "cell_type": "code",
   "execution_count": 59,
   "id": "914a2b3c-871e-46a3-af9c-f33c02b2f214",
   "metadata": {},
   "outputs": [
    {
     "data": {
      "text/plain": [
       "'sllikswp'"
      ]
     },
     "execution_count": 59,
     "metadata": {},
     "output_type": "execute_result"
    }
   ],
   "source": [
    "s1[7:-9:-1]"
   ]
  },
  {
   "cell_type": "code",
   "execution_count": 61,
   "id": "d9459de7-6f85-4e96-bec6-eb361ec01e0c",
   "metadata": {},
   "outputs": [
    {
     "data": {
      "text/plain": [
       "'sllikswp'"
      ]
     },
     "execution_count": 61,
     "metadata": {},
     "output_type": "execute_result"
    }
   ],
   "source": [
    "s1[7::-1]"
   ]
  },
  {
   "cell_type": "code",
   "execution_count": 62,
   "id": "e1bca6ff-1890-49db-b51e-8b9f64d735ea",
   "metadata": {},
   "outputs": [],
   "source": [
    "#::-1 equal to -1 reverse"
   ]
  },
  {
   "cell_type": "code",
   "execution_count": 63,
   "id": "3f63ce11-032a-4eb4-9cb8-66a4ac1aac78",
   "metadata": {},
   "outputs": [
    {
     "data": {
      "text/plain": [
       "'slkw'"
      ]
     },
     "execution_count": 63,
     "metadata": {},
     "output_type": "execute_result"
    }
   ],
   "source": [
    "s1[7::-2]"
   ]
  },
  {
   "cell_type": "code",
   "execution_count": 68,
   "id": "d9b4aac1-5fcd-4afe-b053-221d179eb59d",
   "metadata": {},
   "outputs": [],
   "source": [
    "# replace s with p\n",
    "p1 ='swkills'"
   ]
  },
  {
   "cell_type": "code",
   "execution_count": 65,
   "id": "d599f7ad-eee4-419b-a056-d747bd86ce5b",
   "metadata": {},
   "outputs": [
    {
     "ename": "TypeError",
     "evalue": "'str' object does not support item assignment",
     "output_type": "error",
     "traceback": [
      "\u001b[0;31m---------------------------------------------------------------------------\u001b[0m",
      "\u001b[0;31mTypeError\u001b[0m                                 Traceback (most recent call last)",
      "Cell \u001b[0;32mIn[65], line 1\u001b[0m\n\u001b[0;32m----> 1\u001b[0m \u001b[43ms1\u001b[49m\u001b[43m[\u001b[49m\u001b[38;5;241;43m0\u001b[39;49m\u001b[43m]\u001b[49m\u001b[38;5;241m=\u001b[39m\u001b[38;5;124m'\u001b[39m\u001b[38;5;124mp\u001b[39m\u001b[38;5;124m'\u001b[39m\n",
      "\u001b[0;31mTypeError\u001b[0m: 'str' object does not support item assignment"
     ]
    }
   ],
   "source": [
    "s1[0]='p'"
   ]
  },
  {
   "cell_type": "code",
   "execution_count": 67,
   "id": "0a198f60-2d5a-4f0a-9c13-181e692eec3c",
   "metadata": {},
   "outputs": [],
   "source": [
    "# this is called is immutable"
   ]
  },
  {
   "cell_type": "code",
   "execution_count": null,
   "id": "fd1a6fef-c91d-4ea8-8bd8-3930660d345e",
   "metadata": {},
   "outputs": [],
   "source": []
  }
 ],
 "metadata": {
  "kernelspec": {
   "display_name": "Python 3 (ipykernel)",
   "language": "python",
   "name": "python3"
  },
  "language_info": {
   "codemirror_mode": {
    "name": "ipython",
    "version": 3
   },
   "file_extension": ".py",
   "mimetype": "text/x-python",
   "name": "python",
   "nbconvert_exporter": "python",
   "pygments_lexer": "ipython3",
   "version": "3.11.4"
  }
 },
 "nbformat": 4,
 "nbformat_minor": 5
}
