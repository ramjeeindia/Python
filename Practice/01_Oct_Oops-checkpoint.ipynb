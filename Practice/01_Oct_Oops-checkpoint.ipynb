{
 "cells": [
  {
   "cell_type": "markdown",
   "metadata": {},
   "source": [
    "## Oops -Object Oriented Programming System"
   ]
  },
  {
   "cell_type": "code",
   "execution_count": 2,
   "metadata": {
    "scrolled": true
   },
   "outputs": [
    {
     "data": {
      "text/plain": [
       "3"
      ]
     },
     "execution_count": 2,
     "metadata": {},
     "output_type": "execute_result"
    }
   ],
   "source": [
    "1+2"
   ]
  },
  {
   "cell_type": "code",
   "execution_count": null,
   "metadata": {},
   "outputs": [],
   "source": [
    "# class "
   ]
  },
  {
   "cell_type": "code",
   "execution_count": 1,
   "metadata": {},
   "outputs": [],
   "source": [
    "a = \"ramjee\""
   ]
  },
  {
   "cell_type": "code",
   "execution_count": 2,
   "metadata": {},
   "outputs": [
    {
     "data": {
      "text/plain": [
       "str"
      ]
     },
     "execution_count": 2,
     "metadata": {},
     "output_type": "execute_result"
    }
   ],
   "source": [
    "type(a)"
   ]
  },
  {
   "cell_type": "code",
   "execution_count": 3,
   "metadata": {},
   "outputs": [
    {
     "name": "stdout",
     "output_type": "stream",
     "text": [
      "<class 'str'>\n"
     ]
    }
   ],
   "source": [
    "print(type(a))"
   ]
  },
  {
   "cell_type": "code",
   "execution_count": 4,
   "metadata": {},
   "outputs": [],
   "source": [
    "# class is noting but real word entitiy , we are going to classify in certain types"
   ]
  },
  {
   "cell_type": "code",
   "execution_count": null,
   "metadata": {},
   "outputs": [],
   "source": [
    "a = 10\n",
    "b = 20\n",
    "c = 30 # holding int class "
   ]
  },
  {
   "cell_type": "code",
   "execution_count": 5,
   "metadata": {},
   "outputs": [
    {
     "name": "stdout",
     "output_type": "stream",
     "text": [
      "<class 'float'>\n"
     ]
    }
   ],
   "source": [
    "b = 24.5\n",
    "print(type(b))\n"
   ]
  },
  {
   "cell_type": "code",
   "execution_count": 6,
   "metadata": {},
   "outputs": [
    {
     "data": {
      "text/plain": [
       "'RAMJEE'"
      ]
     },
     "execution_count": 6,
     "metadata": {},
     "output_type": "execute_result"
    }
   ],
   "source": [
    "a.upper()"
   ]
  },
  {
   "cell_type": "code",
   "execution_count": 3,
   "metadata": {},
   "outputs": [],
   "source": [
    "# class name same as func\n",
    "class bankaccount :\n",
    "    def openaccount(self,name,email_id) :\n",
    "        print(\"open an account by taking name and email id\")\n",
    "        return name+email_id"
   ]
  },
  {
   "cell_type": "markdown",
   "metadata": {},
   "source": [
    "## How to Create Class"
   ]
  },
  {
   "cell_type": "code",
   "execution_count": 2,
   "metadata": {},
   "outputs": [],
   "source": [
    "# self is kyword we can use any str\n",
    "class bankaccount :\n",
    "    def openaccount(self,name,email_id) :\n",
    "        print(\"open an account by taking name and email id\")\n",
    "        return name+email_id\n",
    "    \n",
    "    def deposit(self,amount) :\n",
    "        print(\"i am trying to deposit an amount in my account\")\n",
    "        \n",
    "    def withdrawl(self,amt_with) :\n",
    "        print(\"i am trying to withdraw an amount in my account\")\n",
    "    \n",
    "    def update_details(self,update_name, update_email) :\n",
    "        print(\"i am trying to update name and email in my account\")  "
   ]
  },
  {
   "cell_type": "code",
   "execution_count": 4,
   "metadata": {},
   "outputs": [],
   "source": [
    "# we can use func outside \n",
    "def openaccount(name,email_id) :\n",
    "    print(\"open an account by taking name and email id\")\n",
    "    return name+email_id\n",
    "    "
   ]
  },
  {
   "cell_type": "code",
   "execution_count": 3,
   "metadata": {},
   "outputs": [],
   "source": [
    "ramjee = bankaccount() # bankaccount() declare as ramjee var"
   ]
  },
  {
   "cell_type": "code",
   "execution_count": 4,
   "metadata": {},
   "outputs": [
    {
     "name": "stdout",
     "output_type": "stream",
     "text": [
      "open an account by taking name and email id\n"
     ]
    },
    {
     "data": {
      "text/plain": [
       "'ramjee ramjee@gmail.com'"
      ]
     },
     "execution_count": 4,
     "metadata": {},
     "output_type": "execute_result"
    }
   ],
   "source": [
    "# call func and pass the data isme class bankaccount ke sare func call kiye ja sakte hai\n",
    "ramjee.openaccount(\"ramjee \", \"ramjee@gmail.com\")"
   ]
  },
  {
   "cell_type": "code",
   "execution_count": 5,
   "metadata": {},
   "outputs": [
    {
     "name": "stdout",
     "output_type": "stream",
     "text": [
      "i am trying to deposit an amount in my account\n"
     ]
    }
   ],
   "source": [
    "ramjee.deposit(500)"
   ]
  },
  {
   "cell_type": "code",
   "execution_count": 1,
   "metadata": {},
   "outputs": [],
   "source": [
    "def deposit(amount) :\n",
    "  print(\"i am trying to deposit an amount in my account\")"
   ]
  },
  {
   "cell_type": "code",
   "execution_count": 16,
   "metadata": {},
   "outputs": [
    {
     "name": "stdout",
     "output_type": "stream",
     "text": [
      "i am trying to deposit an amount in my account\n"
     ]
    }
   ],
   "source": [
    "amount = deposit(400)"
   ]
  },
  {
   "cell_type": "code",
   "execution_count": null,
   "metadata": {},
   "outputs": [],
   "source": [
    "# use function from class\n",
    "# class func will shouw"
   ]
  },
  {
   "cell_type": "code",
   "execution_count": null,
   "metadata": {},
   "outputs": [],
   "source": [
    "\n",
    "ramjee.update_details "
   ]
  },
  {
   "cell_type": "code",
   "execution_count": 18,
   "metadata": {},
   "outputs": [
    {
     "name": "stdout",
     "output_type": "stream",
     "text": [
      "i am trying to withdraw an amount in my account\n"
     ]
    }
   ],
   "source": [
    "ramjee.withdrawl(100)"
   ]
  },
  {
   "cell_type": "code",
   "execution_count": 20,
   "metadata": {},
   "outputs": [],
   "source": [
    "class list_ops :\n",
    "    \n",
    "    def extractfromindex(self,l,index):\n",
    "        return l[index]\n",
    "    "
   ]
  },
  {
   "cell_type": "code",
   "execution_count": 21,
   "metadata": {},
   "outputs": [
    {
     "data": {
      "text/plain": [
       "7"
      ]
     },
     "execution_count": 21,
     "metadata": {},
     "output_type": "execute_result"
    }
   ],
   "source": [
    "l = [4,5,6,7,3,4]\n",
    "l[3]"
   ]
  },
  {
   "cell_type": "code",
   "execution_count": 11,
   "metadata": {},
   "outputs": [],
   "source": [
    "# use all of funct \n",
    "class list_ops :\n",
    "    \n",
    "    def extractfromindex(self,l,index):\n",
    "        return l[index]\n",
    "    \n",
    "    def extractagendadata(self,l,start,end):\n",
    "        return l[start:end]\n",
    "    def extracteven(self,l):\n",
    "        li=[]\n",
    "        for i in l:\n",
    "            if i%2 == 0:\n",
    "                li.append(i)\n",
    "        return li\n",
    "    "
   ]
  },
  {
   "cell_type": "code",
   "execution_count": 12,
   "metadata": {},
   "outputs": [
    {
     "data": {
      "text/plain": [
       "6"
      ]
     },
     "execution_count": 12,
     "metadata": {},
     "output_type": "execute_result"
    }
   ],
   "source": [
    "first_obj = list_ops() # list_ops() declare as var\n",
    "first_obj.extractfromindex([2,3,4,5,6],4)"
   ]
  },
  {
   "cell_type": "code",
   "execution_count": 13,
   "metadata": {},
   "outputs": [
    {
     "data": {
      "text/plain": [
       "[2, 3, 4, 5]"
      ]
     },
     "execution_count": 13,
     "metadata": {},
     "output_type": "execute_result"
    }
   ],
   "source": [
    "first_obj.extractagendadata([2,3,4,5,6,7,8],0,4)"
   ]
  },
  {
   "cell_type": "code",
   "execution_count": 14,
   "metadata": {},
   "outputs": [
    {
     "data": {
      "text/plain": [
       "[4, 6, 4, 56]"
      ]
     },
     "execution_count": 14,
     "metadata": {},
     "output_type": "execute_result"
    }
   ],
   "source": [
    "first_obj.extracteven([4,5,6,4,5,56,67,7])"
   ]
  },
  {
   "cell_type": "markdown",
   "metadata": {},
   "source": [
    "### self class se bind hoṭa hai . self ke place par ant string name v likh sakte hai"
   ]
  },
  {
   "cell_type": "code",
   "execution_count": 15,
   "metadata": {},
   "outputs": [],
   "source": [
    "class list_ops :\n",
    "   \n",
    "#    a=10  we canont use outside the class\n",
    "    \n",
    "    def extractfromindex(ram,l,index):\n",
    "        return l[index]\n",
    "    \n",
    "    def extractagendadata(ram,l,start,end):\n",
    "        return l[start:end]\n",
    "    def extracteven(ram,l):\n",
    "        li=[]\n",
    "        for i in l:\n",
    "            if i%2 == 0:\n",
    "                li.append(i)\n",
    "        return li"
   ]
  },
  {
   "cell_type": "code",
   "execution_count": 16,
   "metadata": {},
   "outputs": [
    {
     "data": {
      "text/plain": [
       "6"
      ]
     },
     "execution_count": 16,
     "metadata": {},
     "output_type": "execute_result"
    }
   ],
   "source": [
    "first_obj = list_ops() # this is class\n",
    "first_obj.extractfromindex([2,3,4,5,6],4)"
   ]
  },
  {
   "cell_type": "code",
   "execution_count": 17,
   "metadata": {},
   "outputs": [],
   "source": [
    "class list_ops :\n",
    "   \n",
    "    a=10  # we use outside the class\n",
    "    \n",
    "    def extractfromindex(ram,l,index):\n",
    "        return l[index]\n",
    "    \n",
    "    def extractagendadata(ram,l,start,end):\n",
    "        return l[start:end]\n",
    "    def extracteven(ram,l):\n",
    "        li=[]\n",
    "        for i in l:\n",
    "            if i%2 == 0:\n",
    "                li.append(i)\n",
    "        return li"
   ]
  },
  {
   "cell_type": "code",
   "execution_count": 18,
   "metadata": {},
   "outputs": [
    {
     "data": {
      "text/plain": [
       "6"
      ]
     },
     "execution_count": 18,
     "metadata": {},
     "output_type": "execute_result"
    }
   ],
   "source": [
    "first_obj = list_ops() # this is class\n",
    "first_obj.extractfromindex([2,3,4,5,6],4)"
   ]
  },
  {
   "cell_type": "code",
   "execution_count": 19,
   "metadata": {},
   "outputs": [
    {
     "data": {
      "text/plain": [
       "10"
      ]
     },
     "execution_count": 19,
     "metadata": {},
     "output_type": "execute_result"
    }
   ],
   "source": [
    "# we use outside the class\n",
    "first_obj.a # call a "
   ]
  },
  {
   "cell_type": "code",
   "execution_count": 20,
   "metadata": {},
   "outputs": [],
   "source": [
    "class list_ops :\n",
    "   \n",
    "    a=10  # we use outside the class\n",
    "    l=[2,7,8,10,23,40,20] # pass inside list\n",
    "    \n",
    "    def extractfromindex(ram,l,index):\n",
    "        return l[index]\n",
    "    \n",
    "    def extractagendadata(ram,l,start,end):\n",
    "        return l[start:end]\n",
    "    def extracteven(ram,l):\n",
    "        li=[]\n",
    "        for i in l:\n",
    "            if i%2 == 0:\n",
    "                li.append(i)\n",
    "        return li"
   ]
  },
  {
   "cell_type": "code",
   "execution_count": 22,
   "metadata": {},
   "outputs": [
    {
     "data": {
      "text/plain": [
       "23"
      ]
     },
     "execution_count": 22,
     "metadata": {},
     "output_type": "execute_result"
    }
   ],
   "source": [
    "first_obj = list_ops() # this is class\n",
    "first_obj.extractfromindex(first_obj.l,4) # call the list and 4th index "
   ]
  },
  {
   "cell_type": "code",
   "execution_count": 25,
   "metadata": {},
   "outputs": [
    {
     "data": {
      "text/plain": [
       "[2, 7, 8, 10, 23, 40, 20]"
      ]
     },
     "execution_count": 25,
     "metadata": {},
     "output_type": "execute_result"
    }
   ],
   "source": [
    "first_obj.l "
   ]
  },
  {
   "cell_type": "code",
   "execution_count": 23,
   "metadata": {},
   "outputs": [],
   "source": [
    "second_obj = list_ops()  # jitne v variable create krenge same data call hoga ye class ki properly hai"
   ]
  },
  {
   "cell_type": "code",
   "execution_count": 24,
   "metadata": {},
   "outputs": [
    {
     "data": {
      "text/plain": [
       "[2, 7, 8, 10, 23, 40, 20]"
      ]
     },
     "execution_count": 24,
     "metadata": {},
     "output_type": "execute_result"
    }
   ],
   "source": [
    "second_obj.l  # same data "
   ]
  },
  {
   "cell_type": "code",
   "execution_count": 26,
   "metadata": {},
   "outputs": [],
   "source": [
    "third_obj = list_ops() "
   ]
  },
  {
   "cell_type": "code",
   "execution_count": 27,
   "metadata": {},
   "outputs": [
    {
     "data": {
      "text/plain": [
       "[2, 7, 8, 10, 23, 40, 20]"
      ]
     },
     "execution_count": 27,
     "metadata": {},
     "output_type": "execute_result"
    }
   ],
   "source": [
    "third_obj.l  # same data like another var"
   ]
  },
  {
   "cell_type": "markdown",
   "metadata": {},
   "source": [
    "## Dunder Function __ init __ get diffrent type data each time"
   ]
  },
  {
   "cell_type": "code",
   "execution_count": 32,
   "metadata": {},
   "outputs": [],
   "source": [
    "class list_ops :\n",
    "   \n",
    "   \n",
    "    def __init__(ram,l) :      \n",
    "    # init inbuit func intialize ---double underscore === put ram and pass list\n",
    "    \n",
    "        ram.l =l  \n",
    "        # ref .l \n",
    "    \n",
    "    def extractfromindex(ram,l,index):\n",
    "        return l[index]\n",
    "    \n",
    "    def extractagendadata(ram,l,start,end):\n",
    "        return l[start:end]\n",
    "    def extracteven(ram,l):\n",
    "        li=[]\n",
    "        for i in l:\n",
    "            if i%2 == 0:\n",
    "                li.append(i)\n",
    "        return li"
   ]
  },
  {
   "cell_type": "code",
   "execution_count": 33,
   "metadata": {},
   "outputs": [
    {
     "ename": "TypeError",
     "evalue": "list_ops.__init__() missing 1 required positional argument: 'l'",
     "output_type": "error",
     "traceback": [
      "\u001b[1;31m---------------------------------------------------------------------------\u001b[0m",
      "\u001b[1;31mTypeError\u001b[0m                                 Traceback (most recent call last)",
      "\u001b[1;32md:\\Data Science\\Python Coding\\Practice\\01_Oct_Oops-checkpoint.ipynb Cell 44\u001b[0m line \u001b[0;36m1\n\u001b[1;32m----> <a href='vscode-notebook-cell:/d%3A/Data%20Science/Python%20Coding/Practice/01_Oct_Oops-checkpoint.ipynb#Y100sZmlsZQ%3D%3D?line=0'>1</a>\u001b[0m second_obj \u001b[39m=\u001b[39m list_ops()\n",
      "\u001b[1;31mTypeError\u001b[0m: list_ops.__init__() missing 1 required positional argument: 'l'"
     ]
    }
   ],
   "source": [
    "second_obj = list_ops() # ye error dega kyoki init exce hoga l nahi mila then error # then list pass krna hoga"
   ]
  },
  {
   "cell_type": "code",
   "execution_count": 34,
   "metadata": {},
   "outputs": [],
   "source": [
    "second_obj = list_ops([2,5,8,9,3,4]) # then list pass krna hoga\n",
    "\n",
    "# ye list pahle (ram,l) jayega\n",
    "# then class variable ke pas ram.l jayega\n",
    "# then class variable ram.l =l  (means =l) ke pas jayega"
   ]
  },
  {
   "cell_type": "code",
   "execution_count": 35,
   "metadata": {},
   "outputs": [
    {
     "data": {
      "text/plain": [
       "[2, 5, 8, 9, 3, 4]"
      ]
     },
     "execution_count": 35,
     "metadata": {},
     "output_type": "execute_result"
    }
   ],
   "source": [
    "second_obj.l  # call the object"
   ]
  },
  {
   "cell_type": "code",
   "execution_count": 36,
   "metadata": {},
   "outputs": [],
   "source": [
    "class list_ops :\n",
    "   \n",
    "   \n",
    "    def __init__(ram,l) :      \n",
    "    # init inbuit func intialize ---double underscore === put ram and pass list\n",
    "    \n",
    "        ram.l1 =l  \n",
    "        # ref .l \n",
    "    \n",
    "    def extractfromindex(ram,l,index):\n",
    "        return l[index]\n",
    "    \n",
    "    def extractagendadata(ram,l,start,end):\n",
    "        return l[start:end]\n",
    "    def extracteven(ram,l):\n",
    "        li=[]\n",
    "        for i in l:\n",
    "            if i%2 == 0:\n",
    "                li.append(i)\n",
    "        return li"
   ]
  },
  {
   "cell_type": "code",
   "execution_count": 37,
   "metadata": {},
   "outputs": [],
   "source": [
    "second_obj = list_ops([2,5,8,9,3,4])"
   ]
  },
  {
   "cell_type": "code",
   "execution_count": 38,
   "metadata": {},
   "outputs": [
    {
     "ename": "AttributeError",
     "evalue": "'list_ops' object has no attribute 'l'",
     "output_type": "error",
     "traceback": [
      "\u001b[1;31m---------------------------------------------------------------------------\u001b[0m",
      "\u001b[1;31mAttributeError\u001b[0m                            Traceback (most recent call last)",
      "\u001b[1;32md:\\Data Science\\Python Coding\\Practice\\01_Oct_Oops-checkpoint.ipynb Cell 49\u001b[0m line \u001b[0;36m1\n\u001b[1;32m----> <a href='vscode-notebook-cell:/d%3A/Data%20Science/Python%20Coding/Practice/01_Oct_Oops-checkpoint.ipynb#Y105sZmlsZQ%3D%3D?line=0'>1</a>\u001b[0m second_obj\u001b[39m.\u001b[39;49ml \n",
      "\u001b[1;31mAttributeError\u001b[0m: 'list_ops' object has no attribute 'l'"
     ]
    }
   ],
   "source": [
    "second_obj.l  # error isliye aaya kyoki pointer change   ram.l1 hua it means ram pointer diff nahi hoga"
   ]
  },
  {
   "cell_type": "code",
   "execution_count": 39,
   "metadata": {},
   "outputs": [],
   "source": [
    "class list_ops:\n",
    " \n",
    "    def __init__(sudh,l):\n",
    "        sudh.l1 = l \n",
    "        sudh.l2 = 40\n",
    "        sudh.l3 = \"sudh\"\n",
    "        sudh.l4 = (4,5,6,6,7,8)\n",
    "        sudh.l5 = {\"key\":\"value\"}\n",
    "        \n",
    "    def exractfromindex(sudh, index):\n",
    "        return sudh.l1[index]\n",
    "    \n",
    "    def extractrangedata(sudh,l,start,end):\n",
    "        return l[start:end]\n",
    "    \n",
    "    def extracteven(sudh,l):\n",
    "        l1= []\n",
    "        for i in l :\n",
    "            if i%2 == 0 :\n",
    "                l1.append(i)\n",
    "        return l1"
   ]
  },
  {
   "cell_type": "code",
   "execution_count": 41,
   "metadata": {},
   "outputs": [
    {
     "data": {
      "text/plain": [
       "[2, 5, 8, 9, 3, 4]"
      ]
     },
     "execution_count": 41,
     "metadata": {},
     "output_type": "execute_result"
    }
   ],
   "source": [
    "second_obj = list_ops([2,5,8,9,3,4])\n",
    "second_obj.l1 # multiple object call kar sakte hai"
   ]
  },
  {
   "cell_type": "code",
   "execution_count": 42,
   "metadata": {},
   "outputs": [
    {
     "data": {
      "text/plain": [
       "40"
      ]
     },
     "execution_count": 42,
     "metadata": {},
     "output_type": "execute_result"
    }
   ],
   "source": [
    "second_obj = list_ops([2,5,8,9,3,4])\n",
    "second_obj.l2 # multiple object call kar sakte hai"
   ]
  },
  {
   "cell_type": "markdown",
   "metadata": {},
   "source": [
    "## another eg"
   ]
  },
  {
   "cell_type": "code",
   "execution_count": 51,
   "metadata": {},
   "outputs": [],
   "source": [
    "class book:\n",
    "    \n",
    "    def __init__(self, name , title, pageno) :\n",
    "        self.name_of_book = name\n",
    "        self.title_of_book = title\n",
    "        self.page_no = pageno\n",
    "        \n",
    "    def extract_details(self):\n",
    "        print(self.name_of_book , self.title_of_book)\n",
    "        \n",
    "    def print_page_no(self):\n",
    "        print(self.page_no)    "
   ]
  },
  {
   "cell_type": "code",
   "execution_count": 47,
   "metadata": {},
   "outputs": [],
   "source": [
    "ramjee = book('dsa','practical dsa',45) # class call and put value\n",
    "ronik = book('data science','introduction of ds',76)\n",
    "rahul = book('bigdata','invention with big data',986 )"
   ]
  },
  {
   "cell_type": "code",
   "execution_count": 48,
   "metadata": {},
   "outputs": [
    {
     "name": "stdout",
     "output_type": "stream",
     "text": [
      "dsa practical dsa\n"
     ]
    }
   ],
   "source": [
    "# what kind of book ramjee is reading\n",
    "\n",
    "ramjee.extract_details()"
   ]
  },
  {
   "cell_type": "code",
   "execution_count": 49,
   "metadata": {},
   "outputs": [
    {
     "name": "stdout",
     "output_type": "stream",
     "text": [
      "bigdata invention with big data\n"
     ]
    }
   ],
   "source": [
    "\n",
    "rahul.extract_details()"
   ]
  },
  {
   "cell_type": "code",
   "execution_count": 53,
   "metadata": {},
   "outputs": [
    {
     "name": "stdout",
     "output_type": "stream",
     "text": [
      "986\n"
     ]
    }
   ],
   "source": [
    "rahul.print_page_no()"
   ]
  },
  {
   "cell_type": "code",
   "execution_count": 54,
   "metadata": {},
   "outputs": [],
   "source": [
    "# hard code\n",
    "\n",
    "class book2:\n",
    "    \n",
    "    def __init__(self) :\n",
    "        self.name_of_book = 'dsa'\n",
    "        self.title_of_book = 'function'\n",
    "        self.page_no = 345\n",
    "        \n",
    "    def extract_details(self):\n",
    "        print(self.name_of_book , self.title_of_book)\n",
    "        \n",
    "    def print_page_no(self):\n",
    "        print(self.page_no)    "
   ]
  },
  {
   "cell_type": "code",
   "execution_count": 55,
   "metadata": {},
   "outputs": [],
   "source": [
    "student1 = book2()"
   ]
  },
  {
   "cell_type": "code",
   "execution_count": 56,
   "metadata": {},
   "outputs": [
    {
     "name": "stdout",
     "output_type": "stream",
     "text": [
      "dsa function\n"
     ]
    }
   ],
   "source": [
    "student1.extract_details()"
   ]
  },
  {
   "cell_type": "code",
   "execution_count": 57,
   "metadata": {},
   "outputs": [],
   "source": [
    "class gmail_ops:\n",
    "    def __init__(self,userid,password):\n",
    "        self.userid = userid\n",
    "        self.passwod = password \n",
    "        self.url = \"https://mail.google.com/mail/u/1/#inbox\"\n",
    "        \n",
    "    def login(self) :\n",
    "        print(\"take userid\" + self.userid + \"take password\" + self.passwod + \"hit url\" + self.url)\n",
    "        print(\"login\")\n",
    "        \n",
    "    def read_mail(self):\n",
    "        print(\"read mail for\" + self.userid + \"  \" + self.passwod)\n",
    "        \n",
    "    def reply_mail(self) : \n",
    "        print(\"reply  mail for\" + self.userid + \"  \" + self.passwod)"
   ]
  },
  {
   "cell_type": "code",
   "execution_count": 58,
   "metadata": {},
   "outputs": [],
   "source": [
    "user1 = gmail_ops(\"ramjeeindia\",\"pwskills\")"
   ]
  },
  {
   "cell_type": "code",
   "execution_count": 59,
   "metadata": {},
   "outputs": [
    {
     "name": "stdout",
     "output_type": "stream",
     "text": [
      "take useridramjeeindiatake passwordpwskillshit urlhttps://mail.google.com/mail/u/1/#inbox\n",
      "login\n"
     ]
    }
   ],
   "source": [
    "user1.login()"
   ]
  },
  {
   "cell_type": "code",
   "execution_count": 60,
   "metadata": {},
   "outputs": [],
   "source": [
    "user2 = gmail_ops(\"ramjeeindia2\",\"pwskills2\")"
   ]
  },
  {
   "cell_type": "code",
   "execution_count": 61,
   "metadata": {},
   "outputs": [
    {
     "name": "stdout",
     "output_type": "stream",
     "text": [
      "take useridramjeeindia2take passwordpwskills2hit urlhttps://mail.google.com/mail/u/1/#inbox\n",
      "login\n"
     ]
    }
   ],
   "source": [
    "user2.login()"
   ]
  },
  {
   "cell_type": "code",
   "execution_count": 63,
   "metadata": {},
   "outputs": [],
   "source": [
    "# constructor init aaya jisko alaga alag var me store kar de"
   ]
  },
  {
   "cell_type": "markdown",
   "metadata": {},
   "source": [
    "# reduce  function"
   ]
  },
  {
   "cell_type": "code",
   "execution_count": 64,
   "metadata": {},
   "outputs": [],
   "source": [
    "# call function tool \n",
    "from functools import reduce\n",
    "class calculator :\n",
    "    \n",
    "    def __init__(self,username):\n",
    "        self.username= username\n",
    "    \n",
    "    def add(self, *args):\n",
    "        return self.username , sum(args)\n",
    "    \n",
    "    def subtraction(self, *args):\n",
    "        return self.username , reduce(lambda a,b : a-b , args)\n",
    "    \n",
    "    def mul(self, *args):\n",
    "        return self.username , reduce(lambda a,b : a*b , args)\n",
    "    \n",
    "    def div(self , * args):\n",
    "         return self.username , reduce(lambda a,b : a/b , args)\n",
    "        "
   ]
  },
  {
   "cell_type": "code",
   "execution_count": 65,
   "metadata": {},
   "outputs": [],
   "source": [
    "himanshu = calculator(\"chulbul pandey\")"
   ]
  },
  {
   "cell_type": "code",
   "execution_count": 66,
   "metadata": {},
   "outputs": [
    {
     "data": {
      "text/plain": [
       "('chulbul pandey', 31)"
      ]
     },
     "execution_count": 66,
     "metadata": {},
     "output_type": "execute_result"
    }
   ],
   "source": [
    "himanshu.add(3,4,5,4,7,8)"
   ]
  },
  {
   "cell_type": "code",
   "execution_count": null,
   "metadata": {},
   "outputs": [],
   "source": []
  }
 ],
 "metadata": {
  "kernelspec": {
   "display_name": "Python 3 (ipykernel)",
   "language": "python",
   "name": "python3"
  },
  "language_info": {
   "codemirror_mode": {
    "name": "ipython",
    "version": 3
   },
   "file_extension": ".py",
   "mimetype": "text/x-python",
   "name": "python",
   "nbconvert_exporter": "python",
   "pygments_lexer": "ipython3",
   "version": "3.11.4"
  },
  "widgets": {
   "application/vnd.jupyter.widget-state+json": {
    "state": {},
    "version_major": 2,
    "version_minor": 0
   }
  }
 },
 "nbformat": 4,
 "nbformat_minor": 4
}
