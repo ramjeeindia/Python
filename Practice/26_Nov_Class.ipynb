{
 "cells": [
  {
   "cell_type": "code",
   "execution_count": 1,
   "metadata": {},
   "outputs": [],
   "source": [
    "# Bubble Sort"
   ]
  },
  {
   "cell_type": "code",
   "execution_count": 5,
   "metadata": {},
   "outputs": [],
   "source": [
    "def bubblesort(arr):\n",
    "    for i in range(len(arr)-1,0,-1):\n",
    "        for j in range(i):\n",
    "            if(arr[j]>arr[j+1]):\n",
    "                arr[j],arr[j+1]=arr[j+1],arr[j]"
   ]
  },
  {
   "cell_type": "code",
   "execution_count": 6,
   "metadata": {},
   "outputs": [
    {
     "name": "stdout",
     "output_type": "stream",
     "text": [
      "[1, 2, 3, 4, 5]\n"
     ]
    }
   ],
   "source": [
    "arr = [5,4,3,2,1]\n",
    "bubblesort(arr)\n",
    "print(arr)"
   ]
  },
  {
   "cell_type": "code",
   "execution_count": 7,
   "metadata": {},
   "outputs": [],
   "source": [
    "def bubbleSortOptimized(arr):\n",
    "  for i in range(len(arr)-1, 0 , -1):\n",
    "    isSorted = True\n",
    "    for j in range(i):\n",
    "      if(arr[j]>arr[j+1]):\n",
    "        isSorted = False\n",
    "        arr[j],arr[j+1] = arr[j+1],arr[j]\n",
    "\n",
    "    if isSorted :\n",
    "      print(\"Array is already sorted\")\n",
    "      break"
   ]
  },
  {
   "cell_type": "code",
   "execution_count": 8,
   "metadata": {},
   "outputs": [
    {
     "name": "stdout",
     "output_type": "stream",
     "text": [
      "Array is already sorted\n",
      "[1, 2, 3, 4, 5]\n"
     ]
    }
   ],
   "source": [
    "arr = [1,2,3,5,4]\n",
    "bubbleSortOptimized(arr)\n",
    "print(arr)"
   ]
  },
  {
   "cell_type": "code",
   "execution_count": null,
   "metadata": {},
   "outputs": [],
   "source": []
  },
  {
   "cell_type": "markdown",
   "metadata": {},
   "source": [
    "code --list-extensions | % { \"code --install-extension $_\" }\n",
    "code --install-extension alexisvt.flutter-snippets\n",
    "code --install-extension almenon.arepl\n",
    "code --install-extension batisteo.vscode-django\n",
    "code --install-extension BracketPairColorDLW.bracket-pair-color-dlw\n",
    "code --install-extension bradlc.vscode-tailwindcss\n",
    "code --install-extension cstrap.flask-snippets\n",
    "code --install-extension cweijan.vscode-mysql-client2\n",
    "code --install-extension Dart-Code.dart-code\n",
    "code --install-extension Dart-Code.flutter\n",
    "code --install-extension dbaeumer.vscode-eslint\n",
    "code --install-extension DiemasMichiels.emulate\n",
    "code --install-extension donjayamanne.python-environment-manager\n",
    "code --install-extension donjayamanne.python-extension-pack\n",
    "code --install-extension ecmel.vscode-html-css\n",
    "code --install-extension equinusocio.vsc-material-theme-icons\n",
    "code --install-extension esbenp.prettier-vscode\n",
    "code --install-extension formulahendry.auto-close-tag\n",
    "code --install-extension formulahendry.auto-rename-tag\n",
    "code --install-extension formulahendry.code-runner\n",
    "code --install-extension formulahendry.vscode-mysql\n",
    "code --install-extension frhtylcn.pythonsnippets\n",
    "code --install-extension GitHub.codespaces\n",
    "code --install-extension GitHub.vscode-pull-request-github\n",
    "code --install-extension KevinRose.vsc-python-indent\n",
    "code --install-extension ms-azuretools.vscode-docker\n",
    "code --install-extension ms-edgedevtools.vscode-edge-devtools\n",
    "code --install-extension ms-mssql.data-workspace-vscode\n",
    "code --install-extension ms-mssql.mssql\n",
    "code --install-extension ms-mssql.sql-bindings-vscode\n",
    "code --install-extension ms-mssql.sql-database-projects-vscode\n",
    "code --install-extension ms-python.python\n",
    "code --install-extension ms-python.vscode-pylance\n",
    "code --install-extension ms-toolsai.jupyter\n",
    "code --install-extension ms-toolsai.jupyter-keymap\n",
    "code --install-extension ms-toolsai.jupyter-renderers\n",
    "code --install-extension ms-toolsai.vscode-jupyter-cell-tags\n",
    "code --install-extension ms-toolsai.vscode-jupyter-slideshow\n",
    "code --install-extension ms-vscode-remote.remote-containers\n",
    "code --install-extension ms-vscode-remote.remote-wsl\n",
    "code --install-extension ms-vscode.azure-repos\n",
    "code --install-extension ms-vscode.cpptools-themes\n",
    "code --install-extension ms-vscode.remote-explorer\n",
    "code --install-extension ms-vscode.remote-repositories\n",
    "code --install-extension ms-vscode.remote-server\n",
    "code --install-extension ms-vscode.vscode-typescript-next\n",
    "code --install-extension mtxr.sqltools\n",
    "code --install-extension mtxr.sqltools-driver-mssql\n",
    "code --install-extension njpwerner.autodocstring\n",
    "code --install-extension Oracle.mysql-shell-for-vs-code\n",
    "code --install-extension PKief.material-icon-theme\n",
    "code --install-extension Postman.postman-for-vscode\n",
    "code --install-extension rangav.vscode-thunder-client\n",
    "code --install-extension ritwickdey.LiveServer\n",
    "code --install-extension samghelms.jupyter-notebook-vscode\n",
    "code --install-extension VisualStudioExptTeam.intellicode-api-usage-examples\n",
    "code --install-extension VisualStudioExptTeam.vscodeintellicode\n",
    "code --install-extension wesbos.theme-cobalt2\n",
    "code --install-extension wholroyd.jinja\n",
    "code --install-extension xabikos.JavaScriptSnippets"
   ]
  }
 ],
 "metadata": {
  "kernelspec": {
   "display_name": "Python 3",
   "language": "python",
   "name": "python3"
  },
  "language_info": {
   "codemirror_mode": {
    "name": "ipython",
    "version": 3
   },
   "file_extension": ".py",
   "mimetype": "text/x-python",
   "name": "python",
   "nbconvert_exporter": "python",
   "pygments_lexer": "ipython3",
   "version": "3.11.4"
  }
 },
 "nbformat": 4,
 "nbformat_minor": 2
}
