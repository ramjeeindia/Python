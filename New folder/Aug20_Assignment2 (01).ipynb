{
 "cells": [
  {
   "cell_type": "markdown",
   "id": "cf9398fd",
   "metadata": {},
   "source": [
    "1.Write a program to reverse a string."
   ]
  },
  {
   "cell_type": "code",
   "execution_count": 2,
   "id": "9e5181b3",
   "metadata": {},
   "outputs": [
    {
     "name": "stdout",
     "output_type": "stream",
     "text": [
      "Enter a string: Sanjana\n",
      "Reversed string: anajnaS\n"
     ]
    }
   ],
   "source": [
    "def reverse_string(input_string):\n",
    "    reversed_string = input_string[::-1]\n",
    "    return reversed_string\n",
    "\n",
    "input_str = input(\"Enter a string: \")\n",
    "\n",
    "reversed_str = reverse_string(input_str)\n",
    "\n",
    "print(\"Reversed string:\", reversed_str)\n"
   ]
  },
  {
   "cell_type": "markdown",
   "id": "d47535b6",
   "metadata": {},
   "source": [
    "2. Check if a string is a palindrome."
   ]
  },
  {
   "cell_type": "code",
   "execution_count": 3,
   "id": "f29ddb11",
   "metadata": {},
   "outputs": [
    {
     "name": "stdout",
     "output_type": "stream",
     "text": [
      "Enter a string: Malayalam\n",
      "The input string is a palindrome.\n"
     ]
    }
   ],
   "source": [
    "def is_palindrome(input_string):\n",
    "    clean_string = input_string.lower().replace(\" \", \"\") \n",
    "    return clean_string == clean_string[::-1]\n",
    "\n",
    "input_str = input(\"Enter a string: \")\n",
    "\n",
    "if is_palindrome(input_str):\n",
    "    print(\"The input string is a palindrome.\")\n",
    "else:\n",
    "    print(\"The input string is not a palindrome.\")\n"
   ]
  },
  {
   "cell_type": "markdown",
   "id": "4ad5eccb",
   "metadata": {},
   "source": [
    "3. Convert a string to uppercase."
   ]
  },
  {
   "cell_type": "code",
   "execution_count": 4,
   "id": "8cd19157",
   "metadata": {},
   "outputs": [
    {
     "name": "stdout",
     "output_type": "stream",
     "text": [
      "Enter a string: pwskills\n",
      "Uppercase string: PWSKILLS\n"
     ]
    }
   ],
   "source": [
    "def convert_to_uppercase(input_string):\n",
    "    return input_string.upper()\n",
    "\n",
    "input_str = input(\"Enter a string: \")\n",
    "\n",
    "uppercase_str = convert_to_uppercase(input_str)\n",
    "\n",
    "print(\"Uppercase string:\", uppercase_str)\n"
   ]
  },
  {
   "cell_type": "markdown",
   "id": "df5dfad7",
   "metadata": {},
   "source": [
    "4. Convert a string to lowercase."
   ]
  },
  {
   "cell_type": "code",
   "execution_count": 5,
   "id": "17ff58b2",
   "metadata": {},
   "outputs": [
    {
     "name": "stdout",
     "output_type": "stream",
     "text": [
      "Enter a string: PWSKILLS\n",
      "Lowercase string: pwskills\n"
     ]
    }
   ],
   "source": [
    "def convert_to_lowercase(input_string):\n",
    "    return input_string.lower()\n",
    "\n",
    "input_str = input(\"Enter a string: \")\n",
    "\n",
    "lowercase_str = convert_to_lowercase(input_str)\n",
    "\n",
    "print(\"Lowercase string:\", lowercase_str)\n"
   ]
  },
  {
   "cell_type": "markdown",
   "id": "112cf40d",
   "metadata": {},
   "source": [
    "5. Count the number of vowels in a string."
   ]
  },
  {
   "cell_type": "code",
   "execution_count": 6,
   "id": "7fc650df",
   "metadata": {},
   "outputs": [
    {
     "name": "stdout",
     "output_type": "stream",
     "text": [
      "Enter a string: I am a student developer\n",
      "Number of vowels: 9\n"
     ]
    }
   ],
   "source": [
    "def count_vowels(input_string):\n",
    "    vowels = \"aeiouAEIOU\"\n",
    "    vowel_count = 0\n",
    "    for char in input_string:\n",
    "        if char in vowels:\n",
    "            vowel_count += 1\n",
    "    return vowel_count\n",
    "\n",
    "input_str = input(\"Enter a string: \")\n",
    "\n",
    "vowel_count = count_vowels(input_str)\n",
    "\n",
    "print(\"Number of vowels:\", vowel_count)\n"
   ]
  },
  {
   "cell_type": "markdown",
   "id": "4bfc613b",
   "metadata": {},
   "source": [
    "6. Count the number of consonants in a string."
   ]
  },
  {
   "cell_type": "code",
   "execution_count": 7,
   "id": "8f226e35",
   "metadata": {},
   "outputs": [
    {
     "name": "stdout",
     "output_type": "stream",
     "text": [
      "Enter a string: I am a student developer\n",
      "Number of consonants: 11\n"
     ]
    }
   ],
   "source": [
    "def count_consonants(input_string):\n",
    "    consonants = \"bcdfghjklmnpqrstvwxyzBCDFGHJKLMNPQRSTVWXYZ\"\n",
    "    consonant_count = 0\n",
    "    for char in input_string:\n",
    "        if char in consonants:\n",
    "            consonant_count += 1\n",
    "    return consonant_count\n",
    "\n",
    "input_str = input(\"Enter a string: \")\n",
    "\n",
    "consonant_count = count_consonants(input_str)\n",
    "\n",
    "print(\"Number of consonants:\", consonant_count)\n"
   ]
  },
  {
   "cell_type": "markdown",
   "id": "784c1aba",
   "metadata": {},
   "source": [
    "7. Remove all whitespaces from a string."
   ]
  },
  {
   "cell_type": "code",
   "execution_count": 8,
   "id": "d7195458",
   "metadata": {},
   "outputs": [
    {
     "name": "stdout",
     "output_type": "stream",
     "text": [
      "Enter a string: I am a student developer\n",
      "String without whitespaces: Iamastudentdeveloper\n"
     ]
    }
   ],
   "source": [
    "def remove_whitespaces(input_string):\n",
    "    return input_string.replace(\" \", \"\")\n",
    "\n",
    "input_str = input(\"Enter a string: \")\n",
    "\n",
    "no_whitespace_str = remove_whitespaces(input_str)\n",
    "\n",
    "print(\"String without whitespaces:\", no_whitespace_str)\n"
   ]
  },
  {
   "cell_type": "markdown",
   "id": "571ac0f2",
   "metadata": {},
   "source": [
    "8. Find the length of a string without using the `len()` function."
   ]
  },
  {
   "cell_type": "code",
   "execution_count": 9,
   "id": "da54c005",
   "metadata": {},
   "outputs": [
    {
     "name": "stdout",
     "output_type": "stream",
     "text": [
      "Enter a string: I am a student developer\n",
      "Length of the string: 24\n"
     ]
    }
   ],
   "source": [
    "def custom_len(input_string):\n",
    "    count = 0\n",
    "    for char in input_string:\n",
    "        count += 1\n",
    "    return count\n",
    "\n",
    "input_str = input(\"Enter a string: \")\n",
    "\n",
    "string_length = custom_len(input_str)\n",
    "\n",
    "print(\"Length of the string:\", string_length)\n"
   ]
  },
  {
   "cell_type": "markdown",
   "id": "84d9cc50",
   "metadata": {},
   "source": [
    "9. Check if a string contains a specific word."
   ]
  },
  {
   "cell_type": "code",
   "execution_count": 10,
   "id": "9c71f521",
   "metadata": {},
   "outputs": [
    {
     "name": "stdout",
     "output_type": "stream",
     "text": [
      "Enter a string: Data Science is great to learn.\n",
      "Enter the word to search for: great\n",
      "The input string contains the word.\n"
     ]
    }
   ],
   "source": [
    "def contains_word(input_string, word):\n",
    "    return word in input_string\n",
    "\n",
    "input_str = input(\"Enter a string: \")\n",
    "\n",
    "search_word = input(\"Enter the word to search for: \")\n",
    "\n",
    "if contains_word(input_str, search_word):\n",
    "    print(\"The input string contains the word.\")\n",
    "else:\n",
    "    print(\"The input string does not contain the word.\")\n"
   ]
  },
  {
   "cell_type": "markdown",
   "id": "2f01e81d",
   "metadata": {},
   "source": [
    "10. Replace a word in a string with another word."
   ]
  },
  {
   "cell_type": "code",
   "execution_count": 11,
   "id": "e377148b",
   "metadata": {},
   "outputs": [
    {
     "name": "stdout",
     "output_type": "stream",
     "text": [
      "Enter a string: I am a student developer\n",
      "Enter the word to replace: student\n",
      "Enter the new word: front end\n",
      "Modified string: I am a front end developer\n"
     ]
    }
   ],
   "source": [
    "def replace_word(input_string, old_word, new_word):\n",
    "    return input_string.replace(old_word, new_word)\n",
    "\n",
    "input_str = input(\"Enter a string: \")\n",
    "\n",
    "old_word = input(\"Enter the word to replace: \")\n",
    "\n",
    "new_word = input(\"Enter the new word: \")\n",
    "\n",
    "modified_str = replace_word(input_str, old_word, new_word)\n",
    "\n",
    "print(\"Modified string:\", modified_str)\n"
   ]
  },
  {
   "cell_type": "markdown",
   "id": "efd1e335",
   "metadata": {},
   "source": [
    "11.Count the occurrences of a word in a string."
   ]
  },
  {
   "cell_type": "code",
   "execution_count": 1,
   "id": "d2c5c256",
   "metadata": {},
   "outputs": [
    {
     "name": "stdout",
     "output_type": "stream",
     "text": [
      "Enter a string: I am a front end developer\n",
      "Enter the word to count: a\n",
      "Number of occurrences: 1\n"
     ]
    }
   ],
   "source": [
    "def count_word_occurrences(input_string, word):\n",
    "    words = input_string.split()\n",
    "    return words.count(word)\n",
    "\n",
    "input_str = input(\"Enter a string: \")\n",
    "\n",
    "target_word = input(\"Enter the word to count: \")\n",
    "\n",
    "occurrences = count_word_occurrences(input_str, target_word)\n",
    "\n",
    "print(\"Number of occurrences:\", occurrences)\n"
   ]
  },
  {
   "cell_type": "markdown",
   "id": "775f8a1f",
   "metadata": {},
   "source": [
    "12.Find the first occurrence of a word in a string"
   ]
  },
  {
   "cell_type": "code",
   "execution_count": 2,
   "id": "4ca98884",
   "metadata": {},
   "outputs": [
    {
     "name": "stdout",
     "output_type": "stream",
     "text": [
      "Enter a string: Find the first occurrence of a word in a string\n",
      "Enter the word to find: a\n",
      "First occurrence at index: 29\n"
     ]
    }
   ],
   "source": [
    "def find_first_occurrence(input_string, word):\n",
    "    return input_string.find(word)\n",
    "\n",
    "input_str = input(\"Enter a string: \")\n",
    "\n",
    "target_word = input(\"Enter the word to find: \")\n",
    "\n",
    "first_occurrence = find_first_occurrence(input_str, target_word)\n",
    "\n",
    "if first_occurrence != -1:\n",
    "    print(\"First occurrence at index:\", first_occurrence)\n",
    "else:\n",
    "    print(\"Word not found.\")\n"
   ]
  },
  {
   "cell_type": "markdown",
   "id": "00031766",
   "metadata": {},
   "source": [
    "13.Find the last occurrence of a word in a string"
   ]
  },
  {
   "cell_type": "code",
   "execution_count": 3,
   "id": "6928feac",
   "metadata": {},
   "outputs": [
    {
     "name": "stdout",
     "output_type": "stream",
     "text": [
      "Enter a string: Find the last occurrence of a word in a string\n",
      "Enter the word to find: a\n",
      "Last occurrence at index: 38\n"
     ]
    }
   ],
   "source": [
    "def find_last_occurrence(input_string, word):\n",
    "    return input_string.rfind(word)\n",
    "\n",
    "input_str = input(\"Enter a string: \")\n",
    "\n",
    "target_word = input(\"Enter the word to find: \")\n",
    "\n",
    "last_occurrence = find_last_occurrence(input_str, target_word)\n",
    "\n",
    "if last_occurrence != -1:\n",
    "    print(\"Last occurrence at index:\", last_occurrence)\n",
    "else:\n",
    "    print(\"Word not found.\")\n"
   ]
  },
  {
   "cell_type": "markdown",
   "id": "90d54798",
   "metadata": {},
   "source": [
    "14.Split a string into a list of words"
   ]
  },
  {
   "cell_type": "code",
   "execution_count": null,
   "id": "da34dcba",
   "metadata": {},
   "outputs": [],
   "source": [
    "def split_string(input_string):\n",
    "    return input_string.split()\n",
    "\n",
    "input_str = input(\"Enter a string: \")\n",
    "\n",
    "word_list = split_string(input_str)\n",
    "\n",
    "print(\"List of words:\", word_list)\n"
   ]
  },
  {
   "cell_type": "markdown",
   "id": "dc1750e1",
   "metadata": {},
   "source": [
    "15.Join a list of words into a string"
   ]
  },
  {
   "cell_type": "code",
   "execution_count": null,
   "id": "f731a725",
   "metadata": {},
   "outputs": [],
   "source": [
    "def join_words(word_list):\n",
    "    return \" \".join(word_list)\n",
    "\n",
    "word_list = input(\"Enter a list of words, separated by spaces: \").split()\n",
    "\n",
    "joined_string = join_words(word_list)\n",
    "\n",
    "print(\"Joined string:\", joined_string)\n"
   ]
  },
  {
   "cell_type": "markdown",
   "id": "b9d4c1e3",
   "metadata": {},
   "source": [
    "Convert a string where words are separated by spaces to one where words are separated by underscores"
   ]
  },
  {
   "cell_type": "code",
   "execution_count": 1,
   "id": "f66ed24f",
   "metadata": {},
   "outputs": [
    {
     "name": "stdout",
     "output_type": "stream",
     "text": [
      "Enter a string with spaces: Join a list of words into a string\n",
      "String with underscores: Join_a_list_of_words_into_a_string\n"
     ]
    }
   ],
   "source": [
    "def convert_spaces_to_underscores(input_string):\n",
    "    return input_string.replace(\" \", \"_\")\n",
    "\n",
    "input_str = input(\"Enter a string with spaces: \")\n",
    "\n",
    "underscored_string = convert_spaces_to_underscores(input_str)\n",
    "\n",
    "print(\"String with underscores:\", underscored_string)\n"
   ]
  },
  {
   "cell_type": "markdown",
   "id": "c5c54cb8",
   "metadata": {},
   "source": [
    "Check if a string starts with a specific word or phrase"
   ]
  },
  {
   "cell_type": "code",
   "execution_count": 2,
   "id": "af318ed8",
   "metadata": {},
   "outputs": [
    {
     "name": "stdout",
     "output_type": "stream",
     "text": [
      "Enter a string: Check if a string starts with a specific word or phrase\n",
      "Enter the prefix to check for: check\n",
      "The string does not start with the prefix.\n"
     ]
    }
   ],
   "source": [
    "def starts_with(input_string, prefix):\n",
    "    return input_string.startswith(prefix)\n",
    "\n",
    "input_str = input(\"Enter a string: \")\n",
    "\n",
    "prefix = input(\"Enter the prefix to check for: \")\n",
    "\n",
    "if starts_with(input_str, prefix):\n",
    "    print(\"The string starts with the prefix.\")\n",
    "else:\n",
    "    print(\"The string does not start with the prefix.\")\n"
   ]
  },
  {
   "cell_type": "markdown",
   "id": "77ac6d32",
   "metadata": {},
   "source": [
    "Check if a string ends with a specific word or phrase"
   ]
  },
  {
   "cell_type": "code",
   "execution_count": 4,
   "id": "ff8069d3",
   "metadata": {},
   "outputs": [
    {
     "name": "stdout",
     "output_type": "stream",
     "text": [
      "Enter a string: Check if a string ends with a specific word or phrase\n",
      "Enter the suffix to check for: phrase\n",
      "The string ends with the suffix.\n"
     ]
    }
   ],
   "source": [
    "def ends_with(input_string, suffix):\n",
    "    return input_string.endswith(suffix)\n",
    "\n",
    "input_str = input(\"Enter a string: \")\n",
    "\n",
    "suffix = input(\"Enter the suffix to check for: \")\n",
    "\n",
    "if ends_with(input_str, suffix):\n",
    "    print(\"The string ends with the suffix.\")\n",
    "else:\n",
    "    print(\"The string does not end with the suffix.\")\n"
   ]
  },
  {
   "cell_type": "markdown",
   "id": "7404ca99",
   "metadata": {},
   "source": [
    "Convert a string to title case"
   ]
  },
  {
   "cell_type": "code",
   "execution_count": 5,
   "id": "59d8d457",
   "metadata": {},
   "outputs": [
    {
     "name": "stdout",
     "output_type": "stream",
     "text": [
      "Enter a string: Convert a string to title case\n",
      "Title case string: Convert A String To Title Case\n"
     ]
    }
   ],
   "source": [
    "input_str = input(\"Enter a string: \")\n",
    "\n",
    "title_case_str = input_str.title()\n",
    "\n",
    "\n",
    "print(\"Title case string:\", title_case_str)\n"
   ]
  },
  {
   "cell_type": "markdown",
   "id": "732237e1",
   "metadata": {},
   "source": [
    "Find the longest word in a string"
   ]
  },
  {
   "cell_type": "code",
   "execution_count": 6,
   "id": "7222e195",
   "metadata": {},
   "outputs": [
    {
     "name": "stdout",
     "output_type": "stream",
     "text": [
      "Enter a string: Find the longest word in a string\n",
      "Longest word: longest\n"
     ]
    }
   ],
   "source": [
    "def find_longest_word(input_string):\n",
    "    words = input_string.split()\n",
    "    return max(words, key=len)\n",
    "\n",
    "input_str = input(\"Enter a string: \")\n",
    "\n",
    "longest_word = find_longest_word(input_str)\n",
    "\n",
    "print(\"Longest word:\", longest_word)\n"
   ]
  },
  {
   "cell_type": "markdown",
   "id": "ef918f5f",
   "metadata": {},
   "source": [
    "Find the shortest word in a string"
   ]
  },
  {
   "cell_type": "code",
   "execution_count": 7,
   "id": "c9a62310",
   "metadata": {},
   "outputs": [
    {
     "name": "stdout",
     "output_type": "stream",
     "text": [
      "Enter a string: Find the shortest word in a string\n",
      "Shortest word: a\n"
     ]
    }
   ],
   "source": [
    "def find_shortest_word(input_string):\n",
    "    words = input_string.split()\n",
    "    return min(words, key=len)\n",
    "\n",
    "input_str = input(\"Enter a string: \")\n",
    "\n",
    "shortest_word = find_shortest_word(input_str)\n",
    "\n",
    "print(\"Shortest word:\", shortest_word)\n"
   ]
  },
  {
   "cell_type": "markdown",
   "id": "7cf1bc74",
   "metadata": {},
   "source": [
    "Reverse the order of words in a string"
   ]
  },
  {
   "cell_type": "code",
   "execution_count": 8,
   "id": "f3dda881",
   "metadata": {},
   "outputs": [
    {
     "name": "stdout",
     "output_type": "stream",
     "text": [
      "Enter a string: Reverse the order of words in a string\n",
      "String with reversed word order: string a in words of order the Reverse\n"
     ]
    }
   ],
   "source": [
    "def reverse_words_order(input_string):\n",
    "    words = input_string.split()\n",
    "    reversed_words = ' '.join(reversed(words))\n",
    "    return reversed_words\n",
    "\n",
    "input_str = input(\"Enter a string: \")\n",
    "\n",
    "reversed_words_str = reverse_words_order(input_str)\n",
    "\n",
    "print(\"String with reversed word order:\", reversed_words_str)\n"
   ]
  },
  {
   "cell_type": "markdown",
   "id": "5d063242",
   "metadata": {},
   "source": [
    "Check if a string is alphanumeric"
   ]
  },
  {
   "cell_type": "code",
   "execution_count": 9,
   "id": "c7881ad0",
   "metadata": {},
   "outputs": [
    {
     "name": "stdout",
     "output_type": "stream",
     "text": [
      "Enter a string: 1as 3do 4the\n",
      "The string is not alphanumeric.\n"
     ]
    }
   ],
   "source": [
    "input_str = input(\"Enter a string: \")\n",
    "\n",
    "if input_str.isalnum():\n",
    "    print(\"The string is alphanumeric.\")\n",
    "else:\n",
    "    print(\"The string is not alphanumeric.\")\n"
   ]
  },
  {
   "cell_type": "markdown",
   "id": "51fa2526",
   "metadata": {},
   "source": [
    "Extract all digits from a string"
   ]
  },
  {
   "cell_type": "code",
   "execution_count": 10,
   "id": "4e063c99",
   "metadata": {},
   "outputs": [
    {
     "name": "stdout",
     "output_type": "stream",
     "text": [
      "Enter a string: 1as 3do 4the\n",
      "Extracted digits: 134\n"
     ]
    }
   ],
   "source": [
    "def extract_digits(input_string):\n",
    "    digits = ''.join(char for char in input_string if char.isdigit())\n",
    "    return digits\n",
    "\n",
    "input_str = input(\"Enter a string: \")\n",
    "\n",
    "digits = extract_digits(input_str)\n",
    "\n",
    "print(\"Extracted digits:\", digits)\n"
   ]
  },
  {
   "cell_type": "markdown",
   "id": "c0e726c3",
   "metadata": {},
   "source": [
    "Extract all alphabets from a string"
   ]
  },
  {
   "cell_type": "code",
   "execution_count": 11,
   "id": "a00344f0",
   "metadata": {},
   "outputs": [
    {
     "name": "stdout",
     "output_type": "stream",
     "text": [
      "Enter a string: 1as 3do 4the\n",
      "Extracted alphabets: asdothe\n"
     ]
    }
   ],
   "source": [
    "def extract_alphabets(input_string):\n",
    "    alphabets = ''.join(char for char in input_string if char.isalpha())\n",
    "    return alphabets\n",
    "\n",
    "input_str = input(\"Enter a string: \")\n",
    "\n",
    "alphabets = extract_alphabets(input_str)\n",
    "\n",
    "print(\"Extracted alphabets:\", alphabets)\n"
   ]
  },
  {
   "cell_type": "markdown",
   "id": "4b5b459d",
   "metadata": {},
   "source": [
    "Count the number of uppercase letters in a string"
   ]
  },
  {
   "cell_type": "code",
   "execution_count": 12,
   "id": "e49b10e6",
   "metadata": {},
   "outputs": [
    {
     "name": "stdout",
     "output_type": "stream",
     "text": [
      "Enter a string: Convert A String To Title Case\n",
      "Number of uppercase letters: 6\n"
     ]
    }
   ],
   "source": [
    "def count_uppercase(input_string):\n",
    "    uppercase_count = sum(1 for char in input_string if char.isupper())\n",
    "    return uppercase_count\n",
    "\n",
    "input_str = input(\"Enter a string: \")\n",
    "\n",
    "uppercase_count = count_uppercase(input_str)\n",
    "\n",
    "print(\"Number of uppercase letters:\", uppercase_count)\n"
   ]
  },
  {
   "cell_type": "markdown",
   "id": "9f9fc2ad",
   "metadata": {},
   "source": [
    "Count the number of lowercase letters in a string"
   ]
  },
  {
   "cell_type": "code",
   "execution_count": 13,
   "id": "54db8823",
   "metadata": {},
   "outputs": [
    {
     "name": "stdout",
     "output_type": "stream",
     "text": [
      "Enter a string: Convert A String To Title Case\n",
      "Number of lowercase letters: 19\n"
     ]
    }
   ],
   "source": [
    "def count_lowercase(input_string):\n",
    "    lowercase_count = sum(1 for char in input_string if char.islower())\n",
    "    return lowercase_count\n",
    "\n",
    "input_str = input(\"Enter a string: \")\n",
    "\n",
    "lowercase_count = count_lowercase(input_str)\n",
    "\n",
    "print(\"Number of lowercase letters:\", lowercase_count)\n"
   ]
  },
  {
   "cell_type": "markdown",
   "id": "c9806fdd",
   "metadata": {},
   "source": [
    "Swap the case of each character in a string"
   ]
  },
  {
   "cell_type": "code",
   "execution_count": 14,
   "id": "66313336",
   "metadata": {},
   "outputs": [
    {
     "name": "stdout",
     "output_type": "stream",
     "text": [
      "Enter a string: Convert A String To Title Case\n",
      "String with swapped case: cONVERT a sTRING tO tITLE cASE\n"
     ]
    }
   ],
   "source": [
    "input_str = input(\"Enter a string: \")\n",
    "\n",
    "swapped_str = input_str.swapcase()\n",
    "\n",
    "print(\"String with swapped case:\", swapped_str)\n"
   ]
  },
  {
   "cell_type": "markdown",
   "id": "5bec9d90",
   "metadata": {},
   "source": [
    "Remove a specific word from a string"
   ]
  },
  {
   "cell_type": "code",
   "execution_count": 15,
   "id": "c2e7e2fd",
   "metadata": {},
   "outputs": [
    {
     "name": "stdout",
     "output_type": "stream",
     "text": [
      "Enter a string: Remove a specific word from a string\n",
      "Enter the word to remove: specific\n",
      "Modified string: Remove a  word from a string\n"
     ]
    }
   ],
   "source": [
    "def remove_word(input_string, word_to_remove):\n",
    "    modified_string = input_string.replace(word_to_remove, \"\")\n",
    "    return modified_string\n",
    "\n",
    "input_str = input(\"Enter a string: \")\n",
    "\n",
    "word_to_remove = input(\"Enter the word to remove: \")\n",
    "\n",
    "modified_str = remove_word(input_str, word_to_remove)\n",
    "\n",
    "print(\"Modified string:\", modified_str)\n"
   ]
  },
  {
   "cell_type": "markdown",
   "id": "bbcfd2e5",
   "metadata": {},
   "source": [
    "Extract the username from an email address string"
   ]
  },
  {
   "cell_type": "code",
   "execution_count": 16,
   "id": "0f2a7a06",
   "metadata": {},
   "outputs": [
    {
     "name": "stdout",
     "output_type": "stream",
     "text": [
      "Enter an email address: sri@gmail.com\n",
      "Username: sri\n"
     ]
    }
   ],
   "source": [
    "def extract_username(email):\n",
    "    return email.split('@')[0]\n",
    "\n",
    "email_address = input(\"Enter an email address: \")\n",
    "\n",
    "username = extract_username(email_address)\n",
    "\n",
    "print(\"Username:\", username)\n"
   ]
  },
  {
   "cell_type": "markdown",
   "id": "1f5ef0b0",
   "metadata": {},
   "source": [
    "Extract the domain name from an email address string"
   ]
  },
  {
   "cell_type": "code",
   "execution_count": 17,
   "id": "35014dca",
   "metadata": {},
   "outputs": [
    {
     "name": "stdout",
     "output_type": "stream",
     "text": [
      "Enter an email address: sri@gmail.com\n",
      "Domain: gmail.com\n"
     ]
    }
   ],
   "source": [
    "def extract_domain(email):\n",
    "    return email.split('@')[1]\n",
    "\n",
    "email_address = input(\"Enter an email address: \")\n",
    "\n",
    "domain = extract_domain(email_address)\n",
    "\n",
    "print(\"Domain:\", domain)\n"
   ]
  },
  {
   "cell_type": "markdown",
   "id": "e88d96b5",
   "metadata": {},
   "source": [
    "Replace multiple spaces in a string with a single space"
   ]
  },
  {
   "cell_type": "code",
   "execution_count": 18,
   "id": "45e8bccb",
   "metadata": {},
   "outputs": [
    {
     "name": "stdout",
     "output_type": "stream",
     "text": [
      "Enter a string: Replace  multiple spaces  in a string  with a    single space\n",
      "Modified string: Replace multiple spaces in a string with a single space\n"
     ]
    }
   ],
   "source": [
    "def replace_multiple_spaces(input_string):\n",
    "    return ' '.join(input_string.split())\n",
    "\n",
    "input_str = input(\"Enter a string: \")\n",
    "\n",
    "modified_str = replace_multiple_spaces(input_str)\n",
    "\n",
    "print(\"Modified string:\", modified_str)\n"
   ]
  },
  {
   "cell_type": "markdown",
   "id": "c4cfb010",
   "metadata": {},
   "source": [
    "Check if a string is a valid URL"
   ]
  },
  {
   "cell_type": "code",
   "execution_count": 19,
   "id": "834708a4",
   "metadata": {},
   "outputs": [
    {
     "name": "stdout",
     "output_type": "stream",
     "text": [
      "Enter a URL: https://github.com/sriee19\n",
      "The URL is not valid.\n"
     ]
    }
   ],
   "source": [
    "import re\n",
    "\n",
    "def is_valid_url(url):\n",
    "    return re.match(r'^(https?://)?(www\\.)?\\w+\\.\\w+$', url)\n",
    "\n",
    "url = input(\"Enter a URL: \")\n",
    "\n",
    "if is_valid_url(url):\n",
    "    print(\"The URL is valid.\")\n",
    "else:\n",
    "    print(\"The URL is not valid.\")\n"
   ]
  },
  {
   "cell_type": "markdown",
   "id": "7d59735b",
   "metadata": {},
   "source": [
    "Extract the protocol (http or https) from a URL string"
   ]
  },
  {
   "cell_type": "code",
   "execution_count": 20,
   "id": "e27384fa",
   "metadata": {},
   "outputs": [
    {
     "name": "stdout",
     "output_type": "stream",
     "text": [
      "Enter a URL: https://github.com/sriee19\n",
      "Protocol: https\n"
     ]
    }
   ],
   "source": [
    "def extract_protocol(url):\n",
    "    if url.startswith(\"https\"):\n",
    "        return \"https\"\n",
    "    elif url.startswith(\"http\"):\n",
    "        return \"http\"\n",
    "    else:\n",
    "        return None\n",
    "url = input(\"Enter a URL: \")\n",
    "\n",
    "protocol = extract_protocol(url)\n",
    "\n",
    "if protocol:\n",
    "    print(\"Protocol:\", protocol)\n",
    "else:\n",
    "    print(\"Protocol not found.\")\n"
   ]
  },
  {
   "cell_type": "markdown",
   "id": "dbc0a0b9",
   "metadata": {},
   "source": [
    "Find the frequency of each character in a string"
   ]
  },
  {
   "cell_type": "code",
   "execution_count": 21,
   "id": "a77db76a",
   "metadata": {},
   "outputs": [
    {
     "name": "stdout",
     "output_type": "stream",
     "text": [
      "Enter a string: The uni has the best lib in the world\n",
      "'T': 1\n",
      "'h': 4\n",
      "'e': 4\n",
      "' ': 8\n",
      "'u': 1\n",
      "'n': 2\n",
      "'i': 3\n",
      "'a': 1\n",
      "'s': 2\n",
      "'t': 3\n",
      "'b': 2\n",
      "'l': 2\n",
      "'w': 1\n",
      "'o': 1\n",
      "'r': 1\n",
      "'d': 1\n"
     ]
    }
   ],
   "source": [
    "from collections import Counter\n",
    "\n",
    "input_str = input(\"Enter a string: \")\n",
    "\n",
    "char_frequency = Counter(input_str)\n",
    "\n",
    "for char, freq in char_frequency.items():\n",
    "    print(f\"'{char}': {freq}\")\n"
   ]
  },
  {
   "cell_type": "markdown",
   "id": "33d14f5c",
   "metadata": {},
   "source": [
    "Remove all punctuation from a string"
   ]
  },
  {
   "cell_type": "code",
   "execution_count": 22,
   "id": "3812d67e",
   "metadata": {},
   "outputs": [
    {
     "name": "stdout",
     "output_type": "stream",
     "text": [
      "Enter a string: The uni, has the. best ,lib in the world\n",
      "String without punctuation: The uni has the best lib in the world\n"
     ]
    }
   ],
   "source": [
    "import string\n",
    "\n",
    "def remove_punctuation(input_string):\n",
    "    translator = str.maketrans('', '', string.punctuation)\n",
    "    return input_string.translate(translator)\n",
    "\n",
    "input_str = input(\"Enter a string: \")\n",
    "\n",
    "cleaned_str = remove_punctuation(input_str)\n",
    "\n",
    "print(\"String without punctuation:\", cleaned_str)\n"
   ]
  },
  {
   "cell_type": "markdown",
   "id": "b2b60c18",
   "metadata": {},
   "source": [
    "Check if a string contains only digits"
   ]
  },
  {
   "cell_type": "code",
   "execution_count": 23,
   "id": "9b33592b",
   "metadata": {},
   "outputs": [
    {
     "name": "stdout",
     "output_type": "stream",
     "text": [
      "Enter a string: 1233456\n",
      "The string contains only digits.\n"
     ]
    }
   ],
   "source": [
    "input_str = input(\"Enter a string: \")\n",
    "\n",
    "if input_str.isdigit():\n",
    "    print(\"The string contains only digits.\")\n",
    "else:\n",
    "    print(\"The string does not contain only digits.\")\n"
   ]
  },
  {
   "cell_type": "markdown",
   "id": "6191d481",
   "metadata": {},
   "source": [
    "Check if a string contains only alphabets"
   ]
  },
  {
   "cell_type": "code",
   "execution_count": 24,
   "id": "0ed3557f",
   "metadata": {},
   "outputs": [
    {
     "name": "stdout",
     "output_type": "stream",
     "text": [
      "Enter a string: Check if a string contains only alphabets\n",
      "The string does not contain only alphabets.\n"
     ]
    }
   ],
   "source": [
    "input_str = input(\"Enter a string: \")\n",
    "\n",
    "if input_str.isalpha():\n",
    "    print(\"The string contains only alphabets.\")\n",
    "else:\n",
    "    print(\"The string does not contain only alphabets.\")\n"
   ]
  },
  {
   "cell_type": "markdown",
   "id": "0308a0c5",
   "metadata": {},
   "source": [
    "Convert a string to a list of characters"
   ]
  },
  {
   "cell_type": "code",
   "execution_count": 25,
   "id": "1eedc018",
   "metadata": {},
   "outputs": [
    {
     "name": "stdout",
     "output_type": "stream",
     "text": [
      "Enter a string: Convert a string to a list of characters\n",
      "List of characters: ['C', 'o', 'n', 'v', 'e', 'r', 't', ' ', 'a', ' ', 's', 't', 'r', 'i', 'n', 'g', ' ', 't', 'o', ' ', 'a', ' ', 'l', 'i', 's', 't', ' ', 'o', 'f', ' ', 'c', 'h', 'a', 'r', 'a', 'c', 't', 'e', 'r', 's']\n"
     ]
    }
   ],
   "source": [
    "input_str = input(\"Enter a string: \")\n",
    "\n",
    "char_list = list(input_str)\n",
    "\n",
    "print(\"List of characters:\", char_list)\n"
   ]
  },
  {
   "cell_type": "markdown",
   "id": "ba159029",
   "metadata": {},
   "source": [
    "# List Based Problems"
   ]
  },
  {
   "cell_type": "code",
   "execution_count": 1,
   "id": "9247f9d9",
   "metadata": {},
   "outputs": [],
   "source": [
    "my_tuple = (1, 2, 3, 4, 5)\n"
   ]
  },
  {
   "cell_type": "code",
   "execution_count": 2,
   "id": "e93edd2d",
   "metadata": {},
   "outputs": [
    {
     "name": "stdout",
     "output_type": "stream",
     "text": [
      "Third Element: 3\n"
     ]
    }
   ],
   "source": [
    "third_element = my_tuple[2]\n",
    "print(\"Third Element:\", third_element)\n"
   ]
  },
  {
   "cell_type": "code",
   "execution_count": 3,
   "id": "125287fd",
   "metadata": {},
   "outputs": [
    {
     "name": "stdout",
     "output_type": "stream",
     "text": [
      "Tuple Length: 5\n"
     ]
    }
   ],
   "source": [
    "tuple_length = sum(1 for _ in my_tuple)\n",
    "print(\"Tuple Length:\", tuple_length)"
   ]
  },
  {
   "cell_type": "code",
   "execution_count": 4,
   "id": "1b41bd47",
   "metadata": {},
   "outputs": [
    {
     "name": "stdout",
     "output_type": "stream",
     "text": [
      "Count of 3 in the tuple: 1\n"
     ]
    }
   ],
   "source": [
    "element_to_count = 3\n",
    "element_count = my_tuple.count(element_to_count)\n",
    "print(\"Count of\", element_to_count, \"in the tuple:\", element_count)\n"
   ]
  },
  {
   "cell_type": "code",
   "execution_count": 5,
   "id": "150e9d11",
   "metadata": {},
   "outputs": [
    {
     "name": "stdout",
     "output_type": "stream",
     "text": [
      "Count of 3 in the tuple: 1\n"
     ]
    }
   ],
   "source": [
    "element_to_count = 3\n",
    "element_count = my_tuple.count(element_to_count)\n",
    "print(\"Count of\", element_to_count, \"in the tuple:\", element_count)"
   ]
  },
  {
   "cell_type": "code",
   "execution_count": 6,
   "id": "2a068d72",
   "metadata": {},
   "outputs": [
    {
     "name": "stdout",
     "output_type": "stream",
     "text": [
      "Index of 4 in the tuple: 3\n"
     ]
    }
   ],
   "source": [
    "element_to_find = 4\n",
    "element_index = my_tuple.index(element_to_find)\n",
    "print(\"Index of\", element_to_find, \"in the tuple:\", element_index)"
   ]
  },
  {
   "cell_type": "code",
   "execution_count": 7,
   "id": "5410f88a",
   "metadata": {},
   "outputs": [
    {
     "name": "stdout",
     "output_type": "stream",
     "text": [
      "6 exists in the tuple: False\n"
     ]
    }
   ],
   "source": [
    "element_to_check = 6\n",
    "element_exists = element_to_check in my_tuple\n",
    "print(element_to_check, \"exists in the tuple:\", element_exists)"
   ]
  },
  {
   "cell_type": "code",
   "execution_count": 8,
   "id": "4024e9c9",
   "metadata": {},
   "outputs": [
    {
     "name": "stdout",
     "output_type": "stream",
     "text": [
      "Tuple converted to list: [1, 2, 3, 4, 5]\n"
     ]
    }
   ],
   "source": [
    "my_list = list(my_tuple)\n",
    "print(\"Tuple converted to list:\", my_list)"
   ]
  },
  {
   "cell_type": "code",
   "execution_count": 9,
   "id": "9f7fd86e",
   "metadata": {},
   "outputs": [
    {
     "name": "stdout",
     "output_type": "stream",
     "text": [
      "List converted back to tuple: (1, 2, 3, 4, 5)\n"
     ]
    }
   ],
   "source": [
    "my_tuple = tuple(my_list)\n",
    "print(\"List converted back to tuple:\", my_tuple)"
   ]
  },
  {
   "cell_type": "code",
   "execution_count": 10,
   "id": "289ef165",
   "metadata": {},
   "outputs": [
    {
     "name": "stdout",
     "output_type": "stream",
     "text": [
      "Unpacked variables: 1 2 3 4 5\n"
     ]
    }
   ],
   "source": [
    "var1, var2, var3, var4, var5 = my_tuple\n",
    "print(\"Unpacked variables:\", var1, var2, var3, var4, var5)"
   ]
  },
  {
   "cell_type": "code",
   "execution_count": 11,
   "id": "c45ba98a",
   "metadata": {},
   "outputs": [
    {
     "name": "stdout",
     "output_type": "stream",
     "text": [
      "Even Numbers Tuple: (2, 4, 6, 8, 10)\n"
     ]
    }
   ],
   "source": [
    "even_numbers = tuple(range(2, 11, 2))\n",
    "print(\"Even Numbers Tuple:\", even_numbers)"
   ]
  },
  {
   "cell_type": "code",
   "execution_count": 12,
   "id": "8f993fe1",
   "metadata": {},
   "outputs": [
    {
     "name": "stdout",
     "output_type": "stream",
     "text": [
      "Odd Numbers Tuple: (1, 3, 5, 7, 9)\n"
     ]
    }
   ],
   "source": [
    "odd_numbers = tuple(range(1, 11, 2))\n",
    "print(\"Odd Numbers Tuple:\", odd_numbers)"
   ]
  },
  {
   "cell_type": "code",
   "execution_count": 13,
   "id": "04fbdaab",
   "metadata": {},
   "outputs": [
    {
     "name": "stdout",
     "output_type": "stream",
     "text": [
      "Concatenated Tuple: (1, 2, 3, 4, 5, 6)\n"
     ]
    }
   ],
   "source": [
    "tuple1 = (1, 2, 3)\n",
    "tuple2 = (4, 5, 6)\n",
    "concatenated_tuple = tuple1 + tuple2\n",
    "print(\"Concatenated Tuple:\", concatenated_tuple)"
   ]
  },
  {
   "cell_type": "code",
   "execution_count": 14,
   "id": "b02f18ec",
   "metadata": {},
   "outputs": [
    {
     "name": "stdout",
     "output_type": "stream",
     "text": [
      "Repeated Tuple: (1, 2, 3, 4, 5, 1, 2, 3, 4, 5, 1, 2, 3, 4, 5)\n"
     ]
    }
   ],
   "source": [
    "repeated_tuple = my_tuple * 3\n",
    "print(\"Repeated Tuple:\", repeated_tuple)"
   ]
  },
  {
   "cell_type": "code",
   "execution_count": 15,
   "id": "6f2a94f9",
   "metadata": {},
   "outputs": [
    {
     "name": "stdout",
     "output_type": "stream",
     "text": [
      "Nested Tuple: ((1, 2), (3, 4), (5, 6))\n"
     ]
    }
   ],
   "source": [
    "nested_tuple = ((1, 2), (3, 4), (5, 6))\n",
    "print(\"Nested Tuple:\", nested_tuple)"
   ]
  },
  {
   "cell_type": "code",
   "execution_count": 16,
   "id": "009b0390",
   "metadata": {},
   "outputs": [
    {
     "name": "stdout",
     "output_type": "stream",
     "text": [
      "First Element of Nested Tuple: 1\n"
     ]
    }
   ],
   "source": [
    "first_element = nested_tuple[0][0]\n",
    "print(\"First Element of Nested Tuple:\", first_element)"
   ]
  },
  {
   "cell_type": "code",
   "execution_count": 17,
   "id": "6b91dff1",
   "metadata": {},
   "outputs": [
    {
     "name": "stdout",
     "output_type": "stream",
     "text": [
      "Single Element Tuple: (42,)\n"
     ]
    }
   ],
   "source": [
    "single_element = 42\n",
    "single_element_tuple = (single_element,)\n",
    "print(\"Single Element Tuple:\", single_element_tuple)"
   ]
  },
  {
   "cell_type": "code",
   "execution_count": 18,
   "id": "f8345c28",
   "metadata": {},
   "outputs": [
    {
     "name": "stdout",
     "output_type": "stream",
     "text": [
      "Comparison Result: False\n"
     ]
    }
   ],
   "source": [
    "tuple1 = (1, 2, 3)\n",
    "tuple2 = (1, 2, 4)\n",
    "comparison_result = (tuple1 > tuple2)\n",
    "print(\"Comparison Result:\", comparison_result)"
   ]
  },
  {
   "cell_type": "code",
   "execution_count": 19,
   "id": "e473f9f9",
   "metadata": {},
   "outputs": [],
   "source": [
    "del my_tuple"
   ]
  },
  {
   "cell_type": "code",
   "execution_count": 20,
   "id": "c6c1f6ea",
   "metadata": {},
   "outputs": [
    {
     "name": "stdout",
     "output_type": "stream",
     "text": [
      "Sliced Tuple: (3, 4, 5, 6)\n"
     ]
    }
   ],
   "source": [
    "my_tuple = (1, 2, 3, 4, 5, 6, 7, 8, 9, 10)\n",
    "start_index = 2\n",
    "end_index = 6\n",
    "sliced_tuple = my_tuple[start_index:end_index]\n",
    "print(\"Sliced Tuple:\", sliced_tuple)"
   ]
  },
  {
   "cell_type": "code",
   "execution_count": 21,
   "id": "e30e7732",
   "metadata": {},
   "outputs": [
    {
     "name": "stdout",
     "output_type": "stream",
     "text": [
      "Maximum Value: 10\n"
     ]
    }
   ],
   "source": [
    "max_value = max(my_tuple)\n",
    "print(\"Maximum Value:\", max_value)"
   ]
  },
  {
   "cell_type": "code",
   "execution_count": 22,
   "id": "10e2f1f7",
   "metadata": {},
   "outputs": [
    {
     "name": "stdout",
     "output_type": "stream",
     "text": [
      "Tuple of Characters: ('H', 'e', 'l', 'l', 'o')\n"
     ]
    }
   ],
   "source": [
    "my_string = \"Hello\"\n",
    "char_tuple = tuple(my_string)\n",
    "print(\"Tuple of Characters:\", char_tuple)"
   ]
  },
  {
   "cell_type": "code",
   "execution_count": 23,
   "id": "924f29ff",
   "metadata": {},
   "outputs": [
    {
     "name": "stdout",
     "output_type": "stream",
     "text": [
      "String: Hello\n"
     ]
    }
   ],
   "source": [
    "char_tuple = ('H', 'e', 'l', 'l', 'o')\n",
    "my_string = ''.join(char_tuple)\n",
    "print(\"String:\", my_string)"
   ]
  },
  {
   "cell_type": "code",
   "execution_count": 24,
   "id": "a3dbadcc",
   "metadata": {},
   "outputs": [
    {
     "name": "stdout",
     "output_type": "stream",
     "text": [
      "Mixed Data Types Tuple: (1, 'apple', 3.14, True)\n"
     ]
    }
   ],
   "source": [
    "mixed_tuple = (1, \"apple\", 3.14, True)\n",
    "print(\"Mixed Data Types Tuple:\", mixed_tuple)"
   ]
  },
  {
   "cell_type": "code",
   "execution_count": 25,
   "id": "81445e07",
   "metadata": {},
   "outputs": [
    {
     "name": "stdout",
     "output_type": "stream",
     "text": [
      "Tuples are identical: True\n"
     ]
    }
   ],
   "source": [
    "tuple1 = (1, 2, 3)\n",
    "tuple2 = (1, 2, 3)\n",
    "are_identical = tuple1 == tuple2\n",
    "print(\"Tuples are identical:\", are_identical)"
   ]
  },
  {
   "cell_type": "code",
   "execution_count": 26,
   "id": "cf684566",
   "metadata": {},
   "outputs": [
    {
     "name": "stdout",
     "output_type": "stream",
     "text": [
      "Sorted Tuple: (1, 2, 3, 4, 5, 6, 7, 8, 9, 10)\n"
     ]
    }
   ],
   "source": [
    "sorted_tuple = tuple(sorted(my_tuple))\n",
    "print(\"Sorted Tuple:\", sorted_tuple)"
   ]
  },
  {
   "cell_type": "code",
   "execution_count": 27,
   "id": "cc39f39e",
   "metadata": {},
   "outputs": [
    {
     "name": "stdout",
     "output_type": "stream",
     "text": [
      "Tuple of Strings: ('1', '2', '3', '4', '5')\n"
     ]
    }
   ],
   "source": [
    "int_tuple = (1, 2, 3, 4, 5)\n",
    "str_tuple = tuple(map(str, int_tuple))\n",
    "print(\"Tuple of Strings:\", str_tuple)"
   ]
  },
  {
   "cell_type": "code",
   "execution_count": 28,
   "id": "1f07e5f6",
   "metadata": {},
   "outputs": [
    {
     "name": "stdout",
     "output_type": "stream",
     "text": [
      "Tuple of Integers: (1, 2, 3, 4, 5)\n"
     ]
    }
   ],
   "source": [
    "str_tuple = ('1', '2', '3', '4', '5')\n",
    "int_tuple = tuple(map(int, str_tuple))\n",
    "print(\"Tuple of Integers:\", int_tuple)"
   ]
  },
  {
   "cell_type": "code",
   "execution_count": 29,
   "id": "d6212405",
   "metadata": {},
   "outputs": [
    {
     "name": "stdout",
     "output_type": "stream",
     "text": [
      "Merged Tuple: (1, 2, 3, 4, 5, 6)\n"
     ]
    }
   ],
   "source": [
    "tuple1 = (1, 2, 3)\n",
    "tuple2 = (4, 5, 6)\n",
    "merged_tuple = tuple1 + tuple2\n",
    "print(\"Merged Tuple:\", merged_tuple)"
   ]
  },
  {
   "cell_type": "code",
   "execution_count": 30,
   "id": "fa7ed986",
   "metadata": {},
   "outputs": [
    {
     "name": "stdout",
     "output_type": "stream",
     "text": [
      "Flattened Tuple: (1, 2, 3, 4, 5, 6)\n"
     ]
    }
   ],
   "source": [
    "nested_tuple = ((1, 2), (3, 4), (5, 6))\n",
    "flattened_tuple = tuple(item for sublist in nested_tuple for item in sublist)\n",
    "print(\"Flattened Tuple:\", flattened_tuple)"
   ]
  },
  {
   "cell_type": "code",
   "execution_count": 31,
   "id": "99ba3e2c",
   "metadata": {},
   "outputs": [
    {
     "name": "stdout",
     "output_type": "stream",
     "text": [
      "Prime Numbers Tuple: (2, 3, 5, 7, 11)\n"
     ]
    }
   ],
   "source": [
    "prime_numbers = (2, 3, 5, 7, 11)\n",
    "print(\"Prime Numbers Tuple:\", prime_numbers)"
   ]
  },
  {
   "cell_type": "code",
   "execution_count": 32,
   "id": "d1335c54",
   "metadata": {},
   "outputs": [
    {
     "name": "stdout",
     "output_type": "stream",
     "text": [
      "Is Palindrome: True\n"
     ]
    }
   ],
   "source": [
    "def is_palindrome(t):\n",
    "    return t == t[::-1]\n",
    "\n",
    "palindrome_tuple = (1, 2, 3, 2, 1)\n",
    "is_palindrome_result = is_palindrome(palindrome_tuple)\n",
    "print(\"Is Palindrome:\", is_palindrome_result)"
   ]
  },
  {
   "cell_type": "code",
   "execution_count": 33,
   "id": "aaa889fb",
   "metadata": {},
   "outputs": [
    {
     "name": "stdout",
     "output_type": "stream",
     "text": [
      "Squares Tuple: (1, 4, 9, 16, 25)\n"
     ]
    }
   ],
   "source": [
    "squares_tuple = tuple(x**2 for x in range(1, 6))\n",
    "print(\"Squares Tuple:\", squares_tuple)"
   ]
  },
  {
   "cell_type": "code",
   "execution_count": 34,
   "id": "de5149e2",
   "metadata": {},
   "outputs": [
    {
     "name": "stdout",
     "output_type": "stream",
     "text": [
      "Even Numbers Tuple: (2, 4, 6, 8, 10)\n"
     ]
    }
   ],
   "source": [
    "even_numbers = tuple(x for x in my_tuple if x % 2 == 0)\n",
    "print(\"Even Numbers Tuple:\", even_numbers)"
   ]
  },
  {
   "cell_type": "code",
   "execution_count": 35,
   "id": "ad19a84d",
   "metadata": {},
   "outputs": [
    {
     "name": "stdout",
     "output_type": "stream",
     "text": [
      "Multiplied Tuple: (2, 4, 6, 8, 10, 12, 14, 16, 18, 20)\n"
     ]
    }
   ],
   "source": [
    "multiplied_tuple = tuple(x * 2 for x in my_tuple)\n",
    "print(\"Multiplied Tuple:\", multiplied_tuple)"
   ]
  },
  {
   "cell_type": "code",
   "execution_count": 36,
   "id": "13727dee",
   "metadata": {},
   "outputs": [
    {
     "name": "stdout",
     "output_type": "stream",
     "text": [
      "Random Numbers Tuple: (52, 39, 66, 53, 82)\n"
     ]
    }
   ],
   "source": [
    "import random\n",
    "\n",
    "random_tuple = tuple(random.randint(1, 100) for _ in range(5))\n",
    "print(\"Random Numbers Tuple:\", random_tuple)"
   ]
  },
  {
   "cell_type": "code",
   "execution_count": 37,
   "id": "d1156690",
   "metadata": {},
   "outputs": [
    {
     "name": "stdout",
     "output_type": "stream",
     "text": [
      "Is the tuple sorted? True\n"
     ]
    }
   ],
   "source": [
    "is_sorted = my_tuple == tuple(sorted(my_tuple))\n",
    "print(\"Is the tuple sorted?\", is_sorted)"
   ]
  },
  {
   "cell_type": "code",
   "execution_count": 38,
   "id": "76cb1b90",
   "metadata": {},
   "outputs": [
    {
     "name": "stdout",
     "output_type": "stream",
     "text": [
      "Rotated Tuple to the Left: (3, 4, 5, 6, 7, 8, 9, 10, 1, 2)\n"
     ]
    }
   ],
   "source": [
    "n = 2\n",
    "rotated_tuple = my_tuple[n:] + my_tuple[:n]\n",
    "print(\"Rotated Tuple to the Left:\", rotated_tuple)"
   ]
  },
  {
   "cell_type": "code",
   "execution_count": 39,
   "id": "e624ce7c",
   "metadata": {},
   "outputs": [
    {
     "name": "stdout",
     "output_type": "stream",
     "text": [
      "Rotated Tuple to the Right: (9, 10, 1, 2, 3, 4, 5, 6, 7, 8)\n"
     ]
    }
   ],
   "source": [
    "n = 2\n",
    "rotated_tuple = my_tuple[-n:] + my_tuple[:-n]\n",
    "print(\"Rotated Tuple to the Right:\", rotated_tuple)"
   ]
  },
  {
   "cell_type": "code",
   "execution_count": 40,
   "id": "d9dce2d6",
   "metadata": {},
   "outputs": [
    {
     "name": "stdout",
     "output_type": "stream",
     "text": [
      "Minimum Value: 1\n"
     ]
    }
   ],
   "source": [
    "min_value = min(my_tuple)\n",
    "print(\"Minimum Value:\", min_value)"
   ]
  },
  {
   "cell_type": "code",
   "execution_count": 41,
   "id": "c38e6927",
   "metadata": {},
   "outputs": [
    {
     "name": "stdout",
     "output_type": "stream",
     "text": [
      "Fibonacci Tuple: (0, 1, 1, 2, 3)\n"
     ]
    }
   ],
   "source": [
    "def generate_fibonacci(n):\n",
    "    fibonacci = [0, 1]\n",
    "    while len(fibonacci) < n:\n",
    "        next_num = fibonacci[-1] + fibonacci[-2]\n",
    "        fibonacci.append(next_num)\n",
    "    return tuple(fibonacci)\n",
    "\n",
    "fibonacci_tuple = generate_fibonacci(5)\n",
    "print(\"Fibonacci Tuple:\", fibonacci_tuple)"
   ]
  },
  {
   "cell_type": "code",
   "execution_count": 42,
   "id": "94653378",
   "metadata": {},
   "outputs": [
    {
     "name": "stdout",
     "output_type": "stream",
     "text": [
      "Swapped Tuple: (1, 4, 3, 2, 5)\n"
     ]
    }
   ],
   "source": [
    "my_tuple = (1, 2, 3, 4, 5)\n",
    "tuple_list = list(my_tuple)\n",
    "tuple_list[1], tuple_list[3] = tuple_list[3], tuple_list[1]\n",
    "swapped_tuple = tuple(tuple_list)\n",
    "print(\"Swapped Tuple:\", swapped_tuple)"
   ]
  },
  {
   "cell_type": "code",
   "execution_count": 43,
   "id": "69a8bc7c",
   "metadata": {},
   "outputs": [
    {
     "name": "stdout",
     "output_type": "stream",
     "text": [
      "Reversed Tuple: (5, 4, 3, 2, 1)\n"
     ]
    }
   ],
   "source": [
    "my_tuple = (1, 2, 3, 4, 5)\n",
    "reversed_tuple = my_tuple[::-1]\n",
    "print(\"Reversed Tuple:\", reversed_tuple)"
   ]
  },
  {
   "cell_type": "code",
   "execution_count": 44,
   "id": "8bdec43f",
   "metadata": {},
   "outputs": [
    {
     "name": "stdout",
     "output_type": "stream",
     "text": [
      "Powers of 2 Tuple: (1, 2, 4, 8, 16)\n"
     ]
    }
   ],
   "source": [
    "n = 5\n",
    "powers_of_2_tuple = tuple(2 ** i for i in range(n))\n",
    "print(\"Powers of 2 Tuple:\", powers_of_2_tuple)"
   ]
  },
  {
   "cell_type": "code",
   "execution_count": 45,
   "id": "5022613a",
   "metadata": {},
   "outputs": [
    {
     "name": "stdout",
     "output_type": "stream",
     "text": [
      "Longest String: elderberry\n"
     ]
    }
   ],
   "source": [
    "string_tuple = (\"apple\", \"banana\", \"cherry\", \"date\", \"elderberry\")\n",
    "longest_string = max(string_tuple, key=len)\n",
    "print(\"Longest String:\", longest_string)"
   ]
  },
  {
   "cell_type": "code",
   "execution_count": 46,
   "id": "21961596",
   "metadata": {},
   "outputs": [
    {
     "name": "stdout",
     "output_type": "stream",
     "text": [
      "Shortest String: date\n"
     ]
    }
   ],
   "source": [
    "string_tuple = (\"apple\", \"banana\", \"cherry\", \"date\", \"elderberry\")\n",
    "shortest_string = min(string_tuple, key=len)\n",
    "print(\"Shortest String:\", shortest_string)"
   ]
  },
  {
   "cell_type": "code",
   "execution_count": 47,
   "id": "0ed0b0a9",
   "metadata": {},
   "outputs": [
    {
     "name": "stdout",
     "output_type": "stream",
     "text": [
      "Triangular Numbers Tuple: (1, 3, 6, 10, 15)\n"
     ]
    }
   ],
   "source": [
    "def generate_triangular_numbers(n):\n",
    "    triangular_numbers = []\n",
    "    for i in range(1, n + 1):\n",
    "        triangular_number = i * (i + 1) // 2\n",
    "        triangular_numbers.append(triangular_number)\n",
    "    return tuple(triangular_numbers)\n",
    "\n",
    "triangular_tuple = generate_triangular_numbers(5)\n",
    "print(\"Triangular Numbers Tuple:\", triangular_tuple)"
   ]
  },
  {
   "cell_type": "code",
   "execution_count": 49,
   "id": "84fb6263",
   "metadata": {},
   "outputs": [
    {
     "name": "stdout",
     "output_type": "stream",
     "text": [
      "Contains Subsequence: False\n"
     ]
    }
   ],
   "source": [
    "main_tuple = (1, 2, 3, (4, 5), 6, 7)\n",
    "subsequence = (4, 5)\n",
    "\n",
    "contains_subsequence = all(x in main_tuple for x in subsequence)\n",
    "print(\"Contains Subsequence:\", contains_subsequence)"
   ]
  },
  {
   "cell_type": "code",
   "execution_count": 51,
   "id": "ac978323",
   "metadata": {},
   "outputs": [
    {
     "name": "stdout",
     "output_type": "stream",
     "text": [
      "Alternating Tuple: (1, 0, 1, 0, 1, 0, 1)\n"
     ]
    }
   ],
   "source": [
    "n = 7\n",
    "alternating_tuple = tuple(1 if i % 2 == 0 else 0 for i in range(n))\n",
    "print(\"Alternating Tuple:\", alternating_tuple)"
   ]
  },
  {
   "cell_type": "code",
   "execution_count": 52,
   "id": "e010c341",
   "metadata": {},
   "outputs": [
    {
     "name": "stdout",
     "output_type": "stream",
     "text": [
      "Enter elements separated by spaces: Sanjana Is interested in datascience\n",
      "User Tuple: ('Sanjana', 'Is', 'interested', 'in', 'datascience')\n"
     ]
    }
   ],
   "source": [
    "user_input = input(\"Enter elements separated by spaces: \")\n",
    "user_list = user_input.split()  \n",
    "user_tuple = tuple(user_list)  \n",
    "\n",
    "print(\"User Tuple:\", user_tuple)"
   ]
  },
  {
   "cell_type": "markdown",
   "id": "e78594ba",
   "metadata": {},
   "source": [
    "# Set Based Practice Problem\n"
   ]
  },
  {
   "cell_type": "code",
   "execution_count": 53,
   "id": "adc50cd7",
   "metadata": {},
   "outputs": [],
   "source": [
    "my_set = {1, 2, 3, 4, 5}"
   ]
  },
  {
   "cell_type": "code",
   "execution_count": 54,
   "id": "0f198963",
   "metadata": {},
   "outputs": [],
   "source": [
    "my_set.add(6)"
   ]
  },
  {
   "cell_type": "code",
   "execution_count": 55,
   "id": "e1badec3",
   "metadata": {},
   "outputs": [
    {
     "data": {
      "text/plain": [
       "{1, 2, 3, 4, 5, 6}"
      ]
     },
     "execution_count": 55,
     "metadata": {},
     "output_type": "execute_result"
    }
   ],
   "source": [
    "my_set"
   ]
  },
  {
   "cell_type": "code",
   "execution_count": 56,
   "id": "b54909ae",
   "metadata": {},
   "outputs": [],
   "source": [
    "my_set.remove(3)"
   ]
  },
  {
   "cell_type": "code",
   "execution_count": 57,
   "id": "b047690a",
   "metadata": {},
   "outputs": [
    {
     "data": {
      "text/plain": [
       "{1, 2, 4, 5, 6}"
      ]
     },
     "execution_count": 57,
     "metadata": {},
     "output_type": "execute_result"
    }
   ],
   "source": [
    "my_set"
   ]
  },
  {
   "cell_type": "code",
   "execution_count": 63,
   "id": "868088fe",
   "metadata": {},
   "outputs": [
    {
     "name": "stdout",
     "output_type": "stream",
     "text": [
      "Element exists: True\n"
     ]
    }
   ],
   "source": [
    "element_to_check = 4\n",
    "element_exists = element_to_check in my_set\n",
    "print(\"Element exists:\", element_exists)"
   ]
  },
  {
   "cell_type": "code",
   "execution_count": 64,
   "id": "c5a36d44",
   "metadata": {},
   "outputs": [
    {
     "name": "stdout",
     "output_type": "stream",
     "text": [
      "Set length: 5\n"
     ]
    }
   ],
   "source": [
    "set_length = sum(1 for _ in my_set)\n",
    "print(\"Set length:\", set_length)"
   ]
  },
  {
   "cell_type": "code",
   "execution_count": 65,
   "id": "a3591724",
   "metadata": {},
   "outputs": [
    {
     "name": "stdout",
     "output_type": "stream",
     "text": [
      "Set after clearing: set()\n"
     ]
    }
   ],
   "source": [
    "my_set.clear()\n",
    "print(\"Set after clearing:\", my_set)"
   ]
  },
  {
   "cell_type": "code",
   "execution_count": 66,
   "id": "6ffbe0cd",
   "metadata": {},
   "outputs": [
    {
     "name": "stdout",
     "output_type": "stream",
     "text": [
      "Even Numbers Set: {2, 4, 6, 8, 10}\n"
     ]
    }
   ],
   "source": [
    "even_numbers = set(range(2, 11, 2))\n",
    "print(\"Even Numbers Set:\", even_numbers)"
   ]
  },
  {
   "cell_type": "code",
   "execution_count": 67,
   "id": "e8fb62dd",
   "metadata": {},
   "outputs": [
    {
     "name": "stdout",
     "output_type": "stream",
     "text": [
      "Odd Numbers Set: {1, 3, 5, 7, 9}\n"
     ]
    }
   ],
   "source": [
    "odd_numbers = set(range(1, 11, 2))\n",
    "print(\"Odd Numbers Set:\", odd_numbers)"
   ]
  },
  {
   "cell_type": "code",
   "execution_count": 68,
   "id": "f7dce0ef",
   "metadata": {},
   "outputs": [
    {
     "name": "stdout",
     "output_type": "stream",
     "text": [
      "Union Set: {1, 2, 3, 4, 5}\n"
     ]
    }
   ],
   "source": [
    "set1 = {1, 2, 3}\n",
    "set2 = {3, 4, 5}\n",
    "union_set = set1.union(set2)\n",
    "print(\"Union Set:\", union_set)"
   ]
  },
  {
   "cell_type": "code",
   "execution_count": 69,
   "id": "6ffe9fb3",
   "metadata": {},
   "outputs": [
    {
     "name": "stdout",
     "output_type": "stream",
     "text": [
      "Intersection Set: {3}\n"
     ]
    }
   ],
   "source": [
    "set1 = {1, 2, 3}\n",
    "set2 = {3, 4, 5}\n",
    "intersection_set = set1.intersection(set2)\n",
    "print(\"Intersection Set:\", intersection_set)"
   ]
  },
  {
   "cell_type": "code",
   "execution_count": 70,
   "id": "a6ff7ec6",
   "metadata": {},
   "outputs": [
    {
     "name": "stdout",
     "output_type": "stream",
     "text": [
      "Difference Set: {1, 2}\n"
     ]
    }
   ],
   "source": [
    "set1 = {1, 2, 3}\n",
    "set2 = {3, 4, 5}\n",
    "difference_set = set1.difference(set2)\n",
    "print(\"Difference Set:\", difference_set)"
   ]
  },
  {
   "cell_type": "code",
   "execution_count": 71,
   "id": "702ec690",
   "metadata": {},
   "outputs": [
    {
     "name": "stdout",
     "output_type": "stream",
     "text": [
      "Is Subset: True\n"
     ]
    }
   ],
   "source": [
    "subset_set = {1, 2}\n",
    "superset_set = {1, 2, 3, 4, 5}\n",
    "is_subset = subset_set.issubset(superset_set)\n",
    "print(\"Is Subset:\", is_subset)"
   ]
  },
  {
   "cell_type": "code",
   "execution_count": 72,
   "id": "e1071f94",
   "metadata": {},
   "outputs": [
    {
     "name": "stdout",
     "output_type": "stream",
     "text": [
      "Is Superset: True\n"
     ]
    }
   ],
   "source": [
    "subset_set = {1, 2}\n",
    "superset_set = {1, 2, 3, 4, 5}\n",
    "is_superset = superset_set.issuperset(subset_set)\n",
    "print(\"Is Superset:\", is_superset)"
   ]
  },
  {
   "cell_type": "code",
   "execution_count": 73,
   "id": "f6cc110b",
   "metadata": {},
   "outputs": [
    {
     "name": "stdout",
     "output_type": "stream",
     "text": [
      "Converted Set: {1, 2, 3, 4, 5}\n"
     ]
    }
   ],
   "source": [
    "my_list = [1, 2, 3, 4, 5]\n",
    "converted_set = set(my_list)\n",
    "print(\"Converted Set:\", converted_set)"
   ]
  },
  {
   "cell_type": "code",
   "execution_count": 74,
   "id": "1e1e8ca9",
   "metadata": {},
   "outputs": [
    {
     "name": "stdout",
     "output_type": "stream",
     "text": [
      "Converted List: [1, 2, 3, 4, 5]\n"
     ]
    }
   ],
   "source": [
    "my_set = {1, 2, 3, 4, 5}\n",
    "converted_list = list(my_set)\n",
    "print(\"Converted List:\", converted_list)"
   ]
  },
  {
   "cell_type": "code",
   "execution_count": 75,
   "id": "c8fc6ad5",
   "metadata": {},
   "outputs": [
    {
     "name": "stdout",
     "output_type": "stream",
     "text": [
      "Removed Random Element: 1\n"
     ]
    }
   ],
   "source": [
    "import random\n",
    "random_element = my_set.pop()\n",
    "print(\"Removed Random Element:\", random_element)"
   ]
  },
  {
   "cell_type": "code",
   "execution_count": 76,
   "id": "e8b044d6",
   "metadata": {},
   "outputs": [
    {
     "name": "stdout",
     "output_type": "stream",
     "text": [
      "Set after popping: {2, 4, 5}\n"
     ]
    }
   ],
   "source": [
    "element_to_pop = 3\n",
    "my_set.discard(element_to_pop)\n",
    "print(\"Set after popping:\", my_set)"
   ]
  },
  {
   "cell_type": "code",
   "execution_count": 77,
   "id": "c8765d96",
   "metadata": {},
   "outputs": [
    {
     "name": "stdout",
     "output_type": "stream",
     "text": [
      "No Common Elements: True\n"
     ]
    }
   ],
   "source": [
    "set1 = {1, 2, 3}\n",
    "set2 = {4, 5, 6}\n",
    "no_common_elements = set1.isdisjoint(set2)\n",
    "print(\"No Common Elements:\", no_common_elements)"
   ]
  },
  {
   "cell_type": "code",
   "execution_count": 78,
   "id": "a16834af",
   "metadata": {},
   "outputs": [
    {
     "name": "stdout",
     "output_type": "stream",
     "text": [
      "Symmetric Difference: {1, 2, 4, 5}\n"
     ]
    }
   ],
   "source": [
    "set1 = {1, 2, 3}\n",
    "set2 = {3, 4, 5}\n",
    "symmetric_difference = set1.symmetric_difference(set2)\n",
    "print(\"Symmetric Difference:\", symmetric_difference)"
   ]
  },
  {
   "cell_type": "code",
   "execution_count": 79,
   "id": "cdf3316d",
   "metadata": {},
   "outputs": [
    {
     "name": "stdout",
     "output_type": "stream",
     "text": [
      "Set1 after updating: {1, 2, 3, 4, 5}\n"
     ]
    }
   ],
   "source": [
    "set1 = {1, 2, 3}\n",
    "set2 = {3, 4, 5}\n",
    "set1.update(set2)\n",
    "print(\"Set1 after updating:\", set1)"
   ]
  },
  {
   "cell_type": "code",
   "execution_count": 81,
   "id": "73d045d8",
   "metadata": {},
   "outputs": [
    {
     "name": "stdout",
     "output_type": "stream",
     "text": [
      "Prime Numbers Set: {2, 3, 5, 7, 11}\n"
     ]
    }
   ],
   "source": [
    "prime_numbers = {2, 3, 5, 7, 11}\n",
    "print(\"Prime Numbers Set:\", prime_numbers)"
   ]
  },
  {
   "cell_type": "code",
   "execution_count": 82,
   "id": "27a256f1",
   "metadata": {},
   "outputs": [
    {
     "name": "stdout",
     "output_type": "stream",
     "text": [
      "Are Identical: True\n"
     ]
    }
   ],
   "source": [
    "set1 = {1, 2, 3}\n",
    "set2 = {3, 2, 1}\n",
    "are_identical = set1 == set2\n",
    "print(\"Are Identical:\", are_identical)"
   ]
  },
  {
   "cell_type": "code",
   "execution_count": 83,
   "id": "6688af0d",
   "metadata": {},
   "outputs": [
    {
     "name": "stdout",
     "output_type": "stream",
     "text": [
      "Frozen Set: frozenset({1, 2, 3, 4, 5})\n"
     ]
    }
   ],
   "source": [
    "frozen_set = frozenset({1, 2, 3, 4, 5})\n",
    "print(\"Frozen Set:\", frozen_set)"
   ]
  },
  {
   "cell_type": "code",
   "execution_count": 84,
   "id": "77d4434f",
   "metadata": {},
   "outputs": [
    {
     "name": "stdout",
     "output_type": "stream",
     "text": [
      "Are Disjoint: True\n"
     ]
    }
   ],
   "source": [
    "set1 = {1, 2, 3}\n",
    "set2 = {4, 5, 6}\n",
    "are_disjoint = set1.isdisjoint(set2)\n",
    "print(\"Are Disjoint:\", are_disjoint)"
   ]
  },
  {
   "cell_type": "code",
   "execution_count": 85,
   "id": "adbd786c",
   "metadata": {},
   "outputs": [
    {
     "name": "stdout",
     "output_type": "stream",
     "text": [
      "Squares Set: {1, 4, 9, 16, 25}\n"
     ]
    }
   ],
   "source": [
    "squares_set = {x ** 2 for x in range(1, 6)}\n",
    "print(\"Squares Set:\", squares_set)"
   ]
  },
  {
   "cell_type": "code",
   "execution_count": 86,
   "id": "93f9d772",
   "metadata": {},
   "outputs": [
    {
     "name": "stdout",
     "output_type": "stream",
     "text": [
      "Filtered Set (Odd Numbers): {1, 3, 5}\n"
     ]
    }
   ],
   "source": [
    "original_set = {1, 2, 3, 4, 5, 6}\n",
    "filtered_set = {x for x in original_set if x % 2 != 0}\n",
    "print(\"Filtered Set (Odd Numbers):\", filtered_set)"
   ]
  },
  {
   "cell_type": "code",
   "execution_count": 87,
   "id": "f2fee35c",
   "metadata": {},
   "outputs": [
    {
     "name": "stdout",
     "output_type": "stream",
     "text": [
      "Multiplied Set: {2, 4, 6, 8, 10}\n"
     ]
    }
   ],
   "source": [
    "original_set = {1, 2, 3, 4, 5}\n",
    "multiplied_set = {x * 2 for x in original_set}\n",
    "print(\"Multiplied Set:\", multiplied_set)"
   ]
  },
  {
   "cell_type": "code",
   "execution_count": 88,
   "id": "3def1cf4",
   "metadata": {},
   "outputs": [
    {
     "name": "stdout",
     "output_type": "stream",
     "text": [
      "Random Set: {8, 9, 6}\n"
     ]
    }
   ],
   "source": [
    "import random\n",
    "random_set = {random.randint(1, 10) for _ in range(5)}\n",
    "print(\"Random Set:\", random_set)"
   ]
  },
  {
   "cell_type": "code",
   "execution_count": 89,
   "id": "7e33b5bf",
   "metadata": {},
   "outputs": [
    {
     "name": "stdout",
     "output_type": "stream",
     "text": [
      "Is Empty: True\n"
     ]
    }
   ],
   "source": [
    "my_set = set()\n",
    "is_empty = not bool(my_set)\n",
    "print(\"Is Empty:\", is_empty)"
   ]
  },
  {
   "cell_type": "code",
   "execution_count": 90,
   "id": "b24911e6",
   "metadata": {},
   "outputs": [
    {
     "name": "stdout",
     "output_type": "stream",
     "text": [
      "Nested Set: {frozenset({3, 4}), frozenset({1, 2})}\n"
     ]
    }
   ],
   "source": [
    "nested_set = {frozenset({1, 2}), frozenset({3, 4})}\n",
    "print(\"Nested Set:\", nested_set)"
   ]
  },
  {
   "cell_type": "code",
   "execution_count": 91,
   "id": "9fd3e351",
   "metadata": {},
   "outputs": [
    {
     "name": "stdout",
     "output_type": "stream",
     "text": [
      "Set after removing: {1, 2, 4, 5}\n"
     ]
    }
   ],
   "source": [
    "my_set = {1, 2, 3, 4, 5}\n",
    "element_to_remove = 3\n",
    "my_set.discard(element_to_remove)\n",
    "print(\"Set after removing:\", my_set)"
   ]
  },
  {
   "cell_type": "code",
   "execution_count": 92,
   "id": "3f436377",
   "metadata": {},
   "outputs": [
    {
     "name": "stdout",
     "output_type": "stream",
     "text": [
      "Is Subset: False\n",
      "Is Superset: False\n"
     ]
    }
   ],
   "source": [
    "set1 = {1, 2, 3}\n",
    "set2 = {2, 3, 4}\n",
    "is_subset = set1.issubset(set2)\n",
    "is_superset = set1.issuperset(set2)\n",
    "print(\"Is Subset:\", is_subset)\n",
    "print(\"Is Superset:\", is_superset)"
   ]
  },
  {
   "cell_type": "code",
   "execution_count": 93,
   "id": "37427321",
   "metadata": {},
   "outputs": [
    {
     "name": "stdout",
     "output_type": "stream",
     "text": [
      "String Set: {'e', 'l', 'h', 'o'}\n"
     ]
    }
   ],
   "source": [
    "my_string = \"hello\"\n",
    "string_set = set(my_string)\n",
    "print(\"String Set:\", string_set)"
   ]
  },
  {
   "cell_type": "code",
   "execution_count": 94,
   "id": "c13f4bf3",
   "metadata": {},
   "outputs": [
    {
     "name": "stdout",
     "output_type": "stream",
     "text": [
      "Integer Set: {1, 2, 3}\n"
     ]
    }
   ],
   "source": [
    "string_set = {\"1\", \"2\", \"3\"}\n",
    "integer_set = {int(x) for x in string_set}\n",
    "print(\"Integer Set:\", integer_set)"
   ]
  },
  {
   "cell_type": "code",
   "execution_count": 95,
   "id": "862530a0",
   "metadata": {},
   "outputs": [
    {
     "name": "stdout",
     "output_type": "stream",
     "text": [
      "String Set: {'1', '3', '2'}\n"
     ]
    }
   ],
   "source": [
    "integer_set = {1, 2, 3}\n",
    "string_set = {str(x) for x in integer_set}\n",
    "print(\"String Set:\", string_set)"
   ]
  },
  {
   "cell_type": "code",
   "execution_count": 96,
   "id": "c1863c21",
   "metadata": {},
   "outputs": [
    {
     "name": "stdout",
     "output_type": "stream",
     "text": [
      "Tuple Set: {1, 2, 3, 4, 5}\n"
     ]
    }
   ],
   "source": [
    "my_tuple = (1, 2, 3, 4, 5)\n",
    "tuple_set = set(my_tuple)\n",
    "print(\"Tuple Set:\", tuple_set)"
   ]
  },
  {
   "cell_type": "code",
   "execution_count": 97,
   "id": "0eba582e",
   "metadata": {},
   "outputs": [
    {
     "name": "stdout",
     "output_type": "stream",
     "text": [
      "Set Tuple: (1, 2, 3, 4, 5)\n"
     ]
    }
   ],
   "source": [
    "my_set = {1, 2, 3, 4, 5}\n",
    "set_tuple = tuple(my_set)\n",
    "print(\"Set Tuple:\", set_tuple)"
   ]
  },
  {
   "cell_type": "code",
   "execution_count": 98,
   "id": "225b79a5",
   "metadata": {},
   "outputs": [
    {
     "name": "stdout",
     "output_type": "stream",
     "text": [
      "Max Value: 5\n"
     ]
    }
   ],
   "source": [
    "my_set = {1, 2, 3, 4, 5}\n",
    "max_value = max(my_set)\n",
    "print(\"Max Value:\", max_value)"
   ]
  },
  {
   "cell_type": "code",
   "execution_count": 99,
   "id": "463aabfa",
   "metadata": {},
   "outputs": [
    {
     "name": "stdout",
     "output_type": "stream",
     "text": [
      "Min Value: 1\n"
     ]
    }
   ],
   "source": [
    "my_set = {1, 2, 3, 4, 5}\n",
    "min_value = min(my_set)\n",
    "print(\"Min Value:\", min_value)"
   ]
  },
  {
   "cell_type": "code",
   "execution_count": 100,
   "id": "0f98e173",
   "metadata": {},
   "outputs": [
    {
     "name": "stdout",
     "output_type": "stream",
     "text": [
      "Enter elements separated by spaces: Enter elements separated by spaces\n",
      "User Set: {'separated', 'by', 'elements', 'Enter', 'spaces'}\n"
     ]
    }
   ],
   "source": [
    "user_input = input(\"Enter elements separated by spaces: \")\n",
    "user_list = user_input.split()\n",
    "user_set = set(user_list)\n",
    "print(\"User Set:\", user_set)"
   ]
  },
  {
   "cell_type": "code",
   "execution_count": 101,
   "id": "dbb6c96f",
   "metadata": {},
   "outputs": [
    {
     "name": "stdout",
     "output_type": "stream",
     "text": [
      "Is Intersection Empty: True\n"
     ]
    }
   ],
   "source": [
    "set1 = {1, 2, 3}\n",
    "set2 = {4, 5, 6}\n",
    "intersection_empty = len(set1.intersection(set2)) == 0\n",
    "print(\"Is Intersection Empty:\", intersection_empty)"
   ]
  },
  {
   "cell_type": "code",
   "execution_count": 102,
   "id": "d7a1f21d",
   "metadata": {},
   "outputs": [
    {
     "name": "stdout",
     "output_type": "stream",
     "text": [
      "Fibonacci Set: {0, 1, 2, 3}\n"
     ]
    }
   ],
   "source": [
    "fibonacci_set = {0, 1, 1, 2, 3}\n",
    "print(\"Fibonacci Set:\", fibonacci_set)"
   ]
  },
  {
   "cell_type": "code",
   "execution_count": 103,
   "id": "1449c150",
   "metadata": {},
   "outputs": [
    {
     "name": "stdout",
     "output_type": "stream",
     "text": [
      "Unique List: [1, 2, 3, 4, 5]\n"
     ]
    }
   ],
   "source": [
    "my_list = [1, 2, 2, 3, 4, 4, 5]\n",
    "unique_list = list(set(my_list))\n",
    "print(\"Unique List:\", unique_list)"
   ]
  },
  {
   "cell_type": "code",
   "execution_count": 104,
   "id": "9ce39e3f",
   "metadata": {},
   "outputs": [
    {
     "name": "stdout",
     "output_type": "stream",
     "text": [
      "Have Same Elements: True\n"
     ]
    }
   ],
   "source": [
    "set1 = {1, 2, 3}\n",
    "set2 = {3, 2, 1, 1}\n",
    "have_same_elements = set1 == set2\n",
    "print(\"Have Same Elements:\", have_same_elements)"
   ]
  },
  {
   "cell_type": "code",
   "execution_count": 105,
   "id": "d53842ce",
   "metadata": {},
   "outputs": [
    {
     "name": "stdout",
     "output_type": "stream",
     "text": [
      "Powers of 2 Set: {1, 2, 4, 8, 16}\n"
     ]
    }
   ],
   "source": [
    "n = 5\n",
    "powers_of_2_set = {2 ** i for i in range(n)}\n",
    "print(\"Powers of 2 Set:\", powers_of_2_set)"
   ]
  },
  {
   "cell_type": "code",
   "execution_count": 106,
   "id": "c8cae420",
   "metadata": {},
   "outputs": [
    {
     "name": "stdout",
     "output_type": "stream",
     "text": [
      "Common Elements: [3, 4, 5]\n"
     ]
    }
   ],
   "source": [
    "my_set = {1, 2, 3, 4, 5}\n",
    "my_list = [3, 4, 5, 6, 7]\n",
    "common_elements = list(my_set.intersection(my_list))\n",
    "print(\"Common Elements:\", common_elements)"
   ]
  },
  {
   "cell_type": "code",
   "execution_count": 107,
   "id": "f5cfad72",
   "metadata": {},
   "outputs": [
    {
     "name": "stdout",
     "output_type": "stream",
     "text": [
      "Triangular Numbers Set: {1, 3, 6, 10, 15}\n"
     ]
    }
   ],
   "source": [
    "n = 5\n",
    "triangular_numbers_set = {i * (i + 1) // 2 for i in range(1, n + 1)}\n",
    "print(\"Triangular Numbers Set:\", triangular_numbers_set)"
   ]
  },
  {
   "cell_type": "code",
   "execution_count": 108,
   "id": "01e6f473",
   "metadata": {},
   "outputs": [
    {
     "name": "stdout",
     "output_type": "stream",
     "text": [
      "Is Subset: True\n"
     ]
    }
   ],
   "source": [
    "set1 = {1, 2, 3, 4, 5}\n",
    "set2 = {2, 3, 4}\n",
    "is_subset = set2.issubset(set1)\n",
    "print(\"Is Subset:\", is_subset)"
   ]
  },
  {
   "cell_type": "code",
   "execution_count": 109,
   "id": "21c84ddc",
   "metadata": {},
   "outputs": [
    {
     "name": "stdout",
     "output_type": "stream",
     "text": [
      "Alternating Set: {0, 1}\n"
     ]
    }
   ],
   "source": [
    "n = 6\n",
    "alternating_set = {1 if i % 2 == 0 else 0 for i in range(n)}\n",
    "print(\"Alternating Set:\", alternating_set)"
   ]
  },
  {
   "cell_type": "code",
   "execution_count": 110,
   "id": "57a9bb8c",
   "metadata": {},
   "outputs": [
    {
     "name": "stdout",
     "output_type": "stream",
     "text": [
      "Merged Set: {1, 2, 3, 4, 5, 6, 7}\n"
     ]
    }
   ],
   "source": [
    "set1 = {1, 2, 3}\n",
    "set2 = {3, 4, 5}\n",
    "set3 = {5, 6, 7}\n",
    "merged_set = set1.union(set2, set3)\n",
    "print(\"Merged Set:\", merged_set)"
   ]
  },
  {
   "cell_type": "code",
   "execution_count": null,
   "id": "96028581",
   "metadata": {},
   "outputs": [],
   "source": []
  }
 ],
 "metadata": {
  "kernelspec": {
   "display_name": "Python 3 (ipykernel)",
   "language": "python",
   "name": "python3"
  },
  "language_info": {
   "codemirror_mode": {
    "name": "ipython",
    "version": 3
   },
   "file_extension": ".py",
   "mimetype": "text/x-python",
   "name": "python",
   "nbconvert_exporter": "python",
   "pygments_lexer": "ipython3",
   "version": "3.10.7"
  }
 },
 "nbformat": 4,
 "nbformat_minor": 5
}
