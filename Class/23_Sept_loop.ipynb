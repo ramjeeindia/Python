{
 "cells": [
  {
   "cell_type": "code",
   "execution_count": null,
   "id": "d4c97001-9def-45df-a580-e3f2dfe59c20",
   "metadata": {},
   "outputs": [],
   "source": [
    "# while loop\n",
    "while True:\n",
    "    print(\"This is infinite loop\")"
   ]
  },
  {
   "cell_type": "code",
   "execution_count": 2,
   "id": "e94080ed-fd65-4707-8f19-f304651e0a90",
   "metadata": {},
   "outputs": [
    {
     "name": "stdout",
     "output_type": "stream",
     "text": [
      "10\n",
      "9\n",
      "8\n",
      "7\n",
      "6\n",
      "5\n",
      "4\n",
      "3\n",
      "2\n"
     ]
    }
   ],
   "source": [
    "a =10\n",
    "while a>1: # if this condition is true then it will go for next line ..body of while loop\n",
    "    print(a) # give output one by one\n",
    "    a=a-1 # then print as per condition"
   ]
  },
  {
   "cell_type": "code",
   "execution_count": 3,
   "id": "d0ebab74-d864-4110-98cd-49c611877071",
   "metadata": {},
   "outputs": [],
   "source": [
    "# 0 is not > 1 that's why 0 is not printing"
   ]
  },
  {
   "cell_type": "code",
   "execution_count": 7,
   "id": "8cf800a1-19b9-45a6-b01d-bd2ff4749dc5",
   "metadata": {},
   "outputs": [
    {
     "name": "stdout",
     "output_type": "stream",
     "text": [
      "15\n"
     ]
    }
   ],
   "source": [
    "s = 0 # summation is 0 intially\n",
    "n = 1\n",
    "t = 5\n",
    "while n<=t:  # is n is lesser than t\n",
    "    s=s+n # addition\n",
    "    n=n+1\n",
    "print(s)\n",
    "    "
   ]
  },
  {
   "cell_type": "code",
   "execution_count": 8,
   "id": "ad7f5e55-ff3c-4624-a33b-4f590a44c5fb",
   "metadata": {},
   "outputs": [
    {
     "name": "stdout",
     "output_type": "stream",
     "text": [
      "120\n"
     ]
    }
   ],
   "source": [
    "s = 1 # summation is 0 intially\n",
    "n = 1\n",
    "t = 5\n",
    "while n<=t:  # is n is lesser than t\n",
    "    s=s*n # multiply\n",
    "    n=n+1\n",
    "print(s)"
   ]
  },
  {
   "cell_type": "code",
   "execution_count": 9,
   "id": "ac52d2f5-d648-4b3c-ac47-61f0e89c35b2",
   "metadata": {},
   "outputs": [
    {
     "name": "stdout",
     "output_type": "stream",
     "text": [
      "Enter a number for Table 19\n"
     ]
    },
    {
     "name": "stdout",
     "output_type": "stream",
     "text": [
      "19 * 1 = 19\n",
      "19 * 2 = 38\n",
      "19 * 3 = 57\n",
      "19 * 4 = 76\n",
      "19 * 5 = 95\n",
      "19 * 6 = 114\n",
      "19 * 7 = 133\n",
      "19 * 8 = 152\n",
      "19 * 9 = 171\n",
      "19 * 10 = 190\n"
     ]
    }
   ],
   "source": [
    "n = int(input(\"Enter a number for Table\"))\n",
    "i = 1\n",
    "while i <=10:\n",
    "    product = n * i\n",
    "    print(n,'*',i,'=',product)\n",
    "    i = i+1\n"
   ]
  },
  {
   "cell_type": "code",
   "execution_count": 11,
   "id": "1b6b7fa8-43d8-4874-83d3-e642ad1f9a21",
   "metadata": {},
   "outputs": [
    {
     "name": "stdout",
     "output_type": "stream",
     "text": [
      "5\n",
      "4\n",
      "3\n",
      "2\n",
      "1\n",
      "break time is over\n"
     ]
    }
   ],
   "source": [
    "# counter\n",
    "import time\n",
    "s =5\n",
    "while s>0:\n",
    "    print(s)\n",
    "    time.sleep(1)\n",
    "    s=s-1\n",
    "print(\"break time is over\")\n"
   ]
  },
  {
   "cell_type": "code",
   "execution_count": 13,
   "id": "fc681689-4d97-4304-be8d-7681c2af4f5d",
   "metadata": {},
   "outputs": [
    {
     "name": "stdout",
     "output_type": "stream",
     "text": [
      "5\n",
      "4\n",
      "3\n",
      "2\n",
      "1\n",
      "break time is over\n"
     ]
    }
   ],
   "source": [
    "import time\n",
    "s =5\n",
    "while s>0:\n",
    "    print(s)\n",
    "    time.sleep(5)  # time to take system sleep for 5 seconds # sleep then wakeup and do something\n",
    "    s=s-1\n",
    "print(\"break time is over\")"
   ]
  },
  {
   "cell_type": "code",
   "execution_count": 18,
   "id": "cf800e81-0fee-4a2f-8efc-f8fa21d5e92e",
   "metadata": {},
   "outputs": [
    {
     "name": "stdout",
     "output_type": "stream",
     "text": [
      "20\n"
     ]
    },
    {
     "name": "stdout",
     "output_type": "stream",
     "text": [
      "Enter your choice(1. biscuit, 2.chips, 3.redbull, 4.coke) 2\n"
     ]
    },
    {
     "name": "stdout",
     "output_type": "stream",
     "text": [
      "take your chips\n",
      "15\n"
     ]
    },
    {
     "name": "stdout",
     "output_type": "stream",
     "text": [
      "Enter your choice(1. biscuit, 2.chips, 3.redbull, 4.coke) 3\n"
     ]
    },
    {
     "name": "stdout",
     "output_type": "stream",
     "text": [
      "take your redbull\n",
      "5\n"
     ]
    },
    {
     "name": "stdout",
     "output_type": "stream",
     "text": [
      "Enter your choice(1. biscuit, 2.chips, 3.redbull, 4.coke) 4\n"
     ]
    },
    {
     "name": "stdout",
     "output_type": "stream",
     "text": [
      "take your coke\n",
      "you dont have enough balance in your wallet\n"
     ]
    }
   ],
   "source": [
    "## qr code in vending machine\n",
    "money_in_hand =20\n",
    "while money_in_hand >=5:  # if hv 5 rs\n",
    "    print(money_in_hand)\n",
    "    choice = int(input(\"Enter your choice(1. biscuit, 2.chips, 3.redbull, 4.coke)\"))\n",
    "    if choice ==1:\n",
    "        print(\"take your biscuit\")\n",
    "        money_in_hand = money_in_hand - 4\n",
    "    elif choice ==2:\n",
    "        print(\"take your chips\")\n",
    "        money_in_hand = money_in_hand - 5\n",
    "    elif choice ==3:\n",
    "        print(\"take your redbull\")\n",
    "        money_in_hand = money_in_hand - 10\n",
    "    elif choice ==4:\n",
    "        print(\"take your coke\")\n",
    "        money_in_hand = money_in_hand - 8\n",
    "    else:\n",
    "        print(\"you have entered the correct choice\")\n",
    "print(\"you dont have enough balance in your wallet\")\n",
    "    "
   ]
  },
  {
   "cell_type": "code",
   "execution_count": 1,
   "id": "90d51571-34c5-4501-b1e1-2d71ad0b35c2",
   "metadata": {},
   "outputs": [
    {
     "name": "stdout",
     "output_type": "stream",
     "text": [
      "enter s to stop the timer\n"
     ]
    },
    {
     "name": "stdout",
     "output_type": "stream",
     "text": [
      "enter s for stop s\n"
     ]
    },
    {
     "name": "stdout",
     "output_type": "stream",
     "text": [
      "start the class break time is over\n"
     ]
    }
   ],
   "source": [
    "import time\n",
    "stop = False\n",
    "while not stop :\n",
    "    print(\"enter s to stop the timer\")\n",
    "    time.sleep(1)\n",
    "    press_stop=input(\"enter s for stop\")\n",
    "\n",
    "    if press_stop.lower() =='s':\n",
    "        stop = True\n",
    "print(\"start the class break time is over\")"
   ]
  },
  {
   "cell_type": "code",
   "execution_count": 2,
   "id": "d1aa4075-4736-4c69-bef9-93b06921ef88",
   "metadata": {},
   "outputs": [
    {
     "name": "stdout",
     "output_type": "stream",
     "text": [
      "enter s to stop the timer\n"
     ]
    },
    {
     "name": "stdout",
     "output_type": "stream",
     "text": [
      "enter s for stop h\n"
     ]
    },
    {
     "name": "stdout",
     "output_type": "stream",
     "text": [
      "enter s to stop the timer\n"
     ]
    },
    {
     "name": "stdout",
     "output_type": "stream",
     "text": [
      "enter s for stop \n"
     ]
    },
    {
     "name": "stdout",
     "output_type": "stream",
     "text": [
      "enter s to stop the timer\n"
     ]
    },
    {
     "name": "stdout",
     "output_type": "stream",
     "text": [
      "enter s for stop j\n"
     ]
    },
    {
     "name": "stdout",
     "output_type": "stream",
     "text": [
      "enter s to stop the timer\n"
     ]
    },
    {
     "name": "stdout",
     "output_type": "stream",
     "text": [
      "enter s for stop \n"
     ]
    },
    {
     "name": "stdout",
     "output_type": "stream",
     "text": [
      "enter s to stop the timer\n"
     ]
    },
    {
     "name": "stdout",
     "output_type": "stream",
     "text": [
      "enter s for stop \n"
     ]
    },
    {
     "name": "stdout",
     "output_type": "stream",
     "text": [
      "enter s to stop the timer\n"
     ]
    },
    {
     "name": "stdout",
     "output_type": "stream",
     "text": [
      "enter s for stop s\n"
     ]
    },
    {
     "name": "stdout",
     "output_type": "stream",
     "text": [
      "start the class break time is over\n"
     ]
    }
   ],
   "source": [
    "import time\n",
    "stop = False\n",
    "while not stop :\n",
    "    print(\"enter s to stop the timer\")\n",
    "    time.sleep(1)\n",
    "    press_stop=input(\"enter s for stop\")\n",
    "\n",
    "    if press_stop.lower() =='s':\n",
    "        stop = True\n",
    "print(\"start the class break time is over\")  ###timee is continue till correct input"
   ]
  },
  {
   "cell_type": "code",
   "execution_count": 3,
   "id": "abac549a-75da-4706-b9c0-7559c4f0e54e",
   "metadata": {},
   "outputs": [
    {
     "name": "stdout",
     "output_type": "stream",
     "text": [
      "5\n"
     ]
    },
    {
     "name": "stdout",
     "output_type": "stream",
     "text": [
      "enter anything to stop u\n"
     ]
    },
    {
     "name": "stdout",
     "output_type": "stream",
     "text": [
      "break over\n"
     ]
    }
   ],
   "source": [
    "import time \n",
    "s=5\n",
    "while s>0 :\n",
    "    print(s)\n",
    "    time.sleep(1)\n",
    "    i=input(\"enter anything to stop\")\n",
    "    if i:\n",
    "        break\n",
    "    s-=1\n",
    "print(\"break over\")\n"
   ]
  },
  {
   "cell_type": "code",
   "execution_count": 5,
   "id": "1d6383ee-100d-4bf0-b586-fa3ef53cb704",
   "metadata": {},
   "outputs": [
    {
     "name": "stdout",
     "output_type": "stream",
     "text": [
      "Enter UserID:  ram\n",
      "Enter UserID:  ramjee\n",
      "Enter your Password:  ty\n",
      "Enter UserID:  ramjee\n",
      "Enter your Password:  yuo\n"
     ]
    },
    {
     "name": "stdout",
     "output_type": "stream",
     "text": [
      "You have attempted maximum times, and your account is locked.\n"
     ]
    }
   ],
   "source": [
    "user_id = \"ramjee\"\n",
    "password = \"ramjee@123\"\n",
    "counter = 1\n",
    "user_id_check = False\n",
    "\n",
    "while counter <= 3:\n",
    "    userid = input(\"Enter UserID: \")\n",
    "    if userid == user_id:\n",
    "        user_id_check = True\n",
    "        pswd = input(\"Enter your Password: \")\n",
    "        if pswd == password:\n",
    "            print(\"You have logged in successfully.\")\n",
    "            break\n",
    "    counter = counter + 1\n",
    "if counter > 3 or not user_id_check:\n",
    "    print(\"You have attempted maximum times and your account is locked.\")\n",
    "\n",
    "        \n"
   ]
  },
  {
   "cell_type": "code",
   "execution_count": 6,
   "id": "d72f6762-29ba-4994-8d87-795b5d69f6cc",
   "metadata": {},
   "outputs": [
    {
     "name": "stdout",
     "output_type": "stream",
     "text": [
      "Enter UserID:  ytr\n"
     ]
    },
    {
     "name": "stdout",
     "output_type": "stream",
     "text": [
      "your user id is incorrect try again\n"
     ]
    },
    {
     "name": "stdout",
     "output_type": "stream",
     "text": [
      "Enter your Password:  123\n",
      "Enter UserID:  234\n"
     ]
    },
    {
     "name": "stdout",
     "output_type": "stream",
     "text": [
      "your user id is incorrect try again\n"
     ]
    },
    {
     "name": "stdout",
     "output_type": "stream",
     "text": [
      "Enter your Password:  234\n",
      "Enter UserID:  234\n"
     ]
    },
    {
     "name": "stdout",
     "output_type": "stream",
     "text": [
      "your user id is incorrect try again\n"
     ]
    },
    {
     "name": "stdout",
     "output_type": "stream",
     "text": [
      "Enter your Password:  234\n"
     ]
    },
    {
     "name": "stdout",
     "output_type": "stream",
     "text": [
      "You have attempted maximum times, and your account is locked.\n"
     ]
    }
   ],
   "source": [
    "user_id = \"ramjee\"\n",
    "password = \"ramjee@123\"\n",
    "counter = 1\n",
    "user_id_check = False\n",
    "\n",
    "while counter <= 3:\n",
    "    userid = input(\"Enter UserID: \")\n",
    "    if userid == user_id:\n",
    "        user_id_check = True\n",
    "    else :\n",
    "        print(\"your user id is incorrect try again\")\n",
    "        pswd = input(\"Enter your Password: \")\n",
    "        if pswd == password:\n",
    "            print(\"You have logged in successfully.\")\n",
    "            break\n",
    "    counter = counter + 1\n",
    "if counter > 3 :\n",
    "    print(\"You have attempted maximum times, and your account is locked.\")"
   ]
  },
  {
   "cell_type": "code",
   "execution_count": 7,
   "id": "f374ec90-46e0-49d8-8ae1-2c32d12eb816",
   "metadata": {},
   "outputs": [
    {
     "name": "stdout",
     "output_type": "stream",
     "text": [
      "To-Do List Menu:\n",
      "1. Add a task\n",
      "2. View tasks\n",
      "3. Mark task as completed\n",
      "4. Quit\n"
     ]
    },
    {
     "name": "stdout",
     "output_type": "stream",
     "text": [
      "Enter your choice:  1\n",
      "Enter a task:  Write code\n"
     ]
    },
    {
     "name": "stdout",
     "output_type": "stream",
     "text": [
      "Task 'Write code' added to the to-do list.\n",
      "To-Do List Menu:\n",
      "1. Add a task\n",
      "2. View tasks\n",
      "3. Mark task as completed\n",
      "4. Quit\n"
     ]
    },
    {
     "name": "stdout",
     "output_type": "stream",
     "text": [
      "Enter your choice:  2\n"
     ]
    },
    {
     "name": "stdout",
     "output_type": "stream",
     "text": [
      "To-Do List:\n",
      "1. Write code\n",
      "To-Do List Menu:\n",
      "1. Add a task\n",
      "2. View tasks\n",
      "3. Mark task as completed\n",
      "4. Quit\n"
     ]
    },
    {
     "name": "stdout",
     "output_type": "stream",
     "text": [
      "Enter your choice:  3\n",
      "Enter the task number to mark as completed:  4\n"
     ]
    },
    {
     "name": "stdout",
     "output_type": "stream",
     "text": [
      "Invalid task number.\n",
      "To-Do List Menu:\n",
      "1. Add a task\n",
      "2. View tasks\n",
      "3. Mark task as completed\n",
      "4. Quit\n"
     ]
    },
    {
     "name": "stdout",
     "output_type": "stream",
     "text": [
      "Enter your choice:  4\n"
     ]
    }
   ],
   "source": [
    "# to do list\n",
    "# Initialize an empty to-do list\n",
    "todo_list = []\n",
    "\n",
    "while True:\n",
    "    # Display menu options\n",
    "    print(\"To-Do List Menu:\")\n",
    "    print(\"1. Add a task\")\n",
    "    print(\"2. View tasks\")\n",
    "    print(\"3. Mark task as completed\")\n",
    "    print(\"4. Quit\")\n",
    "\n",
    "    choice = input(\"Enter your choice: \")\n",
    "\n",
    "    if choice == \"1\":\n",
    "        task = input(\"Enter a task: \")\n",
    "        todo_list.append(task)\n",
    "        print(f\"Task '{task}' added to the to-do list.\")\n",
    "\n",
    "    elif choice == \"2\":\n",
    "        if not todo_list:\n",
    "            print(\"Your to-do list is empty.\")\n",
    "        else:\n",
    "            print(\"To-Do List:\")\n",
    "            for index, task in enumerate(todo_list, start=1):\n",
    "                print(f\"{index}. {task}\")\n",
    "\n",
    "    elif choice == \"3\":\n",
    "        if not todo_list:\n",
    "            print(\"Your to-do list is empty.\")\n",
    "        else:\n",
    "            try:\n",
    "                task_number = int(input(\"Enter the task number to mark as completed: \"))\n",
    "                if 1 <= task_number <= len(todo_list):\n",
    "                    completed_task = todo_list.pop(task_number - 1)\n",
    "                    print(f\"Task '{completed_task}' marked as completed.\")\n",
    "                else:\n",
    "                    print(\"Invalid task number.\")\n",
    "            except ValueError:\n",
    "                print(\"Invalid input. Please enter a valid task number.\")\n",
    "\n",
    "    elif choice == \"4\":\n",
    "        break\n",
    "\n",
    "    else:\n",
    "        print(\"Invalid choice. Please select a valid option.\")\n"
   ]
  },
  {
   "cell_type": "code",
   "execution_count": 9,
   "id": "774b6c83-fd5f-408c-9c78-c46388d819d2",
   "metadata": {},
   "outputs": [
    {
     "name": "stdout",
     "output_type": "stream",
     "text": [
      "anter your to do task write correct code\n",
      "enter n id you want to add in todo list or enter y if you want  to add more n\n",
      "anter your to do task hi \n",
      "enter n id you want to add in todo list or enter y if you want  to add more y\n"
     ]
    },
    {
     "name": "stdout",
     "output_type": "stream",
     "text": [
      "my to do list is  ['write correct code', 'hi ']\n"
     ]
    }
   ],
   "source": [
    "todo_list =[]\n",
    "end_of_todo = 'n'\n",
    "while end_of_todo !='y':\n",
    "    todo_item = input(\"anter your to do task\")\n",
    "    add_todo = todo_list.append(todo_item)\n",
    "    end_of_todo = input(\"enter n id you want to add in todo list or enter y if you want  to add more\")\n",
    "print(\"my to do list is \",todo_list)\n",
    "    \n",
    "    \n"
   ]
  },
  {
   "cell_type": "code",
   "execution_count": 10,
   "id": "15d50c90-2b94-4b59-8590-d10cbc0df8c6",
   "metadata": {},
   "outputs": [],
   "source": [
    "def fact(n):\n",
    "    if n==0:\n",
    "        return 1\n",
    "    else:\n",
    "        return (n*fact(n-1))  # if write 5 then 5*4 agin give 3 then 5*4*3 again n-1 bcm 2 then 5*4*3*2\n",
    "    "
   ]
  },
  {
   "cell_type": "code",
   "execution_count": 11,
   "id": "180138d0-3002-4875-bf75-953e5b633d4f",
   "metadata": {},
   "outputs": [
    {
     "data": {
      "text/plain": [
       "120"
      ]
     },
     "execution_count": 11,
     "metadata": {},
     "output_type": "execute_result"
    }
   ],
   "source": [
    "fact(5)"
   ]
  },
  {
   "cell_type": "code",
   "execution_count": 12,
   "id": "bdc4ff39-17ed-49af-802d-435b3f1673a2",
   "metadata": {},
   "outputs": [],
   "source": [
    "# for fact(900) the recursive call is too much time to take and cpu high"
   ]
  },
  {
   "cell_type": "code",
   "execution_count": 20,
   "id": "d3107bfc-768a-4dc0-8f84-97ef69871cfc",
   "metadata": {},
   "outputs": [],
   "source": [
    "# fibnaki 10th nos\n",
    "def fib(n):\n",
    "    if n<=1:\n",
    "        return n\n",
    "    else:\n",
    "        return fib(n-2)+fib(n-1) # summation of prev 2 nos\n",
    "\n",
    "        \n"
   ]
  },
  {
   "cell_type": "code",
   "execution_count": 22,
   "id": "07315ac6-b47e-4f98-a273-c999712a6418",
   "metadata": {},
   "outputs": [
    {
     "data": {
      "text/plain": [
       "55"
      ]
     },
     "execution_count": 22,
     "metadata": {},
     "output_type": "execute_result"
    }
   ],
   "source": [
    "fib(10)"
   ]
  },
  {
   "cell_type": "code",
   "execution_count": 21,
   "id": "b38003c2-ca40-4cbb-a548-85f970e29cc4",
   "metadata": {},
   "outputs": [
    {
     "data": {
      "text/plain": [
       "5"
      ]
     },
     "execution_count": 21,
     "metadata": {},
     "output_type": "execute_result"
    }
   ],
   "source": [
    "fib(5)"
   ]
  },
  {
   "cell_type": "code",
   "execution_count": 23,
   "id": "30822874-64e3-4ec9-834d-206c8db61e55",
   "metadata": {},
   "outputs": [
    {
     "data": {
      "text/plain": [
       "21"
      ]
     },
     "execution_count": 23,
     "metadata": {},
     "output_type": "execute_result"
    }
   ],
   "source": [
    "fib(8)"
   ]
  },
  {
   "cell_type": "code",
   "execution_count": 24,
   "id": "d555da73-5567-4a76-a14c-3dcda0bc2321",
   "metadata": {},
   "outputs": [
    {
     "data": {
      "text/plain": [
       "1"
      ]
     },
     "execution_count": 24,
     "metadata": {},
     "output_type": "execute_result"
    }
   ],
   "source": [
    "fib(1)"
   ]
  },
  {
   "cell_type": "code",
   "execution_count": 25,
   "id": "7a46c3a4-916a-4084-882b-4c49b506b979",
   "metadata": {},
   "outputs": [
    {
     "data": {
      "text/plain": [
       "6"
      ]
     },
     "execution_count": 25,
     "metadata": {},
     "output_type": "execute_result"
    }
   ],
   "source": [
    "# summation of digit 346754\n",
    "\n",
    "def sum_of_digit(n):\n",
    "    sum=0\n",
    "    while n!=0:\n",
    "        d=n%10\n",
    "        sum=sum+d\n",
    "        n=n//10\n",
    "    return sum\n",
    "sum_of_digit(123)\n",
    "\n",
    "\n"
   ]
  },
  {
   "cell_type": "code",
   "execution_count": 27,
   "id": "8dd485ab-3a92-40ed-be47-bd0eaaff52b6",
   "metadata": {},
   "outputs": [
    {
     "data": {
      "text/plain": [
       "12"
      ]
     },
     "execution_count": 27,
     "metadata": {},
     "output_type": "execute_result"
    }
   ],
   "source": [
    "123//10"
   ]
  },
  {
   "cell_type": "code",
   "execution_count": 28,
   "id": "4e4c998c-3753-4e4b-951f-305dbae217ce",
   "metadata": {},
   "outputs": [
    {
     "data": {
      "text/plain": [
       "12.3"
      ]
     },
     "execution_count": 28,
     "metadata": {},
     "output_type": "execute_result"
    }
   ],
   "source": [
    "123/10"
   ]
  },
  {
   "cell_type": "code",
   "execution_count": 29,
   "id": "ec7e4b05-5d86-4092-9aab-71afc583d400",
   "metadata": {},
   "outputs": [],
   "source": [
    "def get_sum(n):\n",
    "    sum=0\n",
    "    for digit in str(n):\n",
    "        sum += int(digit)\n",
    "    return sum"
   ]
  },
  {
   "cell_type": "code",
   "execution_count": 30,
   "id": "cddc0874-de1d-4089-a863-6e28e9e1cf12",
   "metadata": {},
   "outputs": [
    {
     "data": {
      "text/plain": [
       "9"
      ]
     },
     "execution_count": 30,
     "metadata": {},
     "output_type": "execute_result"
    }
   ],
   "source": [
    "get_sum(234)"
   ]
  },
  {
   "cell_type": "code",
   "execution_count": 1,
   "id": "4368e5f4-a880-49b2-97f8-c63e365985ff",
   "metadata": {},
   "outputs": [],
   "source": [
    "def sum_digit(n): #recursion\n",
    "    if n <=9 :\n",
    "        return n\n",
    "    else:\n",
    "        return n%10 + sum_digit(n//10)"
   ]
  },
  {
   "cell_type": "code",
   "execution_count": 2,
   "id": "70da2244",
   "metadata": {},
   "outputs": [
    {
     "data": {
      "text/plain": [
       "12"
      ]
     },
     "execution_count": 2,
     "metadata": {},
     "output_type": "execute_result"
    }
   ],
   "source": [
    "sum_digit(345)"
   ]
  },
  {
   "cell_type": "code",
   "execution_count": 3,
   "id": "de4eb34a",
   "metadata": {},
   "outputs": [],
   "source": [
    "l = [3,4,5,6,76]\n"
   ]
  },
  {
   "cell_type": "code",
   "execution_count": 4,
   "id": "01b094d7",
   "metadata": {},
   "outputs": [
    {
     "data": {
      "text/plain": [
       "76"
      ]
     },
     "execution_count": 4,
     "metadata": {},
     "output_type": "execute_result"
    }
   ],
   "source": [
    "max(l)"
   ]
  },
  {
   "cell_type": "code",
   "execution_count": 7,
   "id": "85628237",
   "metadata": {},
   "outputs": [],
   "source": [
    "# find max using recursive\n",
    "def max_find(l):\n",
    "    if len(l)==1:\n",
    "        return l[0]\n",
    "    else:\n",
    "        return max(l[0],max_find(l[l:]))"
   ]
  },
  {
   "cell_type": "code",
   "execution_count": 8,
   "id": "f6e7ba74",
   "metadata": {},
   "outputs": [
    {
     "ename": "TypeError",
     "evalue": "slice indices must be integers or None or have an __index__ method",
     "output_type": "error",
     "traceback": [
      "\u001b[1;31m---------------------------------------------------------------------------\u001b[0m",
      "\u001b[1;31mTypeError\u001b[0m                                 Traceback (most recent call last)",
      "\u001b[1;32md:\\Data Science\\Python Coding\\23_Sept_loop.ipynb Cell 35\u001b[0m line \u001b[0;36m1\n\u001b[1;32m----> <a href='vscode-notebook-cell:/d%3A/Data%20Science/Python%20Coding/23_Sept_loop.ipynb#X50sZmlsZQ%3D%3D?line=0'>1</a>\u001b[0m max_find([\u001b[39m3\u001b[39;49m,\u001b[39m4\u001b[39;49m,\u001b[39m5\u001b[39;49m,\u001b[39m6\u001b[39;49m,\u001b[39m76\u001b[39;49m])\n",
      "\u001b[1;32md:\\Data Science\\Python Coding\\23_Sept_loop.ipynb Cell 35\u001b[0m line \u001b[0;36m6\n\u001b[0;32m      <a href='vscode-notebook-cell:/d%3A/Data%20Science/Python%20Coding/23_Sept_loop.ipynb#X50sZmlsZQ%3D%3D?line=3'>4</a>\u001b[0m     \u001b[39mreturn\u001b[39;00m l[\u001b[39m0\u001b[39m]\n\u001b[0;32m      <a href='vscode-notebook-cell:/d%3A/Data%20Science/Python%20Coding/23_Sept_loop.ipynb#X50sZmlsZQ%3D%3D?line=4'>5</a>\u001b[0m \u001b[39melse\u001b[39;00m:\n\u001b[1;32m----> <a href='vscode-notebook-cell:/d%3A/Data%20Science/Python%20Coding/23_Sept_loop.ipynb#X50sZmlsZQ%3D%3D?line=5'>6</a>\u001b[0m     \u001b[39mreturn\u001b[39;00m \u001b[39mmax\u001b[39m(l[\u001b[39m0\u001b[39m],max_find(l[l:]))\n",
      "\u001b[1;31mTypeError\u001b[0m: slice indices must be integers or None or have an __index__ method"
     ]
    }
   ],
   "source": [
    "max_find([3,4,5,6,76])"
   ]
  },
  {
   "cell_type": "code",
   "execution_count": 9,
   "id": "c605da91",
   "metadata": {},
   "outputs": [
    {
     "data": {
      "text/plain": [
       "25"
      ]
     },
     "execution_count": 9,
     "metadata": {},
     "output_type": "execute_result"
    }
   ],
   "source": [
    "#power\n",
    "5**2"
   ]
  },
  {
   "cell_type": "code",
   "execution_count": 10,
   "id": "e87d810a",
   "metadata": {},
   "outputs": [
    {
     "data": {
      "text/plain": [
       "3125"
      ]
     },
     "execution_count": 10,
     "metadata": {},
     "output_type": "execute_result"
    }
   ],
   "source": [
    "pow(5,5)"
   ]
  },
  {
   "cell_type": "code",
   "execution_count": 11,
   "id": "efffaad1",
   "metadata": {},
   "outputs": [],
   "source": [
    "def power_fun(n,k):\n",
    "    if k==0:\n",
    "        return 1\n",
    "    else:\n",
    "        return n*power_fun(n,k-1)  # n=2 n,4-1  # 2*2 to pow3"
   ]
  },
  {
   "cell_type": "code",
   "execution_count": 12,
   "id": "865cbcdf",
   "metadata": {},
   "outputs": [
    {
     "data": {
      "text/plain": [
       "16"
      ]
     },
     "execution_count": 12,
     "metadata": {},
     "output_type": "execute_result"
    }
   ],
   "source": [
    "power_fun(2,4)"
   ]
  },
  {
   "cell_type": "code",
   "execution_count": 13,
   "id": "bee9b233",
   "metadata": {},
   "outputs": [],
   "source": [
    "def power_fun(n,k):\n",
    "    if k==0:\n",
    "        return 1\n",
    "    else:\n",
    "        return n**k  # another way"
   ]
  },
  {
   "cell_type": "code",
   "execution_count": 14,
   "id": "1e6381de",
   "metadata": {},
   "outputs": [
    {
     "data": {
      "text/plain": [
       "16"
      ]
     },
     "execution_count": 14,
     "metadata": {},
     "output_type": "execute_result"
    }
   ],
   "source": [
    "power_fun(2,4)"
   ]
  },
  {
   "cell_type": "code",
   "execution_count": null,
   "id": "dd785d13",
   "metadata": {},
   "outputs": [],
   "source": []
  }
 ],
 "metadata": {
  "kernelspec": {
   "display_name": "Python 3 (ipykernel)",
   "language": "python",
   "name": "python3"
  },
  "language_info": {
   "codemirror_mode": {
    "name": "ipython",
    "version": 3
   },
   "file_extension": ".py",
   "mimetype": "text/x-python",
   "name": "python",
   "nbconvert_exporter": "python",
   "pygments_lexer": "ipython3",
   "version": "3.11.4"
  }
 },
 "nbformat": 4,
 "nbformat_minor": 5
}
