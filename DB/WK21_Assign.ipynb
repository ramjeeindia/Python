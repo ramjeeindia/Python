{
 "cells": [
  {
   "cell_type": "markdown",
   "metadata": {},
   "source": [
    "## 1.What is a Database? Explain with an example on why should we need a database\n",
    "\n",
    "A database is a collection of data that is stored and accessed electronically. \n",
    "Databases are used to store, maintain, and access any type of data. \n",
    "They can be used to support a wide range of activities, including: Data storage, Data analysis, Data management. \n",
    "\n",
    "Databases are usually accessed through a database management system (DBMS). A DBMS is an integrated set of computer software that allows users to interact with one or more databases\n",
    "\n",
    "Here are some examples of databases: \n",
    "1. An online telephone directory\n",
    "2. A customer table\n",
    "3. An order table\n"
   ]
  },
  {
   "cell_type": "markdown",
   "metadata": {},
   "source": [
    "## 2. Write a short note on File base storage system. Explain the major challenges of a File-based storage system\n",
    "\n",
    "File-based storage systems are hierarchical storage systems that store data in files and folders. The data is organized and retrieved using a limited amount of metadata that tells the computer exactly where the file itself is kept.\n",
    "\n",
    "Major challenges of file-based storage systems\n",
    "Scalability:\n",
    "File-based storage systems can be difficult to scale to large sizes. As the amount of data stored increases, the system can become slow and inefficient.\n",
    "\n",
    "Reliability:\n",
    "File-based storage systems are vulnerable to data loss or corruption. If a file or folder is corrupted, it can be difficult or impossible to recover the data.\n",
    "\n",
    "Security:\n",
    "File-based storage systems can be vulnerable to security breaches. If a user or application is able to access unauthorized files, it can result in data loss or theft."
   ]
  },
  {
   "cell_type": "markdown",
   "metadata": {},
   "source": [
    "## 3.What is DBMS? What was the need for DBMS\n",
    "\n",
    "Database Management Systems (DBMS) are software systems used to store, retrieve, and run queries on data. A DBMS serves as an interface between an end-user and a database, allowing users to create, read, update, and delete data in the database.\n",
    "eg .SQL, Monogo DB\n",
    "\n",
    "The need for DBMSs was to: \n",
    "\n",
    "Provide data independence and efficient access of data\n",
    "\n",
    "Reduce application development time\n",
    "\n",
    "Ensure security and data integrity\n",
    "\n",
    "Provide uniform data administration\n",
    "\n",
    "Overcome the failures of file systems"
   ]
  },
  {
   "cell_type": "markdown",
   "metadata": {},
   "source": [
    "## 4.Explain 5 challenges of file-based storage system which was tackled by DBMS\n",
    "\n",
    "Here are some challenges of file-based storage systems that are tackled by DBMS: \n",
    "Data security :\n",
    "File-based systems have low data security because data is easily accessible and there are no security mechanisms to protect it.\n",
    "\n",
    "Data inconsistency :\n",
    "Data redundancy is the main cause of data inconsistency. For example, if you change an employee's mobile number in one place but forget to edit it in another place, this would lead to data inconsistency.\n",
    "\n",
    "Data isolation :\n",
    "Data is scattered in various files, and files may be in different formats. This makes it difficult to write new application programs to retrieve the appropriate data.\n",
    "\n",
    "Concurrency problem :\n",
    "Concurrent access to data means more than one user is accessing the same data at the same time. Anomalies occur when changes made by one user get lost because of changes made by another user. File systems do not provide any procedure to stop anomalies.\n",
    "\n",
    "Atomicity :\n",
    "File processing systems do not provide the facility to ensure the atomicity of data."
   ]
  },
  {
   "cell_type": "markdown",
   "metadata": {},
   "source": [
    "## 5.List out the different types of classification in DBMS and explain them in depth\n",
    "\n",
    "DBMS can be classified into two types: Relational Database Management System (RDBMS) and Non-Relational Database Management System (NoSQL or Non-SQL) RDBMS: Data is organized in the form of tables and each table has a set of rows and columns. The data is related to each other through primary and foreign keys."
   ]
  },
  {
   "cell_type": "markdown",
   "metadata": {},
   "source": [
    "## 6.What is the significance of Data Modelling and explain the types of data modeling\n",
    "\n",
    "Data models are a foundational element of software development and analytics. They provide a standardised method for defining and formatting database contents consistently across systems, enabling different applications to share the same data.\n",
    "\n",
    "Here are some types of data modeling: \n",
    "Associative data model: Identifies relationships between different pieces of information\n",
    "\n",
    "Hierarchical model: Organizes data in a tree structure with one root\n",
    "\n",
    "Object-oriented model: Bridges the gap between an object-oriented model and a relational model\n",
    "\n",
    "Physical data model: Describes a database-specific implementation of the data model\n",
    "\n",
    "Network model: Allows faster data access than the hierarchical model\n",
    "\n",
    "Conceptual model: Focuses on finding the data used in a business"
   ]
  },
  {
   "cell_type": "markdown",
   "metadata": {},
   "source": [
    "## 7.Explain 3 schema architecture along with its advantages.\n",
    "\n",
    "Advantages of Three schema architecture of DBMS\n",
    "Data Independence: The separation of the three schema layers (external, conceptual, and internal) provides data independence. Changes made to one layer do not affect the other layers, allowing modifications to be made without disrupting the entire system."
   ]
  }
 ],
 "metadata": {
  "kernelspec": {
   "display_name": "Python 3",
   "language": "python",
   "name": "python3"
  },
  "language_info": {
   "codemirror_mode": {
    "name": "ipython",
    "version": 3
   },
   "file_extension": ".py",
   "mimetype": "text/x-python",
   "name": "python",
   "nbconvert_exporter": "python",
   "pygments_lexer": "ipython3",
   "version": "3.11.4"
  }
 },
 "nbformat": 4,
 "nbformat_minor": 2
}
